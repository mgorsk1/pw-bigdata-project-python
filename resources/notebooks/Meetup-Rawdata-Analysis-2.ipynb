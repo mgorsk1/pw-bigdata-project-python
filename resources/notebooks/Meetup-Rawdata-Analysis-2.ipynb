{
 "cells": [
  {
   "cell_type": "markdown",
   "metadata": {},
   "source": [
    "### Load Data"
   ]
  },
  {
   "cell_type": "markdown",
   "metadata": {},
   "source": [
    "#### Connect to Spark & Elasticsearch, gather raw data"
   ]
  },
  {
   "cell_type": "code",
   "execution_count": 1,
   "metadata": {},
   "outputs": [
    {
     "name": "stdout",
     "output_type": "stream",
     "text": [
      "Collecting findspark\n",
      "  Downloading https://files.pythonhosted.org/packages/b1/c8/e6e1f6a303ae5122dc28d131b5a67c5eb87cbf8f7ac5b9f87764ea1b1e1e/findspark-1.3.0-py2.py3-none-any.whl\n",
      "Collecting plotly\n",
      "\u001b[?25l  Downloading https://files.pythonhosted.org/packages/3e/77/905effe9361395d3e094ffd2b54b4085d339a7b7de9c2c91fa55ec257422/plotly-3.5.0-py2.py3-none-any.whl (38.3MB)\n",
      "\u001b[K    100% |████████████████████████████████| 38.4MB 1.0MB/s ta 0:00:011    45% |██████████████▋                 | 17.6MB 18.0MB/s eta 0:00:02    69% |██████████████████████▍         | 26.8MB 29.3MB/s eta 0:00:01    91% |█████████████████████████████▎  | 35.1MB 11.2MB/s eta 0:00:01    94% |██████████████████████████████▍ | 36.4MB 5.6MB/s eta 0:00:01\n",
      "\u001b[?25hCollecting colorlover\n",
      "  Downloading https://files.pythonhosted.org/packages/9a/53/f696e4480b1d1de3b1523991dea71cf417c8b19fe70c704da164f3f90972/colorlover-0.3.0-py3-none-any.whl\n",
      "Requirement already satisfied: scipy in /opt/conda/lib/python3.6/site-packages (1.1.0)\n",
      "Requirement already satisfied: numpy in /opt/conda/lib/python3.6/site-packages (1.15.4)\n",
      "Collecting retrying>=1.3.3 (from plotly)\n",
      "  Downloading https://files.pythonhosted.org/packages/44/ef/beae4b4ef80902f22e3af073397f079c96969c69b2c7d52a57ea9ae61c9d/retrying-1.3.3.tar.gz\n",
      "Requirement already satisfied: six in /opt/conda/lib/python3.6/site-packages (from plotly) (1.11.0)\n",
      "Requirement already satisfied: decorator>=4.0.6 in /opt/conda/lib/python3.6/site-packages (from plotly) (4.3.0)\n",
      "Requirement already satisfied: pytz in /opt/conda/lib/python3.6/site-packages (from plotly) (2018.7)\n",
      "Requirement already satisfied: nbformat>=4.2 in /opt/conda/lib/python3.6/site-packages (from plotly) (4.4.0)\n",
      "Requirement already satisfied: requests in /opt/conda/lib/python3.6/site-packages (from plotly) (2.20.1)\n",
      "Requirement already satisfied: ipython_genutils in /opt/conda/lib/python3.6/site-packages (from nbformat>=4.2->plotly) (0.2.0)\n",
      "Requirement already satisfied: traitlets>=4.1 in /opt/conda/lib/python3.6/site-packages (from nbformat>=4.2->plotly) (4.3.2)\n",
      "Requirement already satisfied: jsonschema!=2.5.0,>=2.4 in /opt/conda/lib/python3.6/site-packages (from nbformat>=4.2->plotly) (3.0.0a3)\n",
      "Requirement already satisfied: jupyter_core in /opt/conda/lib/python3.6/site-packages (from nbformat>=4.2->plotly) (4.4.0)\n",
      "Requirement already satisfied: urllib3<1.25,>=1.21.1 in /opt/conda/lib/python3.6/site-packages (from requests->plotly) (1.23)\n",
      "Requirement already satisfied: chardet<3.1.0,>=3.0.2 in /opt/conda/lib/python3.6/site-packages (from requests->plotly) (3.0.4)\n",
      "Requirement already satisfied: certifi>=2017.4.17 in /opt/conda/lib/python3.6/site-packages (from requests->plotly) (2018.10.15)\n",
      "Requirement already satisfied: idna<2.8,>=2.5 in /opt/conda/lib/python3.6/site-packages (from requests->plotly) (2.7)\n",
      "Requirement already satisfied: attrs>=17.4.0 in /opt/conda/lib/python3.6/site-packages (from jsonschema!=2.5.0,>=2.4->nbformat>=4.2->plotly) (18.2.0)\n",
      "Requirement already satisfied: pyrsistent>=0.14.0 in /opt/conda/lib/python3.6/site-packages (from jsonschema!=2.5.0,>=2.4->nbformat>=4.2->plotly) (0.14.6)\n",
      "Building wheels for collected packages: retrying\n",
      "  Running setup.py bdist_wheel for retrying ... \u001b[?25ldone\n",
      "\u001b[?25h  Stored in directory: /home/jovyan/.cache/pip/wheels/d7/a9/33/acc7b709e2a35caa7d4cae442f6fe6fbf2c43f80823d46460c\n",
      "Successfully built retrying\n",
      "Installing collected packages: findspark, retrying, plotly, colorlover\n",
      "Successfully installed colorlover-0.3.0 findspark-1.3.0 plotly-3.5.0 retrying-1.3.3\n"
     ]
    }
   ],
   "source": [
    "import sys\n",
    "!{sys.executable} -m pip install findspark plotly colorlover scipy numpy"
   ]
  },
  {
   "cell_type": "code",
   "execution_count": 2,
   "metadata": {},
   "outputs": [],
   "source": [
    "import findspark\n",
    "import os\n",
    "\n",
    "from pyspark import SparkContext\n",
    "from pyspark.sql import SparkSession, SQLContext\n",
    "\n",
    "os.environ['PYSPARK_SUBMIT_ARGS'] = '--jars jars/elasticsearch-spark-20_2.11-6.5.1.jar pyspark-shell'\n",
    "\n",
    "findspark.init()\n",
    "\n",
    "sc = SparkContext(appName=\"esAnalytics\")\n",
    "sqlContext = SQLContext(sc)\n",
    "\n",
    "spark = SparkSession.builder \\\n",
    "    .master(\"local[*]\") \\\n",
    "    .appName(\"meetup\") \\\n",
    "    .config(\"spark.some.config.option\", \"some-value\") \\\n",
    "    .config(\"spark.sql.crossJoin.enabled\", \"true\") \\\n",
    "    .getOrCreate()\n",
    "\n",
    "# spark = SparkSession.builder \\\n",
    "#     .master(\"yarn\") \\\n",
    "#     .appName(\"meetup\") \\\n",
    "#     .config(\"spark.some.config.option\", \"some-value\") \\\n",
    "#     .config(\"spark.sql.crossJoin.enabled\", \"true\") \\\n",
    "#     .getOrCreate()"
   ]
  },
  {
   "cell_type": "code",
   "execution_count": 3,
   "metadata": {},
   "outputs": [],
   "source": [
    "# from json import loads, dumps\n",
    "\n",
    "# es_read_conf = {\n",
    "# \"es.nodes\" : 'elastic',\n",
    "# \"es.port\" : '9200',\n",
    "# \"es.resource\" : 'meetup-rawdata-*/default'\n",
    "# }\n",
    "\n",
    "# raw_data = sc.newAPIHadoopRDD(\n",
    "# inputFormatClass=\"org.elasticsearch.hadoop.mr.EsInputFormat\",\n",
    "# keyClass=\"org.apache.hadoop.io.NullWritable\",\n",
    "# valueClass=\"org.elasticsearch.hadoop.mr.LinkedMapWritable\",\n",
    "# conf=es_read_conf)\n",
    "\n",
    "# raw_data = raw_data.map(lambda v: loads(dumps(v[1])))\n",
    "\n",
    "# df = sqlContext.createDataFrame(raw_data)"
   ]
  },
  {
   "cell_type": "code",
   "execution_count": 4,
   "metadata": {},
   "outputs": [
    {
     "data": {
      "text/plain": [
       "985410"
      ]
     },
     "execution_count": 4,
     "metadata": {},
     "output_type": "execute_result"
    }
   ],
   "source": [
    "df = spark.read.json(\"./data/meetup-rawdata/*json\")\n",
    "# add - select only columns used later on\n",
    "df.cache()\n",
    "df.count()"
   ]
  },
  {
   "cell_type": "markdown",
   "metadata": {},
   "source": [
    "#### Select only last response for each rsvp_id"
   ]
  },
  {
   "cell_type": "code",
   "execution_count": 5,
   "metadata": {},
   "outputs": [],
   "source": [
    "from pyspark.sql.window import Window\n",
    "from pyspark.sql.functions import row_number, col\n",
    "\n",
    "rsvpWindowSpec = Window.partitionBy(df[\"rsvp_id\"]).orderBy(df[\"mtime\"].desc())\n",
    "\n",
    "df = df \\\n",
    "    .withColumn(\"rowId\", row_number().over(rsvpWindowSpec)) \\\n",
    "    .where(\"rowId = 1\") \\\n",
    "    .sort(\"rsvp_id\")"
   ]
  },
  {
   "cell_type": "markdown",
   "metadata": {},
   "source": [
    "#### Establish timezone, day_of_week_local, hour_local, minute_local of event.event_time based on venue.venue_geo"
   ]
  },
  {
   "cell_type": "code",
   "execution_count": 6,
   "metadata": {},
   "outputs": [],
   "source": [
    "# import pytz\n",
    "\n",
    "# from datetime import datetime\n",
    "# from tzwhere import tzwhere\n",
    "\n",
    "# from pyspark.sql.functions import udf\n",
    "# from pyspark.sql.types import StringType, ArrayType\n",
    "\n",
    "# @udf(StringType())\n",
    "# def udf_timezone_by_geo(lat, lon):\n",
    "#     t = tzwhere.tzwhere()\n",
    "    \n",
    "#     return t.tzNameAt(float(lat), float(lon))\n",
    "\n",
    "# @udf(ArrayType(StringType()))\n",
    "# def udf_localize_with_timezone(utc_time, timezone_str):\n",
    "    \n",
    "#     epoch_utc = int(utc_time)\n",
    "    \n",
    "#     timezone_str = timezone_str.strip()\n",
    "    \n",
    "#     # check if provided in ms or s:\n",
    "#     if len(str(epoch_utc)) == 13:\n",
    "#         epoch_utc = epoch_utc / 1000\n",
    "\n",
    "#     # get time in UTC\n",
    "#     utc_dt = datetime.utcfromtimestamp(epoch_utc)\n",
    "\n",
    "#     # convert it to tz\n",
    "#     tz = pytz.timezone(timezone_str)\n",
    "#     dt = utc_dt.astimezone(tz)\n",
    "\n",
    "#     offset = dt.utcoffset().total_seconds()\n",
    "\n",
    "#     local_dt = datetime.utcfromtimestamp(epoch_utc + offset)\n",
    "    \n",
    "#     parts = dict(year_local=local_dt.year,\n",
    "#                  month_local=local_dt.month, \n",
    "#                  day_local=local_dt.day, \n",
    "#                  weekday_local=local_dt.isoweekday(),\n",
    "#                  hour_local=local_dt.hour, \n",
    "#                  minute_local=local_dt.minute)\n",
    "    \n",
    "#     return list(parts.values())"
   ]
  },
  {
   "cell_type": "code",
   "execution_count": 7,
   "metadata": {},
   "outputs": [],
   "source": [
    "from pyspark.sql.functions import udf\n",
    "from pyspark.sql.types import StringType, ArrayType\n",
    "\n",
    "from datetime import datetime\n",
    "\n",
    "\n",
    "@udf(ArrayType(StringType()))\n",
    "def udf_extract_date_parts(utc_time):\n",
    "    epoch_utc = int(utc_time)\n",
    "    \n",
    "    # check if provided in ms or s:\n",
    "    if len(str(epoch_utc)) == 13:\n",
    "        epoch_utc = epoch_utc / 1000\n",
    "\n",
    "    # get time in UTC\n",
    "    utc_dt = datetime.utcfromtimestamp(epoch_utc)\n",
    "    \n",
    "    parts = dict(year_local=utc_dt.year,\n",
    "                 month_local=utc_dt.month, \n",
    "                 day_local=utc_dt.day, \n",
    "                 weekday_local=utc_dt.isoweekday(),\n",
    "                 hour_local=utc_dt.hour, \n",
    "                 minute_local=utc_dt.minute)\n",
    "    \n",
    "    return list(parts.values())"
   ]
  },
  {
   "cell_type": "code",
   "execution_count": 8,
   "metadata": {
    "scrolled": true
   },
   "outputs": [],
   "source": [
    "# # to optimize matching event.time with venue.lat/venue.lon create dict with distinct venues\n",
    "\n",
    "# from pyspark.sql.functions import concat, lit\n",
    "\n",
    "# venueGeoDict = df \\\n",
    "#     .select(col(\"venue.lat\"), col(\"venue.lon\")) \\\n",
    "#     .distinct() \\\n",
    "#     .withColumn(\"key\", concat(col(\"lat\"), lit(\"_\"), col(\"lon\"))) \\\n",
    "#     .withColumn(\"event_timezone\", udf_timezone_by_geo(col(\"lat\"), col(\"lon\"))) \\\n",
    "#     .select(col(\"key\"), col(\"event_timezone\"))\n",
    "\n",
    "# venueGeoDict.show(5)"
   ]
  },
  {
   "cell_type": "code",
   "execution_count": 9,
   "metadata": {},
   "outputs": [
    {
     "data": {
      "text/plain": [
       "DataFrame[@timestamp: string, event: struct<event_id:string,event_name:string,event_url:string,time:bigint>, group: struct<group_city:string,group_country:string,group_geo:string,group_id:bigint,group_lat:double,group_lon:double,group_name:string,group_state:string,group_topics:array<string>,group_urlname:string>, guests: bigint, member: struct<member_id:bigint,member_name:string,other_services:struct<facebook:struct<identifier:string>,flickr:struct<identifier:string>,linkedin:struct<identifier:string>,tumblr:struct<identifier:string>,twitter:struct<identifier:string>>,photo:string>, mtime: bigint, response: string, rsvp_id: bigint, venue: struct<lat:double,lon:double,venue_geo:string,venue_id:bigint,venue_name:string>, visibility: string, rowId: int, event_time_parts: array<string>]"
      ]
     },
     "execution_count": 9,
     "metadata": {},
     "output_type": "execute_result"
    }
   ],
   "source": [
    "# dfWithEventTimezone = df \\\n",
    "#     .join(venueGeoDict, concat(col(\"venue.lat\"), lit(\"_\"), col(\"venue.lon\")) == venueGeoDict.key, 'cross') \n",
    "\n",
    "dfWithEventTimeParts = df \\\n",
    "    .where(col(\"event.time\").isNotNull()) \\\n",
    "    .withColumn(\"event_time_parts\", udf_extract_date_parts(df.event.time))\n",
    "\n",
    "dfWithEventTimeParts.cache()"
   ]
  },
  {
   "cell_type": "code",
   "execution_count": 10,
   "metadata": {},
   "outputs": [
    {
     "name": "stdout",
     "output_type": "stream",
     "text": [
      "+-------------+--------------------+\n",
      "|         time|    event_time_parts|\n",
      "+-------------+--------------------+\n",
      "|1546268400000|[2018, 12, 31, 1,...|\n",
      "|1575574200000|[2019, 12, 5, 4, ...|\n",
      "|1575574200000|[2019, 12, 5, 4, ...|\n",
      "|1575574200000|[2019, 12, 5, 4, ...|\n",
      "|1575574200000|[2019, 12, 5, 4, ...|\n",
      "+-------------+--------------------+\n",
      "only showing top 5 rows\n",
      "\n"
     ]
    }
   ],
   "source": [
    "dfWithEventTimeParts \\\n",
    "    .select(col(\"event.time\"), col(\"event_time_parts\")) \\\n",
    "    .show(5)"
   ]
  },
  {
   "cell_type": "markdown",
   "metadata": {},
   "source": [
    "### Analyze"
   ]
  },
  {
   "cell_type": "markdown",
   "metadata": {},
   "source": [
    "#### Calculate & visualize most distinguishable distributions of meetings in particular day_of_week_local by tag (Jensen–Shannon divergence)"
   ]
  },
  {
   "cell_type": "code",
   "execution_count": 11,
   "metadata": {},
   "outputs": [
    {
     "data": {
      "text/plain": [
       "DataFrame[weekday_total_dist: array<double>]"
      ]
     },
     "execution_count": 11,
     "metadata": {},
     "output_type": "execute_result"
    }
   ],
   "source": [
    "# total distribution\n",
    "\n",
    "from pyspark.sql.functions import lit, count, udf, collect_list\n",
    "from pyspark.sql.types import StringType, DoubleType, MapType\n",
    "\n",
    "countByAllWindowSpec = Window.partitionBy(lit(1))\n",
    "\n",
    "totalWeekdayDistribution = dfWithEventTimeParts \\\n",
    "    .withColumn(\"event_isoweekday\", dfWithEventTimeParts.event_time_parts[3]) \\\n",
    "    .select(col(\"rsvp_id\"), col(\"event_isoweekday\"), count(col(\"rsvp_id\")).over(countByAllWindowSpec).alias(\"count_all\")) \\\n",
    "    .groupBy(col(\"event_isoweekday\"), col(\"count_all\")) \\\n",
    "    .count() \\\n",
    "    .sort(\"event_isoweekday\") \\\n",
    "    .withColumn(\"weekday_total_dist\", col(\"count\")/col(\"count_all\")) \\\n",
    "    .groupBy() \\\n",
    "    .agg(collect_list(col(\"weekday_total_dist\")).alias(\"weekday_total_dist\"))\n",
    "\n",
    "totalWeekdayDistribution.cache()"
   ]
  },
  {
   "cell_type": "code",
   "execution_count": 12,
   "metadata": {
    "scrolled": true
   },
   "outputs": [
    {
     "data": {
      "text/plain": [
       "[Row(weekday_total_dist=[0.07185578359124661, 0.13864492108344612, 0.16100379332347023, 0.15654295710950153, 0.12406201137295872, 0.20754597914723844, 0.14034455437213836])]"
      ]
     },
     "execution_count": 12,
     "metadata": {},
     "output_type": "execute_result"
    }
   ],
   "source": [
    "totalWeekdayDistribution.collect()"
   ]
  },
  {
   "cell_type": "code",
   "execution_count": 13,
   "metadata": {
    "scrolled": true
   },
   "outputs": [
    {
     "name": "stdout",
     "output_type": "stream",
     "text": [
      "+--------------------+--------------------+-----------+----------------+\n",
      "|         group_topic|  weekday_topic_dist|topic_count|topic_count_rank|\n",
      "+--------------------+--------------------+-----------+----------------+\n",
      "|Art classes for h...|[0.0, 0.0, 0.0, 1...|          1|               1|\n",
      "|Audience Development|[0.0, 0.0, 0.0, 0...|          1|               1|\n",
      "|Colorado Real Estate|[0.0, 0.0, 0.0, 0...|          1|               1|\n",
      "|Paddle Sports on ...|[0.0, 0.0, 0.0, 0...|          1|               1|\n",
      "|      Primal Fitness|[0.0, 0.0, 1.0, 0...|          1|               1|\n",
      "|   Real Life Stories|[1.0, 0.0, 0.0, 0...|          1|               1|\n",
      "|    Resource Sharing|[0.0, 0.0, 0.0, 0...|          1|               1|\n",
      "|          Stillbirth|[0.0, 0.0, 1.0, 0...|          1|               1|\n",
      "|       Underemployed|[1.0, 0.0, 0.0, 0...|          1|               1|\n",
      "|Young Married Cat...|[0.0, 0.0, 1.0, 0...|          1|               1|\n",
      "|        makeup party|[0.0, 0.0, 0.0, 0...|          1|               1|\n",
      "|martial arts fitness|[0.0, 0.0, 1.0, 0...|          1|               1|\n",
      "|     weight training|[0.0, 1.0, 0.0, 0...|          1|               1|\n",
      "|            Accotink|[0.0, 0.0, 0.0, 0...|          1|               1|\n",
      "|      Against Ageism|[0.0, 1.0, 0.0, 0...|          1|               1|\n",
      "|                 Alt|[0.0, 0.0, 0.0, 0...|          1|               1|\n",
      "|  Aviation Education|[0.0, 0.0, 0.0, 0...|          1|               1|\n",
      "|   Bring your Bibles|[0.0, 0.0, 0.0, 0...|          1|               1|\n",
      "|Camping and socia...|[0.0, 0.0, 0.0, 0...|          1|               1|\n",
      "|   Children's Safety|[0.0, 0.0, 0.0, 0...|          1|               1|\n",
      "+--------------------+--------------------+-----------+----------------+\n",
      "only showing top 20 rows\n",
      "\n"
     ]
    },
    {
     "data": {
      "text/plain": [
       "DataFrame[group_topic: string, weekday_topic_dist: array<double>, topic_count: bigint, topic_count_rank: int]"
      ]
     },
     "execution_count": 13,
     "metadata": {},
     "output_type": "execute_result"
    }
   ],
   "source": [
    "# distribution by group topic\n",
    "from pyspark.sql.functions import explode, lower, coalesce, abs, max, rank\n",
    "from pyspark.sql.types import Row\n",
    "\n",
    "countByTopicWindowSpec = Window.partitionBy(\"group_topic\")\n",
    "\n",
    "topicWeekdayDistributionTmp = dfWithEventTimeParts \\\n",
    "    .withColumn(\"event_isoweekday\", dfWithEventTimeParts.event_time_parts[3]) \\\n",
    "    .select(col(\"rsvp_id\"), col(\"event_isoweekday\"), explode(col(\"group.group_topics\")).alias(\"group_topic_map\")) \\\n",
    "    .withColumn(\"group_topic\", col(\"group_topic_map\")) \\\n",
    "    .withColumn(\"total_topic_count\", count(\"rsvp_id\").over(countByTopicWindowSpec)) \\\n",
    "    .drop(\"group_topic_map\") \\\n",
    "    .groupBy(col(\"event_isoweekday\"), col(\"group_topic\"), col(\"total_topic_count\")) \\\n",
    "    .count() \\\n",
    "    .sort(col(\"group_topic\"), col(\"event_isoweekday\"))\n",
    "\n",
    "# topicWeekdayDistributionTmp.show(30)\n",
    "\n",
    "topics = topicWeekdayDistributionTmp.select(col(\"group_topic\").alias(\"group_topic_tmp\")).distinct()\n",
    "weekdays = sc.parallelize(list(range(7))).map(lambda x: Row(event_isoweekday_tmp=str(1 + int(x)))).toDF()\n",
    "cross = weekdays.crossJoin(topics).withColumn(\"count_tmp\", lit(0))\n",
    "\n",
    "# ensure that every topic has entry for every weekday (even if no meetings took place on that weekday)\n",
    "topicWeekdayDistribution = cross \\\n",
    "    .join(topicWeekdayDistributionTmp, (topicWeekdayDistributionTmp.event_isoweekday == cross.event_isoweekday_tmp) & (topicWeekdayDistributionTmp.group_topic == cross.group_topic_tmp), how='outer') \\\n",
    "    .withColumn(\"event_isoweekday\", col(\"event_isoweekday_tmp\")) \\\n",
    "    .withColumn(\"group_topic\", col(\"group_topic_tmp\")) \\\n",
    "    .withColumn(\"count\", coalesce(\"count\", \"count_tmp\")) \\\n",
    "    .withColumn(\"total_topic_count\", coalesce(\"total_topic_count\", lit(-1))) \\\n",
    "    .drop(\"event_isoweekday_tmp\", \"group_topic_tmp\", \"count_tmp\") \\\n",
    "    .sort(\"group_topic\", \"event_isoweekday\") \\\n",
    "    .withColumn(\"weekday_topic_dist\", abs(col(\"count\")/col(\"total_topic_count\"))) \\\n",
    "    .groupBy(\"group_topic\") \\\n",
    "    .agg(collect_list(col(\"weekday_topic_dist\")).alias(\"weekday_topic_dist\"), max(col(\"total_topic_count\")).alias(\"topic_count\")) \\\n",
    "    .withColumn(\"topic_count_rank\", rank().over(Window.partitionBy(lit(1)).orderBy(col(\"topic_count\"))))\n",
    "\n",
    "topicWeekdayDistribution.show(20)\n",
    "topicWeekdayDistribution.cache()"
   ]
  },
  {
   "cell_type": "code",
   "execution_count": 14,
   "metadata": {},
   "outputs": [],
   "source": [
    "# JS Divergence UDF\n",
    "\n",
    "from numpy import asarray, e\n",
    "from scipy import stats\n",
    "\n",
    "from pyspark.sql.functions import udf\n",
    "from pyspark.sql.types import DoubleType\n",
    "\n",
    "@udf(DoubleType())\n",
    "def udf_jsd(p, q, base=e):\n",
    "    '''\n",
    "        Implementation of pairwise `jsd` based on  \n",
    "        https://en.wikipedia.org/wiki/Jensen%E2%80%93Shannon_divergence\n",
    "    '''\n",
    "    try:\n",
    "        ## convert to np.array\n",
    "        p, q = asarray(p), asarray(q)\n",
    "        ## normalize p, q to probabilities\n",
    "        p, q = p/p.sum(), q/q.sum()\n",
    "\n",
    "        m = 1./2*(p + q)\n",
    "\n",
    "        return float(stats.entropy(p,m, base=base)/2. +  stats.entropy(q, m, base=base)/2.)\n",
    "    except:\n",
    "        return -1"
   ]
  },
  {
   "cell_type": "code",
   "execution_count": 15,
   "metadata": {},
   "outputs": [
    {
     "data": {
      "text/plain": [
       "DataFrame[group_topic: string, weekday_topic_dist: array<double>, topic_count: bigint, topic_count_rank: int, weekday_total_dist: array<double>, jsd: double]"
      ]
     },
     "execution_count": 15,
     "metadata": {},
     "output_type": "execute_result"
    }
   ],
   "source": [
    "# calculate Jensen-Shannon Divergence per topic & select 10 highest\n",
    "jsDivergence = topicWeekdayDistribution \\\n",
    "    .crossJoin(totalWeekdayDistribution) \\\n",
    "    .withColumn(\"jsd\", udf_jsd(col(\"weekday_topic_dist\"), col(\"weekday_total_dist\"))) \\\n",
    "    .sort(col(\"jsd\").desc()) \\\n",
    "    .where(topicWeekdayDistribution.topic_count > 1000)\n",
    "\n",
    "jsDivergence.cache()"
   ]
  },
  {
   "cell_type": "code",
   "execution_count": 16,
   "metadata": {},
   "outputs": [
    {
     "name": "stdout",
     "output_type": "stream",
     "text": [
      "+--------------------+--------------------+-----------+----------------+--------------------+-------------------+\n",
      "|         group_topic|  weekday_topic_dist|topic_count|topic_count_rank|  weekday_total_dist|                jsd|\n",
      "+--------------------+--------------------+-----------+----------------+--------------------+-------------------+\n",
      "|             Collage|[0.00753768844221...|       1194|           32265|[0.07185578359124...|0.17897320811308526|\n",
      "|                APIs|[0.19287833827893...|       1011|           32154|[0.07185578359124...|0.16909681279761324|\n",
      "|    Java Concurrency|[0.02230843840931...|       1031|           32166|[0.07185578359124...|0.16108217753068874|\n",
      "|Mobile Product Ma...|[0.03656998738965...|       1586|           32396|[0.07185578359124...| 0.1419759906808842|\n",
      "|Load Testing and ...|[0.02977905859750...|       1041|           32178|[0.07185578359124...| 0.1328734581206049|\n",
      "|        ASP.NET Core|[0.21396993810786...|       1131|           32235|[0.07185578359124...|0.12994312390636972|\n",
      "|Software Craftsma...|[0.12795549374130...|       1438|           32362|[0.07185578359124...|0.12825623530658184|\n",
      "|      Dog Playgroups|[0.00582901554404...|       1544|           32390|[0.07185578359124...| 0.1270716304286747|\n",
      "|           .NET Core|[0.19426456984273...|       1081|           32202|[0.07185578359124...|0.12589839584931706|\n",
      "|   Product Marketing|[0.06290242694403...|       2019|           32511|[0.07185578359124...| 0.1252397366432276|\n",
      "| Product Development|[0.06562703053931...|       4617|           32859|[0.07185578359124...|0.12489692750349468|\n",
      "|  Referral Marketing|[0.03272845106934...|       3086|           32725|[0.07185578359124...|0.12350630129500273|\n",
      "|Software Product ...|[0.06866110838646...|       4078|           32816|[0.07185578359124...|0.12215904936018768|\n",
      "|Data Analysis and...|[0.00946643717728...|       1162|           32250|[0.07185578359124...|0.12113377523805408|\n",
      "|Continuous Integr...|[0.11495327102803...|       1070|           32197|[0.07185578359124...|0.12008195919349421|\n",
      "| Distributed Systems|[0.12246117084826...|       1674|           32417|[0.07185578359124...|0.11897347045414189|\n",
      "|Java Virtual Machine|[0.10371408549404...|       1427|           32359|[0.07185578359124...|0.11875687216781455|\n",
      "|New Product Devel...|[0.06666666666666...|       4665|           32863|[0.07185578359124...|0.11728438679764355|\n",
      "|Software QA and T...|[0.04592346089850...|       3005|           32711|[0.07185578359124...|0.11663103955030474|\n",
      "|  Product Management|[0.05076142131979...|       4925|           32881|[0.07185578359124...|0.11625823082499279|\n",
      "|Concurrent Progra...|[0.09021406727828...|       1308|           32311|[0.07185578359124...| 0.1159757791451061|\n",
      "|       JVM Languages|[0.04731525784157...|       1881|           32469|[0.07185578359124...|0.11570276916319386|\n",
      "|            Trekking|[0.03029183598079...|       2707|           32662|[0.07185578359124...|0.11510182905253924|\n",
      "|      Growth Hacking|[0.07350096711798...|       1034|           32172|[0.07185578359124...|0.11446340602161814|\n",
      "|Rich Internet App...|[0.10512367491166...|       1132|           32237|[0.07185578359124...|0.11391155891699928|\n",
      "|Go (Programming L...|[0.03646185010128...|       1481|           32375|[0.07185578359124...|0.11381609973398757|\n",
      "|      B2B Networking|[0.04963726613211...|       2619|           32645|[0.07185578359124...|0.11338301727096556|\n",
      "|                 IBM|[0.16200169635284...|       1179|           32257|[0.07185578359124...|0.11070660835756785|\n",
      "|    Content Strategy|[0.03963414634146...|       1312|           32312|[0.07185578359124...|0.11038688388139417|\n",
      "|     Crypto Currency|[0.19385140905209...|       1171|           32252|[0.07185578359124...|0.11012543281156667|\n",
      "|               UX/UI|[0.04093567251461...|       1026|           32164|[0.07185578359124...|0.10984509083275584|\n",
      "|           OpenStack|[0.19383259911894...|       1362|           32331|[0.07185578359124...|0.10851418462074162|\n",
      "|          Kubernetes|[0.13368983957219...|       2992|           32708|[0.07185578359124...|0.10821022163403457|\n",
      "|       Microservices|[0.16801553900938...|       3089|           32726|[0.07185578359124...| 0.1075352497234619|\n",
      "|   Quality Assurance|[0.04874835309617...|       1518|           32383|[0.07185578359124...|  0.107107596181298|\n",
      "|     Open Government|[0.14420358152686...|       1061|           32191|[0.07185578359124...|0.10580978934821637|\n",
      "|Off-Leash Dog Rec...|[0.00792393026941...|       1262|           32288|[0.07185578359124...|0.10500308969304487|\n",
      "|Artificial Intell...|[0.17459343356857...|       3259|           32740|[0.07185578359124...|0.10480798371283775|\n",
      "|  Business Analytics|[0.14636449480642...|       3177|           32733|[0.07185578359124...|0.10455991435431494|\n",
      "|     Test Automation|[0.05547976352887...|       2199|           32556|[0.07185578359124...|0.10300248026553022|\n",
      "| Continuous Delivery|[0.09109816971713...|       4808|           32877|[0.07185578359124...|0.10293499313306108|\n",
      "|    Software Quality|[0.06526228831061...|       2421|           32606|[0.07185578359124...| 0.1026545875786612|\n",
      "|    Agile Leadership|[0.17111077251257...|       6563|           32947|[0.07185578359124...|0.10131491233209144|\n",
      "|       User Research|[0.07678286625655...|       4389|           32836|[0.07185578359124...|0.09975232294828994|\n",
      "|Healthcare Innova...|[0.02436974789915...|       1190|           32263|[0.07185578359124...|0.09945310218867512|\n",
      "|Database Professi...|[0.13429571303587...|       2286|           32574|[0.07185578359124...|0.09839190429641292|\n",
      "|Agile Transformation|[0.19851362510322...|       6055|           32931|[0.07185578359124...|0.09715599693394958|\n",
      "|PHP Application D...|[0.04226475279106...|       1254|           32286|[0.07185578359124...|0.09573190968890521|\n",
      "|           Open Data|[0.14936805821524...|       2611|           32642|[0.07185578359124...|0.09507224544083452|\n",
      "|      Product Design|[0.07318992654774...|       7624|           32970|[0.07185578359124...|0.09466716566323585|\n",
      "|              Kanban|[0.17731015553522...|       5465|           32909|[0.07185578359124...|0.09460313994662813|\n",
      "|             Lean UX|[0.08186864014801...|       2162|           32543|[0.07185578359124...|0.09459184216068349|\n",
      "|High Scalability ...|[0.07104557640750...|       5222|           32898|[0.07185578359124...|0.09457428812270074|\n",
      "|     Software Design|[0.20703125, 0.33...|       1792|           32452|[0.07185578359124...|0.09434603579565382|\n",
      "|High Performance ...|[0.06627680311890...|       1026|           32164|[0.07185578359124...|0.09306165000364619|\n",
      "|Configuration Man...|[0.08892238131122...|       2654|           32650|[0.07185578359124...|0.09295031540047616|\n",
      "|Financial Technology|[0.16450839328537...|       2085|           32528|[0.07185578359124...|0.09242248391858698|\n",
      "|African American ...|[0.02066115702479...|       1452|           32367|[0.07185578359124...|0.09139155670035545|\n",
      "|           Angular 2|[0.19886363636363...|       1056|           32186|[0.07185578359124...| 0.0912793088677274|\n",
      "|AWS Programming a...|[0.08758837391987...|       2546|           32626|[0.07185578359124...|0.09111255238396301|\n",
      "|          Containers|[0.10866039571845...|       3083|           32723|[0.07185578359124...| 0.0907112191718065|\n",
      "|         Active Dogs|[0.01647058823529...|       1700|           32426|[0.07185578359124...|0.09062834885023466|\n",
      "|Statistical Compu...|[0.10386819484240...|       1396|           32345|[0.07185578359124...|0.09025293343907279|\n",
      "|       Scaling Agile|[0.19562955254942...|       1922|           32483|[0.07185578359124...| 0.0899360975308226|\n",
      "|Test Driven Devel...|[0.11017644645055...|       4874|           32878|[0.07185578359124...|0.08990847864346005|\n",
      "|Real Life uses of...|[0.10556940980881...|       1203|           32272|[0.07185578359124...|0.08744423355091643|\n",
      "|                 EC2|[0.09838527975966...|       2663|           32652|[0.07185578359124...|0.08671597410032056|\n",
      "|           Usability|[0.06572379367720...|       6010|           32929|[0.07185578359124...|0.08668618854203075|\n",
      "|     Agile and Scrum|[0.205, 0.154375,...|       1600|           32401|[0.07185578359124...|0.08632000625921168|\n",
      "|    Software Testing|[0.07290589451913...|       1934|           32487|[0.07185578359124...| 0.0860913575162221|\n",
      "|Software Architec...|[0.10071320510049...|       4627|           32860|[0.07185578359124...|0.08600739513066369|\n",
      "|PaaS (Platform as...|[0.10390982740401...|       5678|           32917|[0.07185578359124...|0.08578772688727293|\n",
      "|           Dog Hikes|[0.125, 0.0388418...|       1416|           32355|[0.07185578359124...|0.08575083098754402|\n",
      "|   Women Programmers|[0.08366271409749...|       1518|           32383|[0.07185578359124...|0.08565450718599507|\n",
      "|Infrastructure as...|[0.10010881392818...|       3676|           32779|[0.07185578359124...|0.08515054264133078|\n",
      "|SaaS (Software as...|[0.05347255181142...|       6321|           32938|[0.07185578359124...|0.08512399743768839|\n",
      "|R Project for Sta...|[0.11224489795918...|       2548|           32628|[0.07185578359124...|0.08475423910024407|\n",
      "|IaaS (Infrastruct...|[0.07932502759817...|       6341|           32940|[0.07185578359124...| 0.0847008373883808|\n",
      "|       Agile Testing|[0.10486486486486...|       3700|           32784|[0.07185578359124...|0.08468992451105345|\n",
      "|              AWS S3|[0.09077705156136...|       1377|           32337|[0.07185578359124...|0.08430370391564973|\n",
      "|      Agile Coaching|[0.13392210800637...|       6907|           32956|[0.07185578359124...|0.08370713527122305|\n",
      "| Extreme Programming|[0.13391459870333...|       4473|           32843|[0.07185578359124...|0.08304142715637138|\n",
      "|Creative Real Est...|[0.03188405797101...|       1035|           32173|[0.07185578359124...|0.08243747447441309|\n",
      "|Information Archi...|[0.10687912942090...|       2573|           32633|[0.07185578359124...|0.08170494416015886|\n",
      "|Database Development|[0.09590849098108...|       2273|           32570|[0.07185578359124...|0.08164501048754759|\n",
      "|Small Business Ne...|[0.05219623502567...|       3506|           32765|[0.07185578359124...| 0.0813034256124513|\n",
      "|         Sport Bikes|[0.02905342080599...|       1067|           32195|[0.07185578359124...|0.08087317173562523|\n",
      "|                  Go|[0.06221198156682...|       1302|           32307|[0.07185578359124...| 0.0808264939089613|\n",
      "|      Swift Language|[0.13967971530249...|       1124|           32232|[0.07185578359124...|0.08066045881082029|\n",
      "|                HTML|[0.03865877712031...|       2535|           32623|[0.07185578359124...|0.08065465338742156|\n",
      "|   Digital Marketing|[0.07811993517017...|       3085|           32724|[0.07185578359124...|0.08023765067916752|\n",
      "|                Ruby|[0.05589492974954...|       3274|           32742|[0.07185578359124...|0.08007033635784058|\n",
      "|     Computer Vision|[0.22708208508088...|       1669|           32414|[0.07185578359124...|0.07989316018966708|\n",
      "| Amazon Web Services|[0.07475113122171...|       5525|           32911|[0.07185578359124...|0.07960992138806158|\n",
      "|                Dogs|[0.01120206807410...|       2321|           32584|[0.07185578359124...|0.07952737994711812|\n",
      "|               Scala|[0.06886354034643...|       2367|           32595|[0.07185578359124...| 0.0794177139583036|\n",
      "|Commercial Real E...|[0.02441229656419...|       1106|           32219|[0.07185578359124...|0.07938615211465246|\n",
      "|         ASP.NET MVC|[0.03011583011583...|       1295|           32305|[0.07185578359124...|0.07870148032065574|\n",
      "|     Data Management|[0.14247251514471...|       4457|           32840|[0.07185578359124...|0.07833945496536346|\n",
      "|        Apache Spark|[0.07405784399649...|       2282|           32572|[0.07185578359124...| 0.0782419315453941|\n",
      "+--------------------+--------------------+-----------+----------------+--------------------+-------------------+\n",
      "only showing top 100 rows\n",
      "\n"
     ]
    }
   ],
   "source": [
    "jsDivergence.sort(col(\"jsd\").desc()).show(100)"
   ]
  },
  {
   "cell_type": "code",
   "execution_count": 17,
   "metadata": {},
   "outputs": [
    {
     "data": {
      "text/html": [
       "<script type=\"text/javascript\">window.PlotlyConfig = {MathJaxConfig: 'local'};</script><script type=\"text/javascript\">if (window.MathJax) {MathJax.Hub.Config({SVG: {font: \"STIX-Web\"}});}</script><script>requirejs.config({paths: { 'plotly': ['https://cdn.plot.ly/plotly-latest.min']},});if(!window._Plotly) {require(['plotly'],function(plotly) {window._Plotly=plotly;});}</script>"
      ],
      "text/vnd.plotly.v1+html": [
       "<script type=\"text/javascript\">window.PlotlyConfig = {MathJaxConfig: 'local'};</script><script type=\"text/javascript\">if (window.MathJax) {MathJax.Hub.Config({SVG: {font: \"STIX-Web\"}});}</script><script>requirejs.config({paths: { 'plotly': ['https://cdn.plot.ly/plotly-latest.min']},});if(!window._Plotly) {require(['plotly'],function(plotly) {window._Plotly=plotly;});}</script>"
      ]
     },
     "metadata": {},
     "output_type": "display_data"
    },
    {
     "name": "stdout",
     "output_type": "stream",
     "text": [
      "This is the format of your plot grid:\n",
      "[ (1,1) x1,y1 ]      [ (1,2) x2,y1 ]      [ (1,3) x3,y1 ]      [ (1,4) x4,y1 ]      [ (1,5) x5,y1 ]    \n",
      "[ (2,1) x6,y2 ]      [ (2,2) x7,y2 ]      [ (2,3) x8,y2 ]      [ (2,4) x9,y2 ]      [ (2,5) x10,y2 ]   \n",
      "[ (3,1) x11,y3 ]     [ (3,2) x12,y3 ]     [ (3,3) x13,y3 ]     [ (3,4) x14,y3 ]     [ (3,5) x15,y3 ]   \n",
      "[ (4,1) x16,y4 ]     [ (4,2) x17,y4 ]     [ (4,3) x18,y4 ]     [ (4,4) x19,y4 ]     [ (4,5) x20,y4 ]   \n",
      "[ (5,1) x21,y5 ]     [ (5,2) x22,y5 ]     [ (5,3) x23,y5 ]     [ (5,4) x24,y5 ]     [ (5,5) x25,y5 ]   \n",
      "[ (6,1) x26,y6 ]     [ (6,2) x27,y6 ]     [ (6,3) x28,y6 ]     [ (6,4) x29,y6 ]     [ (6,5) x30,y6 ]   \n",
      "[ (7,1) x31,y7 ]     [ (7,2) x32,y7 ]     [ (7,3) x33,y7 ]     [ (7,4) x34,y7 ]     [ (7,5) x35,y7 ]   \n",
      "[ (8,1) x36,y8 ]     [ (8,2) x37,y8 ]     [ (8,3) x38,y8 ]     [ (8,4) x39,y8 ]     [ (8,5) x40,y8 ]   \n",
      "[ (9,1) x41,y9 ]     [ (9,2) x42,y9 ]     [ (9,3) x43,y9 ]     [ (9,4) x44,y9 ]     [ (9,5) x45,y9 ]   \n",
      "[ (10,1) x46,y10 ]   [ (10,2) x47,y10 ]   [ (10,3) x48,y10 ]   [ (10,4) x49,y10 ]   [ (10,5) x50,y10 ] \n",
      "[ (11,1) x51,y11 ]   [ (11,2) x52,y11 ]   [ (11,3) x53,y11 ]   [ (11,4) x54,y11 ]   [ (11,5) x55,y11 ] \n",
      "[ (12,1) x56,y12 ]   [ (12,2) x57,y12 ]   [ (12,3) x58,y12 ]   [ (12,4) x59,y12 ]   [ (12,5) x60,y12 ] \n",
      "[ (13,1) x61,y13 ]   [ (13,2) x62,y13 ]   [ (13,3) x63,y13 ]   [ (13,4) x64,y13 ]   [ (13,5) x65,y13 ] \n",
      "[ (14,1) x66,y14 ]   [ (14,2) x67,y14 ]   [ (14,3) x68,y14 ]   [ (14,4) x69,y14 ]   [ (14,5) x70,y14 ] \n",
      "[ (15,1) x71,y15 ]   [ (15,2) x72,y15 ]   [ (15,3) x73,y15 ]   [ (15,4) x74,y15 ]   [ (15,5) x75,y15 ] \n",
      "[ (16,1) x76,y16 ]   [ (16,2) x77,y16 ]   [ (16,3) x78,y16 ]   [ (16,4) x79,y16 ]   [ (16,5) x80,y16 ] \n",
      "[ (17,1) x81,y17 ]   [ (17,2) x82,y17 ]   [ (17,3) x83,y17 ]   [ (17,4) x84,y17 ]   [ (17,5) x85,y17 ] \n",
      "[ (18,1) x86,y18 ]   [ (18,2) x87,y18 ]   [ (18,3) x88,y18 ]   [ (18,4) x89,y18 ]   [ (18,5) x90,y18 ] \n",
      "[ (19,1) x91,y19 ]   [ (19,2) x92,y19 ]   [ (19,3) x93,y19 ]   [ (19,4) x94,y19 ]   [ (19,5) x95,y19 ] \n",
      "[ (20,1) x96,y20 ]   [ (20,2) x97,y20 ]   [ (20,3) x98,y20 ]   [ (20,4) x99,y20 ]   [ (20,5) x100,y20 ]\n",
      "[ (21,1) x101,y21 ]  [ (21,2) x102,y21 ]  [ (21,3) x103,y21 ]  [ (21,4) x104,y21 ]  [ (21,5) x105,y21 ]\n",
      "[ (22,1) x106,y22 ]  [ (22,2) x107,y22 ]  [ (22,3) x108,y22 ]  [ (22,4) x109,y22 ]  [ (22,5) x110,y22 ]\n",
      "[ (23,1) x111,y23 ]  [ (23,2) x112,y23 ]  [ (23,3) x113,y23 ]  [ (23,4) x114,y23 ]  [ (23,5) x115,y23 ]\n",
      "[ (24,1) x116,y24 ]  [ (24,2) x117,y24 ]  [ (24,3) x118,y24 ]  [ (24,4) x119,y24 ]  [ (24,5) x120,y24 ]\n",
      "[ (25,1) x121,y25 ]  [ (25,2) x122,y25 ]  [ (25,3) x123,y25 ]  [ (25,4) x124,y25 ]  [ (25,5) x125,y25 ]\n",
      "[ (26,1) x126,y26 ]  [ (26,2) x127,y26 ]  [ (26,3) x128,y26 ]  [ (26,4) x129,y26 ]  [ (26,5) x130,y26 ]\n",
      "[ (27,1) x131,y27 ]  [ (27,2) x132,y27 ]  [ (27,3) x133,y27 ]  [ (27,4) x134,y27 ]  [ (27,5) x135,y27 ]\n",
      "[ (28,1) x136,y28 ]  [ (28,2) x137,y28 ]  [ (28,3) x138,y28 ]  [ (28,4) x139,y28 ]  [ (28,5) x140,y28 ]\n",
      "[ (29,1) x141,y29 ]  [ (29,2) x142,y29 ]  [ (29,3) x143,y29 ]  [ (29,4) x144,y29 ]  [ (29,5) x145,y29 ]\n",
      "[ (30,1) x146,y30 ]  [ (30,2) x147,y30 ]  [ (30,3) x148,y30 ]  [ (30,4) x149,y30 ]  [ (30,5) x150,y30 ]\n",
      "[ (31,1) x151,y31 ]  [ (31,2) x152,y31 ]  [ (31,3) x153,y31 ]  [ (31,4) x154,y31 ]  [ (31,5) x155,y31 ]\n",
      "[ (32,1) x156,y32 ]  [ (32,2) x157,y32 ]  [ (32,3) x158,y32 ]  [ (32,4) x159,y32 ]  [ (32,5) x160,y32 ]\n",
      "[ (33,1) x161,y33 ]  [ (33,2) x162,y33 ]  [ (33,3) x163,y33 ]  [ (33,4) x164,y33 ]  [ (33,5) x165,y33 ]\n",
      "[ (34,1) x166,y34 ]  [ (34,2) x167,y34 ]  [ (34,3) x168,y34 ]  [ (34,4) x169,y34 ]  [ (34,5) x170,y34 ]\n",
      "[ (35,1) x171,y35 ]  [ (35,2) x172,y35 ]  [ (35,3) x173,y35 ]  [ (35,4) x174,y35 ]  [ (35,5) x175,y35 ]\n",
      "[ (36,1) x176,y36 ]  [ (36,2) x177,y36 ]  [ (36,3) x178,y36 ]  [ (36,4) x179,y36 ]  [ (36,5) x180,y36 ]\n",
      "[ (37,1) x181,y37 ]  [ (37,2) x182,y37 ]  [ (37,3) x183,y37 ]  [ (37,4) x184,y37 ]  [ (37,5) x185,y37 ]\n",
      "[ (38,1) x186,y38 ]  [ (38,2) x187,y38 ]  [ (38,3) x188,y38 ]  [ (38,4) x189,y38 ]  [ (38,5) x190,y38 ]\n",
      "[ (39,1) x191,y39 ]  [ (39,2) x192,y39 ]  [ (39,3) x193,y39 ]  [ (39,4) x194,y39 ]  [ (39,5) x195,y39 ]\n",
      "[ (40,1) x196,y40 ]  [ (40,2) x197,y40 ]  [ (40,3) x198,y40 ]  [ (40,4) x199,y40 ]  [ (40,5) x200,y40 ]\n",
      "\n"
     ]
    },
    {
     "data": {
      "application/vnd.plotly.v1+json": {
       "config": {
        "linkText": "Export to plot.ly",
        "plotlyServerURL": "https://plot.ly",
        "showLink": false
       },
       "data": [
        {
         "marker": {
          "color": [
           "rgb(214,96,77)",
           "rgb(214,96,77)",
           "rgb(214,96,77)",
           "rgb(214,96,77)",
           "rgb(214,96,77)",
           "rgb(214,96,77)",
           "rgb(214,96,77)"
          ]
         },
         "type": "bar",
         "uid": "59b4fc52-3346-4893-9ad5-55d71575c39a",
         "x": [
          1,
          2,
          3,
          4,
          5,
          6,
          7
         ],
         "xaxis": "x",
         "y": [
          0.007537688442211055,
          0.023450586264656615,
          0.01423785594639866,
          0.02847571189279732,
          0.025963149078726967,
          0.5226130653266332,
          0.3777219430485762
         ],
         "yaxis": "y"
        },
        {
         "line": {
          "color": "gray",
          "shape": "spline",
          "width": 3
         },
         "mode": "lines",
         "type": "scatter",
         "uid": "3ff68d98-692d-48b7-9a3e-5cffa16715eb",
         "x": [
          1,
          2,
          3,
          4,
          5,
          6,
          7
         ],
         "xaxis": "x",
         "y": [
          0.07185578359124661,
          0.13864492108344612,
          0.16100379332347023,
          0.15654295710950153,
          0.12406201137295872,
          0.20754597914723844,
          0.14034455437213836
         ],
         "yaxis": "y"
        },
        {
         "marker": {
          "color": [
           "rgb(5,48,97)",
           "rgb(5,48,97)",
           "rgb(5,48,97)",
           "rgb(5,48,97)",
           "rgb(5,48,97)",
           "rgb(5,48,97)",
           "rgb(5,48,97)"
          ]
         },
         "type": "bar",
         "uid": "5fb75393-4585-4643-969d-13e9affdb8f9",
         "x": [
          1,
          2,
          3,
          4,
          5,
          6,
          7
         ],
         "xaxis": "x2",
         "y": [
          0.19287833827893175,
          0.380811078140455,
          0.06429277942631058,
          0.26409495548961426,
          0.09000989119683482,
          0.00791295746785361,
          0
         ],
         "yaxis": "y"
        },
        {
         "line": {
          "color": "gray",
          "shape": "spline",
          "width": 3
         },
         "mode": "lines",
         "type": "scatter",
         "uid": "428b0163-1aec-4490-b346-126ff4a964a1",
         "x": [
          1,
          2,
          3,
          4,
          5,
          6,
          7
         ],
         "xaxis": "x2",
         "y": [
          0.07185578359124661,
          0.13864492108344612,
          0.16100379332347023,
          0.15654295710950153,
          0.12406201137295872,
          0.20754597914723844,
          0.14034455437213836
         ],
         "yaxis": "y"
        },
        {
         "marker": {
          "color": [
           "rgb(33,102,172)",
           "rgb(33,102,172)",
           "rgb(33,102,172)",
           "rgb(33,102,172)",
           "rgb(33,102,172)",
           "rgb(33,102,172)",
           "rgb(33,102,172)"
          ]
         },
         "type": "bar",
         "uid": "05002fd2-de08-46e0-8bf0-ac85cc7eff76",
         "x": [
          1,
          2,
          3,
          4,
          5,
          6,
          7
         ],
         "xaxis": "x3",
         "y": [
          0.02230843840931135,
          0.4122211445198836,
          0.34626576139670223,
          0.1600387972841901,
          0.027158098933074686,
          0.03200775945683802,
          0
         ],
         "yaxis": "y"
        },
        {
         "line": {
          "color": "gray",
          "shape": "spline",
          "width": 3
         },
         "mode": "lines",
         "type": "scatter",
         "uid": "a547c314-6b3a-4b17-86b4-978f3b8fab4a",
         "x": [
          1,
          2,
          3,
          4,
          5,
          6,
          7
         ],
         "xaxis": "x3",
         "y": [
          0.07185578359124661,
          0.13864492108344612,
          0.16100379332347023,
          0.15654295710950153,
          0.12406201137295872,
          0.20754597914723844,
          0.14034455437213836
         ],
         "yaxis": "y"
        },
        {
         "marker": {
          "color": [
           "rgb(244,165,130)",
           "rgb(244,165,130)",
           "rgb(244,165,130)",
           "rgb(244,165,130)",
           "rgb(244,165,130)",
           "rgb(244,165,130)",
           "rgb(244,165,130)"
          ]
         },
         "type": "bar",
         "uid": "8d75b3d7-144b-4a7b-b413-db462cb9c4bd",
         "x": [
          1,
          2,
          3,
          4,
          5,
          6,
          7
         ],
         "xaxis": "x4",
         "y": [
          0.03656998738965952,
          0.1343001261034048,
          0.30958385876418665,
          0.4041614123581337,
          0.10025220680958385,
          0.015132408575031526,
          0
         ],
         "yaxis": "y"
        },
        {
         "line": {
          "color": "gray",
          "shape": "spline",
          "width": 3
         },
         "mode": "lines",
         "type": "scatter",
         "uid": "970af6b4-bf1f-411a-865e-ad26c47cdf9c",
         "x": [
          1,
          2,
          3,
          4,
          5,
          6,
          7
         ],
         "xaxis": "x4",
         "y": [
          0.07185578359124661,
          0.13864492108344612,
          0.16100379332347023,
          0.15654295710950153,
          0.12406201137295872,
          0.20754597914723844,
          0.14034455437213836
         ],
         "yaxis": "y"
        },
        {
         "marker": {
          "color": [
           "rgb(178,24,43)",
           "rgb(178,24,43)",
           "rgb(178,24,43)",
           "rgb(178,24,43)",
           "rgb(178,24,43)",
           "rgb(178,24,43)",
           "rgb(178,24,43)"
          ]
         },
         "type": "bar",
         "uid": "cdd89440-8701-4b44-b7d6-ef5ef9eba493",
         "x": [
          1,
          2,
          3,
          4,
          5,
          6,
          7
         ],
         "xaxis": "x5",
         "y": [
          0.029779058597502402,
          0.45821325648414984,
          0.16042267050912584,
          0.23823246878001922,
          0.06147934678194044,
          0.05187319884726225,
          0
         ],
         "yaxis": "y"
        },
        {
         "line": {
          "color": "gray",
          "shape": "spline",
          "width": 3
         },
         "mode": "lines",
         "type": "scatter",
         "uid": "0af90577-b192-4da9-a853-808877d73030",
         "x": [
          1,
          2,
          3,
          4,
          5,
          6,
          7
         ],
         "xaxis": "x5",
         "y": [
          0.07185578359124661,
          0.13864492108344612,
          0.16100379332347023,
          0.15654295710950153,
          0.12406201137295872,
          0.20754597914723844,
          0.14034455437213836
         ],
         "yaxis": "y"
        },
        {
         "marker": {
          "color": [
           "rgb(214,96,77)",
           "rgb(214,96,77)",
           "rgb(214,96,77)",
           "rgb(214,96,77)",
           "rgb(214,96,77)",
           "rgb(214,96,77)",
           "rgb(214,96,77)"
          ]
         },
         "type": "bar",
         "uid": "0c853a28-9428-4cf5-92c6-f40a35956df8",
         "x": [
          1,
          2,
          3,
          4,
          5,
          6,
          7
         ],
         "xaxis": "x6",
         "y": [
          0.21396993810786913,
          0.376657824933687,
          0.16445623342175067,
          0.14677276746242263,
          0.04597701149425287,
          0.052166224580017684,
          0
         ],
         "yaxis": "y2"
        },
        {
         "line": {
          "color": "gray",
          "shape": "spline",
          "width": 3
         },
         "mode": "lines",
         "type": "scatter",
         "uid": "0276687c-a18f-4976-b9a3-1f270473033f",
         "x": [
          1,
          2,
          3,
          4,
          5,
          6,
          7
         ],
         "xaxis": "x6",
         "y": [
          0.07185578359124661,
          0.13864492108344612,
          0.16100379332347023,
          0.15654295710950153,
          0.12406201137295872,
          0.20754597914723844,
          0.14034455437213836
         ],
         "yaxis": "y2"
        },
        {
         "marker": {
          "color": [
           "rgb(5,48,97)",
           "rgb(5,48,97)",
           "rgb(5,48,97)",
           "rgb(5,48,97)",
           "rgb(5,48,97)",
           "rgb(5,48,97)",
           "rgb(5,48,97)"
          ]
         },
         "type": "bar",
         "uid": "c6fd6080-7d9b-4cfb-a434-ac0179b474c8",
         "x": [
          1,
          2,
          3,
          4,
          5,
          6,
          7
         ],
         "xaxis": "x7",
         "y": [
          0.12795549374130738,
          0.1404728789986092,
          0.3894297635605007,
          0.27399165507649514,
          0.02086230876216968,
          0.04450625869262865,
          0.0027816411682892906
         ],
         "yaxis": "y2"
        },
        {
         "line": {
          "color": "gray",
          "shape": "spline",
          "width": 3
         },
         "mode": "lines",
         "type": "scatter",
         "uid": "0afb4fa4-a5db-499e-9860-1a0510187fe9",
         "x": [
          1,
          2,
          3,
          4,
          5,
          6,
          7
         ],
         "xaxis": "x7",
         "y": [
          0.07185578359124661,
          0.13864492108344612,
          0.16100379332347023,
          0.15654295710950153,
          0.12406201137295872,
          0.20754597914723844,
          0.14034455437213836
         ],
         "yaxis": "y2"
        },
        {
         "marker": {
          "color": [
           "rgb(33,102,172)",
           "rgb(33,102,172)",
           "rgb(33,102,172)",
           "rgb(33,102,172)",
           "rgb(33,102,172)",
           "rgb(33,102,172)",
           "rgb(33,102,172)"
          ]
         },
         "type": "bar",
         "uid": "aa9735c8-e67c-4d8a-8195-2e0df5e59438",
         "x": [
          1,
          2,
          3,
          4,
          5,
          6,
          7
         ],
         "xaxis": "x8",
         "y": [
          0.005829015544041451,
          0.02461139896373057,
          0.046632124352331605,
          0.07966321243523317,
          0.027849740932642485,
          0.4430051813471503,
          0.37240932642487046
         ],
         "yaxis": "y2"
        },
        {
         "line": {
          "color": "gray",
          "shape": "spline",
          "width": 3
         },
         "mode": "lines",
         "type": "scatter",
         "uid": "6dee715a-e99c-4d96-9035-7da22624b023",
         "x": [
          1,
          2,
          3,
          4,
          5,
          6,
          7
         ],
         "xaxis": "x8",
         "y": [
          0.07185578359124661,
          0.13864492108344612,
          0.16100379332347023,
          0.15654295710950153,
          0.12406201137295872,
          0.20754597914723844,
          0.14034455437213836
         ],
         "yaxis": "y2"
        },
        {
         "marker": {
          "color": [
           "rgb(244,165,130)",
           "rgb(244,165,130)",
           "rgb(244,165,130)",
           "rgb(244,165,130)",
           "rgb(244,165,130)",
           "rgb(244,165,130)",
           "rgb(244,165,130)"
          ]
         },
         "type": "bar",
         "uid": "cec2f6a0-fd3e-4abf-ad5f-a1e8ac66f956",
         "x": [
          1,
          2,
          3,
          4,
          5,
          6,
          7
         ],
         "xaxis": "x9",
         "y": [
          0.1942645698427382,
          0.3940795559666975,
          0.16096207215541167,
          0.14061054579093432,
          0.05550416281221091,
          0.0545790934320074,
          0
         ],
         "yaxis": "y2"
        },
        {
         "line": {
          "color": "gray",
          "shape": "spline",
          "width": 3
         },
         "mode": "lines",
         "type": "scatter",
         "uid": "1407ebca-fcb2-4997-8cf4-ef86b60d7081",
         "x": [
          1,
          2,
          3,
          4,
          5,
          6,
          7
         ],
         "xaxis": "x9",
         "y": [
          0.07185578359124661,
          0.13864492108344612,
          0.16100379332347023,
          0.15654295710950153,
          0.12406201137295872,
          0.20754597914723844,
          0.14034455437213836
         ],
         "yaxis": "y2"
        },
        {
         "marker": {
          "color": [
           "rgb(178,24,43)",
           "rgb(178,24,43)",
           "rgb(178,24,43)",
           "rgb(178,24,43)",
           "rgb(178,24,43)",
           "rgb(178,24,43)",
           "rgb(178,24,43)"
          ]
         },
         "type": "bar",
         "uid": "c9f52cfc-1d42-43e2-ac7b-ef46e74e2a44",
         "x": [
          1,
          2,
          3,
          4,
          5,
          6,
          7
         ],
         "xaxis": "x10",
         "y": [
          0.0629024269440317,
          0.19564140663694898,
          0.24913323427439327,
          0.33382862803368,
          0.14611193660227836,
          0.012382367508667657,
          0
         ],
         "yaxis": "y2"
        },
        {
         "line": {
          "color": "gray",
          "shape": "spline",
          "width": 3
         },
         "mode": "lines",
         "type": "scatter",
         "uid": "ed36594b-0a3b-4bd8-95e5-1c188799ece9",
         "x": [
          1,
          2,
          3,
          4,
          5,
          6,
          7
         ],
         "xaxis": "x10",
         "y": [
          0.07185578359124661,
          0.13864492108344612,
          0.16100379332347023,
          0.15654295710950153,
          0.12406201137295872,
          0.20754597914723844,
          0.14034455437213836
         ],
         "yaxis": "y2"
        },
        {
         "marker": {
          "color": [
           "rgb(214,96,77)",
           "rgb(214,96,77)",
           "rgb(214,96,77)",
           "rgb(214,96,77)",
           "rgb(214,96,77)",
           "rgb(214,96,77)",
           "rgb(214,96,77)"
          ]
         },
         "type": "bar",
         "uid": "77cbc57d-9409-4049-b284-870aec5a596f",
         "x": [
          1,
          2,
          3,
          4,
          5,
          6,
          7
         ],
         "xaxis": "x11",
         "y": [
          0.06562703053931124,
          0.21334199696772796,
          0.30409356725146197,
          0.2962962962962963,
          0.10851202079272254,
          0.008663634394628547,
          0.0034654537578514186
         ],
         "yaxis": "y3"
        },
        {
         "line": {
          "color": "gray",
          "shape": "spline",
          "width": 3
         },
         "mode": "lines",
         "type": "scatter",
         "uid": "af3d62a3-c76d-4325-a179-b31533772680",
         "x": [
          1,
          2,
          3,
          4,
          5,
          6,
          7
         ],
         "xaxis": "x11",
         "y": [
          0.07185578359124661,
          0.13864492108344612,
          0.16100379332347023,
          0.15654295710950153,
          0.12406201137295872,
          0.20754597914723844,
          0.14034455437213836
         ],
         "yaxis": "y3"
        },
        {
         "marker": {
          "color": [
           "rgb(5,48,97)",
           "rgb(5,48,97)",
           "rgb(5,48,97)",
           "rgb(5,48,97)",
           "rgb(5,48,97)",
           "rgb(5,48,97)",
           "rgb(5,48,97)"
          ]
         },
         "type": "bar",
         "uid": "ba1356e8-cd6f-4d78-b8fe-bd717cf5a982",
         "x": [
          1,
          2,
          3,
          4,
          5,
          6,
          7
         ],
         "xaxis": "x12",
         "y": [
          0.03272845106934543,
          0.32177576150356446,
          0.28224238496435516,
          0.2517822423849643,
          0.08781594296824369,
          0.01814646791963707,
          0.005508749189889825
         ],
         "yaxis": "y3"
        },
        {
         "line": {
          "color": "gray",
          "shape": "spline",
          "width": 3
         },
         "mode": "lines",
         "type": "scatter",
         "uid": "9f7326c9-955b-4ccb-aeb5-fe3a083c831d",
         "x": [
          1,
          2,
          3,
          4,
          5,
          6,
          7
         ],
         "xaxis": "x12",
         "y": [
          0.07185578359124661,
          0.13864492108344612,
          0.16100379332347023,
          0.15654295710950153,
          0.12406201137295872,
          0.20754597914723844,
          0.14034455437213836
         ],
         "yaxis": "y3"
        },
        {
         "marker": {
          "color": [
           "rgb(33,102,172)",
           "rgb(33,102,172)",
           "rgb(33,102,172)",
           "rgb(33,102,172)",
           "rgb(33,102,172)",
           "rgb(33,102,172)",
           "rgb(33,102,172)"
          ]
         },
         "type": "bar",
         "uid": "6433880d-365b-407c-84c4-07f44d52ee08",
         "x": [
          1,
          2,
          3,
          4,
          5,
          6,
          7
         ],
         "xaxis": "x13",
         "y": [
          0.06866110838646396,
          0.16748406081412456,
          0.33055419323197643,
          0.30652280529671405,
          0.11083864639529181,
          0.012506130456105935,
          0.0034330554193231977
         ],
         "yaxis": "y3"
        },
        {
         "line": {
          "color": "gray",
          "shape": "spline",
          "width": 3
         },
         "mode": "lines",
         "type": "scatter",
         "uid": "9898c09b-7eb9-418f-87c8-8ab7856d8914",
         "x": [
          1,
          2,
          3,
          4,
          5,
          6,
          7
         ],
         "xaxis": "x13",
         "y": [
          0.07185578359124661,
          0.13864492108344612,
          0.16100379332347023,
          0.15654295710950153,
          0.12406201137295872,
          0.20754597914723844,
          0.14034455437213836
         ],
         "yaxis": "y3"
        },
        {
         "marker": {
          "color": [
           "rgb(244,165,130)",
           "rgb(244,165,130)",
           "rgb(244,165,130)",
           "rgb(244,165,130)",
           "rgb(244,165,130)",
           "rgb(244,165,130)",
           "rgb(244,165,130)"
          ]
         },
         "type": "bar",
         "uid": "290fc930-e460-420e-b2fa-ac7c2e72ec0c",
         "x": [
          1,
          2,
          3,
          4,
          5,
          6,
          7
         ],
         "xaxis": "x14",
         "y": [
          0.00946643717728055,
          0.3270223752151463,
          0.28313253012048195,
          0.193631669535284,
          0.0034423407917383822,
          0.17986230636833048,
          0.0034423407917383822
         ],
         "yaxis": "y3"
        },
        {
         "line": {
          "color": "gray",
          "shape": "spline",
          "width": 3
         },
         "mode": "lines",
         "type": "scatter",
         "uid": "84b39ac5-e548-41c9-bc95-939e68a6e8a3",
         "x": [
          1,
          2,
          3,
          4,
          5,
          6,
          7
         ],
         "xaxis": "x14",
         "y": [
          0.07185578359124661,
          0.13864492108344612,
          0.16100379332347023,
          0.15654295710950153,
          0.12406201137295872,
          0.20754597914723844,
          0.14034455437213836
         ],
         "yaxis": "y3"
        },
        {
         "marker": {
          "color": [
           "rgb(178,24,43)",
           "rgb(178,24,43)",
           "rgb(178,24,43)",
           "rgb(178,24,43)",
           "rgb(178,24,43)",
           "rgb(178,24,43)",
           "rgb(178,24,43)"
          ]
         },
         "type": "bar",
         "uid": "c12c0f14-508a-4051-96b6-311a93c420b7",
         "x": [
          1,
          2,
          3,
          4,
          5,
          6,
          7
         ],
         "xaxis": "x15",
         "y": [
          0.11495327102803739,
          0.24766355140186916,
          0.2738317757009346,
          0.20654205607476636,
          0.14392523364485982,
          0.013084112149532711,
          0
         ],
         "yaxis": "y3"
        },
        {
         "line": {
          "color": "gray",
          "shape": "spline",
          "width": 3
         },
         "mode": "lines",
         "type": "scatter",
         "uid": "8085b525-0b25-4fe5-9647-a438611fcf02",
         "x": [
          1,
          2,
          3,
          4,
          5,
          6,
          7
         ],
         "xaxis": "x15",
         "y": [
          0.07185578359124661,
          0.13864492108344612,
          0.16100379332347023,
          0.15654295710950153,
          0.12406201137295872,
          0.20754597914723844,
          0.14034455437213836
         ],
         "yaxis": "y3"
        },
        {
         "marker": {
          "color": [
           "rgb(214,96,77)",
           "rgb(214,96,77)",
           "rgb(214,96,77)",
           "rgb(214,96,77)",
           "rgb(214,96,77)",
           "rgb(214,96,77)",
           "rgb(214,96,77)"
          ]
         },
         "type": "bar",
         "uid": "49b1fa6b-6825-4404-bba1-f15f8ecc1f04",
         "x": [
          1,
          2,
          3,
          4,
          5,
          6,
          7
         ],
         "xaxis": "x16",
         "y": [
          0.12246117084826762,
          0.1009557945041816,
          0.5244922341696535,
          0.0967741935483871,
          0.0908004778972521,
          0.056152927120669056,
          0.008363201911589008
         ],
         "yaxis": "y4"
        },
        {
         "line": {
          "color": "gray",
          "shape": "spline",
          "width": 3
         },
         "mode": "lines",
         "type": "scatter",
         "uid": "36114b44-c58a-48b4-85df-21108ebc2189",
         "x": [
          1,
          2,
          3,
          4,
          5,
          6,
          7
         ],
         "xaxis": "x16",
         "y": [
          0.07185578359124661,
          0.13864492108344612,
          0.16100379332347023,
          0.15654295710950153,
          0.12406201137295872,
          0.20754597914723844,
          0.14034455437213836
         ],
         "yaxis": "y4"
        },
        {
         "marker": {
          "color": [
           "rgb(5,48,97)",
           "rgb(5,48,97)",
           "rgb(5,48,97)",
           "rgb(5,48,97)",
           "rgb(5,48,97)",
           "rgb(5,48,97)",
           "rgb(5,48,97)"
          ]
         },
         "type": "bar",
         "uid": "c9f89c51-3ec0-4153-b724-0ded17fc12de",
         "x": [
          1,
          2,
          3,
          4,
          5,
          6,
          7
         ],
         "xaxis": "x17",
         "y": [
          0.10371408549404344,
          0.23756131744919412,
          0.3181499649614576,
          0.2543798177995795,
          0.05956552207428171,
          0.025227750525578137,
          0.001401541695865452
         ],
         "yaxis": "y4"
        },
        {
         "line": {
          "color": "gray",
          "shape": "spline",
          "width": 3
         },
         "mode": "lines",
         "type": "scatter",
         "uid": "b8f4ebf7-ad8d-4c7d-921a-e9f3826ca043",
         "x": [
          1,
          2,
          3,
          4,
          5,
          6,
          7
         ],
         "xaxis": "x17",
         "y": [
          0.07185578359124661,
          0.13864492108344612,
          0.16100379332347023,
          0.15654295710950153,
          0.12406201137295872,
          0.20754597914723844,
          0.14034455437213836
         ],
         "yaxis": "y4"
        },
        {
         "marker": {
          "color": [
           "rgb(33,102,172)",
           "rgb(33,102,172)",
           "rgb(33,102,172)",
           "rgb(33,102,172)",
           "rgb(33,102,172)",
           "rgb(33,102,172)",
           "rgb(33,102,172)"
          ]
         },
         "type": "bar",
         "uid": "0bd309a8-8a58-4db0-bf37-12c014ff4b74",
         "x": [
          1,
          2,
          3,
          4,
          5,
          6,
          7
         ],
         "xaxis": "x18",
         "y": [
          0.06666666666666667,
          0.14212218649517686,
          0.3256162915326902,
          0.3168274383708467,
          0.12775991425509112,
          0.0180064308681672,
          0.0030010718113612006
         ],
         "yaxis": "y4"
        },
        {
         "line": {
          "color": "gray",
          "shape": "spline",
          "width": 3
         },
         "mode": "lines",
         "type": "scatter",
         "uid": "872d8e58-18a0-40db-bd6c-e59c8d764e3d",
         "x": [
          1,
          2,
          3,
          4,
          5,
          6,
          7
         ],
         "xaxis": "x18",
         "y": [
          0.07185578359124661,
          0.13864492108344612,
          0.16100379332347023,
          0.15654295710950153,
          0.12406201137295872,
          0.20754597914723844,
          0.14034455437213836
         ],
         "yaxis": "y4"
        },
        {
         "marker": {
          "color": [
           "rgb(244,165,130)",
           "rgb(244,165,130)",
           "rgb(244,165,130)",
           "rgb(244,165,130)",
           "rgb(244,165,130)",
           "rgb(244,165,130)",
           "rgb(244,165,130)"
          ]
         },
         "type": "bar",
         "uid": "a6c3f19a-a6ae-4e87-a7f7-5161cc1544e3",
         "x": [
          1,
          2,
          3,
          4,
          5,
          6,
          7
         ],
         "xaxis": "x19",
         "y": [
          0.045923460898502494,
          0.2938435940099834,
          0.270216306156406,
          0.2788685524126456,
          0.07554076539101498,
          0.035607321131447586,
          0
         ],
         "yaxis": "y4"
        },
        {
         "line": {
          "color": "gray",
          "shape": "spline",
          "width": 3
         },
         "mode": "lines",
         "type": "scatter",
         "uid": "0e5e2787-5067-41d6-8620-db4045b2048b",
         "x": [
          1,
          2,
          3,
          4,
          5,
          6,
          7
         ],
         "xaxis": "x19",
         "y": [
          0.07185578359124661,
          0.13864492108344612,
          0.16100379332347023,
          0.15654295710950153,
          0.12406201137295872,
          0.20754597914723844,
          0.14034455437213836
         ],
         "yaxis": "y4"
        },
        {
         "marker": {
          "color": [
           "rgb(178,24,43)",
           "rgb(178,24,43)",
           "rgb(178,24,43)",
           "rgb(178,24,43)",
           "rgb(178,24,43)",
           "rgb(178,24,43)",
           "rgb(178,24,43)"
          ]
         },
         "type": "bar",
         "uid": "0953b1ee-e6c9-405c-b80f-1a0f46c49aa7",
         "x": [
          1,
          2,
          3,
          4,
          5,
          6,
          7
         ],
         "xaxis": "x20",
         "y": [
          0.050761421319796954,
          0.21157360406091372,
          0.31614213197969543,
          0.2913705583756345,
          0.10781725888324874,
          0.01949238578680203,
          0.0028426395939086294
         ],
         "yaxis": "y4"
        },
        {
         "line": {
          "color": "gray",
          "shape": "spline",
          "width": 3
         },
         "mode": "lines",
         "type": "scatter",
         "uid": "b0d4f4a4-ea05-4359-a647-ab42d546fe4e",
         "x": [
          1,
          2,
          3,
          4,
          5,
          6,
          7
         ],
         "xaxis": "x20",
         "y": [
          0.07185578359124661,
          0.13864492108344612,
          0.16100379332347023,
          0.15654295710950153,
          0.12406201137295872,
          0.20754597914723844,
          0.14034455437213836
         ],
         "yaxis": "y4"
        },
        {
         "marker": {
          "color": [
           "rgb(214,96,77)",
           "rgb(214,96,77)",
           "rgb(214,96,77)",
           "rgb(214,96,77)",
           "rgb(214,96,77)",
           "rgb(214,96,77)",
           "rgb(214,96,77)"
          ]
         },
         "type": "bar",
         "uid": "b385a7d2-6a0a-4e65-b7c4-54753afe2f91",
         "x": [
          1,
          2,
          3,
          4,
          5,
          6,
          7
         ],
         "xaxis": "x21",
         "y": [
          0.09021406727828746,
          0.3256880733944954,
          0.382262996941896,
          0.06345565749235474,
          0.046636085626911315,
          0.08792048929663608,
          0.00382262996941896
         ],
         "yaxis": "y5"
        },
        {
         "line": {
          "color": "gray",
          "shape": "spline",
          "width": 3
         },
         "mode": "lines",
         "type": "scatter",
         "uid": "998cd913-6fdb-4314-9eed-4c0f41bb3e97",
         "x": [
          1,
          2,
          3,
          4,
          5,
          6,
          7
         ],
         "xaxis": "x21",
         "y": [
          0.07185578359124661,
          0.13864492108344612,
          0.16100379332347023,
          0.15654295710950153,
          0.12406201137295872,
          0.20754597914723844,
          0.14034455437213836
         ],
         "yaxis": "y5"
        },
        {
         "marker": {
          "color": [
           "rgb(5,48,97)",
           "rgb(5,48,97)",
           "rgb(5,48,97)",
           "rgb(5,48,97)",
           "rgb(5,48,97)",
           "rgb(5,48,97)",
           "rgb(5,48,97)"
          ]
         },
         "type": "bar",
         "uid": "1144621c-78e1-42db-9b41-ce40011938bd",
         "x": [
          1,
          2,
          3,
          4,
          5,
          6,
          7
         ],
         "xaxis": "x22",
         "y": [
          0.04731525784157363,
          0.24508240297713982,
          0.29771398192450826,
          0.31632110579479,
          0.052099946836788945,
          0.03934077618288145,
          0.002126528442317916
         ],
         "yaxis": "y5"
        },
        {
         "line": {
          "color": "gray",
          "shape": "spline",
          "width": 3
         },
         "mode": "lines",
         "type": "scatter",
         "uid": "ab618322-80e0-44db-b727-ad574def618e",
         "x": [
          1,
          2,
          3,
          4,
          5,
          6,
          7
         ],
         "xaxis": "x22",
         "y": [
          0.07185578359124661,
          0.13864492108344612,
          0.16100379332347023,
          0.15654295710950153,
          0.12406201137295872,
          0.20754597914723844,
          0.14034455437213836
         ],
         "yaxis": "y5"
        },
        {
         "marker": {
          "color": [
           "rgb(33,102,172)",
           "rgb(33,102,172)",
           "rgb(33,102,172)",
           "rgb(33,102,172)",
           "rgb(33,102,172)",
           "rgb(33,102,172)",
           "rgb(33,102,172)"
          ]
         },
         "type": "bar",
         "uid": "8ac52d2d-766f-445e-b899-776bacb95335",
         "x": [
          1,
          2,
          3,
          4,
          5,
          6,
          7
         ],
         "xaxis": "x23",
         "y": [
          0.030291835980790542,
          0.016623568526043592,
          0.043960103435537495,
          0.0365718507572959,
          0.4004432951606945,
          0.33173254525304763,
          0.14037680088659032
         ],
         "yaxis": "y5"
        },
        {
         "line": {
          "color": "gray",
          "shape": "spline",
          "width": 3
         },
         "mode": "lines",
         "type": "scatter",
         "uid": "8bf62707-dbcf-4c23-a60b-23ffbfaef207",
         "x": [
          1,
          2,
          3,
          4,
          5,
          6,
          7
         ],
         "xaxis": "x23",
         "y": [
          0.07185578359124661,
          0.13864492108344612,
          0.16100379332347023,
          0.15654295710950153,
          0.12406201137295872,
          0.20754597914723844,
          0.14034455437213836
         ],
         "yaxis": "y5"
        },
        {
         "marker": {
          "color": [
           "rgb(244,165,130)",
           "rgb(244,165,130)",
           "rgb(244,165,130)",
           "rgb(244,165,130)",
           "rgb(244,165,130)",
           "rgb(244,165,130)",
           "rgb(244,165,130)"
          ]
         },
         "type": "bar",
         "uid": "d5218587-e548-41cd-989c-9003869ec53b",
         "x": [
          1,
          2,
          3,
          4,
          5,
          6,
          7
         ],
         "xaxis": "x24",
         "y": [
          0.0735009671179884,
          0.3452611218568665,
          0.18762088974854932,
          0.24758220502901354,
          0.11605415860735009,
          0.029980657640232108,
          0
         ],
         "yaxis": "y5"
        },
        {
         "line": {
          "color": "gray",
          "shape": "spline",
          "width": 3
         },
         "mode": "lines",
         "type": "scatter",
         "uid": "277869ee-6361-46b8-b9fa-fa2da804790c",
         "x": [
          1,
          2,
          3,
          4,
          5,
          6,
          7
         ],
         "xaxis": "x24",
         "y": [
          0.07185578359124661,
          0.13864492108344612,
          0.16100379332347023,
          0.15654295710950153,
          0.12406201137295872,
          0.20754597914723844,
          0.14034455437213836
         ],
         "yaxis": "y5"
        },
        {
         "marker": {
          "color": [
           "rgb(178,24,43)",
           "rgb(178,24,43)",
           "rgb(178,24,43)",
           "rgb(178,24,43)",
           "rgb(178,24,43)",
           "rgb(178,24,43)",
           "rgb(178,24,43)"
          ]
         },
         "type": "bar",
         "uid": "2e1eb5d8-30ba-4cf8-bf45-8a3eda58d404",
         "x": [
          1,
          2,
          3,
          4,
          5,
          6,
          7
         ],
         "xaxis": "x25",
         "y": [
          0.10512367491166077,
          0.12014134275618374,
          0.411660777385159,
          0.14929328621908128,
          0.18197879858657243,
          0.029151943462897525,
          0.00265017667844523
         ],
         "yaxis": "y5"
        },
        {
         "line": {
          "color": "gray",
          "shape": "spline",
          "width": 3
         },
         "mode": "lines",
         "type": "scatter",
         "uid": "99a76149-aa0b-4d09-bac2-b97d721f0be5",
         "x": [
          1,
          2,
          3,
          4,
          5,
          6,
          7
         ],
         "xaxis": "x25",
         "y": [
          0.07185578359124661,
          0.13864492108344612,
          0.16100379332347023,
          0.15654295710950153,
          0.12406201137295872,
          0.20754597914723844,
          0.14034455437213836
         ],
         "yaxis": "y5"
        },
        {
         "marker": {
          "color": [
           "rgb(214,96,77)",
           "rgb(214,96,77)",
           "rgb(214,96,77)",
           "rgb(214,96,77)",
           "rgb(214,96,77)",
           "rgb(214,96,77)",
           "rgb(214,96,77)"
          ]
         },
         "type": "bar",
         "uid": "394f2634-526b-4e43-96a1-598220b91b6c",
         "x": [
          1,
          2,
          3,
          4,
          5,
          6,
          7
         ],
         "xaxis": "x26",
         "y": [
          0.03646185010128292,
          0.26333558406482105,
          0.44091829844699526,
          0.09925725860904794,
          0.05671843349088454,
          0.10330857528696827,
          0
         ],
         "yaxis": "y6"
        },
        {
         "line": {
          "color": "gray",
          "shape": "spline",
          "width": 3
         },
         "mode": "lines",
         "type": "scatter",
         "uid": "fbef5493-04e9-4004-be20-6869c4246e9e",
         "x": [
          1,
          2,
          3,
          4,
          5,
          6,
          7
         ],
         "xaxis": "x26",
         "y": [
          0.07185578359124661,
          0.13864492108344612,
          0.16100379332347023,
          0.15654295710950153,
          0.12406201137295872,
          0.20754597914723844,
          0.14034455437213836
         ],
         "yaxis": "y6"
        },
        {
         "marker": {
          "color": [
           "rgb(5,48,97)",
           "rgb(5,48,97)",
           "rgb(5,48,97)",
           "rgb(5,48,97)",
           "rgb(5,48,97)",
           "rgb(5,48,97)",
           "rgb(5,48,97)"
          ]
         },
         "type": "bar",
         "uid": "9b70edd0-e7c0-4e0d-9776-cde96e4f1ca6",
         "x": [
          1,
          2,
          3,
          4,
          5,
          6,
          7
         ],
         "xaxis": "x27",
         "y": [
          0.049637266132111495,
          0.2699503627338679,
          0.2745322642229859,
          0.293241695303551,
          0.08476517754868271,
          0.022145857197403588,
          0.0057273768613974796
         ],
         "yaxis": "y6"
        },
        {
         "line": {
          "color": "gray",
          "shape": "spline",
          "width": 3
         },
         "mode": "lines",
         "type": "scatter",
         "uid": "a28a1d02-375c-413e-b631-10dcd58a567c",
         "x": [
          1,
          2,
          3,
          4,
          5,
          6,
          7
         ],
         "xaxis": "x27",
         "y": [
          0.07185578359124661,
          0.13864492108344612,
          0.16100379332347023,
          0.15654295710950153,
          0.12406201137295872,
          0.20754597914723844,
          0.14034455437213836
         ],
         "yaxis": "y6"
        },
        {
         "marker": {
          "color": [
           "rgb(33,102,172)",
           "rgb(33,102,172)",
           "rgb(33,102,172)",
           "rgb(33,102,172)",
           "rgb(33,102,172)",
           "rgb(33,102,172)",
           "rgb(33,102,172)"
          ]
         },
         "type": "bar",
         "uid": "35903cf7-369a-43e1-80c1-3f76720adbc1",
         "x": [
          1,
          2,
          3,
          4,
          5,
          6,
          7
         ],
         "xaxis": "x28",
         "y": [
          0.1620016963528414,
          0.4257845631891433,
          0.12044105173876166,
          0.1594571670907549,
          0.07463952502120441,
          0.043256997455470736,
          0.01441899915182358
         ],
         "yaxis": "y6"
        },
        {
         "line": {
          "color": "gray",
          "shape": "spline",
          "width": 3
         },
         "mode": "lines",
         "type": "scatter",
         "uid": "de2db184-669e-429e-b0ba-a501da33f066",
         "x": [
          1,
          2,
          3,
          4,
          5,
          6,
          7
         ],
         "xaxis": "x28",
         "y": [
          0.07185578359124661,
          0.13864492108344612,
          0.16100379332347023,
          0.15654295710950153,
          0.12406201137295872,
          0.20754597914723844,
          0.14034455437213836
         ],
         "yaxis": "y6"
        },
        {
         "marker": {
          "color": [
           "rgb(244,165,130)",
           "rgb(244,165,130)",
           "rgb(244,165,130)",
           "rgb(244,165,130)",
           "rgb(244,165,130)",
           "rgb(244,165,130)",
           "rgb(244,165,130)"
          ]
         },
         "type": "bar",
         "uid": "2e43378f-7363-41fd-a7f9-0515afbac60f",
         "x": [
          1,
          2,
          3,
          4,
          5,
          6,
          7
         ],
         "xaxis": "x29",
         "y": [
          0.039634146341463415,
          0.18445121951219512,
          0.3003048780487805,
          0.35365853658536583,
          0.08231707317073171,
          0.0350609756097561,
          0.004573170731707317
         ],
         "yaxis": "y6"
        },
        {
         "line": {
          "color": "gray",
          "shape": "spline",
          "width": 3
         },
         "mode": "lines",
         "type": "scatter",
         "uid": "e84a2f2d-586d-4282-81c0-26ec5adc6fcf",
         "x": [
          1,
          2,
          3,
          4,
          5,
          6,
          7
         ],
         "xaxis": "x29",
         "y": [
          0.07185578359124661,
          0.13864492108344612,
          0.16100379332347023,
          0.15654295710950153,
          0.12406201137295872,
          0.20754597914723844,
          0.14034455437213836
         ],
         "yaxis": "y6"
        },
        {
         "marker": {
          "color": [
           "rgb(178,24,43)",
           "rgb(178,24,43)",
           "rgb(178,24,43)",
           "rgb(178,24,43)",
           "rgb(178,24,43)",
           "rgb(178,24,43)",
           "rgb(178,24,43)"
          ]
         },
         "type": "bar",
         "uid": "38a01fdf-5833-4e86-bdec-e7fc9a62489c",
         "x": [
          1,
          2,
          3,
          4,
          5,
          6,
          7
         ],
         "xaxis": "x30",
         "y": [
          0.19385140905209222,
          0.2852263023057216,
          0.07771135781383433,
          0.13236549957301452,
          0.2553373185311699,
          0.04782237403928266,
          0.007685738684884714
         ],
         "yaxis": "y6"
        },
        {
         "line": {
          "color": "gray",
          "shape": "spline",
          "width": 3
         },
         "mode": "lines",
         "type": "scatter",
         "uid": "55088e91-5bb9-4127-aa57-9359105df00e",
         "x": [
          1,
          2,
          3,
          4,
          5,
          6,
          7
         ],
         "xaxis": "x30",
         "y": [
          0.07185578359124661,
          0.13864492108344612,
          0.16100379332347023,
          0.15654295710950153,
          0.12406201137295872,
          0.20754597914723844,
          0.14034455437213836
         ],
         "yaxis": "y6"
        },
        {
         "marker": {
          "color": [
           "rgb(214,96,77)",
           "rgb(214,96,77)",
           "rgb(214,96,77)",
           "rgb(214,96,77)",
           "rgb(214,96,77)",
           "rgb(214,96,77)",
           "rgb(214,96,77)"
          ]
         },
         "type": "bar",
         "uid": "e37cb29f-3525-4c0f-a053-9295cf3aebef",
         "x": [
          1,
          2,
          3,
          4,
          5,
          6,
          7
         ],
         "xaxis": "x31",
         "y": [
          0.04093567251461988,
          0.15789473684210525,
          0.4619883040935672,
          0.20857699805068225,
          0.04873294346978557,
          0.011695906432748537,
          0.07017543859649122
         ],
         "yaxis": "y7"
        },
        {
         "line": {
          "color": "gray",
          "shape": "spline",
          "width": 3
         },
         "mode": "lines",
         "type": "scatter",
         "uid": "1a1a62cb-4bd2-474a-87cc-c567e9619b04",
         "x": [
          1,
          2,
          3,
          4,
          5,
          6,
          7
         ],
         "xaxis": "x31",
         "y": [
          0.07185578359124661,
          0.13864492108344612,
          0.16100379332347023,
          0.15654295710950153,
          0.12406201137295872,
          0.20754597914723844,
          0.14034455437213836
         ],
         "yaxis": "y7"
        },
        {
         "marker": {
          "color": [
           "rgb(5,48,97)",
           "rgb(5,48,97)",
           "rgb(5,48,97)",
           "rgb(5,48,97)",
           "rgb(5,48,97)",
           "rgb(5,48,97)",
           "rgb(5,48,97)"
          ]
         },
         "type": "bar",
         "uid": "38b2c5db-9028-4956-a44d-474db0983d39",
         "x": [
          1,
          2,
          3,
          4,
          5,
          6,
          7
         ],
         "xaxis": "x32",
         "y": [
          0.19383259911894274,
          0.1196769456681351,
          0.3832599118942731,
          0.16666666666666666,
          0.08957415565345081,
          0.041116005873715125,
          0.005873715124816446
         ],
         "yaxis": "y7"
        },
        {
         "line": {
          "color": "gray",
          "shape": "spline",
          "width": 3
         },
         "mode": "lines",
         "type": "scatter",
         "uid": "96921b24-6a31-4337-bbf7-68b4cb30d4c4",
         "x": [
          1,
          2,
          3,
          4,
          5,
          6,
          7
         ],
         "xaxis": "x32",
         "y": [
          0.07185578359124661,
          0.13864492108344612,
          0.16100379332347023,
          0.15654295710950153,
          0.12406201137295872,
          0.20754597914723844,
          0.14034455437213836
         ],
         "yaxis": "y7"
        },
        {
         "marker": {
          "color": [
           "rgb(33,102,172)",
           "rgb(33,102,172)",
           "rgb(33,102,172)",
           "rgb(33,102,172)",
           "rgb(33,102,172)",
           "rgb(33,102,172)",
           "rgb(33,102,172)"
          ]
         },
         "type": "bar",
         "uid": "a2edd7fa-9b07-406e-8b61-f048325db961",
         "x": [
          1,
          2,
          3,
          4,
          5,
          6,
          7
         ],
         "xaxis": "x33",
         "y": [
          0.13368983957219252,
          0.303475935828877,
          0.268048128342246,
          0.14872994652406418,
          0.05949197860962567,
          0,
          0.08656417112299465
         ],
         "yaxis": "y7"
        },
        {
         "line": {
          "color": "gray",
          "shape": "spline",
          "width": 3
         },
         "mode": "lines",
         "type": "scatter",
         "uid": "bf3da9fd-f482-4b0e-9aee-eaeccd58e077",
         "x": [
          1,
          2,
          3,
          4,
          5,
          6,
          7
         ],
         "xaxis": "x33",
         "y": [
          0.07185578359124661,
          0.13864492108344612,
          0.16100379332347023,
          0.15654295710950153,
          0.12406201137295872,
          0.20754597914723844,
          0.14034455437213836
         ],
         "yaxis": "y7"
        },
        {
         "marker": {
          "color": [
           "rgb(244,165,130)",
           "rgb(244,165,130)",
           "rgb(244,165,130)",
           "rgb(244,165,130)",
           "rgb(244,165,130)",
           "rgb(244,165,130)",
           "rgb(244,165,130)"
          ]
         },
         "type": "bar",
         "uid": "0e686552-589c-4907-873b-a81ed73ef64b",
         "x": [
          1,
          2,
          3,
          4,
          5,
          6,
          7
         ],
         "xaxis": "x34",
         "y": [
          0.16801553900938815,
          0.18646811265781807,
          0.18646811265781807,
          0.1349951440595662,
          0.2829394626092587,
          0.041113629006150856,
          0
         ],
         "yaxis": "y7"
        },
        {
         "line": {
          "color": "gray",
          "shape": "spline",
          "width": 3
         },
         "mode": "lines",
         "type": "scatter",
         "uid": "8ec6aaed-b0ea-4281-8098-6d589114bdbf",
         "x": [
          1,
          2,
          3,
          4,
          5,
          6,
          7
         ],
         "xaxis": "x34",
         "y": [
          0.07185578359124661,
          0.13864492108344612,
          0.16100379332347023,
          0.15654295710950153,
          0.12406201137295872,
          0.20754597914723844,
          0.14034455437213836
         ],
         "yaxis": "y7"
        },
        {
         "marker": {
          "color": [
           "rgb(178,24,43)",
           "rgb(178,24,43)",
           "rgb(178,24,43)",
           "rgb(178,24,43)",
           "rgb(178,24,43)",
           "rgb(178,24,43)",
           "rgb(178,24,43)"
          ]
         },
         "type": "bar",
         "uid": "58a872f4-56ef-4a1f-bd30-7b95267c0635",
         "x": [
          1,
          2,
          3,
          4,
          5,
          6,
          7
         ],
         "xaxis": "x35",
         "y": [
          0.048748353096179184,
          0.3820816864295125,
          0.17654808959156784,
          0.2437417654808959,
          0.08827404479578392,
          0.06060606060606061,
          0
         ],
         "yaxis": "y7"
        },
        {
         "line": {
          "color": "gray",
          "shape": "spline",
          "width": 3
         },
         "mode": "lines",
         "type": "scatter",
         "uid": "07e38a6b-602b-44b4-a602-455f8ee54a98",
         "x": [
          1,
          2,
          3,
          4,
          5,
          6,
          7
         ],
         "xaxis": "x35",
         "y": [
          0.07185578359124661,
          0.13864492108344612,
          0.16100379332347023,
          0.15654295710950153,
          0.12406201137295872,
          0.20754597914723844,
          0.14034455437213836
         ],
         "yaxis": "y7"
        },
        {
         "marker": {
          "color": [
           "rgb(214,96,77)",
           "rgb(214,96,77)",
           "rgb(214,96,77)",
           "rgb(214,96,77)",
           "rgb(214,96,77)",
           "rgb(214,96,77)",
           "rgb(214,96,77)"
          ]
         },
         "type": "bar",
         "uid": "dec835e7-ea02-42cd-9fe0-91b255543bce",
         "x": [
          1,
          2,
          3,
          4,
          5,
          6,
          7
         ],
         "xaxis": "x36",
         "y": [
          0.14420358152686144,
          0.3110273327049953,
          0.2582469368520264,
          0.18661639962299717,
          0.05655042412818096,
          0.03581526861451461,
          0.007540056550424128
         ],
         "yaxis": "y8"
        },
        {
         "line": {
          "color": "gray",
          "shape": "spline",
          "width": 3
         },
         "mode": "lines",
         "type": "scatter",
         "uid": "1bc75df9-7d82-4e14-b106-febf35eb1c28",
         "x": [
          1,
          2,
          3,
          4,
          5,
          6,
          7
         ],
         "xaxis": "x36",
         "y": [
          0.07185578359124661,
          0.13864492108344612,
          0.16100379332347023,
          0.15654295710950153,
          0.12406201137295872,
          0.20754597914723844,
          0.14034455437213836
         ],
         "yaxis": "y8"
        },
        {
         "marker": {
          "color": [
           "rgb(5,48,97)",
           "rgb(5,48,97)",
           "rgb(5,48,97)",
           "rgb(5,48,97)",
           "rgb(5,48,97)",
           "rgb(5,48,97)",
           "rgb(5,48,97)"
          ]
         },
         "type": "bar",
         "uid": "4ffa7f7b-c715-423e-9399-4127dbaaef75",
         "x": [
          1,
          2,
          3,
          4,
          5,
          6,
          7
         ],
         "xaxis": "x37",
         "y": [
          0.00792393026941363,
          0.021394611727416798,
          0.04754358161648178,
          0.08240887480190175,
          0.07210776545166403,
          0.4635499207606973,
          0.3050713153724247
         ],
         "yaxis": "y8"
        },
        {
         "line": {
          "color": "gray",
          "shape": "spline",
          "width": 3
         },
         "mode": "lines",
         "type": "scatter",
         "uid": "2e172cf0-4347-44ed-9ddb-1da23586a15e",
         "x": [
          1,
          2,
          3,
          4,
          5,
          6,
          7
         ],
         "xaxis": "x37",
         "y": [
          0.07185578359124661,
          0.13864492108344612,
          0.16100379332347023,
          0.15654295710950153,
          0.12406201137295872,
          0.20754597914723844,
          0.14034455437213836
         ],
         "yaxis": "y8"
        },
        {
         "marker": {
          "color": [
           "rgb(33,102,172)",
           "rgb(33,102,172)",
           "rgb(33,102,172)",
           "rgb(33,102,172)",
           "rgb(33,102,172)",
           "rgb(33,102,172)",
           "rgb(33,102,172)"
          ]
         },
         "type": "bar",
         "uid": "a4a8718c-f7ef-4373-a3e8-11386c94d273",
         "x": [
          1,
          2,
          3,
          4,
          5,
          6,
          7
         ],
         "xaxis": "x38",
         "y": [
          0.17459343356857931,
          0.3249463025467935,
          0.21264191469776006,
          0.04326480515495551,
          0.16078551702976374,
          0.016876342436330162,
          0.06689168456581773
         ],
         "yaxis": "y8"
        },
        {
         "line": {
          "color": "gray",
          "shape": "spline",
          "width": 3
         },
         "mode": "lines",
         "type": "scatter",
         "uid": "4f79d406-ec99-410e-be2e-1d11fd8a36ab",
         "x": [
          1,
          2,
          3,
          4,
          5,
          6,
          7
         ],
         "xaxis": "x38",
         "y": [
          0.07185578359124661,
          0.13864492108344612,
          0.16100379332347023,
          0.15654295710950153,
          0.12406201137295872,
          0.20754597914723844,
          0.14034455437213836
         ],
         "yaxis": "y8"
        },
        {
         "marker": {
          "color": [
           "rgb(244,165,130)",
           "rgb(244,165,130)",
           "rgb(244,165,130)",
           "rgb(244,165,130)",
           "rgb(244,165,130)",
           "rgb(244,165,130)",
           "rgb(244,165,130)"
          ]
         },
         "type": "bar",
         "uid": "92fa5991-94f7-4be4-a694-0c5295aa5f5a",
         "x": [
          1,
          2,
          3,
          4,
          5,
          6,
          7
         ],
         "xaxis": "x39",
         "y": [
          0.14636449480642116,
          0.13471828769279195,
          0.22505508341202393,
          0.37740006295247086,
          0.027384324834749764,
          0.08593012275731822,
          0.0031476235442241107
         ],
         "yaxis": "y8"
        },
        {
         "line": {
          "color": "gray",
          "shape": "spline",
          "width": 3
         },
         "mode": "lines",
         "type": "scatter",
         "uid": "67feaab7-40a3-402f-9b01-23adf984b8bd",
         "x": [
          1,
          2,
          3,
          4,
          5,
          6,
          7
         ],
         "xaxis": "x39",
         "y": [
          0.07185578359124661,
          0.13864492108344612,
          0.16100379332347023,
          0.15654295710950153,
          0.12406201137295872,
          0.20754597914723844,
          0.14034455437213836
         ],
         "yaxis": "y8"
        },
        {
         "marker": {
          "color": [
           "rgb(178,24,43)",
           "rgb(178,24,43)",
           "rgb(178,24,43)",
           "rgb(178,24,43)",
           "rgb(178,24,43)",
           "rgb(178,24,43)",
           "rgb(178,24,43)"
          ]
         },
         "type": "bar",
         "uid": "b3f0291d-40e6-42d8-9b4f-52dbc6837f59",
         "x": [
          1,
          2,
          3,
          4,
          5,
          6,
          7
         ],
         "xaxis": "x40",
         "y": [
          0.05547976352887676,
          0.37016825829922695,
          0.21418826739427013,
          0.22419281491587084,
          0.07821737153251478,
          0.05593451568894952,
          0.0018190086402910413
         ],
         "yaxis": "y8"
        },
        {
         "line": {
          "color": "gray",
          "shape": "spline",
          "width": 3
         },
         "mode": "lines",
         "type": "scatter",
         "uid": "5cf4c0bd-4072-45b2-8518-28900d97d5c1",
         "x": [
          1,
          2,
          3,
          4,
          5,
          6,
          7
         ],
         "xaxis": "x40",
         "y": [
          0.07185578359124661,
          0.13864492108344612,
          0.16100379332347023,
          0.15654295710950153,
          0.12406201137295872,
          0.20754597914723844,
          0.14034455437213836
         ],
         "yaxis": "y8"
        },
        {
         "marker": {
          "color": [
           "rgb(214,96,77)",
           "rgb(214,96,77)",
           "rgb(214,96,77)",
           "rgb(214,96,77)",
           "rgb(214,96,77)",
           "rgb(214,96,77)",
           "rgb(214,96,77)"
          ]
         },
         "type": "bar",
         "uid": "a625e273-4a20-40ff-8aa0-4a1bebfac3a5",
         "x": [
          1,
          2,
          3,
          4,
          5,
          6,
          7
         ],
         "xaxis": "x41",
         "y": [
          0.0910981697171381,
          0.189891846921797,
          0.3257071547420965,
          0.26955074875207985,
          0.07612312811980033,
          0.047628951747088186,
          0
         ],
         "yaxis": "y9"
        },
        {
         "line": {
          "color": "gray",
          "shape": "spline",
          "width": 3
         },
         "mode": "lines",
         "type": "scatter",
         "uid": "4e524db5-4a4f-4a5e-83d4-1c8b2a8583cf",
         "x": [
          1,
          2,
          3,
          4,
          5,
          6,
          7
         ],
         "xaxis": "x41",
         "y": [
          0.07185578359124661,
          0.13864492108344612,
          0.16100379332347023,
          0.15654295710950153,
          0.12406201137295872,
          0.20754597914723844,
          0.14034455437213836
         ],
         "yaxis": "y9"
        },
        {
         "marker": {
          "color": [
           "rgb(5,48,97)",
           "rgb(5,48,97)",
           "rgb(5,48,97)",
           "rgb(5,48,97)",
           "rgb(5,48,97)",
           "rgb(5,48,97)",
           "rgb(5,48,97)"
          ]
         },
         "type": "bar",
         "uid": "f778a7e0-5b1b-45f5-baa2-01eb6fa16522",
         "x": [
          1,
          2,
          3,
          4,
          5,
          6,
          7
         ],
         "xaxis": "x42",
         "y": [
          0.06526228831061545,
          0.29574555968608013,
          0.2610491532424618,
          0.23833126807104502,
          0.09417596034696406,
          0.04543577034283354,
          0
         ],
         "yaxis": "y9"
        },
        {
         "line": {
          "color": "gray",
          "shape": "spline",
          "width": 3
         },
         "mode": "lines",
         "type": "scatter",
         "uid": "d3cbd17e-5adc-4c36-b57b-b0a1477ad774",
         "x": [
          1,
          2,
          3,
          4,
          5,
          6,
          7
         ],
         "xaxis": "x42",
         "y": [
          0.07185578359124661,
          0.13864492108344612,
          0.16100379332347023,
          0.15654295710950153,
          0.12406201137295872,
          0.20754597914723844,
          0.14034455437213836
         ],
         "yaxis": "y9"
        },
        {
         "marker": {
          "color": [
           "rgb(33,102,172)",
           "rgb(33,102,172)",
           "rgb(33,102,172)",
           "rgb(33,102,172)",
           "rgb(33,102,172)",
           "rgb(33,102,172)",
           "rgb(33,102,172)"
          ]
         },
         "type": "bar",
         "uid": "556c8071-2c36-42f8-a0e9-1698a1b4bbdf",
         "x": [
          1,
          2,
          3,
          4,
          5,
          6,
          7
         ],
         "xaxis": "x43",
         "y": [
          0.17111077251257048,
          0.20006094773731525,
          0.2259637360962974,
          0.28614962669510896,
          0.07054700594240439,
          0.04342526283711717,
          0.0027426481791863475
         ],
         "yaxis": "y9"
        },
        {
         "line": {
          "color": "gray",
          "shape": "spline",
          "width": 3
         },
         "mode": "lines",
         "type": "scatter",
         "uid": "c1f3bacb-acb0-4e84-81d7-89d1f16d7884",
         "x": [
          1,
          2,
          3,
          4,
          5,
          6,
          7
         ],
         "xaxis": "x43",
         "y": [
          0.07185578359124661,
          0.13864492108344612,
          0.16100379332347023,
          0.15654295710950153,
          0.12406201137295872,
          0.20754597914723844,
          0.14034455437213836
         ],
         "yaxis": "y9"
        },
        {
         "marker": {
          "color": [
           "rgb(244,165,130)",
           "rgb(244,165,130)",
           "rgb(244,165,130)",
           "rgb(244,165,130)",
           "rgb(244,165,130)",
           "rgb(244,165,130)",
           "rgb(244,165,130)"
          ]
         },
         "type": "bar",
         "uid": "27293ce0-a84c-45e8-a432-94e74bf768b1",
         "x": [
          1,
          2,
          3,
          4,
          5,
          6,
          7
         ],
         "xaxis": "x44",
         "y": [
          0.07678286625655047,
          0.16336295283663704,
          0.24743677375256323,
          0.3595352016404648,
          0.1114149008885851,
          0.038049669628617,
          0.003417634996582365
         ],
         "yaxis": "y9"
        },
        {
         "line": {
          "color": "gray",
          "shape": "spline",
          "width": 3
         },
         "mode": "lines",
         "type": "scatter",
         "uid": "c827803a-ff3e-4118-baca-248a21b941d1",
         "x": [
          1,
          2,
          3,
          4,
          5,
          6,
          7
         ],
         "xaxis": "x44",
         "y": [
          0.07185578359124661,
          0.13864492108344612,
          0.16100379332347023,
          0.15654295710950153,
          0.12406201137295872,
          0.20754597914723844,
          0.14034455437213836
         ],
         "yaxis": "y9"
        },
        {
         "marker": {
          "color": [
           "rgb(178,24,43)",
           "rgb(178,24,43)",
           "rgb(178,24,43)",
           "rgb(178,24,43)",
           "rgb(178,24,43)",
           "rgb(178,24,43)",
           "rgb(178,24,43)"
          ]
         },
         "type": "bar",
         "uid": "26500973-9f36-4255-89c8-32d237a81142",
         "x": [
          1,
          2,
          3,
          4,
          5,
          6,
          7
         ],
         "xaxis": "x45",
         "y": [
          0.024369747899159664,
          0.18403361344537816,
          0.3899159663865546,
          0.22268907563025211,
          0.12941176470588237,
          0.02100840336134454,
          0.02857142857142857
         ],
         "yaxis": "y9"
        },
        {
         "line": {
          "color": "gray",
          "shape": "spline",
          "width": 3
         },
         "mode": "lines",
         "type": "scatter",
         "uid": "8d6b920c-abb2-4abd-bed2-7cc2c52a0cc2",
         "x": [
          1,
          2,
          3,
          4,
          5,
          6,
          7
         ],
         "xaxis": "x45",
         "y": [
          0.07185578359124661,
          0.13864492108344612,
          0.16100379332347023,
          0.15654295710950153,
          0.12406201137295872,
          0.20754597914723844,
          0.14034455437213836
         ],
         "yaxis": "y9"
        },
        {
         "marker": {
          "color": [
           "rgb(214,96,77)",
           "rgb(214,96,77)",
           "rgb(214,96,77)",
           "rgb(214,96,77)",
           "rgb(214,96,77)",
           "rgb(214,96,77)",
           "rgb(214,96,77)"
          ]
         },
         "type": "bar",
         "uid": "b14ae2c0-176f-4ef1-8e6e-c18556676d2a",
         "x": [
          1,
          2,
          3,
          4,
          5,
          6,
          7
         ],
         "xaxis": "x46",
         "y": [
          0.1342957130358705,
          0.25065616797900264,
          0.21303587051618547,
          0.2755905511811024,
          0.07961504811898512,
          0.04505686789151356,
          0.0017497812773403325
         ],
         "yaxis": "y10"
        },
        {
         "line": {
          "color": "gray",
          "shape": "spline",
          "width": 3
         },
         "mode": "lines",
         "type": "scatter",
         "uid": "21d29ac6-54ec-4fa2-89aa-5bcc40652e15",
         "x": [
          1,
          2,
          3,
          4,
          5,
          6,
          7
         ],
         "xaxis": "x46",
         "y": [
          0.07185578359124661,
          0.13864492108344612,
          0.16100379332347023,
          0.15654295710950153,
          0.12406201137295872,
          0.20754597914723844,
          0.14034455437213836
         ],
         "yaxis": "y10"
        },
        {
         "marker": {
          "color": [
           "rgb(5,48,97)",
           "rgb(5,48,97)",
           "rgb(5,48,97)",
           "rgb(5,48,97)",
           "rgb(5,48,97)",
           "rgb(5,48,97)",
           "rgb(5,48,97)"
          ]
         },
         "type": "bar",
         "uid": "f3fd9cff-0cff-4952-b4ce-366c888a860b",
         "x": [
          1,
          2,
          3,
          4,
          5,
          6,
          7
         ],
         "xaxis": "x47",
         "y": [
          0.1985136251032205,
          0.23649876135425268,
          0.212056151940545,
          0.2184971098265896,
          0.08257638315441784,
          0.04888521882741536,
          0.002972749793559042
         ],
         "yaxis": "y10"
        },
        {
         "line": {
          "color": "gray",
          "shape": "spline",
          "width": 3
         },
         "mode": "lines",
         "type": "scatter",
         "uid": "83ef7087-3c5f-4d9d-a57b-e48a5436df4e",
         "x": [
          1,
          2,
          3,
          4,
          5,
          6,
          7
         ],
         "xaxis": "x47",
         "y": [
          0.07185578359124661,
          0.13864492108344612,
          0.16100379332347023,
          0.15654295710950153,
          0.12406201137295872,
          0.20754597914723844,
          0.14034455437213836
         ],
         "yaxis": "y10"
        },
        {
         "marker": {
          "color": [
           "rgb(33,102,172)",
           "rgb(33,102,172)",
           "rgb(33,102,172)",
           "rgb(33,102,172)",
           "rgb(33,102,172)",
           "rgb(33,102,172)",
           "rgb(33,102,172)"
          ]
         },
         "type": "bar",
         "uid": "9cc66478-0872-462d-9890-191d12d67c3d",
         "x": [
          1,
          2,
          3,
          4,
          5,
          6,
          7
         ],
         "xaxis": "x48",
         "y": [
          0.04226475279106858,
          0.2751196172248804,
          0.2535885167464115,
          0.2631578947368421,
          0.11004784688995216,
          0.05502392344497608,
          0.0007974481658692185
         ],
         "yaxis": "y10"
        },
        {
         "line": {
          "color": "gray",
          "shape": "spline",
          "width": 3
         },
         "mode": "lines",
         "type": "scatter",
         "uid": "a04d7867-c2e6-4248-8d73-b28b0d845572",
         "x": [
          1,
          2,
          3,
          4,
          5,
          6,
          7
         ],
         "xaxis": "x48",
         "y": [
          0.07185578359124661,
          0.13864492108344612,
          0.16100379332347023,
          0.15654295710950153,
          0.12406201137295872,
          0.20754597914723844,
          0.14034455437213836
         ],
         "yaxis": "y10"
        },
        {
         "marker": {
          "color": [
           "rgb(244,165,130)",
           "rgb(244,165,130)",
           "rgb(244,165,130)",
           "rgb(244,165,130)",
           "rgb(244,165,130)",
           "rgb(244,165,130)",
           "rgb(244,165,130)"
          ]
         },
         "type": "bar",
         "uid": "69e0f067-dbb9-4084-ba3d-367f64408ac0",
         "x": [
          1,
          2,
          3,
          4,
          5,
          6,
          7
         ],
         "xaxis": "x49",
         "y": [
          0.1493680582152432,
          0.22826503255457678,
          0.3086939869781693,
          0.20834929145921102,
          0.04825737265415549,
          0.045576407506702415,
          0.011489850631941785
         ],
         "yaxis": "y10"
        },
        {
         "line": {
          "color": "gray",
          "shape": "spline",
          "width": 3
         },
         "mode": "lines",
         "type": "scatter",
         "uid": "cda019b9-1e90-4461-a05f-489177e6a1bc",
         "x": [
          1,
          2,
          3,
          4,
          5,
          6,
          7
         ],
         "xaxis": "x49",
         "y": [
          0.07185578359124661,
          0.13864492108344612,
          0.16100379332347023,
          0.15654295710950153,
          0.12406201137295872,
          0.20754597914723844,
          0.14034455437213836
         ],
         "yaxis": "y10"
        },
        {
         "marker": {
          "color": [
           "rgb(178,24,43)",
           "rgb(178,24,43)",
           "rgb(178,24,43)",
           "rgb(178,24,43)",
           "rgb(178,24,43)",
           "rgb(178,24,43)",
           "rgb(178,24,43)"
          ]
         },
         "type": "bar",
         "uid": "d702436e-d8d9-4cd0-a63c-7318f0c423af",
         "x": [
          1,
          2,
          3,
          4,
          5,
          6,
          7
         ],
         "xaxis": "x50",
         "y": [
          0.07318992654774396,
          0.1558237145855194,
          0.2867261280167891,
          0.3273871983210913,
          0.11267051416579224,
          0.037644281217208815,
          0.006558237145855194
         ],
         "yaxis": "y10"
        },
        {
         "line": {
          "color": "gray",
          "shape": "spline",
          "width": 3
         },
         "mode": "lines",
         "type": "scatter",
         "uid": "f63dd859-fb25-4b48-817e-393ec4e6ca96",
         "x": [
          1,
          2,
          3,
          4,
          5,
          6,
          7
         ],
         "xaxis": "x50",
         "y": [
          0.07185578359124661,
          0.13864492108344612,
          0.16100379332347023,
          0.15654295710950153,
          0.12406201137295872,
          0.20754597914723844,
          0.14034455437213836
         ],
         "yaxis": "y10"
        },
        {
         "marker": {
          "color": [
           "rgb(214,96,77)",
           "rgb(214,96,77)",
           "rgb(214,96,77)",
           "rgb(214,96,77)",
           "rgb(214,96,77)",
           "rgb(214,96,77)",
           "rgb(214,96,77)"
          ]
         },
         "type": "bar",
         "uid": "07a6ce6e-716e-4592-9309-9830395344bb",
         "x": [
          1,
          2,
          3,
          4,
          5,
          6,
          7
         ],
         "xaxis": "x51",
         "y": [
          0.17731015553522414,
          0.210064043915828,
          0.21884720951509606,
          0.2585544373284538,
          0.08142726440988106,
          0.05141811527904849,
          0.0023787740164684353
         ],
         "yaxis": "y11"
        },
        {
         "line": {
          "color": "gray",
          "shape": "spline",
          "width": 3
         },
         "mode": "lines",
         "type": "scatter",
         "uid": "f3d4331c-d214-4cc4-9e2d-c1cd2a55930c",
         "x": [
          1,
          2,
          3,
          4,
          5,
          6,
          7
         ],
         "xaxis": "x51",
         "y": [
          0.07185578359124661,
          0.13864492108344612,
          0.16100379332347023,
          0.15654295710950153,
          0.12406201137295872,
          0.20754597914723844,
          0.14034455437213836
         ],
         "yaxis": "y11"
        },
        {
         "marker": {
          "color": [
           "rgb(5,48,97)",
           "rgb(5,48,97)",
           "rgb(5,48,97)",
           "rgb(5,48,97)",
           "rgb(5,48,97)",
           "rgb(5,48,97)",
           "rgb(5,48,97)"
          ]
         },
         "type": "bar",
         "uid": "50cbc938-fc8c-450a-b72b-e9310ee30e7c",
         "x": [
          1,
          2,
          3,
          4,
          5,
          6,
          7
         ],
         "xaxis": "x52",
         "y": [
          0.0818686401480111,
          0.20074005550416282,
          0.2664199814986124,
          0.28538390379278444,
          0.11748381128584644,
          0.04810360777058279,
          0
         ],
         "yaxis": "y11"
        },
        {
         "line": {
          "color": "gray",
          "shape": "spline",
          "width": 3
         },
         "mode": "lines",
         "type": "scatter",
         "uid": "d06e898b-29c6-4bd4-abdb-567a051a018b",
         "x": [
          1,
          2,
          3,
          4,
          5,
          6,
          7
         ],
         "xaxis": "x52",
         "y": [
          0.07185578359124661,
          0.13864492108344612,
          0.16100379332347023,
          0.15654295710950153,
          0.12406201137295872,
          0.20754597914723844,
          0.14034455437213836
         ],
         "yaxis": "y11"
        },
        {
         "marker": {
          "color": [
           "rgb(33,102,172)",
           "rgb(33,102,172)",
           "rgb(33,102,172)",
           "rgb(33,102,172)",
           "rgb(33,102,172)",
           "rgb(33,102,172)",
           "rgb(33,102,172)"
          ]
         },
         "type": "bar",
         "uid": "10ce4846-d87c-4032-a938-a57f061a3643",
         "x": [
          1,
          2,
          3,
          4,
          5,
          6,
          7
         ],
         "xaxis": "x53",
         "y": [
          0.07104557640750671,
          0.32497127537342013,
          0.2525852163921869,
          0.22788203753351208,
          0.05132133282267331,
          0.06798161623898889,
          0.004212945231711987
         ],
         "yaxis": "y11"
        },
        {
         "line": {
          "color": "gray",
          "shape": "spline",
          "width": 3
         },
         "mode": "lines",
         "type": "scatter",
         "uid": "34487296-630f-4413-91c3-287be2f9dbbf",
         "x": [
          1,
          2,
          3,
          4,
          5,
          6,
          7
         ],
         "xaxis": "x53",
         "y": [
          0.07185578359124661,
          0.13864492108344612,
          0.16100379332347023,
          0.15654295710950153,
          0.12406201137295872,
          0.20754597914723844,
          0.14034455437213836
         ],
         "yaxis": "y11"
        },
        {
         "marker": {
          "color": [
           "rgb(244,165,130)",
           "rgb(244,165,130)",
           "rgb(244,165,130)",
           "rgb(244,165,130)",
           "rgb(244,165,130)",
           "rgb(244,165,130)",
           "rgb(244,165,130)"
          ]
         },
         "type": "bar",
         "uid": "b95546ce-1e7d-4944-bfc3-6f0c6a8aaea1",
         "x": [
          1,
          2,
          3,
          4,
          5,
          6,
          7
         ],
         "xaxis": "x54",
         "y": [
          0.20703125,
          0.3314732142857143,
          0.15736607142857142,
          0.12555803571428573,
          0.07477678571428571,
          0.1015625,
          0.002232142857142857
         ],
         "yaxis": "y11"
        },
        {
         "line": {
          "color": "gray",
          "shape": "spline",
          "width": 3
         },
         "mode": "lines",
         "type": "scatter",
         "uid": "8ea87721-9d42-452d-9549-1b4b82e59a49",
         "x": [
          1,
          2,
          3,
          4,
          5,
          6,
          7
         ],
         "xaxis": "x54",
         "y": [
          0.07185578359124661,
          0.13864492108344612,
          0.16100379332347023,
          0.15654295710950153,
          0.12406201137295872,
          0.20754597914723844,
          0.14034455437213836
         ],
         "yaxis": "y11"
        },
        {
         "marker": {
          "color": [
           "rgb(178,24,43)",
           "rgb(178,24,43)",
           "rgb(178,24,43)",
           "rgb(178,24,43)",
           "rgb(178,24,43)",
           "rgb(178,24,43)",
           "rgb(178,24,43)"
          ]
         },
         "type": "bar",
         "uid": "6f919177-9fd1-4086-be58-93c48c5a7ec0",
         "x": [
          1,
          2,
          3,
          4,
          5,
          6,
          7
         ],
         "xaxis": "x55",
         "y": [
          0.06627680311890838,
          0.24171539961013644,
          0.4191033138401559,
          0.1267056530214425,
          0.030214424951267055,
          0.10331384015594541,
          0.012670565302144249
         ],
         "yaxis": "y11"
        },
        {
         "line": {
          "color": "gray",
          "shape": "spline",
          "width": 3
         },
         "mode": "lines",
         "type": "scatter",
         "uid": "28a92759-bae2-4146-8ec5-248a728b67ec",
         "x": [
          1,
          2,
          3,
          4,
          5,
          6,
          7
         ],
         "xaxis": "x55",
         "y": [
          0.07185578359124661,
          0.13864492108344612,
          0.16100379332347023,
          0.15654295710950153,
          0.12406201137295872,
          0.20754597914723844,
          0.14034455437213836
         ],
         "yaxis": "y11"
        },
        {
         "marker": {
          "color": [
           "rgb(214,96,77)",
           "rgb(214,96,77)",
           "rgb(214,96,77)",
           "rgb(214,96,77)",
           "rgb(214,96,77)",
           "rgb(214,96,77)",
           "rgb(214,96,77)"
          ]
         },
         "type": "bar",
         "uid": "afa7a34a-e508-48f2-8f56-5c4a554d12ef",
         "x": [
          1,
          2,
          3,
          4,
          5,
          6,
          7
         ],
         "xaxis": "x56",
         "y": [
          0.08892238131122833,
          0.2848530519969857,
          0.28372268274302936,
          0.17520723436322533,
          0.11077618688771665,
          0.05614167294649586,
          0.00037678975131876413
         ],
         "yaxis": "y12"
        },
        {
         "line": {
          "color": "gray",
          "shape": "spline",
          "width": 3
         },
         "mode": "lines",
         "type": "scatter",
         "uid": "a999ff38-5cc7-4c82-8ccc-0caffc8c78df",
         "x": [
          1,
          2,
          3,
          4,
          5,
          6,
          7
         ],
         "xaxis": "x56",
         "y": [
          0.07185578359124661,
          0.13864492108344612,
          0.16100379332347023,
          0.15654295710950153,
          0.12406201137295872,
          0.20754597914723844,
          0.14034455437213836
         ],
         "yaxis": "y12"
        },
        {
         "marker": {
          "color": [
           "rgb(5,48,97)",
           "rgb(5,48,97)",
           "rgb(5,48,97)",
           "rgb(5,48,97)",
           "rgb(5,48,97)",
           "rgb(5,48,97)",
           "rgb(5,48,97)"
          ]
         },
         "type": "bar",
         "uid": "454e1e86-cb55-4625-a40c-038ae2f40f0d",
         "x": [
          1,
          2,
          3,
          4,
          5,
          6,
          7
         ],
         "xaxis": "x57",
         "y": [
          0.1645083932853717,
          0.2225419664268585,
          0.2081534772182254,
          0.20047961630695443,
          0.16354916067146283,
          0.036930455635491605,
          0.0038369304556354917
         ],
         "yaxis": "y12"
        },
        {
         "line": {
          "color": "gray",
          "shape": "spline",
          "width": 3
         },
         "mode": "lines",
         "type": "scatter",
         "uid": "68fad65f-3b0b-478d-b271-7f964b107cd4",
         "x": [
          1,
          2,
          3,
          4,
          5,
          6,
          7
         ],
         "xaxis": "x57",
         "y": [
          0.07185578359124661,
          0.13864492108344612,
          0.16100379332347023,
          0.15654295710950153,
          0.12406201137295872,
          0.20754597914723844,
          0.14034455437213836
         ],
         "yaxis": "y12"
        },
        {
         "marker": {
          "color": [
           "rgb(33,102,172)",
           "rgb(33,102,172)",
           "rgb(33,102,172)",
           "rgb(33,102,172)",
           "rgb(33,102,172)",
           "rgb(33,102,172)",
           "rgb(33,102,172)"
          ]
         },
         "type": "bar",
         "uid": "1caa9cc8-3118-44a0-a758-b2c1548aad0c",
         "x": [
          1,
          2,
          3,
          4,
          5,
          6,
          7
         ],
         "xaxis": "x58",
         "y": [
          0.02066115702479339,
          0.03581267217630854,
          0.040633608815427,
          0.07644628099173553,
          0.07782369146005509,
          0.39118457300275483,
          0.3574380165289256
         ],
         "yaxis": "y12"
        },
        {
         "line": {
          "color": "gray",
          "shape": "spline",
          "width": 3
         },
         "mode": "lines",
         "type": "scatter",
         "uid": "fa7b6a2c-8181-4973-a560-8899d52e8c69",
         "x": [
          1,
          2,
          3,
          4,
          5,
          6,
          7
         ],
         "xaxis": "x58",
         "y": [
          0.07185578359124661,
          0.13864492108344612,
          0.16100379332347023,
          0.15654295710950153,
          0.12406201137295872,
          0.20754597914723844,
          0.14034455437213836
         ],
         "yaxis": "y12"
        },
        {
         "marker": {
          "color": [
           "rgb(244,165,130)",
           "rgb(244,165,130)",
           "rgb(244,165,130)",
           "rgb(244,165,130)",
           "rgb(244,165,130)",
           "rgb(244,165,130)",
           "rgb(244,165,130)"
          ]
         },
         "type": "bar",
         "uid": "7c2af914-138d-470c-98c7-75e26187b506",
         "x": [
          1,
          2,
          3,
          4,
          5,
          6,
          7
         ],
         "xaxis": "x59",
         "y": [
          0.19886363636363635,
          0.1903409090909091,
          0.16856060606060605,
          0.32670454545454547,
          0.032196969696969696,
          0.043560606060606064,
          0.03977272727272727
         ],
         "yaxis": "y12"
        },
        {
         "line": {
          "color": "gray",
          "shape": "spline",
          "width": 3
         },
         "mode": "lines",
         "type": "scatter",
         "uid": "e5ee7a83-66af-434f-b54e-c68bf9cbebc5",
         "x": [
          1,
          2,
          3,
          4,
          5,
          6,
          7
         ],
         "xaxis": "x59",
         "y": [
          0.07185578359124661,
          0.13864492108344612,
          0.16100379332347023,
          0.15654295710950153,
          0.12406201137295872,
          0.20754597914723844,
          0.14034455437213836
         ],
         "yaxis": "y12"
        },
        {
         "marker": {
          "color": [
           "rgb(178,24,43)",
           "rgb(178,24,43)",
           "rgb(178,24,43)",
           "rgb(178,24,43)",
           "rgb(178,24,43)",
           "rgb(178,24,43)",
           "rgb(178,24,43)"
          ]
         },
         "type": "bar",
         "uid": "746f3b3b-99c6-4322-8c37-f24f31ec3a83",
         "x": [
          1,
          2,
          3,
          4,
          5,
          6,
          7
         ],
         "xaxis": "x60",
         "y": [
          0.08758837391987431,
          0.26826394344069127,
          0.2969363707776905,
          0.2211311861743912,
          0.028672427336999214,
          0.09269442262372349,
          0.004713275726630008
         ],
         "yaxis": "y12"
        },
        {
         "line": {
          "color": "gray",
          "shape": "spline",
          "width": 3
         },
         "mode": "lines",
         "type": "scatter",
         "uid": "95224da4-3880-4749-b8fe-8a23d9cd2cd2",
         "x": [
          1,
          2,
          3,
          4,
          5,
          6,
          7
         ],
         "xaxis": "x60",
         "y": [
          0.07185578359124661,
          0.13864492108344612,
          0.16100379332347023,
          0.15654295710950153,
          0.12406201137295872,
          0.20754597914723844,
          0.14034455437213836
         ],
         "yaxis": "y12"
        },
        {
         "marker": {
          "color": [
           "rgb(214,96,77)",
           "rgb(214,96,77)",
           "rgb(214,96,77)",
           "rgb(214,96,77)",
           "rgb(214,96,77)",
           "rgb(214,96,77)",
           "rgb(214,96,77)"
          ]
         },
         "type": "bar",
         "uid": "99f20c30-0b3a-454c-bd24-8bc391cff472",
         "x": [
          1,
          2,
          3,
          4,
          5,
          6,
          7
         ],
         "xaxis": "x61",
         "y": [
          0.10866039571845605,
          0.1222834901070386,
          0.3172234836198508,
          0.239701589361012,
          0.157314304249108,
          0.053843658773921506,
          0.0009730781706130393
         ],
         "yaxis": "y13"
        },
        {
         "line": {
          "color": "gray",
          "shape": "spline",
          "width": 3
         },
         "mode": "lines",
         "type": "scatter",
         "uid": "2fdda0f7-928d-45fc-addc-a1c66f87a105",
         "x": [
          1,
          2,
          3,
          4,
          5,
          6,
          7
         ],
         "xaxis": "x61",
         "y": [
          0.07185578359124661,
          0.13864492108344612,
          0.16100379332347023,
          0.15654295710950153,
          0.12406201137295872,
          0.20754597914723844,
          0.14034455437213836
         ],
         "yaxis": "y13"
        },
        {
         "marker": {
          "color": [
           "rgb(5,48,97)",
           "rgb(5,48,97)",
           "rgb(5,48,97)",
           "rgb(5,48,97)",
           "rgb(5,48,97)",
           "rgb(5,48,97)",
           "rgb(5,48,97)"
          ]
         },
         "type": "bar",
         "uid": "3e13156e-a73a-44fd-9ca1-725e060adbe4",
         "x": [
          1,
          2,
          3,
          4,
          5,
          6,
          7
         ],
         "xaxis": "x62",
         "y": [
          0.01647058823529412,
          0.03294117647058824,
          0.05411764705882353,
          0.07823529411764706,
          0.06411764705882353,
          0.4429411764705882,
          0.3111764705882353
         ],
         "yaxis": "y13"
        },
        {
         "line": {
          "color": "gray",
          "shape": "spline",
          "width": 3
         },
         "mode": "lines",
         "type": "scatter",
         "uid": "c5cd8b1b-a40d-4f6c-a033-27e60e6bde41",
         "x": [
          1,
          2,
          3,
          4,
          5,
          6,
          7
         ],
         "xaxis": "x62",
         "y": [
          0.07185578359124661,
          0.13864492108344612,
          0.16100379332347023,
          0.15654295710950153,
          0.12406201137295872,
          0.20754597914723844,
          0.14034455437213836
         ],
         "yaxis": "y13"
        },
        {
         "marker": {
          "color": [
           "rgb(33,102,172)",
           "rgb(33,102,172)",
           "rgb(33,102,172)",
           "rgb(33,102,172)",
           "rgb(33,102,172)",
           "rgb(33,102,172)",
           "rgb(33,102,172)"
          ]
         },
         "type": "bar",
         "uid": "e10b0142-b31c-4b67-ac81-ae6e889d4de6",
         "x": [
          1,
          2,
          3,
          4,
          5,
          6,
          7
         ],
         "xaxis": "x63",
         "y": [
          0.10386819484240688,
          0.15401146131805157,
          0.332378223495702,
          0.2628939828080229,
          0.032234957020057305,
          0.11318051575931232,
          0.0014326647564469914
         ],
         "yaxis": "y13"
        },
        {
         "line": {
          "color": "gray",
          "shape": "spline",
          "width": 3
         },
         "mode": "lines",
         "type": "scatter",
         "uid": "562f2f38-66e4-4cd9-af6c-f5161d7541af",
         "x": [
          1,
          2,
          3,
          4,
          5,
          6,
          7
         ],
         "xaxis": "x63",
         "y": [
          0.07185578359124661,
          0.13864492108344612,
          0.16100379332347023,
          0.15654295710950153,
          0.12406201137295872,
          0.20754597914723844,
          0.14034455437213836
         ],
         "yaxis": "y13"
        },
        {
         "marker": {
          "color": [
           "rgb(244,165,130)",
           "rgb(244,165,130)",
           "rgb(244,165,130)",
           "rgb(244,165,130)",
           "rgb(244,165,130)",
           "rgb(244,165,130)",
           "rgb(244,165,130)"
          ]
         },
         "type": "bar",
         "uid": "956e00b1-50e5-4a1b-9c39-2de14236cd95",
         "x": [
          1,
          2,
          3,
          4,
          5,
          6,
          7
         ],
         "xaxis": "x64",
         "y": [
          0.19562955254942768,
          0.23829344432882413,
          0.1914672216441207,
          0.24401664932362122,
          0.06191467221644121,
          0.061394380853277836,
          0.007284079084287201
         ],
         "yaxis": "y13"
        },
        {
         "line": {
          "color": "gray",
          "shape": "spline",
          "width": 3
         },
         "mode": "lines",
         "type": "scatter",
         "uid": "c0441728-6269-4f00-8f80-a001caa27751",
         "x": [
          1,
          2,
          3,
          4,
          5,
          6,
          7
         ],
         "xaxis": "x64",
         "y": [
          0.07185578359124661,
          0.13864492108344612,
          0.16100379332347023,
          0.15654295710950153,
          0.12406201137295872,
          0.20754597914723844,
          0.14034455437213836
         ],
         "yaxis": "y13"
        },
        {
         "marker": {
          "color": [
           "rgb(178,24,43)",
           "rgb(178,24,43)",
           "rgb(178,24,43)",
           "rgb(178,24,43)",
           "rgb(178,24,43)",
           "rgb(178,24,43)",
           "rgb(178,24,43)"
          ]
         },
         "type": "bar",
         "uid": "ba51a55d-cea9-4ac2-845c-175ae3559ecd",
         "x": [
          1,
          2,
          3,
          4,
          5,
          6,
          7
         ],
         "xaxis": "x65",
         "y": [
          0.11017644645055397,
          0.25379565038982355,
          0.2603610997127616,
          0.2470250307755437,
          0.06093557652851867,
          0.06524415264669675,
          0.0024620434961017644
         ],
         "yaxis": "y13"
        },
        {
         "line": {
          "color": "gray",
          "shape": "spline",
          "width": 3
         },
         "mode": "lines",
         "type": "scatter",
         "uid": "c62806f1-6fb4-4208-a56d-7559d90fea3c",
         "x": [
          1,
          2,
          3,
          4,
          5,
          6,
          7
         ],
         "xaxis": "x65",
         "y": [
          0.07185578359124661,
          0.13864492108344612,
          0.16100379332347023,
          0.15654295710950153,
          0.12406201137295872,
          0.20754597914723844,
          0.14034455437213836
         ],
         "yaxis": "y13"
        },
        {
         "marker": {
          "color": [
           "rgb(214,96,77)",
           "rgb(214,96,77)",
           "rgb(214,96,77)",
           "rgb(214,96,77)",
           "rgb(214,96,77)",
           "rgb(214,96,77)",
           "rgb(214,96,77)"
          ]
         },
         "type": "bar",
         "uid": "2c9131d9-a8f4-41f5-a966-0bbc31ca6905",
         "x": [
          1,
          2,
          3,
          4,
          5,
          6,
          7
         ],
         "xaxis": "x66",
         "y": [
          0.1055694098088113,
          0.41313383208645055,
          0.1546134663341646,
          0.17290108063175394,
          0.0399002493765586,
          0.09808811305070657,
          0.015793848711554447
         ],
         "yaxis": "y14"
        },
        {
         "line": {
          "color": "gray",
          "shape": "spline",
          "width": 3
         },
         "mode": "lines",
         "type": "scatter",
         "uid": "3cca5167-1584-4c9c-b87c-5c6b4c13c44d",
         "x": [
          1,
          2,
          3,
          4,
          5,
          6,
          7
         ],
         "xaxis": "x66",
         "y": [
          0.07185578359124661,
          0.13864492108344612,
          0.16100379332347023,
          0.15654295710950153,
          0.12406201137295872,
          0.20754597914723844,
          0.14034455437213836
         ],
         "yaxis": "y14"
        },
        {
         "marker": {
          "color": [
           "rgb(5,48,97)",
           "rgb(5,48,97)",
           "rgb(5,48,97)",
           "rgb(5,48,97)",
           "rgb(5,48,97)",
           "rgb(5,48,97)",
           "rgb(5,48,97)"
          ]
         },
         "type": "bar",
         "uid": "daf844c5-9523-4e2c-b4ca-80e2ccd449b6",
         "x": [
          1,
          2,
          3,
          4,
          5,
          6,
          7
         ],
         "xaxis": "x67",
         "y": [
          0.09838527975966954,
          0.31318062335711605,
          0.29140067592940294,
          0.14457378895981976,
          0.0514457378895982,
          0.09688321441982727,
          0.004130679684566279
         ],
         "yaxis": "y14"
        },
        {
         "line": {
          "color": "gray",
          "shape": "spline",
          "width": 3
         },
         "mode": "lines",
         "type": "scatter",
         "uid": "d96b9276-d0e7-4298-bd9b-6f373c5ca589",
         "x": [
          1,
          2,
          3,
          4,
          5,
          6,
          7
         ],
         "xaxis": "x67",
         "y": [
          0.07185578359124661,
          0.13864492108344612,
          0.16100379332347023,
          0.15654295710950153,
          0.12406201137295872,
          0.20754597914723844,
          0.14034455437213836
         ],
         "yaxis": "y14"
        },
        {
         "marker": {
          "color": [
           "rgb(33,102,172)",
           "rgb(33,102,172)",
           "rgb(33,102,172)",
           "rgb(33,102,172)",
           "rgb(33,102,172)",
           "rgb(33,102,172)",
           "rgb(33,102,172)"
          ]
         },
         "type": "bar",
         "uid": "4ef3a7f0-0c2f-4559-a8f8-28c48e3ff949",
         "x": [
          1,
          2,
          3,
          4,
          5,
          6,
          7
         ],
         "xaxis": "x68",
         "y": [
          0.06572379367720466,
          0.22063227953410983,
          0.2575707154742097,
          0.28569051580698834,
          0.11647254575707154,
          0.049750415973377704,
          0.004159733777038269
         ],
         "yaxis": "y14"
        },
        {
         "line": {
          "color": "gray",
          "shape": "spline",
          "width": 3
         },
         "mode": "lines",
         "type": "scatter",
         "uid": "37bc9eb8-933c-46bf-bca2-1423ef63360f",
         "x": [
          1,
          2,
          3,
          4,
          5,
          6,
          7
         ],
         "xaxis": "x68",
         "y": [
          0.07185578359124661,
          0.13864492108344612,
          0.16100379332347023,
          0.15654295710950153,
          0.12406201137295872,
          0.20754597914723844,
          0.14034455437213836
         ],
         "yaxis": "y14"
        },
        {
         "marker": {
          "color": [
           "rgb(244,165,130)",
           "rgb(244,165,130)",
           "rgb(244,165,130)",
           "rgb(244,165,130)",
           "rgb(244,165,130)",
           "rgb(244,165,130)",
           "rgb(244,165,130)"
          ]
         },
         "type": "bar",
         "uid": "c7509bb7-7f85-4218-899f-051721f95c4e",
         "x": [
          1,
          2,
          3,
          4,
          5,
          6,
          7
         ],
         "xaxis": "x69",
         "y": [
          0.205,
          0.154375,
          0.176875,
          0.286875,
          0.093125,
          0.081875,
          0.001875
         ],
         "yaxis": "y14"
        },
        {
         "line": {
          "color": "gray",
          "shape": "spline",
          "width": 3
         },
         "mode": "lines",
         "type": "scatter",
         "uid": "072d9227-f7aa-4cae-ba97-08f9fbae7145",
         "x": [
          1,
          2,
          3,
          4,
          5,
          6,
          7
         ],
         "xaxis": "x69",
         "y": [
          0.07185578359124661,
          0.13864492108344612,
          0.16100379332347023,
          0.15654295710950153,
          0.12406201137295872,
          0.20754597914723844,
          0.14034455437213836
         ],
         "yaxis": "y14"
        },
        {
         "marker": {
          "color": [
           "rgb(178,24,43)",
           "rgb(178,24,43)",
           "rgb(178,24,43)",
           "rgb(178,24,43)",
           "rgb(178,24,43)",
           "rgb(178,24,43)",
           "rgb(178,24,43)"
          ]
         },
         "type": "bar",
         "uid": "71cdc713-ea8c-4770-8520-ae25b7f112f4",
         "x": [
          1,
          2,
          3,
          4,
          5,
          6,
          7
         ],
         "xaxis": "x70",
         "y": [
          0.07290589451913133,
          0.3231644260599793,
          0.1907962771458118,
          0.2419855222337125,
          0.07135470527404343,
          0.09979317476732161,
          0
         ],
         "yaxis": "y14"
        },
        {
         "line": {
          "color": "gray",
          "shape": "spline",
          "width": 3
         },
         "mode": "lines",
         "type": "scatter",
         "uid": "12cdf818-6071-4b08-9c1e-6c655518049e",
         "x": [
          1,
          2,
          3,
          4,
          5,
          6,
          7
         ],
         "xaxis": "x70",
         "y": [
          0.07185578359124661,
          0.13864492108344612,
          0.16100379332347023,
          0.15654295710950153,
          0.12406201137295872,
          0.20754597914723844,
          0.14034455437213836
         ],
         "yaxis": "y14"
        },
        {
         "marker": {
          "color": [
           "rgb(214,96,77)",
           "rgb(214,96,77)",
           "rgb(214,96,77)",
           "rgb(214,96,77)",
           "rgb(214,96,77)",
           "rgb(214,96,77)",
           "rgb(214,96,77)"
          ]
         },
         "type": "bar",
         "uid": "f76dadc4-c86e-4e83-ad95-672adb0b5ddf",
         "x": [
          1,
          2,
          3,
          4,
          5,
          6,
          7
         ],
         "xaxis": "x71",
         "y": [
          0.10071320510049708,
          0.2630213961530149,
          0.2826885671061163,
          0.22368705424681218,
          0.04646639291117355,
          0.07823643829695266,
          0.005186946185433326
         ],
         "yaxis": "y15"
        },
        {
         "line": {
          "color": "gray",
          "shape": "spline",
          "width": 3
         },
         "mode": "lines",
         "type": "scatter",
         "uid": "3ad68f10-bb6f-4b35-8d67-09b4a3b3090a",
         "x": [
          1,
          2,
          3,
          4,
          5,
          6,
          7
         ],
         "xaxis": "x71",
         "y": [
          0.07185578359124661,
          0.13864492108344612,
          0.16100379332347023,
          0.15654295710950153,
          0.12406201137295872,
          0.20754597914723844,
          0.14034455437213836
         ],
         "yaxis": "y15"
        },
        {
         "marker": {
          "color": [
           "rgb(5,48,97)",
           "rgb(5,48,97)",
           "rgb(5,48,97)",
           "rgb(5,48,97)",
           "rgb(5,48,97)",
           "rgb(5,48,97)",
           "rgb(5,48,97)"
          ]
         },
         "type": "bar",
         "uid": "4d934358-dad0-4a43-9096-1a352fa3090f",
         "x": [
          1,
          2,
          3,
          4,
          5,
          6,
          7
         ],
         "xaxis": "x72",
         "y": [
          0.1039098274040155,
          0.2220852412821416,
          0.29957731595632264,
          0.23952095808383234,
          0.06322648820007044,
          0.06762944698837618,
          0.0040507220852412824
         ],
         "yaxis": "y15"
        },
        {
         "line": {
          "color": "gray",
          "shape": "spline",
          "width": 3
         },
         "mode": "lines",
         "type": "scatter",
         "uid": "0270ee5d-3202-4239-b8ce-583a2b61e46e",
         "x": [
          1,
          2,
          3,
          4,
          5,
          6,
          7
         ],
         "xaxis": "x72",
         "y": [
          0.07185578359124661,
          0.13864492108344612,
          0.16100379332347023,
          0.15654295710950153,
          0.12406201137295872,
          0.20754597914723844,
          0.14034455437213836
         ],
         "yaxis": "y15"
        },
        {
         "marker": {
          "color": [
           "rgb(33,102,172)",
           "rgb(33,102,172)",
           "rgb(33,102,172)",
           "rgb(33,102,172)",
           "rgb(33,102,172)",
           "rgb(33,102,172)",
           "rgb(33,102,172)"
          ]
         },
         "type": "bar",
         "uid": "d094f778-4f4b-4041-8c0d-988d070e7958",
         "x": [
          1,
          2,
          3,
          4,
          5,
          6,
          7
         ],
         "xaxis": "x73",
         "y": [
          0.125,
          0.03884180790960452,
          0.043785310734463276,
          0.03742937853107345,
          0.07838983050847458,
          0.4279661016949153,
          0.24858757062146894
         ],
         "yaxis": "y15"
        },
        {
         "line": {
          "color": "gray",
          "shape": "spline",
          "width": 3
         },
         "mode": "lines",
         "type": "scatter",
         "uid": "2594af3a-689d-4a02-801d-59b02c19010f",
         "x": [
          1,
          2,
          3,
          4,
          5,
          6,
          7
         ],
         "xaxis": "x73",
         "y": [
          0.07185578359124661,
          0.13864492108344612,
          0.16100379332347023,
          0.15654295710950153,
          0.12406201137295872,
          0.20754597914723844,
          0.14034455437213836
         ],
         "yaxis": "y15"
        },
        {
         "marker": {
          "color": [
           "rgb(244,165,130)",
           "rgb(244,165,130)",
           "rgb(244,165,130)",
           "rgb(244,165,130)",
           "rgb(244,165,130)",
           "rgb(244,165,130)",
           "rgb(244,165,130)"
          ]
         },
         "type": "bar",
         "uid": "d48bcccf-254d-4748-85ec-bd2e70ef9db1",
         "x": [
          1,
          2,
          3,
          4,
          5,
          6,
          7
         ],
         "xaxis": "x74",
         "y": [
          0.0836627140974967,
          0.2503293807641634,
          0.26877470355731226,
          0.24835309617918314,
          0.09881422924901186,
          0.039525691699604744,
          0.010540184453227932
         ],
         "yaxis": "y15"
        },
        {
         "line": {
          "color": "gray",
          "shape": "spline",
          "width": 3
         },
         "mode": "lines",
         "type": "scatter",
         "uid": "00c8fca7-ee93-4a8a-8b01-409dcf8d00dd",
         "x": [
          1,
          2,
          3,
          4,
          5,
          6,
          7
         ],
         "xaxis": "x74",
         "y": [
          0.07185578359124661,
          0.13864492108344612,
          0.16100379332347023,
          0.15654295710950153,
          0.12406201137295872,
          0.20754597914723844,
          0.14034455437213836
         ],
         "yaxis": "y15"
        },
        {
         "marker": {
          "color": [
           "rgb(178,24,43)",
           "rgb(178,24,43)",
           "rgb(178,24,43)",
           "rgb(178,24,43)",
           "rgb(178,24,43)",
           "rgb(178,24,43)",
           "rgb(178,24,43)"
          ]
         },
         "type": "bar",
         "uid": "4c8caa23-befc-4953-8f55-33cfef510407",
         "x": [
          1,
          2,
          3,
          4,
          5,
          6,
          7
         ],
         "xaxis": "x75",
         "y": [
          0.10010881392818281,
          0.2105549510337323,
          0.27720348204570183,
          0.25489662676822633,
          0.09956474428726877,
          0.0544069640914037,
          0.003264417845484222
         ],
         "yaxis": "y15"
        },
        {
         "line": {
          "color": "gray",
          "shape": "spline",
          "width": 3
         },
         "mode": "lines",
         "type": "scatter",
         "uid": "fec6f302-8699-4e5a-b9e2-c8adf182f47d",
         "x": [
          1,
          2,
          3,
          4,
          5,
          6,
          7
         ],
         "xaxis": "x75",
         "y": [
          0.07185578359124661,
          0.13864492108344612,
          0.16100379332347023,
          0.15654295710950153,
          0.12406201137295872,
          0.20754597914723844,
          0.14034455437213836
         ],
         "yaxis": "y15"
        },
        {
         "marker": {
          "color": [
           "rgb(214,96,77)",
           "rgb(214,96,77)",
           "rgb(214,96,77)",
           "rgb(214,96,77)",
           "rgb(214,96,77)",
           "rgb(214,96,77)",
           "rgb(214,96,77)"
          ]
         },
         "type": "bar",
         "uid": "1a39b86b-380d-4cc6-a572-7277a80fad4d",
         "x": [
          1,
          2,
          3,
          4,
          5,
          6,
          7
         ],
         "xaxis": "x76",
         "y": [
          0.05347255181142224,
          0.29299161525075146,
          0.2494858408479671,
          0.251858883088119,
          0.05537098560354374,
          0.09365606707799398,
          0.0031640563202024997
         ],
         "yaxis": "y16"
        },
        {
         "line": {
          "color": "gray",
          "shape": "spline",
          "width": 3
         },
         "mode": "lines",
         "type": "scatter",
         "uid": "68c08377-4a5c-4f79-b7e4-ca041bf91d05",
         "x": [
          1,
          2,
          3,
          4,
          5,
          6,
          7
         ],
         "xaxis": "x76",
         "y": [
          0.07185578359124661,
          0.13864492108344612,
          0.16100379332347023,
          0.15654295710950153,
          0.12406201137295872,
          0.20754597914723844,
          0.14034455437213836
         ],
         "yaxis": "y16"
        },
        {
         "marker": {
          "color": [
           "rgb(5,48,97)",
           "rgb(5,48,97)",
           "rgb(5,48,97)",
           "rgb(5,48,97)",
           "rgb(5,48,97)",
           "rgb(5,48,97)",
           "rgb(5,48,97)"
          ]
         },
         "type": "bar",
         "uid": "999fa7e8-205f-420f-aef6-c9ebf270de11",
         "x": [
          1,
          2,
          3,
          4,
          5,
          6,
          7
         ],
         "xaxis": "x77",
         "y": [
          0.11224489795918367,
          0.1934850863422292,
          0.3410518053375196,
          0.21153846153846154,
          0.07103610675039246,
          0.06475667189952904,
          0.005886970172684459
         ],
         "yaxis": "y16"
        },
        {
         "line": {
          "color": "gray",
          "shape": "spline",
          "width": 3
         },
         "mode": "lines",
         "type": "scatter",
         "uid": "f3a235c2-0d89-4006-9e26-86de8c2602cb",
         "x": [
          1,
          2,
          3,
          4,
          5,
          6,
          7
         ],
         "xaxis": "x77",
         "y": [
          0.07185578359124661,
          0.13864492108344612,
          0.16100379332347023,
          0.15654295710950153,
          0.12406201137295872,
          0.20754597914723844,
          0.14034455437213836
         ],
         "yaxis": "y16"
        },
        {
         "marker": {
          "color": [
           "rgb(33,102,172)",
           "rgb(33,102,172)",
           "rgb(33,102,172)",
           "rgb(33,102,172)",
           "rgb(33,102,172)",
           "rgb(33,102,172)",
           "rgb(33,102,172)"
          ]
         },
         "type": "bar",
         "uid": "9faea9c0-aaec-4aa1-b8b3-28cd14a36f80",
         "x": [
          1,
          2,
          3,
          4,
          5,
          6,
          7
         ],
         "xaxis": "x78",
         "y": [
          0.07932502759817063,
          0.26415391894023027,
          0.3051569153130421,
          0.2001261630657625,
          0.06607790569310834,
          0.08295221573884246,
          0.0022078536508437154
         ],
         "yaxis": "y16"
        },
        {
         "line": {
          "color": "gray",
          "shape": "spline",
          "width": 3
         },
         "mode": "lines",
         "type": "scatter",
         "uid": "99fb0990-4f70-47e3-b445-03abcd764f9e",
         "x": [
          1,
          2,
          3,
          4,
          5,
          6,
          7
         ],
         "xaxis": "x78",
         "y": [
          0.07185578359124661,
          0.13864492108344612,
          0.16100379332347023,
          0.15654295710950153,
          0.12406201137295872,
          0.20754597914723844,
          0.14034455437213836
         ],
         "yaxis": "y16"
        },
        {
         "marker": {
          "color": [
           "rgb(244,165,130)",
           "rgb(244,165,130)",
           "rgb(244,165,130)",
           "rgb(244,165,130)",
           "rgb(244,165,130)",
           "rgb(244,165,130)",
           "rgb(244,165,130)"
          ]
         },
         "type": "bar",
         "uid": "9d68ffab-8394-43cd-aa0b-f376856e5865",
         "x": [
          1,
          2,
          3,
          4,
          5,
          6,
          7
         ],
         "xaxis": "x79",
         "y": [
          0.10486486486486486,
          0.28405405405405404,
          0.23837837837837839,
          0.24864864864864866,
          0.06027027027027027,
          0.04891891891891892,
          0.014864864864864866
         ],
         "yaxis": "y16"
        },
        {
         "line": {
          "color": "gray",
          "shape": "spline",
          "width": 3
         },
         "mode": "lines",
         "type": "scatter",
         "uid": "0cd4d102-6acc-4788-9318-24d7c8c20f5f",
         "x": [
          1,
          2,
          3,
          4,
          5,
          6,
          7
         ],
         "xaxis": "x79",
         "y": [
          0.07185578359124661,
          0.13864492108344612,
          0.16100379332347023,
          0.15654295710950153,
          0.12406201137295872,
          0.20754597914723844,
          0.14034455437213836
         ],
         "yaxis": "y16"
        },
        {
         "marker": {
          "color": [
           "rgb(178,24,43)",
           "rgb(178,24,43)",
           "rgb(178,24,43)",
           "rgb(178,24,43)",
           "rgb(178,24,43)",
           "rgb(178,24,43)",
           "rgb(178,24,43)"
          ]
         },
         "type": "bar",
         "uid": "04d2ec31-d3e2-4ed4-bbee-c05aff88fa73",
         "x": [
          1,
          2,
          3,
          4,
          5,
          6,
          7
         ],
         "xaxis": "x80",
         "y": [
          0.09077705156136529,
          0.3747276688453159,
          0.1721132897603486,
          0.1626724763979666,
          0.023965141612200435,
          0.16775599128540306,
          0.007988380537400145
         ],
         "yaxis": "y16"
        },
        {
         "line": {
          "color": "gray",
          "shape": "spline",
          "width": 3
         },
         "mode": "lines",
         "type": "scatter",
         "uid": "e56f3483-8e09-4bc8-b1c0-70dcf3535507",
         "x": [
          1,
          2,
          3,
          4,
          5,
          6,
          7
         ],
         "xaxis": "x80",
         "y": [
          0.07185578359124661,
          0.13864492108344612,
          0.16100379332347023,
          0.15654295710950153,
          0.12406201137295872,
          0.20754597914723844,
          0.14034455437213836
         ],
         "yaxis": "y16"
        },
        {
         "marker": {
          "color": [
           "rgb(214,96,77)",
           "rgb(214,96,77)",
           "rgb(214,96,77)",
           "rgb(214,96,77)",
           "rgb(214,96,77)",
           "rgb(214,96,77)",
           "rgb(214,96,77)"
          ]
         },
         "type": "bar",
         "uid": "047a5e97-13ab-4866-a4fe-350660e1f1ab",
         "x": [
          1,
          2,
          3,
          4,
          5,
          6,
          7
         ],
         "xaxis": "x81",
         "y": [
          0.13392210800637036,
          0.22991168379904445,
          0.2451136528159838,
          0.2385985232372955,
          0.08976400752859418,
          0.05892572752280295,
          0.003764297089908788
         ],
         "yaxis": "y17"
        },
        {
         "line": {
          "color": "gray",
          "shape": "spline",
          "width": 3
         },
         "mode": "lines",
         "type": "scatter",
         "uid": "1e908fc3-0737-4eac-b96f-c37bea87d464",
         "x": [
          1,
          2,
          3,
          4,
          5,
          6,
          7
         ],
         "xaxis": "x81",
         "y": [
          0.07185578359124661,
          0.13864492108344612,
          0.16100379332347023,
          0.15654295710950153,
          0.12406201137295872,
          0.20754597914723844,
          0.14034455437213836
         ],
         "yaxis": "y17"
        },
        {
         "marker": {
          "color": [
           "rgb(5,48,97)",
           "rgb(5,48,97)",
           "rgb(5,48,97)",
           "rgb(5,48,97)",
           "rgb(5,48,97)",
           "rgb(5,48,97)",
           "rgb(5,48,97)"
          ]
         },
         "type": "bar",
         "uid": "3dcf5726-e9e6-4c4c-bd0e-0ffba07760b9",
         "x": [
          1,
          2,
          3,
          4,
          5,
          6,
          7
         ],
         "xaxis": "x82",
         "y": [
          0.1339145987033311,
          0.24010731052984574,
          0.24055443773753632,
          0.24055443773753632,
          0.08763693270735524,
          0.04806617482673821,
          0.009166107757657053
         ],
         "yaxis": "y17"
        },
        {
         "line": {
          "color": "gray",
          "shape": "spline",
          "width": 3
         },
         "mode": "lines",
         "type": "scatter",
         "uid": "be1fef90-d739-4a87-a93d-94adce92d104",
         "x": [
          1,
          2,
          3,
          4,
          5,
          6,
          7
         ],
         "xaxis": "x82",
         "y": [
          0.07185578359124661,
          0.13864492108344612,
          0.16100379332347023,
          0.15654295710950153,
          0.12406201137295872,
          0.20754597914723844,
          0.14034455437213836
         ],
         "yaxis": "y17"
        },
        {
         "marker": {
          "color": [
           "rgb(33,102,172)",
           "rgb(33,102,172)",
           "rgb(33,102,172)",
           "rgb(33,102,172)",
           "rgb(33,102,172)",
           "rgb(33,102,172)",
           "rgb(33,102,172)"
          ]
         },
         "type": "bar",
         "uid": "64b347c5-95df-46f6-8e82-75d97edec183",
         "x": [
          1,
          2,
          3,
          4,
          5,
          6,
          7
         ],
         "xaxis": "x83",
         "y": [
          0.03188405797101449,
          0.12077294685990338,
          0.16908212560386474,
          0.3516908212560386,
          0.242512077294686,
          0.07246376811594203,
          0.011594202898550725
         ],
         "yaxis": "y17"
        },
        {
         "line": {
          "color": "gray",
          "shape": "spline",
          "width": 3
         },
         "mode": "lines",
         "type": "scatter",
         "uid": "24e7ec07-d1f5-43ad-89e9-020f010744e6",
         "x": [
          1,
          2,
          3,
          4,
          5,
          6,
          7
         ],
         "xaxis": "x83",
         "y": [
          0.07185578359124661,
          0.13864492108344612,
          0.16100379332347023,
          0.15654295710950153,
          0.12406201137295872,
          0.20754597914723844,
          0.14034455437213836
         ],
         "yaxis": "y17"
        },
        {
         "marker": {
          "color": [
           "rgb(244,165,130)",
           "rgb(244,165,130)",
           "rgb(244,165,130)",
           "rgb(244,165,130)",
           "rgb(244,165,130)",
           "rgb(244,165,130)",
           "rgb(244,165,130)"
          ]
         },
         "type": "bar",
         "uid": "f98a5668-afa1-4492-abfe-798d19b93f2b",
         "x": [
          1,
          2,
          3,
          4,
          5,
          6,
          7
         ],
         "xaxis": "x84",
         "y": [
          0.10687912942090945,
          0.192382432957637,
          0.27788573649436454,
          0.26039642440730665,
          0.0765643218033424,
          0.08550330353672755,
          0.000388651379712398
         ],
         "yaxis": "y17"
        },
        {
         "line": {
          "color": "gray",
          "shape": "spline",
          "width": 3
         },
         "mode": "lines",
         "type": "scatter",
         "uid": "39e54297-ef1f-48db-9134-3f5ab53b0490",
         "x": [
          1,
          2,
          3,
          4,
          5,
          6,
          7
         ],
         "xaxis": "x84",
         "y": [
          0.07185578359124661,
          0.13864492108344612,
          0.16100379332347023,
          0.15654295710950153,
          0.12406201137295872,
          0.20754597914723844,
          0.14034455437213836
         ],
         "yaxis": "y17"
        },
        {
         "marker": {
          "color": [
           "rgb(178,24,43)",
           "rgb(178,24,43)",
           "rgb(178,24,43)",
           "rgb(178,24,43)",
           "rgb(178,24,43)",
           "rgb(178,24,43)",
           "rgb(178,24,43)"
          ]
         },
         "type": "bar",
         "uid": "159a996d-fa05-40f5-b4ee-aa9a6b828211",
         "x": [
          1,
          2,
          3,
          4,
          5,
          6,
          7
         ],
         "xaxis": "x85",
         "y": [
          0.09590849098108227,
          0.20721513418389792,
          0.21821381434227893,
          0.31456225252969644,
          0.097228332600088,
          0.06247250329960405,
          0.004399472063352398
         ],
         "yaxis": "y17"
        },
        {
         "line": {
          "color": "gray",
          "shape": "spline",
          "width": 3
         },
         "mode": "lines",
         "type": "scatter",
         "uid": "e5e52fa1-81fa-475b-8ae3-ed473b6d32e5",
         "x": [
          1,
          2,
          3,
          4,
          5,
          6,
          7
         ],
         "xaxis": "x85",
         "y": [
          0.07185578359124661,
          0.13864492108344612,
          0.16100379332347023,
          0.15654295710950153,
          0.12406201137295872,
          0.20754597914723844,
          0.14034455437213836
         ],
         "yaxis": "y17"
        },
        {
         "marker": {
          "color": [
           "rgb(214,96,77)",
           "rgb(214,96,77)",
           "rgb(214,96,77)",
           "rgb(214,96,77)",
           "rgb(214,96,77)",
           "rgb(214,96,77)",
           "rgb(214,96,77)"
          ]
         },
         "type": "bar",
         "uid": "5dfad383-febc-48e9-a425-6c9cb7a39eda",
         "x": [
          1,
          2,
          3,
          4,
          5,
          6,
          7
         ],
         "xaxis": "x86",
         "y": [
          0.05219623502567028,
          0.2752424415288078,
          0.27067883628066175,
          0.2410154021677125,
          0.10125499144324016,
          0.04107244723331432,
          0.018539646320593267
         ],
         "yaxis": "y18"
        },
        {
         "line": {
          "color": "gray",
          "shape": "spline",
          "width": 3
         },
         "mode": "lines",
         "type": "scatter",
         "uid": "e4bf5cea-dc5a-42de-a8e6-3173bf5e273f",
         "x": [
          1,
          2,
          3,
          4,
          5,
          6,
          7
         ],
         "xaxis": "x86",
         "y": [
          0.07185578359124661,
          0.13864492108344612,
          0.16100379332347023,
          0.15654295710950153,
          0.12406201137295872,
          0.20754597914723844,
          0.14034455437213836
         ],
         "yaxis": "y18"
        },
        {
         "marker": {
          "color": [
           "rgb(5,48,97)",
           "rgb(5,48,97)",
           "rgb(5,48,97)",
           "rgb(5,48,97)",
           "rgb(5,48,97)",
           "rgb(5,48,97)",
           "rgb(5,48,97)"
          ]
         },
         "type": "bar",
         "uid": "6f0bacf8-31bd-4e2f-8162-1749d0a1f058",
         "x": [
          1,
          2,
          3,
          4,
          5,
          6,
          7
         ],
         "xaxis": "x87",
         "y": [
          0.029053420805998126,
          0.06466729147141519,
          0.05060918462980318,
          0.046860356138706656,
          0.07497656982193064,
          0.4114339268978444,
          0.32239925023430177
         ],
         "yaxis": "y18"
        },
        {
         "line": {
          "color": "gray",
          "shape": "spline",
          "width": 3
         },
         "mode": "lines",
         "type": "scatter",
         "uid": "3cc70af3-0962-4b9c-9b2d-7ef148fb5368",
         "x": [
          1,
          2,
          3,
          4,
          5,
          6,
          7
         ],
         "xaxis": "x87",
         "y": [
          0.07185578359124661,
          0.13864492108344612,
          0.16100379332347023,
          0.15654295710950153,
          0.12406201137295872,
          0.20754597914723844,
          0.14034455437213836
         ],
         "yaxis": "y18"
        },
        {
         "marker": {
          "color": [
           "rgb(33,102,172)",
           "rgb(33,102,172)",
           "rgb(33,102,172)",
           "rgb(33,102,172)",
           "rgb(33,102,172)",
           "rgb(33,102,172)",
           "rgb(33,102,172)"
          ]
         },
         "type": "bar",
         "uid": "fe4763c8-e40a-446b-9e3c-b37cd6ce57c4",
         "x": [
          1,
          2,
          3,
          4,
          5,
          6,
          7
         ],
         "xaxis": "x88",
         "y": [
          0.06221198156682028,
          0.23425499231950844,
          0.41321044546851,
          0.07987711213517665,
          0.07142857142857142,
          0.1259600614439324,
          0.013056835637480798
         ],
         "yaxis": "y18"
        },
        {
         "line": {
          "color": "gray",
          "shape": "spline",
          "width": 3
         },
         "mode": "lines",
         "type": "scatter",
         "uid": "e6aa76d8-c50c-40c8-93d5-0c580244f42a",
         "x": [
          1,
          2,
          3,
          4,
          5,
          6,
          7
         ],
         "xaxis": "x88",
         "y": [
          0.07185578359124661,
          0.13864492108344612,
          0.16100379332347023,
          0.15654295710950153,
          0.12406201137295872,
          0.20754597914723844,
          0.14034455437213836
         ],
         "yaxis": "y18"
        },
        {
         "marker": {
          "color": [
           "rgb(244,165,130)",
           "rgb(244,165,130)",
           "rgb(244,165,130)",
           "rgb(244,165,130)",
           "rgb(244,165,130)",
           "rgb(244,165,130)",
           "rgb(244,165,130)"
          ]
         },
         "type": "bar",
         "uid": "b91e752b-2e53-48de-a434-a5e354394872",
         "x": [
          1,
          2,
          3,
          4,
          5,
          6,
          7
         ],
         "xaxis": "x89",
         "y": [
          0.1396797153024911,
          0.14501779359430605,
          0.1494661921708185,
          0.3638790035587189,
          0.042704626334519574,
          0.15569395017793594,
          0.0035587188612099642
         ],
         "yaxis": "y18"
        },
        {
         "line": {
          "color": "gray",
          "shape": "spline",
          "width": 3
         },
         "mode": "lines",
         "type": "scatter",
         "uid": "b90a462d-dc0f-4c84-9be8-94cc14ec7252",
         "x": [
          1,
          2,
          3,
          4,
          5,
          6,
          7
         ],
         "xaxis": "x89",
         "y": [
          0.07185578359124661,
          0.13864492108344612,
          0.16100379332347023,
          0.15654295710950153,
          0.12406201137295872,
          0.20754597914723844,
          0.14034455437213836
         ],
         "yaxis": "y18"
        },
        {
         "marker": {
          "color": [
           "rgb(178,24,43)",
           "rgb(178,24,43)",
           "rgb(178,24,43)",
           "rgb(178,24,43)",
           "rgb(178,24,43)",
           "rgb(178,24,43)",
           "rgb(178,24,43)"
          ]
         },
         "type": "bar",
         "uid": "e942fb16-7b19-4fb8-bc1f-57dd537a2a1c",
         "x": [
          1,
          2,
          3,
          4,
          5,
          6,
          7
         ],
         "xaxis": "x90",
         "y": [
          0.03865877712031558,
          0.21696252465483234,
          0.2682445759368836,
          0.32938856015779094,
          0.07100591715976332,
          0.05009861932938856,
          0.02564102564102564
         ],
         "yaxis": "y18"
        },
        {
         "line": {
          "color": "gray",
          "shape": "spline",
          "width": 3
         },
         "mode": "lines",
         "type": "scatter",
         "uid": "d99d9aac-449c-448f-a905-02bd93a24792",
         "x": [
          1,
          2,
          3,
          4,
          5,
          6,
          7
         ],
         "xaxis": "x90",
         "y": [
          0.07185578359124661,
          0.13864492108344612,
          0.16100379332347023,
          0.15654295710950153,
          0.12406201137295872,
          0.20754597914723844,
          0.14034455437213836
         ],
         "yaxis": "y18"
        },
        {
         "marker": {
          "color": [
           "rgb(214,96,77)",
           "rgb(214,96,77)",
           "rgb(214,96,77)",
           "rgb(214,96,77)",
           "rgb(214,96,77)",
           "rgb(214,96,77)",
           "rgb(214,96,77)"
          ]
         },
         "type": "bar",
         "uid": "421a3833-9a8f-4557-a0b8-ebecc95822dd",
         "x": [
          1,
          2,
          3,
          4,
          5,
          6,
          7
         ],
         "xaxis": "x91",
         "y": [
          0.07811993517017828,
          0.3014586709886548,
          0.24343598055105348,
          0.23435980551053484,
          0.07779578606158834,
          0.04538087520259319,
          0.019448946515397084
         ],
         "yaxis": "y19"
        },
        {
         "line": {
          "color": "gray",
          "shape": "spline",
          "width": 3
         },
         "mode": "lines",
         "type": "scatter",
         "uid": "8487e35c-5b63-4fca-a1a5-7e6836041d1b",
         "x": [
          1,
          2,
          3,
          4,
          5,
          6,
          7
         ],
         "xaxis": "x91",
         "y": [
          0.07185578359124661,
          0.13864492108344612,
          0.16100379332347023,
          0.15654295710950153,
          0.12406201137295872,
          0.20754597914723844,
          0.14034455437213836
         ],
         "yaxis": "y19"
        },
        {
         "marker": {
          "color": [
           "rgb(5,48,97)",
           "rgb(5,48,97)",
           "rgb(5,48,97)",
           "rgb(5,48,97)",
           "rgb(5,48,97)",
           "rgb(5,48,97)",
           "rgb(5,48,97)"
          ]
         },
         "type": "bar",
         "uid": "85bb907b-32ad-4ee3-b0bd-eb8b1dc28784",
         "x": [
          1,
          2,
          3,
          4,
          5,
          6,
          7
         ],
         "xaxis": "x92",
         "y": [
          0.05589492974954185,
          0.23671350030543678,
          0.31062919975565056,
          0.22846670739156993,
          0.10751374465485644,
          0.046426389737324374,
          0.014355528405620037
         ],
         "yaxis": "y19"
        },
        {
         "line": {
          "color": "gray",
          "shape": "spline",
          "width": 3
         },
         "mode": "lines",
         "type": "scatter",
         "uid": "96071d8a-a892-43fb-ae1d-03071c35bd5a",
         "x": [
          1,
          2,
          3,
          4,
          5,
          6,
          7
         ],
         "xaxis": "x92",
         "y": [
          0.07185578359124661,
          0.13864492108344612,
          0.16100379332347023,
          0.15654295710950153,
          0.12406201137295872,
          0.20754597914723844,
          0.14034455437213836
         ],
         "yaxis": "y19"
        },
        {
         "marker": {
          "color": [
           "rgb(33,102,172)",
           "rgb(33,102,172)",
           "rgb(33,102,172)",
           "rgb(33,102,172)",
           "rgb(33,102,172)",
           "rgb(33,102,172)",
           "rgb(33,102,172)"
          ]
         },
         "type": "bar",
         "uid": "699f9908-bcbb-48f4-8459-f2361e2c3e50",
         "x": [
          1,
          2,
          3,
          4,
          5,
          6,
          7
         ],
         "xaxis": "x93",
         "y": [
          0.22708208508088676,
          0.1390053924505692,
          0.2025164769322948,
          0.12822049131216298,
          0.22588376273217495,
          0.06111443978430198,
          0.016177351707609346
         ],
         "yaxis": "y19"
        },
        {
         "line": {
          "color": "gray",
          "shape": "spline",
          "width": 3
         },
         "mode": "lines",
         "type": "scatter",
         "uid": "1c342879-4c55-4706-a76c-a912eb890e59",
         "x": [
          1,
          2,
          3,
          4,
          5,
          6,
          7
         ],
         "xaxis": "x93",
         "y": [
          0.07185578359124661,
          0.13864492108344612,
          0.16100379332347023,
          0.15654295710950153,
          0.12406201137295872,
          0.20754597914723844,
          0.14034455437213836
         ],
         "yaxis": "y19"
        },
        {
         "marker": {
          "color": [
           "rgb(244,165,130)",
           "rgb(244,165,130)",
           "rgb(244,165,130)",
           "rgb(244,165,130)",
           "rgb(244,165,130)",
           "rgb(244,165,130)",
           "rgb(244,165,130)"
          ]
         },
         "type": "bar",
         "uid": "c3d3f69d-329c-4edf-a5c9-6fc2c1ca4943",
         "x": [
          1,
          2,
          3,
          4,
          5,
          6,
          7
         ],
         "xaxis": "x94",
         "y": [
          0.07475113122171946,
          0.23040723981900452,
          0.3035294117647059,
          0.23239819004524886,
          0.08307692307692308,
          0.07076923076923076,
          0.0050678733031674205
         ],
         "yaxis": "y19"
        },
        {
         "line": {
          "color": "gray",
          "shape": "spline",
          "width": 3
         },
         "mode": "lines",
         "type": "scatter",
         "uid": "d5c2514f-3c97-4315-a05a-01bc10f1bcf8",
         "x": [
          1,
          2,
          3,
          4,
          5,
          6,
          7
         ],
         "xaxis": "x94",
         "y": [
          0.07185578359124661,
          0.13864492108344612,
          0.16100379332347023,
          0.15654295710950153,
          0.12406201137295872,
          0.20754597914723844,
          0.14034455437213836
         ],
         "yaxis": "y19"
        },
        {
         "marker": {
          "color": [
           "rgb(178,24,43)",
           "rgb(178,24,43)",
           "rgb(178,24,43)",
           "rgb(178,24,43)",
           "rgb(178,24,43)",
           "rgb(178,24,43)",
           "rgb(178,24,43)"
          ]
         },
         "type": "bar",
         "uid": "03faf827-c0af-4174-b88c-f85e6d82d646",
         "x": [
          1,
          2,
          3,
          4,
          5,
          6,
          7
         ],
         "xaxis": "x95",
         "y": [
          0.01120206807410599,
          0.03188280913399397,
          0.06118052563550194,
          0.10728134424816889,
          0.07496768634209393,
          0.4200775527789746,
          0.2934080137871607
         ],
         "yaxis": "y19"
        },
        {
         "line": {
          "color": "gray",
          "shape": "spline",
          "width": 3
         },
         "mode": "lines",
         "type": "scatter",
         "uid": "2a265c2d-52ff-4c9b-b118-aff6429d3c79",
         "x": [
          1,
          2,
          3,
          4,
          5,
          6,
          7
         ],
         "xaxis": "x95",
         "y": [
          0.07185578359124661,
          0.13864492108344612,
          0.16100379332347023,
          0.15654295710950153,
          0.12406201137295872,
          0.20754597914723844,
          0.14034455437213836
         ],
         "yaxis": "y19"
        },
        {
         "marker": {
          "color": [
           "rgb(214,96,77)",
           "rgb(214,96,77)",
           "rgb(214,96,77)",
           "rgb(214,96,77)",
           "rgb(214,96,77)",
           "rgb(214,96,77)",
           "rgb(214,96,77)"
          ]
         },
         "type": "bar",
         "uid": "10e6e2f7-e765-4a77-8d5c-63846a2080b2",
         "x": [
          1,
          2,
          3,
          4,
          5,
          6,
          7
         ],
         "xaxis": "x96",
         "y": [
          0.06886354034643008,
          0.35361216730038025,
          0.21335023236163922,
          0.21081537811575835,
          0.06759611322348964,
          0.07139839459231094,
          0.01436417405999155
         ],
         "yaxis": "y20"
        },
        {
         "line": {
          "color": "gray",
          "shape": "spline",
          "width": 3
         },
         "mode": "lines",
         "type": "scatter",
         "uid": "0c689e45-48f3-465e-b1d9-9b13c74ed364",
         "x": [
          1,
          2,
          3,
          4,
          5,
          6,
          7
         ],
         "xaxis": "x96",
         "y": [
          0.07185578359124661,
          0.13864492108344612,
          0.16100379332347023,
          0.15654295710950153,
          0.12406201137295872,
          0.20754597914723844,
          0.14034455437213836
         ],
         "yaxis": "y20"
        },
        {
         "marker": {
          "color": [
           "rgb(5,48,97)",
           "rgb(5,48,97)",
           "rgb(5,48,97)",
           "rgb(5,48,97)",
           "rgb(5,48,97)",
           "rgb(5,48,97)",
           "rgb(5,48,97)"
          ]
         },
         "type": "bar",
         "uid": "48f2b806-4829-4a2e-a403-e25bcf842956",
         "x": [
          1,
          2,
          3,
          4,
          5,
          6,
          7
         ],
         "xaxis": "x97",
         "y": [
          0.024412296564195298,
          0.2070524412296564,
          0.32007233273056057,
          0.2504520795660036,
          0.1256781193490054,
          0.05515370705244123,
          0.017179023508137433
         ],
         "yaxis": "y20"
        },
        {
         "line": {
          "color": "gray",
          "shape": "spline",
          "width": 3
         },
         "mode": "lines",
         "type": "scatter",
         "uid": "b8195a8f-f43f-4094-b327-90666649f329",
         "x": [
          1,
          2,
          3,
          4,
          5,
          6,
          7
         ],
         "xaxis": "x97",
         "y": [
          0.07185578359124661,
          0.13864492108344612,
          0.16100379332347023,
          0.15654295710950153,
          0.12406201137295872,
          0.20754597914723844,
          0.14034455437213836
         ],
         "yaxis": "y20"
        },
        {
         "marker": {
          "color": [
           "rgb(33,102,172)",
           "rgb(33,102,172)",
           "rgb(33,102,172)",
           "rgb(33,102,172)",
           "rgb(33,102,172)",
           "rgb(33,102,172)",
           "rgb(33,102,172)"
          ]
         },
         "type": "bar",
         "uid": "0c392a00-06de-4c97-917d-7ede233eac80",
         "x": [
          1,
          2,
          3,
          4,
          5,
          6,
          7
         ],
         "xaxis": "x98",
         "y": [
          0.030115830115830116,
          0.2416988416988417,
          0.27335907335907333,
          0.2254826254826255,
          0.122007722007722,
          0.10733590733590734,
          0
         ],
         "yaxis": "y20"
        },
        {
         "line": {
          "color": "gray",
          "shape": "spline",
          "width": 3
         },
         "mode": "lines",
         "type": "scatter",
         "uid": "7587dcc3-4da7-42c5-a93b-b9bb017ca53a",
         "x": [
          1,
          2,
          3,
          4,
          5,
          6,
          7
         ],
         "xaxis": "x98",
         "y": [
          0.07185578359124661,
          0.13864492108344612,
          0.16100379332347023,
          0.15654295710950153,
          0.12406201137295872,
          0.20754597914723844,
          0.14034455437213836
         ],
         "yaxis": "y20"
        },
        {
         "marker": {
          "color": [
           "rgb(244,165,130)",
           "rgb(244,165,130)",
           "rgb(244,165,130)",
           "rgb(244,165,130)",
           "rgb(244,165,130)",
           "rgb(244,165,130)",
           "rgb(244,165,130)"
          ]
         },
         "type": "bar",
         "uid": "a024efc2-9eb7-4708-b3fb-d51611e69e05",
         "x": [
          1,
          2,
          3,
          4,
          5,
          6,
          7
         ],
         "xaxis": "x99",
         "y": [
          0.14247251514471618,
          0.2317702490464438,
          0.17881983396903747,
          0.2802333408122055,
          0.08166928427193179,
          0.08099618577518511,
          0.004038590980480144
         ],
         "yaxis": "y20"
        },
        {
         "line": {
          "color": "gray",
          "shape": "spline",
          "width": 3
         },
         "mode": "lines",
         "type": "scatter",
         "uid": "76c0b252-1fad-4715-80d8-d67218d5c153",
         "x": [
          1,
          2,
          3,
          4,
          5,
          6,
          7
         ],
         "xaxis": "x99",
         "y": [
          0.07185578359124661,
          0.13864492108344612,
          0.16100379332347023,
          0.15654295710950153,
          0.12406201137295872,
          0.20754597914723844,
          0.14034455437213836
         ],
         "yaxis": "y20"
        },
        {
         "marker": {
          "color": [
           "rgb(178,24,43)",
           "rgb(178,24,43)",
           "rgb(178,24,43)",
           "rgb(178,24,43)",
           "rgb(178,24,43)",
           "rgb(178,24,43)",
           "rgb(178,24,43)"
          ]
         },
         "type": "bar",
         "uid": "321fe5c7-3709-4c8a-ad6a-4e94566b30a7",
         "x": [
          1,
          2,
          3,
          4,
          5,
          6,
          7
         ],
         "xaxis": "x100",
         "y": [
          0.0740578439964943,
          0.16170026292725678,
          0.1722173531989483,
          0.3093777388255916,
          0.2037686240140228,
          0.07712532865907099,
          0.0017528483786152498
         ],
         "yaxis": "y20"
        },
        {
         "line": {
          "color": "gray",
          "shape": "spline",
          "width": 3
         },
         "mode": "lines",
         "type": "scatter",
         "uid": "3a868627-e78b-4197-aa98-1a0decba15a0",
         "x": [
          1,
          2,
          3,
          4,
          5,
          6,
          7
         ],
         "xaxis": "x100",
         "y": [
          0.07185578359124661,
          0.13864492108344612,
          0.16100379332347023,
          0.15654295710950153,
          0.12406201137295872,
          0.20754597914723844,
          0.14034455437213836
         ],
         "yaxis": "y20"
        },
        {
         "marker": {
          "color": [
           "rgb(214,96,77)",
           "rgb(214,96,77)",
           "rgb(214,96,77)",
           "rgb(214,96,77)",
           "rgb(214,96,77)",
           "rgb(214,96,77)",
           "rgb(214,96,77)"
          ]
         },
         "type": "bar",
         "uid": "f4672114-d27e-450f-8746-776f86fc3b26",
         "x": [
          1,
          2,
          3,
          4,
          5,
          6,
          7
         ],
         "xaxis": "x101",
         "y": [
          0.14174490496908632,
          0.2212044882070071,
          0.2226929242042592,
          0.252690634302725,
          0.08094801923517289,
          0.07716968170368674,
          0.0035493473780627434
         ],
         "yaxis": "y21"
        },
        {
         "line": {
          "color": "gray",
          "shape": "spline",
          "width": 3
         },
         "mode": "lines",
         "type": "scatter",
         "uid": "4829fe5a-bec3-4dd6-af18-1c4b5bc07562",
         "x": [
          1,
          2,
          3,
          4,
          5,
          6,
          7
         ],
         "xaxis": "x101",
         "y": [
          0.07185578359124661,
          0.13864492108344612,
          0.16100379332347023,
          0.15654295710950153,
          0.12406201137295872,
          0.20754597914723844,
          0.14034455437213836
         ],
         "yaxis": "y21"
        },
        {
         "marker": {
          "color": [
           "rgb(5,48,97)",
           "rgb(5,48,97)",
           "rgb(5,48,97)",
           "rgb(5,48,97)",
           "rgb(5,48,97)",
           "rgb(5,48,97)",
           "rgb(5,48,97)"
          ]
         },
         "type": "bar",
         "uid": "39fd591f-bd0b-4e14-9af8-3c65799b8ab4",
         "x": [
          1,
          2,
          3,
          4,
          5,
          6,
          7
         ],
         "xaxis": "x102",
         "y": [
          0.10566735404963379,
          0.21403683424589348,
          0.2567019839294603,
          0.2743369124653346,
          0.08895683709023679,
          0.04430064708810354,
          0.015999431131337553
         ],
         "yaxis": "y21"
        },
        {
         "line": {
          "color": "gray",
          "shape": "spline",
          "width": 3
         },
         "mode": "lines",
         "type": "scatter",
         "uid": "a8b28af5-40c4-4e9d-9d4f-222e61e06f22",
         "x": [
          1,
          2,
          3,
          4,
          5,
          6,
          7
         ],
         "xaxis": "x102",
         "y": [
          0.07185578359124661,
          0.13864492108344612,
          0.16100379332347023,
          0.15654295710950153,
          0.12406201137295872,
          0.20754597914723844,
          0.14034455437213836
         ],
         "yaxis": "y21"
        },
        {
         "marker": {
          "color": [
           "rgb(33,102,172)",
           "rgb(33,102,172)",
           "rgb(33,102,172)",
           "rgb(33,102,172)",
           "rgb(33,102,172)",
           "rgb(33,102,172)",
           "rgb(33,102,172)"
          ]
         },
         "type": "bar",
         "uid": "3bfcb7ea-037c-4b1d-85f9-143ac64731fd",
         "x": [
          1,
          2,
          3,
          4,
          5,
          6,
          7
         ],
         "xaxis": "x103",
         "y": [
          0.07648953301127215,
          0.14009661835748793,
          0.3115942028985507,
          0.22946859903381642,
          0.18276972624798712,
          0.04830917874396135,
          0.011272141706924315
         ],
         "yaxis": "y21"
        },
        {
         "line": {
          "color": "gray",
          "shape": "spline",
          "width": 3
         },
         "mode": "lines",
         "type": "scatter",
         "uid": "82476205-1ba2-4187-ad9e-594813be1f77",
         "x": [
          1,
          2,
          3,
          4,
          5,
          6,
          7
         ],
         "xaxis": "x103",
         "y": [
          0.07185578359124661,
          0.13864492108344612,
          0.16100379332347023,
          0.15654295710950153,
          0.12406201137295872,
          0.20754597914723844,
          0.14034455437213836
         ],
         "yaxis": "y21"
        },
        {
         "marker": {
          "color": [
           "rgb(244,165,130)",
           "rgb(244,165,130)",
           "rgb(244,165,130)",
           "rgb(244,165,130)",
           "rgb(244,165,130)",
           "rgb(244,165,130)",
           "rgb(244,165,130)"
          ]
         },
         "type": "bar",
         "uid": "52009a61-7926-4ab6-b05e-e58ace5be04e",
         "x": [
          1,
          2,
          3,
          4,
          5,
          6,
          7
         ],
         "xaxis": "x104",
         "y": [
          0.09492140266021766,
          0.18137847642079807,
          0.3391777509068924,
          0.17472793228536881,
          0.11185006045949214,
          0.09794437726723096,
          0
         ],
         "yaxis": "y21"
        },
        {
         "line": {
          "color": "gray",
          "shape": "spline",
          "width": 3
         },
         "mode": "lines",
         "type": "scatter",
         "uid": "4d972670-47fe-4c04-94d7-2e5ced3a92e1",
         "x": [
          1,
          2,
          3,
          4,
          5,
          6,
          7
         ],
         "xaxis": "x104",
         "y": [
          0.07185578359124661,
          0.13864492108344612,
          0.16100379332347023,
          0.15654295710950153,
          0.12406201137295872,
          0.20754597914723844,
          0.14034455437213836
         ],
         "yaxis": "y21"
        },
        {
         "marker": {
          "color": [
           "rgb(178,24,43)",
           "rgb(178,24,43)",
           "rgb(178,24,43)",
           "rgb(178,24,43)",
           "rgb(178,24,43)",
           "rgb(178,24,43)",
           "rgb(178,24,43)"
          ]
         },
         "type": "bar",
         "uid": "a1592a18-10c6-41de-b5d7-04a5933f9c51",
         "x": [
          1,
          2,
          3,
          4,
          5,
          6,
          7
         ],
         "xaxis": "x105",
         "y": [
          0.08248264597795019,
          0.2750102082482646,
          0.2605144957125357,
          0.21600653327888933,
          0.08738260514495713,
          0.07349938750510412,
          0.005104124132298897
         ],
         "yaxis": "y21"
        },
        {
         "line": {
          "color": "gray",
          "shape": "spline",
          "width": 3
         },
         "mode": "lines",
         "type": "scatter",
         "uid": "dbf440cb-2ad0-4404-987e-7ee131e174a8",
         "x": [
          1,
          2,
          3,
          4,
          5,
          6,
          7
         ],
         "xaxis": "x105",
         "y": [
          0.07185578359124661,
          0.13864492108344612,
          0.16100379332347023,
          0.15654295710950153,
          0.12406201137295872,
          0.20754597914723844,
          0.14034455437213836
         ],
         "yaxis": "y21"
        },
        {
         "marker": {
          "color": [
           "rgb(214,96,77)",
           "rgb(214,96,77)",
           "rgb(214,96,77)",
           "rgb(214,96,77)",
           "rgb(214,96,77)",
           "rgb(214,96,77)",
           "rgb(214,96,77)"
          ]
         },
         "type": "bar",
         "uid": "03346eb4-03f7-4cce-bc2d-e2a0029ef823",
         "x": [
          1,
          2,
          3,
          4,
          5,
          6,
          7
         ],
         "xaxis": "x106",
         "y": [
          0.08317757009345794,
          0.26635514018691586,
          0.2411214953271028,
          0.2514018691588785,
          0.07476635514018691,
          0.07757009345794393,
          0.005607476635514018
         ],
         "yaxis": "y22"
        },
        {
         "line": {
          "color": "gray",
          "shape": "spline",
          "width": 3
         },
         "mode": "lines",
         "type": "scatter",
         "uid": "fa20ba9b-e023-43ec-b2fc-3393b236725f",
         "x": [
          1,
          2,
          3,
          4,
          5,
          6,
          7
         ],
         "xaxis": "x106",
         "y": [
          0.07185578359124661,
          0.13864492108344612,
          0.16100379332347023,
          0.15654295710950153,
          0.12406201137295872,
          0.20754597914723844,
          0.14034455437213836
         ],
         "yaxis": "y22"
        },
        {
         "marker": {
          "color": [
           "rgb(5,48,97)",
           "rgb(5,48,97)",
           "rgb(5,48,97)",
           "rgb(5,48,97)",
           "rgb(5,48,97)",
           "rgb(5,48,97)",
           "rgb(5,48,97)"
          ]
         },
         "type": "bar",
         "uid": "2c62e9d0-8bd9-414c-9984-65bdee883b55",
         "x": [
          1,
          2,
          3,
          4,
          5,
          6,
          7
         ],
         "xaxis": "x107",
         "y": [
          0.028547439126784216,
          0.17716204869857263,
          0.24181360201511334,
          0.2586062132661629,
          0.20235096557514692,
          0.08900083963056256,
          0.0025188916876574307
         ],
         "yaxis": "y22"
        },
        {
         "line": {
          "color": "gray",
          "shape": "spline",
          "width": 3
         },
         "mode": "lines",
         "type": "scatter",
         "uid": "c162ab70-e195-4cea-91f0-85236f35b0e4",
         "x": [
          1,
          2,
          3,
          4,
          5,
          6,
          7
         ],
         "xaxis": "x107",
         "y": [
          0.07185578359124661,
          0.13864492108344612,
          0.16100379332347023,
          0.15654295710950153,
          0.12406201137295872,
          0.20754597914723844,
          0.14034455437213836
         ],
         "yaxis": "y22"
        },
        {
         "marker": {
          "color": [
           "rgb(33,102,172)",
           "rgb(33,102,172)",
           "rgb(33,102,172)",
           "rgb(33,102,172)",
           "rgb(33,102,172)",
           "rgb(33,102,172)",
           "rgb(33,102,172)"
          ]
         },
         "type": "bar",
         "uid": "bb24c3ac-6207-4ec2-9ac4-504dbffe467d",
         "x": [
          1,
          2,
          3,
          4,
          5,
          6,
          7
         ],
         "xaxis": "x108",
         "y": [
          0.05716302046577276,
          0.24064925899788286,
          0.360621030345801,
          0.09809456598447425,
          0.15031757233592097,
          0.07974594213126324,
          0.013408609738884969
         ],
         "yaxis": "y22"
        },
        {
         "line": {
          "color": "gray",
          "shape": "spline",
          "width": 3
         },
         "mode": "lines",
         "type": "scatter",
         "uid": "6cff948d-5c07-4f4f-bf7f-35491aaedf0b",
         "x": [
          1,
          2,
          3,
          4,
          5,
          6,
          7
         ],
         "xaxis": "x108",
         "y": [
          0.07185578359124661,
          0.13864492108344612,
          0.16100379332347023,
          0.15654295710950153,
          0.12406201137295872,
          0.20754597914723844,
          0.14034455437213836
         ],
         "yaxis": "y22"
        },
        {
         "marker": {
          "color": [
           "rgb(244,165,130)",
           "rgb(244,165,130)",
           "rgb(244,165,130)",
           "rgb(244,165,130)",
           "rgb(244,165,130)",
           "rgb(244,165,130)",
           "rgb(244,165,130)"
          ]
         },
         "type": "bar",
         "uid": "9dbe312d-6cf9-49fc-b88d-f7b1e2a68b7f",
         "x": [
          1,
          2,
          3,
          4,
          5,
          6,
          7
         ],
         "xaxis": "x109",
         "y": [
          0.11746522411128284,
          0.1635239567233385,
          0.3038639876352396,
          0.2550231839258114,
          0.0893353941267388,
          0.05965996908809892,
          0.011128284389489953
         ],
         "yaxis": "y22"
        },
        {
         "line": {
          "color": "gray",
          "shape": "spline",
          "width": 3
         },
         "mode": "lines",
         "type": "scatter",
         "uid": "53729be4-2463-4f3e-979d-933d7c8c5a7a",
         "x": [
          1,
          2,
          3,
          4,
          5,
          6,
          7
         ],
         "xaxis": "x109",
         "y": [
          0.07185578359124661,
          0.13864492108344612,
          0.16100379332347023,
          0.15654295710950153,
          0.12406201137295872,
          0.20754597914723844,
          0.14034455437213836
         ],
         "yaxis": "y22"
        },
        {
         "marker": {
          "color": [
           "rgb(178,24,43)",
           "rgb(178,24,43)",
           "rgb(178,24,43)",
           "rgb(178,24,43)",
           "rgb(178,24,43)",
           "rgb(178,24,43)",
           "rgb(178,24,43)"
          ]
         },
         "type": "bar",
         "uid": "48d006e9-197b-44b6-b588-a9aa1e729e02",
         "x": [
          1,
          2,
          3,
          4,
          5,
          6,
          7
         ],
         "xaxis": "x110",
         "y": [
          0.0831638418079096,
          0.19502824858757062,
          0.2917514124293785,
          0.256271186440678,
          0.09988700564971752,
          0.06824858757062147,
          0.005649717514124294
         ],
         "yaxis": "y22"
        },
        {
         "line": {
          "color": "gray",
          "shape": "spline",
          "width": 3
         },
         "mode": "lines",
         "type": "scatter",
         "uid": "85e7d0ad-52ec-4047-8565-d99d783e8674",
         "x": [
          1,
          2,
          3,
          4,
          5,
          6,
          7
         ],
         "xaxis": "x110",
         "y": [
          0.07185578359124661,
          0.13864492108344612,
          0.16100379332347023,
          0.15654295710950153,
          0.12406201137295872,
          0.20754597914723844,
          0.14034455437213836
         ],
         "yaxis": "y22"
        },
        {
         "marker": {
          "color": [
           "rgb(214,96,77)",
           "rgb(214,96,77)",
           "rgb(214,96,77)",
           "rgb(214,96,77)",
           "rgb(214,96,77)",
           "rgb(214,96,77)",
           "rgb(214,96,77)"
          ]
         },
         "type": "bar",
         "uid": "62c94289-55ae-4725-ac32-3fbe549d19a6",
         "x": [
          1,
          2,
          3,
          4,
          5,
          6,
          7
         ],
         "xaxis": "x111",
         "y": [
          0.09541904158750264,
          0.23664766729997888,
          0.25438040954190416,
          0.27971289845894026,
          0.05636478784040532,
          0.05742030821194849,
          0.020054887059320244
         ],
         "yaxis": "y23"
        },
        {
         "line": {
          "color": "gray",
          "shape": "spline",
          "width": 3
         },
         "mode": "lines",
         "type": "scatter",
         "uid": "d8c1cac4-b026-40a0-bf34-3a329c6d659f",
         "x": [
          1,
          2,
          3,
          4,
          5,
          6,
          7
         ],
         "xaxis": "x111",
         "y": [
          0.07185578359124661,
          0.13864492108344612,
          0.16100379332347023,
          0.15654295710950153,
          0.12406201137295872,
          0.20754597914723844,
          0.14034455437213836
         ],
         "yaxis": "y23"
        },
        {
         "marker": {
          "color": [
           "rgb(5,48,97)",
           "rgb(5,48,97)",
           "rgb(5,48,97)",
           "rgb(5,48,97)",
           "rgb(5,48,97)",
           "rgb(5,48,97)",
           "rgb(5,48,97)"
          ]
         },
         "type": "bar",
         "uid": "df23acab-14e2-42e6-b6ba-279860abff64",
         "x": [
          1,
          2,
          3,
          4,
          5,
          6,
          7
         ],
         "xaxis": "x112",
         "y": [
          0.05334890965732087,
          0.2908878504672897,
          0.24221183800623053,
          0.23169781931464176,
          0.11604361370716511,
          0.045171339563862926,
          0.020638629283489095
         ],
         "yaxis": "y23"
        },
        {
         "line": {
          "color": "gray",
          "shape": "spline",
          "width": 3
         },
         "mode": "lines",
         "type": "scatter",
         "uid": "cf800e15-4342-458e-a023-1e43a22dd1b9",
         "x": [
          1,
          2,
          3,
          4,
          5,
          6,
          7
         ],
         "xaxis": "x112",
         "y": [
          0.07185578359124661,
          0.13864492108344612,
          0.16100379332347023,
          0.15654295710950153,
          0.12406201137295872,
          0.20754597914723844,
          0.14034455437213836
         ],
         "yaxis": "y23"
        },
        {
         "marker": {
          "color": [
           "rgb(33,102,172)",
           "rgb(33,102,172)",
           "rgb(33,102,172)",
           "rgb(33,102,172)",
           "rgb(33,102,172)",
           "rgb(33,102,172)",
           "rgb(33,102,172)"
          ]
         },
         "type": "bar",
         "uid": "8462e28a-5219-47ee-a0e4-e183a88898fd",
         "x": [
          1,
          2,
          3,
          4,
          5,
          6,
          7
         ],
         "xaxis": "x113",
         "y": [
          0.14652711703139867,
          0.15509039010466222,
          0.24262607040913417,
          0.2844909609895338,
          0.10180780209324453,
          0.05708848715509039,
          0.012369172216936251
         ],
         "yaxis": "y23"
        },
        {
         "line": {
          "color": "gray",
          "shape": "spline",
          "width": 3
         },
         "mode": "lines",
         "type": "scatter",
         "uid": "385a95c3-bdf7-452e-aeb7-47df91cbdd36",
         "x": [
          1,
          2,
          3,
          4,
          5,
          6,
          7
         ],
         "xaxis": "x113",
         "y": [
          0.07185578359124661,
          0.13864492108344612,
          0.16100379332347023,
          0.15654295710950153,
          0.12406201137295872,
          0.20754597914723844,
          0.14034455437213836
         ],
         "yaxis": "y23"
        },
        {
         "marker": {
          "color": [
           "rgb(244,165,130)",
           "rgb(244,165,130)",
           "rgb(244,165,130)",
           "rgb(244,165,130)",
           "rgb(244,165,130)",
           "rgb(244,165,130)",
           "rgb(244,165,130)"
          ]
         },
         "type": "bar",
         "uid": "50bbab5d-c8af-46bf-aa0c-78c0d98c0e4a",
         "x": [
          1,
          2,
          3,
          4,
          5,
          6,
          7
         ],
         "xaxis": "x114",
         "y": [
          0.09694454922670691,
          0.23915503583553377,
          0.23613730667672575,
          0.23500565824217276,
          0.12033195020746888,
          0.06865333836288193,
          0.003772161448509996
         ],
         "yaxis": "y23"
        },
        {
         "line": {
          "color": "gray",
          "shape": "spline",
          "width": 3
         },
         "mode": "lines",
         "type": "scatter",
         "uid": "21e91009-e777-4e6a-a721-bce0c42e3abb",
         "x": [
          1,
          2,
          3,
          4,
          5,
          6,
          7
         ],
         "xaxis": "x114",
         "y": [
          0.07185578359124661,
          0.13864492108344612,
          0.16100379332347023,
          0.15654295710950153,
          0.12406201137295872,
          0.20754597914723844,
          0.14034455437213836
         ],
         "yaxis": "y23"
        },
        {
         "marker": {
          "color": [
           "rgb(178,24,43)",
           "rgb(178,24,43)",
           "rgb(178,24,43)",
           "rgb(178,24,43)",
           "rgb(178,24,43)",
           "rgb(178,24,43)",
           "rgb(178,24,43)"
          ]
         },
         "type": "bar",
         "uid": "94200387-b276-4349-8f4f-d4c17662f704",
         "x": [
          1,
          2,
          3,
          4,
          5,
          6,
          7
         ],
         "xaxis": "x115",
         "y": [
          0.08599827139152982,
          0.20872947277441659,
          0.27009507346586,
          0.2677182368193604,
          0.0898876404494382,
          0.07108902333621435,
          0.00648228176318064
         ],
         "yaxis": "y23"
        },
        {
         "line": {
          "color": "gray",
          "shape": "spline",
          "width": 3
         },
         "mode": "lines",
         "type": "scatter",
         "uid": "a120ae0e-1f99-4529-a41d-3ad4ee019ef4",
         "x": [
          1,
          2,
          3,
          4,
          5,
          6,
          7
         ],
         "xaxis": "x115",
         "y": [
          0.07185578359124661,
          0.13864492108344612,
          0.16100379332347023,
          0.15654295710950153,
          0.12406201137295872,
          0.20754597914723844,
          0.14034455437213836
         ],
         "yaxis": "y23"
        },
        {
         "marker": {
          "color": [
           "rgb(214,96,77)",
           "rgb(214,96,77)",
           "rgb(214,96,77)",
           "rgb(214,96,77)",
           "rgb(214,96,77)",
           "rgb(214,96,77)",
           "rgb(214,96,77)"
          ]
         },
         "type": "bar",
         "uid": "513a3e94-070b-444f-a67e-215eb5504600",
         "x": [
          1,
          2,
          3,
          4,
          5,
          6,
          7
         ],
         "xaxis": "x116",
         "y": [
          0.10413793103448275,
          0.3303448275862069,
          0.07103448275862069,
          0.20482758620689656,
          0.05931034482758621,
          0.22275862068965518,
          0.007586206896551724
         ],
         "yaxis": "y24"
        },
        {
         "line": {
          "color": "gray",
          "shape": "spline",
          "width": 3
         },
         "mode": "lines",
         "type": "scatter",
         "uid": "684d2066-928e-4c7f-99d7-ff8b7249c665",
         "x": [
          1,
          2,
          3,
          4,
          5,
          6,
          7
         ],
         "xaxis": "x116",
         "y": [
          0.07185578359124661,
          0.13864492108344612,
          0.16100379332347023,
          0.15654295710950153,
          0.12406201137295872,
          0.20754597914723844,
          0.14034455437213836
         ],
         "yaxis": "y24"
        },
        {
         "marker": {
          "color": [
           "rgb(5,48,97)",
           "rgb(5,48,97)",
           "rgb(5,48,97)",
           "rgb(5,48,97)",
           "rgb(5,48,97)",
           "rgb(5,48,97)",
           "rgb(5,48,97)"
          ]
         },
         "type": "bar",
         "uid": "0836540f-277c-49de-aba8-8fed981f138d",
         "x": [
          1,
          2,
          3,
          4,
          5,
          6,
          7
         ],
         "xaxis": "x117",
         "y": [
          0.16472545757071547,
          0.19633943427620631,
          0.1788685524126456,
          0.2529118136439268,
          0.08818635607321132,
          0.11896838602329451,
          0
         ],
         "yaxis": "y24"
        },
        {
         "line": {
          "color": "gray",
          "shape": "spline",
          "width": 3
         },
         "mode": "lines",
         "type": "scatter",
         "uid": "83429d39-f17a-46a1-bbe8-cc0f16d41c29",
         "x": [
          1,
          2,
          3,
          4,
          5,
          6,
          7
         ],
         "xaxis": "x117",
         "y": [
          0.07185578359124661,
          0.13864492108344612,
          0.16100379332347023,
          0.15654295710950153,
          0.12406201137295872,
          0.20754597914723844,
          0.14034455437213836
         ],
         "yaxis": "y24"
        },
        {
         "marker": {
          "color": [
           "rgb(33,102,172)",
           "rgb(33,102,172)",
           "rgb(33,102,172)",
           "rgb(33,102,172)",
           "rgb(33,102,172)",
           "rgb(33,102,172)",
           "rgb(33,102,172)"
          ]
         },
         "type": "bar",
         "uid": "52ae066c-0934-4c7e-86d3-2b38c98f5a88",
         "x": [
          1,
          2,
          3,
          4,
          5,
          6,
          7
         ],
         "xaxis": "x118",
         "y": [
          0.09916559691912709,
          0.2647625160462131,
          0.20507060333761232,
          0.2345956354300385,
          0.08151476251604621,
          0.11489088575096278,
          0
         ],
         "yaxis": "y24"
        },
        {
         "line": {
          "color": "gray",
          "shape": "spline",
          "width": 3
         },
         "mode": "lines",
         "type": "scatter",
         "uid": "2b1d76e4-dd4c-4b93-86fc-dcc640b2a0db",
         "x": [
          1,
          2,
          3,
          4,
          5,
          6,
          7
         ],
         "xaxis": "x118",
         "y": [
          0.07185578359124661,
          0.13864492108344612,
          0.16100379332347023,
          0.15654295710950153,
          0.12406201137295872,
          0.20754597914723844,
          0.14034455437213836
         ],
         "yaxis": "y24"
        },
        {
         "marker": {
          "color": [
           "rgb(244,165,130)",
           "rgb(244,165,130)",
           "rgb(244,165,130)",
           "rgb(244,165,130)",
           "rgb(244,165,130)",
           "rgb(244,165,130)",
           "rgb(244,165,130)"
          ]
         },
         "type": "bar",
         "uid": "e935e027-3170-4afd-8398-932750e945b6",
         "x": [
          1,
          2,
          3,
          4,
          5,
          6,
          7
         ],
         "xaxis": "x119",
         "y": [
          0.1071177335806101,
          0.20336381658885977,
          0.2722389205090491,
          0.2517106861930038,
          0.10142610475155081,
          0.049434034661380064,
          0.01470870371554646
         ],
         "yaxis": "y24"
        },
        {
         "line": {
          "color": "gray",
          "shape": "spline",
          "width": 3
         },
         "mode": "lines",
         "type": "scatter",
         "uid": "5bbed361-94b3-4fb3-a1ac-3780b911692f",
         "x": [
          1,
          2,
          3,
          4,
          5,
          6,
          7
         ],
         "xaxis": "x119",
         "y": [
          0.07185578359124661,
          0.13864492108344612,
          0.16100379332347023,
          0.15654295710950153,
          0.12406201137295872,
          0.20754597914723844,
          0.14034455437213836
         ],
         "yaxis": "y24"
        },
        {
         "marker": {
          "color": [
           "rgb(178,24,43)",
           "rgb(178,24,43)",
           "rgb(178,24,43)",
           "rgb(178,24,43)",
           "rgb(178,24,43)",
           "rgb(178,24,43)",
           "rgb(178,24,43)"
          ]
         },
         "type": "bar",
         "uid": "fae7b138-985c-47da-9c03-4d8e0af5da65",
         "x": [
          1,
          2,
          3,
          4,
          5,
          6,
          7
         ],
         "xaxis": "x120",
         "y": [
          0.041179744017807454,
          0.24485253199777407,
          0.37506956037840844,
          0.1285475792988314,
          0.08013355592654424,
          0.11797440178074568,
          0.012242626599888704
         ],
         "yaxis": "y24"
        },
        {
         "line": {
          "color": "gray",
          "shape": "spline",
          "width": 3
         },
         "mode": "lines",
         "type": "scatter",
         "uid": "1ad8776f-6dbc-4fe3-9a18-a84a23a63322",
         "x": [
          1,
          2,
          3,
          4,
          5,
          6,
          7
         ],
         "xaxis": "x120",
         "y": [
          0.07185578359124661,
          0.13864492108344612,
          0.16100379332347023,
          0.15654295710950153,
          0.12406201137295872,
          0.20754597914723844,
          0.14034455437213836
         ],
         "yaxis": "y24"
        },
        {
         "marker": {
          "color": [
           "rgb(214,96,77)",
           "rgb(214,96,77)",
           "rgb(214,96,77)",
           "rgb(214,96,77)",
           "rgb(214,96,77)",
           "rgb(214,96,77)",
           "rgb(214,96,77)"
          ]
         },
         "type": "bar",
         "uid": "dd564c5e-07e5-489f-aa35-ade69c586fab",
         "x": [
          1,
          2,
          3,
          4,
          5,
          6,
          7
         ],
         "xaxis": "x121",
         "y": [
          0.0678075038161806,
          0.2198120028922632,
          0.2462440748774805,
          0.2939664176106692,
          0.10524624407487748,
          0.037760102836024746,
          0.029163653892504218
         ],
         "yaxis": "y25"
        },
        {
         "line": {
          "color": "gray",
          "shape": "spline",
          "width": 3
         },
         "mode": "lines",
         "type": "scatter",
         "uid": "f9a2ad34-9917-4395-9c90-0595aebc78e2",
         "x": [
          1,
          2,
          3,
          4,
          5,
          6,
          7
         ],
         "xaxis": "x121",
         "y": [
          0.07185578359124661,
          0.13864492108344612,
          0.16100379332347023,
          0.15654295710950153,
          0.12406201137295872,
          0.20754597914723844,
          0.14034455437213836
         ],
         "yaxis": "y25"
        },
        {
         "marker": {
          "color": [
           "rgb(5,48,97)",
           "rgb(5,48,97)",
           "rgb(5,48,97)",
           "rgb(5,48,97)",
           "rgb(5,48,97)",
           "rgb(5,48,97)",
           "rgb(5,48,97)"
          ]
         },
         "type": "bar",
         "uid": "de36105c-bcb5-4beb-961f-1c0ed608c2ec",
         "x": [
          1,
          2,
          3,
          4,
          5,
          6,
          7
         ],
         "xaxis": "x122",
         "y": [
          0.10925230454079891,
          0.28747012632297714,
          0.1707067258449983,
          0.24581768521679753,
          0.05769887333560942,
          0.12427449641515875,
          0.004779788323659952
         ],
         "yaxis": "y25"
        },
        {
         "line": {
          "color": "gray",
          "shape": "spline",
          "width": 3
         },
         "mode": "lines",
         "type": "scatter",
         "uid": "127b74f0-c272-4f3e-91be-10d905756c60",
         "x": [
          1,
          2,
          3,
          4,
          5,
          6,
          7
         ],
         "xaxis": "x122",
         "y": [
          0.07185578359124661,
          0.13864492108344612,
          0.16100379332347023,
          0.15654295710950153,
          0.12406201137295872,
          0.20754597914723844,
          0.14034455437213836
         ],
         "yaxis": "y25"
        },
        {
         "marker": {
          "color": [
           "rgb(33,102,172)",
           "rgb(33,102,172)",
           "rgb(33,102,172)",
           "rgb(33,102,172)",
           "rgb(33,102,172)",
           "rgb(33,102,172)",
           "rgb(33,102,172)"
          ]
         },
         "type": "bar",
         "uid": "93714f34-727c-4f1c-95a3-d3faca5c216f",
         "x": [
          1,
          2,
          3,
          4,
          5,
          6,
          7
         ],
         "xaxis": "x123",
         "y": [
          0.09485589201021526,
          0.15541773075519882,
          0.2557460780736957,
          0.31594308646479385,
          0.056548704852243704,
          0.11455673112002919,
          0.006931776723823422
         ],
         "yaxis": "y25"
        },
        {
         "line": {
          "color": "gray",
          "shape": "spline",
          "width": 3
         },
         "mode": "lines",
         "type": "scatter",
         "uid": "52b80dd2-8d9a-4323-ac32-e6065748e274",
         "x": [
          1,
          2,
          3,
          4,
          5,
          6,
          7
         ],
         "xaxis": "x123",
         "y": [
          0.07185578359124661,
          0.13864492108344612,
          0.16100379332347023,
          0.15654295710950153,
          0.12406201137295872,
          0.20754597914723844,
          0.14034455437213836
         ],
         "yaxis": "y25"
        },
        {
         "marker": {
          "color": [
           "rgb(244,165,130)",
           "rgb(244,165,130)",
           "rgb(244,165,130)",
           "rgb(244,165,130)",
           "rgb(244,165,130)",
           "rgb(244,165,130)",
           "rgb(244,165,130)"
          ]
         },
         "type": "bar",
         "uid": "6a828600-a357-4326-9720-6fa95751d16d",
         "x": [
          1,
          2,
          3,
          4,
          5,
          6,
          7
         ],
         "xaxis": "x124",
         "y": [
          0.01879927228623408,
          0.1873862947240752,
          0.3007883565797453,
          0.2619769557307459,
          0.12249848392965433,
          0.0976349302607641,
          0.010915706488781079
         ],
         "yaxis": "y25"
        },
        {
         "line": {
          "color": "gray",
          "shape": "spline",
          "width": 3
         },
         "mode": "lines",
         "type": "scatter",
         "uid": "ed31ce97-ccf5-4a8a-82fb-bc6059d78e32",
         "x": [
          1,
          2,
          3,
          4,
          5,
          6,
          7
         ],
         "xaxis": "x124",
         "y": [
          0.07185578359124661,
          0.13864492108344612,
          0.16100379332347023,
          0.15654295710950153,
          0.12406201137295872,
          0.20754597914723844,
          0.14034455437213836
         ],
         "yaxis": "y25"
        },
        {
         "marker": {
          "color": [
           "rgb(178,24,43)",
           "rgb(178,24,43)",
           "rgb(178,24,43)",
           "rgb(178,24,43)",
           "rgb(178,24,43)",
           "rgb(178,24,43)",
           "rgb(178,24,43)"
          ]
         },
         "type": "bar",
         "uid": "ecd5d45f-3739-460c-8898-6e43d2cc31dd",
         "x": [
          1,
          2,
          3,
          4,
          5,
          6,
          7
         ],
         "xaxis": "x125",
         "y": [
          0.056591122435295696,
          0.20946761432211344,
          0.27799383129945016,
          0.2946225023467883,
          0.08086361807697466,
          0.042376290733538956,
          0.03808502078583881
         ],
         "yaxis": "y25"
        },
        {
         "line": {
          "color": "gray",
          "shape": "spline",
          "width": 3
         },
         "mode": "lines",
         "type": "scatter",
         "uid": "2b02f10f-a188-457c-baa9-fae30eafce4c",
         "x": [
          1,
          2,
          3,
          4,
          5,
          6,
          7
         ],
         "xaxis": "x125",
         "y": [
          0.07185578359124661,
          0.13864492108344612,
          0.16100379332347023,
          0.15654295710950153,
          0.12406201137295872,
          0.20754597914723844,
          0.14034455437213836
         ],
         "yaxis": "y25"
        },
        {
         "marker": {
          "color": [
           "rgb(214,96,77)",
           "rgb(214,96,77)",
           "rgb(214,96,77)",
           "rgb(214,96,77)",
           "rgb(214,96,77)",
           "rgb(214,96,77)",
           "rgb(214,96,77)"
          ]
         },
         "type": "bar",
         "uid": "0e40c69e-fbfc-45b6-b7b5-f6bf01d1d46f",
         "x": [
          1,
          2,
          3,
          4,
          5,
          6,
          7
         ],
         "xaxis": "x126",
         "y": [
          0.08508541392904073,
          0.17936925098554535,
          0.26773981603153746,
          0.2828515111695138,
          0.08278580814717477,
          0.09789750328515112,
          0.0042706964520367935
         ],
         "yaxis": "y26"
        },
        {
         "line": {
          "color": "gray",
          "shape": "spline",
          "width": 3
         },
         "mode": "lines",
         "type": "scatter",
         "uid": "76a50a77-be52-4a08-a86f-9df9e0a800f2",
         "x": [
          1,
          2,
          3,
          4,
          5,
          6,
          7
         ],
         "xaxis": "x126",
         "y": [
          0.07185578359124661,
          0.13864492108344612,
          0.16100379332347023,
          0.15654295710950153,
          0.12406201137295872,
          0.20754597914723844,
          0.14034455437213836
         ],
         "yaxis": "y26"
        },
        {
         "marker": {
          "color": [
           "rgb(5,48,97)",
           "rgb(5,48,97)",
           "rgb(5,48,97)",
           "rgb(5,48,97)",
           "rgb(5,48,97)",
           "rgb(5,48,97)",
           "rgb(5,48,97)"
          ]
         },
         "type": "bar",
         "uid": "fa2de753-a745-4fab-8ed2-01fe970c81af",
         "x": [
          1,
          2,
          3,
          4,
          5,
          6,
          7
         ],
         "xaxis": "x127",
         "y": [
          0.05065666041275797,
          0.11632270168855535,
          0.1303939962476548,
          0.22045028142589118,
          0.08911819887429644,
          0.39305816135084426,
          0
         ],
         "yaxis": "y26"
        },
        {
         "line": {
          "color": "gray",
          "shape": "spline",
          "width": 3
         },
         "mode": "lines",
         "type": "scatter",
         "uid": "6891f668-dc9f-4424-aa9e-a7ecbe7f1665",
         "x": [
          1,
          2,
          3,
          4,
          5,
          6,
          7
         ],
         "xaxis": "x127",
         "y": [
          0.07185578359124661,
          0.13864492108344612,
          0.16100379332347023,
          0.15654295710950153,
          0.12406201137295872,
          0.20754597914723844,
          0.14034455437213836
         ],
         "yaxis": "y26"
        },
        {
         "marker": {
          "color": [
           "rgb(33,102,172)",
           "rgb(33,102,172)",
           "rgb(33,102,172)",
           "rgb(33,102,172)",
           "rgb(33,102,172)",
           "rgb(33,102,172)",
           "rgb(33,102,172)"
          ]
         },
         "type": "bar",
         "uid": "3d0fccf0-ed4c-444e-8adf-1561613e5fcb",
         "x": [
          1,
          2,
          3,
          4,
          5,
          6,
          7
         ],
         "xaxis": "x128",
         "y": [
          0.05442176870748299,
          0.2199546485260771,
          0.2600151171579743,
          0.17611489040060468,
          0.17687074829931973,
          0.1126228269085412,
          0
         ],
         "yaxis": "y26"
        },
        {
         "line": {
          "color": "gray",
          "shape": "spline",
          "width": 3
         },
         "mode": "lines",
         "type": "scatter",
         "uid": "df25cdab-d7d4-471c-a37e-50ac30f2010e",
         "x": [
          1,
          2,
          3,
          4,
          5,
          6,
          7
         ],
         "xaxis": "x128",
         "y": [
          0.07185578359124661,
          0.13864492108344612,
          0.16100379332347023,
          0.15654295710950153,
          0.12406201137295872,
          0.20754597914723844,
          0.14034455437213836
         ],
         "yaxis": "y26"
        },
        {
         "marker": {
          "color": [
           "rgb(244,165,130)",
           "rgb(244,165,130)",
           "rgb(244,165,130)",
           "rgb(244,165,130)",
           "rgb(244,165,130)",
           "rgb(244,165,130)",
           "rgb(244,165,130)"
          ]
         },
         "type": "bar",
         "uid": "3dd273cd-a2cd-44c3-8d2e-edc26a96caad",
         "x": [
          1,
          2,
          3,
          4,
          5,
          6,
          7
         ],
         "xaxis": "x129",
         "y": [
          0.023423423423423424,
          0.03873873873873874,
          0.07207207207207207,
          0.0981981981981982,
          0.06396396396396396,
          0.3918918918918919,
          0.3117117117117117
         ],
         "yaxis": "y26"
        },
        {
         "line": {
          "color": "gray",
          "shape": "spline",
          "width": 3
         },
         "mode": "lines",
         "type": "scatter",
         "uid": "c170be8e-2bd5-4045-8865-38826a7232b1",
         "x": [
          1,
          2,
          3,
          4,
          5,
          6,
          7
         ],
         "xaxis": "x129",
         "y": [
          0.07185578359124661,
          0.13864492108344612,
          0.16100379332347023,
          0.15654295710950153,
          0.12406201137295872,
          0.20754597914723844,
          0.14034455437213836
         ],
         "yaxis": "y26"
        },
        {
         "marker": {
          "color": [
           "rgb(178,24,43)",
           "rgb(178,24,43)",
           "rgb(178,24,43)",
           "rgb(178,24,43)",
           "rgb(178,24,43)",
           "rgb(178,24,43)",
           "rgb(178,24,43)"
          ]
         },
         "type": "bar",
         "uid": "c548772c-a107-4c64-9ec4-3eeed1aaf784",
         "x": [
          1,
          2,
          3,
          4,
          5,
          6,
          7
         ],
         "xaxis": "x130",
         "y": [
          0.05239742956005932,
          0.11220958971824024,
          0.2184873949579832,
          0.28126544735541276,
          0.24715768660405338,
          0.07414730598121602,
          0.014335145823035097
         ],
         "yaxis": "y26"
        },
        {
         "line": {
          "color": "gray",
          "shape": "spline",
          "width": 3
         },
         "mode": "lines",
         "type": "scatter",
         "uid": "6cb31cdf-e17f-4e0c-a7b1-1b233272770f",
         "x": [
          1,
          2,
          3,
          4,
          5,
          6,
          7
         ],
         "xaxis": "x130",
         "y": [
          0.07185578359124661,
          0.13864492108344612,
          0.16100379332347023,
          0.15654295710950153,
          0.12406201137295872,
          0.20754597914723844,
          0.14034455437213836
         ],
         "yaxis": "y26"
        },
        {
         "marker": {
          "color": [
           "rgb(214,96,77)",
           "rgb(214,96,77)",
           "rgb(214,96,77)",
           "rgb(214,96,77)",
           "rgb(214,96,77)",
           "rgb(214,96,77)",
           "rgb(214,96,77)"
          ]
         },
         "type": "bar",
         "uid": "148e56de-6f54-408a-8341-6e74aef634a9",
         "x": [
          1,
          2,
          3,
          4,
          5,
          6,
          7
         ],
         "xaxis": "x131",
         "y": [
          0.06733393994540492,
          0.2484076433121019,
          0.353958143767061,
          0.15286624203821655,
          0.08826205641492266,
          0.0545950864422202,
          0.034576888080072796
         ],
         "yaxis": "y27"
        },
        {
         "line": {
          "color": "gray",
          "shape": "spline",
          "width": 3
         },
         "mode": "lines",
         "type": "scatter",
         "uid": "d9d05563-c17e-4bfd-960d-7e219740e9fd",
         "x": [
          1,
          2,
          3,
          4,
          5,
          6,
          7
         ],
         "xaxis": "x131",
         "y": [
          0.07185578359124661,
          0.13864492108344612,
          0.16100379332347023,
          0.15654295710950153,
          0.12406201137295872,
          0.20754597914723844,
          0.14034455437213836
         ],
         "yaxis": "y27"
        },
        {
         "marker": {
          "color": [
           "rgb(5,48,97)",
           "rgb(5,48,97)",
           "rgb(5,48,97)",
           "rgb(5,48,97)",
           "rgb(5,48,97)",
           "rgb(5,48,97)",
           "rgb(5,48,97)"
          ]
         },
         "type": "bar",
         "uid": "88eefba5-08bc-4545-9eb4-4ca1c50cdbf1",
         "x": [
          1,
          2,
          3,
          4,
          5,
          6,
          7
         ],
         "xaxis": "x132",
         "y": [
          0.06658184902459711,
          0.26632739609838846,
          0.272264631043257,
          0.21162001696352842,
          0.10093299406276506,
          0.06870229007633588,
          0.013570822731128074
         ],
         "yaxis": "y27"
        },
        {
         "line": {
          "color": "gray",
          "shape": "spline",
          "width": 3
         },
         "mode": "lines",
         "type": "scatter",
         "uid": "e91d3cde-b75a-4181-a0b2-736000b8643b",
         "x": [
          1,
          2,
          3,
          4,
          5,
          6,
          7
         ],
         "xaxis": "x132",
         "y": [
          0.07185578359124661,
          0.13864492108344612,
          0.16100379332347023,
          0.15654295710950153,
          0.12406201137295872,
          0.20754597914723844,
          0.14034455437213836
         ],
         "yaxis": "y27"
        },
        {
         "marker": {
          "color": [
           "rgb(33,102,172)",
           "rgb(33,102,172)",
           "rgb(33,102,172)",
           "rgb(33,102,172)",
           "rgb(33,102,172)",
           "rgb(33,102,172)",
           "rgb(33,102,172)"
          ]
         },
         "type": "bar",
         "uid": "55aee6ef-3eb4-4059-9f84-fbb6b9759e24",
         "x": [
          1,
          2,
          3,
          4,
          5,
          6,
          7
         ],
         "xaxis": "x133",
         "y": [
          0.011383039271485486,
          0.056346044393853156,
          0.055776892430278883,
          0.08195788275469551,
          0.12293682413204325,
          0.33636881047239614,
          0.3352305065452476
         ],
         "yaxis": "y27"
        },
        {
         "line": {
          "color": "gray",
          "shape": "spline",
          "width": 3
         },
         "mode": "lines",
         "type": "scatter",
         "uid": "7c4e9223-ca65-4060-9ee5-d4bc891e2673",
         "x": [
          1,
          2,
          3,
          4,
          5,
          6,
          7
         ],
         "xaxis": "x133",
         "y": [
          0.07185578359124661,
          0.13864492108344612,
          0.16100379332347023,
          0.15654295710950153,
          0.12406201137295872,
          0.20754597914723844,
          0.14034455437213836
         ],
         "yaxis": "y27"
        },
        {
         "marker": {
          "color": [
           "rgb(244,165,130)",
           "rgb(244,165,130)",
           "rgb(244,165,130)",
           "rgb(244,165,130)",
           "rgb(244,165,130)",
           "rgb(244,165,130)",
           "rgb(244,165,130)"
          ]
         },
         "type": "bar",
         "uid": "d4a22dbd-847f-4eea-a2f1-b087e7ea0a56",
         "x": [
          1,
          2,
          3,
          4,
          5,
          6,
          7
         ],
         "xaxis": "x134",
         "y": [
          0.11027332704995288,
          0.3411875589066918,
          0.2469368520263902,
          0.11592836946277098,
          0.07163053722902922,
          0.09048067860508954,
          0.0235626767200754
         ],
         "yaxis": "y27"
        },
        {
         "line": {
          "color": "gray",
          "shape": "spline",
          "width": 3
         },
         "mode": "lines",
         "type": "scatter",
         "uid": "054195bc-5ea0-4486-ab64-154e39399d45",
         "x": [
          1,
          2,
          3,
          4,
          5,
          6,
          7
         ],
         "xaxis": "x134",
         "y": [
          0.07185578359124661,
          0.13864492108344612,
          0.16100379332347023,
          0.15654295710950153,
          0.12406201137295872,
          0.20754597914723844,
          0.14034455437213836
         ],
         "yaxis": "y27"
        },
        {
         "marker": {
          "color": [
           "rgb(178,24,43)",
           "rgb(178,24,43)",
           "rgb(178,24,43)",
           "rgb(178,24,43)",
           "rgb(178,24,43)",
           "rgb(178,24,43)",
           "rgb(178,24,43)"
          ]
         },
         "type": "bar",
         "uid": "be32a80e-2ac3-4b11-811e-e7e26e573db6",
         "x": [
          1,
          2,
          3,
          4,
          5,
          6,
          7
         ],
         "xaxis": "x135",
         "y": [
          0.06518518518518518,
          0.2123456790123457,
          0.1817283950617284,
          0.26271604938271603,
          0.04839506172839506,
          0.22962962962962963,
          0
         ],
         "yaxis": "y27"
        },
        {
         "line": {
          "color": "gray",
          "shape": "spline",
          "width": 3
         },
         "mode": "lines",
         "type": "scatter",
         "uid": "4d88be59-439b-4c42-aa18-7b40383852f4",
         "x": [
          1,
          2,
          3,
          4,
          5,
          6,
          7
         ],
         "xaxis": "x135",
         "y": [
          0.07185578359124661,
          0.13864492108344612,
          0.16100379332347023,
          0.15654295710950153,
          0.12406201137295872,
          0.20754597914723844,
          0.14034455437213836
         ],
         "yaxis": "y27"
        },
        {
         "marker": {
          "color": [
           "rgb(214,96,77)",
           "rgb(214,96,77)",
           "rgb(214,96,77)",
           "rgb(214,96,77)",
           "rgb(214,96,77)",
           "rgb(214,96,77)",
           "rgb(214,96,77)"
          ]
         },
         "type": "bar",
         "uid": "e33bf2c1-d2f0-4c04-85ce-de614b9864d4",
         "x": [
          1,
          2,
          3,
          4,
          5,
          6,
          7
         ],
         "xaxis": "x136",
         "y": [
          0.024368231046931407,
          0.12454873646209386,
          0.2536101083032491,
          0.2870036101083033,
          0.19855595667870035,
          0.10198555956678701,
          0.009927797833935019
         ],
         "yaxis": "y28"
        },
        {
         "line": {
          "color": "gray",
          "shape": "spline",
          "width": 3
         },
         "mode": "lines",
         "type": "scatter",
         "uid": "14aaa8a7-6cb0-4290-a08c-c51bb1df9688",
         "x": [
          1,
          2,
          3,
          4,
          5,
          6,
          7
         ],
         "xaxis": "x136",
         "y": [
          0.07185578359124661,
          0.13864492108344612,
          0.16100379332347023,
          0.15654295710950153,
          0.12406201137295872,
          0.20754597914723844,
          0.14034455437213836
         ],
         "yaxis": "y28"
        },
        {
         "marker": {
          "color": [
           "rgb(5,48,97)",
           "rgb(5,48,97)",
           "rgb(5,48,97)",
           "rgb(5,48,97)",
           "rgb(5,48,97)",
           "rgb(5,48,97)",
           "rgb(5,48,97)"
          ]
         },
         "type": "bar",
         "uid": "365ea672-1ad9-411f-8123-5fcec10473a6",
         "x": [
          1,
          2,
          3,
          4,
          5,
          6,
          7
         ],
         "xaxis": "x137",
         "y": [
          0.10221316249271986,
          0.2623762376237624,
          0.1916132789749563,
          0.16919044845661035,
          0.05096097845078625,
          0.22364589400116483,
          0
         ],
         "yaxis": "y28"
        },
        {
         "line": {
          "color": "gray",
          "shape": "spline",
          "width": 3
         },
         "mode": "lines",
         "type": "scatter",
         "uid": "e03ccbde-ea1c-4d19-ac0e-0d9d477c7fb7",
         "x": [
          1,
          2,
          3,
          4,
          5,
          6,
          7
         ],
         "xaxis": "x137",
         "y": [
          0.07185578359124661,
          0.13864492108344612,
          0.16100379332347023,
          0.15654295710950153,
          0.12406201137295872,
          0.20754597914723844,
          0.14034455437213836
         ],
         "yaxis": "y28"
        },
        {
         "marker": {
          "color": [
           "rgb(33,102,172)",
           "rgb(33,102,172)",
           "rgb(33,102,172)",
           "rgb(33,102,172)",
           "rgb(33,102,172)",
           "rgb(33,102,172)",
           "rgb(33,102,172)"
          ]
         },
         "type": "bar",
         "uid": "a8f7b4dd-8e0d-44fd-97cf-38dd235c8226",
         "x": [
          1,
          2,
          3,
          4,
          5,
          6,
          7
         ],
         "xaxis": "x138",
         "y": [
          0.1100729261622607,
          0.20738377392889698,
          0.23701002734731086,
          0.25546946216955335,
          0.07839562443026436,
          0.1089334548769371,
          0.0027347310847766638
         ],
         "yaxis": "y28"
        },
        {
         "line": {
          "color": "gray",
          "shape": "spline",
          "width": 3
         },
         "mode": "lines",
         "type": "scatter",
         "uid": "d99f0198-f51d-4444-9a6e-bb16bf76fd9c",
         "x": [
          1,
          2,
          3,
          4,
          5,
          6,
          7
         ],
         "xaxis": "x138",
         "y": [
          0.07185578359124661,
          0.13864492108344612,
          0.16100379332347023,
          0.15654295710950153,
          0.12406201137295872,
          0.20754597914723844,
          0.14034455437213836
         ],
         "yaxis": "y28"
        },
        {
         "marker": {
          "color": [
           "rgb(244,165,130)",
           "rgb(244,165,130)",
           "rgb(244,165,130)",
           "rgb(244,165,130)",
           "rgb(244,165,130)",
           "rgb(244,165,130)",
           "rgb(244,165,130)"
          ]
         },
         "type": "bar",
         "uid": "dc1a53f5-9722-4fdd-b34b-21317a225174",
         "x": [
          1,
          2,
          3,
          4,
          5,
          6,
          7
         ],
         "xaxis": "x139",
         "y": [
          0.10789473684210527,
          0.2414651493598862,
          0.25170697012802273,
          0.21877667140825036,
          0.08541963015647226,
          0.08691322901849217,
          0.007823613086770981
         ],
         "yaxis": "y28"
        },
        {
         "line": {
          "color": "gray",
          "shape": "spline",
          "width": 3
         },
         "mode": "lines",
         "type": "scatter",
         "uid": "c7fd8a21-93ca-4d69-99d6-a02cc35f7715",
         "x": [
          1,
          2,
          3,
          4,
          5,
          6,
          7
         ],
         "xaxis": "x139",
         "y": [
          0.07185578359124661,
          0.13864492108344612,
          0.16100379332347023,
          0.15654295710950153,
          0.12406201137295872,
          0.20754597914723844,
          0.14034455437213836
         ],
         "yaxis": "y28"
        },
        {
         "marker": {
          "color": [
           "rgb(178,24,43)",
           "rgb(178,24,43)",
           "rgb(178,24,43)",
           "rgb(178,24,43)",
           "rgb(178,24,43)",
           "rgb(178,24,43)",
           "rgb(178,24,43)"
          ]
         },
         "type": "bar",
         "uid": "5a3108c1-4785-4216-bbc7-374fe7d2b5b2",
         "x": [
          1,
          2,
          3,
          4,
          5,
          6,
          7
         ],
         "xaxis": "x140",
         "y": [
          0.07138150669887985,
          0.19569514605754448,
          0.3239622227103009,
          0.2347902481880079,
          0.0678673402152427,
          0.0931254118163848,
          0.013178124313639359
         ],
         "yaxis": "y28"
        },
        {
         "line": {
          "color": "gray",
          "shape": "spline",
          "width": 3
         },
         "mode": "lines",
         "type": "scatter",
         "uid": "93a4eb7c-4bfa-4a32-96a9-bed90e4db460",
         "x": [
          1,
          2,
          3,
          4,
          5,
          6,
          7
         ],
         "xaxis": "x140",
         "y": [
          0.07185578359124661,
          0.13864492108344612,
          0.16100379332347023,
          0.15654295710950153,
          0.12406201137295872,
          0.20754597914723844,
          0.14034455437213836
         ],
         "yaxis": "y28"
        },
        {
         "marker": {
          "color": [
           "rgb(214,96,77)",
           "rgb(214,96,77)",
           "rgb(214,96,77)",
           "rgb(214,96,77)",
           "rgb(214,96,77)",
           "rgb(214,96,77)",
           "rgb(214,96,77)"
          ]
         },
         "type": "bar",
         "uid": "0a841bc6-68e7-48e3-b50f-8207693b38ed",
         "x": [
          1,
          2,
          3,
          4,
          5,
          6,
          7
         ],
         "xaxis": "x141",
         "y": [
          0.09615384615384616,
          0.2573131094257855,
          0.24864572047670638,
          0.24079089924160346,
          0.07340195016251354,
          0.04658721560130011,
          0.037107258938244854
         ],
         "yaxis": "y29"
        },
        {
         "line": {
          "color": "gray",
          "shape": "spline",
          "width": 3
         },
         "mode": "lines",
         "type": "scatter",
         "uid": "10e48d0a-6725-4f81-887b-0606acc2b223",
         "x": [
          1,
          2,
          3,
          4,
          5,
          6,
          7
         ],
         "xaxis": "x141",
         "y": [
          0.07185578359124661,
          0.13864492108344612,
          0.16100379332347023,
          0.15654295710950153,
          0.12406201137295872,
          0.20754597914723844,
          0.14034455437213836
         ],
         "yaxis": "y29"
        },
        {
         "marker": {
          "color": [
           "rgb(5,48,97)",
           "rgb(5,48,97)",
           "rgb(5,48,97)",
           "rgb(5,48,97)",
           "rgb(5,48,97)",
           "rgb(5,48,97)",
           "rgb(5,48,97)"
          ]
         },
         "type": "bar",
         "uid": "ae99ec8e-93ab-4b73-b9e4-93a7eb37d6d4",
         "x": [
          1,
          2,
          3,
          4,
          5,
          6,
          7
         ],
         "xaxis": "x142",
         "y": [
          0.014018691588785047,
          0.05081775700934579,
          0.07359813084112149,
          0.05782710280373832,
          0.2821261682242991,
          0.3142523364485981,
          0.20735981308411214
         ],
         "yaxis": "y29"
        },
        {
         "line": {
          "color": "gray",
          "shape": "spline",
          "width": 3
         },
         "mode": "lines",
         "type": "scatter",
         "uid": "5d67309c-f908-4c6d-b1d9-7cc33458a4b9",
         "x": [
          1,
          2,
          3,
          4,
          5,
          6,
          7
         ],
         "xaxis": "x142",
         "y": [
          0.07185578359124661,
          0.13864492108344612,
          0.16100379332347023,
          0.15654295710950153,
          0.12406201137295872,
          0.20754597914723844,
          0.14034455437213836
         ],
         "yaxis": "y29"
        },
        {
         "marker": {
          "color": [
           "rgb(33,102,172)",
           "rgb(33,102,172)",
           "rgb(33,102,172)",
           "rgb(33,102,172)",
           "rgb(33,102,172)",
           "rgb(33,102,172)",
           "rgb(33,102,172)"
          ]
         },
         "type": "bar",
         "uid": "bf1b2c80-378e-4a8c-a298-0e625acfcda4",
         "x": [
          1,
          2,
          3,
          4,
          5,
          6,
          7
         ],
         "xaxis": "x143",
         "y": [
          0.027828467153284672,
          0.04333941605839416,
          0.07892335766423357,
          0.055656934306569344,
          0.11085766423357664,
          0.3918795620437956,
          0.291514598540146
         ],
         "yaxis": "y29"
        },
        {
         "line": {
          "color": "gray",
          "shape": "spline",
          "width": 3
         },
         "mode": "lines",
         "type": "scatter",
         "uid": "313af90f-03bb-46fa-8dd1-f55c3feec898",
         "x": [
          1,
          2,
          3,
          4,
          5,
          6,
          7
         ],
         "xaxis": "x143",
         "y": [
          0.07185578359124661,
          0.13864492108344612,
          0.16100379332347023,
          0.15654295710950153,
          0.12406201137295872,
          0.20754597914723844,
          0.14034455437213836
         ],
         "yaxis": "y29"
        },
        {
         "marker": {
          "color": [
           "rgb(244,165,130)",
           "rgb(244,165,130)",
           "rgb(244,165,130)",
           "rgb(244,165,130)",
           "rgb(244,165,130)",
           "rgb(244,165,130)",
           "rgb(244,165,130)"
          ]
         },
         "type": "bar",
         "uid": "5c0a171a-5052-439d-9137-aef76ff0e709",
         "x": [
          1,
          2,
          3,
          4,
          5,
          6,
          7
         ],
         "xaxis": "x144",
         "y": [
          0.05701943844492441,
          0.1913606911447084,
          0.35550755939524836,
          0.16025917926565875,
          0.1490280777537797,
          0.06479481641468683,
          0.022030237580993522
         ],
         "yaxis": "y29"
        },
        {
         "line": {
          "color": "gray",
          "shape": "spline",
          "width": 3
         },
         "mode": "lines",
         "type": "scatter",
         "uid": "c3850f05-797d-4e3e-9105-91f9a7cbc0da",
         "x": [
          1,
          2,
          3,
          4,
          5,
          6,
          7
         ],
         "xaxis": "x144",
         "y": [
          0.07185578359124661,
          0.13864492108344612,
          0.16100379332347023,
          0.15654295710950153,
          0.12406201137295872,
          0.20754597914723844,
          0.14034455437213836
         ],
         "yaxis": "y29"
        },
        {
         "marker": {
          "color": [
           "rgb(178,24,43)",
           "rgb(178,24,43)",
           "rgb(178,24,43)",
           "rgb(178,24,43)",
           "rgb(178,24,43)",
           "rgb(178,24,43)",
           "rgb(178,24,43)"
          ]
         },
         "type": "bar",
         "uid": "cbdedac4-0146-4a36-83e8-fef01ac9bf36",
         "x": [
          1,
          2,
          3,
          4,
          5,
          6,
          7
         ],
         "xaxis": "x145",
         "y": [
          0.053496712492528395,
          0.21010161386730425,
          0.24686192468619247,
          0.3111177525403467,
          0.08756724447101016,
          0.06664674237895996,
          0.0242080095636581
         ],
         "yaxis": "y29"
        },
        {
         "line": {
          "color": "gray",
          "shape": "spline",
          "width": 3
         },
         "mode": "lines",
         "type": "scatter",
         "uid": "16c74d29-144c-483f-978f-a456ebccebde",
         "x": [
          1,
          2,
          3,
          4,
          5,
          6,
          7
         ],
         "xaxis": "x145",
         "y": [
          0.07185578359124661,
          0.13864492108344612,
          0.16100379332347023,
          0.15654295710950153,
          0.12406201137295872,
          0.20754597914723844,
          0.14034455437213836
         ],
         "yaxis": "y29"
        },
        {
         "marker": {
          "color": [
           "rgb(214,96,77)",
           "rgb(214,96,77)",
           "rgb(214,96,77)",
           "rgb(214,96,77)",
           "rgb(214,96,77)",
           "rgb(214,96,77)",
           "rgb(214,96,77)"
          ]
         },
         "type": "bar",
         "uid": "7713d87a-f24c-4965-a859-f37974d2dcc3",
         "x": [
          1,
          2,
          3,
          4,
          5,
          6,
          7
         ],
         "xaxis": "x146",
         "y": [
          0.04602510460251046,
          0.0694560669456067,
          0.04100418410041841,
          0.049372384937238493,
          0.14225941422594143,
          0.3941422594142259,
          0.25774058577405856
         ],
         "yaxis": "y30"
        },
        {
         "line": {
          "color": "gray",
          "shape": "spline",
          "width": 3
         },
         "mode": "lines",
         "type": "scatter",
         "uid": "b03b98aa-3c27-43b7-9424-b6757c72f9a7",
         "x": [
          1,
          2,
          3,
          4,
          5,
          6,
          7
         ],
         "xaxis": "x146",
         "y": [
          0.07185578359124661,
          0.13864492108344612,
          0.16100379332347023,
          0.15654295710950153,
          0.12406201137295872,
          0.20754597914723844,
          0.14034455437213836
         ],
         "yaxis": "y30"
        },
        {
         "marker": {
          "color": [
           "rgb(5,48,97)",
           "rgb(5,48,97)",
           "rgb(5,48,97)",
           "rgb(5,48,97)",
           "rgb(5,48,97)",
           "rgb(5,48,97)",
           "rgb(5,48,97)"
          ]
         },
         "type": "bar",
         "uid": "e8322e72-f03d-4552-84ce-03800134f263",
         "x": [
          1,
          2,
          3,
          4,
          5,
          6,
          7
         ],
         "xaxis": "x147",
         "y": [
          0.10889021479713604,
          0.264618138424821,
          0.2168854415274463,
          0.17810262529832935,
          0.07189737470167064,
          0.1581145584725537,
          0.0014916467780429594
         ],
         "yaxis": "y30"
        },
        {
         "line": {
          "color": "gray",
          "shape": "spline",
          "width": 3
         },
         "mode": "lines",
         "type": "scatter",
         "uid": "d1337034-035b-4465-b298-c14c63ba2abc",
         "x": [
          1,
          2,
          3,
          4,
          5,
          6,
          7
         ],
         "xaxis": "x147",
         "y": [
          0.07185578359124661,
          0.13864492108344612,
          0.16100379332347023,
          0.15654295710950153,
          0.12406201137295872,
          0.20754597914723844,
          0.14034455437213836
         ],
         "yaxis": "y30"
        },
        {
         "marker": {
          "color": [
           "rgb(33,102,172)",
           "rgb(33,102,172)",
           "rgb(33,102,172)",
           "rgb(33,102,172)",
           "rgb(33,102,172)",
           "rgb(33,102,172)",
           "rgb(33,102,172)"
          ]
         },
         "type": "bar",
         "uid": "1838b8ab-8e58-4bae-a96b-1c98fdc9e0cf",
         "x": [
          1,
          2,
          3,
          4,
          5,
          6,
          7
         ],
         "xaxis": "x148",
         "y": [
          0.03012176885280923,
          0.2454603717154454,
          0.2576372569963683,
          0.2337107455671865,
          0.1228370006408887,
          0.09955137791070284,
          0.010681478316599017
         ],
         "yaxis": "y30"
        },
        {
         "line": {
          "color": "gray",
          "shape": "spline",
          "width": 3
         },
         "mode": "lines",
         "type": "scatter",
         "uid": "1595392b-bb75-4259-b799-54bf761f57ed",
         "x": [
          1,
          2,
          3,
          4,
          5,
          6,
          7
         ],
         "xaxis": "x148",
         "y": [
          0.07185578359124661,
          0.13864492108344612,
          0.16100379332347023,
          0.15654295710950153,
          0.12406201137295872,
          0.20754597914723844,
          0.14034455437213836
         ],
         "yaxis": "y30"
        },
        {
         "marker": {
          "color": [
           "rgb(244,165,130)",
           "rgb(244,165,130)",
           "rgb(244,165,130)",
           "rgb(244,165,130)",
           "rgb(244,165,130)",
           "rgb(244,165,130)",
           "rgb(244,165,130)"
          ]
         },
         "type": "bar",
         "uid": "10c9b5fb-e975-42f7-8512-5a6fb1bfc451",
         "x": [
          1,
          2,
          3,
          4,
          5,
          6,
          7
         ],
         "xaxis": "x149",
         "y": [
          0.10227272727272728,
          0.2618801652892562,
          0.18853305785123967,
          0.19266528925619836,
          0.08135330578512397,
          0.17329545454545456,
          0
         ],
         "yaxis": "y30"
        },
        {
         "line": {
          "color": "gray",
          "shape": "spline",
          "width": 3
         },
         "mode": "lines",
         "type": "scatter",
         "uid": "6df5e6e8-8038-4664-bb50-f9a1afad314c",
         "x": [
          1,
          2,
          3,
          4,
          5,
          6,
          7
         ],
         "xaxis": "x149",
         "y": [
          0.07185578359124661,
          0.13864492108344612,
          0.16100379332347023,
          0.15654295710950153,
          0.12406201137295872,
          0.20754597914723844,
          0.14034455437213836
         ],
         "yaxis": "y30"
        },
        {
         "marker": {
          "color": [
           "rgb(178,24,43)",
           "rgb(178,24,43)",
           "rgb(178,24,43)",
           "rgb(178,24,43)",
           "rgb(178,24,43)",
           "rgb(178,24,43)",
           "rgb(178,24,43)"
          ]
         },
         "type": "bar",
         "uid": "3a9951da-1faf-45a8-9c46-eabac5a90159",
         "x": [
          1,
          2,
          3,
          4,
          5,
          6,
          7
         ],
         "xaxis": "x150",
         "y": [
          0.061388352474845004,
          0.23040959447098283,
          0.26333977030185995,
          0.2656774062404716,
          0.09624961886370566,
          0.05203780872039841,
          0.03089744892773656
         ],
         "yaxis": "y30"
        },
        {
         "line": {
          "color": "gray",
          "shape": "spline",
          "width": 3
         },
         "mode": "lines",
         "type": "scatter",
         "uid": "b08fa5eb-c945-43ac-9f36-e0d81290e15f",
         "x": [
          1,
          2,
          3,
          4,
          5,
          6,
          7
         ],
         "xaxis": "x150",
         "y": [
          0.07185578359124661,
          0.13864492108344612,
          0.16100379332347023,
          0.15654295710950153,
          0.12406201137295872,
          0.20754597914723844,
          0.14034455437213836
         ],
         "yaxis": "y30"
        },
        {
         "marker": {
          "color": [
           "rgb(214,96,77)",
           "rgb(214,96,77)",
           "rgb(214,96,77)",
           "rgb(214,96,77)",
           "rgb(214,96,77)",
           "rgb(214,96,77)",
           "rgb(214,96,77)"
          ]
         },
         "type": "bar",
         "uid": "e5c5c285-e9d5-4939-b67f-7fc1b59dad11",
         "x": [
          1,
          2,
          3,
          4,
          5,
          6,
          7
         ],
         "xaxis": "x151",
         "y": [
          0.025193370165745858,
          0.25524861878453037,
          0.2771270718232044,
          0.25370165745856355,
          0.07580110497237569,
          0.052817679558011046,
          0.06011049723756906
         ],
         "yaxis": "y31"
        },
        {
         "line": {
          "color": "gray",
          "shape": "spline",
          "width": 3
         },
         "mode": "lines",
         "type": "scatter",
         "uid": "b2e57f81-a674-4050-8a6c-f9d787c02026",
         "x": [
          1,
          2,
          3,
          4,
          5,
          6,
          7
         ],
         "xaxis": "x151",
         "y": [
          0.07185578359124661,
          0.13864492108344612,
          0.16100379332347023,
          0.15654295710950153,
          0.12406201137295872,
          0.20754597914723844,
          0.14034455437213836
         ],
         "yaxis": "y31"
        },
        {
         "marker": {
          "color": [
           "rgb(5,48,97)",
           "rgb(5,48,97)",
           "rgb(5,48,97)",
           "rgb(5,48,97)",
           "rgb(5,48,97)",
           "rgb(5,48,97)",
           "rgb(5,48,97)"
          ]
         },
         "type": "bar",
         "uid": "cade2334-d524-4433-93a1-bc3baea11339",
         "x": [
          1,
          2,
          3,
          4,
          5,
          6,
          7
         ],
         "xaxis": "x152",
         "y": [
          0.08539270858820651,
          0.23684854416442377,
          0.23366772693907512,
          0.2666992904330805,
          0.0771959872767311,
          0.08698311720088084,
          0.013212625397602153
         ],
         "yaxis": "y31"
        },
        {
         "line": {
          "color": "gray",
          "shape": "spline",
          "width": 3
         },
         "mode": "lines",
         "type": "scatter",
         "uid": "2739405e-61bb-4398-898a-36aaef456511",
         "x": [
          1,
          2,
          3,
          4,
          5,
          6,
          7
         ],
         "xaxis": "x152",
         "y": [
          0.07185578359124661,
          0.13864492108344612,
          0.16100379332347023,
          0.15654295710950153,
          0.12406201137295872,
          0.20754597914723844,
          0.14034455437213836
         ],
         "yaxis": "y31"
        },
        {
         "marker": {
          "color": [
           "rgb(33,102,172)",
           "rgb(33,102,172)",
           "rgb(33,102,172)",
           "rgb(33,102,172)",
           "rgb(33,102,172)",
           "rgb(33,102,172)",
           "rgb(33,102,172)"
          ]
         },
         "type": "bar",
         "uid": "bbea98a2-a3fe-4201-8a51-37cc7f22c91b",
         "x": [
          1,
          2,
          3,
          4,
          5,
          6,
          7
         ],
         "xaxis": "x153",
         "y": [
          0.056338028169014086,
          0.23943661971830985,
          0.2755868544600939,
          0.22605633802816902,
          0.12018779342723004,
          0.06056338028169014,
          0.021830985915492956
         ],
         "yaxis": "y31"
        },
        {
         "line": {
          "color": "gray",
          "shape": "spline",
          "width": 3
         },
         "mode": "lines",
         "type": "scatter",
         "uid": "3f294296-f568-4006-b071-a8dc57c06d24",
         "x": [
          1,
          2,
          3,
          4,
          5,
          6,
          7
         ],
         "xaxis": "x153",
         "y": [
          0.07185578359124661,
          0.13864492108344612,
          0.16100379332347023,
          0.15654295710950153,
          0.12406201137295872,
          0.20754597914723844,
          0.14034455437213836
         ],
         "yaxis": "y31"
        },
        {
         "marker": {
          "color": [
           "rgb(244,165,130)",
           "rgb(244,165,130)",
           "rgb(244,165,130)",
           "rgb(244,165,130)",
           "rgb(244,165,130)",
           "rgb(244,165,130)",
           "rgb(244,165,130)"
          ]
         },
         "type": "bar",
         "uid": "20e30fc4-0324-4d5b-8913-de13e3939b30",
         "x": [
          1,
          2,
          3,
          4,
          5,
          6,
          7
         ],
         "xaxis": "x154",
         "y": [
          0.07894736842105263,
          0.18486842105263157,
          0.23092105263157894,
          0.2888157894736842,
          0.07105263157894737,
          0.14210526315789473,
          0.003289473684210526
         ],
         "yaxis": "y31"
        },
        {
         "line": {
          "color": "gray",
          "shape": "spline",
          "width": 3
         },
         "mode": "lines",
         "type": "scatter",
         "uid": "b421ddd8-fdb9-4752-ab20-de4a1606759c",
         "x": [
          1,
          2,
          3,
          4,
          5,
          6,
          7
         ],
         "xaxis": "x154",
         "y": [
          0.07185578359124661,
          0.13864492108344612,
          0.16100379332347023,
          0.15654295710950153,
          0.12406201137295872,
          0.20754597914723844,
          0.14034455437213836
         ],
         "yaxis": "y31"
        },
        {
         "marker": {
          "color": [
           "rgb(178,24,43)",
           "rgb(178,24,43)",
           "rgb(178,24,43)",
           "rgb(178,24,43)",
           "rgb(178,24,43)",
           "rgb(178,24,43)",
           "rgb(178,24,43)"
          ]
         },
         "type": "bar",
         "uid": "a93795bd-915a-4e74-b9cb-f4239e396f25",
         "x": [
          1,
          2,
          3,
          4,
          5,
          6,
          7
         ],
         "xaxis": "x155",
         "y": [
          0.01474010861132661,
          0.0643910007757952,
          0.047711404189294024,
          0.082622187742436,
          0.1439100077579519,
          0.3440651667959659,
          0.30256012412723043
         ],
         "yaxis": "y31"
        },
        {
         "line": {
          "color": "gray",
          "shape": "spline",
          "width": 3
         },
         "mode": "lines",
         "type": "scatter",
         "uid": "41a6b01f-228c-40f1-b02a-bd24baef684d",
         "x": [
          1,
          2,
          3,
          4,
          5,
          6,
          7
         ],
         "xaxis": "x155",
         "y": [
          0.07185578359124661,
          0.13864492108344612,
          0.16100379332347023,
          0.15654295710950153,
          0.12406201137295872,
          0.20754597914723844,
          0.14034455437213836
         ],
         "yaxis": "y31"
        },
        {
         "marker": {
          "color": [
           "rgb(214,96,77)",
           "rgb(214,96,77)",
           "rgb(214,96,77)",
           "rgb(214,96,77)",
           "rgb(214,96,77)",
           "rgb(214,96,77)",
           "rgb(214,96,77)"
          ]
         },
         "type": "bar",
         "uid": "3b944c33-9cab-4a7d-a84d-edc178c5460c",
         "x": [
          1,
          2,
          3,
          4,
          5,
          6,
          7
         ],
         "xaxis": "x156",
         "y": [
          0.17551622418879056,
          0.22271386430678466,
          0.17059980334316618,
          0.10914454277286136,
          0.22418879056047197,
          0.051622418879056046,
          0.046214355948869225
         ],
         "yaxis": "y32"
        },
        {
         "line": {
          "color": "gray",
          "shape": "spline",
          "width": 3
         },
         "mode": "lines",
         "type": "scatter",
         "uid": "61c99de7-6ea4-4aaa-ac2c-7c0ba4c86901",
         "x": [
          1,
          2,
          3,
          4,
          5,
          6,
          7
         ],
         "xaxis": "x156",
         "y": [
          0.07185578359124661,
          0.13864492108344612,
          0.16100379332347023,
          0.15654295710950153,
          0.12406201137295872,
          0.20754597914723844,
          0.14034455437213836
         ],
         "yaxis": "y32"
        },
        {
         "marker": {
          "color": [
           "rgb(5,48,97)",
           "rgb(5,48,97)",
           "rgb(5,48,97)",
           "rgb(5,48,97)",
           "rgb(5,48,97)",
           "rgb(5,48,97)",
           "rgb(5,48,97)"
          ]
         },
         "type": "bar",
         "uid": "2e6b6d05-f1d5-4be3-89eb-1c43f287ce78",
         "x": [
          1,
          2,
          3,
          4,
          5,
          6,
          7
         ],
         "xaxis": "x157",
         "y": [
          0.02451539338654504,
          0.053591790193842644,
          0.04903078677309008,
          0.10205245153933866,
          0.09977194982896237,
          0.34150513112884834,
          0.3295324971493729
         ],
         "yaxis": "y32"
        },
        {
         "line": {
          "color": "gray",
          "shape": "spline",
          "width": 3
         },
         "mode": "lines",
         "type": "scatter",
         "uid": "f88a8809-4cdf-4c4b-a1c0-8b82aa480967",
         "x": [
          1,
          2,
          3,
          4,
          5,
          6,
          7
         ],
         "xaxis": "x157",
         "y": [
          0.07185578359124661,
          0.13864492108344612,
          0.16100379332347023,
          0.15654295710950153,
          0.12406201137295872,
          0.20754597914723844,
          0.14034455437213836
         ],
         "yaxis": "y32"
        },
        {
         "marker": {
          "color": [
           "rgb(33,102,172)",
           "rgb(33,102,172)",
           "rgb(33,102,172)",
           "rgb(33,102,172)",
           "rgb(33,102,172)",
           "rgb(33,102,172)",
           "rgb(33,102,172)"
          ]
         },
         "type": "bar",
         "uid": "71f9e696-1cf1-4a41-8266-20c8ba4df45d",
         "x": [
          1,
          2,
          3,
          4,
          5,
          6,
          7
         ],
         "xaxis": "x158",
         "y": [
          0.061375492387948476,
          0.23107633343979558,
          0.2566272756307889,
          0.24598104971787502,
          0.1271691685297562,
          0.047908016608112426,
          0.02986266368572341
         ],
         "yaxis": "y32"
        },
        {
         "line": {
          "color": "gray",
          "shape": "spline",
          "width": 3
         },
         "mode": "lines",
         "type": "scatter",
         "uid": "0a3486cc-d87c-40ba-8708-5e6eb9ecc492",
         "x": [
          1,
          2,
          3,
          4,
          5,
          6,
          7
         ],
         "xaxis": "x158",
         "y": [
          0.07185578359124661,
          0.13864492108344612,
          0.16100379332347023,
          0.15654295710950153,
          0.12406201137295872,
          0.20754597914723844,
          0.14034455437213836
         ],
         "yaxis": "y32"
        },
        {
         "marker": {
          "color": [
           "rgb(244,165,130)",
           "rgb(244,165,130)",
           "rgb(244,165,130)",
           "rgb(244,165,130)",
           "rgb(244,165,130)",
           "rgb(244,165,130)",
           "rgb(244,165,130)"
          ]
         },
         "type": "bar",
         "uid": "1cabf174-4187-4dd7-aa55-23bc2b0c3e09",
         "x": [
          1,
          2,
          3,
          4,
          5,
          6,
          7
         ],
         "xaxis": "x159",
         "y": [
          0.011944260119442602,
          0.09754479097544791,
          0.050431320504313204,
          0.0902455209024552,
          0.0809555408095554,
          0.3477106834771068,
          0.32116788321167883
         ],
         "yaxis": "y32"
        },
        {
         "line": {
          "color": "gray",
          "shape": "spline",
          "width": 3
         },
         "mode": "lines",
         "type": "scatter",
         "uid": "f4f0929a-dece-46b8-bf72-f75c892d0f71",
         "x": [
          1,
          2,
          3,
          4,
          5,
          6,
          7
         ],
         "xaxis": "x159",
         "y": [
          0.07185578359124661,
          0.13864492108344612,
          0.16100379332347023,
          0.15654295710950153,
          0.12406201137295872,
          0.20754597914723844,
          0.14034455437213836
         ],
         "yaxis": "y32"
        },
        {
         "marker": {
          "color": [
           "rgb(178,24,43)",
           "rgb(178,24,43)",
           "rgb(178,24,43)",
           "rgb(178,24,43)",
           "rgb(178,24,43)",
           "rgb(178,24,43)",
           "rgb(178,24,43)"
          ]
         },
         "type": "bar",
         "uid": "3f04c9bf-713e-4d0e-bde1-a9bc125548c5",
         "x": [
          1,
          2,
          3,
          4,
          5,
          6,
          7
         ],
         "xaxis": "x160",
         "y": [
          0.04525645323499832,
          0.1884009386523634,
          0.3097552799195441,
          0.22427086825343615,
          0.13074086490110626,
          0.09017767348307074,
          0.011397921555481059
         ],
         "yaxis": "y32"
        },
        {
         "line": {
          "color": "gray",
          "shape": "spline",
          "width": 3
         },
         "mode": "lines",
         "type": "scatter",
         "uid": "c0598039-9121-4915-8a8c-d00f9dc36342",
         "x": [
          1,
          2,
          3,
          4,
          5,
          6,
          7
         ],
         "xaxis": "x160",
         "y": [
          0.07185578359124661,
          0.13864492108344612,
          0.16100379332347023,
          0.15654295710950153,
          0.12406201137295872,
          0.20754597914723844,
          0.14034455437213836
         ],
         "yaxis": "y32"
        },
        {
         "marker": {
          "color": [
           "rgb(214,96,77)",
           "rgb(214,96,77)",
           "rgb(214,96,77)",
           "rgb(214,96,77)",
           "rgb(214,96,77)",
           "rgb(214,96,77)",
           "rgb(214,96,77)"
          ]
         },
         "type": "bar",
         "uid": "f41bf6cc-550e-4e4f-baf2-362e551f0ed7",
         "x": [
          1,
          2,
          3,
          4,
          5,
          6,
          7
         ],
         "xaxis": "x161",
         "y": [
          0.07476076555023924,
          0.12260765550239235,
          0.38995215311004783,
          0.1901913875598086,
          0.09988038277511961,
          0.10586124401913875,
          0.01674641148325359
         ],
         "yaxis": "y33"
        },
        {
         "line": {
          "color": "gray",
          "shape": "spline",
          "width": 3
         },
         "mode": "lines",
         "type": "scatter",
         "uid": "bfc1aba6-c343-472e-9e1a-9563fd6ee537",
         "x": [
          1,
          2,
          3,
          4,
          5,
          6,
          7
         ],
         "xaxis": "x161",
         "y": [
          0.07185578359124661,
          0.13864492108344612,
          0.16100379332347023,
          0.15654295710950153,
          0.12406201137295872,
          0.20754597914723844,
          0.14034455437213836
         ],
         "yaxis": "y33"
        },
        {
         "marker": {
          "color": [
           "rgb(5,48,97)",
           "rgb(5,48,97)",
           "rgb(5,48,97)",
           "rgb(5,48,97)",
           "rgb(5,48,97)",
           "rgb(5,48,97)",
           "rgb(5,48,97)"
          ]
         },
         "type": "bar",
         "uid": "79ff1d05-7010-479c-9fd0-5cfc4879de8f",
         "x": [
          1,
          2,
          3,
          4,
          5,
          6,
          7
         ],
         "xaxis": "x162",
         "y": [
          0.05813499804916114,
          0.19196254389387438,
          0.2481467030823254,
          0.22122512680452594,
          0.07101053452984783,
          0.2095200936402653,
          0
         ],
         "yaxis": "y33"
        },
        {
         "line": {
          "color": "gray",
          "shape": "spline",
          "width": 3
         },
         "mode": "lines",
         "type": "scatter",
         "uid": "23d7e7f6-e056-4bdf-92f0-506c696cef07",
         "x": [
          1,
          2,
          3,
          4,
          5,
          6,
          7
         ],
         "xaxis": "x162",
         "y": [
          0.07185578359124661,
          0.13864492108344612,
          0.16100379332347023,
          0.15654295710950153,
          0.12406201137295872,
          0.20754597914723844,
          0.14034455437213836
         ],
         "yaxis": "y33"
        },
        {
         "marker": {
          "color": [
           "rgb(33,102,172)",
           "rgb(33,102,172)",
           "rgb(33,102,172)",
           "rgb(33,102,172)",
           "rgb(33,102,172)",
           "rgb(33,102,172)",
           "rgb(33,102,172)"
          ]
         },
         "type": "bar",
         "uid": "45705d10-76d6-4a8f-9659-e03012a09276",
         "x": [
          1,
          2,
          3,
          4,
          5,
          6,
          7
         ],
         "xaxis": "x163",
         "y": [
          0.19119496855345913,
          0.22264150943396227,
          0.21761006289308177,
          0.15660377358490565,
          0.1179245283018868,
          0.03962264150943396,
          0.05440251572327044
         ],
         "yaxis": "y33"
        },
        {
         "line": {
          "color": "gray",
          "shape": "spline",
          "width": 3
         },
         "mode": "lines",
         "type": "scatter",
         "uid": "95da9d8a-f898-4f0e-babf-b8209320225d",
         "x": [
          1,
          2,
          3,
          4,
          5,
          6,
          7
         ],
         "xaxis": "x163",
         "y": [
          0.07185578359124661,
          0.13864492108344612,
          0.16100379332347023,
          0.15654295710950153,
          0.12406201137295872,
          0.20754597914723844,
          0.14034455437213836
         ],
         "yaxis": "y33"
        },
        {
         "marker": {
          "color": [
           "rgb(244,165,130)",
           "rgb(244,165,130)",
           "rgb(244,165,130)",
           "rgb(244,165,130)",
           "rgb(244,165,130)",
           "rgb(244,165,130)",
           "rgb(244,165,130)"
          ]
         },
         "type": "bar",
         "uid": "00896f7c-b78a-4dd4-8bc4-907134db6e0e",
         "x": [
          1,
          2,
          3,
          4,
          5,
          6,
          7
         ],
         "xaxis": "x164",
         "y": [
          0.04942339373970346,
          0.11943986820428336,
          0.18698517298187808,
          0.2701812191103789,
          0.2553542009884679,
          0.10790774299835255,
          0.01070840197693575
         ],
         "yaxis": "y33"
        },
        {
         "line": {
          "color": "gray",
          "shape": "spline",
          "width": 3
         },
         "mode": "lines",
         "type": "scatter",
         "uid": "b10abca6-4441-4a49-b1c5-d4caedc42ff1",
         "x": [
          1,
          2,
          3,
          4,
          5,
          6,
          7
         ],
         "xaxis": "x164",
         "y": [
          0.07185578359124661,
          0.13864492108344612,
          0.16100379332347023,
          0.15654295710950153,
          0.12406201137295872,
          0.20754597914723844,
          0.14034455437213836
         ],
         "yaxis": "y33"
        },
        {
         "marker": {
          "color": [
           "rgb(178,24,43)",
           "rgb(178,24,43)",
           "rgb(178,24,43)",
           "rgb(178,24,43)",
           "rgb(178,24,43)",
           "rgb(178,24,43)",
           "rgb(178,24,43)"
          ]
         },
         "type": "bar",
         "uid": "6976dae2-d6e0-4801-834c-c5c05c7985c3",
         "x": [
          1,
          2,
          3,
          4,
          5,
          6,
          7
         ],
         "xaxis": "x165",
         "y": [
          0.03676383105294467,
          0.20035693039857227,
          0.2478286734086853,
          0.24069006543723973,
          0.1783462224866151,
          0.08328375966686496,
          0.01273051754907793
         ],
         "yaxis": "y33"
        },
        {
         "line": {
          "color": "gray",
          "shape": "spline",
          "width": 3
         },
         "mode": "lines",
         "type": "scatter",
         "uid": "79aed20a-c982-4a2f-af67-cf511c6a687a",
         "x": [
          1,
          2,
          3,
          4,
          5,
          6,
          7
         ],
         "xaxis": "x165",
         "y": [
          0.07185578359124661,
          0.13864492108344612,
          0.16100379332347023,
          0.15654295710950153,
          0.12406201137295872,
          0.20754597914723844,
          0.14034455437213836
         ],
         "yaxis": "y33"
        },
        {
         "marker": {
          "color": [
           "rgb(214,96,77)",
           "rgb(214,96,77)",
           "rgb(214,96,77)",
           "rgb(214,96,77)",
           "rgb(214,96,77)",
           "rgb(214,96,77)",
           "rgb(214,96,77)"
          ]
         },
         "type": "bar",
         "uid": "1aafa6c1-61c4-451d-822f-ba2a0bd1c38e",
         "x": [
          1,
          2,
          3,
          4,
          5,
          6,
          7
         ],
         "xaxis": "x166",
         "y": [
          0.10972222222222222,
          0.17291666666666666,
          0.2388888888888889,
          0.27847222222222223,
          0.084375,
          0.10833333333333334,
          0.007291666666666667
         ],
         "yaxis": "y34"
        },
        {
         "line": {
          "color": "gray",
          "shape": "spline",
          "width": 3
         },
         "mode": "lines",
         "type": "scatter",
         "uid": "a82a1224-9565-48a7-bf37-164f6992e55a",
         "x": [
          1,
          2,
          3,
          4,
          5,
          6,
          7
         ],
         "xaxis": "x166",
         "y": [
          0.07185578359124661,
          0.13864492108344612,
          0.16100379332347023,
          0.15654295710950153,
          0.12406201137295872,
          0.20754597914723844,
          0.14034455437213836
         ],
         "yaxis": "y34"
        },
        {
         "marker": {
          "color": [
           "rgb(5,48,97)",
           "rgb(5,48,97)",
           "rgb(5,48,97)",
           "rgb(5,48,97)",
           "rgb(5,48,97)",
           "rgb(5,48,97)",
           "rgb(5,48,97)"
          ]
         },
         "type": "bar",
         "uid": "42c2bb16-2d6a-45d7-8477-8838b10e469b",
         "x": [
          1,
          2,
          3,
          4,
          5,
          6,
          7
         ],
         "xaxis": "x167",
         "y": [
          0.0379746835443038,
          0.1881856540084388,
          0.22362869198312235,
          0.3029535864978903,
          0.15864978902953586,
          0.060759493670886074,
          0.027848101265822784
         ],
         "yaxis": "y34"
        },
        {
         "line": {
          "color": "gray",
          "shape": "spline",
          "width": 3
         },
         "mode": "lines",
         "type": "scatter",
         "uid": "c0e643ea-5f6b-4c54-9ff9-d668299e7398",
         "x": [
          1,
          2,
          3,
          4,
          5,
          6,
          7
         ],
         "xaxis": "x167",
         "y": [
          0.07185578359124661,
          0.13864492108344612,
          0.16100379332347023,
          0.15654295710950153,
          0.12406201137295872,
          0.20754597914723844,
          0.14034455437213836
         ],
         "yaxis": "y34"
        },
        {
         "marker": {
          "color": [
           "rgb(33,102,172)",
           "rgb(33,102,172)",
           "rgb(33,102,172)",
           "rgb(33,102,172)",
           "rgb(33,102,172)",
           "rgb(33,102,172)",
           "rgb(33,102,172)"
          ]
         },
         "type": "bar",
         "uid": "c93b761c-fcbe-4f13-b2ed-b8a441d3a55e",
         "x": [
          1,
          2,
          3,
          4,
          5,
          6,
          7
         ],
         "xaxis": "x168",
         "y": [
          0.008695652173913044,
          0.22869565217391305,
          0.3382608695652174,
          0.19130434782608696,
          0.07130434782608695,
          0.12434782608695652,
          0.03739130434782609
         ],
         "yaxis": "y34"
        },
        {
         "line": {
          "color": "gray",
          "shape": "spline",
          "width": 3
         },
         "mode": "lines",
         "type": "scatter",
         "uid": "35c645af-8231-4f68-a71b-275f96bd2fe1",
         "x": [
          1,
          2,
          3,
          4,
          5,
          6,
          7
         ],
         "xaxis": "x168",
         "y": [
          0.07185578359124661,
          0.13864492108344612,
          0.16100379332347023,
          0.15654295710950153,
          0.12406201137295872,
          0.20754597914723844,
          0.14034455437213836
         ],
         "yaxis": "y34"
        },
        {
         "marker": {
          "color": [
           "rgb(244,165,130)",
           "rgb(244,165,130)",
           "rgb(244,165,130)",
           "rgb(244,165,130)",
           "rgb(244,165,130)",
           "rgb(244,165,130)",
           "rgb(244,165,130)"
          ]
         },
         "type": "bar",
         "uid": "b3785e82-4243-44be-aeb4-1878bfbd8ceb",
         "x": [
          1,
          2,
          3,
          4,
          5,
          6,
          7
         ],
         "xaxis": "x169",
         "y": [
          0.06524466750313676,
          0.14366373902132998,
          0.21957340025094102,
          0.37641154328732745,
          0.07026348808030113,
          0.09912170639899624,
          0.025721455457967377
         ],
         "yaxis": "y34"
        },
        {
         "line": {
          "color": "gray",
          "shape": "spline",
          "width": 3
         },
         "mode": "lines",
         "type": "scatter",
         "uid": "13536e0a-c049-4d9a-bfa3-144c685b07c4",
         "x": [
          1,
          2,
          3,
          4,
          5,
          6,
          7
         ],
         "xaxis": "x169",
         "y": [
          0.07185578359124661,
          0.13864492108344612,
          0.16100379332347023,
          0.15654295710950153,
          0.12406201137295872,
          0.20754597914723844,
          0.14034455437213836
         ],
         "yaxis": "y34"
        },
        {
         "marker": {
          "color": [
           "rgb(178,24,43)",
           "rgb(178,24,43)",
           "rgb(178,24,43)",
           "rgb(178,24,43)",
           "rgb(178,24,43)",
           "rgb(178,24,43)",
           "rgb(178,24,43)"
          ]
         },
         "type": "bar",
         "uid": "04f7d013-a0f5-49cf-bc0b-217a985554a1",
         "x": [
          1,
          2,
          3,
          4,
          5,
          6,
          7
         ],
         "xaxis": "x170",
         "y": [
          0.033783783783783786,
          0.04633204633204633,
          0.04247104247104247,
          0.17084942084942084,
          0.06660231660231661,
          0.38706563706563707,
          0.2528957528957529
         ],
         "yaxis": "y34"
        },
        {
         "line": {
          "color": "gray",
          "shape": "spline",
          "width": 3
         },
         "mode": "lines",
         "type": "scatter",
         "uid": "9f5a1854-cb05-40af-acd7-af02f2d8fced",
         "x": [
          1,
          2,
          3,
          4,
          5,
          6,
          7
         ],
         "xaxis": "x170",
         "y": [
          0.07185578359124661,
          0.13864492108344612,
          0.16100379332347023,
          0.15654295710950153,
          0.12406201137295872,
          0.20754597914723844,
          0.14034455437213836
         ],
         "yaxis": "y34"
        },
        {
         "marker": {
          "color": [
           "rgb(214,96,77)",
           "rgb(214,96,77)",
           "rgb(214,96,77)",
           "rgb(214,96,77)",
           "rgb(214,96,77)",
           "rgb(214,96,77)",
           "rgb(214,96,77)"
          ]
         },
         "type": "bar",
         "uid": "d04d2c59-9b01-4707-8322-42a95ee05c2f",
         "x": [
          1,
          2,
          3,
          4,
          5,
          6,
          7
         ],
         "xaxis": "x171",
         "y": [
          0.12667191188040913,
          0.18332022029897718,
          0.25098347757671124,
          0.2675059008654603,
          0.05979543666404406,
          0.09126671911880409,
          0.020456333595594022
         ],
         "yaxis": "y35"
        },
        {
         "line": {
          "color": "gray",
          "shape": "spline",
          "width": 3
         },
         "mode": "lines",
         "type": "scatter",
         "uid": "16c2cad1-d6bc-4dfd-b3f5-dd6a6b48a698",
         "x": [
          1,
          2,
          3,
          4,
          5,
          6,
          7
         ],
         "xaxis": "x171",
         "y": [
          0.07185578359124661,
          0.13864492108344612,
          0.16100379332347023,
          0.15654295710950153,
          0.12406201137295872,
          0.20754597914723844,
          0.14034455437213836
         ],
         "yaxis": "y35"
        },
        {
         "marker": {
          "color": [
           "rgb(5,48,97)",
           "rgb(5,48,97)",
           "rgb(5,48,97)",
           "rgb(5,48,97)",
           "rgb(5,48,97)",
           "rgb(5,48,97)",
           "rgb(5,48,97)"
          ]
         },
         "type": "bar",
         "uid": "3391b5d5-ced7-4b4d-b5ca-2533aafdfef3",
         "x": [
          1,
          2,
          3,
          4,
          5,
          6,
          7
         ],
         "xaxis": "x172",
         "y": [
          0.04880766659237798,
          0.17361265879206597,
          0.24626699353688433,
          0.2647648763093381,
          0.15689770447960777,
          0.10207265433474481,
          0.007577445954981056
         ],
         "yaxis": "y35"
        },
        {
         "line": {
          "color": "gray",
          "shape": "spline",
          "width": 3
         },
         "mode": "lines",
         "type": "scatter",
         "uid": "97a75ee7-e87f-4d1e-8343-665d43f44881",
         "x": [
          1,
          2,
          3,
          4,
          5,
          6,
          7
         ],
         "xaxis": "x172",
         "y": [
          0.07185578359124661,
          0.13864492108344612,
          0.16100379332347023,
          0.15654295710950153,
          0.12406201137295872,
          0.20754597914723844,
          0.14034455437213836
         ],
         "yaxis": "y35"
        },
        {
         "marker": {
          "color": [
           "rgb(33,102,172)",
           "rgb(33,102,172)",
           "rgb(33,102,172)",
           "rgb(33,102,172)",
           "rgb(33,102,172)",
           "rgb(33,102,172)",
           "rgb(33,102,172)"
          ]
         },
         "type": "bar",
         "uid": "03523541-4d00-471f-b8dc-c38c84aa9095",
         "x": [
          1,
          2,
          3,
          4,
          5,
          6,
          7
         ],
         "xaxis": "x173",
         "y": [
          0.06900328587075576,
          0.20956553486673968,
          0.22709017889740782,
          0.28952172325666303,
          0.10843373493975904,
          0.08032128514056225,
          0.01606425702811245
         ],
         "yaxis": "y35"
        },
        {
         "line": {
          "color": "gray",
          "shape": "spline",
          "width": 3
         },
         "mode": "lines",
         "type": "scatter",
         "uid": "bf1c8840-5587-44e2-9a68-17b50f483860",
         "x": [
          1,
          2,
          3,
          4,
          5,
          6,
          7
         ],
         "xaxis": "x173",
         "y": [
          0.07185578359124661,
          0.13864492108344612,
          0.16100379332347023,
          0.15654295710950153,
          0.12406201137295872,
          0.20754597914723844,
          0.14034455437213836
         ],
         "yaxis": "y35"
        },
        {
         "marker": {
          "color": [
           "rgb(244,165,130)",
           "rgb(244,165,130)",
           "rgb(244,165,130)",
           "rgb(244,165,130)",
           "rgb(244,165,130)",
           "rgb(244,165,130)",
           "rgb(244,165,130)"
          ]
         },
         "type": "bar",
         "uid": "efa29817-7d9e-41de-b80f-c59ece2ce5ae",
         "x": [
          1,
          2,
          3,
          4,
          5,
          6,
          7
         ],
         "xaxis": "x174",
         "y": [
          0.0427061310782241,
          0.21437632135306553,
          0.2215644820295983,
          0.2317124735729387,
          0.16913319238900634,
          0.11501057082452432,
          0.0054968287526427064
         ],
         "yaxis": "y35"
        },
        {
         "line": {
          "color": "gray",
          "shape": "spline",
          "width": 3
         },
         "mode": "lines",
         "type": "scatter",
         "uid": "99dfe3ed-a4ce-4f41-bdaf-493f1a22ae46",
         "x": [
          1,
          2,
          3,
          4,
          5,
          6,
          7
         ],
         "xaxis": "x174",
         "y": [
          0.07185578359124661,
          0.13864492108344612,
          0.16100379332347023,
          0.15654295710950153,
          0.12406201137295872,
          0.20754597914723844,
          0.14034455437213836
         ],
         "yaxis": "y35"
        },
        {
         "marker": {
          "color": [
           "rgb(178,24,43)",
           "rgb(178,24,43)",
           "rgb(178,24,43)",
           "rgb(178,24,43)",
           "rgb(178,24,43)",
           "rgb(178,24,43)",
           "rgb(178,24,43)"
          ]
         },
         "type": "bar",
         "uid": "15dcf3b5-d3ce-4842-8f03-d62a84da0503",
         "x": [
          1,
          2,
          3,
          4,
          5,
          6,
          7
         ],
         "xaxis": "x175",
         "y": [
          0.008486562942008486,
          0.25176803394625175,
          0.2637906647807638,
          0.22701555869872703,
          0.0594059405940594,
          0.15983026874115983,
          0.0297029702970297
         ],
         "yaxis": "y35"
        },
        {
         "line": {
          "color": "gray",
          "shape": "spline",
          "width": 3
         },
         "mode": "lines",
         "type": "scatter",
         "uid": "bab8e4b3-8f31-458d-8e6c-6ed06954a862",
         "x": [
          1,
          2,
          3,
          4,
          5,
          6,
          7
         ],
         "xaxis": "x175",
         "y": [
          0.07185578359124661,
          0.13864492108344612,
          0.16100379332347023,
          0.15654295710950153,
          0.12406201137295872,
          0.20754597914723844,
          0.14034455437213836
         ],
         "yaxis": "y35"
        },
        {
         "marker": {
          "color": [
           "rgb(214,96,77)",
           "rgb(214,96,77)",
           "rgb(214,96,77)",
           "rgb(214,96,77)",
           "rgb(214,96,77)",
           "rgb(214,96,77)",
           "rgb(214,96,77)"
          ]
         },
         "type": "bar",
         "uid": "5fe4edc8-1a0d-40c4-89b5-c871a47f399b",
         "x": [
          1,
          2,
          3,
          4,
          5,
          6,
          7
         ],
         "xaxis": "x176",
         "y": [
          0.07659346545259775,
          0.13711837171933583,
          0.2849491162292448,
          0.25763256561328335,
          0.11783610069630424,
          0.11890733797536154,
          0.006963042313872523
         ],
         "yaxis": "y36"
        },
        {
         "line": {
          "color": "gray",
          "shape": "spline",
          "width": 3
         },
         "mode": "lines",
         "type": "scatter",
         "uid": "179dac20-7da9-4bd7-96f0-6d41aad2c90b",
         "x": [
          1,
          2,
          3,
          4,
          5,
          6,
          7
         ],
         "xaxis": "x176",
         "y": [
          0.07185578359124661,
          0.13864492108344612,
          0.16100379332347023,
          0.15654295710950153,
          0.12406201137295872,
          0.20754597914723844,
          0.14034455437213836
         ],
         "yaxis": "y36"
        },
        {
         "marker": {
          "color": [
           "rgb(5,48,97)",
           "rgb(5,48,97)",
           "rgb(5,48,97)",
           "rgb(5,48,97)",
           "rgb(5,48,97)",
           "rgb(5,48,97)",
           "rgb(5,48,97)"
          ]
         },
         "type": "bar",
         "uid": "6c79686f-ed0e-4e8b-a971-4e8e9d18d419",
         "x": [
          1,
          2,
          3,
          4,
          5,
          6,
          7
         ],
         "xaxis": "x177",
         "y": [
          0.04248088360237893,
          0.0475785896346644,
          0.24808836023789294,
          0.07051826677994902,
          0.24299065420560748,
          0.31180968564146133,
          0.03653355989804588
         ],
         "yaxis": "y36"
        },
        {
         "line": {
          "color": "gray",
          "shape": "spline",
          "width": 3
         },
         "mode": "lines",
         "type": "scatter",
         "uid": "9450b54a-afd8-4f4a-afec-a9d5b3404128",
         "x": [
          1,
          2,
          3,
          4,
          5,
          6,
          7
         ],
         "xaxis": "x177",
         "y": [
          0.07185578359124661,
          0.13864492108344612,
          0.16100379332347023,
          0.15654295710950153,
          0.12406201137295872,
          0.20754597914723844,
          0.14034455437213836
         ],
         "yaxis": "y36"
        },
        {
         "marker": {
          "color": [
           "rgb(33,102,172)",
           "rgb(33,102,172)",
           "rgb(33,102,172)",
           "rgb(33,102,172)",
           "rgb(33,102,172)",
           "rgb(33,102,172)",
           "rgb(33,102,172)"
          ]
         },
         "type": "bar",
         "uid": "33ee33d7-7e4c-40ca-8196-a65fcd215ef2",
         "x": [
          1,
          2,
          3,
          4,
          5,
          6,
          7
         ],
         "xaxis": "x178",
         "y": [
          0.08090075062552127,
          0.19099249374478733,
          0.31859883236030023,
          0.20100083402835697,
          0.11926605504587157,
          0.057547956630525435,
          0.0316930775646372
         ],
         "yaxis": "y36"
        },
        {
         "line": {
          "color": "gray",
          "shape": "spline",
          "width": 3
         },
         "mode": "lines",
         "type": "scatter",
         "uid": "5e224b7a-d5c5-4453-b57c-2dae37911ab9",
         "x": [
          1,
          2,
          3,
          4,
          5,
          6,
          7
         ],
         "xaxis": "x178",
         "y": [
          0.07185578359124661,
          0.13864492108344612,
          0.16100379332347023,
          0.15654295710950153,
          0.12406201137295872,
          0.20754597914723844,
          0.14034455437213836
         ],
         "yaxis": "y36"
        },
        {
         "marker": {
          "color": [
           "rgb(244,165,130)",
           "rgb(244,165,130)",
           "rgb(244,165,130)",
           "rgb(244,165,130)",
           "rgb(244,165,130)",
           "rgb(244,165,130)",
           "rgb(244,165,130)"
          ]
         },
         "type": "bar",
         "uid": "f164aa47-2324-4e80-a4c9-ffe5d617bebe",
         "x": [
          1,
          2,
          3,
          4,
          5,
          6,
          7
         ],
         "xaxis": "x179",
         "y": [
          0.033478893740902474,
          0.03711790393013101,
          0.14374090247452692,
          0.040756914119359534,
          0.21470160116448325,
          0.3890101892285298,
          0.14119359534206696
         ],
         "yaxis": "y36"
        },
        {
         "line": {
          "color": "gray",
          "shape": "spline",
          "width": 3
         },
         "mode": "lines",
         "type": "scatter",
         "uid": "cca5fe95-aee3-4597-8c88-28b85f2f324e",
         "x": [
          1,
          2,
          3,
          4,
          5,
          6,
          7
         ],
         "xaxis": "x179",
         "y": [
          0.07185578359124661,
          0.13864492108344612,
          0.16100379332347023,
          0.15654295710950153,
          0.12406201137295872,
          0.20754597914723844,
          0.14034455437213836
         ],
         "yaxis": "y36"
        },
        {
         "marker": {
          "color": [
           "rgb(178,24,43)",
           "rgb(178,24,43)",
           "rgb(178,24,43)",
           "rgb(178,24,43)",
           "rgb(178,24,43)",
           "rgb(178,24,43)",
           "rgb(178,24,43)"
          ]
         },
         "type": "bar",
         "uid": "d7ec2680-1743-435e-a2f4-b41d560788b8",
         "x": [
          1,
          2,
          3,
          4,
          5,
          6,
          7
         ],
         "xaxis": "x180",
         "y": [
          0.023625843780135006,
          0.04628736740597879,
          0.08823529411764706,
          0.05255544840887175,
          0.19575699132111862,
          0.35053037608486015,
          0.24300867888138863
         ],
         "yaxis": "y36"
        },
        {
         "line": {
          "color": "gray",
          "shape": "spline",
          "width": 3
         },
         "mode": "lines",
         "type": "scatter",
         "uid": "d78c17c9-63b1-4e5b-8d71-a5a35619c0f6",
         "x": [
          1,
          2,
          3,
          4,
          5,
          6,
          7
         ],
         "xaxis": "x180",
         "y": [
          0.07185578359124661,
          0.13864492108344612,
          0.16100379332347023,
          0.15654295710950153,
          0.12406201137295872,
          0.20754597914723844,
          0.14034455437213836
         ],
         "yaxis": "y36"
        },
        {
         "marker": {
          "color": [
           "rgb(214,96,77)",
           "rgb(214,96,77)",
           "rgb(214,96,77)",
           "rgb(214,96,77)",
           "rgb(214,96,77)",
           "rgb(214,96,77)",
           "rgb(214,96,77)"
          ]
         },
         "type": "bar",
         "uid": "e1c533dd-4660-491a-a33e-3fac88d3255e",
         "x": [
          1,
          2,
          3,
          4,
          5,
          6,
          7
         ],
         "xaxis": "x181",
         "y": [
          0.0896756082345602,
          0.23331253898939489,
          0.1915159076731129,
          0.23611977542108548,
          0.10480349344978165,
          0.14145352464129757,
          0.0031191515907673115
         ],
         "yaxis": "y37"
        },
        {
         "line": {
          "color": "gray",
          "shape": "spline",
          "width": 3
         },
         "mode": "lines",
         "type": "scatter",
         "uid": "6c529767-ae35-4e23-8dd9-99f918a9df12",
         "x": [
          1,
          2,
          3,
          4,
          5,
          6,
          7
         ],
         "xaxis": "x181",
         "y": [
          0.07185578359124661,
          0.13864492108344612,
          0.16100379332347023,
          0.15654295710950153,
          0.12406201137295872,
          0.20754597914723844,
          0.14034455437213836
         ],
         "yaxis": "y37"
        },
        {
         "marker": {
          "color": [
           "rgb(5,48,97)",
           "rgb(5,48,97)",
           "rgb(5,48,97)",
           "rgb(5,48,97)",
           "rgb(5,48,97)",
           "rgb(5,48,97)",
           "rgb(5,48,97)"
          ]
         },
         "type": "bar",
         "uid": "f53df06e-9a20-4316-ac6f-89f458f8e14c",
         "x": [
          1,
          2,
          3,
          4,
          5,
          6,
          7
         ],
         "xaxis": "x182",
         "y": [
          0.07476635514018691,
          0.20160213618157544,
          0.2105028927458834,
          0.28126390743213175,
          0.10102358700489542,
          0.12416555407209613,
          0.006675567423230975
         ],
         "yaxis": "y37"
        },
        {
         "line": {
          "color": "gray",
          "shape": "spline",
          "width": 3
         },
         "mode": "lines",
         "type": "scatter",
         "uid": "dce79956-276f-41f6-aa67-4e3e9851ec31",
         "x": [
          1,
          2,
          3,
          4,
          5,
          6,
          7
         ],
         "xaxis": "x182",
         "y": [
          0.07185578359124661,
          0.13864492108344612,
          0.16100379332347023,
          0.15654295710950153,
          0.12406201137295872,
          0.20754597914723844,
          0.14034455437213836
         ],
         "yaxis": "y37"
        },
        {
         "marker": {
          "color": [
           "rgb(33,102,172)",
           "rgb(33,102,172)",
           "rgb(33,102,172)",
           "rgb(33,102,172)",
           "rgb(33,102,172)",
           "rgb(33,102,172)",
           "rgb(33,102,172)"
          ]
         },
         "type": "bar",
         "uid": "c564c918-0673-41af-a3aa-fdbfaae9d841",
         "x": [
          1,
          2,
          3,
          4,
          5,
          6,
          7
         ],
         "xaxis": "x183",
         "y": [
          0.1014036092810083,
          0.23231165855055858,
          0.2784302492122601,
          0.15267831566886278,
          0.04268118017759954,
          0.17903179604697794,
          0.013463191062732742
         ],
         "yaxis": "y37"
        },
        {
         "line": {
          "color": "gray",
          "shape": "spline",
          "width": 3
         },
         "mode": "lines",
         "type": "scatter",
         "uid": "d9db2bba-f845-482b-9d28-0ba4f40c7527",
         "x": [
          1,
          2,
          3,
          4,
          5,
          6,
          7
         ],
         "xaxis": "x183",
         "y": [
          0.07185578359124661,
          0.13864492108344612,
          0.16100379332347023,
          0.15654295710950153,
          0.12406201137295872,
          0.20754597914723844,
          0.14034455437213836
         ],
         "yaxis": "y37"
        },
        {
         "marker": {
          "color": [
           "rgb(244,165,130)",
           "rgb(244,165,130)",
           "rgb(244,165,130)",
           "rgb(244,165,130)",
           "rgb(244,165,130)",
           "rgb(244,165,130)",
           "rgb(244,165,130)"
          ]
         },
         "type": "bar",
         "uid": "f64f6e58-71a1-43a9-a523-00b40cf4c0fa",
         "x": [
          1,
          2,
          3,
          4,
          5,
          6,
          7
         ],
         "xaxis": "x184",
         "y": [
          0.02175438596491228,
          0.03929824561403509,
          0.06385964912280702,
          0.13543859649122808,
          0.12070175438596491,
          0.2912280701754386,
          0.327719298245614
         ],
         "yaxis": "y37"
        },
        {
         "line": {
          "color": "gray",
          "shape": "spline",
          "width": 3
         },
         "mode": "lines",
         "type": "scatter",
         "uid": "2419b42b-cb36-41f2-a030-7605383ecdbb",
         "x": [
          1,
          2,
          3,
          4,
          5,
          6,
          7
         ],
         "xaxis": "x184",
         "y": [
          0.07185578359124661,
          0.13864492108344612,
          0.16100379332347023,
          0.15654295710950153,
          0.12406201137295872,
          0.20754597914723844,
          0.14034455437213836
         ],
         "yaxis": "y37"
        },
        {
         "marker": {
          "color": [
           "rgb(178,24,43)",
           "rgb(178,24,43)",
           "rgb(178,24,43)",
           "rgb(178,24,43)",
           "rgb(178,24,43)",
           "rgb(178,24,43)",
           "rgb(178,24,43)"
          ]
         },
         "type": "bar",
         "uid": "6b0735a4-150c-4661-9f9e-0e308ab55c5d",
         "x": [
          1,
          2,
          3,
          4,
          5,
          6,
          7
         ],
         "xaxis": "x185",
         "y": [
          0.11365142478462557,
          0.16235917826375082,
          0.2584493041749503,
          0.279324055666004,
          0.04042412193505633,
          0.052021206096752814,
          0.09377070907886018
         ],
         "yaxis": "y37"
        },
        {
         "line": {
          "color": "gray",
          "shape": "spline",
          "width": 3
         },
         "mode": "lines",
         "type": "scatter",
         "uid": "d17ac29c-e5ff-4e72-8f2a-4b0dbcd8bf89",
         "x": [
          1,
          2,
          3,
          4,
          5,
          6,
          7
         ],
         "xaxis": "x185",
         "y": [
          0.07185578359124661,
          0.13864492108344612,
          0.16100379332347023,
          0.15654295710950153,
          0.12406201137295872,
          0.20754597914723844,
          0.14034455437213836
         ],
         "yaxis": "y37"
        },
        {
         "marker": {
          "color": [
           "rgb(214,96,77)",
           "rgb(214,96,77)",
           "rgb(214,96,77)",
           "rgb(214,96,77)",
           "rgb(214,96,77)",
           "rgb(214,96,77)",
           "rgb(214,96,77)"
          ]
         },
         "type": "bar",
         "uid": "c53da011-4ced-4716-921e-89eef49cc295",
         "x": [
          1,
          2,
          3,
          4,
          5,
          6,
          7
         ],
         "xaxis": "x186",
         "y": [
          0.027896995708154508,
          0.16237482117310442,
          0.058655221745350504,
          0.031473533619456366,
          0.1380543633762518,
          0.33476394849785407,
          0.24678111587982832
         ],
         "yaxis": "y38"
        },
        {
         "line": {
          "color": "gray",
          "shape": "spline",
          "width": 3
         },
         "mode": "lines",
         "type": "scatter",
         "uid": "5379b2fe-a5c5-46a4-af1a-f91ab3b82099",
         "x": [
          1,
          2,
          3,
          4,
          5,
          6,
          7
         ],
         "xaxis": "x186",
         "y": [
          0.07185578359124661,
          0.13864492108344612,
          0.16100379332347023,
          0.15654295710950153,
          0.12406201137295872,
          0.20754597914723844,
          0.14034455437213836
         ],
         "yaxis": "y38"
        },
        {
         "marker": {
          "color": [
           "rgb(5,48,97)",
           "rgb(5,48,97)",
           "rgb(5,48,97)",
           "rgb(5,48,97)",
           "rgb(5,48,97)",
           "rgb(5,48,97)",
           "rgb(5,48,97)"
          ]
         },
         "type": "bar",
         "uid": "587ce7d8-c6d9-450f-b330-4fcff5c21543",
         "x": [
          1,
          2,
          3,
          4,
          5,
          6,
          7
         ],
         "xaxis": "x187",
         "y": [
          0.07675597393193338,
          0.18682114409847936,
          0.2440260680666184,
          0.25343953656770457,
          0.12092686459087618,
          0.11006517016654598,
          0.007965242577842143
         ],
         "yaxis": "y38"
        },
        {
         "line": {
          "color": "gray",
          "shape": "spline",
          "width": 3
         },
         "mode": "lines",
         "type": "scatter",
         "uid": "9f582005-9f23-4cdf-84f9-fd03e14cc5d0",
         "x": [
          1,
          2,
          3,
          4,
          5,
          6,
          7
         ],
         "xaxis": "x187",
         "y": [
          0.07185578359124661,
          0.13864492108344612,
          0.16100379332347023,
          0.15654295710950153,
          0.12406201137295872,
          0.20754597914723844,
          0.14034455437213836
         ],
         "yaxis": "y38"
        },
        {
         "marker": {
          "color": [
           "rgb(33,102,172)",
           "rgb(33,102,172)",
           "rgb(33,102,172)",
           "rgb(33,102,172)",
           "rgb(33,102,172)",
           "rgb(33,102,172)",
           "rgb(33,102,172)"
          ]
         },
         "type": "bar",
         "uid": "327ce9f1-4620-4cbe-8080-3c984e276b75",
         "x": [
          1,
          2,
          3,
          4,
          5,
          6,
          7
         ],
         "xaxis": "x188",
         "y": [
          0.04829806807727691,
          0.19595216191352346,
          0.29484820607175716,
          0.24471021159153633,
          0.07359705611775529,
          0.12695492180312787,
          0.015639374425023
         ],
         "yaxis": "y38"
        },
        {
         "line": {
          "color": "gray",
          "shape": "spline",
          "width": 3
         },
         "mode": "lines",
         "type": "scatter",
         "uid": "8c8e9638-a3cd-4667-9c5f-0602a8d20fc0",
         "x": [
          1,
          2,
          3,
          4,
          5,
          6,
          7
         ],
         "xaxis": "x188",
         "y": [
          0.07185578359124661,
          0.13864492108344612,
          0.16100379332347023,
          0.15654295710950153,
          0.12406201137295872,
          0.20754597914723844,
          0.14034455437213836
         ],
         "yaxis": "y38"
        },
        {
         "marker": {
          "color": [
           "rgb(244,165,130)",
           "rgb(244,165,130)",
           "rgb(244,165,130)",
           "rgb(244,165,130)",
           "rgb(244,165,130)",
           "rgb(244,165,130)",
           "rgb(244,165,130)"
          ]
         },
         "type": "bar",
         "uid": "49733066-d2f6-4968-a3d5-4e8b2a76cd5b",
         "x": [
          1,
          2,
          3,
          4,
          5,
          6,
          7
         ],
         "xaxis": "x189",
         "y": [
          0.041638456330399455,
          0.17941773865944483,
          0.29180771834800273,
          0.2958700067704807,
          0.06025727826675694,
          0.07786052809749493,
          0.053148273527420443
         ],
         "yaxis": "y38"
        },
        {
         "line": {
          "color": "gray",
          "shape": "spline",
          "width": 3
         },
         "mode": "lines",
         "type": "scatter",
         "uid": "6309d0e0-1fe5-466c-a6a9-1a0e41163fba",
         "x": [
          1,
          2,
          3,
          4,
          5,
          6,
          7
         ],
         "xaxis": "x189",
         "y": [
          0.07185578359124661,
          0.13864492108344612,
          0.16100379332347023,
          0.15654295710950153,
          0.12406201137295872,
          0.20754597914723844,
          0.14034455437213836
         ],
         "yaxis": "y38"
        },
        {
         "marker": {
          "color": [
           "rgb(178,24,43)",
           "rgb(178,24,43)",
           "rgb(178,24,43)",
           "rgb(178,24,43)",
           "rgb(178,24,43)",
           "rgb(178,24,43)",
           "rgb(178,24,43)"
          ]
         },
         "type": "bar",
         "uid": "bf2156f0-b7e3-4a4a-817c-081f4a484b55",
         "x": [
          1,
          2,
          3,
          4,
          5,
          6,
          7
         ],
         "xaxis": "x190",
         "y": [
          0.0346309403437816,
          0.18174924165824063,
          0.26769464105156726,
          0.23988877654196158,
          0.15267947421638017,
          0.10995955510616785,
          0.01339737108190091
         ],
         "yaxis": "y38"
        },
        {
         "line": {
          "color": "gray",
          "shape": "spline",
          "width": 3
         },
         "mode": "lines",
         "type": "scatter",
         "uid": "41081d1e-07a9-49cd-8e02-66b765f5d1f5",
         "x": [
          1,
          2,
          3,
          4,
          5,
          6,
          7
         ],
         "xaxis": "x190",
         "y": [
          0.07185578359124661,
          0.13864492108344612,
          0.16100379332347023,
          0.15654295710950153,
          0.12406201137295872,
          0.20754597914723844,
          0.14034455437213836
         ],
         "yaxis": "y38"
        },
        {
         "marker": {
          "color": [
           "rgb(214,96,77)",
           "rgb(214,96,77)",
           "rgb(214,96,77)",
           "rgb(214,96,77)",
           "rgb(214,96,77)",
           "rgb(214,96,77)",
           "rgb(214,96,77)"
          ]
         },
         "type": "bar",
         "uid": "cacd90da-b5be-42d6-a467-8888e5a3d128",
         "x": [
          1,
          2,
          3,
          4,
          5,
          6,
          7
         ],
         "xaxis": "x191",
         "y": [
          0.1184763789265397,
          0.21988622310165717,
          0.20554044026712837,
          0.21221864951768488,
          0.11748701459312391,
          0.11996042542666337,
          0.006430868167202572
         ],
         "yaxis": "y39"
        },
        {
         "line": {
          "color": "gray",
          "shape": "spline",
          "width": 3
         },
         "mode": "lines",
         "type": "scatter",
         "uid": "023160cd-1db8-4bd2-966c-7873863591bb",
         "x": [
          1,
          2,
          3,
          4,
          5,
          6,
          7
         ],
         "xaxis": "x191",
         "y": [
          0.07185578359124661,
          0.13864492108344612,
          0.16100379332347023,
          0.15654295710950153,
          0.12406201137295872,
          0.20754597914723844,
          0.14034455437213836
         ],
         "yaxis": "y39"
        },
        {
         "marker": {
          "color": [
           "rgb(5,48,97)",
           "rgb(5,48,97)",
           "rgb(5,48,97)",
           "rgb(5,48,97)",
           "rgb(5,48,97)",
           "rgb(5,48,97)",
           "rgb(5,48,97)"
          ]
         },
         "type": "bar",
         "uid": "83c8a6fd-8e78-4d32-8723-bc78a6eb8b71",
         "x": [
          1,
          2,
          3,
          4,
          5,
          6,
          7
         ],
         "xaxis": "x192",
         "y": [
          0.09246487867177522,
          0.21481481481481482,
          0.28531289910600255,
          0.20178799489144317,
          0.11315453384418901,
          0.05440613026819923,
          0.03805874840357599
         ],
         "yaxis": "y39"
        },
        {
         "line": {
          "color": "gray",
          "shape": "spline",
          "width": 3
         },
         "mode": "lines",
         "type": "scatter",
         "uid": "de843395-8fb6-400d-a6c5-f0a3f6fe4327",
         "x": [
          1,
          2,
          3,
          4,
          5,
          6,
          7
         ],
         "xaxis": "x192",
         "y": [
          0.07185578359124661,
          0.13864492108344612,
          0.16100379332347023,
          0.15654295710950153,
          0.12406201137295872,
          0.20754597914723844,
          0.14034455437213836
         ],
         "yaxis": "y39"
        },
        {
         "marker": {
          "color": [
           "rgb(33,102,172)",
           "rgb(33,102,172)",
           "rgb(33,102,172)",
           "rgb(33,102,172)",
           "rgb(33,102,172)",
           "rgb(33,102,172)",
           "rgb(33,102,172)"
          ]
         },
         "type": "bar",
         "uid": "1a3c4531-c5a7-479c-b31f-b4628d6aece5",
         "x": [
          1,
          2,
          3,
          4,
          5,
          6,
          7
         ],
         "xaxis": "x193",
         "y": [
          0.04823943661971831,
          0.2579225352112676,
          0.2595070422535211,
          0.24683098591549296,
          0.06602112676056338,
          0.06496478873239436,
          0.056514084507042255
         ],
         "yaxis": "y39"
        },
        {
         "line": {
          "color": "gray",
          "shape": "spline",
          "width": 3
         },
         "mode": "lines",
         "type": "scatter",
         "uid": "d261ed40-ca08-45a1-9950-2263fa31d314",
         "x": [
          1,
          2,
          3,
          4,
          5,
          6,
          7
         ],
         "xaxis": "x193",
         "y": [
          0.07185578359124661,
          0.13864492108344612,
          0.16100379332347023,
          0.15654295710950153,
          0.12406201137295872,
          0.20754597914723844,
          0.14034455437213836
         ],
         "yaxis": "y39"
        },
        {
         "marker": {
          "color": [
           "rgb(244,165,130)",
           "rgb(244,165,130)",
           "rgb(244,165,130)",
           "rgb(244,165,130)",
           "rgb(244,165,130)",
           "rgb(244,165,130)",
           "rgb(244,165,130)"
          ]
         },
         "type": "bar",
         "uid": "210a5b25-905a-462b-bee2-c79baba38f04",
         "x": [
          1,
          2,
          3,
          4,
          5,
          6,
          7
         ],
         "xaxis": "x194",
         "y": [
          0.07647304638529043,
          0.19139155871291266,
          0.2565816966151275,
          0.26744671959882993,
          0.08984538236523193,
          0.10321771834517342,
          0.015043877977434183
         ],
         "yaxis": "y39"
        },
        {
         "line": {
          "color": "gray",
          "shape": "spline",
          "width": 3
         },
         "mode": "lines",
         "type": "scatter",
         "uid": "80240976-6e62-43b9-a3fd-721a3ead5d5d",
         "x": [
          1,
          2,
          3,
          4,
          5,
          6,
          7
         ],
         "xaxis": "x194",
         "y": [
          0.07185578359124661,
          0.13864492108344612,
          0.16100379332347023,
          0.15654295710950153,
          0.12406201137295872,
          0.20754597914723844,
          0.14034455437213836
         ],
         "yaxis": "y39"
        },
        {
         "marker": {
          "color": [
           "rgb(178,24,43)",
           "rgb(178,24,43)",
           "rgb(178,24,43)",
           "rgb(178,24,43)",
           "rgb(178,24,43)",
           "rgb(178,24,43)",
           "rgb(178,24,43)"
          ]
         },
         "type": "bar",
         "uid": "50433d64-8704-4371-8526-93b82d7fc38c",
         "x": [
          1,
          2,
          3,
          4,
          5,
          6,
          7
         ],
         "xaxis": "x195",
         "y": [
          0.06587145433677652,
          0.206263321856042,
          0.26926545335300867,
          0.2527873421872438,
          0.09493359567142154,
          0.09153139858993277,
          0.019347434005574683
         ],
         "yaxis": "y39"
        },
        {
         "line": {
          "color": "gray",
          "shape": "spline",
          "width": 3
         },
         "mode": "lines",
         "type": "scatter",
         "uid": "c030eec6-2c26-4b17-93e6-b549dd6c8e36",
         "x": [
          1,
          2,
          3,
          4,
          5,
          6,
          7
         ],
         "xaxis": "x195",
         "y": [
          0.07185578359124661,
          0.13864492108344612,
          0.16100379332347023,
          0.15654295710950153,
          0.12406201137295872,
          0.20754597914723844,
          0.14034455437213836
         ],
         "yaxis": "y39"
        },
        {
         "marker": {
          "color": [
           "rgb(214,96,77)",
           "rgb(214,96,77)",
           "rgb(214,96,77)",
           "rgb(214,96,77)",
           "rgb(214,96,77)",
           "rgb(214,96,77)",
           "rgb(214,96,77)"
          ]
         },
         "type": "bar",
         "uid": "43c280a9-82f6-4580-adb5-d4ba7df97dfb",
         "x": [
          1,
          2,
          3,
          4,
          5,
          6,
          7
         ],
         "xaxis": "x196",
         "y": [
          0.04604726976365118,
          0.0488997555012225,
          0.08353708231458842,
          0.08883455582722087,
          0.0647921760391198,
          0.3732681336593317,
          0.2946210268948655
         ],
         "yaxis": "y40"
        },
        {
         "line": {
          "color": "gray",
          "shape": "spline",
          "width": 3
         },
         "mode": "lines",
         "type": "scatter",
         "uid": "c0f85123-b2be-4b8d-8889-4131c06bde72",
         "x": [
          1,
          2,
          3,
          4,
          5,
          6,
          7
         ],
         "xaxis": "x196",
         "y": [
          0.07185578359124661,
          0.13864492108344612,
          0.16100379332347023,
          0.15654295710950153,
          0.12406201137295872,
          0.20754597914723844,
          0.14034455437213836
         ],
         "yaxis": "y40"
        },
        {
         "marker": {
          "color": [
           "rgb(5,48,97)",
           "rgb(5,48,97)",
           "rgb(5,48,97)",
           "rgb(5,48,97)",
           "rgb(5,48,97)",
           "rgb(5,48,97)",
           "rgb(5,48,97)"
          ]
         },
         "type": "bar",
         "uid": "742bcb27-ff60-47fa-a9a7-f8900bd5cb9c",
         "x": [
          1,
          2,
          3,
          4,
          5,
          6,
          7
         ],
         "xaxis": "x197",
         "y": [
          0.04974031162604874,
          0.23531761885737115,
          0.2766679984019177,
          0.19736316420295646,
          0.1374350779065122,
          0.08030363563723532,
          0.02317219336795845
         ],
         "yaxis": "y40"
        },
        {
         "line": {
          "color": "gray",
          "shape": "spline",
          "width": 3
         },
         "mode": "lines",
         "type": "scatter",
         "uid": "b4c6fe9d-b113-421e-84c5-3e46bc78d9be",
         "x": [
          1,
          2,
          3,
          4,
          5,
          6,
          7
         ],
         "xaxis": "x197",
         "y": [
          0.07185578359124661,
          0.13864492108344612,
          0.16100379332347023,
          0.15654295710950153,
          0.12406201137295872,
          0.20754597914723844,
          0.14034455437213836
         ],
         "yaxis": "y40"
        },
        {
         "marker": {
          "color": [
           "rgb(33,102,172)",
           "rgb(33,102,172)",
           "rgb(33,102,172)",
           "rgb(33,102,172)",
           "rgb(33,102,172)",
           "rgb(33,102,172)",
           "rgb(33,102,172)"
          ]
         },
         "type": "bar",
         "uid": "a8e3db31-668a-4d85-b2b4-23c606292981",
         "x": [
          1,
          2,
          3,
          4,
          5,
          6,
          7
         ],
         "xaxis": "x198",
         "y": [
          0.03921877461017483,
          0.175303197353914,
          0.22034966136399434,
          0.25153567490943457,
          0.185226019845645,
          0.11797133406835722,
          0.010395337848480075
         ],
         "yaxis": "y40"
        },
        {
         "line": {
          "color": "gray",
          "shape": "spline",
          "width": 3
         },
         "mode": "lines",
         "type": "scatter",
         "uid": "ac3f54c5-64c6-4b16-b74f-780b9e254a85",
         "x": [
          1,
          2,
          3,
          4,
          5,
          6,
          7
         ],
         "xaxis": "x198",
         "y": [
          0.07185578359124661,
          0.13864492108344612,
          0.16100379332347023,
          0.15654295710950153,
          0.12406201137295872,
          0.20754597914723844,
          0.14034455437213836
         ],
         "yaxis": "y40"
        },
        {
         "marker": {
          "color": [
           "rgb(244,165,130)",
           "rgb(244,165,130)",
           "rgb(244,165,130)",
           "rgb(244,165,130)",
           "rgb(244,165,130)",
           "rgb(244,165,130)",
           "rgb(244,165,130)"
          ]
         },
         "type": "bar",
         "uid": "dde8c879-9a12-4cd6-a621-478194eabdbd",
         "x": [
          1,
          2,
          3,
          4,
          5,
          6,
          7
         ],
         "xaxis": "x199",
         "y": [
          0.036678809194824774,
          0.1541263660344178,
          0.2436879788971235,
          0.2553699284009546,
          0.18414772013566136,
          0.11254867478959929,
          0.013440522547418666
         ],
         "yaxis": "y40"
        },
        {
         "line": {
          "color": "gray",
          "shape": "spline",
          "width": 3
         },
         "mode": "lines",
         "type": "scatter",
         "uid": "6295bfd2-c8e7-4143-bf3b-cec552d77145",
         "x": [
          1,
          2,
          3,
          4,
          5,
          6,
          7
         ],
         "xaxis": "x199",
         "y": [
          0.07185578359124661,
          0.13864492108344612,
          0.16100379332347023,
          0.15654295710950153,
          0.12406201137295872,
          0.20754597914723844,
          0.14034455437213836
         ],
         "yaxis": "y40"
        },
        {
         "marker": {
          "color": [
           "rgb(178,24,43)",
           "rgb(178,24,43)",
           "rgb(178,24,43)",
           "rgb(178,24,43)",
           "rgb(178,24,43)",
           "rgb(178,24,43)",
           "rgb(178,24,43)"
          ]
         },
         "type": "bar",
         "uid": "112dccab-c631-4a8b-b531-4853caada657",
         "x": [
          1,
          2,
          3,
          4,
          5,
          6,
          7
         ],
         "xaxis": "x200",
         "y": [
          0.08681785967399008,
          0.22955350815024805,
          0.23770375620127568,
          0.25322466335931965,
          0.07377746279234586,
          0.09829907866761162,
          0.02062367115520907
         ],
         "yaxis": "y40"
        },
        {
         "line": {
          "color": "gray",
          "shape": "spline",
          "width": 3
         },
         "mode": "lines",
         "type": "scatter",
         "uid": "d613ed60-4049-40d6-81e5-770441cd2578",
         "x": [
          1,
          2,
          3,
          4,
          5,
          6,
          7
         ],
         "xaxis": "x200",
         "y": [
          0.07185578359124661,
          0.13864492108344612,
          0.16100379332347023,
          0.15654295710950153,
          0.12406201137295872,
          0.20754597914723844,
          0.14034455437213836
         ],
         "yaxis": "y40"
        }
       ],
       "layout": {
        "annotations": [
         {
          "font": {
           "size": 16
          },
          "showarrow": false,
          "text": "<b>Collage</b><br>(JSD: 0.18)",
          "x": 0.08399999999999999,
          "xanchor": "center",
          "xref": "paper",
          "y": 1,
          "yanchor": "bottom",
          "yref": "paper"
         },
         {
          "font": {
           "size": 16
          },
          "showarrow": false,
          "text": "<b>APIs</b><br>(JSD: 0.17)",
          "x": 0.292,
          "xanchor": "center",
          "xref": "paper",
          "y": 1,
          "yanchor": "bottom",
          "yref": "paper"
         },
         {
          "font": {
           "size": 16
          },
          "showarrow": false,
          "text": "<b>Java Concurrency</b><br>(JSD: 0.16)",
          "x": 0.5,
          "xanchor": "center",
          "xref": "paper",
          "y": 1,
          "yanchor": "bottom",
          "yref": "paper"
         },
         {
          "font": {
           "size": 16
          },
          "showarrow": false,
          "text": "<b>Mobile Product Management</b><br>(JSD: 0.14)",
          "x": 0.708,
          "xanchor": "center",
          "xref": "paper",
          "y": 1,
          "yanchor": "bottom",
          "yref": "paper"
         },
         {
          "font": {
           "size": 16
          },
          "showarrow": false,
          "text": "<b>Load Testing and Performance</b><br>(JSD: 0.13)",
          "x": 0.9159999999999999,
          "xanchor": "center",
          "xref": "paper",
          "y": 1,
          "yanchor": "bottom",
          "yref": "paper"
         },
         {
          "font": {
           "size": 16
          },
          "showarrow": false,
          "text": "<b>ASP.NET Core</b><br>(JSD: 0.13)",
          "x": 0.08399999999999999,
          "xanchor": "center",
          "xref": "paper",
          "y": 0.9746875000000002,
          "yanchor": "bottom",
          "yref": "paper"
         },
         {
          "font": {
           "size": 16
          },
          "showarrow": false,
          "text": "<b>Software Craftsmanship</b><br>(JSD: 0.13)",
          "x": 0.292,
          "xanchor": "center",
          "xref": "paper",
          "y": 0.9746875000000002,
          "yanchor": "bottom",
          "yref": "paper"
         },
         {
          "font": {
           "size": 16
          },
          "showarrow": false,
          "text": "<b>Dog Playgroups</b><br>(JSD: 0.13)",
          "x": 0.5,
          "xanchor": "center",
          "xref": "paper",
          "y": 0.9746875000000002,
          "yanchor": "bottom",
          "yref": "paper"
         },
         {
          "font": {
           "size": 16
          },
          "showarrow": false,
          "text": "<b>.NET Core</b><br>(JSD: 0.13)",
          "x": 0.708,
          "xanchor": "center",
          "xref": "paper",
          "y": 0.9746875000000002,
          "yanchor": "bottom",
          "yref": "paper"
         },
         {
          "font": {
           "size": 16
          },
          "showarrow": false,
          "text": "<b>Product Marketing</b><br>(JSD: 0.13)",
          "x": 0.9159999999999999,
          "xanchor": "center",
          "xref": "paper",
          "y": 0.9746875000000002,
          "yanchor": "bottom",
          "yref": "paper"
         },
         {
          "font": {
           "size": 16
          },
          "showarrow": false,
          "text": "<b>Product Development</b><br>(JSD: 0.12)",
          "x": 0.08399999999999999,
          "xanchor": "center",
          "xref": "paper",
          "y": 0.9493750000000002,
          "yanchor": "bottom",
          "yref": "paper"
         },
         {
          "font": {
           "size": 16
          },
          "showarrow": false,
          "text": "<b>Referral Marketing</b><br>(JSD: 0.12)",
          "x": 0.292,
          "xanchor": "center",
          "xref": "paper",
          "y": 0.9493750000000002,
          "yanchor": "bottom",
          "yref": "paper"
         },
         {
          "font": {
           "size": 16
          },
          "showarrow": false,
          "text": "<b>Software Product Management</b><br>(JSD: 0.12)",
          "x": 0.5,
          "xanchor": "center",
          "xref": "paper",
          "y": 0.9493750000000002,
          "yanchor": "bottom",
          "yref": "paper"
         },
         {
          "font": {
           "size": 16
          },
          "showarrow": false,
          "text": "<b>Data Analysis and Modeling</b><br>(JSD: 0.12)",
          "x": 0.708,
          "xanchor": "center",
          "xref": "paper",
          "y": 0.9493750000000002,
          "yanchor": "bottom",
          "yref": "paper"
         },
         {
          "font": {
           "size": 16
          },
          "showarrow": false,
          "text": "<b>Continuous Integration</b><br>(JSD: 0.12)",
          "x": 0.9159999999999999,
          "xanchor": "center",
          "xref": "paper",
          "y": 0.9493750000000002,
          "yanchor": "bottom",
          "yref": "paper"
         },
         {
          "font": {
           "size": 16
          },
          "showarrow": false,
          "text": "<b>Distributed Systems</b><br>(JSD: 0.12)",
          "x": 0.08399999999999999,
          "xanchor": "center",
          "xref": "paper",
          "y": 0.9240625000000001,
          "yanchor": "bottom",
          "yref": "paper"
         },
         {
          "font": {
           "size": 16
          },
          "showarrow": false,
          "text": "<b>Java Virtual Machine</b><br>(JSD: 0.12)",
          "x": 0.292,
          "xanchor": "center",
          "xref": "paper",
          "y": 0.9240625000000001,
          "yanchor": "bottom",
          "yref": "paper"
         },
         {
          "font": {
           "size": 16
          },
          "showarrow": false,
          "text": "<b>New Product Development: Software & Tech</b><br>(JSD: 0.12)",
          "x": 0.5,
          "xanchor": "center",
          "xref": "paper",
          "y": 0.9240625000000001,
          "yanchor": "bottom",
          "yref": "paper"
         },
         {
          "font": {
           "size": 16
          },
          "showarrow": false,
          "text": "<b>Software QA and Testing</b><br>(JSD: 0.12)",
          "x": 0.708,
          "xanchor": "center",
          "xref": "paper",
          "y": 0.9240625000000001,
          "yanchor": "bottom",
          "yref": "paper"
         },
         {
          "font": {
           "size": 16
          },
          "showarrow": false,
          "text": "<b>Product Management</b><br>(JSD: 0.12)",
          "x": 0.9159999999999999,
          "xanchor": "center",
          "xref": "paper",
          "y": 0.9240625000000001,
          "yanchor": "bottom",
          "yref": "paper"
         },
         {
          "font": {
           "size": 16
          },
          "showarrow": false,
          "text": "<b>Concurrent Programming</b><br>(JSD: 0.12)",
          "x": 0.08399999999999999,
          "xanchor": "center",
          "xref": "paper",
          "y": 0.89875,
          "yanchor": "bottom",
          "yref": "paper"
         },
         {
          "font": {
           "size": 16
          },
          "showarrow": false,
          "text": "<b>JVM Languages</b><br>(JSD: 0.12)",
          "x": 0.292,
          "xanchor": "center",
          "xref": "paper",
          "y": 0.89875,
          "yanchor": "bottom",
          "yref": "paper"
         },
         {
          "font": {
           "size": 16
          },
          "showarrow": false,
          "text": "<b>Trekking</b><br>(JSD: 0.12)",
          "x": 0.5,
          "xanchor": "center",
          "xref": "paper",
          "y": 0.89875,
          "yanchor": "bottom",
          "yref": "paper"
         },
         {
          "font": {
           "size": 16
          },
          "showarrow": false,
          "text": "<b>Growth Hacking</b><br>(JSD: 0.11)",
          "x": 0.708,
          "xanchor": "center",
          "xref": "paper",
          "y": 0.89875,
          "yanchor": "bottom",
          "yref": "paper"
         },
         {
          "font": {
           "size": 16
          },
          "showarrow": false,
          "text": "<b>Rich Internet Applications</b><br>(JSD: 0.11)",
          "x": 0.9159999999999999,
          "xanchor": "center",
          "xref": "paper",
          "y": 0.89875,
          "yanchor": "bottom",
          "yref": "paper"
         },
         {
          "font": {
           "size": 16
          },
          "showarrow": false,
          "text": "<b>Go (Programming Language)</b><br>(JSD: 0.11)",
          "x": 0.08399999999999999,
          "xanchor": "center",
          "xref": "paper",
          "y": 0.8734375000000002,
          "yanchor": "bottom",
          "yref": "paper"
         },
         {
          "font": {
           "size": 16
          },
          "showarrow": false,
          "text": "<b>B2B Networking</b><br>(JSD: 0.11)",
          "x": 0.292,
          "xanchor": "center",
          "xref": "paper",
          "y": 0.8734375000000002,
          "yanchor": "bottom",
          "yref": "paper"
         },
         {
          "font": {
           "size": 16
          },
          "showarrow": false,
          "text": "<b>IBM</b><br>(JSD: 0.11)",
          "x": 0.5,
          "xanchor": "center",
          "xref": "paper",
          "y": 0.8734375000000002,
          "yanchor": "bottom",
          "yref": "paper"
         },
         {
          "font": {
           "size": 16
          },
          "showarrow": false,
          "text": "<b>Content Strategy</b><br>(JSD: 0.11)",
          "x": 0.708,
          "xanchor": "center",
          "xref": "paper",
          "y": 0.8734375000000002,
          "yanchor": "bottom",
          "yref": "paper"
         },
         {
          "font": {
           "size": 16
          },
          "showarrow": false,
          "text": "<b>Crypto Currency</b><br>(JSD: 0.11)",
          "x": 0.9159999999999999,
          "xanchor": "center",
          "xref": "paper",
          "y": 0.8734375000000002,
          "yanchor": "bottom",
          "yref": "paper"
         },
         {
          "font": {
           "size": 16
          },
          "showarrow": false,
          "text": "<b>UX/UI</b><br>(JSD: 0.11)",
          "x": 0.08399999999999999,
          "xanchor": "center",
          "xref": "paper",
          "y": 0.8481250000000001,
          "yanchor": "bottom",
          "yref": "paper"
         },
         {
          "font": {
           "size": 16
          },
          "showarrow": false,
          "text": "<b>OpenStack</b><br>(JSD: 0.11)",
          "x": 0.292,
          "xanchor": "center",
          "xref": "paper",
          "y": 0.8481250000000001,
          "yanchor": "bottom",
          "yref": "paper"
         },
         {
          "font": {
           "size": 16
          },
          "showarrow": false,
          "text": "<b>Kubernetes</b><br>(JSD: 0.11)",
          "x": 0.5,
          "xanchor": "center",
          "xref": "paper",
          "y": 0.8481250000000001,
          "yanchor": "bottom",
          "yref": "paper"
         },
         {
          "font": {
           "size": 16
          },
          "showarrow": false,
          "text": "<b>Microservices</b><br>(JSD: 0.11)",
          "x": 0.708,
          "xanchor": "center",
          "xref": "paper",
          "y": 0.8481250000000001,
          "yanchor": "bottom",
          "yref": "paper"
         },
         {
          "font": {
           "size": 16
          },
          "showarrow": false,
          "text": "<b>Quality Assurance</b><br>(JSD: 0.11)",
          "x": 0.9159999999999999,
          "xanchor": "center",
          "xref": "paper",
          "y": 0.8481250000000001,
          "yanchor": "bottom",
          "yref": "paper"
         },
         {
          "font": {
           "size": 16
          },
          "showarrow": false,
          "text": "<b>Open Government</b><br>(JSD: 0.11)",
          "x": 0.08399999999999999,
          "xanchor": "center",
          "xref": "paper",
          "y": 0.8228125000000001,
          "yanchor": "bottom",
          "yref": "paper"
         },
         {
          "font": {
           "size": 16
          },
          "showarrow": false,
          "text": "<b>Off-Leash Dog Recreation</b><br>(JSD: 0.11)",
          "x": 0.292,
          "xanchor": "center",
          "xref": "paper",
          "y": 0.8228125000000001,
          "yanchor": "bottom",
          "yref": "paper"
         },
         {
          "font": {
           "size": 16
          },
          "showarrow": false,
          "text": "<b>Artificial Intelligence Programming</b><br>(JSD: 0.10)",
          "x": 0.5,
          "xanchor": "center",
          "xref": "paper",
          "y": 0.8228125000000001,
          "yanchor": "bottom",
          "yref": "paper"
         },
         {
          "font": {
           "size": 16
          },
          "showarrow": false,
          "text": "<b>Business Analytics</b><br>(JSD: 0.10)",
          "x": 0.708,
          "xanchor": "center",
          "xref": "paper",
          "y": 0.8228125000000001,
          "yanchor": "bottom",
          "yref": "paper"
         },
         {
          "font": {
           "size": 16
          },
          "showarrow": false,
          "text": "<b>Test Automation</b><br>(JSD: 0.10)",
          "x": 0.9159999999999999,
          "xanchor": "center",
          "xref": "paper",
          "y": 0.8228125000000001,
          "yanchor": "bottom",
          "yref": "paper"
         },
         {
          "font": {
           "size": 16
          },
          "showarrow": false,
          "text": "<b>Continuous Delivery</b><br>(JSD: 0.10)",
          "x": 0.08399999999999999,
          "xanchor": "center",
          "xref": "paper",
          "y": 0.7975000000000001,
          "yanchor": "bottom",
          "yref": "paper"
         },
         {
          "font": {
           "size": 16
          },
          "showarrow": false,
          "text": "<b>Software Quality</b><br>(JSD: 0.10)",
          "x": 0.292,
          "xanchor": "center",
          "xref": "paper",
          "y": 0.7975000000000001,
          "yanchor": "bottom",
          "yref": "paper"
         },
         {
          "font": {
           "size": 16
          },
          "showarrow": false,
          "text": "<b>Agile Leadership</b><br>(JSD: 0.10)",
          "x": 0.5,
          "xanchor": "center",
          "xref": "paper",
          "y": 0.7975000000000001,
          "yanchor": "bottom",
          "yref": "paper"
         },
         {
          "font": {
           "size": 16
          },
          "showarrow": false,
          "text": "<b>User Research</b><br>(JSD: 0.10)",
          "x": 0.708,
          "xanchor": "center",
          "xref": "paper",
          "y": 0.7975000000000001,
          "yanchor": "bottom",
          "yref": "paper"
         },
         {
          "font": {
           "size": 16
          },
          "showarrow": false,
          "text": "<b>Healthcare Innovation</b><br>(JSD: 0.10)",
          "x": 0.9159999999999999,
          "xanchor": "center",
          "xref": "paper",
          "y": 0.7975000000000001,
          "yanchor": "bottom",
          "yref": "paper"
         },
         {
          "font": {
           "size": 16
          },
          "showarrow": false,
          "text": "<b>Database Professionals</b><br>(JSD: 0.10)",
          "x": 0.08399999999999999,
          "xanchor": "center",
          "xref": "paper",
          "y": 0.7721875000000001,
          "yanchor": "bottom",
          "yref": "paper"
         },
         {
          "font": {
           "size": 16
          },
          "showarrow": false,
          "text": "<b>Agile Transformation</b><br>(JSD: 0.10)",
          "x": 0.292,
          "xanchor": "center",
          "xref": "paper",
          "y": 0.7721875000000001,
          "yanchor": "bottom",
          "yref": "paper"
         },
         {
          "font": {
           "size": 16
          },
          "showarrow": false,
          "text": "<b>PHP Application Development</b><br>(JSD: 0.10)",
          "x": 0.5,
          "xanchor": "center",
          "xref": "paper",
          "y": 0.7721875000000001,
          "yanchor": "bottom",
          "yref": "paper"
         },
         {
          "font": {
           "size": 16
          },
          "showarrow": false,
          "text": "<b>Open Data</b><br>(JSD: 0.10)",
          "x": 0.708,
          "xanchor": "center",
          "xref": "paper",
          "y": 0.7721875000000001,
          "yanchor": "bottom",
          "yref": "paper"
         },
         {
          "font": {
           "size": 16
          },
          "showarrow": false,
          "text": "<b>Product Design</b><br>(JSD: 0.09)",
          "x": 0.9159999999999999,
          "xanchor": "center",
          "xref": "paper",
          "y": 0.7721875000000001,
          "yanchor": "bottom",
          "yref": "paper"
         },
         {
          "font": {
           "size": 16
          },
          "showarrow": false,
          "text": "<b>Kanban</b><br>(JSD: 0.09)",
          "x": 0.08399999999999999,
          "xanchor": "center",
          "xref": "paper",
          "y": 0.7468750000000001,
          "yanchor": "bottom",
          "yref": "paper"
         },
         {
          "font": {
           "size": 16
          },
          "showarrow": false,
          "text": "<b>Lean UX</b><br>(JSD: 0.09)",
          "x": 0.292,
          "xanchor": "center",
          "xref": "paper",
          "y": 0.7468750000000001,
          "yanchor": "bottom",
          "yref": "paper"
         },
         {
          "font": {
           "size": 16
          },
          "showarrow": false,
          "text": "<b>High Scalability Computing</b><br>(JSD: 0.09)",
          "x": 0.5,
          "xanchor": "center",
          "xref": "paper",
          "y": 0.7468750000000001,
          "yanchor": "bottom",
          "yref": "paper"
         },
         {
          "font": {
           "size": 16
          },
          "showarrow": false,
          "text": "<b>Software Design</b><br>(JSD: 0.09)",
          "x": 0.708,
          "xanchor": "center",
          "xref": "paper",
          "y": 0.7468750000000001,
          "yanchor": "bottom",
          "yref": "paper"
         },
         {
          "font": {
           "size": 16
          },
          "showarrow": false,
          "text": "<b>High Performance Computing</b><br>(JSD: 0.09)",
          "x": 0.9159999999999999,
          "xanchor": "center",
          "xref": "paper",
          "y": 0.7468750000000001,
          "yanchor": "bottom",
          "yref": "paper"
         },
         {
          "font": {
           "size": 16
          },
          "showarrow": false,
          "text": "<b>Configuration Management</b><br>(JSD: 0.09)",
          "x": 0.08399999999999999,
          "xanchor": "center",
          "xref": "paper",
          "y": 0.7215625000000001,
          "yanchor": "bottom",
          "yref": "paper"
         },
         {
          "font": {
           "size": 16
          },
          "showarrow": false,
          "text": "<b>Financial Technology</b><br>(JSD: 0.09)",
          "x": 0.292,
          "xanchor": "center",
          "xref": "paper",
          "y": 0.7215625000000001,
          "yanchor": "bottom",
          "yref": "paper"
         },
         {
          "font": {
           "size": 16
          },
          "showarrow": false,
          "text": "<b>African American Women</b><br>(JSD: 0.09)",
          "x": 0.5,
          "xanchor": "center",
          "xref": "paper",
          "y": 0.7215625000000001,
          "yanchor": "bottom",
          "yref": "paper"
         },
         {
          "font": {
           "size": 16
          },
          "showarrow": false,
          "text": "<b>Angular 2</b><br>(JSD: 0.09)",
          "x": 0.708,
          "xanchor": "center",
          "xref": "paper",
          "y": 0.7215625000000001,
          "yanchor": "bottom",
          "yref": "paper"
         },
         {
          "font": {
           "size": 16
          },
          "showarrow": false,
          "text": "<b>AWS Programming and Tools</b><br>(JSD: 0.09)",
          "x": 0.9159999999999999,
          "xanchor": "center",
          "xref": "paper",
          "y": 0.7215625000000001,
          "yanchor": "bottom",
          "yref": "paper"
         },
         {
          "font": {
           "size": 16
          },
          "showarrow": false,
          "text": "<b>Containers</b><br>(JSD: 0.09)",
          "x": 0.08399999999999999,
          "xanchor": "center",
          "xref": "paper",
          "y": 0.6962500000000001,
          "yanchor": "bottom",
          "yref": "paper"
         },
         {
          "font": {
           "size": 16
          },
          "showarrow": false,
          "text": "<b>Active Dogs</b><br>(JSD: 0.09)",
          "x": 0.292,
          "xanchor": "center",
          "xref": "paper",
          "y": 0.6962500000000001,
          "yanchor": "bottom",
          "yref": "paper"
         },
         {
          "font": {
           "size": 16
          },
          "showarrow": false,
          "text": "<b>Statistical Computing</b><br>(JSD: 0.09)",
          "x": 0.5,
          "xanchor": "center",
          "xref": "paper",
          "y": 0.6962500000000001,
          "yanchor": "bottom",
          "yref": "paper"
         },
         {
          "font": {
           "size": 16
          },
          "showarrow": false,
          "text": "<b>Scaling Agile</b><br>(JSD: 0.09)",
          "x": 0.708,
          "xanchor": "center",
          "xref": "paper",
          "y": 0.6962500000000001,
          "yanchor": "bottom",
          "yref": "paper"
         },
         {
          "font": {
           "size": 16
          },
          "showarrow": false,
          "text": "<b>Test Driven Development</b><br>(JSD: 0.09)",
          "x": 0.9159999999999999,
          "xanchor": "center",
          "xref": "paper",
          "y": 0.6962500000000001,
          "yanchor": "bottom",
          "yref": "paper"
         },
         {
          "font": {
           "size": 16
          },
          "showarrow": false,
          "text": "<b>Real Life uses of AWS and cloud servers</b><br>(JSD: 0.09)",
          "x": 0.08399999999999999,
          "xanchor": "center",
          "xref": "paper",
          "y": 0.6709375000000001,
          "yanchor": "bottom",
          "yref": "paper"
         },
         {
          "font": {
           "size": 16
          },
          "showarrow": false,
          "text": "<b>EC2</b><br>(JSD: 0.09)",
          "x": 0.292,
          "xanchor": "center",
          "xref": "paper",
          "y": 0.6709375000000001,
          "yanchor": "bottom",
          "yref": "paper"
         },
         {
          "font": {
           "size": 16
          },
          "showarrow": false,
          "text": "<b>Usability</b><br>(JSD: 0.09)",
          "x": 0.5,
          "xanchor": "center",
          "xref": "paper",
          "y": 0.6709375000000001,
          "yanchor": "bottom",
          "yref": "paper"
         },
         {
          "font": {
           "size": 16
          },
          "showarrow": false,
          "text": "<b>Agile and Scrum</b><br>(JSD: 0.09)",
          "x": 0.708,
          "xanchor": "center",
          "xref": "paper",
          "y": 0.6709375000000001,
          "yanchor": "bottom",
          "yref": "paper"
         },
         {
          "font": {
           "size": 16
          },
          "showarrow": false,
          "text": "<b>Software Testing</b><br>(JSD: 0.09)",
          "x": 0.9159999999999999,
          "xanchor": "center",
          "xref": "paper",
          "y": 0.6709375000000001,
          "yanchor": "bottom",
          "yref": "paper"
         },
         {
          "font": {
           "size": 16
          },
          "showarrow": false,
          "text": "<b>Software Architecture</b><br>(JSD: 0.09)",
          "x": 0.08399999999999999,
          "xanchor": "center",
          "xref": "paper",
          "y": 0.645625,
          "yanchor": "bottom",
          "yref": "paper"
         },
         {
          "font": {
           "size": 16
          },
          "showarrow": false,
          "text": "<b>PaaS (Platform as a Service)</b><br>(JSD: 0.09)",
          "x": 0.292,
          "xanchor": "center",
          "xref": "paper",
          "y": 0.645625,
          "yanchor": "bottom",
          "yref": "paper"
         },
         {
          "font": {
           "size": 16
          },
          "showarrow": false,
          "text": "<b>Dog Hikes</b><br>(JSD: 0.09)",
          "x": 0.5,
          "xanchor": "center",
          "xref": "paper",
          "y": 0.645625,
          "yanchor": "bottom",
          "yref": "paper"
         },
         {
          "font": {
           "size": 16
          },
          "showarrow": false,
          "text": "<b>Women Programmers</b><br>(JSD: 0.09)",
          "x": 0.708,
          "xanchor": "center",
          "xref": "paper",
          "y": 0.645625,
          "yanchor": "bottom",
          "yref": "paper"
         },
         {
          "font": {
           "size": 16
          },
          "showarrow": false,
          "text": "<b>Infrastructure as Code</b><br>(JSD: 0.09)",
          "x": 0.9159999999999999,
          "xanchor": "center",
          "xref": "paper",
          "y": 0.645625,
          "yanchor": "bottom",
          "yref": "paper"
         },
         {
          "font": {
           "size": 16
          },
          "showarrow": false,
          "text": "<b>SaaS (Software as a Service)</b><br>(JSD: 0.09)",
          "x": 0.08399999999999999,
          "xanchor": "center",
          "xref": "paper",
          "y": 0.6203125000000002,
          "yanchor": "bottom",
          "yref": "paper"
         },
         {
          "font": {
           "size": 16
          },
          "showarrow": false,
          "text": "<b>R Project for Statistical Computing</b><br>(JSD: 0.08)",
          "x": 0.292,
          "xanchor": "center",
          "xref": "paper",
          "y": 0.6203125000000002,
          "yanchor": "bottom",
          "yref": "paper"
         },
         {
          "font": {
           "size": 16
          },
          "showarrow": false,
          "text": "<b>IaaS (Infrastructure as a Service)</b><br>(JSD: 0.08)",
          "x": 0.5,
          "xanchor": "center",
          "xref": "paper",
          "y": 0.6203125000000002,
          "yanchor": "bottom",
          "yref": "paper"
         },
         {
          "font": {
           "size": 16
          },
          "showarrow": false,
          "text": "<b>Agile Testing</b><br>(JSD: 0.08)",
          "x": 0.708,
          "xanchor": "center",
          "xref": "paper",
          "y": 0.6203125000000002,
          "yanchor": "bottom",
          "yref": "paper"
         },
         {
          "font": {
           "size": 16
          },
          "showarrow": false,
          "text": "<b>AWS S3</b><br>(JSD: 0.08)",
          "x": 0.9159999999999999,
          "xanchor": "center",
          "xref": "paper",
          "y": 0.6203125000000002,
          "yanchor": "bottom",
          "yref": "paper"
         },
         {
          "font": {
           "size": 16
          },
          "showarrow": false,
          "text": "<b>Agile Coaching</b><br>(JSD: 0.08)",
          "x": 0.08399999999999999,
          "xanchor": "center",
          "xref": "paper",
          "y": 0.5950000000000001,
          "yanchor": "bottom",
          "yref": "paper"
         },
         {
          "font": {
           "size": 16
          },
          "showarrow": false,
          "text": "<b>Extreme Programming</b><br>(JSD: 0.08)",
          "x": 0.292,
          "xanchor": "center",
          "xref": "paper",
          "y": 0.5950000000000001,
          "yanchor": "bottom",
          "yref": "paper"
         },
         {
          "font": {
           "size": 16
          },
          "showarrow": false,
          "text": "<b>Creative Real Estate Investing</b><br>(JSD: 0.08)",
          "x": 0.5,
          "xanchor": "center",
          "xref": "paper",
          "y": 0.5950000000000001,
          "yanchor": "bottom",
          "yref": "paper"
         },
         {
          "font": {
           "size": 16
          },
          "showarrow": false,
          "text": "<b>Information Architecture</b><br>(JSD: 0.08)",
          "x": 0.708,
          "xanchor": "center",
          "xref": "paper",
          "y": 0.5950000000000001,
          "yanchor": "bottom",
          "yref": "paper"
         },
         {
          "font": {
           "size": 16
          },
          "showarrow": false,
          "text": "<b>Database Development</b><br>(JSD: 0.08)",
          "x": 0.9159999999999999,
          "xanchor": "center",
          "xref": "paper",
          "y": 0.5950000000000001,
          "yanchor": "bottom",
          "yref": "paper"
         },
         {
          "font": {
           "size": 16
          },
          "showarrow": false,
          "text": "<b>Small Business Networking</b><br>(JSD: 0.08)",
          "x": 0.08399999999999999,
          "xanchor": "center",
          "xref": "paper",
          "y": 0.5696875,
          "yanchor": "bottom",
          "yref": "paper"
         },
         {
          "font": {
           "size": 16
          },
          "showarrow": false,
          "text": "<b>Sport Bikes</b><br>(JSD: 0.08)",
          "x": 0.292,
          "xanchor": "center",
          "xref": "paper",
          "y": 0.5696875,
          "yanchor": "bottom",
          "yref": "paper"
         },
         {
          "font": {
           "size": 16
          },
          "showarrow": false,
          "text": "<b>Go</b><br>(JSD: 0.08)",
          "x": 0.5,
          "xanchor": "center",
          "xref": "paper",
          "y": 0.5696875,
          "yanchor": "bottom",
          "yref": "paper"
         },
         {
          "font": {
           "size": 16
          },
          "showarrow": false,
          "text": "<b>Swift Language</b><br>(JSD: 0.08)",
          "x": 0.708,
          "xanchor": "center",
          "xref": "paper",
          "y": 0.5696875,
          "yanchor": "bottom",
          "yref": "paper"
         },
         {
          "font": {
           "size": 16
          },
          "showarrow": false,
          "text": "<b>HTML</b><br>(JSD: 0.08)",
          "x": 0.9159999999999999,
          "xanchor": "center",
          "xref": "paper",
          "y": 0.5696875,
          "yanchor": "bottom",
          "yref": "paper"
         },
         {
          "font": {
           "size": 16
          },
          "showarrow": false,
          "text": "<b>Digital Marketing</b><br>(JSD: 0.08)",
          "x": 0.08399999999999999,
          "xanchor": "center",
          "xref": "paper",
          "y": 0.544375,
          "yanchor": "bottom",
          "yref": "paper"
         },
         {
          "font": {
           "size": 16
          },
          "showarrow": false,
          "text": "<b>Ruby</b><br>(JSD: 0.08)",
          "x": 0.292,
          "xanchor": "center",
          "xref": "paper",
          "y": 0.544375,
          "yanchor": "bottom",
          "yref": "paper"
         },
         {
          "font": {
           "size": 16
          },
          "showarrow": false,
          "text": "<b>Computer Vision</b><br>(JSD: 0.08)",
          "x": 0.5,
          "xanchor": "center",
          "xref": "paper",
          "y": 0.544375,
          "yanchor": "bottom",
          "yref": "paper"
         },
         {
          "font": {
           "size": 16
          },
          "showarrow": false,
          "text": "<b>Amazon Web Services</b><br>(JSD: 0.08)",
          "x": 0.708,
          "xanchor": "center",
          "xref": "paper",
          "y": 0.544375,
          "yanchor": "bottom",
          "yref": "paper"
         },
         {
          "font": {
           "size": 16
          },
          "showarrow": false,
          "text": "<b>Dogs</b><br>(JSD: 0.08)",
          "x": 0.9159999999999999,
          "xanchor": "center",
          "xref": "paper",
          "y": 0.544375,
          "yanchor": "bottom",
          "yref": "paper"
         },
         {
          "font": {
           "size": 16
          },
          "showarrow": false,
          "text": "<b>Scala</b><br>(JSD: 0.08)",
          "x": 0.08399999999999999,
          "xanchor": "center",
          "xref": "paper",
          "y": 0.5190625000000001,
          "yanchor": "bottom",
          "yref": "paper"
         },
         {
          "font": {
           "size": 16
          },
          "showarrow": false,
          "text": "<b>Commercial Real Estate</b><br>(JSD: 0.08)",
          "x": 0.292,
          "xanchor": "center",
          "xref": "paper",
          "y": 0.5190625000000001,
          "yanchor": "bottom",
          "yref": "paper"
         },
         {
          "font": {
           "size": 16
          },
          "showarrow": false,
          "text": "<b>ASP.NET MVC</b><br>(JSD: 0.08)",
          "x": 0.5,
          "xanchor": "center",
          "xref": "paper",
          "y": 0.5190625000000001,
          "yanchor": "bottom",
          "yref": "paper"
         },
         {
          "font": {
           "size": 16
          },
          "showarrow": false,
          "text": "<b>Data Management</b><br>(JSD: 0.08)",
          "x": 0.708,
          "xanchor": "center",
          "xref": "paper",
          "y": 0.5190625000000001,
          "yanchor": "bottom",
          "yref": "paper"
         },
         {
          "font": {
           "size": 16
          },
          "showarrow": false,
          "text": "<b>Apache Spark</b><br>(JSD: 0.08)",
          "x": 0.9159999999999999,
          "xanchor": "center",
          "xref": "paper",
          "y": 0.5190625000000001,
          "yanchor": "bottom",
          "yref": "paper"
         },
         {
          "font": {
           "size": 16
          },
          "showarrow": false,
          "text": "<b>Scrum</b><br>(JSD: 0.08)",
          "x": 0.08399999999999999,
          "xanchor": "center",
          "xref": "paper",
          "y": 0.4937500000000001,
          "yanchor": "bottom",
          "yref": "paper"
         },
         {
          "font": {
           "size": 16
          },
          "showarrow": false,
          "text": "<b>Agile Project Management</b><br>(JSD: 0.08)",
          "x": 0.292,
          "xanchor": "center",
          "xref": "paper",
          "y": 0.4937500000000001,
          "yanchor": "bottom",
          "yref": "paper"
         },
         {
          "font": {
           "size": 16
          },
          "showarrow": false,
          "text": "<b>New Career</b><br>(JSD: 0.08)",
          "x": 0.5,
          "xanchor": "center",
          "xref": "paper",
          "y": 0.4937500000000001,
          "yanchor": "bottom",
          "yref": "paper"
         },
         {
          "font": {
           "size": 16
          },
          "showarrow": false,
          "text": "<b>Web Standards</b><br>(JSD: 0.08)",
          "x": 0.708,
          "xanchor": "center",
          "xref": "paper",
          "y": 0.4937500000000001,
          "yanchor": "bottom",
          "yref": "paper"
         },
         {
          "font": {
           "size": 16
          },
          "showarrow": false,
          "text": "<b>Virtualization</b><br>(JSD: 0.08)",
          "x": 0.9159999999999999,
          "xanchor": "center",
          "xref": "paper",
          "y": 0.4937500000000001,
          "yanchor": "bottom",
          "yref": "paper"
         },
         {
          "font": {
           "size": 16
          },
          "showarrow": false,
          "text": "<b>Digital Media</b><br>(JSD: 0.08)",
          "x": 0.08399999999999999,
          "xanchor": "center",
          "xref": "paper",
          "y": 0.46843750000000006,
          "yanchor": "bottom",
          "yref": "paper"
         },
         {
          "font": {
           "size": 16
          },
          "showarrow": false,
          "text": "<b>Buy & Hold Real Estate Investing</b><br>(JSD: 0.08)",
          "x": 0.292,
          "xanchor": "center",
          "xref": "paper",
          "y": 0.46843750000000006,
          "yanchor": "bottom",
          "yref": "paper"
         },
         {
          "font": {
           "size": 16
          },
          "showarrow": false,
          "text": "<b>React</b><br>(JSD: 0.08)",
          "x": 0.5,
          "xanchor": "center",
          "xref": "paper",
          "y": 0.46843750000000006,
          "yanchor": "bottom",
          "yref": "paper"
         },
         {
          "font": {
           "size": 16
          },
          "showarrow": false,
          "text": "<b>Design Thinking</b><br>(JSD: 0.08)",
          "x": 0.708,
          "xanchor": "center",
          "xref": "paper",
          "y": 0.46843750000000006,
          "yanchor": "bottom",
          "yref": "paper"
         },
         {
          "font": {
           "size": 16
          },
          "showarrow": false,
          "text": "<b>Software Engineering</b><br>(JSD: 0.08)",
          "x": 0.9159999999999999,
          "xanchor": "center",
          "xref": "paper",
          "y": 0.46843750000000006,
          "yanchor": "bottom",
          "yref": "paper"
         },
         {
          "font": {
           "size": 16
          },
          "showarrow": false,
          "text": "<b>Functional Programming</b><br>(JSD: 0.08)",
          "x": 0.08399999999999999,
          "xanchor": "center",
          "xref": "paper",
          "y": 0.4431250000000001,
          "yanchor": "bottom",
          "yref": "paper"
         },
         {
          "font": {
           "size": 16
          },
          "showarrow": false,
          "text": "<b>Freelance</b><br>(JSD: 0.08)",
          "x": 0.292,
          "xanchor": "center",
          "xref": "paper",
          "y": 0.4431250000000001,
          "yanchor": "bottom",
          "yref": "paper"
         },
         {
          "font": {
           "size": 16
          },
          "showarrow": false,
          "text": "<b>Founders</b><br>(JSD: 0.08)",
          "x": 0.5,
          "xanchor": "center",
          "xref": "paper",
          "y": 0.4431250000000001,
          "yanchor": "bottom",
          "yref": "paper"
         },
         {
          "font": {
           "size": 16
          },
          "showarrow": false,
          "text": "<b>Data Center and Operations Automation</b><br>(JSD: 0.07)",
          "x": 0.708,
          "xanchor": "center",
          "xref": "paper",
          "y": 0.4431250000000001,
          "yanchor": "bottom",
          "yref": "paper"
         },
         {
          "font": {
           "size": 16
          },
          "showarrow": false,
          "text": "<b>Docker</b><br>(JSD: 0.07)",
          "x": 0.9159999999999999,
          "xanchor": "center",
          "xref": "paper",
          "y": 0.4431250000000001,
          "yanchor": "bottom",
          "yref": "paper"
         },
         {
          "font": {
           "size": 16
          },
          "showarrow": false,
          "text": "<b>TensorFlow</b><br>(JSD: 0.07)",
          "x": 0.08399999999999999,
          "xanchor": "center",
          "xref": "paper",
          "y": 0.41781250000000003,
          "yanchor": "bottom",
          "yref": "paper"
         },
         {
          "font": {
           "size": 16
          },
          "showarrow": false,
          "text": "<b>Objective C</b><br>(JSD: 0.07)",
          "x": 0.292,
          "xanchor": "center",
          "xref": "paper",
          "y": 0.41781250000000003,
          "yanchor": "bottom",
          "yref": "paper"
         },
         {
          "font": {
           "size": 16
          },
          "showarrow": false,
          "text": "<b>ASP.NET</b><br>(JSD: 0.07)",
          "x": 0.5,
          "xanchor": "center",
          "xref": "paper",
          "y": 0.41781250000000003,
          "yanchor": "bottom",
          "yref": "paper"
         },
         {
          "font": {
           "size": 16
          },
          "showarrow": false,
          "text": "<b>Lean Startup</b><br>(JSD: 0.07)",
          "x": 0.708,
          "xanchor": "center",
          "xref": "paper",
          "y": 0.41781250000000003,
          "yanchor": "bottom",
          "yref": "paper"
         },
         {
          "font": {
           "size": 16
          },
          "showarrow": false,
          "text": "<b>Golang</b><br>(JSD: 0.07)",
          "x": 0.9159999999999999,
          "xanchor": "center",
          "xref": "paper",
          "y": 0.41781250000000003,
          "yanchor": "bottom",
          "yref": "paper"
         },
         {
          "font": {
           "size": 16
          },
          "showarrow": false,
          "text": "<b>User Experience</b><br>(JSD: 0.07)",
          "x": 0.08399999999999999,
          "xanchor": "center",
          "xref": "paper",
          "y": 0.39250000000000007,
          "yanchor": "bottom",
          "yref": "paper"
         },
         {
          "font": {
           "size": 16
          },
          "showarrow": false,
          "text": "<b>SQL Server</b><br>(JSD: 0.07)",
          "x": 0.292,
          "xanchor": "center",
          "xref": "paper",
          "y": 0.39250000000000007,
          "yanchor": "bottom",
          "yref": "paper"
         },
         {
          "font": {
           "size": 16
          },
          "showarrow": false,
          "text": "<b>iOS</b><br>(JSD: 0.07)",
          "x": 0.5,
          "xanchor": "center",
          "xref": "paper",
          "y": 0.39250000000000007,
          "yanchor": "bottom",
          "yref": "paper"
         },
         {
          "font": {
           "size": 16
          },
          "showarrow": false,
          "text": "<b>Web Application Security</b><br>(JSD: 0.07)",
          "x": 0.708,
          "xanchor": "center",
          "xref": "paper",
          "y": 0.39250000000000007,
          "yanchor": "bottom",
          "yref": "paper"
         },
         {
          "font": {
           "size": 16
          },
          "showarrow": false,
          "text": "<b>Interaction Design</b><br>(JSD: 0.07)",
          "x": 0.9159999999999999,
          "xanchor": "center",
          "xref": "paper",
          "y": 0.39250000000000007,
          "yanchor": "bottom",
          "yref": "paper"
         },
         {
          "font": {
           "size": 16
          },
          "showarrow": false,
          "text": "<b>Cloud Security</b><br>(JSD: 0.07)",
          "x": 0.08399999999999999,
          "xanchor": "center",
          "xref": "paper",
          "y": 0.36718750000000006,
          "yanchor": "bottom",
          "yref": "paper"
         },
         {
          "font": {
           "size": 16
          },
          "showarrow": false,
          "text": "<b>Office 365</b><br>(JSD: 0.07)",
          "x": 0.292,
          "xanchor": "center",
          "xref": "paper",
          "y": 0.36718750000000006,
          "yanchor": "bottom",
          "yref": "paper"
         },
         {
          "font": {
           "size": 16
          },
          "showarrow": false,
          "text": "<b>Explore: Agile Scrum XP Lean Kanban</b><br>(JSD: 0.07)",
          "x": 0.5,
          "xanchor": "center",
          "xref": "paper",
          "y": 0.36718750000000006,
          "yanchor": "bottom",
          "yref": "paper"
         },
         {
          "font": {
           "size": 16
          },
          "showarrow": false,
          "text": "<b>Pets</b><br>(JSD: 0.07)",
          "x": 0.708,
          "xanchor": "center",
          "xref": "paper",
          "y": 0.36718750000000006,
          "yanchor": "bottom",
          "yref": "paper"
         },
         {
          "font": {
           "size": 16
          },
          "showarrow": false,
          "text": "<b>First Time Real Estate Investing</b><br>(JSD: 0.07)",
          "x": 0.9159999999999999,
          "xanchor": "center",
          "xref": "paper",
          "y": 0.36718750000000006,
          "yanchor": "bottom",
          "yref": "paper"
         },
         {
          "font": {
           "size": 16
          },
          "showarrow": false,
          "text": "<b>Small Business Online Marketing</b><br>(JSD: 0.07)",
          "x": 0.08399999999999999,
          "xanchor": "center",
          "xref": "paper",
          "y": 0.34187500000000004,
          "yanchor": "bottom",
          "yref": "paper"
         },
         {
          "font": {
           "size": 16
          },
          "showarrow": false,
          "text": "<b>Business Development</b><br>(JSD: 0.07)",
          "x": 0.292,
          "xanchor": "center",
          "xref": "paper",
          "y": 0.34187500000000004,
          "yanchor": "bottom",
          "yref": "paper"
         },
         {
          "font": {
           "size": 16
          },
          "showarrow": false,
          "text": "<b>Motorcycle Touring</b><br>(JSD: 0.07)",
          "x": 0.5,
          "xanchor": "center",
          "xref": "paper",
          "y": 0.34187500000000004,
          "yanchor": "bottom",
          "yref": "paper"
         },
         {
          "font": {
           "size": 16
          },
          "showarrow": false,
          "text": "<b>Vue.js</b><br>(JSD: 0.07)",
          "x": 0.708,
          "xanchor": "center",
          "xref": "paper",
          "y": 0.34187500000000004,
          "yanchor": "bottom",
          "yref": "paper"
         },
         {
          "font": {
           "size": 16
          },
          "showarrow": false,
          "text": "<b>Windows Azure Platform</b><br>(JSD: 0.07)",
          "x": 0.9159999999999999,
          "xanchor": "center",
          "xref": "paper",
          "y": 0.34187500000000004,
          "yanchor": "bottom",
          "yref": "paper"
         },
         {
          "font": {
           "size": 16
          },
          "showarrow": false,
          "text": "<b>Real Estate Investing Education</b><br>(JSD: 0.07)",
          "x": 0.08399999999999999,
          "xanchor": "center",
          "xref": "paper",
          "y": 0.3165625000000001,
          "yanchor": "bottom",
          "yref": "paper"
         },
         {
          "font": {
           "size": 16
          },
          "showarrow": false,
          "text": "<b>Microsoft Azure</b><br>(JSD: 0.07)",
          "x": 0.292,
          "xanchor": "center",
          "xref": "paper",
          "y": 0.3165625000000001,
          "yanchor": "bottom",
          "yref": "paper"
         },
         {
          "font": {
           "size": 16
          },
          "showarrow": false,
          "text": "<b>NoSQL</b><br>(JSD: 0.07)",
          "x": 0.5,
          "xanchor": "center",
          "xref": "paper",
          "y": 0.3165625000000001,
          "yanchor": "bottom",
          "yref": "paper"
         },
         {
          "font": {
           "size": 16
          },
          "showarrow": false,
          "text": "<b>DevOps</b><br>(JSD: 0.07)",
          "x": 0.708,
          "xanchor": "center",
          "xref": "paper",
          "y": 0.3165625000000001,
          "yanchor": "bottom",
          "yref": "paper"
         },
         {
          "font": {
           "size": 16
          },
          "showarrow": false,
          "text": "<b>JavaScript Libraries</b><br>(JSD: 0.07)",
          "x": 0.9159999999999999,
          "xanchor": "center",
          "xref": "paper",
          "y": 0.3165625000000001,
          "yanchor": "bottom",
          "yref": "paper"
         },
         {
          "font": {
           "size": 16
          },
          "showarrow": false,
          "text": "<b>Lean Project Management</b><br>(JSD: 0.07)",
          "x": 0.08399999999999999,
          "xanchor": "center",
          "xref": "paper",
          "y": 0.29125,
          "yanchor": "bottom",
          "yref": "paper"
         },
         {
          "font": {
           "size": 16
          },
          "showarrow": false,
          "text": "<b>Backpacking and Camping</b><br>(JSD: 0.07)",
          "x": 0.292,
          "xanchor": "center",
          "xref": "paper",
          "y": 0.29125,
          "yanchor": "bottom",
          "yref": "paper"
         },
         {
          "font": {
           "size": 16
          },
          "showarrow": false,
          "text": "<b>Photo Walks</b><br>(JSD: 0.07)",
          "x": 0.5,
          "xanchor": "center",
          "xref": "paper",
          "y": 0.29125,
          "yanchor": "bottom",
          "yref": "paper"
         },
         {
          "font": {
           "size": 16
          },
          "showarrow": false,
          "text": "<b>Angel Investors</b><br>(JSD: 0.07)",
          "x": 0.708,
          "xanchor": "center",
          "xref": "paper",
          "y": 0.29125,
          "yanchor": "bottom",
          "yref": "paper"
         },
         {
          "font": {
           "size": 16
          },
          "showarrow": false,
          "text": "<b>SEO (Search Engine Optimization)</b><br>(JSD: 0.07)",
          "x": 0.9159999999999999,
          "xanchor": "center",
          "xref": "paper",
          "y": 0.29125,
          "yanchor": "bottom",
          "yref": "paper"
         },
         {
          "font": {
           "size": 16
          },
          "showarrow": false,
          "text": "<b>30s and 40s</b><br>(JSD: 0.06)",
          "x": 0.08399999999999999,
          "xanchor": "center",
          "xref": "paper",
          "y": 0.26593750000000005,
          "yanchor": "bottom",
          "yref": "paper"
         },
         {
          "font": {
           "size": 16
          },
          "showarrow": false,
          "text": "<b>Microsoft</b><br>(JSD: 0.06)",
          "x": 0.292,
          "xanchor": "center",
          "xref": "paper",
          "y": 0.26593750000000005,
          "yanchor": "bottom",
          "yref": "paper"
         },
         {
          "font": {
           "size": 16
          },
          "showarrow": false,
          "text": "<b>PHP</b><br>(JSD: 0.06)",
          "x": 0.5,
          "xanchor": "center",
          "xref": "paper",
          "y": 0.26593750000000005,
          "yanchor": "bottom",
          "yref": "paper"
         },
         {
          "font": {
           "size": 16
          },
          "showarrow": false,
          "text": "<b>C#</b><br>(JSD: 0.06)",
          "x": 0.708,
          "xanchor": "center",
          "xref": "paper",
          "y": 0.26593750000000005,
          "yanchor": "bottom",
          "yref": "paper"
         },
         {
          "font": {
           "size": 16
          },
          "showarrow": false,
          "text": "<b>UX Design</b><br>(JSD: 0.06)",
          "x": 0.9159999999999999,
          "xanchor": "center",
          "xref": "paper",
          "y": 0.26593750000000005,
          "yanchor": "bottom",
          "yref": "paper"
         },
         {
          "font": {
           "size": 16
          },
          "showarrow": false,
          "text": "<b>Mobile User Experience</b><br>(JSD: 0.06)",
          "x": 0.08399999999999999,
          "xanchor": "center",
          "xref": "paper",
          "y": 0.24062500000000003,
          "yanchor": "bottom",
          "yref": "paper"
         },
         {
          "font": {
           "size": 16
          },
          "showarrow": false,
          "text": "<b>Java</b><br>(JSD: 0.06)",
          "x": 0.292,
          "xanchor": "center",
          "xref": "paper",
          "y": 0.24062500000000003,
          "yanchor": "bottom",
          "yref": "paper"
         },
         {
          "font": {
           "size": 16
          },
          "showarrow": false,
          "text": "<b>Women in Technology</b><br>(JSD: 0.06)",
          "x": 0.5,
          "xanchor": "center",
          "xref": "paper",
          "y": 0.24062500000000003,
          "yanchor": "bottom",
          "yref": "paper"
         },
         {
          "font": {
           "size": 16
          },
          "showarrow": false,
          "text": "<b>SQL</b><br>(JSD: 0.06)",
          "x": 0.708,
          "xanchor": "center",
          "xref": "paper",
          "y": 0.24062500000000003,
          "yanchor": "bottom",
          "yref": "paper"
         },
         {
          "font": {
           "size": 16
          },
          "showarrow": false,
          "text": "<b>Motorcycle Riding</b><br>(JSD: 0.06)",
          "x": 0.9159999999999999,
          "xanchor": "center",
          "xref": "paper",
          "y": 0.24062500000000003,
          "yanchor": "bottom",
          "yref": "paper"
         },
         {
          "font": {
           "size": 16
          },
          "showarrow": false,
          "text": "<b>Smart Property</b><br>(JSD: 0.06)",
          "x": 0.08399999999999999,
          "xanchor": "center",
          "xref": "paper",
          "y": 0.21531250000000002,
          "yanchor": "bottom",
          "yref": "paper"
         },
         {
          "font": {
           "size": 16
          },
          "showarrow": false,
          "text": "<b>Bikers that like to ride.</b><br>(JSD: 0.06)",
          "x": 0.292,
          "xanchor": "center",
          "xref": "paper",
          "y": 0.21531250000000002,
          "yanchor": "bottom",
          "yref": "paper"
         },
         {
          "font": {
           "size": 16
          },
          "showarrow": false,
          "text": "<b>Business Referral Networking</b><br>(JSD: 0.06)",
          "x": 0.5,
          "xanchor": "center",
          "xref": "paper",
          "y": 0.21531250000000002,
          "yanchor": "bottom",
          "yref": "paper"
         },
         {
          "font": {
           "size": 16
          },
          "showarrow": false,
          "text": "<b>Cruiser Bikes</b><br>(JSD: 0.06)",
          "x": 0.708,
          "xanchor": "center",
          "xref": "paper",
          "y": 0.21531250000000002,
          "yanchor": "bottom",
          "yref": "paper"
         },
         {
          "font": {
           "size": 16
          },
          "showarrow": false,
          "text": "<b>Real Estate Agent</b><br>(JSD: 0.06)",
          "x": 0.9159999999999999,
          "xanchor": "center",
          "xref": "paper",
          "y": 0.21531250000000002,
          "yanchor": "bottom",
          "yref": "paper"
         },
         {
          "font": {
           "size": 16
          },
          "showarrow": false,
          "text": "<b>Software Security</b><br>(JSD: 0.06)",
          "x": 0.08399999999999999,
          "xanchor": "center",
          "xref": "paper",
          "y": 0.19,
          "yanchor": "bottom",
          "yref": "paper"
         },
         {
          "font": {
           "size": 16
          },
          "showarrow": false,
          "text": "<b>Microsoft Technology</b><br>(JSD: 0.06)",
          "x": 0.292,
          "xanchor": "center",
          "xref": "paper",
          "y": 0.19,
          "yanchor": "bottom",
          "yref": "paper"
         },
         {
          "font": {
           "size": 16
          },
          "showarrow": false,
          "text": "<b>Women Small Business Owners</b><br>(JSD: 0.06)",
          "x": 0.5,
          "xanchor": "center",
          "xref": "paper",
          "y": 0.19,
          "yanchor": "bottom",
          "yref": "paper"
         },
         {
          "font": {
           "size": 16
          },
          "showarrow": false,
          "text": "<b>Real Estate Investing Meetings</b><br>(JSD: 0.06)",
          "x": 0.708,
          "xanchor": "center",
          "xref": "paper",
          "y": 0.19,
          "yanchor": "bottom",
          "yref": "paper"
         },
         {
          "font": {
           "size": 16
          },
          "showarrow": false,
          "text": "<b>Real Estate Networking</b><br>(JSD: 0.06)",
          "x": 0.9159999999999999,
          "xanchor": "center",
          "xref": "paper",
          "y": 0.19,
          "yanchor": "bottom",
          "yref": "paper"
         },
         {
          "font": {
           "size": 16
          },
          "showarrow": false,
          "text": "<b>Applied Statistics</b><br>(JSD: 0.06)",
          "x": 0.08399999999999999,
          "xanchor": "center",
          "xref": "paper",
          "y": 0.16468750000000001,
          "yanchor": "bottom",
          "yref": "paper"
         },
         {
          "font": {
           "size": 16
          },
          "showarrow": false,
          "text": "<b>Functional Programming in Python</b><br>(JSD: 0.06)",
          "x": 0.292,
          "xanchor": "center",
          "xref": "paper",
          "y": 0.16468750000000001,
          "yanchor": "bottom",
          "yref": "paper"
         },
         {
          "font": {
           "size": 16
          },
          "showarrow": false,
          "text": "<b>Learn Programming</b><br>(JSD: 0.06)",
          "x": 0.5,
          "xanchor": "center",
          "xref": "paper",
          "y": 0.16468750000000001,
          "yanchor": "bottom",
          "yref": "paper"
         },
         {
          "font": {
           "size": 16
          },
          "showarrow": false,
          "text": "<b>Open Source Python</b><br>(JSD: 0.06)",
          "x": 0.708,
          "xanchor": "center",
          "xref": "paper",
          "y": 0.16468750000000001,
          "yanchor": "bottom",
          "yref": "paper"
         },
         {
          "font": {
           "size": 16
          },
          "showarrow": false,
          "text": "<b>Black Entrepreneurs</b><br>(JSD: 0.06)",
          "x": 0.9159999999999999,
          "xanchor": "center",
          "xref": "paper",
          "y": 0.16468750000000001,
          "yanchor": "bottom",
          "yref": "paper"
         },
         {
          "font": {
           "size": 16
          },
          "showarrow": false,
          "text": "<b>Service Design</b><br>(JSD: 0.06)",
          "x": 0.08399999999999999,
          "xanchor": "center",
          "xref": "paper",
          "y": 0.139375,
          "yanchor": "bottom",
          "yref": "paper"
         },
         {
          "font": {
           "size": 16
          },
          "showarrow": false,
          "text": "<b>Real Estate Foreclosures</b><br>(JSD: 0.06)",
          "x": 0.292,
          "xanchor": "center",
          "xref": "paper",
          "y": 0.139375,
          "yanchor": "bottom",
          "yref": "paper"
         },
         {
          "font": {
           "size": 16
          },
          "showarrow": false,
          "text": "<b>Information Technology</b><br>(JSD: 0.06)",
          "x": 0.5,
          "xanchor": "center",
          "xref": "paper",
          "y": 0.139375,
          "yanchor": "bottom",
          "yref": "paper"
         },
         {
          "font": {
           "size": 16
          },
          "showarrow": false,
          "text": "<b>Wholesaling Real Estate</b><br>(JSD: 0.06)",
          "x": 0.708,
          "xanchor": "center",
          "xref": "paper",
          "y": 0.139375,
          "yanchor": "bottom",
          "yref": "paper"
         },
         {
          "font": {
           "size": 16
          },
          "showarrow": false,
          "text": "<b>Learning to Code</b><br>(JSD: 0.06)",
          "x": 0.9159999999999999,
          "xanchor": "center",
          "xref": "paper",
          "y": 0.139375,
          "yanchor": "bottom",
          "yref": "paper"
         },
         {
          "font": {
           "size": 16
          },
          "showarrow": false,
          "text": "<b>E-Commerce</b><br>(JSD: 0.06)",
          "x": 0.08399999999999999,
          "xanchor": "center",
          "xref": "paper",
          "y": 0.11406250000000001,
          "yanchor": "bottom",
          "yref": "paper"
         },
         {
          "font": {
           "size": 16
          },
          "showarrow": false,
          "text": "<b>Paris</b><br>(JSD: 0.06)",
          "x": 0.292,
          "xanchor": "center",
          "xref": "paper",
          "y": 0.11406250000000001,
          "yanchor": "bottom",
          "yref": "paper"
         },
         {
          "font": {
           "size": 16
          },
          "showarrow": false,
          "text": "<b>Building an Online Business</b><br>(JSD: 0.06)",
          "x": 0.5,
          "xanchor": "center",
          "xref": "paper",
          "y": 0.11406250000000001,
          "yanchor": "bottom",
          "yref": "paper"
         },
         {
          "font": {
           "size": 16
          },
          "showarrow": false,
          "text": "<b>Clubbing</b><br>(JSD: 0.06)",
          "x": 0.708,
          "xanchor": "center",
          "xref": "paper",
          "y": 0.11406250000000001,
          "yanchor": "bottom",
          "yref": "paper"
         },
         {
          "font": {
           "size": 16
          },
          "showarrow": false,
          "text": "<b>Adventure Hiking</b><br>(JSD: 0.06)",
          "x": 0.9159999999999999,
          "xanchor": "center",
          "xref": "paper",
          "y": 0.11406250000000001,
          "yanchor": "bottom",
          "yref": "paper"
         },
         {
          "font": {
           "size": 16
          },
          "showarrow": false,
          "text": "<b>.NET</b><br>(JSD: 0.06)",
          "x": 0.08399999999999999,
          "xanchor": "center",
          "xref": "paper",
          "y": 0.08875000000000001,
          "yanchor": "bottom",
          "yref": "paper"
         },
         {
          "font": {
           "size": 16
          },
          "showarrow": false,
          "text": "<b>Machine Learning & Artificial Intelligence</b><br>(JSD: 0.06)",
          "x": 0.292,
          "xanchor": "center",
          "xref": "paper",
          "y": 0.08875000000000001,
          "yanchor": "bottom",
          "yref": "paper"
         },
         {
          "font": {
           "size": 16
          },
          "showarrow": false,
          "text": "<b>Azure</b><br>(JSD: 0.06)",
          "x": 0.5,
          "xanchor": "center",
          "xref": "paper",
          "y": 0.08875000000000001,
          "yanchor": "bottom",
          "yref": "paper"
         },
         {
          "font": {
           "size": 16
          },
          "showarrow": false,
          "text": "<b>Animals</b><br>(JSD: 0.06)",
          "x": 0.708,
          "xanchor": "center",
          "xref": "paper",
          "y": 0.08875000000000001,
          "yanchor": "bottom",
          "yref": "paper"
         },
         {
          "font": {
           "size": 16
          },
          "showarrow": false,
          "text": "<b>User Interface Design</b><br>(JSD: 0.06)",
          "x": 0.9159999999999999,
          "xanchor": "center",
          "xref": "paper",
          "y": 0.08875000000000001,
          "yanchor": "bottom",
          "yref": "paper"
         },
         {
          "font": {
           "size": 16
          },
          "showarrow": false,
          "text": "<b>Singles 20's  & 30's</b><br>(JSD: 0.06)",
          "x": 0.08399999999999999,
          "xanchor": "center",
          "xref": "paper",
          "y": 0.06343750000000001,
          "yanchor": "bottom",
          "yref": "paper"
         },
         {
          "font": {
           "size": 16
          },
          "showarrow": false,
          "text": "<b>Networking for Job Seekers</b><br>(JSD: 0.06)",
          "x": 0.292,
          "xanchor": "center",
          "xref": "paper",
          "y": 0.06343750000000001,
          "yanchor": "bottom",
          "yref": "paper"
         },
         {
          "font": {
           "size": 16
          },
          "showarrow": false,
          "text": "<b>Cybersecurity</b><br>(JSD: 0.06)",
          "x": 0.5,
          "xanchor": "center",
          "xref": "paper",
          "y": 0.06343750000000001,
          "yanchor": "bottom",
          "yref": "paper"
         },
         {
          "font": {
           "size": 16
          },
          "showarrow": false,
          "text": "<b>JQuery</b><br>(JSD: 0.05)",
          "x": 0.708,
          "xanchor": "center",
          "xref": "paper",
          "y": 0.06343750000000001,
          "yanchor": "bottom",
          "yref": "paper"
         },
         {
          "font": {
           "size": 16
          },
          "showarrow": false,
          "text": "<b>Landlords</b><br>(JSD: 0.05)",
          "x": 0.9159999999999999,
          "xanchor": "center",
          "xref": "paper",
          "y": 0.06343750000000001,
          "yanchor": "bottom",
          "yref": "paper"
         },
         {
          "font": {
           "size": 16
          },
          "showarrow": false,
          "text": "<b>System Administration</b><br>(JSD: 0.05)",
          "x": 0.08399999999999999,
          "xanchor": "center",
          "xref": "paper",
          "y": 0.038125,
          "yanchor": "bottom",
          "yref": "paper"
         },
         {
          "font": {
           "size": 16
          },
          "showarrow": false,
          "text": "<b>Ruby On Rails</b><br>(JSD: 0.05)",
          "x": 0.292,
          "xanchor": "center",
          "xref": "paper",
          "y": 0.038125,
          "yanchor": "bottom",
          "yref": "paper"
         },
         {
          "font": {
           "size": 16
          },
          "showarrow": false,
          "text": "<b>UI Design</b><br>(JSD: 0.05)",
          "x": 0.5,
          "xanchor": "center",
          "xref": "paper",
          "y": 0.038125,
          "yanchor": "bottom",
          "yref": "paper"
         },
         {
          "font": {
           "size": 16
          },
          "showarrow": false,
          "text": "<b>Network Security</b><br>(JSD: 0.05)",
          "x": 0.708,
          "xanchor": "center",
          "xref": "paper",
          "y": 0.038125,
          "yanchor": "bottom",
          "yref": "paper"
         },
         {
          "font": {
           "size": 16
          },
          "showarrow": false,
          "text": "<b>JavaScript</b><br>(JSD: 0.05)",
          "x": 0.9159999999999999,
          "xanchor": "center",
          "xref": "paper",
          "y": 0.038125,
          "yanchor": "bottom",
          "yref": "paper"
         },
         {
          "font": {
           "size": 16
          },
          "showarrow": false,
          "text": "<b>Black Women</b><br>(JSD: 0.05)",
          "x": 0.08399999999999999,
          "xanchor": "center",
          "xref": "paper",
          "y": 0.0128125,
          "yanchor": "bottom",
          "yref": "paper"
         },
         {
          "font": {
           "size": 16
          },
          "showarrow": false,
          "text": "<b>Venture Capital</b><br>(JSD: 0.05)",
          "x": 0.292,
          "xanchor": "center",
          "xref": "paper",
          "y": 0.0128125,
          "yanchor": "bottom",
          "yref": "paper"
         },
         {
          "font": {
           "size": 16
          },
          "showarrow": false,
          "text": "<b>Beginner Real Estate Investing</b><br>(JSD: 0.05)",
          "x": 0.5,
          "xanchor": "center",
          "xref": "paper",
          "y": 0.0128125,
          "yanchor": "bottom",
          "yref": "paper"
         },
         {
          "font": {
           "size": 16
          },
          "showarrow": false,
          "text": "<b>Real Estate Investment Education</b><br>(JSD: 0.05)",
          "x": 0.708,
          "xanchor": "center",
          "xref": "paper",
          "y": 0.0128125,
          "yanchor": "bottom",
          "yref": "paper"
         },
         {
          "font": {
           "size": 16
          },
          "showarrow": false,
          "text": "<b>Programming Languages</b><br>(JSD: 0.05)",
          "x": 0.9159999999999999,
          "xanchor": "center",
          "xref": "paper",
          "y": 0.0128125,
          "yanchor": "bottom",
          "yref": "paper"
         }
        ],
        "height": 12000,
        "showlegend": false,
        "title": {
         "text": "Most characteristic weekday dist"
        },
        "width": 1500,
        "xaxis": {
         "anchor": "y",
         "domain": [
          0,
          0.16799999999999998
         ]
        },
        "xaxis10": {
         "anchor": "free",
         "domain": [
          0.832,
          1
         ],
         "position": 0.9618750000000001
        },
        "xaxis100": {
         "anchor": "free",
         "domain": [
          0.832,
          1
         ],
         "position": 0.5062500000000001
        },
        "xaxis101": {
         "anchor": "y21",
         "domain": [
          0,
          0.16799999999999998
         ]
        },
        "xaxis102": {
         "anchor": "free",
         "domain": [
          0.208,
          0.376
         ],
         "position": 0.4809375000000001
        },
        "xaxis103": {
         "anchor": "free",
         "domain": [
          0.416,
          0.584
         ],
         "position": 0.4809375000000001
        },
        "xaxis104": {
         "anchor": "free",
         "domain": [
          0.624,
          0.792
         ],
         "position": 0.4809375000000001
        },
        "xaxis105": {
         "anchor": "free",
         "domain": [
          0.832,
          1
         ],
         "position": 0.4809375000000001
        },
        "xaxis106": {
         "anchor": "y22",
         "domain": [
          0,
          0.16799999999999998
         ]
        },
        "xaxis107": {
         "anchor": "free",
         "domain": [
          0.208,
          0.376
         ],
         "position": 0.45562500000000006
        },
        "xaxis108": {
         "anchor": "free",
         "domain": [
          0.416,
          0.584
         ],
         "position": 0.45562500000000006
        },
        "xaxis109": {
         "anchor": "free",
         "domain": [
          0.624,
          0.792
         ],
         "position": 0.45562500000000006
        },
        "xaxis11": {
         "anchor": "y3",
         "domain": [
          0,
          0.16799999999999998
         ]
        },
        "xaxis110": {
         "anchor": "free",
         "domain": [
          0.832,
          1
         ],
         "position": 0.45562500000000006
        },
        "xaxis111": {
         "anchor": "y23",
         "domain": [
          0,
          0.16799999999999998
         ]
        },
        "xaxis112": {
         "anchor": "free",
         "domain": [
          0.208,
          0.376
         ],
         "position": 0.4303125000000001
        },
        "xaxis113": {
         "anchor": "free",
         "domain": [
          0.416,
          0.584
         ],
         "position": 0.4303125000000001
        },
        "xaxis114": {
         "anchor": "free",
         "domain": [
          0.624,
          0.792
         ],
         "position": 0.4303125000000001
        },
        "xaxis115": {
         "anchor": "free",
         "domain": [
          0.832,
          1
         ],
         "position": 0.4303125000000001
        },
        "xaxis116": {
         "anchor": "y24",
         "domain": [
          0,
          0.16799999999999998
         ]
        },
        "xaxis117": {
         "anchor": "free",
         "domain": [
          0.208,
          0.376
         ],
         "position": 0.405
        },
        "xaxis118": {
         "anchor": "free",
         "domain": [
          0.416,
          0.584
         ],
         "position": 0.405
        },
        "xaxis119": {
         "anchor": "free",
         "domain": [
          0.624,
          0.792
         ],
         "position": 0.405
        },
        "xaxis12": {
         "anchor": "free",
         "domain": [
          0.208,
          0.376
         ],
         "position": 0.9365625000000002
        },
        "xaxis120": {
         "anchor": "free",
         "domain": [
          0.832,
          1
         ],
         "position": 0.405
        },
        "xaxis121": {
         "anchor": "y25",
         "domain": [
          0,
          0.16799999999999998
         ]
        },
        "xaxis122": {
         "anchor": "free",
         "domain": [
          0.208,
          0.376
         ],
         "position": 0.37968750000000007
        },
        "xaxis123": {
         "anchor": "free",
         "domain": [
          0.416,
          0.584
         ],
         "position": 0.37968750000000007
        },
        "xaxis124": {
         "anchor": "free",
         "domain": [
          0.624,
          0.792
         ],
         "position": 0.37968750000000007
        },
        "xaxis125": {
         "anchor": "free",
         "domain": [
          0.832,
          1
         ],
         "position": 0.37968750000000007
        },
        "xaxis126": {
         "anchor": "y26",
         "domain": [
          0,
          0.16799999999999998
         ]
        },
        "xaxis127": {
         "anchor": "free",
         "domain": [
          0.208,
          0.376
         ],
         "position": 0.35437500000000005
        },
        "xaxis128": {
         "anchor": "free",
         "domain": [
          0.416,
          0.584
         ],
         "position": 0.35437500000000005
        },
        "xaxis129": {
         "anchor": "free",
         "domain": [
          0.624,
          0.792
         ],
         "position": 0.35437500000000005
        },
        "xaxis13": {
         "anchor": "free",
         "domain": [
          0.416,
          0.584
         ],
         "position": 0.9365625000000002
        },
        "xaxis130": {
         "anchor": "free",
         "domain": [
          0.832,
          1
         ],
         "position": 0.35437500000000005
        },
        "xaxis131": {
         "anchor": "y27",
         "domain": [
          0,
          0.16799999999999998
         ]
        },
        "xaxis132": {
         "anchor": "free",
         "domain": [
          0.208,
          0.376
         ],
         "position": 0.32906250000000004
        },
        "xaxis133": {
         "anchor": "free",
         "domain": [
          0.416,
          0.584
         ],
         "position": 0.32906250000000004
        },
        "xaxis134": {
         "anchor": "free",
         "domain": [
          0.624,
          0.792
         ],
         "position": 0.32906250000000004
        },
        "xaxis135": {
         "anchor": "free",
         "domain": [
          0.832,
          1
         ],
         "position": 0.32906250000000004
        },
        "xaxis136": {
         "anchor": "y28",
         "domain": [
          0,
          0.16799999999999998
         ]
        },
        "xaxis137": {
         "anchor": "free",
         "domain": [
          0.208,
          0.376
         ],
         "position": 0.3037500000000001
        },
        "xaxis138": {
         "anchor": "free",
         "domain": [
          0.416,
          0.584
         ],
         "position": 0.3037500000000001
        },
        "xaxis139": {
         "anchor": "free",
         "domain": [
          0.624,
          0.792
         ],
         "position": 0.3037500000000001
        },
        "xaxis14": {
         "anchor": "free",
         "domain": [
          0.624,
          0.792
         ],
         "position": 0.9365625000000002
        },
        "xaxis140": {
         "anchor": "free",
         "domain": [
          0.832,
          1
         ],
         "position": 0.3037500000000001
        },
        "xaxis141": {
         "anchor": "y29",
         "domain": [
          0,
          0.16799999999999998
         ]
        },
        "xaxis142": {
         "anchor": "free",
         "domain": [
          0.208,
          0.376
         ],
         "position": 0.2784375
        },
        "xaxis143": {
         "anchor": "free",
         "domain": [
          0.416,
          0.584
         ],
         "position": 0.2784375
        },
        "xaxis144": {
         "anchor": "free",
         "domain": [
          0.624,
          0.792
         ],
         "position": 0.2784375
        },
        "xaxis145": {
         "anchor": "free",
         "domain": [
          0.832,
          1
         ],
         "position": 0.2784375
        },
        "xaxis146": {
         "anchor": "y30",
         "domain": [
          0,
          0.16799999999999998
         ]
        },
        "xaxis147": {
         "anchor": "free",
         "domain": [
          0.208,
          0.376
         ],
         "position": 0.25312500000000004
        },
        "xaxis148": {
         "anchor": "free",
         "domain": [
          0.416,
          0.584
         ],
         "position": 0.25312500000000004
        },
        "xaxis149": {
         "anchor": "free",
         "domain": [
          0.624,
          0.792
         ],
         "position": 0.25312500000000004
        },
        "xaxis15": {
         "anchor": "free",
         "domain": [
          0.832,
          1
         ],
         "position": 0.9365625000000002
        },
        "xaxis150": {
         "anchor": "free",
         "domain": [
          0.832,
          1
         ],
         "position": 0.25312500000000004
        },
        "xaxis151": {
         "anchor": "y31",
         "domain": [
          0,
          0.16799999999999998
         ]
        },
        "xaxis152": {
         "anchor": "free",
         "domain": [
          0.208,
          0.376
         ],
         "position": 0.22781250000000003
        },
        "xaxis153": {
         "anchor": "free",
         "domain": [
          0.416,
          0.584
         ],
         "position": 0.22781250000000003
        },
        "xaxis154": {
         "anchor": "free",
         "domain": [
          0.624,
          0.792
         ],
         "position": 0.22781250000000003
        },
        "xaxis155": {
         "anchor": "free",
         "domain": [
          0.832,
          1
         ],
         "position": 0.22781250000000003
        },
        "xaxis156": {
         "anchor": "y32",
         "domain": [
          0,
          0.16799999999999998
         ]
        },
        "xaxis157": {
         "anchor": "free",
         "domain": [
          0.208,
          0.376
         ],
         "position": 0.2025
        },
        "xaxis158": {
         "anchor": "free",
         "domain": [
          0.416,
          0.584
         ],
         "position": 0.2025
        },
        "xaxis159": {
         "anchor": "free",
         "domain": [
          0.624,
          0.792
         ],
         "position": 0.2025
        },
        "xaxis16": {
         "anchor": "y4",
         "domain": [
          0,
          0.16799999999999998
         ]
        },
        "xaxis160": {
         "anchor": "free",
         "domain": [
          0.832,
          1
         ],
         "position": 0.2025
        },
        "xaxis161": {
         "anchor": "y33",
         "domain": [
          0,
          0.16799999999999998
         ]
        },
        "xaxis162": {
         "anchor": "free",
         "domain": [
          0.208,
          0.376
         ],
         "position": 0.1771875
        },
        "xaxis163": {
         "anchor": "free",
         "domain": [
          0.416,
          0.584
         ],
         "position": 0.1771875
        },
        "xaxis164": {
         "anchor": "free",
         "domain": [
          0.624,
          0.792
         ],
         "position": 0.1771875
        },
        "xaxis165": {
         "anchor": "free",
         "domain": [
          0.832,
          1
         ],
         "position": 0.1771875
        },
        "xaxis166": {
         "anchor": "y34",
         "domain": [
          0,
          0.16799999999999998
         ]
        },
        "xaxis167": {
         "anchor": "free",
         "domain": [
          0.208,
          0.376
         ],
         "position": 0.151875
        },
        "xaxis168": {
         "anchor": "free",
         "domain": [
          0.416,
          0.584
         ],
         "position": 0.151875
        },
        "xaxis169": {
         "anchor": "free",
         "domain": [
          0.624,
          0.792
         ],
         "position": 0.151875
        },
        "xaxis17": {
         "anchor": "free",
         "domain": [
          0.208,
          0.376
         ],
         "position": 0.9112500000000001
        },
        "xaxis170": {
         "anchor": "free",
         "domain": [
          0.832,
          1
         ],
         "position": 0.151875
        },
        "xaxis171": {
         "anchor": "y35",
         "domain": [
          0,
          0.16799999999999998
         ]
        },
        "xaxis172": {
         "anchor": "free",
         "domain": [
          0.208,
          0.376
         ],
         "position": 0.1265625
        },
        "xaxis173": {
         "anchor": "free",
         "domain": [
          0.416,
          0.584
         ],
         "position": 0.1265625
        },
        "xaxis174": {
         "anchor": "free",
         "domain": [
          0.624,
          0.792
         ],
         "position": 0.1265625
        },
        "xaxis175": {
         "anchor": "free",
         "domain": [
          0.832,
          1
         ],
         "position": 0.1265625
        },
        "xaxis176": {
         "anchor": "y36",
         "domain": [
          0,
          0.16799999999999998
         ]
        },
        "xaxis177": {
         "anchor": "free",
         "domain": [
          0.208,
          0.376
         ],
         "position": 0.10125
        },
        "xaxis178": {
         "anchor": "free",
         "domain": [
          0.416,
          0.584
         ],
         "position": 0.10125
        },
        "xaxis179": {
         "anchor": "free",
         "domain": [
          0.624,
          0.792
         ],
         "position": 0.10125
        },
        "xaxis18": {
         "anchor": "free",
         "domain": [
          0.416,
          0.584
         ],
         "position": 0.9112500000000001
        },
        "xaxis180": {
         "anchor": "free",
         "domain": [
          0.832,
          1
         ],
         "position": 0.10125
        },
        "xaxis181": {
         "anchor": "y37",
         "domain": [
          0,
          0.16799999999999998
         ]
        },
        "xaxis182": {
         "anchor": "free",
         "domain": [
          0.208,
          0.376
         ],
         "position": 0.0759375
        },
        "xaxis183": {
         "anchor": "free",
         "domain": [
          0.416,
          0.584
         ],
         "position": 0.0759375
        },
        "xaxis184": {
         "anchor": "free",
         "domain": [
          0.624,
          0.792
         ],
         "position": 0.0759375
        },
        "xaxis185": {
         "anchor": "free",
         "domain": [
          0.832,
          1
         ],
         "position": 0.0759375
        },
        "xaxis186": {
         "anchor": "y38",
         "domain": [
          0,
          0.16799999999999998
         ]
        },
        "xaxis187": {
         "anchor": "free",
         "domain": [
          0.208,
          0.376
         ],
         "position": 0.050625
        },
        "xaxis188": {
         "anchor": "free",
         "domain": [
          0.416,
          0.584
         ],
         "position": 0.050625
        },
        "xaxis189": {
         "anchor": "free",
         "domain": [
          0.624,
          0.792
         ],
         "position": 0.050625
        },
        "xaxis19": {
         "anchor": "free",
         "domain": [
          0.624,
          0.792
         ],
         "position": 0.9112500000000001
        },
        "xaxis190": {
         "anchor": "free",
         "domain": [
          0.832,
          1
         ],
         "position": 0.050625
        },
        "xaxis191": {
         "anchor": "y39",
         "domain": [
          0,
          0.16799999999999998
         ]
        },
        "xaxis192": {
         "anchor": "free",
         "domain": [
          0.208,
          0.376
         ],
         "position": 0.0253125
        },
        "xaxis193": {
         "anchor": "free",
         "domain": [
          0.416,
          0.584
         ],
         "position": 0.0253125
        },
        "xaxis194": {
         "anchor": "free",
         "domain": [
          0.624,
          0.792
         ],
         "position": 0.0253125
        },
        "xaxis195": {
         "anchor": "free",
         "domain": [
          0.832,
          1
         ],
         "position": 0.0253125
        },
        "xaxis196": {
         "anchor": "y40",
         "domain": [
          0,
          0.16799999999999998
         ]
        },
        "xaxis197": {
         "anchor": "free",
         "domain": [
          0.208,
          0.376
         ],
         "position": 0
        },
        "xaxis198": {
         "anchor": "free",
         "domain": [
          0.416,
          0.584
         ],
         "position": 0
        },
        "xaxis199": {
         "anchor": "free",
         "domain": [
          0.624,
          0.792
         ],
         "position": 0
        },
        "xaxis2": {
         "anchor": "free",
         "domain": [
          0.208,
          0.376
         ],
         "position": 0.9871875000000001
        },
        "xaxis20": {
         "anchor": "free",
         "domain": [
          0.832,
          1
         ],
         "position": 0.9112500000000001
        },
        "xaxis200": {
         "anchor": "free",
         "domain": [
          0.832,
          1
         ],
         "position": 0
        },
        "xaxis21": {
         "anchor": "y5",
         "domain": [
          0,
          0.16799999999999998
         ]
        },
        "xaxis22": {
         "anchor": "free",
         "domain": [
          0.208,
          0.376
         ],
         "position": 0.8859375
        },
        "xaxis23": {
         "anchor": "free",
         "domain": [
          0.416,
          0.584
         ],
         "position": 0.8859375
        },
        "xaxis24": {
         "anchor": "free",
         "domain": [
          0.624,
          0.792
         ],
         "position": 0.8859375
        },
        "xaxis25": {
         "anchor": "free",
         "domain": [
          0.832,
          1
         ],
         "position": 0.8859375
        },
        "xaxis26": {
         "anchor": "y6",
         "domain": [
          0,
          0.16799999999999998
         ]
        },
        "xaxis27": {
         "anchor": "free",
         "domain": [
          0.208,
          0.376
         ],
         "position": 0.8606250000000002
        },
        "xaxis28": {
         "anchor": "free",
         "domain": [
          0.416,
          0.584
         ],
         "position": 0.8606250000000002
        },
        "xaxis29": {
         "anchor": "free",
         "domain": [
          0.624,
          0.792
         ],
         "position": 0.8606250000000002
        },
        "xaxis3": {
         "anchor": "free",
         "domain": [
          0.416,
          0.584
         ],
         "position": 0.9871875000000001
        },
        "xaxis30": {
         "anchor": "free",
         "domain": [
          0.832,
          1
         ],
         "position": 0.8606250000000002
        },
        "xaxis31": {
         "anchor": "y7",
         "domain": [
          0,
          0.16799999999999998
         ]
        },
        "xaxis32": {
         "anchor": "free",
         "domain": [
          0.208,
          0.376
         ],
         "position": 0.8353125000000001
        },
        "xaxis33": {
         "anchor": "free",
         "domain": [
          0.416,
          0.584
         ],
         "position": 0.8353125000000001
        },
        "xaxis34": {
         "anchor": "free",
         "domain": [
          0.624,
          0.792
         ],
         "position": 0.8353125000000001
        },
        "xaxis35": {
         "anchor": "free",
         "domain": [
          0.832,
          1
         ],
         "position": 0.8353125000000001
        },
        "xaxis36": {
         "anchor": "y8",
         "domain": [
          0,
          0.16799999999999998
         ]
        },
        "xaxis37": {
         "anchor": "free",
         "domain": [
          0.208,
          0.376
         ],
         "position": 0.81
        },
        "xaxis38": {
         "anchor": "free",
         "domain": [
          0.416,
          0.584
         ],
         "position": 0.81
        },
        "xaxis39": {
         "anchor": "free",
         "domain": [
          0.624,
          0.792
         ],
         "position": 0.81
        },
        "xaxis4": {
         "anchor": "free",
         "domain": [
          0.624,
          0.792
         ],
         "position": 0.9871875000000001
        },
        "xaxis40": {
         "anchor": "free",
         "domain": [
          0.832,
          1
         ],
         "position": 0.81
        },
        "xaxis41": {
         "anchor": "y9",
         "domain": [
          0,
          0.16799999999999998
         ]
        },
        "xaxis42": {
         "anchor": "free",
         "domain": [
          0.208,
          0.376
         ],
         "position": 0.7846875000000001
        },
        "xaxis43": {
         "anchor": "free",
         "domain": [
          0.416,
          0.584
         ],
         "position": 0.7846875000000001
        },
        "xaxis44": {
         "anchor": "free",
         "domain": [
          0.624,
          0.792
         ],
         "position": 0.7846875000000001
        },
        "xaxis45": {
         "anchor": "free",
         "domain": [
          0.832,
          1
         ],
         "position": 0.7846875000000001
        },
        "xaxis46": {
         "anchor": "y10",
         "domain": [
          0,
          0.16799999999999998
         ]
        },
        "xaxis47": {
         "anchor": "free",
         "domain": [
          0.208,
          0.376
         ],
         "position": 0.7593750000000001
        },
        "xaxis48": {
         "anchor": "free",
         "domain": [
          0.416,
          0.584
         ],
         "position": 0.7593750000000001
        },
        "xaxis49": {
         "anchor": "free",
         "domain": [
          0.624,
          0.792
         ],
         "position": 0.7593750000000001
        },
        "xaxis5": {
         "anchor": "free",
         "domain": [
          0.832,
          1
         ],
         "position": 0.9871875000000001
        },
        "xaxis50": {
         "anchor": "free",
         "domain": [
          0.832,
          1
         ],
         "position": 0.7593750000000001
        },
        "xaxis51": {
         "anchor": "y11",
         "domain": [
          0,
          0.16799999999999998
         ]
        },
        "xaxis52": {
         "anchor": "free",
         "domain": [
          0.208,
          0.376
         ],
         "position": 0.7340625000000001
        },
        "xaxis53": {
         "anchor": "free",
         "domain": [
          0.416,
          0.584
         ],
         "position": 0.7340625000000001
        },
        "xaxis54": {
         "anchor": "free",
         "domain": [
          0.624,
          0.792
         ],
         "position": 0.7340625000000001
        },
        "xaxis55": {
         "anchor": "free",
         "domain": [
          0.832,
          1
         ],
         "position": 0.7340625000000001
        },
        "xaxis56": {
         "anchor": "y12",
         "domain": [
          0,
          0.16799999999999998
         ]
        },
        "xaxis57": {
         "anchor": "free",
         "domain": [
          0.208,
          0.376
         ],
         "position": 0.7087500000000001
        },
        "xaxis58": {
         "anchor": "free",
         "domain": [
          0.416,
          0.584
         ],
         "position": 0.7087500000000001
        },
        "xaxis59": {
         "anchor": "free",
         "domain": [
          0.624,
          0.792
         ],
         "position": 0.7087500000000001
        },
        "xaxis6": {
         "anchor": "y2",
         "domain": [
          0,
          0.16799999999999998
         ]
        },
        "xaxis60": {
         "anchor": "free",
         "domain": [
          0.832,
          1
         ],
         "position": 0.7087500000000001
        },
        "xaxis61": {
         "anchor": "y13",
         "domain": [
          0,
          0.16799999999999998
         ]
        },
        "xaxis62": {
         "anchor": "free",
         "domain": [
          0.208,
          0.376
         ],
         "position": 0.6834375000000001
        },
        "xaxis63": {
         "anchor": "free",
         "domain": [
          0.416,
          0.584
         ],
         "position": 0.6834375000000001
        },
        "xaxis64": {
         "anchor": "free",
         "domain": [
          0.624,
          0.792
         ],
         "position": 0.6834375000000001
        },
        "xaxis65": {
         "anchor": "free",
         "domain": [
          0.832,
          1
         ],
         "position": 0.6834375000000001
        },
        "xaxis66": {
         "anchor": "y14",
         "domain": [
          0,
          0.16799999999999998
         ]
        },
        "xaxis67": {
         "anchor": "free",
         "domain": [
          0.208,
          0.376
         ],
         "position": 0.6581250000000001
        },
        "xaxis68": {
         "anchor": "free",
         "domain": [
          0.416,
          0.584
         ],
         "position": 0.6581250000000001
        },
        "xaxis69": {
         "anchor": "free",
         "domain": [
          0.624,
          0.792
         ],
         "position": 0.6581250000000001
        },
        "xaxis7": {
         "anchor": "free",
         "domain": [
          0.208,
          0.376
         ],
         "position": 0.9618750000000001
        },
        "xaxis70": {
         "anchor": "free",
         "domain": [
          0.832,
          1
         ],
         "position": 0.6581250000000001
        },
        "xaxis71": {
         "anchor": "y15",
         "domain": [
          0,
          0.16799999999999998
         ]
        },
        "xaxis72": {
         "anchor": "free",
         "domain": [
          0.208,
          0.376
         ],
         "position": 0.6328125
        },
        "xaxis73": {
         "anchor": "free",
         "domain": [
          0.416,
          0.584
         ],
         "position": 0.6328125
        },
        "xaxis74": {
         "anchor": "free",
         "domain": [
          0.624,
          0.792
         ],
         "position": 0.6328125
        },
        "xaxis75": {
         "anchor": "free",
         "domain": [
          0.832,
          1
         ],
         "position": 0.6328125
        },
        "xaxis76": {
         "anchor": "y16",
         "domain": [
          0,
          0.16799999999999998
         ]
        },
        "xaxis77": {
         "anchor": "free",
         "domain": [
          0.208,
          0.376
         ],
         "position": 0.6075000000000002
        },
        "xaxis78": {
         "anchor": "free",
         "domain": [
          0.416,
          0.584
         ],
         "position": 0.6075000000000002
        },
        "xaxis79": {
         "anchor": "free",
         "domain": [
          0.624,
          0.792
         ],
         "position": 0.6075000000000002
        },
        "xaxis8": {
         "anchor": "free",
         "domain": [
          0.416,
          0.584
         ],
         "position": 0.9618750000000001
        },
        "xaxis80": {
         "anchor": "free",
         "domain": [
          0.832,
          1
         ],
         "position": 0.6075000000000002
        },
        "xaxis81": {
         "anchor": "y17",
         "domain": [
          0,
          0.16799999999999998
         ]
        },
        "xaxis82": {
         "anchor": "free",
         "domain": [
          0.208,
          0.376
         ],
         "position": 0.5821875000000001
        },
        "xaxis83": {
         "anchor": "free",
         "domain": [
          0.416,
          0.584
         ],
         "position": 0.5821875000000001
        },
        "xaxis84": {
         "anchor": "free",
         "domain": [
          0.624,
          0.792
         ],
         "position": 0.5821875000000001
        },
        "xaxis85": {
         "anchor": "free",
         "domain": [
          0.832,
          1
         ],
         "position": 0.5821875000000001
        },
        "xaxis86": {
         "anchor": "y18",
         "domain": [
          0,
          0.16799999999999998
         ]
        },
        "xaxis87": {
         "anchor": "free",
         "domain": [
          0.208,
          0.376
         ],
         "position": 0.556875
        },
        "xaxis88": {
         "anchor": "free",
         "domain": [
          0.416,
          0.584
         ],
         "position": 0.556875
        },
        "xaxis89": {
         "anchor": "free",
         "domain": [
          0.624,
          0.792
         ],
         "position": 0.556875
        },
        "xaxis9": {
         "anchor": "free",
         "domain": [
          0.624,
          0.792
         ],
         "position": 0.9618750000000001
        },
        "xaxis90": {
         "anchor": "free",
         "domain": [
          0.832,
          1
         ],
         "position": 0.556875
        },
        "xaxis91": {
         "anchor": "y19",
         "domain": [
          0,
          0.16799999999999998
         ]
        },
        "xaxis92": {
         "anchor": "free",
         "domain": [
          0.208,
          0.376
         ],
         "position": 0.5315625
        },
        "xaxis93": {
         "anchor": "free",
         "domain": [
          0.416,
          0.584
         ],
         "position": 0.5315625
        },
        "xaxis94": {
         "anchor": "free",
         "domain": [
          0.624,
          0.792
         ],
         "position": 0.5315625
        },
        "xaxis95": {
         "anchor": "free",
         "domain": [
          0.832,
          1
         ],
         "position": 0.5315625
        },
        "xaxis96": {
         "anchor": "y20",
         "domain": [
          0,
          0.16799999999999998
         ]
        },
        "xaxis97": {
         "anchor": "free",
         "domain": [
          0.208,
          0.376
         ],
         "position": 0.5062500000000001
        },
        "xaxis98": {
         "anchor": "free",
         "domain": [
          0.416,
          0.584
         ],
         "position": 0.5062500000000001
        },
        "xaxis99": {
         "anchor": "free",
         "domain": [
          0.624,
          0.792
         ],
         "position": 0.5062500000000001
        },
        "yaxis": {
         "anchor": "x",
         "domain": [
          0.9871875000000001,
          1
         ]
        },
        "yaxis10": {
         "anchor": "x46",
         "domain": [
          0.7593750000000001,
          0.7721875000000001
         ]
        },
        "yaxis11": {
         "anchor": "x51",
         "domain": [
          0.7340625000000001,
          0.7468750000000001
         ]
        },
        "yaxis12": {
         "anchor": "x56",
         "domain": [
          0.7087500000000001,
          0.7215625000000001
         ]
        },
        "yaxis13": {
         "anchor": "x61",
         "domain": [
          0.6834375000000001,
          0.6962500000000001
         ]
        },
        "yaxis14": {
         "anchor": "x66",
         "domain": [
          0.6581250000000001,
          0.6709375000000001
         ]
        },
        "yaxis15": {
         "anchor": "x71",
         "domain": [
          0.6328125,
          0.645625
         ]
        },
        "yaxis16": {
         "anchor": "x76",
         "domain": [
          0.6075000000000002,
          0.6203125000000002
         ]
        },
        "yaxis17": {
         "anchor": "x81",
         "domain": [
          0.5821875000000001,
          0.5950000000000001
         ]
        },
        "yaxis18": {
         "anchor": "x86",
         "domain": [
          0.556875,
          0.5696875
         ]
        },
        "yaxis19": {
         "anchor": "x91",
         "domain": [
          0.5315625,
          0.544375
         ]
        },
        "yaxis2": {
         "anchor": "x6",
         "domain": [
          0.9618750000000001,
          0.9746875000000002
         ]
        },
        "yaxis20": {
         "anchor": "x96",
         "domain": [
          0.5062500000000001,
          0.5190625000000001
         ]
        },
        "yaxis21": {
         "anchor": "x101",
         "domain": [
          0.4809375000000001,
          0.4937500000000001
         ]
        },
        "yaxis22": {
         "anchor": "x106",
         "domain": [
          0.45562500000000006,
          0.46843750000000006
         ]
        },
        "yaxis23": {
         "anchor": "x111",
         "domain": [
          0.4303125000000001,
          0.4431250000000001
         ]
        },
        "yaxis24": {
         "anchor": "x116",
         "domain": [
          0.405,
          0.41781250000000003
         ]
        },
        "yaxis25": {
         "anchor": "x121",
         "domain": [
          0.37968750000000007,
          0.39250000000000007
         ]
        },
        "yaxis26": {
         "anchor": "x126",
         "domain": [
          0.35437500000000005,
          0.36718750000000006
         ]
        },
        "yaxis27": {
         "anchor": "x131",
         "domain": [
          0.32906250000000004,
          0.34187500000000004
         ]
        },
        "yaxis28": {
         "anchor": "x136",
         "domain": [
          0.3037500000000001,
          0.3165625000000001
         ]
        },
        "yaxis29": {
         "anchor": "x141",
         "domain": [
          0.2784375,
          0.29125
         ]
        },
        "yaxis3": {
         "anchor": "x11",
         "domain": [
          0.9365625000000002,
          0.9493750000000002
         ]
        },
        "yaxis30": {
         "anchor": "x146",
         "domain": [
          0.25312500000000004,
          0.26593750000000005
         ]
        },
        "yaxis31": {
         "anchor": "x151",
         "domain": [
          0.22781250000000003,
          0.24062500000000003
         ]
        },
        "yaxis32": {
         "anchor": "x156",
         "domain": [
          0.2025,
          0.21531250000000002
         ]
        },
        "yaxis33": {
         "anchor": "x161",
         "domain": [
          0.1771875,
          0.19
         ]
        },
        "yaxis34": {
         "anchor": "x166",
         "domain": [
          0.151875,
          0.16468750000000001
         ]
        },
        "yaxis35": {
         "anchor": "x171",
         "domain": [
          0.1265625,
          0.139375
         ]
        },
        "yaxis36": {
         "anchor": "x176",
         "domain": [
          0.10125,
          0.11406250000000001
         ]
        },
        "yaxis37": {
         "anchor": "x181",
         "domain": [
          0.0759375,
          0.08875000000000001
         ]
        },
        "yaxis38": {
         "anchor": "x186",
         "domain": [
          0.050625,
          0.06343750000000001
         ]
        },
        "yaxis39": {
         "anchor": "x191",
         "domain": [
          0.0253125,
          0.038125
         ]
        },
        "yaxis4": {
         "anchor": "x16",
         "domain": [
          0.9112500000000001,
          0.9240625000000001
         ]
        },
        "yaxis40": {
         "anchor": "x196",
         "domain": [
          0,
          0.0128125
         ]
        },
        "yaxis5": {
         "anchor": "x21",
         "domain": [
          0.8859375,
          0.89875
         ]
        },
        "yaxis6": {
         "anchor": "x26",
         "domain": [
          0.8606250000000002,
          0.8734375000000002
         ]
        },
        "yaxis7": {
         "anchor": "x31",
         "domain": [
          0.8353125000000001,
          0.8481250000000001
         ]
        },
        "yaxis8": {
         "anchor": "x36",
         "domain": [
          0.81,
          0.8228125000000001
         ]
        },
        "yaxis9": {
         "anchor": "x41",
         "domain": [
          0.7846875000000001,
          0.7975000000000001
         ]
        }
       }
      },
      "text/html": [
       "<div id=\"22b2beda-6a28-4a7f-9294-c657f2b7d59a\" style=\"height: 12000px; width: 1500px;\" class=\"plotly-graph-div\"></div><script type=\"text/javascript\">require([\"plotly\"], function(Plotly) { window.PLOTLYENV=window.PLOTLYENV || {};window.PLOTLYENV.BASE_URL=\"https://plot.ly\";Plotly.newPlot(\"22b2beda-6a28-4a7f-9294-c657f2b7d59a\", [{\"marker\": {\"color\": [\"rgb(214,96,77)\", \"rgb(214,96,77)\", \"rgb(214,96,77)\", \"rgb(214,96,77)\", \"rgb(214,96,77)\", \"rgb(214,96,77)\", \"rgb(214,96,77)\"]}, \"x\": [1, 2, 3, 4, 5, 6, 7], \"y\": [0.007537688442211055, 0.023450586264656615, 0.01423785594639866, 0.02847571189279732, 0.025963149078726967, 0.5226130653266332, 0.3777219430485762], \"type\": \"bar\", \"uid\": \"59b4fc52-3346-4893-9ad5-55d71575c39a\", \"xaxis\": \"x\", \"yaxis\": \"y\"}, {\"line\": {\"color\": \"gray\", \"shape\": \"spline\", \"width\": 3}, \"mode\": \"lines\", \"x\": [1, 2, 3, 4, 5, 6, 7], \"y\": [0.07185578359124661, 0.13864492108344612, 0.16100379332347023, 0.15654295710950153, 0.12406201137295872, 0.20754597914723844, 0.14034455437213836], \"type\": \"scatter\", \"uid\": \"3ff68d98-692d-48b7-9a3e-5cffa16715eb\", \"xaxis\": \"x\", \"yaxis\": \"y\"}, {\"marker\": {\"color\": [\"rgb(5,48,97)\", \"rgb(5,48,97)\", \"rgb(5,48,97)\", \"rgb(5,48,97)\", \"rgb(5,48,97)\", \"rgb(5,48,97)\", \"rgb(5,48,97)\"]}, \"x\": [1, 2, 3, 4, 5, 6, 7], \"y\": [0.19287833827893175, 0.380811078140455, 0.06429277942631058, 0.26409495548961426, 0.09000989119683482, 0.00791295746785361, 0.0], \"type\": \"bar\", \"uid\": \"5fb75393-4585-4643-969d-13e9affdb8f9\", \"xaxis\": \"x2\", \"yaxis\": \"y\"}, {\"line\": {\"color\": \"gray\", \"shape\": \"spline\", \"width\": 3}, \"mode\": \"lines\", \"x\": [1, 2, 3, 4, 5, 6, 7], \"y\": [0.07185578359124661, 0.13864492108344612, 0.16100379332347023, 0.15654295710950153, 0.12406201137295872, 0.20754597914723844, 0.14034455437213836], \"type\": \"scatter\", \"uid\": \"428b0163-1aec-4490-b346-126ff4a964a1\", \"xaxis\": \"x2\", \"yaxis\": \"y\"}, {\"marker\": {\"color\": [\"rgb(33,102,172)\", \"rgb(33,102,172)\", \"rgb(33,102,172)\", \"rgb(33,102,172)\", \"rgb(33,102,172)\", \"rgb(33,102,172)\", \"rgb(33,102,172)\"]}, \"x\": [1, 2, 3, 4, 5, 6, 7], \"y\": [0.02230843840931135, 0.4122211445198836, 0.34626576139670223, 0.1600387972841901, 0.027158098933074686, 0.03200775945683802, 0.0], \"type\": \"bar\", \"uid\": \"05002fd2-de08-46e0-8bf0-ac85cc7eff76\", \"xaxis\": \"x3\", \"yaxis\": \"y\"}, {\"line\": {\"color\": \"gray\", \"shape\": \"spline\", \"width\": 3}, \"mode\": \"lines\", \"x\": [1, 2, 3, 4, 5, 6, 7], \"y\": [0.07185578359124661, 0.13864492108344612, 0.16100379332347023, 0.15654295710950153, 0.12406201137295872, 0.20754597914723844, 0.14034455437213836], \"type\": \"scatter\", \"uid\": \"a547c314-6b3a-4b17-86b4-978f3b8fab4a\", \"xaxis\": \"x3\", \"yaxis\": \"y\"}, {\"marker\": {\"color\": [\"rgb(244,165,130)\", \"rgb(244,165,130)\", \"rgb(244,165,130)\", \"rgb(244,165,130)\", \"rgb(244,165,130)\", \"rgb(244,165,130)\", \"rgb(244,165,130)\"]}, \"x\": [1, 2, 3, 4, 5, 6, 7], \"y\": [0.03656998738965952, 0.1343001261034048, 0.30958385876418665, 0.4041614123581337, 0.10025220680958385, 0.015132408575031526, 0.0], \"type\": \"bar\", \"uid\": \"8d75b3d7-144b-4a7b-b413-db462cb9c4bd\", \"xaxis\": \"x4\", \"yaxis\": \"y\"}, {\"line\": {\"color\": \"gray\", \"shape\": \"spline\", \"width\": 3}, \"mode\": \"lines\", \"x\": [1, 2, 3, 4, 5, 6, 7], \"y\": [0.07185578359124661, 0.13864492108344612, 0.16100379332347023, 0.15654295710950153, 0.12406201137295872, 0.20754597914723844, 0.14034455437213836], \"type\": \"scatter\", \"uid\": \"970af6b4-bf1f-411a-865e-ad26c47cdf9c\", \"xaxis\": \"x4\", \"yaxis\": \"y\"}, {\"marker\": {\"color\": [\"rgb(178,24,43)\", \"rgb(178,24,43)\", \"rgb(178,24,43)\", \"rgb(178,24,43)\", \"rgb(178,24,43)\", \"rgb(178,24,43)\", \"rgb(178,24,43)\"]}, \"x\": [1, 2, 3, 4, 5, 6, 7], \"y\": [0.029779058597502402, 0.45821325648414984, 0.16042267050912584, 0.23823246878001922, 0.06147934678194044, 0.05187319884726225, 0.0], \"type\": \"bar\", \"uid\": \"cdd89440-8701-4b44-b7d6-ef5ef9eba493\", \"xaxis\": \"x5\", \"yaxis\": \"y\"}, {\"line\": {\"color\": \"gray\", \"shape\": \"spline\", \"width\": 3}, \"mode\": \"lines\", \"x\": [1, 2, 3, 4, 5, 6, 7], \"y\": [0.07185578359124661, 0.13864492108344612, 0.16100379332347023, 0.15654295710950153, 0.12406201137295872, 0.20754597914723844, 0.14034455437213836], \"type\": \"scatter\", \"uid\": \"0af90577-b192-4da9-a853-808877d73030\", \"xaxis\": \"x5\", \"yaxis\": \"y\"}, {\"marker\": {\"color\": [\"rgb(214,96,77)\", \"rgb(214,96,77)\", \"rgb(214,96,77)\", \"rgb(214,96,77)\", \"rgb(214,96,77)\", \"rgb(214,96,77)\", \"rgb(214,96,77)\"]}, \"x\": [1, 2, 3, 4, 5, 6, 7], \"y\": [0.21396993810786913, 0.376657824933687, 0.16445623342175067, 0.14677276746242263, 0.04597701149425287, 0.052166224580017684, 0.0], \"type\": \"bar\", \"uid\": \"0c853a28-9428-4cf5-92c6-f40a35956df8\", \"xaxis\": \"x6\", \"yaxis\": \"y2\"}, {\"line\": {\"color\": \"gray\", \"shape\": \"spline\", \"width\": 3}, \"mode\": \"lines\", \"x\": [1, 2, 3, 4, 5, 6, 7], \"y\": [0.07185578359124661, 0.13864492108344612, 0.16100379332347023, 0.15654295710950153, 0.12406201137295872, 0.20754597914723844, 0.14034455437213836], \"type\": \"scatter\", \"uid\": \"0276687c-a18f-4976-b9a3-1f270473033f\", \"xaxis\": \"x6\", \"yaxis\": \"y2\"}, {\"marker\": {\"color\": [\"rgb(5,48,97)\", \"rgb(5,48,97)\", \"rgb(5,48,97)\", \"rgb(5,48,97)\", \"rgb(5,48,97)\", \"rgb(5,48,97)\", \"rgb(5,48,97)\"]}, \"x\": [1, 2, 3, 4, 5, 6, 7], \"y\": [0.12795549374130738, 0.1404728789986092, 0.3894297635605007, 0.27399165507649514, 0.02086230876216968, 0.04450625869262865, 0.0027816411682892906], \"type\": \"bar\", \"uid\": \"c6fd6080-7d9b-4cfb-a434-ac0179b474c8\", \"xaxis\": \"x7\", \"yaxis\": \"y2\"}, {\"line\": {\"color\": \"gray\", \"shape\": \"spline\", \"width\": 3}, \"mode\": \"lines\", \"x\": [1, 2, 3, 4, 5, 6, 7], \"y\": [0.07185578359124661, 0.13864492108344612, 0.16100379332347023, 0.15654295710950153, 0.12406201137295872, 0.20754597914723844, 0.14034455437213836], \"type\": \"scatter\", \"uid\": \"0afb4fa4-a5db-499e-9860-1a0510187fe9\", \"xaxis\": \"x7\", \"yaxis\": \"y2\"}, {\"marker\": {\"color\": [\"rgb(33,102,172)\", \"rgb(33,102,172)\", \"rgb(33,102,172)\", \"rgb(33,102,172)\", \"rgb(33,102,172)\", \"rgb(33,102,172)\", \"rgb(33,102,172)\"]}, \"x\": [1, 2, 3, 4, 5, 6, 7], \"y\": [0.005829015544041451, 0.02461139896373057, 0.046632124352331605, 0.07966321243523317, 0.027849740932642485, 0.4430051813471503, 0.37240932642487046], \"type\": \"bar\", \"uid\": \"aa9735c8-e67c-4d8a-8195-2e0df5e59438\", \"xaxis\": \"x8\", \"yaxis\": \"y2\"}, {\"line\": {\"color\": \"gray\", \"shape\": \"spline\", \"width\": 3}, \"mode\": \"lines\", \"x\": [1, 2, 3, 4, 5, 6, 7], \"y\": [0.07185578359124661, 0.13864492108344612, 0.16100379332347023, 0.15654295710950153, 0.12406201137295872, 0.20754597914723844, 0.14034455437213836], \"type\": \"scatter\", \"uid\": \"6dee715a-e99c-4d96-9035-7da22624b023\", \"xaxis\": \"x8\", \"yaxis\": \"y2\"}, {\"marker\": {\"color\": [\"rgb(244,165,130)\", \"rgb(244,165,130)\", \"rgb(244,165,130)\", \"rgb(244,165,130)\", \"rgb(244,165,130)\", \"rgb(244,165,130)\", \"rgb(244,165,130)\"]}, \"x\": [1, 2, 3, 4, 5, 6, 7], \"y\": [0.1942645698427382, 0.3940795559666975, 0.16096207215541167, 0.14061054579093432, 0.05550416281221091, 0.0545790934320074, 0.0], \"type\": \"bar\", \"uid\": \"cec2f6a0-fd3e-4abf-ad5f-a1e8ac66f956\", \"xaxis\": \"x9\", \"yaxis\": \"y2\"}, {\"line\": {\"color\": \"gray\", \"shape\": \"spline\", \"width\": 3}, \"mode\": \"lines\", \"x\": [1, 2, 3, 4, 5, 6, 7], \"y\": [0.07185578359124661, 0.13864492108344612, 0.16100379332347023, 0.15654295710950153, 0.12406201137295872, 0.20754597914723844, 0.14034455437213836], \"type\": \"scatter\", \"uid\": \"1407ebca-fcb2-4997-8cf4-ef86b60d7081\", \"xaxis\": \"x9\", \"yaxis\": \"y2\"}, {\"marker\": {\"color\": [\"rgb(178,24,43)\", \"rgb(178,24,43)\", \"rgb(178,24,43)\", \"rgb(178,24,43)\", \"rgb(178,24,43)\", \"rgb(178,24,43)\", \"rgb(178,24,43)\"]}, \"x\": [1, 2, 3, 4, 5, 6, 7], \"y\": [0.0629024269440317, 0.19564140663694898, 0.24913323427439327, 0.33382862803368, 0.14611193660227836, 0.012382367508667657, 0.0], \"type\": \"bar\", \"uid\": \"c9f52cfc-1d42-43e2-ac7b-ef46e74e2a44\", \"xaxis\": \"x10\", \"yaxis\": \"y2\"}, {\"line\": {\"color\": \"gray\", \"shape\": \"spline\", \"width\": 3}, \"mode\": \"lines\", \"x\": [1, 2, 3, 4, 5, 6, 7], \"y\": [0.07185578359124661, 0.13864492108344612, 0.16100379332347023, 0.15654295710950153, 0.12406201137295872, 0.20754597914723844, 0.14034455437213836], \"type\": \"scatter\", \"uid\": \"ed36594b-0a3b-4bd8-95e5-1c188799ece9\", \"xaxis\": \"x10\", \"yaxis\": \"y2\"}, {\"marker\": {\"color\": [\"rgb(214,96,77)\", \"rgb(214,96,77)\", \"rgb(214,96,77)\", \"rgb(214,96,77)\", \"rgb(214,96,77)\", \"rgb(214,96,77)\", \"rgb(214,96,77)\"]}, \"x\": [1, 2, 3, 4, 5, 6, 7], \"y\": [0.06562703053931124, 0.21334199696772796, 0.30409356725146197, 0.2962962962962963, 0.10851202079272254, 0.008663634394628547, 0.0034654537578514186], \"type\": \"bar\", \"uid\": \"77cbc57d-9409-4049-b284-870aec5a596f\", \"xaxis\": \"x11\", \"yaxis\": \"y3\"}, {\"line\": {\"color\": \"gray\", \"shape\": \"spline\", \"width\": 3}, \"mode\": \"lines\", \"x\": [1, 2, 3, 4, 5, 6, 7], \"y\": [0.07185578359124661, 0.13864492108344612, 0.16100379332347023, 0.15654295710950153, 0.12406201137295872, 0.20754597914723844, 0.14034455437213836], \"type\": \"scatter\", \"uid\": \"af3d62a3-c76d-4325-a179-b31533772680\", \"xaxis\": \"x11\", \"yaxis\": \"y3\"}, {\"marker\": {\"color\": [\"rgb(5,48,97)\", \"rgb(5,48,97)\", \"rgb(5,48,97)\", \"rgb(5,48,97)\", \"rgb(5,48,97)\", \"rgb(5,48,97)\", \"rgb(5,48,97)\"]}, \"x\": [1, 2, 3, 4, 5, 6, 7], \"y\": [0.03272845106934543, 0.32177576150356446, 0.28224238496435516, 0.2517822423849643, 0.08781594296824369, 0.01814646791963707, 0.005508749189889825], \"type\": \"bar\", \"uid\": \"ba1356e8-cd6f-4d78-b8fe-bd717cf5a982\", \"xaxis\": \"x12\", \"yaxis\": \"y3\"}, {\"line\": {\"color\": \"gray\", \"shape\": \"spline\", \"width\": 3}, \"mode\": \"lines\", \"x\": [1, 2, 3, 4, 5, 6, 7], \"y\": [0.07185578359124661, 0.13864492108344612, 0.16100379332347023, 0.15654295710950153, 0.12406201137295872, 0.20754597914723844, 0.14034455437213836], \"type\": \"scatter\", \"uid\": \"9f7326c9-955b-4ccb-aeb5-fe3a083c831d\", \"xaxis\": \"x12\", \"yaxis\": \"y3\"}, {\"marker\": {\"color\": [\"rgb(33,102,172)\", \"rgb(33,102,172)\", \"rgb(33,102,172)\", \"rgb(33,102,172)\", \"rgb(33,102,172)\", \"rgb(33,102,172)\", \"rgb(33,102,172)\"]}, \"x\": [1, 2, 3, 4, 5, 6, 7], \"y\": [0.06866110838646396, 0.16748406081412456, 0.33055419323197643, 0.30652280529671405, 0.11083864639529181, 0.012506130456105935, 0.0034330554193231977], \"type\": \"bar\", \"uid\": \"6433880d-365b-407c-84c4-07f44d52ee08\", \"xaxis\": \"x13\", \"yaxis\": \"y3\"}, {\"line\": {\"color\": \"gray\", \"shape\": \"spline\", \"width\": 3}, \"mode\": \"lines\", \"x\": [1, 2, 3, 4, 5, 6, 7], \"y\": [0.07185578359124661, 0.13864492108344612, 0.16100379332347023, 0.15654295710950153, 0.12406201137295872, 0.20754597914723844, 0.14034455437213836], \"type\": \"scatter\", \"uid\": \"9898c09b-7eb9-418f-87c8-8ab7856d8914\", \"xaxis\": \"x13\", \"yaxis\": \"y3\"}, {\"marker\": {\"color\": [\"rgb(244,165,130)\", \"rgb(244,165,130)\", \"rgb(244,165,130)\", \"rgb(244,165,130)\", \"rgb(244,165,130)\", \"rgb(244,165,130)\", \"rgb(244,165,130)\"]}, \"x\": [1, 2, 3, 4, 5, 6, 7], \"y\": [0.00946643717728055, 0.3270223752151463, 0.28313253012048195, 0.193631669535284, 0.0034423407917383822, 0.17986230636833048, 0.0034423407917383822], \"type\": \"bar\", \"uid\": \"290fc930-e460-420e-b2fa-ac7c2e72ec0c\", \"xaxis\": \"x14\", \"yaxis\": \"y3\"}, {\"line\": {\"color\": \"gray\", \"shape\": \"spline\", \"width\": 3}, \"mode\": \"lines\", \"x\": [1, 2, 3, 4, 5, 6, 7], \"y\": [0.07185578359124661, 0.13864492108344612, 0.16100379332347023, 0.15654295710950153, 0.12406201137295872, 0.20754597914723844, 0.14034455437213836], \"type\": \"scatter\", \"uid\": \"84b39ac5-e548-41c9-bc95-939e68a6e8a3\", \"xaxis\": \"x14\", \"yaxis\": \"y3\"}, {\"marker\": {\"color\": [\"rgb(178,24,43)\", \"rgb(178,24,43)\", \"rgb(178,24,43)\", \"rgb(178,24,43)\", \"rgb(178,24,43)\", \"rgb(178,24,43)\", \"rgb(178,24,43)\"]}, \"x\": [1, 2, 3, 4, 5, 6, 7], \"y\": [0.11495327102803739, 0.24766355140186916, 0.2738317757009346, 0.20654205607476636, 0.14392523364485982, 0.013084112149532711, 0.0], \"type\": \"bar\", \"uid\": \"c12c0f14-508a-4051-96b6-311a93c420b7\", \"xaxis\": \"x15\", \"yaxis\": \"y3\"}, {\"line\": {\"color\": \"gray\", \"shape\": \"spline\", \"width\": 3}, \"mode\": \"lines\", \"x\": [1, 2, 3, 4, 5, 6, 7], \"y\": [0.07185578359124661, 0.13864492108344612, 0.16100379332347023, 0.15654295710950153, 0.12406201137295872, 0.20754597914723844, 0.14034455437213836], \"type\": \"scatter\", \"uid\": \"8085b525-0b25-4fe5-9647-a438611fcf02\", \"xaxis\": \"x15\", \"yaxis\": \"y3\"}, {\"marker\": {\"color\": [\"rgb(214,96,77)\", \"rgb(214,96,77)\", \"rgb(214,96,77)\", \"rgb(214,96,77)\", \"rgb(214,96,77)\", \"rgb(214,96,77)\", \"rgb(214,96,77)\"]}, \"x\": [1, 2, 3, 4, 5, 6, 7], \"y\": [0.12246117084826762, 0.1009557945041816, 0.5244922341696535, 0.0967741935483871, 0.0908004778972521, 0.056152927120669056, 0.008363201911589008], \"type\": \"bar\", \"uid\": \"49b1fa6b-6825-4404-bba1-f15f8ecc1f04\", \"xaxis\": \"x16\", \"yaxis\": \"y4\"}, {\"line\": {\"color\": \"gray\", \"shape\": \"spline\", \"width\": 3}, \"mode\": \"lines\", \"x\": [1, 2, 3, 4, 5, 6, 7], \"y\": [0.07185578359124661, 0.13864492108344612, 0.16100379332347023, 0.15654295710950153, 0.12406201137295872, 0.20754597914723844, 0.14034455437213836], \"type\": \"scatter\", \"uid\": \"36114b44-c58a-48b4-85df-21108ebc2189\", \"xaxis\": \"x16\", \"yaxis\": \"y4\"}, {\"marker\": {\"color\": [\"rgb(5,48,97)\", \"rgb(5,48,97)\", \"rgb(5,48,97)\", \"rgb(5,48,97)\", \"rgb(5,48,97)\", \"rgb(5,48,97)\", \"rgb(5,48,97)\"]}, \"x\": [1, 2, 3, 4, 5, 6, 7], \"y\": [0.10371408549404344, 0.23756131744919412, 0.3181499649614576, 0.2543798177995795, 0.05956552207428171, 0.025227750525578137, 0.001401541695865452], \"type\": \"bar\", \"uid\": \"c9f89c51-3ec0-4153-b724-0ded17fc12de\", \"xaxis\": \"x17\", \"yaxis\": \"y4\"}, {\"line\": {\"color\": \"gray\", \"shape\": \"spline\", \"width\": 3}, \"mode\": \"lines\", \"x\": [1, 2, 3, 4, 5, 6, 7], \"y\": [0.07185578359124661, 0.13864492108344612, 0.16100379332347023, 0.15654295710950153, 0.12406201137295872, 0.20754597914723844, 0.14034455437213836], \"type\": \"scatter\", \"uid\": \"b8f4ebf7-ad8d-4c7d-921a-e9f3826ca043\", \"xaxis\": \"x17\", \"yaxis\": \"y4\"}, {\"marker\": {\"color\": [\"rgb(33,102,172)\", \"rgb(33,102,172)\", \"rgb(33,102,172)\", \"rgb(33,102,172)\", \"rgb(33,102,172)\", \"rgb(33,102,172)\", \"rgb(33,102,172)\"]}, \"x\": [1, 2, 3, 4, 5, 6, 7], \"y\": [0.06666666666666667, 0.14212218649517686, 0.3256162915326902, 0.3168274383708467, 0.12775991425509112, 0.0180064308681672, 0.0030010718113612006], \"type\": \"bar\", \"uid\": \"0bd309a8-8a58-4db0-bf37-12c014ff4b74\", \"xaxis\": \"x18\", \"yaxis\": \"y4\"}, {\"line\": {\"color\": \"gray\", \"shape\": \"spline\", \"width\": 3}, \"mode\": \"lines\", \"x\": [1, 2, 3, 4, 5, 6, 7], \"y\": [0.07185578359124661, 0.13864492108344612, 0.16100379332347023, 0.15654295710950153, 0.12406201137295872, 0.20754597914723844, 0.14034455437213836], \"type\": \"scatter\", \"uid\": \"872d8e58-18a0-40db-bd6c-e59c8d764e3d\", \"xaxis\": \"x18\", \"yaxis\": \"y4\"}, {\"marker\": {\"color\": [\"rgb(244,165,130)\", \"rgb(244,165,130)\", \"rgb(244,165,130)\", \"rgb(244,165,130)\", \"rgb(244,165,130)\", \"rgb(244,165,130)\", \"rgb(244,165,130)\"]}, \"x\": [1, 2, 3, 4, 5, 6, 7], \"y\": [0.045923460898502494, 0.2938435940099834, 0.270216306156406, 0.2788685524126456, 0.07554076539101498, 0.035607321131447586, 0.0], \"type\": \"bar\", \"uid\": \"a6c3f19a-a6ae-4e87-a7f7-5161cc1544e3\", \"xaxis\": \"x19\", \"yaxis\": \"y4\"}, {\"line\": {\"color\": \"gray\", \"shape\": \"spline\", \"width\": 3}, \"mode\": \"lines\", \"x\": [1, 2, 3, 4, 5, 6, 7], \"y\": [0.07185578359124661, 0.13864492108344612, 0.16100379332347023, 0.15654295710950153, 0.12406201137295872, 0.20754597914723844, 0.14034455437213836], \"type\": \"scatter\", \"uid\": \"0e5e2787-5067-41d6-8620-db4045b2048b\", \"xaxis\": \"x19\", \"yaxis\": \"y4\"}, {\"marker\": {\"color\": [\"rgb(178,24,43)\", \"rgb(178,24,43)\", \"rgb(178,24,43)\", \"rgb(178,24,43)\", \"rgb(178,24,43)\", \"rgb(178,24,43)\", \"rgb(178,24,43)\"]}, \"x\": [1, 2, 3, 4, 5, 6, 7], \"y\": [0.050761421319796954, 0.21157360406091372, 0.31614213197969543, 0.2913705583756345, 0.10781725888324874, 0.01949238578680203, 0.0028426395939086294], \"type\": \"bar\", \"uid\": \"0953b1ee-e6c9-405c-b80f-1a0f46c49aa7\", \"xaxis\": \"x20\", \"yaxis\": \"y4\"}, {\"line\": {\"color\": \"gray\", \"shape\": \"spline\", \"width\": 3}, \"mode\": \"lines\", \"x\": [1, 2, 3, 4, 5, 6, 7], \"y\": [0.07185578359124661, 0.13864492108344612, 0.16100379332347023, 0.15654295710950153, 0.12406201137295872, 0.20754597914723844, 0.14034455437213836], \"type\": \"scatter\", \"uid\": \"b0d4f4a4-ea05-4359-a647-ab42d546fe4e\", \"xaxis\": \"x20\", \"yaxis\": \"y4\"}, {\"marker\": {\"color\": [\"rgb(214,96,77)\", \"rgb(214,96,77)\", \"rgb(214,96,77)\", \"rgb(214,96,77)\", \"rgb(214,96,77)\", \"rgb(214,96,77)\", \"rgb(214,96,77)\"]}, \"x\": [1, 2, 3, 4, 5, 6, 7], \"y\": [0.09021406727828746, 0.3256880733944954, 0.382262996941896, 0.06345565749235474, 0.046636085626911315, 0.08792048929663608, 0.00382262996941896], \"type\": \"bar\", \"uid\": \"b385a7d2-6a0a-4e65-b7c4-54753afe2f91\", \"xaxis\": \"x21\", \"yaxis\": \"y5\"}, {\"line\": {\"color\": \"gray\", \"shape\": \"spline\", \"width\": 3}, \"mode\": \"lines\", \"x\": [1, 2, 3, 4, 5, 6, 7], \"y\": [0.07185578359124661, 0.13864492108344612, 0.16100379332347023, 0.15654295710950153, 0.12406201137295872, 0.20754597914723844, 0.14034455437213836], \"type\": \"scatter\", \"uid\": \"998cd913-6fdb-4314-9eed-4c0f41bb3e97\", \"xaxis\": \"x21\", \"yaxis\": \"y5\"}, {\"marker\": {\"color\": [\"rgb(5,48,97)\", \"rgb(5,48,97)\", \"rgb(5,48,97)\", \"rgb(5,48,97)\", \"rgb(5,48,97)\", \"rgb(5,48,97)\", \"rgb(5,48,97)\"]}, \"x\": [1, 2, 3, 4, 5, 6, 7], \"y\": [0.04731525784157363, 0.24508240297713982, 0.29771398192450826, 0.31632110579479, 0.052099946836788945, 0.03934077618288145, 0.002126528442317916], \"type\": \"bar\", \"uid\": \"1144621c-78e1-42db-9b41-ce40011938bd\", \"xaxis\": \"x22\", \"yaxis\": \"y5\"}, {\"line\": {\"color\": \"gray\", \"shape\": \"spline\", \"width\": 3}, \"mode\": \"lines\", \"x\": [1, 2, 3, 4, 5, 6, 7], \"y\": [0.07185578359124661, 0.13864492108344612, 0.16100379332347023, 0.15654295710950153, 0.12406201137295872, 0.20754597914723844, 0.14034455437213836], \"type\": \"scatter\", \"uid\": \"ab618322-80e0-44db-b727-ad574def618e\", \"xaxis\": \"x22\", \"yaxis\": \"y5\"}, {\"marker\": {\"color\": [\"rgb(33,102,172)\", \"rgb(33,102,172)\", \"rgb(33,102,172)\", \"rgb(33,102,172)\", \"rgb(33,102,172)\", \"rgb(33,102,172)\", \"rgb(33,102,172)\"]}, \"x\": [1, 2, 3, 4, 5, 6, 7], \"y\": [0.030291835980790542, 0.016623568526043592, 0.043960103435537495, 0.0365718507572959, 0.4004432951606945, 0.33173254525304763, 0.14037680088659032], \"type\": \"bar\", \"uid\": \"8ac52d2d-766f-445e-b899-776bacb95335\", \"xaxis\": \"x23\", \"yaxis\": \"y5\"}, {\"line\": {\"color\": \"gray\", \"shape\": \"spline\", \"width\": 3}, \"mode\": \"lines\", \"x\": [1, 2, 3, 4, 5, 6, 7], \"y\": [0.07185578359124661, 0.13864492108344612, 0.16100379332347023, 0.15654295710950153, 0.12406201137295872, 0.20754597914723844, 0.14034455437213836], \"type\": \"scatter\", \"uid\": \"8bf62707-dbcf-4c23-a60b-23ffbfaef207\", \"xaxis\": \"x23\", \"yaxis\": \"y5\"}, {\"marker\": {\"color\": [\"rgb(244,165,130)\", \"rgb(244,165,130)\", \"rgb(244,165,130)\", \"rgb(244,165,130)\", \"rgb(244,165,130)\", \"rgb(244,165,130)\", \"rgb(244,165,130)\"]}, \"x\": [1, 2, 3, 4, 5, 6, 7], \"y\": [0.0735009671179884, 0.3452611218568665, 0.18762088974854932, 0.24758220502901354, 0.11605415860735009, 0.029980657640232108, 0.0], \"type\": \"bar\", \"uid\": \"d5218587-e548-41cd-989c-9003869ec53b\", \"xaxis\": \"x24\", \"yaxis\": \"y5\"}, {\"line\": {\"color\": \"gray\", \"shape\": \"spline\", \"width\": 3}, \"mode\": \"lines\", \"x\": [1, 2, 3, 4, 5, 6, 7], \"y\": [0.07185578359124661, 0.13864492108344612, 0.16100379332347023, 0.15654295710950153, 0.12406201137295872, 0.20754597914723844, 0.14034455437213836], \"type\": \"scatter\", \"uid\": \"277869ee-6361-46b8-b9fa-fa2da804790c\", \"xaxis\": \"x24\", \"yaxis\": \"y5\"}, {\"marker\": {\"color\": [\"rgb(178,24,43)\", \"rgb(178,24,43)\", \"rgb(178,24,43)\", \"rgb(178,24,43)\", \"rgb(178,24,43)\", \"rgb(178,24,43)\", \"rgb(178,24,43)\"]}, \"x\": [1, 2, 3, 4, 5, 6, 7], \"y\": [0.10512367491166077, 0.12014134275618374, 0.411660777385159, 0.14929328621908128, 0.18197879858657243, 0.029151943462897525, 0.00265017667844523], \"type\": \"bar\", \"uid\": \"2e1eb5d8-30ba-4cf8-bf45-8a3eda58d404\", \"xaxis\": \"x25\", \"yaxis\": \"y5\"}, {\"line\": {\"color\": \"gray\", \"shape\": \"spline\", \"width\": 3}, \"mode\": \"lines\", \"x\": [1, 2, 3, 4, 5, 6, 7], \"y\": [0.07185578359124661, 0.13864492108344612, 0.16100379332347023, 0.15654295710950153, 0.12406201137295872, 0.20754597914723844, 0.14034455437213836], \"type\": \"scatter\", \"uid\": \"99a76149-aa0b-4d09-bac2-b97d721f0be5\", \"xaxis\": \"x25\", \"yaxis\": \"y5\"}, {\"marker\": {\"color\": [\"rgb(214,96,77)\", \"rgb(214,96,77)\", \"rgb(214,96,77)\", \"rgb(214,96,77)\", \"rgb(214,96,77)\", \"rgb(214,96,77)\", \"rgb(214,96,77)\"]}, \"x\": [1, 2, 3, 4, 5, 6, 7], \"y\": [0.03646185010128292, 0.26333558406482105, 0.44091829844699526, 0.09925725860904794, 0.05671843349088454, 0.10330857528696827, 0.0], \"type\": \"bar\", \"uid\": \"394f2634-526b-4e43-96a1-598220b91b6c\", \"xaxis\": \"x26\", \"yaxis\": \"y6\"}, {\"line\": {\"color\": \"gray\", \"shape\": \"spline\", \"width\": 3}, \"mode\": \"lines\", \"x\": [1, 2, 3, 4, 5, 6, 7], \"y\": [0.07185578359124661, 0.13864492108344612, 0.16100379332347023, 0.15654295710950153, 0.12406201137295872, 0.20754597914723844, 0.14034455437213836], \"type\": \"scatter\", \"uid\": \"fbef5493-04e9-4004-be20-6869c4246e9e\", \"xaxis\": \"x26\", \"yaxis\": \"y6\"}, {\"marker\": {\"color\": [\"rgb(5,48,97)\", \"rgb(5,48,97)\", \"rgb(5,48,97)\", \"rgb(5,48,97)\", \"rgb(5,48,97)\", \"rgb(5,48,97)\", \"rgb(5,48,97)\"]}, \"x\": [1, 2, 3, 4, 5, 6, 7], \"y\": [0.049637266132111495, 0.2699503627338679, 0.2745322642229859, 0.293241695303551, 0.08476517754868271, 0.022145857197403588, 0.0057273768613974796], \"type\": \"bar\", \"uid\": \"9b70edd0-e7c0-4e0d-9776-cde96e4f1ca6\", \"xaxis\": \"x27\", \"yaxis\": \"y6\"}, {\"line\": {\"color\": \"gray\", \"shape\": \"spline\", \"width\": 3}, \"mode\": \"lines\", \"x\": [1, 2, 3, 4, 5, 6, 7], \"y\": [0.07185578359124661, 0.13864492108344612, 0.16100379332347023, 0.15654295710950153, 0.12406201137295872, 0.20754597914723844, 0.14034455437213836], \"type\": \"scatter\", \"uid\": \"a28a1d02-375c-413e-b631-10dcd58a567c\", \"xaxis\": \"x27\", \"yaxis\": \"y6\"}, {\"marker\": {\"color\": [\"rgb(33,102,172)\", \"rgb(33,102,172)\", \"rgb(33,102,172)\", \"rgb(33,102,172)\", \"rgb(33,102,172)\", \"rgb(33,102,172)\", \"rgb(33,102,172)\"]}, \"x\": [1, 2, 3, 4, 5, 6, 7], \"y\": [0.1620016963528414, 0.4257845631891433, 0.12044105173876166, 0.1594571670907549, 0.07463952502120441, 0.043256997455470736, 0.01441899915182358], \"type\": \"bar\", \"uid\": \"35903cf7-369a-43e1-80c1-3f76720adbc1\", \"xaxis\": \"x28\", \"yaxis\": \"y6\"}, {\"line\": {\"color\": \"gray\", \"shape\": \"spline\", \"width\": 3}, \"mode\": \"lines\", \"x\": [1, 2, 3, 4, 5, 6, 7], \"y\": [0.07185578359124661, 0.13864492108344612, 0.16100379332347023, 0.15654295710950153, 0.12406201137295872, 0.20754597914723844, 0.14034455437213836], \"type\": \"scatter\", \"uid\": \"de2db184-669e-429e-b0ba-a501da33f066\", \"xaxis\": \"x28\", \"yaxis\": \"y6\"}, {\"marker\": {\"color\": [\"rgb(244,165,130)\", \"rgb(244,165,130)\", \"rgb(244,165,130)\", \"rgb(244,165,130)\", \"rgb(244,165,130)\", \"rgb(244,165,130)\", \"rgb(244,165,130)\"]}, \"x\": [1, 2, 3, 4, 5, 6, 7], \"y\": [0.039634146341463415, 0.18445121951219512, 0.3003048780487805, 0.35365853658536583, 0.08231707317073171, 0.0350609756097561, 0.004573170731707317], \"type\": \"bar\", \"uid\": \"2e43378f-7363-41fd-a7f9-0515afbac60f\", \"xaxis\": \"x29\", \"yaxis\": \"y6\"}, {\"line\": {\"color\": \"gray\", \"shape\": \"spline\", \"width\": 3}, \"mode\": \"lines\", \"x\": [1, 2, 3, 4, 5, 6, 7], \"y\": [0.07185578359124661, 0.13864492108344612, 0.16100379332347023, 0.15654295710950153, 0.12406201137295872, 0.20754597914723844, 0.14034455437213836], \"type\": \"scatter\", \"uid\": \"e84a2f2d-586d-4282-81c0-26ec5adc6fcf\", \"xaxis\": \"x29\", \"yaxis\": \"y6\"}, {\"marker\": {\"color\": [\"rgb(178,24,43)\", \"rgb(178,24,43)\", \"rgb(178,24,43)\", \"rgb(178,24,43)\", \"rgb(178,24,43)\", \"rgb(178,24,43)\", \"rgb(178,24,43)\"]}, \"x\": [1, 2, 3, 4, 5, 6, 7], \"y\": [0.19385140905209222, 0.2852263023057216, 0.07771135781383433, 0.13236549957301452, 0.2553373185311699, 0.04782237403928266, 0.007685738684884714], \"type\": \"bar\", \"uid\": \"38a01fdf-5833-4e86-bdec-e7fc9a62489c\", \"xaxis\": \"x30\", \"yaxis\": \"y6\"}, {\"line\": {\"color\": \"gray\", \"shape\": \"spline\", \"width\": 3}, \"mode\": \"lines\", \"x\": [1, 2, 3, 4, 5, 6, 7], \"y\": [0.07185578359124661, 0.13864492108344612, 0.16100379332347023, 0.15654295710950153, 0.12406201137295872, 0.20754597914723844, 0.14034455437213836], \"type\": \"scatter\", \"uid\": \"55088e91-5bb9-4127-aa57-9359105df00e\", \"xaxis\": \"x30\", \"yaxis\": \"y6\"}, {\"marker\": {\"color\": [\"rgb(214,96,77)\", \"rgb(214,96,77)\", \"rgb(214,96,77)\", \"rgb(214,96,77)\", \"rgb(214,96,77)\", \"rgb(214,96,77)\", \"rgb(214,96,77)\"]}, \"x\": [1, 2, 3, 4, 5, 6, 7], \"y\": [0.04093567251461988, 0.15789473684210525, 0.4619883040935672, 0.20857699805068225, 0.04873294346978557, 0.011695906432748537, 0.07017543859649122], \"type\": \"bar\", \"uid\": \"e37cb29f-3525-4c0f-a053-9295cf3aebef\", \"xaxis\": \"x31\", \"yaxis\": \"y7\"}, {\"line\": {\"color\": \"gray\", \"shape\": \"spline\", \"width\": 3}, \"mode\": \"lines\", \"x\": [1, 2, 3, 4, 5, 6, 7], \"y\": [0.07185578359124661, 0.13864492108344612, 0.16100379332347023, 0.15654295710950153, 0.12406201137295872, 0.20754597914723844, 0.14034455437213836], \"type\": \"scatter\", \"uid\": \"1a1a62cb-4bd2-474a-87cc-c567e9619b04\", \"xaxis\": \"x31\", \"yaxis\": \"y7\"}, {\"marker\": {\"color\": [\"rgb(5,48,97)\", \"rgb(5,48,97)\", \"rgb(5,48,97)\", \"rgb(5,48,97)\", \"rgb(5,48,97)\", \"rgb(5,48,97)\", \"rgb(5,48,97)\"]}, \"x\": [1, 2, 3, 4, 5, 6, 7], \"y\": [0.19383259911894274, 0.1196769456681351, 0.3832599118942731, 0.16666666666666666, 0.08957415565345081, 0.041116005873715125, 0.005873715124816446], \"type\": \"bar\", \"uid\": \"38b2c5db-9028-4956-a44d-474db0983d39\", \"xaxis\": \"x32\", \"yaxis\": \"y7\"}, {\"line\": {\"color\": \"gray\", \"shape\": \"spline\", \"width\": 3}, \"mode\": \"lines\", \"x\": [1, 2, 3, 4, 5, 6, 7], \"y\": [0.07185578359124661, 0.13864492108344612, 0.16100379332347023, 0.15654295710950153, 0.12406201137295872, 0.20754597914723844, 0.14034455437213836], \"type\": \"scatter\", \"uid\": \"96921b24-6a31-4337-bbf7-68b4cb30d4c4\", \"xaxis\": \"x32\", \"yaxis\": \"y7\"}, {\"marker\": {\"color\": [\"rgb(33,102,172)\", \"rgb(33,102,172)\", \"rgb(33,102,172)\", \"rgb(33,102,172)\", \"rgb(33,102,172)\", \"rgb(33,102,172)\", \"rgb(33,102,172)\"]}, \"x\": [1, 2, 3, 4, 5, 6, 7], \"y\": [0.13368983957219252, 0.303475935828877, 0.268048128342246, 0.14872994652406418, 0.05949197860962567, 0.0, 0.08656417112299465], \"type\": \"bar\", \"uid\": \"a2edd7fa-9b07-406e-8b61-f048325db961\", \"xaxis\": \"x33\", \"yaxis\": \"y7\"}, {\"line\": {\"color\": \"gray\", \"shape\": \"spline\", \"width\": 3}, \"mode\": \"lines\", \"x\": [1, 2, 3, 4, 5, 6, 7], \"y\": [0.07185578359124661, 0.13864492108344612, 0.16100379332347023, 0.15654295710950153, 0.12406201137295872, 0.20754597914723844, 0.14034455437213836], \"type\": \"scatter\", \"uid\": \"bf3da9fd-f482-4b0e-9aee-eaeccd58e077\", \"xaxis\": \"x33\", \"yaxis\": \"y7\"}, {\"marker\": {\"color\": [\"rgb(244,165,130)\", \"rgb(244,165,130)\", \"rgb(244,165,130)\", \"rgb(244,165,130)\", \"rgb(244,165,130)\", \"rgb(244,165,130)\", \"rgb(244,165,130)\"]}, \"x\": [1, 2, 3, 4, 5, 6, 7], \"y\": [0.16801553900938815, 0.18646811265781807, 0.18646811265781807, 0.1349951440595662, 0.2829394626092587, 0.041113629006150856, 0.0], \"type\": \"bar\", \"uid\": \"0e686552-589c-4907-873b-a81ed73ef64b\", \"xaxis\": \"x34\", \"yaxis\": \"y7\"}, {\"line\": {\"color\": \"gray\", \"shape\": \"spline\", \"width\": 3}, \"mode\": \"lines\", \"x\": [1, 2, 3, 4, 5, 6, 7], \"y\": [0.07185578359124661, 0.13864492108344612, 0.16100379332347023, 0.15654295710950153, 0.12406201137295872, 0.20754597914723844, 0.14034455437213836], \"type\": \"scatter\", \"uid\": \"8ec6aaed-b0ea-4281-8098-6d589114bdbf\", \"xaxis\": \"x34\", \"yaxis\": \"y7\"}, {\"marker\": {\"color\": [\"rgb(178,24,43)\", \"rgb(178,24,43)\", \"rgb(178,24,43)\", \"rgb(178,24,43)\", \"rgb(178,24,43)\", \"rgb(178,24,43)\", \"rgb(178,24,43)\"]}, \"x\": [1, 2, 3, 4, 5, 6, 7], \"y\": [0.048748353096179184, 0.3820816864295125, 0.17654808959156784, 0.2437417654808959, 0.08827404479578392, 0.06060606060606061, 0.0], \"type\": \"bar\", \"uid\": \"58a872f4-56ef-4a1f-bd30-7b95267c0635\", \"xaxis\": \"x35\", \"yaxis\": \"y7\"}, {\"line\": {\"color\": \"gray\", \"shape\": \"spline\", \"width\": 3}, \"mode\": \"lines\", \"x\": [1, 2, 3, 4, 5, 6, 7], \"y\": [0.07185578359124661, 0.13864492108344612, 0.16100379332347023, 0.15654295710950153, 0.12406201137295872, 0.20754597914723844, 0.14034455437213836], \"type\": \"scatter\", \"uid\": \"07e38a6b-602b-44b4-a602-455f8ee54a98\", \"xaxis\": \"x35\", \"yaxis\": \"y7\"}, {\"marker\": {\"color\": [\"rgb(214,96,77)\", \"rgb(214,96,77)\", \"rgb(214,96,77)\", \"rgb(214,96,77)\", \"rgb(214,96,77)\", \"rgb(214,96,77)\", \"rgb(214,96,77)\"]}, \"x\": [1, 2, 3, 4, 5, 6, 7], \"y\": [0.14420358152686144, 0.3110273327049953, 0.2582469368520264, 0.18661639962299717, 0.05655042412818096, 0.03581526861451461, 0.007540056550424128], \"type\": \"bar\", \"uid\": \"dec835e7-ea02-42cd-9fe0-91b255543bce\", \"xaxis\": \"x36\", \"yaxis\": \"y8\"}, {\"line\": {\"color\": \"gray\", \"shape\": \"spline\", \"width\": 3}, \"mode\": \"lines\", \"x\": [1, 2, 3, 4, 5, 6, 7], \"y\": [0.07185578359124661, 0.13864492108344612, 0.16100379332347023, 0.15654295710950153, 0.12406201137295872, 0.20754597914723844, 0.14034455437213836], \"type\": \"scatter\", \"uid\": \"1bc75df9-7d82-4e14-b106-febf35eb1c28\", \"xaxis\": \"x36\", \"yaxis\": \"y8\"}, {\"marker\": {\"color\": [\"rgb(5,48,97)\", \"rgb(5,48,97)\", \"rgb(5,48,97)\", \"rgb(5,48,97)\", \"rgb(5,48,97)\", \"rgb(5,48,97)\", \"rgb(5,48,97)\"]}, \"x\": [1, 2, 3, 4, 5, 6, 7], \"y\": [0.00792393026941363, 0.021394611727416798, 0.04754358161648178, 0.08240887480190175, 0.07210776545166403, 0.4635499207606973, 0.3050713153724247], \"type\": \"bar\", \"uid\": \"4ffa7f7b-c715-423e-9399-4127dbaaef75\", \"xaxis\": \"x37\", \"yaxis\": \"y8\"}, {\"line\": {\"color\": \"gray\", \"shape\": \"spline\", \"width\": 3}, \"mode\": \"lines\", \"x\": [1, 2, 3, 4, 5, 6, 7], \"y\": [0.07185578359124661, 0.13864492108344612, 0.16100379332347023, 0.15654295710950153, 0.12406201137295872, 0.20754597914723844, 0.14034455437213836], \"type\": \"scatter\", \"uid\": \"2e172cf0-4347-44ed-9ddb-1da23586a15e\", \"xaxis\": \"x37\", \"yaxis\": \"y8\"}, {\"marker\": {\"color\": [\"rgb(33,102,172)\", \"rgb(33,102,172)\", \"rgb(33,102,172)\", \"rgb(33,102,172)\", \"rgb(33,102,172)\", \"rgb(33,102,172)\", \"rgb(33,102,172)\"]}, \"x\": [1, 2, 3, 4, 5, 6, 7], \"y\": [0.17459343356857931, 0.3249463025467935, 0.21264191469776006, 0.04326480515495551, 0.16078551702976374, 0.016876342436330162, 0.06689168456581773], \"type\": \"bar\", \"uid\": \"a4a8718c-f7ef-4373-a3e8-11386c94d273\", \"xaxis\": \"x38\", \"yaxis\": \"y8\"}, {\"line\": {\"color\": \"gray\", \"shape\": \"spline\", \"width\": 3}, \"mode\": \"lines\", \"x\": [1, 2, 3, 4, 5, 6, 7], \"y\": [0.07185578359124661, 0.13864492108344612, 0.16100379332347023, 0.15654295710950153, 0.12406201137295872, 0.20754597914723844, 0.14034455437213836], \"type\": \"scatter\", \"uid\": \"4f79d406-ec99-410e-be2e-1d11fd8a36ab\", \"xaxis\": \"x38\", \"yaxis\": \"y8\"}, {\"marker\": {\"color\": [\"rgb(244,165,130)\", \"rgb(244,165,130)\", \"rgb(244,165,130)\", \"rgb(244,165,130)\", \"rgb(244,165,130)\", \"rgb(244,165,130)\", \"rgb(244,165,130)\"]}, \"x\": [1, 2, 3, 4, 5, 6, 7], \"y\": [0.14636449480642116, 0.13471828769279195, 0.22505508341202393, 0.37740006295247086, 0.027384324834749764, 0.08593012275731822, 0.0031476235442241107], \"type\": \"bar\", \"uid\": \"92fa5991-94f7-4be4-a694-0c5295aa5f5a\", \"xaxis\": \"x39\", \"yaxis\": \"y8\"}, {\"line\": {\"color\": \"gray\", \"shape\": \"spline\", \"width\": 3}, \"mode\": \"lines\", \"x\": [1, 2, 3, 4, 5, 6, 7], \"y\": [0.07185578359124661, 0.13864492108344612, 0.16100379332347023, 0.15654295710950153, 0.12406201137295872, 0.20754597914723844, 0.14034455437213836], \"type\": \"scatter\", \"uid\": \"67feaab7-40a3-402f-9b01-23adf984b8bd\", \"xaxis\": \"x39\", \"yaxis\": \"y8\"}, {\"marker\": {\"color\": [\"rgb(178,24,43)\", \"rgb(178,24,43)\", \"rgb(178,24,43)\", \"rgb(178,24,43)\", \"rgb(178,24,43)\", \"rgb(178,24,43)\", \"rgb(178,24,43)\"]}, \"x\": [1, 2, 3, 4, 5, 6, 7], \"y\": [0.05547976352887676, 0.37016825829922695, 0.21418826739427013, 0.22419281491587084, 0.07821737153251478, 0.05593451568894952, 0.0018190086402910413], \"type\": \"bar\", \"uid\": \"b3f0291d-40e6-42d8-9b4f-52dbc6837f59\", \"xaxis\": \"x40\", \"yaxis\": \"y8\"}, {\"line\": {\"color\": \"gray\", \"shape\": \"spline\", \"width\": 3}, \"mode\": \"lines\", \"x\": [1, 2, 3, 4, 5, 6, 7], \"y\": [0.07185578359124661, 0.13864492108344612, 0.16100379332347023, 0.15654295710950153, 0.12406201137295872, 0.20754597914723844, 0.14034455437213836], \"type\": \"scatter\", \"uid\": \"5cf4c0bd-4072-45b2-8518-28900d97d5c1\", \"xaxis\": \"x40\", \"yaxis\": \"y8\"}, {\"marker\": {\"color\": [\"rgb(214,96,77)\", \"rgb(214,96,77)\", \"rgb(214,96,77)\", \"rgb(214,96,77)\", \"rgb(214,96,77)\", \"rgb(214,96,77)\", \"rgb(214,96,77)\"]}, \"x\": [1, 2, 3, 4, 5, 6, 7], \"y\": [0.0910981697171381, 0.189891846921797, 0.3257071547420965, 0.26955074875207985, 0.07612312811980033, 0.047628951747088186, 0.0], \"type\": \"bar\", \"uid\": \"a625e273-4a20-40ff-8aa0-4a1bebfac3a5\", \"xaxis\": \"x41\", \"yaxis\": \"y9\"}, {\"line\": {\"color\": \"gray\", \"shape\": \"spline\", \"width\": 3}, \"mode\": \"lines\", \"x\": [1, 2, 3, 4, 5, 6, 7], \"y\": [0.07185578359124661, 0.13864492108344612, 0.16100379332347023, 0.15654295710950153, 0.12406201137295872, 0.20754597914723844, 0.14034455437213836], \"type\": \"scatter\", \"uid\": \"4e524db5-4a4f-4a5e-83d4-1c8b2a8583cf\", \"xaxis\": \"x41\", \"yaxis\": \"y9\"}, {\"marker\": {\"color\": [\"rgb(5,48,97)\", \"rgb(5,48,97)\", \"rgb(5,48,97)\", \"rgb(5,48,97)\", \"rgb(5,48,97)\", \"rgb(5,48,97)\", \"rgb(5,48,97)\"]}, \"x\": [1, 2, 3, 4, 5, 6, 7], \"y\": [0.06526228831061545, 0.29574555968608013, 0.2610491532424618, 0.23833126807104502, 0.09417596034696406, 0.04543577034283354, 0.0], \"type\": \"bar\", \"uid\": \"f778a7e0-5b1b-45f5-baa2-01eb6fa16522\", \"xaxis\": \"x42\", \"yaxis\": \"y9\"}, {\"line\": {\"color\": \"gray\", \"shape\": \"spline\", \"width\": 3}, \"mode\": \"lines\", \"x\": [1, 2, 3, 4, 5, 6, 7], \"y\": [0.07185578359124661, 0.13864492108344612, 0.16100379332347023, 0.15654295710950153, 0.12406201137295872, 0.20754597914723844, 0.14034455437213836], \"type\": \"scatter\", \"uid\": \"d3cbd17e-5adc-4c36-b57b-b0a1477ad774\", \"xaxis\": \"x42\", \"yaxis\": \"y9\"}, {\"marker\": {\"color\": [\"rgb(33,102,172)\", \"rgb(33,102,172)\", \"rgb(33,102,172)\", \"rgb(33,102,172)\", \"rgb(33,102,172)\", \"rgb(33,102,172)\", \"rgb(33,102,172)\"]}, \"x\": [1, 2, 3, 4, 5, 6, 7], \"y\": [0.17111077251257048, 0.20006094773731525, 0.2259637360962974, 0.28614962669510896, 0.07054700594240439, 0.04342526283711717, 0.0027426481791863475], \"type\": \"bar\", \"uid\": \"556c8071-2c36-42f8-a0e9-1698a1b4bbdf\", \"xaxis\": \"x43\", \"yaxis\": \"y9\"}, {\"line\": {\"color\": \"gray\", \"shape\": \"spline\", \"width\": 3}, \"mode\": \"lines\", \"x\": [1, 2, 3, 4, 5, 6, 7], \"y\": [0.07185578359124661, 0.13864492108344612, 0.16100379332347023, 0.15654295710950153, 0.12406201137295872, 0.20754597914723844, 0.14034455437213836], \"type\": \"scatter\", \"uid\": \"c1f3bacb-acb0-4e84-81d7-89d1f16d7884\", \"xaxis\": \"x43\", \"yaxis\": \"y9\"}, {\"marker\": {\"color\": [\"rgb(244,165,130)\", \"rgb(244,165,130)\", \"rgb(244,165,130)\", \"rgb(244,165,130)\", \"rgb(244,165,130)\", \"rgb(244,165,130)\", \"rgb(244,165,130)\"]}, \"x\": [1, 2, 3, 4, 5, 6, 7], \"y\": [0.07678286625655047, 0.16336295283663704, 0.24743677375256323, 0.3595352016404648, 0.1114149008885851, 0.038049669628617, 0.003417634996582365], \"type\": \"bar\", \"uid\": \"27293ce0-a84c-45e8-a432-94e74bf768b1\", \"xaxis\": \"x44\", \"yaxis\": \"y9\"}, {\"line\": {\"color\": \"gray\", \"shape\": \"spline\", \"width\": 3}, \"mode\": \"lines\", \"x\": [1, 2, 3, 4, 5, 6, 7], \"y\": [0.07185578359124661, 0.13864492108344612, 0.16100379332347023, 0.15654295710950153, 0.12406201137295872, 0.20754597914723844, 0.14034455437213836], \"type\": \"scatter\", \"uid\": \"c827803a-ff3e-4118-baca-248a21b941d1\", \"xaxis\": \"x44\", \"yaxis\": \"y9\"}, {\"marker\": {\"color\": [\"rgb(178,24,43)\", \"rgb(178,24,43)\", \"rgb(178,24,43)\", \"rgb(178,24,43)\", \"rgb(178,24,43)\", \"rgb(178,24,43)\", \"rgb(178,24,43)\"]}, \"x\": [1, 2, 3, 4, 5, 6, 7], \"y\": [0.024369747899159664, 0.18403361344537816, 0.3899159663865546, 0.22268907563025211, 0.12941176470588237, 0.02100840336134454, 0.02857142857142857], \"type\": \"bar\", \"uid\": \"26500973-9f36-4255-89c8-32d237a81142\", \"xaxis\": \"x45\", \"yaxis\": \"y9\"}, {\"line\": {\"color\": \"gray\", \"shape\": \"spline\", \"width\": 3}, \"mode\": \"lines\", \"x\": [1, 2, 3, 4, 5, 6, 7], \"y\": [0.07185578359124661, 0.13864492108344612, 0.16100379332347023, 0.15654295710950153, 0.12406201137295872, 0.20754597914723844, 0.14034455437213836], \"type\": \"scatter\", \"uid\": \"8d6b920c-abb2-4abd-bed2-7cc2c52a0cc2\", \"xaxis\": \"x45\", \"yaxis\": \"y9\"}, {\"marker\": {\"color\": [\"rgb(214,96,77)\", \"rgb(214,96,77)\", \"rgb(214,96,77)\", \"rgb(214,96,77)\", \"rgb(214,96,77)\", \"rgb(214,96,77)\", \"rgb(214,96,77)\"]}, \"x\": [1, 2, 3, 4, 5, 6, 7], \"y\": [0.1342957130358705, 0.25065616797900264, 0.21303587051618547, 0.2755905511811024, 0.07961504811898512, 0.04505686789151356, 0.0017497812773403325], \"type\": \"bar\", \"uid\": \"b14ae2c0-176f-4ef1-8e6e-c18556676d2a\", \"xaxis\": \"x46\", \"yaxis\": \"y10\"}, {\"line\": {\"color\": \"gray\", \"shape\": \"spline\", \"width\": 3}, \"mode\": \"lines\", \"x\": [1, 2, 3, 4, 5, 6, 7], \"y\": [0.07185578359124661, 0.13864492108344612, 0.16100379332347023, 0.15654295710950153, 0.12406201137295872, 0.20754597914723844, 0.14034455437213836], \"type\": \"scatter\", \"uid\": \"21d29ac6-54ec-4fa2-89aa-5bcc40652e15\", \"xaxis\": \"x46\", \"yaxis\": \"y10\"}, {\"marker\": {\"color\": [\"rgb(5,48,97)\", \"rgb(5,48,97)\", \"rgb(5,48,97)\", \"rgb(5,48,97)\", \"rgb(5,48,97)\", \"rgb(5,48,97)\", \"rgb(5,48,97)\"]}, \"x\": [1, 2, 3, 4, 5, 6, 7], \"y\": [0.1985136251032205, 0.23649876135425268, 0.212056151940545, 0.2184971098265896, 0.08257638315441784, 0.04888521882741536, 0.002972749793559042], \"type\": \"bar\", \"uid\": \"f3fd9cff-0cff-4952-b4ce-366c888a860b\", \"xaxis\": \"x47\", \"yaxis\": \"y10\"}, {\"line\": {\"color\": \"gray\", \"shape\": \"spline\", \"width\": 3}, \"mode\": \"lines\", \"x\": [1, 2, 3, 4, 5, 6, 7], \"y\": [0.07185578359124661, 0.13864492108344612, 0.16100379332347023, 0.15654295710950153, 0.12406201137295872, 0.20754597914723844, 0.14034455437213836], \"type\": \"scatter\", \"uid\": \"83ef7087-3c5f-4d9d-a57b-e48a5436df4e\", \"xaxis\": \"x47\", \"yaxis\": \"y10\"}, {\"marker\": {\"color\": [\"rgb(33,102,172)\", \"rgb(33,102,172)\", \"rgb(33,102,172)\", \"rgb(33,102,172)\", \"rgb(33,102,172)\", \"rgb(33,102,172)\", \"rgb(33,102,172)\"]}, \"x\": [1, 2, 3, 4, 5, 6, 7], \"y\": [0.04226475279106858, 0.2751196172248804, 0.2535885167464115, 0.2631578947368421, 0.11004784688995216, 0.05502392344497608, 0.0007974481658692185], \"type\": \"bar\", \"uid\": \"9cc66478-0872-462d-9890-191d12d67c3d\", \"xaxis\": \"x48\", \"yaxis\": \"y10\"}, {\"line\": {\"color\": \"gray\", \"shape\": \"spline\", \"width\": 3}, \"mode\": \"lines\", \"x\": [1, 2, 3, 4, 5, 6, 7], \"y\": [0.07185578359124661, 0.13864492108344612, 0.16100379332347023, 0.15654295710950153, 0.12406201137295872, 0.20754597914723844, 0.14034455437213836], \"type\": \"scatter\", \"uid\": \"a04d7867-c2e6-4248-8d73-b28b0d845572\", \"xaxis\": \"x48\", \"yaxis\": \"y10\"}, {\"marker\": {\"color\": [\"rgb(244,165,130)\", \"rgb(244,165,130)\", \"rgb(244,165,130)\", \"rgb(244,165,130)\", \"rgb(244,165,130)\", \"rgb(244,165,130)\", \"rgb(244,165,130)\"]}, \"x\": [1, 2, 3, 4, 5, 6, 7], \"y\": [0.1493680582152432, 0.22826503255457678, 0.3086939869781693, 0.20834929145921102, 0.04825737265415549, 0.045576407506702415, 0.011489850631941785], \"type\": \"bar\", \"uid\": \"69e0f067-dbb9-4084-ba3d-367f64408ac0\", \"xaxis\": \"x49\", \"yaxis\": \"y10\"}, {\"line\": {\"color\": \"gray\", \"shape\": \"spline\", \"width\": 3}, \"mode\": \"lines\", \"x\": [1, 2, 3, 4, 5, 6, 7], \"y\": [0.07185578359124661, 0.13864492108344612, 0.16100379332347023, 0.15654295710950153, 0.12406201137295872, 0.20754597914723844, 0.14034455437213836], \"type\": \"scatter\", \"uid\": \"cda019b9-1e90-4461-a05f-489177e6a1bc\", \"xaxis\": \"x49\", \"yaxis\": \"y10\"}, {\"marker\": {\"color\": [\"rgb(178,24,43)\", \"rgb(178,24,43)\", \"rgb(178,24,43)\", \"rgb(178,24,43)\", \"rgb(178,24,43)\", \"rgb(178,24,43)\", \"rgb(178,24,43)\"]}, \"x\": [1, 2, 3, 4, 5, 6, 7], \"y\": [0.07318992654774396, 0.1558237145855194, 0.2867261280167891, 0.3273871983210913, 0.11267051416579224, 0.037644281217208815, 0.006558237145855194], \"type\": \"bar\", \"uid\": \"d702436e-d8d9-4cd0-a63c-7318f0c423af\", \"xaxis\": \"x50\", \"yaxis\": \"y10\"}, {\"line\": {\"color\": \"gray\", \"shape\": \"spline\", \"width\": 3}, \"mode\": \"lines\", \"x\": [1, 2, 3, 4, 5, 6, 7], \"y\": [0.07185578359124661, 0.13864492108344612, 0.16100379332347023, 0.15654295710950153, 0.12406201137295872, 0.20754597914723844, 0.14034455437213836], \"type\": \"scatter\", \"uid\": \"f63dd859-fb25-4b48-817e-393ec4e6ca96\", \"xaxis\": \"x50\", \"yaxis\": \"y10\"}, {\"marker\": {\"color\": [\"rgb(214,96,77)\", \"rgb(214,96,77)\", \"rgb(214,96,77)\", \"rgb(214,96,77)\", \"rgb(214,96,77)\", \"rgb(214,96,77)\", \"rgb(214,96,77)\"]}, \"x\": [1, 2, 3, 4, 5, 6, 7], \"y\": [0.17731015553522414, 0.210064043915828, 0.21884720951509606, 0.2585544373284538, 0.08142726440988106, 0.05141811527904849, 0.0023787740164684353], \"type\": \"bar\", \"uid\": \"07a6ce6e-716e-4592-9309-9830395344bb\", \"xaxis\": \"x51\", \"yaxis\": \"y11\"}, {\"line\": {\"color\": \"gray\", \"shape\": \"spline\", \"width\": 3}, \"mode\": \"lines\", \"x\": [1, 2, 3, 4, 5, 6, 7], \"y\": [0.07185578359124661, 0.13864492108344612, 0.16100379332347023, 0.15654295710950153, 0.12406201137295872, 0.20754597914723844, 0.14034455437213836], \"type\": \"scatter\", \"uid\": \"f3d4331c-d214-4cc4-9e2d-c1cd2a55930c\", \"xaxis\": \"x51\", \"yaxis\": \"y11\"}, {\"marker\": {\"color\": [\"rgb(5,48,97)\", \"rgb(5,48,97)\", \"rgb(5,48,97)\", \"rgb(5,48,97)\", \"rgb(5,48,97)\", \"rgb(5,48,97)\", \"rgb(5,48,97)\"]}, \"x\": [1, 2, 3, 4, 5, 6, 7], \"y\": [0.0818686401480111, 0.20074005550416282, 0.2664199814986124, 0.28538390379278444, 0.11748381128584644, 0.04810360777058279, 0.0], \"type\": \"bar\", \"uid\": \"50cbc938-fc8c-450a-b72b-e9310ee30e7c\", \"xaxis\": \"x52\", \"yaxis\": \"y11\"}, {\"line\": {\"color\": \"gray\", \"shape\": \"spline\", \"width\": 3}, \"mode\": \"lines\", \"x\": [1, 2, 3, 4, 5, 6, 7], \"y\": [0.07185578359124661, 0.13864492108344612, 0.16100379332347023, 0.15654295710950153, 0.12406201137295872, 0.20754597914723844, 0.14034455437213836], \"type\": \"scatter\", \"uid\": \"d06e898b-29c6-4bd4-abdb-567a051a018b\", \"xaxis\": \"x52\", \"yaxis\": \"y11\"}, {\"marker\": {\"color\": [\"rgb(33,102,172)\", \"rgb(33,102,172)\", \"rgb(33,102,172)\", \"rgb(33,102,172)\", \"rgb(33,102,172)\", \"rgb(33,102,172)\", \"rgb(33,102,172)\"]}, \"x\": [1, 2, 3, 4, 5, 6, 7], \"y\": [0.07104557640750671, 0.32497127537342013, 0.2525852163921869, 0.22788203753351208, 0.05132133282267331, 0.06798161623898889, 0.004212945231711987], \"type\": \"bar\", \"uid\": \"10ce4846-d87c-4032-a938-a57f061a3643\", \"xaxis\": \"x53\", \"yaxis\": \"y11\"}, {\"line\": {\"color\": \"gray\", \"shape\": \"spline\", \"width\": 3}, \"mode\": \"lines\", \"x\": [1, 2, 3, 4, 5, 6, 7], \"y\": [0.07185578359124661, 0.13864492108344612, 0.16100379332347023, 0.15654295710950153, 0.12406201137295872, 0.20754597914723844, 0.14034455437213836], \"type\": \"scatter\", \"uid\": \"34487296-630f-4413-91c3-287be2f9dbbf\", \"xaxis\": \"x53\", \"yaxis\": \"y11\"}, {\"marker\": {\"color\": [\"rgb(244,165,130)\", \"rgb(244,165,130)\", \"rgb(244,165,130)\", \"rgb(244,165,130)\", \"rgb(244,165,130)\", \"rgb(244,165,130)\", \"rgb(244,165,130)\"]}, \"x\": [1, 2, 3, 4, 5, 6, 7], \"y\": [0.20703125, 0.3314732142857143, 0.15736607142857142, 0.12555803571428573, 0.07477678571428571, 0.1015625, 0.002232142857142857], \"type\": \"bar\", \"uid\": \"b95546ce-1e7d-4944-bfc3-6f0c6a8aaea1\", \"xaxis\": \"x54\", \"yaxis\": \"y11\"}, {\"line\": {\"color\": \"gray\", \"shape\": \"spline\", \"width\": 3}, \"mode\": \"lines\", \"x\": [1, 2, 3, 4, 5, 6, 7], \"y\": [0.07185578359124661, 0.13864492108344612, 0.16100379332347023, 0.15654295710950153, 0.12406201137295872, 0.20754597914723844, 0.14034455437213836], \"type\": \"scatter\", \"uid\": \"8ea87721-9d42-452d-9549-1b4b82e59a49\", \"xaxis\": \"x54\", \"yaxis\": \"y11\"}, {\"marker\": {\"color\": [\"rgb(178,24,43)\", \"rgb(178,24,43)\", \"rgb(178,24,43)\", \"rgb(178,24,43)\", \"rgb(178,24,43)\", \"rgb(178,24,43)\", \"rgb(178,24,43)\"]}, \"x\": [1, 2, 3, 4, 5, 6, 7], \"y\": [0.06627680311890838, 0.24171539961013644, 0.4191033138401559, 0.1267056530214425, 0.030214424951267055, 0.10331384015594541, 0.012670565302144249], \"type\": \"bar\", \"uid\": \"6f919177-9fd1-4086-be58-93c48c5a7ec0\", \"xaxis\": \"x55\", \"yaxis\": \"y11\"}, {\"line\": {\"color\": \"gray\", \"shape\": \"spline\", \"width\": 3}, \"mode\": \"lines\", \"x\": [1, 2, 3, 4, 5, 6, 7], \"y\": [0.07185578359124661, 0.13864492108344612, 0.16100379332347023, 0.15654295710950153, 0.12406201137295872, 0.20754597914723844, 0.14034455437213836], \"type\": \"scatter\", \"uid\": \"28a92759-bae2-4146-8ec5-248a728b67ec\", \"xaxis\": \"x55\", \"yaxis\": \"y11\"}, {\"marker\": {\"color\": [\"rgb(214,96,77)\", \"rgb(214,96,77)\", \"rgb(214,96,77)\", \"rgb(214,96,77)\", \"rgb(214,96,77)\", \"rgb(214,96,77)\", \"rgb(214,96,77)\"]}, \"x\": [1, 2, 3, 4, 5, 6, 7], \"y\": [0.08892238131122833, 0.2848530519969857, 0.28372268274302936, 0.17520723436322533, 0.11077618688771665, 0.05614167294649586, 0.00037678975131876413], \"type\": \"bar\", \"uid\": \"afa7a34a-e508-48f2-8f56-5c4a554d12ef\", \"xaxis\": \"x56\", \"yaxis\": \"y12\"}, {\"line\": {\"color\": \"gray\", \"shape\": \"spline\", \"width\": 3}, \"mode\": \"lines\", \"x\": [1, 2, 3, 4, 5, 6, 7], \"y\": [0.07185578359124661, 0.13864492108344612, 0.16100379332347023, 0.15654295710950153, 0.12406201137295872, 0.20754597914723844, 0.14034455437213836], \"type\": \"scatter\", \"uid\": \"a999ff38-5cc7-4c82-8ccc-0caffc8c78df\", \"xaxis\": \"x56\", \"yaxis\": \"y12\"}, {\"marker\": {\"color\": [\"rgb(5,48,97)\", \"rgb(5,48,97)\", \"rgb(5,48,97)\", \"rgb(5,48,97)\", \"rgb(5,48,97)\", \"rgb(5,48,97)\", \"rgb(5,48,97)\"]}, \"x\": [1, 2, 3, 4, 5, 6, 7], \"y\": [0.1645083932853717, 0.2225419664268585, 0.2081534772182254, 0.20047961630695443, 0.16354916067146283, 0.036930455635491605, 0.0038369304556354917], \"type\": \"bar\", \"uid\": \"454e1e86-cb55-4625-a40c-038ae2f40f0d\", \"xaxis\": \"x57\", \"yaxis\": \"y12\"}, {\"line\": {\"color\": \"gray\", \"shape\": \"spline\", \"width\": 3}, \"mode\": \"lines\", \"x\": [1, 2, 3, 4, 5, 6, 7], \"y\": [0.07185578359124661, 0.13864492108344612, 0.16100379332347023, 0.15654295710950153, 0.12406201137295872, 0.20754597914723844, 0.14034455437213836], \"type\": \"scatter\", \"uid\": \"68fad65f-3b0b-478d-b271-7f964b107cd4\", \"xaxis\": \"x57\", \"yaxis\": \"y12\"}, {\"marker\": {\"color\": [\"rgb(33,102,172)\", \"rgb(33,102,172)\", \"rgb(33,102,172)\", \"rgb(33,102,172)\", \"rgb(33,102,172)\", \"rgb(33,102,172)\", \"rgb(33,102,172)\"]}, \"x\": [1, 2, 3, 4, 5, 6, 7], \"y\": [0.02066115702479339, 0.03581267217630854, 0.040633608815427, 0.07644628099173553, 0.07782369146005509, 0.39118457300275483, 0.3574380165289256], \"type\": \"bar\", \"uid\": \"1caa9cc8-3118-44a0-a758-b2c1548aad0c\", \"xaxis\": \"x58\", \"yaxis\": \"y12\"}, {\"line\": {\"color\": \"gray\", \"shape\": \"spline\", \"width\": 3}, \"mode\": \"lines\", \"x\": [1, 2, 3, 4, 5, 6, 7], \"y\": [0.07185578359124661, 0.13864492108344612, 0.16100379332347023, 0.15654295710950153, 0.12406201137295872, 0.20754597914723844, 0.14034455437213836], \"type\": \"scatter\", \"uid\": \"fa7b6a2c-8181-4973-a560-8899d52e8c69\", \"xaxis\": \"x58\", \"yaxis\": \"y12\"}, {\"marker\": {\"color\": [\"rgb(244,165,130)\", \"rgb(244,165,130)\", \"rgb(244,165,130)\", \"rgb(244,165,130)\", \"rgb(244,165,130)\", \"rgb(244,165,130)\", \"rgb(244,165,130)\"]}, \"x\": [1, 2, 3, 4, 5, 6, 7], \"y\": [0.19886363636363635, 0.1903409090909091, 0.16856060606060605, 0.32670454545454547, 0.032196969696969696, 0.043560606060606064, 0.03977272727272727], \"type\": \"bar\", \"uid\": \"7c2af914-138d-470c-98c7-75e26187b506\", \"xaxis\": \"x59\", \"yaxis\": \"y12\"}, {\"line\": {\"color\": \"gray\", \"shape\": \"spline\", \"width\": 3}, \"mode\": \"lines\", \"x\": [1, 2, 3, 4, 5, 6, 7], \"y\": [0.07185578359124661, 0.13864492108344612, 0.16100379332347023, 0.15654295710950153, 0.12406201137295872, 0.20754597914723844, 0.14034455437213836], \"type\": \"scatter\", \"uid\": \"e5ee7a83-66af-434f-b54e-c68bf9cbebc5\", \"xaxis\": \"x59\", \"yaxis\": \"y12\"}, {\"marker\": {\"color\": [\"rgb(178,24,43)\", \"rgb(178,24,43)\", \"rgb(178,24,43)\", \"rgb(178,24,43)\", \"rgb(178,24,43)\", \"rgb(178,24,43)\", \"rgb(178,24,43)\"]}, \"x\": [1, 2, 3, 4, 5, 6, 7], \"y\": [0.08758837391987431, 0.26826394344069127, 0.2969363707776905, 0.2211311861743912, 0.028672427336999214, 0.09269442262372349, 0.004713275726630008], \"type\": \"bar\", \"uid\": \"746f3b3b-99c6-4322-8c37-f24f31ec3a83\", \"xaxis\": \"x60\", \"yaxis\": \"y12\"}, {\"line\": {\"color\": \"gray\", \"shape\": \"spline\", \"width\": 3}, \"mode\": \"lines\", \"x\": [1, 2, 3, 4, 5, 6, 7], \"y\": [0.07185578359124661, 0.13864492108344612, 0.16100379332347023, 0.15654295710950153, 0.12406201137295872, 0.20754597914723844, 0.14034455437213836], \"type\": \"scatter\", \"uid\": \"95224da4-3880-4749-b8fe-8a23d9cd2cd2\", \"xaxis\": \"x60\", \"yaxis\": \"y12\"}, {\"marker\": {\"color\": [\"rgb(214,96,77)\", \"rgb(214,96,77)\", \"rgb(214,96,77)\", \"rgb(214,96,77)\", \"rgb(214,96,77)\", \"rgb(214,96,77)\", \"rgb(214,96,77)\"]}, \"x\": [1, 2, 3, 4, 5, 6, 7], \"y\": [0.10866039571845605, 0.1222834901070386, 0.3172234836198508, 0.239701589361012, 0.157314304249108, 0.053843658773921506, 0.0009730781706130393], \"type\": \"bar\", \"uid\": \"99f20c30-0b3a-454c-bd24-8bc391cff472\", \"xaxis\": \"x61\", \"yaxis\": \"y13\"}, {\"line\": {\"color\": \"gray\", \"shape\": \"spline\", \"width\": 3}, \"mode\": \"lines\", \"x\": [1, 2, 3, 4, 5, 6, 7], \"y\": [0.07185578359124661, 0.13864492108344612, 0.16100379332347023, 0.15654295710950153, 0.12406201137295872, 0.20754597914723844, 0.14034455437213836], \"type\": \"scatter\", \"uid\": \"2fdda0f7-928d-45fc-addc-a1c66f87a105\", \"xaxis\": \"x61\", \"yaxis\": \"y13\"}, {\"marker\": {\"color\": [\"rgb(5,48,97)\", \"rgb(5,48,97)\", \"rgb(5,48,97)\", \"rgb(5,48,97)\", \"rgb(5,48,97)\", \"rgb(5,48,97)\", \"rgb(5,48,97)\"]}, \"x\": [1, 2, 3, 4, 5, 6, 7], \"y\": [0.01647058823529412, 0.03294117647058824, 0.05411764705882353, 0.07823529411764706, 0.06411764705882353, 0.4429411764705882, 0.3111764705882353], \"type\": \"bar\", \"uid\": \"3e13156e-a73a-44fd-9ca1-725e060adbe4\", \"xaxis\": \"x62\", \"yaxis\": \"y13\"}, {\"line\": {\"color\": \"gray\", \"shape\": \"spline\", \"width\": 3}, \"mode\": \"lines\", \"x\": [1, 2, 3, 4, 5, 6, 7], \"y\": [0.07185578359124661, 0.13864492108344612, 0.16100379332347023, 0.15654295710950153, 0.12406201137295872, 0.20754597914723844, 0.14034455437213836], \"type\": \"scatter\", \"uid\": \"c5cd8b1b-a40d-4f6c-a033-27e60e6bde41\", \"xaxis\": \"x62\", \"yaxis\": \"y13\"}, {\"marker\": {\"color\": [\"rgb(33,102,172)\", \"rgb(33,102,172)\", \"rgb(33,102,172)\", \"rgb(33,102,172)\", \"rgb(33,102,172)\", \"rgb(33,102,172)\", \"rgb(33,102,172)\"]}, \"x\": [1, 2, 3, 4, 5, 6, 7], \"y\": [0.10386819484240688, 0.15401146131805157, 0.332378223495702, 0.2628939828080229, 0.032234957020057305, 0.11318051575931232, 0.0014326647564469914], \"type\": \"bar\", \"uid\": \"e10b0142-b31c-4b67-ac81-ae6e889d4de6\", \"xaxis\": \"x63\", \"yaxis\": \"y13\"}, {\"line\": {\"color\": \"gray\", \"shape\": \"spline\", \"width\": 3}, \"mode\": \"lines\", \"x\": [1, 2, 3, 4, 5, 6, 7], \"y\": [0.07185578359124661, 0.13864492108344612, 0.16100379332347023, 0.15654295710950153, 0.12406201137295872, 0.20754597914723844, 0.14034455437213836], \"type\": \"scatter\", \"uid\": \"562f2f38-66e4-4cd9-af6c-f5161d7541af\", \"xaxis\": \"x63\", \"yaxis\": \"y13\"}, {\"marker\": {\"color\": [\"rgb(244,165,130)\", \"rgb(244,165,130)\", \"rgb(244,165,130)\", \"rgb(244,165,130)\", \"rgb(244,165,130)\", \"rgb(244,165,130)\", \"rgb(244,165,130)\"]}, \"x\": [1, 2, 3, 4, 5, 6, 7], \"y\": [0.19562955254942768, 0.23829344432882413, 0.1914672216441207, 0.24401664932362122, 0.06191467221644121, 0.061394380853277836, 0.007284079084287201], \"type\": \"bar\", \"uid\": \"956e00b1-50e5-4a1b-9c39-2de14236cd95\", \"xaxis\": \"x64\", \"yaxis\": \"y13\"}, {\"line\": {\"color\": \"gray\", \"shape\": \"spline\", \"width\": 3}, \"mode\": \"lines\", \"x\": [1, 2, 3, 4, 5, 6, 7], \"y\": [0.07185578359124661, 0.13864492108344612, 0.16100379332347023, 0.15654295710950153, 0.12406201137295872, 0.20754597914723844, 0.14034455437213836], \"type\": \"scatter\", \"uid\": \"c0441728-6269-4f00-8f80-a001caa27751\", \"xaxis\": \"x64\", \"yaxis\": \"y13\"}, {\"marker\": {\"color\": [\"rgb(178,24,43)\", \"rgb(178,24,43)\", \"rgb(178,24,43)\", \"rgb(178,24,43)\", \"rgb(178,24,43)\", \"rgb(178,24,43)\", \"rgb(178,24,43)\"]}, \"x\": [1, 2, 3, 4, 5, 6, 7], \"y\": [0.11017644645055397, 0.25379565038982355, 0.2603610997127616, 0.2470250307755437, 0.06093557652851867, 0.06524415264669675, 0.0024620434961017644], \"type\": \"bar\", \"uid\": \"ba51a55d-cea9-4ac2-845c-175ae3559ecd\", \"xaxis\": \"x65\", \"yaxis\": \"y13\"}, {\"line\": {\"color\": \"gray\", \"shape\": \"spline\", \"width\": 3}, \"mode\": \"lines\", \"x\": [1, 2, 3, 4, 5, 6, 7], \"y\": [0.07185578359124661, 0.13864492108344612, 0.16100379332347023, 0.15654295710950153, 0.12406201137295872, 0.20754597914723844, 0.14034455437213836], \"type\": \"scatter\", \"uid\": \"c62806f1-6fb4-4208-a56d-7559d90fea3c\", \"xaxis\": \"x65\", \"yaxis\": \"y13\"}, {\"marker\": {\"color\": [\"rgb(214,96,77)\", \"rgb(214,96,77)\", \"rgb(214,96,77)\", \"rgb(214,96,77)\", \"rgb(214,96,77)\", \"rgb(214,96,77)\", \"rgb(214,96,77)\"]}, \"x\": [1, 2, 3, 4, 5, 6, 7], \"y\": [0.1055694098088113, 0.41313383208645055, 0.1546134663341646, 0.17290108063175394, 0.0399002493765586, 0.09808811305070657, 0.015793848711554447], \"type\": \"bar\", \"uid\": \"2c9131d9-a8f4-41f5-a966-0bbc31ca6905\", \"xaxis\": \"x66\", \"yaxis\": \"y14\"}, {\"line\": {\"color\": \"gray\", \"shape\": \"spline\", \"width\": 3}, \"mode\": \"lines\", \"x\": [1, 2, 3, 4, 5, 6, 7], \"y\": [0.07185578359124661, 0.13864492108344612, 0.16100379332347023, 0.15654295710950153, 0.12406201137295872, 0.20754597914723844, 0.14034455437213836], \"type\": \"scatter\", \"uid\": \"3cca5167-1584-4c9c-b87c-5c6b4c13c44d\", \"xaxis\": \"x66\", \"yaxis\": \"y14\"}, {\"marker\": {\"color\": [\"rgb(5,48,97)\", \"rgb(5,48,97)\", \"rgb(5,48,97)\", \"rgb(5,48,97)\", \"rgb(5,48,97)\", \"rgb(5,48,97)\", \"rgb(5,48,97)\"]}, \"x\": [1, 2, 3, 4, 5, 6, 7], \"y\": [0.09838527975966954, 0.31318062335711605, 0.29140067592940294, 0.14457378895981976, 0.0514457378895982, 0.09688321441982727, 0.004130679684566279], \"type\": \"bar\", \"uid\": \"daf844c5-9523-4e2c-b4ca-80e2ccd449b6\", \"xaxis\": \"x67\", \"yaxis\": \"y14\"}, {\"line\": {\"color\": \"gray\", \"shape\": \"spline\", \"width\": 3}, \"mode\": \"lines\", \"x\": [1, 2, 3, 4, 5, 6, 7], \"y\": [0.07185578359124661, 0.13864492108344612, 0.16100379332347023, 0.15654295710950153, 0.12406201137295872, 0.20754597914723844, 0.14034455437213836], \"type\": \"scatter\", \"uid\": \"d96b9276-d0e7-4298-bd9b-6f373c5ca589\", \"xaxis\": \"x67\", \"yaxis\": \"y14\"}, {\"marker\": {\"color\": [\"rgb(33,102,172)\", \"rgb(33,102,172)\", \"rgb(33,102,172)\", \"rgb(33,102,172)\", \"rgb(33,102,172)\", \"rgb(33,102,172)\", \"rgb(33,102,172)\"]}, \"x\": [1, 2, 3, 4, 5, 6, 7], \"y\": [0.06572379367720466, 0.22063227953410983, 0.2575707154742097, 0.28569051580698834, 0.11647254575707154, 0.049750415973377704, 0.004159733777038269], \"type\": \"bar\", \"uid\": \"4ef3a7f0-0c2f-4559-a8f8-28c48e3ff949\", \"xaxis\": \"x68\", \"yaxis\": \"y14\"}, {\"line\": {\"color\": \"gray\", \"shape\": \"spline\", \"width\": 3}, \"mode\": \"lines\", \"x\": [1, 2, 3, 4, 5, 6, 7], \"y\": [0.07185578359124661, 0.13864492108344612, 0.16100379332347023, 0.15654295710950153, 0.12406201137295872, 0.20754597914723844, 0.14034455437213836], \"type\": \"scatter\", \"uid\": \"37bc9eb8-933c-46bf-bca2-1423ef63360f\", \"xaxis\": \"x68\", \"yaxis\": \"y14\"}, {\"marker\": {\"color\": [\"rgb(244,165,130)\", \"rgb(244,165,130)\", \"rgb(244,165,130)\", \"rgb(244,165,130)\", \"rgb(244,165,130)\", \"rgb(244,165,130)\", \"rgb(244,165,130)\"]}, \"x\": [1, 2, 3, 4, 5, 6, 7], \"y\": [0.205, 0.154375, 0.176875, 0.286875, 0.093125, 0.081875, 0.001875], \"type\": \"bar\", \"uid\": \"c7509bb7-7f85-4218-899f-051721f95c4e\", \"xaxis\": \"x69\", \"yaxis\": \"y14\"}, {\"line\": {\"color\": \"gray\", \"shape\": \"spline\", \"width\": 3}, \"mode\": \"lines\", \"x\": [1, 2, 3, 4, 5, 6, 7], \"y\": [0.07185578359124661, 0.13864492108344612, 0.16100379332347023, 0.15654295710950153, 0.12406201137295872, 0.20754597914723844, 0.14034455437213836], \"type\": \"scatter\", \"uid\": \"072d9227-f7aa-4cae-ba97-08f9fbae7145\", \"xaxis\": \"x69\", \"yaxis\": \"y14\"}, {\"marker\": {\"color\": [\"rgb(178,24,43)\", \"rgb(178,24,43)\", \"rgb(178,24,43)\", \"rgb(178,24,43)\", \"rgb(178,24,43)\", \"rgb(178,24,43)\", \"rgb(178,24,43)\"]}, \"x\": [1, 2, 3, 4, 5, 6, 7], \"y\": [0.07290589451913133, 0.3231644260599793, 0.1907962771458118, 0.2419855222337125, 0.07135470527404343, 0.09979317476732161, 0.0], \"type\": \"bar\", \"uid\": \"71cdc713-ea8c-4770-8520-ae25b7f112f4\", \"xaxis\": \"x70\", \"yaxis\": \"y14\"}, {\"line\": {\"color\": \"gray\", \"shape\": \"spline\", \"width\": 3}, \"mode\": \"lines\", \"x\": [1, 2, 3, 4, 5, 6, 7], \"y\": [0.07185578359124661, 0.13864492108344612, 0.16100379332347023, 0.15654295710950153, 0.12406201137295872, 0.20754597914723844, 0.14034455437213836], \"type\": \"scatter\", \"uid\": \"12cdf818-6071-4b08-9c1e-6c655518049e\", \"xaxis\": \"x70\", \"yaxis\": \"y14\"}, {\"marker\": {\"color\": [\"rgb(214,96,77)\", \"rgb(214,96,77)\", \"rgb(214,96,77)\", \"rgb(214,96,77)\", \"rgb(214,96,77)\", \"rgb(214,96,77)\", \"rgb(214,96,77)\"]}, \"x\": [1, 2, 3, 4, 5, 6, 7], \"y\": [0.10071320510049708, 0.2630213961530149, 0.2826885671061163, 0.22368705424681218, 0.04646639291117355, 0.07823643829695266, 0.005186946185433326], \"type\": \"bar\", \"uid\": \"f76dadc4-c86e-4e83-ad95-672adb0b5ddf\", \"xaxis\": \"x71\", \"yaxis\": \"y15\"}, {\"line\": {\"color\": \"gray\", \"shape\": \"spline\", \"width\": 3}, \"mode\": \"lines\", \"x\": [1, 2, 3, 4, 5, 6, 7], \"y\": [0.07185578359124661, 0.13864492108344612, 0.16100379332347023, 0.15654295710950153, 0.12406201137295872, 0.20754597914723844, 0.14034455437213836], \"type\": \"scatter\", \"uid\": \"3ad68f10-bb6f-4b35-8d67-09b4a3b3090a\", \"xaxis\": \"x71\", \"yaxis\": \"y15\"}, {\"marker\": {\"color\": [\"rgb(5,48,97)\", \"rgb(5,48,97)\", \"rgb(5,48,97)\", \"rgb(5,48,97)\", \"rgb(5,48,97)\", \"rgb(5,48,97)\", \"rgb(5,48,97)\"]}, \"x\": [1, 2, 3, 4, 5, 6, 7], \"y\": [0.1039098274040155, 0.2220852412821416, 0.29957731595632264, 0.23952095808383234, 0.06322648820007044, 0.06762944698837618, 0.0040507220852412824], \"type\": \"bar\", \"uid\": \"4d934358-dad0-4a43-9096-1a352fa3090f\", \"xaxis\": \"x72\", \"yaxis\": \"y15\"}, {\"line\": {\"color\": \"gray\", \"shape\": \"spline\", \"width\": 3}, \"mode\": \"lines\", \"x\": [1, 2, 3, 4, 5, 6, 7], \"y\": [0.07185578359124661, 0.13864492108344612, 0.16100379332347023, 0.15654295710950153, 0.12406201137295872, 0.20754597914723844, 0.14034455437213836], \"type\": \"scatter\", \"uid\": \"0270ee5d-3202-4239-b8ce-583a2b61e46e\", \"xaxis\": \"x72\", \"yaxis\": \"y15\"}, {\"marker\": {\"color\": [\"rgb(33,102,172)\", \"rgb(33,102,172)\", \"rgb(33,102,172)\", \"rgb(33,102,172)\", \"rgb(33,102,172)\", \"rgb(33,102,172)\", \"rgb(33,102,172)\"]}, \"x\": [1, 2, 3, 4, 5, 6, 7], \"y\": [0.125, 0.03884180790960452, 0.043785310734463276, 0.03742937853107345, 0.07838983050847458, 0.4279661016949153, 0.24858757062146894], \"type\": \"bar\", \"uid\": \"d094f778-4f4b-4041-8c0d-988d070e7958\", \"xaxis\": \"x73\", \"yaxis\": \"y15\"}, {\"line\": {\"color\": \"gray\", \"shape\": \"spline\", \"width\": 3}, \"mode\": \"lines\", \"x\": [1, 2, 3, 4, 5, 6, 7], \"y\": [0.07185578359124661, 0.13864492108344612, 0.16100379332347023, 0.15654295710950153, 0.12406201137295872, 0.20754597914723844, 0.14034455437213836], \"type\": \"scatter\", \"uid\": \"2594af3a-689d-4a02-801d-59b02c19010f\", \"xaxis\": \"x73\", \"yaxis\": \"y15\"}, {\"marker\": {\"color\": [\"rgb(244,165,130)\", \"rgb(244,165,130)\", \"rgb(244,165,130)\", \"rgb(244,165,130)\", \"rgb(244,165,130)\", \"rgb(244,165,130)\", \"rgb(244,165,130)\"]}, \"x\": [1, 2, 3, 4, 5, 6, 7], \"y\": [0.0836627140974967, 0.2503293807641634, 0.26877470355731226, 0.24835309617918314, 0.09881422924901186, 0.039525691699604744, 0.010540184453227932], \"type\": \"bar\", \"uid\": \"d48bcccf-254d-4748-85ec-bd2e70ef9db1\", \"xaxis\": \"x74\", \"yaxis\": \"y15\"}, {\"line\": {\"color\": \"gray\", \"shape\": \"spline\", \"width\": 3}, \"mode\": \"lines\", \"x\": [1, 2, 3, 4, 5, 6, 7], \"y\": [0.07185578359124661, 0.13864492108344612, 0.16100379332347023, 0.15654295710950153, 0.12406201137295872, 0.20754597914723844, 0.14034455437213836], \"type\": \"scatter\", \"uid\": \"00c8fca7-ee93-4a8a-8b01-409dcf8d00dd\", \"xaxis\": \"x74\", \"yaxis\": \"y15\"}, {\"marker\": {\"color\": [\"rgb(178,24,43)\", \"rgb(178,24,43)\", \"rgb(178,24,43)\", \"rgb(178,24,43)\", \"rgb(178,24,43)\", \"rgb(178,24,43)\", \"rgb(178,24,43)\"]}, \"x\": [1, 2, 3, 4, 5, 6, 7], \"y\": [0.10010881392818281, 0.2105549510337323, 0.27720348204570183, 0.25489662676822633, 0.09956474428726877, 0.0544069640914037, 0.003264417845484222], \"type\": \"bar\", \"uid\": \"4c8caa23-befc-4953-8f55-33cfef510407\", \"xaxis\": \"x75\", \"yaxis\": \"y15\"}, {\"line\": {\"color\": \"gray\", \"shape\": \"spline\", \"width\": 3}, \"mode\": \"lines\", \"x\": [1, 2, 3, 4, 5, 6, 7], \"y\": [0.07185578359124661, 0.13864492108344612, 0.16100379332347023, 0.15654295710950153, 0.12406201137295872, 0.20754597914723844, 0.14034455437213836], \"type\": \"scatter\", \"uid\": \"fec6f302-8699-4e5a-b9e2-c8adf182f47d\", \"xaxis\": \"x75\", \"yaxis\": \"y15\"}, {\"marker\": {\"color\": [\"rgb(214,96,77)\", \"rgb(214,96,77)\", \"rgb(214,96,77)\", \"rgb(214,96,77)\", \"rgb(214,96,77)\", \"rgb(214,96,77)\", \"rgb(214,96,77)\"]}, \"x\": [1, 2, 3, 4, 5, 6, 7], \"y\": [0.05347255181142224, 0.29299161525075146, 0.2494858408479671, 0.251858883088119, 0.05537098560354374, 0.09365606707799398, 0.0031640563202024997], \"type\": \"bar\", \"uid\": \"1a39b86b-380d-4cc6-a572-7277a80fad4d\", \"xaxis\": \"x76\", \"yaxis\": \"y16\"}, {\"line\": {\"color\": \"gray\", \"shape\": \"spline\", \"width\": 3}, \"mode\": \"lines\", \"x\": [1, 2, 3, 4, 5, 6, 7], \"y\": [0.07185578359124661, 0.13864492108344612, 0.16100379332347023, 0.15654295710950153, 0.12406201137295872, 0.20754597914723844, 0.14034455437213836], \"type\": \"scatter\", \"uid\": \"68c08377-4a5c-4f79-b7e4-ca041bf91d05\", \"xaxis\": \"x76\", \"yaxis\": \"y16\"}, {\"marker\": {\"color\": [\"rgb(5,48,97)\", \"rgb(5,48,97)\", \"rgb(5,48,97)\", \"rgb(5,48,97)\", \"rgb(5,48,97)\", \"rgb(5,48,97)\", \"rgb(5,48,97)\"]}, \"x\": [1, 2, 3, 4, 5, 6, 7], \"y\": [0.11224489795918367, 0.1934850863422292, 0.3410518053375196, 0.21153846153846154, 0.07103610675039246, 0.06475667189952904, 0.005886970172684459], \"type\": \"bar\", \"uid\": \"999fa7e8-205f-420f-aef6-c9ebf270de11\", \"xaxis\": \"x77\", \"yaxis\": \"y16\"}, {\"line\": {\"color\": \"gray\", \"shape\": \"spline\", \"width\": 3}, \"mode\": \"lines\", \"x\": [1, 2, 3, 4, 5, 6, 7], \"y\": [0.07185578359124661, 0.13864492108344612, 0.16100379332347023, 0.15654295710950153, 0.12406201137295872, 0.20754597914723844, 0.14034455437213836], \"type\": \"scatter\", \"uid\": \"f3a235c2-0d89-4006-9e26-86de8c2602cb\", \"xaxis\": \"x77\", \"yaxis\": \"y16\"}, {\"marker\": {\"color\": [\"rgb(33,102,172)\", \"rgb(33,102,172)\", \"rgb(33,102,172)\", \"rgb(33,102,172)\", \"rgb(33,102,172)\", \"rgb(33,102,172)\", \"rgb(33,102,172)\"]}, \"x\": [1, 2, 3, 4, 5, 6, 7], \"y\": [0.07932502759817063, 0.26415391894023027, 0.3051569153130421, 0.2001261630657625, 0.06607790569310834, 0.08295221573884246, 0.0022078536508437154], \"type\": \"bar\", \"uid\": \"9faea9c0-aaec-4aa1-b8b3-28cd14a36f80\", \"xaxis\": \"x78\", \"yaxis\": \"y16\"}, {\"line\": {\"color\": \"gray\", \"shape\": \"spline\", \"width\": 3}, \"mode\": \"lines\", \"x\": [1, 2, 3, 4, 5, 6, 7], \"y\": [0.07185578359124661, 0.13864492108344612, 0.16100379332347023, 0.15654295710950153, 0.12406201137295872, 0.20754597914723844, 0.14034455437213836], \"type\": \"scatter\", \"uid\": \"99fb0990-4f70-47e3-b445-03abcd764f9e\", \"xaxis\": \"x78\", \"yaxis\": \"y16\"}, {\"marker\": {\"color\": [\"rgb(244,165,130)\", \"rgb(244,165,130)\", \"rgb(244,165,130)\", \"rgb(244,165,130)\", \"rgb(244,165,130)\", \"rgb(244,165,130)\", \"rgb(244,165,130)\"]}, \"x\": [1, 2, 3, 4, 5, 6, 7], \"y\": [0.10486486486486486, 0.28405405405405404, 0.23837837837837839, 0.24864864864864866, 0.06027027027027027, 0.04891891891891892, 0.014864864864864866], \"type\": \"bar\", \"uid\": \"9d68ffab-8394-43cd-aa0b-f376856e5865\", \"xaxis\": \"x79\", \"yaxis\": \"y16\"}, {\"line\": {\"color\": \"gray\", \"shape\": \"spline\", \"width\": 3}, \"mode\": \"lines\", \"x\": [1, 2, 3, 4, 5, 6, 7], \"y\": [0.07185578359124661, 0.13864492108344612, 0.16100379332347023, 0.15654295710950153, 0.12406201137295872, 0.20754597914723844, 0.14034455437213836], \"type\": \"scatter\", \"uid\": \"0cd4d102-6acc-4788-9318-24d7c8c20f5f\", \"xaxis\": \"x79\", \"yaxis\": \"y16\"}, {\"marker\": {\"color\": [\"rgb(178,24,43)\", \"rgb(178,24,43)\", \"rgb(178,24,43)\", \"rgb(178,24,43)\", \"rgb(178,24,43)\", \"rgb(178,24,43)\", \"rgb(178,24,43)\"]}, \"x\": [1, 2, 3, 4, 5, 6, 7], \"y\": [0.09077705156136529, 0.3747276688453159, 0.1721132897603486, 0.1626724763979666, 0.023965141612200435, 0.16775599128540306, 0.007988380537400145], \"type\": \"bar\", \"uid\": \"04d2ec31-d3e2-4ed4-bbee-c05aff88fa73\", \"xaxis\": \"x80\", \"yaxis\": \"y16\"}, {\"line\": {\"color\": \"gray\", \"shape\": \"spline\", \"width\": 3}, \"mode\": \"lines\", \"x\": [1, 2, 3, 4, 5, 6, 7], \"y\": [0.07185578359124661, 0.13864492108344612, 0.16100379332347023, 0.15654295710950153, 0.12406201137295872, 0.20754597914723844, 0.14034455437213836], \"type\": \"scatter\", \"uid\": \"e56f3483-8e09-4bc8-b1c0-70dcf3535507\", \"xaxis\": \"x80\", \"yaxis\": \"y16\"}, {\"marker\": {\"color\": [\"rgb(214,96,77)\", \"rgb(214,96,77)\", \"rgb(214,96,77)\", \"rgb(214,96,77)\", \"rgb(214,96,77)\", \"rgb(214,96,77)\", \"rgb(214,96,77)\"]}, \"x\": [1, 2, 3, 4, 5, 6, 7], \"y\": [0.13392210800637036, 0.22991168379904445, 0.2451136528159838, 0.2385985232372955, 0.08976400752859418, 0.05892572752280295, 0.003764297089908788], \"type\": \"bar\", \"uid\": \"047a5e97-13ab-4866-a4fe-350660e1f1ab\", \"xaxis\": \"x81\", \"yaxis\": \"y17\"}, {\"line\": {\"color\": \"gray\", \"shape\": \"spline\", \"width\": 3}, \"mode\": \"lines\", \"x\": [1, 2, 3, 4, 5, 6, 7], \"y\": [0.07185578359124661, 0.13864492108344612, 0.16100379332347023, 0.15654295710950153, 0.12406201137295872, 0.20754597914723844, 0.14034455437213836], \"type\": \"scatter\", \"uid\": \"1e908fc3-0737-4eac-b96f-c37bea87d464\", \"xaxis\": \"x81\", \"yaxis\": \"y17\"}, {\"marker\": {\"color\": [\"rgb(5,48,97)\", \"rgb(5,48,97)\", \"rgb(5,48,97)\", \"rgb(5,48,97)\", \"rgb(5,48,97)\", \"rgb(5,48,97)\", \"rgb(5,48,97)\"]}, \"x\": [1, 2, 3, 4, 5, 6, 7], \"y\": [0.1339145987033311, 0.24010731052984574, 0.24055443773753632, 0.24055443773753632, 0.08763693270735524, 0.04806617482673821, 0.009166107757657053], \"type\": \"bar\", \"uid\": \"3dcf5726-e9e6-4c4c-bd0e-0ffba07760b9\", \"xaxis\": \"x82\", \"yaxis\": \"y17\"}, {\"line\": {\"color\": \"gray\", \"shape\": \"spline\", \"width\": 3}, \"mode\": \"lines\", \"x\": [1, 2, 3, 4, 5, 6, 7], \"y\": [0.07185578359124661, 0.13864492108344612, 0.16100379332347023, 0.15654295710950153, 0.12406201137295872, 0.20754597914723844, 0.14034455437213836], \"type\": \"scatter\", \"uid\": \"be1fef90-d739-4a87-a93d-94adce92d104\", \"xaxis\": \"x82\", \"yaxis\": \"y17\"}, {\"marker\": {\"color\": [\"rgb(33,102,172)\", \"rgb(33,102,172)\", \"rgb(33,102,172)\", \"rgb(33,102,172)\", \"rgb(33,102,172)\", \"rgb(33,102,172)\", \"rgb(33,102,172)\"]}, \"x\": [1, 2, 3, 4, 5, 6, 7], \"y\": [0.03188405797101449, 0.12077294685990338, 0.16908212560386474, 0.3516908212560386, 0.242512077294686, 0.07246376811594203, 0.011594202898550725], \"type\": \"bar\", \"uid\": \"64b347c5-95df-46f6-8e82-75d97edec183\", \"xaxis\": \"x83\", \"yaxis\": \"y17\"}, {\"line\": {\"color\": \"gray\", \"shape\": \"spline\", \"width\": 3}, \"mode\": \"lines\", \"x\": [1, 2, 3, 4, 5, 6, 7], \"y\": [0.07185578359124661, 0.13864492108344612, 0.16100379332347023, 0.15654295710950153, 0.12406201137295872, 0.20754597914723844, 0.14034455437213836], \"type\": \"scatter\", \"uid\": \"24e7ec07-d1f5-43ad-89e9-020f010744e6\", \"xaxis\": \"x83\", \"yaxis\": \"y17\"}, {\"marker\": {\"color\": [\"rgb(244,165,130)\", \"rgb(244,165,130)\", \"rgb(244,165,130)\", \"rgb(244,165,130)\", \"rgb(244,165,130)\", \"rgb(244,165,130)\", \"rgb(244,165,130)\"]}, \"x\": [1, 2, 3, 4, 5, 6, 7], \"y\": [0.10687912942090945, 0.192382432957637, 0.27788573649436454, 0.26039642440730665, 0.0765643218033424, 0.08550330353672755, 0.000388651379712398], \"type\": \"bar\", \"uid\": \"f98a5668-afa1-4492-abfe-798d19b93f2b\", \"xaxis\": \"x84\", \"yaxis\": \"y17\"}, {\"line\": {\"color\": \"gray\", \"shape\": \"spline\", \"width\": 3}, \"mode\": \"lines\", \"x\": [1, 2, 3, 4, 5, 6, 7], \"y\": [0.07185578359124661, 0.13864492108344612, 0.16100379332347023, 0.15654295710950153, 0.12406201137295872, 0.20754597914723844, 0.14034455437213836], \"type\": \"scatter\", \"uid\": \"39e54297-ef1f-48db-9134-3f5ab53b0490\", \"xaxis\": \"x84\", \"yaxis\": \"y17\"}, {\"marker\": {\"color\": [\"rgb(178,24,43)\", \"rgb(178,24,43)\", \"rgb(178,24,43)\", \"rgb(178,24,43)\", \"rgb(178,24,43)\", \"rgb(178,24,43)\", \"rgb(178,24,43)\"]}, \"x\": [1, 2, 3, 4, 5, 6, 7], \"y\": [0.09590849098108227, 0.20721513418389792, 0.21821381434227893, 0.31456225252969644, 0.097228332600088, 0.06247250329960405, 0.004399472063352398], \"type\": \"bar\", \"uid\": \"159a996d-fa05-40f5-b4ee-aa9a6b828211\", \"xaxis\": \"x85\", \"yaxis\": \"y17\"}, {\"line\": {\"color\": \"gray\", \"shape\": \"spline\", \"width\": 3}, \"mode\": \"lines\", \"x\": [1, 2, 3, 4, 5, 6, 7], \"y\": [0.07185578359124661, 0.13864492108344612, 0.16100379332347023, 0.15654295710950153, 0.12406201137295872, 0.20754597914723844, 0.14034455437213836], \"type\": \"scatter\", \"uid\": \"e5e52fa1-81fa-475b-8ae3-ed473b6d32e5\", \"xaxis\": \"x85\", \"yaxis\": \"y17\"}, {\"marker\": {\"color\": [\"rgb(214,96,77)\", \"rgb(214,96,77)\", \"rgb(214,96,77)\", \"rgb(214,96,77)\", \"rgb(214,96,77)\", \"rgb(214,96,77)\", \"rgb(214,96,77)\"]}, \"x\": [1, 2, 3, 4, 5, 6, 7], \"y\": [0.05219623502567028, 0.2752424415288078, 0.27067883628066175, 0.2410154021677125, 0.10125499144324016, 0.04107244723331432, 0.018539646320593267], \"type\": \"bar\", \"uid\": \"5dfad383-febc-48e9-a425-6c9cb7a39eda\", \"xaxis\": \"x86\", \"yaxis\": \"y18\"}, {\"line\": {\"color\": \"gray\", \"shape\": \"spline\", \"width\": 3}, \"mode\": \"lines\", \"x\": [1, 2, 3, 4, 5, 6, 7], \"y\": [0.07185578359124661, 0.13864492108344612, 0.16100379332347023, 0.15654295710950153, 0.12406201137295872, 0.20754597914723844, 0.14034455437213836], \"type\": \"scatter\", \"uid\": \"e4bf5cea-dc5a-42de-a8e6-3173bf5e273f\", \"xaxis\": \"x86\", \"yaxis\": \"y18\"}, {\"marker\": {\"color\": [\"rgb(5,48,97)\", \"rgb(5,48,97)\", \"rgb(5,48,97)\", \"rgb(5,48,97)\", \"rgb(5,48,97)\", \"rgb(5,48,97)\", \"rgb(5,48,97)\"]}, \"x\": [1, 2, 3, 4, 5, 6, 7], \"y\": [0.029053420805998126, 0.06466729147141519, 0.05060918462980318, 0.046860356138706656, 0.07497656982193064, 0.4114339268978444, 0.32239925023430177], \"type\": \"bar\", \"uid\": \"6f0bacf8-31bd-4e2f-8162-1749d0a1f058\", \"xaxis\": \"x87\", \"yaxis\": \"y18\"}, {\"line\": {\"color\": \"gray\", \"shape\": \"spline\", \"width\": 3}, \"mode\": \"lines\", \"x\": [1, 2, 3, 4, 5, 6, 7], \"y\": [0.07185578359124661, 0.13864492108344612, 0.16100379332347023, 0.15654295710950153, 0.12406201137295872, 0.20754597914723844, 0.14034455437213836], \"type\": \"scatter\", \"uid\": \"3cc70af3-0962-4b9c-9b2d-7ef148fb5368\", \"xaxis\": \"x87\", \"yaxis\": \"y18\"}, {\"marker\": {\"color\": [\"rgb(33,102,172)\", \"rgb(33,102,172)\", \"rgb(33,102,172)\", \"rgb(33,102,172)\", \"rgb(33,102,172)\", \"rgb(33,102,172)\", \"rgb(33,102,172)\"]}, \"x\": [1, 2, 3, 4, 5, 6, 7], \"y\": [0.06221198156682028, 0.23425499231950844, 0.41321044546851, 0.07987711213517665, 0.07142857142857142, 0.1259600614439324, 0.013056835637480798], \"type\": \"bar\", \"uid\": \"fe4763c8-e40a-446b-9e3c-b37cd6ce57c4\", \"xaxis\": \"x88\", \"yaxis\": \"y18\"}, {\"line\": {\"color\": \"gray\", \"shape\": \"spline\", \"width\": 3}, \"mode\": \"lines\", \"x\": [1, 2, 3, 4, 5, 6, 7], \"y\": [0.07185578359124661, 0.13864492108344612, 0.16100379332347023, 0.15654295710950153, 0.12406201137295872, 0.20754597914723844, 0.14034455437213836], \"type\": \"scatter\", \"uid\": \"e6aa76d8-c50c-40c8-93d5-0c580244f42a\", \"xaxis\": \"x88\", \"yaxis\": \"y18\"}, {\"marker\": {\"color\": [\"rgb(244,165,130)\", \"rgb(244,165,130)\", \"rgb(244,165,130)\", \"rgb(244,165,130)\", \"rgb(244,165,130)\", \"rgb(244,165,130)\", \"rgb(244,165,130)\"]}, \"x\": [1, 2, 3, 4, 5, 6, 7], \"y\": [0.1396797153024911, 0.14501779359430605, 0.1494661921708185, 0.3638790035587189, 0.042704626334519574, 0.15569395017793594, 0.0035587188612099642], \"type\": \"bar\", \"uid\": \"b91e752b-2e53-48de-a434-a5e354394872\", \"xaxis\": \"x89\", \"yaxis\": \"y18\"}, {\"line\": {\"color\": \"gray\", \"shape\": \"spline\", \"width\": 3}, \"mode\": \"lines\", \"x\": [1, 2, 3, 4, 5, 6, 7], \"y\": [0.07185578359124661, 0.13864492108344612, 0.16100379332347023, 0.15654295710950153, 0.12406201137295872, 0.20754597914723844, 0.14034455437213836], \"type\": \"scatter\", \"uid\": \"b90a462d-dc0f-4c84-9be8-94cc14ec7252\", \"xaxis\": \"x89\", \"yaxis\": \"y18\"}, {\"marker\": {\"color\": [\"rgb(178,24,43)\", \"rgb(178,24,43)\", \"rgb(178,24,43)\", \"rgb(178,24,43)\", \"rgb(178,24,43)\", \"rgb(178,24,43)\", \"rgb(178,24,43)\"]}, \"x\": [1, 2, 3, 4, 5, 6, 7], \"y\": [0.03865877712031558, 0.21696252465483234, 0.2682445759368836, 0.32938856015779094, 0.07100591715976332, 0.05009861932938856, 0.02564102564102564], \"type\": \"bar\", \"uid\": \"e942fb16-7b19-4fb8-bc1f-57dd537a2a1c\", \"xaxis\": \"x90\", \"yaxis\": \"y18\"}, {\"line\": {\"color\": \"gray\", \"shape\": \"spline\", \"width\": 3}, \"mode\": \"lines\", \"x\": [1, 2, 3, 4, 5, 6, 7], \"y\": [0.07185578359124661, 0.13864492108344612, 0.16100379332347023, 0.15654295710950153, 0.12406201137295872, 0.20754597914723844, 0.14034455437213836], \"type\": \"scatter\", \"uid\": \"d99d9aac-449c-448f-a905-02bd93a24792\", \"xaxis\": \"x90\", \"yaxis\": \"y18\"}, {\"marker\": {\"color\": [\"rgb(214,96,77)\", \"rgb(214,96,77)\", \"rgb(214,96,77)\", \"rgb(214,96,77)\", \"rgb(214,96,77)\", \"rgb(214,96,77)\", \"rgb(214,96,77)\"]}, \"x\": [1, 2, 3, 4, 5, 6, 7], \"y\": [0.07811993517017828, 0.3014586709886548, 0.24343598055105348, 0.23435980551053484, 0.07779578606158834, 0.04538087520259319, 0.019448946515397084], \"type\": \"bar\", \"uid\": \"421a3833-9a8f-4557-a0b8-ebecc95822dd\", \"xaxis\": \"x91\", \"yaxis\": \"y19\"}, {\"line\": {\"color\": \"gray\", \"shape\": \"spline\", \"width\": 3}, \"mode\": \"lines\", \"x\": [1, 2, 3, 4, 5, 6, 7], \"y\": [0.07185578359124661, 0.13864492108344612, 0.16100379332347023, 0.15654295710950153, 0.12406201137295872, 0.20754597914723844, 0.14034455437213836], \"type\": \"scatter\", \"uid\": \"8487e35c-5b63-4fca-a1a5-7e6836041d1b\", \"xaxis\": \"x91\", \"yaxis\": \"y19\"}, {\"marker\": {\"color\": [\"rgb(5,48,97)\", \"rgb(5,48,97)\", \"rgb(5,48,97)\", \"rgb(5,48,97)\", \"rgb(5,48,97)\", \"rgb(5,48,97)\", \"rgb(5,48,97)\"]}, \"x\": [1, 2, 3, 4, 5, 6, 7], \"y\": [0.05589492974954185, 0.23671350030543678, 0.31062919975565056, 0.22846670739156993, 0.10751374465485644, 0.046426389737324374, 0.014355528405620037], \"type\": \"bar\", \"uid\": \"85bb907b-32ad-4ee3-b0bd-eb8b1dc28784\", \"xaxis\": \"x92\", \"yaxis\": \"y19\"}, {\"line\": {\"color\": \"gray\", \"shape\": \"spline\", \"width\": 3}, \"mode\": \"lines\", \"x\": [1, 2, 3, 4, 5, 6, 7], \"y\": [0.07185578359124661, 0.13864492108344612, 0.16100379332347023, 0.15654295710950153, 0.12406201137295872, 0.20754597914723844, 0.14034455437213836], \"type\": \"scatter\", \"uid\": \"96071d8a-a892-43fb-ae1d-03071c35bd5a\", \"xaxis\": \"x92\", \"yaxis\": \"y19\"}, {\"marker\": {\"color\": [\"rgb(33,102,172)\", \"rgb(33,102,172)\", \"rgb(33,102,172)\", \"rgb(33,102,172)\", \"rgb(33,102,172)\", \"rgb(33,102,172)\", \"rgb(33,102,172)\"]}, \"x\": [1, 2, 3, 4, 5, 6, 7], \"y\": [0.22708208508088676, 0.1390053924505692, 0.2025164769322948, 0.12822049131216298, 0.22588376273217495, 0.06111443978430198, 0.016177351707609346], \"type\": \"bar\", \"uid\": \"699f9908-bcbb-48f4-8459-f2361e2c3e50\", \"xaxis\": \"x93\", \"yaxis\": \"y19\"}, {\"line\": {\"color\": \"gray\", \"shape\": \"spline\", \"width\": 3}, \"mode\": \"lines\", \"x\": [1, 2, 3, 4, 5, 6, 7], \"y\": [0.07185578359124661, 0.13864492108344612, 0.16100379332347023, 0.15654295710950153, 0.12406201137295872, 0.20754597914723844, 0.14034455437213836], \"type\": \"scatter\", \"uid\": \"1c342879-4c55-4706-a76c-a912eb890e59\", \"xaxis\": \"x93\", \"yaxis\": \"y19\"}, {\"marker\": {\"color\": [\"rgb(244,165,130)\", \"rgb(244,165,130)\", \"rgb(244,165,130)\", \"rgb(244,165,130)\", \"rgb(244,165,130)\", \"rgb(244,165,130)\", \"rgb(244,165,130)\"]}, \"x\": [1, 2, 3, 4, 5, 6, 7], \"y\": [0.07475113122171946, 0.23040723981900452, 0.3035294117647059, 0.23239819004524886, 0.08307692307692308, 0.07076923076923076, 0.0050678733031674205], \"type\": \"bar\", \"uid\": \"c3d3f69d-329c-4edf-a5c9-6fc2c1ca4943\", \"xaxis\": \"x94\", \"yaxis\": \"y19\"}, {\"line\": {\"color\": \"gray\", \"shape\": \"spline\", \"width\": 3}, \"mode\": \"lines\", \"x\": [1, 2, 3, 4, 5, 6, 7], \"y\": [0.07185578359124661, 0.13864492108344612, 0.16100379332347023, 0.15654295710950153, 0.12406201137295872, 0.20754597914723844, 0.14034455437213836], \"type\": \"scatter\", \"uid\": \"d5c2514f-3c97-4315-a05a-01bc10f1bcf8\", \"xaxis\": \"x94\", \"yaxis\": \"y19\"}, {\"marker\": {\"color\": [\"rgb(178,24,43)\", \"rgb(178,24,43)\", \"rgb(178,24,43)\", \"rgb(178,24,43)\", \"rgb(178,24,43)\", \"rgb(178,24,43)\", \"rgb(178,24,43)\"]}, \"x\": [1, 2, 3, 4, 5, 6, 7], \"y\": [0.01120206807410599, 0.03188280913399397, 0.06118052563550194, 0.10728134424816889, 0.07496768634209393, 0.4200775527789746, 0.2934080137871607], \"type\": \"bar\", \"uid\": \"03faf827-c0af-4174-b88c-f85e6d82d646\", \"xaxis\": \"x95\", \"yaxis\": \"y19\"}, {\"line\": {\"color\": \"gray\", \"shape\": \"spline\", \"width\": 3}, \"mode\": \"lines\", \"x\": [1, 2, 3, 4, 5, 6, 7], \"y\": [0.07185578359124661, 0.13864492108344612, 0.16100379332347023, 0.15654295710950153, 0.12406201137295872, 0.20754597914723844, 0.14034455437213836], \"type\": \"scatter\", \"uid\": \"2a265c2d-52ff-4c9b-b118-aff6429d3c79\", \"xaxis\": \"x95\", \"yaxis\": \"y19\"}, {\"marker\": {\"color\": [\"rgb(214,96,77)\", \"rgb(214,96,77)\", \"rgb(214,96,77)\", \"rgb(214,96,77)\", \"rgb(214,96,77)\", \"rgb(214,96,77)\", \"rgb(214,96,77)\"]}, \"x\": [1, 2, 3, 4, 5, 6, 7], \"y\": [0.06886354034643008, 0.35361216730038025, 0.21335023236163922, 0.21081537811575835, 0.06759611322348964, 0.07139839459231094, 0.01436417405999155], \"type\": \"bar\", \"uid\": \"10e6e2f7-e765-4a77-8d5c-63846a2080b2\", \"xaxis\": \"x96\", \"yaxis\": \"y20\"}, {\"line\": {\"color\": \"gray\", \"shape\": \"spline\", \"width\": 3}, \"mode\": \"lines\", \"x\": [1, 2, 3, 4, 5, 6, 7], \"y\": [0.07185578359124661, 0.13864492108344612, 0.16100379332347023, 0.15654295710950153, 0.12406201137295872, 0.20754597914723844, 0.14034455437213836], \"type\": \"scatter\", \"uid\": \"0c689e45-48f3-465e-b1d9-9b13c74ed364\", \"xaxis\": \"x96\", \"yaxis\": \"y20\"}, {\"marker\": {\"color\": [\"rgb(5,48,97)\", \"rgb(5,48,97)\", \"rgb(5,48,97)\", \"rgb(5,48,97)\", \"rgb(5,48,97)\", \"rgb(5,48,97)\", \"rgb(5,48,97)\"]}, \"x\": [1, 2, 3, 4, 5, 6, 7], \"y\": [0.024412296564195298, 0.2070524412296564, 0.32007233273056057, 0.2504520795660036, 0.1256781193490054, 0.05515370705244123, 0.017179023508137433], \"type\": \"bar\", \"uid\": \"48f2b806-4829-4a2e-a403-e25bcf842956\", \"xaxis\": \"x97\", \"yaxis\": \"y20\"}, {\"line\": {\"color\": \"gray\", \"shape\": \"spline\", \"width\": 3}, \"mode\": \"lines\", \"x\": [1, 2, 3, 4, 5, 6, 7], \"y\": [0.07185578359124661, 0.13864492108344612, 0.16100379332347023, 0.15654295710950153, 0.12406201137295872, 0.20754597914723844, 0.14034455437213836], \"type\": \"scatter\", \"uid\": \"b8195a8f-f43f-4094-b327-90666649f329\", \"xaxis\": \"x97\", \"yaxis\": \"y20\"}, {\"marker\": {\"color\": [\"rgb(33,102,172)\", \"rgb(33,102,172)\", \"rgb(33,102,172)\", \"rgb(33,102,172)\", \"rgb(33,102,172)\", \"rgb(33,102,172)\", \"rgb(33,102,172)\"]}, \"x\": [1, 2, 3, 4, 5, 6, 7], \"y\": [0.030115830115830116, 0.2416988416988417, 0.27335907335907333, 0.2254826254826255, 0.122007722007722, 0.10733590733590734, 0.0], \"type\": \"bar\", \"uid\": \"0c392a00-06de-4c97-917d-7ede233eac80\", \"xaxis\": \"x98\", \"yaxis\": \"y20\"}, {\"line\": {\"color\": \"gray\", \"shape\": \"spline\", \"width\": 3}, \"mode\": \"lines\", \"x\": [1, 2, 3, 4, 5, 6, 7], \"y\": [0.07185578359124661, 0.13864492108344612, 0.16100379332347023, 0.15654295710950153, 0.12406201137295872, 0.20754597914723844, 0.14034455437213836], \"type\": \"scatter\", \"uid\": \"7587dcc3-4da7-42c5-a93b-b9bb017ca53a\", \"xaxis\": \"x98\", \"yaxis\": \"y20\"}, {\"marker\": {\"color\": [\"rgb(244,165,130)\", \"rgb(244,165,130)\", \"rgb(244,165,130)\", \"rgb(244,165,130)\", \"rgb(244,165,130)\", \"rgb(244,165,130)\", \"rgb(244,165,130)\"]}, \"x\": [1, 2, 3, 4, 5, 6, 7], \"y\": [0.14247251514471618, 0.2317702490464438, 0.17881983396903747, 0.2802333408122055, 0.08166928427193179, 0.08099618577518511, 0.004038590980480144], \"type\": \"bar\", \"uid\": \"a024efc2-9eb7-4708-b3fb-d51611e69e05\", \"xaxis\": \"x99\", \"yaxis\": \"y20\"}, {\"line\": {\"color\": \"gray\", \"shape\": \"spline\", \"width\": 3}, \"mode\": \"lines\", \"x\": [1, 2, 3, 4, 5, 6, 7], \"y\": [0.07185578359124661, 0.13864492108344612, 0.16100379332347023, 0.15654295710950153, 0.12406201137295872, 0.20754597914723844, 0.14034455437213836], \"type\": \"scatter\", \"uid\": \"76c0b252-1fad-4715-80d8-d67218d5c153\", \"xaxis\": \"x99\", \"yaxis\": \"y20\"}, {\"marker\": {\"color\": [\"rgb(178,24,43)\", \"rgb(178,24,43)\", \"rgb(178,24,43)\", \"rgb(178,24,43)\", \"rgb(178,24,43)\", \"rgb(178,24,43)\", \"rgb(178,24,43)\"]}, \"x\": [1, 2, 3, 4, 5, 6, 7], \"y\": [0.0740578439964943, 0.16170026292725678, 0.1722173531989483, 0.3093777388255916, 0.2037686240140228, 0.07712532865907099, 0.0017528483786152498], \"type\": \"bar\", \"uid\": \"321fe5c7-3709-4c8a-ad6a-4e94566b30a7\", \"xaxis\": \"x100\", \"yaxis\": \"y20\"}, {\"line\": {\"color\": \"gray\", \"shape\": \"spline\", \"width\": 3}, \"mode\": \"lines\", \"x\": [1, 2, 3, 4, 5, 6, 7], \"y\": [0.07185578359124661, 0.13864492108344612, 0.16100379332347023, 0.15654295710950153, 0.12406201137295872, 0.20754597914723844, 0.14034455437213836], \"type\": \"scatter\", \"uid\": \"3a868627-e78b-4197-aa98-1a0decba15a0\", \"xaxis\": \"x100\", \"yaxis\": \"y20\"}, {\"marker\": {\"color\": [\"rgb(214,96,77)\", \"rgb(214,96,77)\", \"rgb(214,96,77)\", \"rgb(214,96,77)\", \"rgb(214,96,77)\", \"rgb(214,96,77)\", \"rgb(214,96,77)\"]}, \"x\": [1, 2, 3, 4, 5, 6, 7], \"y\": [0.14174490496908632, 0.2212044882070071, 0.2226929242042592, 0.252690634302725, 0.08094801923517289, 0.07716968170368674, 0.0035493473780627434], \"type\": \"bar\", \"uid\": \"f4672114-d27e-450f-8746-776f86fc3b26\", \"xaxis\": \"x101\", \"yaxis\": \"y21\"}, {\"line\": {\"color\": \"gray\", \"shape\": \"spline\", \"width\": 3}, \"mode\": \"lines\", \"x\": [1, 2, 3, 4, 5, 6, 7], \"y\": [0.07185578359124661, 0.13864492108344612, 0.16100379332347023, 0.15654295710950153, 0.12406201137295872, 0.20754597914723844, 0.14034455437213836], \"type\": \"scatter\", \"uid\": \"4829fe5a-bec3-4dd6-af18-1c4b5bc07562\", \"xaxis\": \"x101\", \"yaxis\": \"y21\"}, {\"marker\": {\"color\": [\"rgb(5,48,97)\", \"rgb(5,48,97)\", \"rgb(5,48,97)\", \"rgb(5,48,97)\", \"rgb(5,48,97)\", \"rgb(5,48,97)\", \"rgb(5,48,97)\"]}, \"x\": [1, 2, 3, 4, 5, 6, 7], \"y\": [0.10566735404963379, 0.21403683424589348, 0.2567019839294603, 0.2743369124653346, 0.08895683709023679, 0.04430064708810354, 0.015999431131337553], \"type\": \"bar\", \"uid\": \"39fd591f-bd0b-4e14-9af8-3c65799b8ab4\", \"xaxis\": \"x102\", \"yaxis\": \"y21\"}, {\"line\": {\"color\": \"gray\", \"shape\": \"spline\", \"width\": 3}, \"mode\": \"lines\", \"x\": [1, 2, 3, 4, 5, 6, 7], \"y\": [0.07185578359124661, 0.13864492108344612, 0.16100379332347023, 0.15654295710950153, 0.12406201137295872, 0.20754597914723844, 0.14034455437213836], \"type\": \"scatter\", \"uid\": \"a8b28af5-40c4-4e9d-9d4f-222e61e06f22\", \"xaxis\": \"x102\", \"yaxis\": \"y21\"}, {\"marker\": {\"color\": [\"rgb(33,102,172)\", \"rgb(33,102,172)\", \"rgb(33,102,172)\", \"rgb(33,102,172)\", \"rgb(33,102,172)\", \"rgb(33,102,172)\", \"rgb(33,102,172)\"]}, \"x\": [1, 2, 3, 4, 5, 6, 7], \"y\": [0.07648953301127215, 0.14009661835748793, 0.3115942028985507, 0.22946859903381642, 0.18276972624798712, 0.04830917874396135, 0.011272141706924315], \"type\": \"bar\", \"uid\": \"3bfcb7ea-037c-4b1d-85f9-143ac64731fd\", \"xaxis\": \"x103\", \"yaxis\": \"y21\"}, {\"line\": {\"color\": \"gray\", \"shape\": \"spline\", \"width\": 3}, \"mode\": \"lines\", \"x\": [1, 2, 3, 4, 5, 6, 7], \"y\": [0.07185578359124661, 0.13864492108344612, 0.16100379332347023, 0.15654295710950153, 0.12406201137295872, 0.20754597914723844, 0.14034455437213836], \"type\": \"scatter\", \"uid\": \"82476205-1ba2-4187-ad9e-594813be1f77\", \"xaxis\": \"x103\", \"yaxis\": \"y21\"}, {\"marker\": {\"color\": [\"rgb(244,165,130)\", \"rgb(244,165,130)\", \"rgb(244,165,130)\", \"rgb(244,165,130)\", \"rgb(244,165,130)\", \"rgb(244,165,130)\", \"rgb(244,165,130)\"]}, \"x\": [1, 2, 3, 4, 5, 6, 7], \"y\": [0.09492140266021766, 0.18137847642079807, 0.3391777509068924, 0.17472793228536881, 0.11185006045949214, 0.09794437726723096, 0.0], \"type\": \"bar\", \"uid\": \"52009a61-7926-4ab6-b05e-e58ace5be04e\", \"xaxis\": \"x104\", \"yaxis\": \"y21\"}, {\"line\": {\"color\": \"gray\", \"shape\": \"spline\", \"width\": 3}, \"mode\": \"lines\", \"x\": [1, 2, 3, 4, 5, 6, 7], \"y\": [0.07185578359124661, 0.13864492108344612, 0.16100379332347023, 0.15654295710950153, 0.12406201137295872, 0.20754597914723844, 0.14034455437213836], \"type\": \"scatter\", \"uid\": \"4d972670-47fe-4c04-94d7-2e5ced3a92e1\", \"xaxis\": \"x104\", \"yaxis\": \"y21\"}, {\"marker\": {\"color\": [\"rgb(178,24,43)\", \"rgb(178,24,43)\", \"rgb(178,24,43)\", \"rgb(178,24,43)\", \"rgb(178,24,43)\", \"rgb(178,24,43)\", \"rgb(178,24,43)\"]}, \"x\": [1, 2, 3, 4, 5, 6, 7], \"y\": [0.08248264597795019, 0.2750102082482646, 0.2605144957125357, 0.21600653327888933, 0.08738260514495713, 0.07349938750510412, 0.005104124132298897], \"type\": \"bar\", \"uid\": \"a1592a18-10c6-41de-b5d7-04a5933f9c51\", \"xaxis\": \"x105\", \"yaxis\": \"y21\"}, {\"line\": {\"color\": \"gray\", \"shape\": \"spline\", \"width\": 3}, \"mode\": \"lines\", \"x\": [1, 2, 3, 4, 5, 6, 7], \"y\": [0.07185578359124661, 0.13864492108344612, 0.16100379332347023, 0.15654295710950153, 0.12406201137295872, 0.20754597914723844, 0.14034455437213836], \"type\": \"scatter\", \"uid\": \"dbf440cb-2ad0-4404-987e-7ee131e174a8\", \"xaxis\": \"x105\", \"yaxis\": \"y21\"}, {\"marker\": {\"color\": [\"rgb(214,96,77)\", \"rgb(214,96,77)\", \"rgb(214,96,77)\", \"rgb(214,96,77)\", \"rgb(214,96,77)\", \"rgb(214,96,77)\", \"rgb(214,96,77)\"]}, \"x\": [1, 2, 3, 4, 5, 6, 7], \"y\": [0.08317757009345794, 0.26635514018691586, 0.2411214953271028, 0.2514018691588785, 0.07476635514018691, 0.07757009345794393, 0.005607476635514018], \"type\": \"bar\", \"uid\": \"03346eb4-03f7-4cce-bc2d-e2a0029ef823\", \"xaxis\": \"x106\", \"yaxis\": \"y22\"}, {\"line\": {\"color\": \"gray\", \"shape\": \"spline\", \"width\": 3}, \"mode\": \"lines\", \"x\": [1, 2, 3, 4, 5, 6, 7], \"y\": [0.07185578359124661, 0.13864492108344612, 0.16100379332347023, 0.15654295710950153, 0.12406201137295872, 0.20754597914723844, 0.14034455437213836], \"type\": \"scatter\", \"uid\": \"fa20ba9b-e023-43ec-b2fc-3393b236725f\", \"xaxis\": \"x106\", \"yaxis\": \"y22\"}, {\"marker\": {\"color\": [\"rgb(5,48,97)\", \"rgb(5,48,97)\", \"rgb(5,48,97)\", \"rgb(5,48,97)\", \"rgb(5,48,97)\", \"rgb(5,48,97)\", \"rgb(5,48,97)\"]}, \"x\": [1, 2, 3, 4, 5, 6, 7], \"y\": [0.028547439126784216, 0.17716204869857263, 0.24181360201511334, 0.2586062132661629, 0.20235096557514692, 0.08900083963056256, 0.0025188916876574307], \"type\": \"bar\", \"uid\": \"2c62e9d0-8bd9-414c-9984-65bdee883b55\", \"xaxis\": \"x107\", \"yaxis\": \"y22\"}, {\"line\": {\"color\": \"gray\", \"shape\": \"spline\", \"width\": 3}, \"mode\": \"lines\", \"x\": [1, 2, 3, 4, 5, 6, 7], \"y\": [0.07185578359124661, 0.13864492108344612, 0.16100379332347023, 0.15654295710950153, 0.12406201137295872, 0.20754597914723844, 0.14034455437213836], \"type\": \"scatter\", \"uid\": \"c162ab70-e195-4cea-91f0-85236f35b0e4\", \"xaxis\": \"x107\", \"yaxis\": \"y22\"}, {\"marker\": {\"color\": [\"rgb(33,102,172)\", \"rgb(33,102,172)\", \"rgb(33,102,172)\", \"rgb(33,102,172)\", \"rgb(33,102,172)\", \"rgb(33,102,172)\", \"rgb(33,102,172)\"]}, \"x\": [1, 2, 3, 4, 5, 6, 7], \"y\": [0.05716302046577276, 0.24064925899788286, 0.360621030345801, 0.09809456598447425, 0.15031757233592097, 0.07974594213126324, 0.013408609738884969], \"type\": \"bar\", \"uid\": \"bb24c3ac-6207-4ec2-9ac4-504dbffe467d\", \"xaxis\": \"x108\", \"yaxis\": \"y22\"}, {\"line\": {\"color\": \"gray\", \"shape\": \"spline\", \"width\": 3}, \"mode\": \"lines\", \"x\": [1, 2, 3, 4, 5, 6, 7], \"y\": [0.07185578359124661, 0.13864492108344612, 0.16100379332347023, 0.15654295710950153, 0.12406201137295872, 0.20754597914723844, 0.14034455437213836], \"type\": \"scatter\", \"uid\": \"6cff948d-5c07-4f4f-bf7f-35491aaedf0b\", \"xaxis\": \"x108\", \"yaxis\": \"y22\"}, {\"marker\": {\"color\": [\"rgb(244,165,130)\", \"rgb(244,165,130)\", \"rgb(244,165,130)\", \"rgb(244,165,130)\", \"rgb(244,165,130)\", \"rgb(244,165,130)\", \"rgb(244,165,130)\"]}, \"x\": [1, 2, 3, 4, 5, 6, 7], \"y\": [0.11746522411128284, 0.1635239567233385, 0.3038639876352396, 0.2550231839258114, 0.0893353941267388, 0.05965996908809892, 0.011128284389489953], \"type\": \"bar\", \"uid\": \"9dbe312d-6cf9-49fc-b88d-f7b1e2a68b7f\", \"xaxis\": \"x109\", \"yaxis\": \"y22\"}, {\"line\": {\"color\": \"gray\", \"shape\": \"spline\", \"width\": 3}, \"mode\": \"lines\", \"x\": [1, 2, 3, 4, 5, 6, 7], \"y\": [0.07185578359124661, 0.13864492108344612, 0.16100379332347023, 0.15654295710950153, 0.12406201137295872, 0.20754597914723844, 0.14034455437213836], \"type\": \"scatter\", \"uid\": \"53729be4-2463-4f3e-979d-933d7c8c5a7a\", \"xaxis\": \"x109\", \"yaxis\": \"y22\"}, {\"marker\": {\"color\": [\"rgb(178,24,43)\", \"rgb(178,24,43)\", \"rgb(178,24,43)\", \"rgb(178,24,43)\", \"rgb(178,24,43)\", \"rgb(178,24,43)\", \"rgb(178,24,43)\"]}, \"x\": [1, 2, 3, 4, 5, 6, 7], \"y\": [0.0831638418079096, 0.19502824858757062, 0.2917514124293785, 0.256271186440678, 0.09988700564971752, 0.06824858757062147, 0.005649717514124294], \"type\": \"bar\", \"uid\": \"48d006e9-197b-44b6-b588-a9aa1e729e02\", \"xaxis\": \"x110\", \"yaxis\": \"y22\"}, {\"line\": {\"color\": \"gray\", \"shape\": \"spline\", \"width\": 3}, \"mode\": \"lines\", \"x\": [1, 2, 3, 4, 5, 6, 7], \"y\": [0.07185578359124661, 0.13864492108344612, 0.16100379332347023, 0.15654295710950153, 0.12406201137295872, 0.20754597914723844, 0.14034455437213836], \"type\": \"scatter\", \"uid\": \"85e7d0ad-52ec-4047-8565-d99d783e8674\", \"xaxis\": \"x110\", \"yaxis\": \"y22\"}, {\"marker\": {\"color\": [\"rgb(214,96,77)\", \"rgb(214,96,77)\", \"rgb(214,96,77)\", \"rgb(214,96,77)\", \"rgb(214,96,77)\", \"rgb(214,96,77)\", \"rgb(214,96,77)\"]}, \"x\": [1, 2, 3, 4, 5, 6, 7], \"y\": [0.09541904158750264, 0.23664766729997888, 0.25438040954190416, 0.27971289845894026, 0.05636478784040532, 0.05742030821194849, 0.020054887059320244], \"type\": \"bar\", \"uid\": \"62c94289-55ae-4725-ac32-3fbe549d19a6\", \"xaxis\": \"x111\", \"yaxis\": \"y23\"}, {\"line\": {\"color\": \"gray\", \"shape\": \"spline\", \"width\": 3}, \"mode\": \"lines\", \"x\": [1, 2, 3, 4, 5, 6, 7], \"y\": [0.07185578359124661, 0.13864492108344612, 0.16100379332347023, 0.15654295710950153, 0.12406201137295872, 0.20754597914723844, 0.14034455437213836], \"type\": \"scatter\", \"uid\": \"d8c1cac4-b026-40a0-bf34-3a329c6d659f\", \"xaxis\": \"x111\", \"yaxis\": \"y23\"}, {\"marker\": {\"color\": [\"rgb(5,48,97)\", \"rgb(5,48,97)\", \"rgb(5,48,97)\", \"rgb(5,48,97)\", \"rgb(5,48,97)\", \"rgb(5,48,97)\", \"rgb(5,48,97)\"]}, \"x\": [1, 2, 3, 4, 5, 6, 7], \"y\": [0.05334890965732087, 0.2908878504672897, 0.24221183800623053, 0.23169781931464176, 0.11604361370716511, 0.045171339563862926, 0.020638629283489095], \"type\": \"bar\", \"uid\": \"df23acab-14e2-42e6-b6ba-279860abff64\", \"xaxis\": \"x112\", \"yaxis\": \"y23\"}, {\"line\": {\"color\": \"gray\", \"shape\": \"spline\", \"width\": 3}, \"mode\": \"lines\", \"x\": [1, 2, 3, 4, 5, 6, 7], \"y\": [0.07185578359124661, 0.13864492108344612, 0.16100379332347023, 0.15654295710950153, 0.12406201137295872, 0.20754597914723844, 0.14034455437213836], \"type\": \"scatter\", \"uid\": \"cf800e15-4342-458e-a023-1e43a22dd1b9\", \"xaxis\": \"x112\", \"yaxis\": \"y23\"}, {\"marker\": {\"color\": [\"rgb(33,102,172)\", \"rgb(33,102,172)\", \"rgb(33,102,172)\", \"rgb(33,102,172)\", \"rgb(33,102,172)\", \"rgb(33,102,172)\", \"rgb(33,102,172)\"]}, \"x\": [1, 2, 3, 4, 5, 6, 7], \"y\": [0.14652711703139867, 0.15509039010466222, 0.24262607040913417, 0.2844909609895338, 0.10180780209324453, 0.05708848715509039, 0.012369172216936251], \"type\": \"bar\", \"uid\": \"8462e28a-5219-47ee-a0e4-e183a88898fd\", \"xaxis\": \"x113\", \"yaxis\": \"y23\"}, {\"line\": {\"color\": \"gray\", \"shape\": \"spline\", \"width\": 3}, \"mode\": \"lines\", \"x\": [1, 2, 3, 4, 5, 6, 7], \"y\": [0.07185578359124661, 0.13864492108344612, 0.16100379332347023, 0.15654295710950153, 0.12406201137295872, 0.20754597914723844, 0.14034455437213836], \"type\": \"scatter\", \"uid\": \"385a95c3-bdf7-452e-aeb7-47df91cbdd36\", \"xaxis\": \"x113\", \"yaxis\": \"y23\"}, {\"marker\": {\"color\": [\"rgb(244,165,130)\", \"rgb(244,165,130)\", \"rgb(244,165,130)\", \"rgb(244,165,130)\", \"rgb(244,165,130)\", \"rgb(244,165,130)\", \"rgb(244,165,130)\"]}, \"x\": [1, 2, 3, 4, 5, 6, 7], \"y\": [0.09694454922670691, 0.23915503583553377, 0.23613730667672575, 0.23500565824217276, 0.12033195020746888, 0.06865333836288193, 0.003772161448509996], \"type\": \"bar\", \"uid\": \"50bbab5d-c8af-46bf-aa0c-78c0d98c0e4a\", \"xaxis\": \"x114\", \"yaxis\": \"y23\"}, {\"line\": {\"color\": \"gray\", \"shape\": \"spline\", \"width\": 3}, \"mode\": \"lines\", \"x\": [1, 2, 3, 4, 5, 6, 7], \"y\": [0.07185578359124661, 0.13864492108344612, 0.16100379332347023, 0.15654295710950153, 0.12406201137295872, 0.20754597914723844, 0.14034455437213836], \"type\": \"scatter\", \"uid\": \"21e91009-e777-4e6a-a721-bce0c42e3abb\", \"xaxis\": \"x114\", \"yaxis\": \"y23\"}, {\"marker\": {\"color\": [\"rgb(178,24,43)\", \"rgb(178,24,43)\", \"rgb(178,24,43)\", \"rgb(178,24,43)\", \"rgb(178,24,43)\", \"rgb(178,24,43)\", \"rgb(178,24,43)\"]}, \"x\": [1, 2, 3, 4, 5, 6, 7], \"y\": [0.08599827139152982, 0.20872947277441659, 0.27009507346586, 0.2677182368193604, 0.0898876404494382, 0.07108902333621435, 0.00648228176318064], \"type\": \"bar\", \"uid\": \"94200387-b276-4349-8f4f-d4c17662f704\", \"xaxis\": \"x115\", \"yaxis\": \"y23\"}, {\"line\": {\"color\": \"gray\", \"shape\": \"spline\", \"width\": 3}, \"mode\": \"lines\", \"x\": [1, 2, 3, 4, 5, 6, 7], \"y\": [0.07185578359124661, 0.13864492108344612, 0.16100379332347023, 0.15654295710950153, 0.12406201137295872, 0.20754597914723844, 0.14034455437213836], \"type\": \"scatter\", \"uid\": \"a120ae0e-1f99-4529-a41d-3ad4ee019ef4\", \"xaxis\": \"x115\", \"yaxis\": \"y23\"}, {\"marker\": {\"color\": [\"rgb(214,96,77)\", \"rgb(214,96,77)\", \"rgb(214,96,77)\", \"rgb(214,96,77)\", \"rgb(214,96,77)\", \"rgb(214,96,77)\", \"rgb(214,96,77)\"]}, \"x\": [1, 2, 3, 4, 5, 6, 7], \"y\": [0.10413793103448275, 0.3303448275862069, 0.07103448275862069, 0.20482758620689656, 0.05931034482758621, 0.22275862068965518, 0.007586206896551724], \"type\": \"bar\", \"uid\": \"513a3e94-070b-444f-a67e-215eb5504600\", \"xaxis\": \"x116\", \"yaxis\": \"y24\"}, {\"line\": {\"color\": \"gray\", \"shape\": \"spline\", \"width\": 3}, \"mode\": \"lines\", \"x\": [1, 2, 3, 4, 5, 6, 7], \"y\": [0.07185578359124661, 0.13864492108344612, 0.16100379332347023, 0.15654295710950153, 0.12406201137295872, 0.20754597914723844, 0.14034455437213836], \"type\": \"scatter\", \"uid\": \"684d2066-928e-4c7f-99d7-ff8b7249c665\", \"xaxis\": \"x116\", \"yaxis\": \"y24\"}, {\"marker\": {\"color\": [\"rgb(5,48,97)\", \"rgb(5,48,97)\", \"rgb(5,48,97)\", \"rgb(5,48,97)\", \"rgb(5,48,97)\", \"rgb(5,48,97)\", \"rgb(5,48,97)\"]}, \"x\": [1, 2, 3, 4, 5, 6, 7], \"y\": [0.16472545757071547, 0.19633943427620631, 0.1788685524126456, 0.2529118136439268, 0.08818635607321132, 0.11896838602329451, 0.0], \"type\": \"bar\", \"uid\": \"0836540f-277c-49de-aba8-8fed981f138d\", \"xaxis\": \"x117\", \"yaxis\": \"y24\"}, {\"line\": {\"color\": \"gray\", \"shape\": \"spline\", \"width\": 3}, \"mode\": \"lines\", \"x\": [1, 2, 3, 4, 5, 6, 7], \"y\": [0.07185578359124661, 0.13864492108344612, 0.16100379332347023, 0.15654295710950153, 0.12406201137295872, 0.20754597914723844, 0.14034455437213836], \"type\": \"scatter\", \"uid\": \"83429d39-f17a-46a1-bbe8-cc0f16d41c29\", \"xaxis\": \"x117\", \"yaxis\": \"y24\"}, {\"marker\": {\"color\": [\"rgb(33,102,172)\", \"rgb(33,102,172)\", \"rgb(33,102,172)\", \"rgb(33,102,172)\", \"rgb(33,102,172)\", \"rgb(33,102,172)\", \"rgb(33,102,172)\"]}, \"x\": [1, 2, 3, 4, 5, 6, 7], \"y\": [0.09916559691912709, 0.2647625160462131, 0.20507060333761232, 0.2345956354300385, 0.08151476251604621, 0.11489088575096278, 0.0], \"type\": \"bar\", \"uid\": \"52ae066c-0934-4c7e-86d3-2b38c98f5a88\", \"xaxis\": \"x118\", \"yaxis\": \"y24\"}, {\"line\": {\"color\": \"gray\", \"shape\": \"spline\", \"width\": 3}, \"mode\": \"lines\", \"x\": [1, 2, 3, 4, 5, 6, 7], \"y\": [0.07185578359124661, 0.13864492108344612, 0.16100379332347023, 0.15654295710950153, 0.12406201137295872, 0.20754597914723844, 0.14034455437213836], \"type\": \"scatter\", \"uid\": \"2b1d76e4-dd4c-4b93-86fc-dcc640b2a0db\", \"xaxis\": \"x118\", \"yaxis\": \"y24\"}, {\"marker\": {\"color\": [\"rgb(244,165,130)\", \"rgb(244,165,130)\", \"rgb(244,165,130)\", \"rgb(244,165,130)\", \"rgb(244,165,130)\", \"rgb(244,165,130)\", \"rgb(244,165,130)\"]}, \"x\": [1, 2, 3, 4, 5, 6, 7], \"y\": [0.1071177335806101, 0.20336381658885977, 0.2722389205090491, 0.2517106861930038, 0.10142610475155081, 0.049434034661380064, 0.01470870371554646], \"type\": \"bar\", \"uid\": \"e935e027-3170-4afd-8398-932750e945b6\", \"xaxis\": \"x119\", \"yaxis\": \"y24\"}, {\"line\": {\"color\": \"gray\", \"shape\": \"spline\", \"width\": 3}, \"mode\": \"lines\", \"x\": [1, 2, 3, 4, 5, 6, 7], \"y\": [0.07185578359124661, 0.13864492108344612, 0.16100379332347023, 0.15654295710950153, 0.12406201137295872, 0.20754597914723844, 0.14034455437213836], \"type\": \"scatter\", \"uid\": \"5bbed361-94b3-4fb3-a1ac-3780b911692f\", \"xaxis\": \"x119\", \"yaxis\": \"y24\"}, {\"marker\": {\"color\": [\"rgb(178,24,43)\", \"rgb(178,24,43)\", \"rgb(178,24,43)\", \"rgb(178,24,43)\", \"rgb(178,24,43)\", \"rgb(178,24,43)\", \"rgb(178,24,43)\"]}, \"x\": [1, 2, 3, 4, 5, 6, 7], \"y\": [0.041179744017807454, 0.24485253199777407, 0.37506956037840844, 0.1285475792988314, 0.08013355592654424, 0.11797440178074568, 0.012242626599888704], \"type\": \"bar\", \"uid\": \"fae7b138-985c-47da-9c03-4d8e0af5da65\", \"xaxis\": \"x120\", \"yaxis\": \"y24\"}, {\"line\": {\"color\": \"gray\", \"shape\": \"spline\", \"width\": 3}, \"mode\": \"lines\", \"x\": [1, 2, 3, 4, 5, 6, 7], \"y\": [0.07185578359124661, 0.13864492108344612, 0.16100379332347023, 0.15654295710950153, 0.12406201137295872, 0.20754597914723844, 0.14034455437213836], \"type\": \"scatter\", \"uid\": \"1ad8776f-6dbc-4fe3-9a18-a84a23a63322\", \"xaxis\": \"x120\", \"yaxis\": \"y24\"}, {\"marker\": {\"color\": [\"rgb(214,96,77)\", \"rgb(214,96,77)\", \"rgb(214,96,77)\", \"rgb(214,96,77)\", \"rgb(214,96,77)\", \"rgb(214,96,77)\", \"rgb(214,96,77)\"]}, \"x\": [1, 2, 3, 4, 5, 6, 7], \"y\": [0.0678075038161806, 0.2198120028922632, 0.2462440748774805, 0.2939664176106692, 0.10524624407487748, 0.037760102836024746, 0.029163653892504218], \"type\": \"bar\", \"uid\": \"dd564c5e-07e5-489f-aa35-ade69c586fab\", \"xaxis\": \"x121\", \"yaxis\": \"y25\"}, {\"line\": {\"color\": \"gray\", \"shape\": \"spline\", \"width\": 3}, \"mode\": \"lines\", \"x\": [1, 2, 3, 4, 5, 6, 7], \"y\": [0.07185578359124661, 0.13864492108344612, 0.16100379332347023, 0.15654295710950153, 0.12406201137295872, 0.20754597914723844, 0.14034455437213836], \"type\": \"scatter\", \"uid\": \"f9a2ad34-9917-4395-9c90-0595aebc78e2\", \"xaxis\": \"x121\", \"yaxis\": \"y25\"}, {\"marker\": {\"color\": [\"rgb(5,48,97)\", \"rgb(5,48,97)\", \"rgb(5,48,97)\", \"rgb(5,48,97)\", \"rgb(5,48,97)\", \"rgb(5,48,97)\", \"rgb(5,48,97)\"]}, \"x\": [1, 2, 3, 4, 5, 6, 7], \"y\": [0.10925230454079891, 0.28747012632297714, 0.1707067258449983, 0.24581768521679753, 0.05769887333560942, 0.12427449641515875, 0.004779788323659952], \"type\": \"bar\", \"uid\": \"de36105c-bcb5-4beb-961f-1c0ed608c2ec\", \"xaxis\": \"x122\", \"yaxis\": \"y25\"}, {\"line\": {\"color\": \"gray\", \"shape\": \"spline\", \"width\": 3}, \"mode\": \"lines\", \"x\": [1, 2, 3, 4, 5, 6, 7], \"y\": [0.07185578359124661, 0.13864492108344612, 0.16100379332347023, 0.15654295710950153, 0.12406201137295872, 0.20754597914723844, 0.14034455437213836], \"type\": \"scatter\", \"uid\": \"127b74f0-c272-4f3e-91be-10d905756c60\", \"xaxis\": \"x122\", \"yaxis\": \"y25\"}, {\"marker\": {\"color\": [\"rgb(33,102,172)\", \"rgb(33,102,172)\", \"rgb(33,102,172)\", \"rgb(33,102,172)\", \"rgb(33,102,172)\", \"rgb(33,102,172)\", \"rgb(33,102,172)\"]}, \"x\": [1, 2, 3, 4, 5, 6, 7], \"y\": [0.09485589201021526, 0.15541773075519882, 0.2557460780736957, 0.31594308646479385, 0.056548704852243704, 0.11455673112002919, 0.006931776723823422], \"type\": \"bar\", \"uid\": \"93714f34-727c-4f1c-95a3-d3faca5c216f\", \"xaxis\": \"x123\", \"yaxis\": \"y25\"}, {\"line\": {\"color\": \"gray\", \"shape\": \"spline\", \"width\": 3}, \"mode\": \"lines\", \"x\": [1, 2, 3, 4, 5, 6, 7], \"y\": [0.07185578359124661, 0.13864492108344612, 0.16100379332347023, 0.15654295710950153, 0.12406201137295872, 0.20754597914723844, 0.14034455437213836], \"type\": \"scatter\", \"uid\": \"52b80dd2-8d9a-4323-ac32-e6065748e274\", \"xaxis\": \"x123\", \"yaxis\": \"y25\"}, {\"marker\": {\"color\": [\"rgb(244,165,130)\", \"rgb(244,165,130)\", \"rgb(244,165,130)\", \"rgb(244,165,130)\", \"rgb(244,165,130)\", \"rgb(244,165,130)\", \"rgb(244,165,130)\"]}, \"x\": [1, 2, 3, 4, 5, 6, 7], \"y\": [0.01879927228623408, 0.1873862947240752, 0.3007883565797453, 0.2619769557307459, 0.12249848392965433, 0.0976349302607641, 0.010915706488781079], \"type\": \"bar\", \"uid\": \"6a828600-a357-4326-9720-6fa95751d16d\", \"xaxis\": \"x124\", \"yaxis\": \"y25\"}, {\"line\": {\"color\": \"gray\", \"shape\": \"spline\", \"width\": 3}, \"mode\": \"lines\", \"x\": [1, 2, 3, 4, 5, 6, 7], \"y\": [0.07185578359124661, 0.13864492108344612, 0.16100379332347023, 0.15654295710950153, 0.12406201137295872, 0.20754597914723844, 0.14034455437213836], \"type\": \"scatter\", \"uid\": \"ed31ce97-ccf5-4a8a-82fb-bc6059d78e32\", \"xaxis\": \"x124\", \"yaxis\": \"y25\"}, {\"marker\": {\"color\": [\"rgb(178,24,43)\", \"rgb(178,24,43)\", \"rgb(178,24,43)\", \"rgb(178,24,43)\", \"rgb(178,24,43)\", \"rgb(178,24,43)\", \"rgb(178,24,43)\"]}, \"x\": [1, 2, 3, 4, 5, 6, 7], \"y\": [0.056591122435295696, 0.20946761432211344, 0.27799383129945016, 0.2946225023467883, 0.08086361807697466, 0.042376290733538956, 0.03808502078583881], \"type\": \"bar\", \"uid\": \"ecd5d45f-3739-460c-8898-6e43d2cc31dd\", \"xaxis\": \"x125\", \"yaxis\": \"y25\"}, {\"line\": {\"color\": \"gray\", \"shape\": \"spline\", \"width\": 3}, \"mode\": \"lines\", \"x\": [1, 2, 3, 4, 5, 6, 7], \"y\": [0.07185578359124661, 0.13864492108344612, 0.16100379332347023, 0.15654295710950153, 0.12406201137295872, 0.20754597914723844, 0.14034455437213836], \"type\": \"scatter\", \"uid\": \"2b02f10f-a188-457c-baa9-fae30eafce4c\", \"xaxis\": \"x125\", \"yaxis\": \"y25\"}, {\"marker\": {\"color\": [\"rgb(214,96,77)\", \"rgb(214,96,77)\", \"rgb(214,96,77)\", \"rgb(214,96,77)\", \"rgb(214,96,77)\", \"rgb(214,96,77)\", \"rgb(214,96,77)\"]}, \"x\": [1, 2, 3, 4, 5, 6, 7], \"y\": [0.08508541392904073, 0.17936925098554535, 0.26773981603153746, 0.2828515111695138, 0.08278580814717477, 0.09789750328515112, 0.0042706964520367935], \"type\": \"bar\", \"uid\": \"0e40c69e-fbfc-45b6-b7b5-f6bf01d1d46f\", \"xaxis\": \"x126\", \"yaxis\": \"y26\"}, {\"line\": {\"color\": \"gray\", \"shape\": \"spline\", \"width\": 3}, \"mode\": \"lines\", \"x\": [1, 2, 3, 4, 5, 6, 7], \"y\": [0.07185578359124661, 0.13864492108344612, 0.16100379332347023, 0.15654295710950153, 0.12406201137295872, 0.20754597914723844, 0.14034455437213836], \"type\": \"scatter\", \"uid\": \"76a50a77-be52-4a08-a86f-9df9e0a800f2\", \"xaxis\": \"x126\", \"yaxis\": \"y26\"}, {\"marker\": {\"color\": [\"rgb(5,48,97)\", \"rgb(5,48,97)\", \"rgb(5,48,97)\", \"rgb(5,48,97)\", \"rgb(5,48,97)\", \"rgb(5,48,97)\", \"rgb(5,48,97)\"]}, \"x\": [1, 2, 3, 4, 5, 6, 7], \"y\": [0.05065666041275797, 0.11632270168855535, 0.1303939962476548, 0.22045028142589118, 0.08911819887429644, 0.39305816135084426, 0.0], \"type\": \"bar\", \"uid\": \"fa2de753-a745-4fab-8ed2-01fe970c81af\", \"xaxis\": \"x127\", \"yaxis\": \"y26\"}, {\"line\": {\"color\": \"gray\", \"shape\": \"spline\", \"width\": 3}, \"mode\": \"lines\", \"x\": [1, 2, 3, 4, 5, 6, 7], \"y\": [0.07185578359124661, 0.13864492108344612, 0.16100379332347023, 0.15654295710950153, 0.12406201137295872, 0.20754597914723844, 0.14034455437213836], \"type\": \"scatter\", \"uid\": \"6891f668-dc9f-4424-aa9e-a7ecbe7f1665\", \"xaxis\": \"x127\", \"yaxis\": \"y26\"}, {\"marker\": {\"color\": [\"rgb(33,102,172)\", \"rgb(33,102,172)\", \"rgb(33,102,172)\", \"rgb(33,102,172)\", \"rgb(33,102,172)\", \"rgb(33,102,172)\", \"rgb(33,102,172)\"]}, \"x\": [1, 2, 3, 4, 5, 6, 7], \"y\": [0.05442176870748299, 0.2199546485260771, 0.2600151171579743, 0.17611489040060468, 0.17687074829931973, 0.1126228269085412, 0.0], \"type\": \"bar\", \"uid\": \"3d0fccf0-ed4c-444e-8adf-1561613e5fcb\", \"xaxis\": \"x128\", \"yaxis\": \"y26\"}, {\"line\": {\"color\": \"gray\", \"shape\": \"spline\", \"width\": 3}, \"mode\": \"lines\", \"x\": [1, 2, 3, 4, 5, 6, 7], \"y\": [0.07185578359124661, 0.13864492108344612, 0.16100379332347023, 0.15654295710950153, 0.12406201137295872, 0.20754597914723844, 0.14034455437213836], \"type\": \"scatter\", \"uid\": \"df25cdab-d7d4-471c-a37e-50ac30f2010e\", \"xaxis\": \"x128\", \"yaxis\": \"y26\"}, {\"marker\": {\"color\": [\"rgb(244,165,130)\", \"rgb(244,165,130)\", \"rgb(244,165,130)\", \"rgb(244,165,130)\", \"rgb(244,165,130)\", \"rgb(244,165,130)\", \"rgb(244,165,130)\"]}, \"x\": [1, 2, 3, 4, 5, 6, 7], \"y\": [0.023423423423423424, 0.03873873873873874, 0.07207207207207207, 0.0981981981981982, 0.06396396396396396, 0.3918918918918919, 0.3117117117117117], \"type\": \"bar\", \"uid\": \"3dd273cd-a2cd-44c3-8d2e-edc26a96caad\", \"xaxis\": \"x129\", \"yaxis\": \"y26\"}, {\"line\": {\"color\": \"gray\", \"shape\": \"spline\", \"width\": 3}, \"mode\": \"lines\", \"x\": [1, 2, 3, 4, 5, 6, 7], \"y\": [0.07185578359124661, 0.13864492108344612, 0.16100379332347023, 0.15654295710950153, 0.12406201137295872, 0.20754597914723844, 0.14034455437213836], \"type\": \"scatter\", \"uid\": \"c170be8e-2bd5-4045-8865-38826a7232b1\", \"xaxis\": \"x129\", \"yaxis\": \"y26\"}, {\"marker\": {\"color\": [\"rgb(178,24,43)\", \"rgb(178,24,43)\", \"rgb(178,24,43)\", \"rgb(178,24,43)\", \"rgb(178,24,43)\", \"rgb(178,24,43)\", \"rgb(178,24,43)\"]}, \"x\": [1, 2, 3, 4, 5, 6, 7], \"y\": [0.05239742956005932, 0.11220958971824024, 0.2184873949579832, 0.28126544735541276, 0.24715768660405338, 0.07414730598121602, 0.014335145823035097], \"type\": \"bar\", \"uid\": \"c548772c-a107-4c64-9ec4-3eeed1aaf784\", \"xaxis\": \"x130\", \"yaxis\": \"y26\"}, {\"line\": {\"color\": \"gray\", \"shape\": \"spline\", \"width\": 3}, \"mode\": \"lines\", \"x\": [1, 2, 3, 4, 5, 6, 7], \"y\": [0.07185578359124661, 0.13864492108344612, 0.16100379332347023, 0.15654295710950153, 0.12406201137295872, 0.20754597914723844, 0.14034455437213836], \"type\": \"scatter\", \"uid\": \"6cb31cdf-e17f-4e0c-a7b1-1b233272770f\", \"xaxis\": \"x130\", \"yaxis\": \"y26\"}, {\"marker\": {\"color\": [\"rgb(214,96,77)\", \"rgb(214,96,77)\", \"rgb(214,96,77)\", \"rgb(214,96,77)\", \"rgb(214,96,77)\", \"rgb(214,96,77)\", \"rgb(214,96,77)\"]}, \"x\": [1, 2, 3, 4, 5, 6, 7], \"y\": [0.06733393994540492, 0.2484076433121019, 0.353958143767061, 0.15286624203821655, 0.08826205641492266, 0.0545950864422202, 0.034576888080072796], \"type\": \"bar\", \"uid\": \"148e56de-6f54-408a-8341-6e74aef634a9\", \"xaxis\": \"x131\", \"yaxis\": \"y27\"}, {\"line\": {\"color\": \"gray\", \"shape\": \"spline\", \"width\": 3}, \"mode\": \"lines\", \"x\": [1, 2, 3, 4, 5, 6, 7], \"y\": [0.07185578359124661, 0.13864492108344612, 0.16100379332347023, 0.15654295710950153, 0.12406201137295872, 0.20754597914723844, 0.14034455437213836], \"type\": \"scatter\", \"uid\": \"d9d05563-c17e-4bfd-960d-7e219740e9fd\", \"xaxis\": \"x131\", \"yaxis\": \"y27\"}, {\"marker\": {\"color\": [\"rgb(5,48,97)\", \"rgb(5,48,97)\", \"rgb(5,48,97)\", \"rgb(5,48,97)\", \"rgb(5,48,97)\", \"rgb(5,48,97)\", \"rgb(5,48,97)\"]}, \"x\": [1, 2, 3, 4, 5, 6, 7], \"y\": [0.06658184902459711, 0.26632739609838846, 0.272264631043257, 0.21162001696352842, 0.10093299406276506, 0.06870229007633588, 0.013570822731128074], \"type\": \"bar\", \"uid\": \"88eefba5-08bc-4545-9eb4-4ca1c50cdbf1\", \"xaxis\": \"x132\", \"yaxis\": \"y27\"}, {\"line\": {\"color\": \"gray\", \"shape\": \"spline\", \"width\": 3}, \"mode\": \"lines\", \"x\": [1, 2, 3, 4, 5, 6, 7], \"y\": [0.07185578359124661, 0.13864492108344612, 0.16100379332347023, 0.15654295710950153, 0.12406201137295872, 0.20754597914723844, 0.14034455437213836], \"type\": \"scatter\", \"uid\": \"e91d3cde-b75a-4181-a0b2-736000b8643b\", \"xaxis\": \"x132\", \"yaxis\": \"y27\"}, {\"marker\": {\"color\": [\"rgb(33,102,172)\", \"rgb(33,102,172)\", \"rgb(33,102,172)\", \"rgb(33,102,172)\", \"rgb(33,102,172)\", \"rgb(33,102,172)\", \"rgb(33,102,172)\"]}, \"x\": [1, 2, 3, 4, 5, 6, 7], \"y\": [0.011383039271485486, 0.056346044393853156, 0.055776892430278883, 0.08195788275469551, 0.12293682413204325, 0.33636881047239614, 0.3352305065452476], \"type\": \"bar\", \"uid\": \"55aee6ef-3eb4-4059-9f84-fbb6b9759e24\", \"xaxis\": \"x133\", \"yaxis\": \"y27\"}, {\"line\": {\"color\": \"gray\", \"shape\": \"spline\", \"width\": 3}, \"mode\": \"lines\", \"x\": [1, 2, 3, 4, 5, 6, 7], \"y\": [0.07185578359124661, 0.13864492108344612, 0.16100379332347023, 0.15654295710950153, 0.12406201137295872, 0.20754597914723844, 0.14034455437213836], \"type\": \"scatter\", \"uid\": \"7c4e9223-ca65-4060-9ee5-d4bc891e2673\", \"xaxis\": \"x133\", \"yaxis\": \"y27\"}, {\"marker\": {\"color\": [\"rgb(244,165,130)\", \"rgb(244,165,130)\", \"rgb(244,165,130)\", \"rgb(244,165,130)\", \"rgb(244,165,130)\", \"rgb(244,165,130)\", \"rgb(244,165,130)\"]}, \"x\": [1, 2, 3, 4, 5, 6, 7], \"y\": [0.11027332704995288, 0.3411875589066918, 0.2469368520263902, 0.11592836946277098, 0.07163053722902922, 0.09048067860508954, 0.0235626767200754], \"type\": \"bar\", \"uid\": \"d4a22dbd-847f-4eea-a2f1-b087e7ea0a56\", \"xaxis\": \"x134\", \"yaxis\": \"y27\"}, {\"line\": {\"color\": \"gray\", \"shape\": \"spline\", \"width\": 3}, \"mode\": \"lines\", \"x\": [1, 2, 3, 4, 5, 6, 7], \"y\": [0.07185578359124661, 0.13864492108344612, 0.16100379332347023, 0.15654295710950153, 0.12406201137295872, 0.20754597914723844, 0.14034455437213836], \"type\": \"scatter\", \"uid\": \"054195bc-5ea0-4486-ab64-154e39399d45\", \"xaxis\": \"x134\", \"yaxis\": \"y27\"}, {\"marker\": {\"color\": [\"rgb(178,24,43)\", \"rgb(178,24,43)\", \"rgb(178,24,43)\", \"rgb(178,24,43)\", \"rgb(178,24,43)\", \"rgb(178,24,43)\", \"rgb(178,24,43)\"]}, \"x\": [1, 2, 3, 4, 5, 6, 7], \"y\": [0.06518518518518518, 0.2123456790123457, 0.1817283950617284, 0.26271604938271603, 0.04839506172839506, 0.22962962962962963, 0.0], \"type\": \"bar\", \"uid\": \"be32a80e-2ac3-4b11-811e-e7e26e573db6\", \"xaxis\": \"x135\", \"yaxis\": \"y27\"}, {\"line\": {\"color\": \"gray\", \"shape\": \"spline\", \"width\": 3}, \"mode\": \"lines\", \"x\": [1, 2, 3, 4, 5, 6, 7], \"y\": [0.07185578359124661, 0.13864492108344612, 0.16100379332347023, 0.15654295710950153, 0.12406201137295872, 0.20754597914723844, 0.14034455437213836], \"type\": \"scatter\", \"uid\": \"4d88be59-439b-4c42-aa18-7b40383852f4\", \"xaxis\": \"x135\", \"yaxis\": \"y27\"}, {\"marker\": {\"color\": [\"rgb(214,96,77)\", \"rgb(214,96,77)\", \"rgb(214,96,77)\", \"rgb(214,96,77)\", \"rgb(214,96,77)\", \"rgb(214,96,77)\", \"rgb(214,96,77)\"]}, \"x\": [1, 2, 3, 4, 5, 6, 7], \"y\": [0.024368231046931407, 0.12454873646209386, 0.2536101083032491, 0.2870036101083033, 0.19855595667870035, 0.10198555956678701, 0.009927797833935019], \"type\": \"bar\", \"uid\": \"e33bf2c1-d2f0-4c04-85ce-de614b9864d4\", \"xaxis\": \"x136\", \"yaxis\": \"y28\"}, {\"line\": {\"color\": \"gray\", \"shape\": \"spline\", \"width\": 3}, \"mode\": \"lines\", \"x\": [1, 2, 3, 4, 5, 6, 7], \"y\": [0.07185578359124661, 0.13864492108344612, 0.16100379332347023, 0.15654295710950153, 0.12406201137295872, 0.20754597914723844, 0.14034455437213836], \"type\": \"scatter\", \"uid\": \"14aaa8a7-6cb0-4290-a08c-c51bb1df9688\", \"xaxis\": \"x136\", \"yaxis\": \"y28\"}, {\"marker\": {\"color\": [\"rgb(5,48,97)\", \"rgb(5,48,97)\", \"rgb(5,48,97)\", \"rgb(5,48,97)\", \"rgb(5,48,97)\", \"rgb(5,48,97)\", \"rgb(5,48,97)\"]}, \"x\": [1, 2, 3, 4, 5, 6, 7], \"y\": [0.10221316249271986, 0.2623762376237624, 0.1916132789749563, 0.16919044845661035, 0.05096097845078625, 0.22364589400116483, 0.0], \"type\": \"bar\", \"uid\": \"365ea672-1ad9-411f-8123-5fcec10473a6\", \"xaxis\": \"x137\", \"yaxis\": \"y28\"}, {\"line\": {\"color\": \"gray\", \"shape\": \"spline\", \"width\": 3}, \"mode\": \"lines\", \"x\": [1, 2, 3, 4, 5, 6, 7], \"y\": [0.07185578359124661, 0.13864492108344612, 0.16100379332347023, 0.15654295710950153, 0.12406201137295872, 0.20754597914723844, 0.14034455437213836], \"type\": \"scatter\", \"uid\": \"e03ccbde-ea1c-4d19-ac0e-0d9d477c7fb7\", \"xaxis\": \"x137\", \"yaxis\": \"y28\"}, {\"marker\": {\"color\": [\"rgb(33,102,172)\", \"rgb(33,102,172)\", \"rgb(33,102,172)\", \"rgb(33,102,172)\", \"rgb(33,102,172)\", \"rgb(33,102,172)\", \"rgb(33,102,172)\"]}, \"x\": [1, 2, 3, 4, 5, 6, 7], \"y\": [0.1100729261622607, 0.20738377392889698, 0.23701002734731086, 0.25546946216955335, 0.07839562443026436, 0.1089334548769371, 0.0027347310847766638], \"type\": \"bar\", \"uid\": \"a8f7b4dd-8e0d-44fd-97cf-38dd235c8226\", \"xaxis\": \"x138\", \"yaxis\": \"y28\"}, {\"line\": {\"color\": \"gray\", \"shape\": \"spline\", \"width\": 3}, \"mode\": \"lines\", \"x\": [1, 2, 3, 4, 5, 6, 7], \"y\": [0.07185578359124661, 0.13864492108344612, 0.16100379332347023, 0.15654295710950153, 0.12406201137295872, 0.20754597914723844, 0.14034455437213836], \"type\": \"scatter\", \"uid\": \"d99f0198-f51d-4444-9a6e-bb16bf76fd9c\", \"xaxis\": \"x138\", \"yaxis\": \"y28\"}, {\"marker\": {\"color\": [\"rgb(244,165,130)\", \"rgb(244,165,130)\", \"rgb(244,165,130)\", \"rgb(244,165,130)\", \"rgb(244,165,130)\", \"rgb(244,165,130)\", \"rgb(244,165,130)\"]}, \"x\": [1, 2, 3, 4, 5, 6, 7], \"y\": [0.10789473684210527, 0.2414651493598862, 0.25170697012802273, 0.21877667140825036, 0.08541963015647226, 0.08691322901849217, 0.007823613086770981], \"type\": \"bar\", \"uid\": \"dc1a53f5-9722-4fdd-b34b-21317a225174\", \"xaxis\": \"x139\", \"yaxis\": \"y28\"}, {\"line\": {\"color\": \"gray\", \"shape\": \"spline\", \"width\": 3}, \"mode\": \"lines\", \"x\": [1, 2, 3, 4, 5, 6, 7], \"y\": [0.07185578359124661, 0.13864492108344612, 0.16100379332347023, 0.15654295710950153, 0.12406201137295872, 0.20754597914723844, 0.14034455437213836], \"type\": \"scatter\", \"uid\": \"c7fd8a21-93ca-4d69-99d6-a02cc35f7715\", \"xaxis\": \"x139\", \"yaxis\": \"y28\"}, {\"marker\": {\"color\": [\"rgb(178,24,43)\", \"rgb(178,24,43)\", \"rgb(178,24,43)\", \"rgb(178,24,43)\", \"rgb(178,24,43)\", \"rgb(178,24,43)\", \"rgb(178,24,43)\"]}, \"x\": [1, 2, 3, 4, 5, 6, 7], \"y\": [0.07138150669887985, 0.19569514605754448, 0.3239622227103009, 0.2347902481880079, 0.0678673402152427, 0.0931254118163848, 0.013178124313639359], \"type\": \"bar\", \"uid\": \"5a3108c1-4785-4216-bbc7-374fe7d2b5b2\", \"xaxis\": \"x140\", \"yaxis\": \"y28\"}, {\"line\": {\"color\": \"gray\", \"shape\": \"spline\", \"width\": 3}, \"mode\": \"lines\", \"x\": [1, 2, 3, 4, 5, 6, 7], \"y\": [0.07185578359124661, 0.13864492108344612, 0.16100379332347023, 0.15654295710950153, 0.12406201137295872, 0.20754597914723844, 0.14034455437213836], \"type\": \"scatter\", \"uid\": \"93a4eb7c-4bfa-4a32-96a9-bed90e4db460\", \"xaxis\": \"x140\", \"yaxis\": \"y28\"}, {\"marker\": {\"color\": [\"rgb(214,96,77)\", \"rgb(214,96,77)\", \"rgb(214,96,77)\", \"rgb(214,96,77)\", \"rgb(214,96,77)\", \"rgb(214,96,77)\", \"rgb(214,96,77)\"]}, \"x\": [1, 2, 3, 4, 5, 6, 7], \"y\": [0.09615384615384616, 0.2573131094257855, 0.24864572047670638, 0.24079089924160346, 0.07340195016251354, 0.04658721560130011, 0.037107258938244854], \"type\": \"bar\", \"uid\": \"0a841bc6-68e7-48e3-b50f-8207693b38ed\", \"xaxis\": \"x141\", \"yaxis\": \"y29\"}, {\"line\": {\"color\": \"gray\", \"shape\": \"spline\", \"width\": 3}, \"mode\": \"lines\", \"x\": [1, 2, 3, 4, 5, 6, 7], \"y\": [0.07185578359124661, 0.13864492108344612, 0.16100379332347023, 0.15654295710950153, 0.12406201137295872, 0.20754597914723844, 0.14034455437213836], \"type\": \"scatter\", \"uid\": \"10e48d0a-6725-4f81-887b-0606acc2b223\", \"xaxis\": \"x141\", \"yaxis\": \"y29\"}, {\"marker\": {\"color\": [\"rgb(5,48,97)\", \"rgb(5,48,97)\", \"rgb(5,48,97)\", \"rgb(5,48,97)\", \"rgb(5,48,97)\", \"rgb(5,48,97)\", \"rgb(5,48,97)\"]}, \"x\": [1, 2, 3, 4, 5, 6, 7], \"y\": [0.014018691588785047, 0.05081775700934579, 0.07359813084112149, 0.05782710280373832, 0.2821261682242991, 0.3142523364485981, 0.20735981308411214], \"type\": \"bar\", \"uid\": \"ae99ec8e-93ab-4b73-b9e4-93a7eb37d6d4\", \"xaxis\": \"x142\", \"yaxis\": \"y29\"}, {\"line\": {\"color\": \"gray\", \"shape\": \"spline\", \"width\": 3}, \"mode\": \"lines\", \"x\": [1, 2, 3, 4, 5, 6, 7], \"y\": [0.07185578359124661, 0.13864492108344612, 0.16100379332347023, 0.15654295710950153, 0.12406201137295872, 0.20754597914723844, 0.14034455437213836], \"type\": \"scatter\", \"uid\": \"5d67309c-f908-4c6d-b1d9-7cc33458a4b9\", \"xaxis\": \"x142\", \"yaxis\": \"y29\"}, {\"marker\": {\"color\": [\"rgb(33,102,172)\", \"rgb(33,102,172)\", \"rgb(33,102,172)\", \"rgb(33,102,172)\", \"rgb(33,102,172)\", \"rgb(33,102,172)\", \"rgb(33,102,172)\"]}, \"x\": [1, 2, 3, 4, 5, 6, 7], \"y\": [0.027828467153284672, 0.04333941605839416, 0.07892335766423357, 0.055656934306569344, 0.11085766423357664, 0.3918795620437956, 0.291514598540146], \"type\": \"bar\", \"uid\": \"bf1b2c80-378e-4a8c-a298-0e625acfcda4\", \"xaxis\": \"x143\", \"yaxis\": \"y29\"}, {\"line\": {\"color\": \"gray\", \"shape\": \"spline\", \"width\": 3}, \"mode\": \"lines\", \"x\": [1, 2, 3, 4, 5, 6, 7], \"y\": [0.07185578359124661, 0.13864492108344612, 0.16100379332347023, 0.15654295710950153, 0.12406201137295872, 0.20754597914723844, 0.14034455437213836], \"type\": \"scatter\", \"uid\": \"313af90f-03bb-46fa-8dd1-f55c3feec898\", \"xaxis\": \"x143\", \"yaxis\": \"y29\"}, {\"marker\": {\"color\": [\"rgb(244,165,130)\", \"rgb(244,165,130)\", \"rgb(244,165,130)\", \"rgb(244,165,130)\", \"rgb(244,165,130)\", \"rgb(244,165,130)\", \"rgb(244,165,130)\"]}, \"x\": [1, 2, 3, 4, 5, 6, 7], \"y\": [0.05701943844492441, 0.1913606911447084, 0.35550755939524836, 0.16025917926565875, 0.1490280777537797, 0.06479481641468683, 0.022030237580993522], \"type\": \"bar\", \"uid\": \"5c0a171a-5052-439d-9137-aef76ff0e709\", \"xaxis\": \"x144\", \"yaxis\": \"y29\"}, {\"line\": {\"color\": \"gray\", \"shape\": \"spline\", \"width\": 3}, \"mode\": \"lines\", \"x\": [1, 2, 3, 4, 5, 6, 7], \"y\": [0.07185578359124661, 0.13864492108344612, 0.16100379332347023, 0.15654295710950153, 0.12406201137295872, 0.20754597914723844, 0.14034455437213836], \"type\": \"scatter\", \"uid\": \"c3850f05-797d-4e3e-9105-91f9a7cbc0da\", \"xaxis\": \"x144\", \"yaxis\": \"y29\"}, {\"marker\": {\"color\": [\"rgb(178,24,43)\", \"rgb(178,24,43)\", \"rgb(178,24,43)\", \"rgb(178,24,43)\", \"rgb(178,24,43)\", \"rgb(178,24,43)\", \"rgb(178,24,43)\"]}, \"x\": [1, 2, 3, 4, 5, 6, 7], \"y\": [0.053496712492528395, 0.21010161386730425, 0.24686192468619247, 0.3111177525403467, 0.08756724447101016, 0.06664674237895996, 0.0242080095636581], \"type\": \"bar\", \"uid\": \"cbdedac4-0146-4a36-83e8-fef01ac9bf36\", \"xaxis\": \"x145\", \"yaxis\": \"y29\"}, {\"line\": {\"color\": \"gray\", \"shape\": \"spline\", \"width\": 3}, \"mode\": \"lines\", \"x\": [1, 2, 3, 4, 5, 6, 7], \"y\": [0.07185578359124661, 0.13864492108344612, 0.16100379332347023, 0.15654295710950153, 0.12406201137295872, 0.20754597914723844, 0.14034455437213836], \"type\": \"scatter\", \"uid\": \"16c74d29-144c-483f-978f-a456ebccebde\", \"xaxis\": \"x145\", \"yaxis\": \"y29\"}, {\"marker\": {\"color\": [\"rgb(214,96,77)\", \"rgb(214,96,77)\", \"rgb(214,96,77)\", \"rgb(214,96,77)\", \"rgb(214,96,77)\", \"rgb(214,96,77)\", \"rgb(214,96,77)\"]}, \"x\": [1, 2, 3, 4, 5, 6, 7], \"y\": [0.04602510460251046, 0.0694560669456067, 0.04100418410041841, 0.049372384937238493, 0.14225941422594143, 0.3941422594142259, 0.25774058577405856], \"type\": \"bar\", \"uid\": \"7713d87a-f24c-4965-a859-f37974d2dcc3\", \"xaxis\": \"x146\", \"yaxis\": \"y30\"}, {\"line\": {\"color\": \"gray\", \"shape\": \"spline\", \"width\": 3}, \"mode\": \"lines\", \"x\": [1, 2, 3, 4, 5, 6, 7], \"y\": [0.07185578359124661, 0.13864492108344612, 0.16100379332347023, 0.15654295710950153, 0.12406201137295872, 0.20754597914723844, 0.14034455437213836], \"type\": \"scatter\", \"uid\": \"b03b98aa-3c27-43b7-9424-b6757c72f9a7\", \"xaxis\": \"x146\", \"yaxis\": \"y30\"}, {\"marker\": {\"color\": [\"rgb(5,48,97)\", \"rgb(5,48,97)\", \"rgb(5,48,97)\", \"rgb(5,48,97)\", \"rgb(5,48,97)\", \"rgb(5,48,97)\", \"rgb(5,48,97)\"]}, \"x\": [1, 2, 3, 4, 5, 6, 7], \"y\": [0.10889021479713604, 0.264618138424821, 0.2168854415274463, 0.17810262529832935, 0.07189737470167064, 0.1581145584725537, 0.0014916467780429594], \"type\": \"bar\", \"uid\": \"e8322e72-f03d-4552-84ce-03800134f263\", \"xaxis\": \"x147\", \"yaxis\": \"y30\"}, {\"line\": {\"color\": \"gray\", \"shape\": \"spline\", \"width\": 3}, \"mode\": \"lines\", \"x\": [1, 2, 3, 4, 5, 6, 7], \"y\": [0.07185578359124661, 0.13864492108344612, 0.16100379332347023, 0.15654295710950153, 0.12406201137295872, 0.20754597914723844, 0.14034455437213836], \"type\": \"scatter\", \"uid\": \"d1337034-035b-4465-b298-c14c63ba2abc\", \"xaxis\": \"x147\", \"yaxis\": \"y30\"}, {\"marker\": {\"color\": [\"rgb(33,102,172)\", \"rgb(33,102,172)\", \"rgb(33,102,172)\", \"rgb(33,102,172)\", \"rgb(33,102,172)\", \"rgb(33,102,172)\", \"rgb(33,102,172)\"]}, \"x\": [1, 2, 3, 4, 5, 6, 7], \"y\": [0.03012176885280923, 0.2454603717154454, 0.2576372569963683, 0.2337107455671865, 0.1228370006408887, 0.09955137791070284, 0.010681478316599017], \"type\": \"bar\", \"uid\": \"1838b8ab-8e58-4bae-a96b-1c98fdc9e0cf\", \"xaxis\": \"x148\", \"yaxis\": \"y30\"}, {\"line\": {\"color\": \"gray\", \"shape\": \"spline\", \"width\": 3}, \"mode\": \"lines\", \"x\": [1, 2, 3, 4, 5, 6, 7], \"y\": [0.07185578359124661, 0.13864492108344612, 0.16100379332347023, 0.15654295710950153, 0.12406201137295872, 0.20754597914723844, 0.14034455437213836], \"type\": \"scatter\", \"uid\": \"1595392b-bb75-4259-b799-54bf761f57ed\", \"xaxis\": \"x148\", \"yaxis\": \"y30\"}, {\"marker\": {\"color\": [\"rgb(244,165,130)\", \"rgb(244,165,130)\", \"rgb(244,165,130)\", \"rgb(244,165,130)\", \"rgb(244,165,130)\", \"rgb(244,165,130)\", \"rgb(244,165,130)\"]}, \"x\": [1, 2, 3, 4, 5, 6, 7], \"y\": [0.10227272727272728, 0.2618801652892562, 0.18853305785123967, 0.19266528925619836, 0.08135330578512397, 0.17329545454545456, 0.0], \"type\": \"bar\", \"uid\": \"10c9b5fb-e975-42f7-8512-5a6fb1bfc451\", \"xaxis\": \"x149\", \"yaxis\": \"y30\"}, {\"line\": {\"color\": \"gray\", \"shape\": \"spline\", \"width\": 3}, \"mode\": \"lines\", \"x\": [1, 2, 3, 4, 5, 6, 7], \"y\": [0.07185578359124661, 0.13864492108344612, 0.16100379332347023, 0.15654295710950153, 0.12406201137295872, 0.20754597914723844, 0.14034455437213836], \"type\": \"scatter\", \"uid\": \"6df5e6e8-8038-4664-bb50-f9a1afad314c\", \"xaxis\": \"x149\", \"yaxis\": \"y30\"}, {\"marker\": {\"color\": [\"rgb(178,24,43)\", \"rgb(178,24,43)\", \"rgb(178,24,43)\", \"rgb(178,24,43)\", \"rgb(178,24,43)\", \"rgb(178,24,43)\", \"rgb(178,24,43)\"]}, \"x\": [1, 2, 3, 4, 5, 6, 7], \"y\": [0.061388352474845004, 0.23040959447098283, 0.26333977030185995, 0.2656774062404716, 0.09624961886370566, 0.05203780872039841, 0.03089744892773656], \"type\": \"bar\", \"uid\": \"3a9951da-1faf-45a8-9c46-eabac5a90159\", \"xaxis\": \"x150\", \"yaxis\": \"y30\"}, {\"line\": {\"color\": \"gray\", \"shape\": \"spline\", \"width\": 3}, \"mode\": \"lines\", \"x\": [1, 2, 3, 4, 5, 6, 7], \"y\": [0.07185578359124661, 0.13864492108344612, 0.16100379332347023, 0.15654295710950153, 0.12406201137295872, 0.20754597914723844, 0.14034455437213836], \"type\": \"scatter\", \"uid\": \"b08fa5eb-c945-43ac-9f36-e0d81290e15f\", \"xaxis\": \"x150\", \"yaxis\": \"y30\"}, {\"marker\": {\"color\": [\"rgb(214,96,77)\", \"rgb(214,96,77)\", \"rgb(214,96,77)\", \"rgb(214,96,77)\", \"rgb(214,96,77)\", \"rgb(214,96,77)\", \"rgb(214,96,77)\"]}, \"x\": [1, 2, 3, 4, 5, 6, 7], \"y\": [0.025193370165745858, 0.25524861878453037, 0.2771270718232044, 0.25370165745856355, 0.07580110497237569, 0.052817679558011046, 0.06011049723756906], \"type\": \"bar\", \"uid\": \"e5c5c285-e9d5-4939-b67f-7fc1b59dad11\", \"xaxis\": \"x151\", \"yaxis\": \"y31\"}, {\"line\": {\"color\": \"gray\", \"shape\": \"spline\", \"width\": 3}, \"mode\": \"lines\", \"x\": [1, 2, 3, 4, 5, 6, 7], \"y\": [0.07185578359124661, 0.13864492108344612, 0.16100379332347023, 0.15654295710950153, 0.12406201137295872, 0.20754597914723844, 0.14034455437213836], \"type\": \"scatter\", \"uid\": \"b2e57f81-a674-4050-8a6c-f9d787c02026\", \"xaxis\": \"x151\", \"yaxis\": \"y31\"}, {\"marker\": {\"color\": [\"rgb(5,48,97)\", \"rgb(5,48,97)\", \"rgb(5,48,97)\", \"rgb(5,48,97)\", \"rgb(5,48,97)\", \"rgb(5,48,97)\", \"rgb(5,48,97)\"]}, \"x\": [1, 2, 3, 4, 5, 6, 7], \"y\": [0.08539270858820651, 0.23684854416442377, 0.23366772693907512, 0.2666992904330805, 0.0771959872767311, 0.08698311720088084, 0.013212625397602153], \"type\": \"bar\", \"uid\": \"cade2334-d524-4433-93a1-bc3baea11339\", \"xaxis\": \"x152\", \"yaxis\": \"y31\"}, {\"line\": {\"color\": \"gray\", \"shape\": \"spline\", \"width\": 3}, \"mode\": \"lines\", \"x\": [1, 2, 3, 4, 5, 6, 7], \"y\": [0.07185578359124661, 0.13864492108344612, 0.16100379332347023, 0.15654295710950153, 0.12406201137295872, 0.20754597914723844, 0.14034455437213836], \"type\": \"scatter\", \"uid\": \"2739405e-61bb-4398-898a-36aaef456511\", \"xaxis\": \"x152\", \"yaxis\": \"y31\"}, {\"marker\": {\"color\": [\"rgb(33,102,172)\", \"rgb(33,102,172)\", \"rgb(33,102,172)\", \"rgb(33,102,172)\", \"rgb(33,102,172)\", \"rgb(33,102,172)\", \"rgb(33,102,172)\"]}, \"x\": [1, 2, 3, 4, 5, 6, 7], \"y\": [0.056338028169014086, 0.23943661971830985, 0.2755868544600939, 0.22605633802816902, 0.12018779342723004, 0.06056338028169014, 0.021830985915492956], \"type\": \"bar\", \"uid\": \"bbea98a2-a3fe-4201-8a51-37cc7f22c91b\", \"xaxis\": \"x153\", \"yaxis\": \"y31\"}, {\"line\": {\"color\": \"gray\", \"shape\": \"spline\", \"width\": 3}, \"mode\": \"lines\", \"x\": [1, 2, 3, 4, 5, 6, 7], \"y\": [0.07185578359124661, 0.13864492108344612, 0.16100379332347023, 0.15654295710950153, 0.12406201137295872, 0.20754597914723844, 0.14034455437213836], \"type\": \"scatter\", \"uid\": \"3f294296-f568-4006-b071-a8dc57c06d24\", \"xaxis\": \"x153\", \"yaxis\": \"y31\"}, {\"marker\": {\"color\": [\"rgb(244,165,130)\", \"rgb(244,165,130)\", \"rgb(244,165,130)\", \"rgb(244,165,130)\", \"rgb(244,165,130)\", \"rgb(244,165,130)\", \"rgb(244,165,130)\"]}, \"x\": [1, 2, 3, 4, 5, 6, 7], \"y\": [0.07894736842105263, 0.18486842105263157, 0.23092105263157894, 0.2888157894736842, 0.07105263157894737, 0.14210526315789473, 0.003289473684210526], \"type\": \"bar\", \"uid\": \"20e30fc4-0324-4d5b-8913-de13e3939b30\", \"xaxis\": \"x154\", \"yaxis\": \"y31\"}, {\"line\": {\"color\": \"gray\", \"shape\": \"spline\", \"width\": 3}, \"mode\": \"lines\", \"x\": [1, 2, 3, 4, 5, 6, 7], \"y\": [0.07185578359124661, 0.13864492108344612, 0.16100379332347023, 0.15654295710950153, 0.12406201137295872, 0.20754597914723844, 0.14034455437213836], \"type\": \"scatter\", \"uid\": \"b421ddd8-fdb9-4752-ab20-de4a1606759c\", \"xaxis\": \"x154\", \"yaxis\": \"y31\"}, {\"marker\": {\"color\": [\"rgb(178,24,43)\", \"rgb(178,24,43)\", \"rgb(178,24,43)\", \"rgb(178,24,43)\", \"rgb(178,24,43)\", \"rgb(178,24,43)\", \"rgb(178,24,43)\"]}, \"x\": [1, 2, 3, 4, 5, 6, 7], \"y\": [0.01474010861132661, 0.0643910007757952, 0.047711404189294024, 0.082622187742436, 0.1439100077579519, 0.3440651667959659, 0.30256012412723043], \"type\": \"bar\", \"uid\": \"a93795bd-915a-4e74-b9cb-f4239e396f25\", \"xaxis\": \"x155\", \"yaxis\": \"y31\"}, {\"line\": {\"color\": \"gray\", \"shape\": \"spline\", \"width\": 3}, \"mode\": \"lines\", \"x\": [1, 2, 3, 4, 5, 6, 7], \"y\": [0.07185578359124661, 0.13864492108344612, 0.16100379332347023, 0.15654295710950153, 0.12406201137295872, 0.20754597914723844, 0.14034455437213836], \"type\": \"scatter\", \"uid\": \"41a6b01f-228c-40f1-b02a-bd24baef684d\", \"xaxis\": \"x155\", \"yaxis\": \"y31\"}, {\"marker\": {\"color\": [\"rgb(214,96,77)\", \"rgb(214,96,77)\", \"rgb(214,96,77)\", \"rgb(214,96,77)\", \"rgb(214,96,77)\", \"rgb(214,96,77)\", \"rgb(214,96,77)\"]}, \"x\": [1, 2, 3, 4, 5, 6, 7], \"y\": [0.17551622418879056, 0.22271386430678466, 0.17059980334316618, 0.10914454277286136, 0.22418879056047197, 0.051622418879056046, 0.046214355948869225], \"type\": \"bar\", \"uid\": \"3b944c33-9cab-4a7d-a84d-edc178c5460c\", \"xaxis\": \"x156\", \"yaxis\": \"y32\"}, {\"line\": {\"color\": \"gray\", \"shape\": \"spline\", \"width\": 3}, \"mode\": \"lines\", \"x\": [1, 2, 3, 4, 5, 6, 7], \"y\": [0.07185578359124661, 0.13864492108344612, 0.16100379332347023, 0.15654295710950153, 0.12406201137295872, 0.20754597914723844, 0.14034455437213836], \"type\": \"scatter\", \"uid\": \"61c99de7-6ea4-4aaa-ac2c-7c0ba4c86901\", \"xaxis\": \"x156\", \"yaxis\": \"y32\"}, {\"marker\": {\"color\": [\"rgb(5,48,97)\", \"rgb(5,48,97)\", \"rgb(5,48,97)\", \"rgb(5,48,97)\", \"rgb(5,48,97)\", \"rgb(5,48,97)\", \"rgb(5,48,97)\"]}, \"x\": [1, 2, 3, 4, 5, 6, 7], \"y\": [0.02451539338654504, 0.053591790193842644, 0.04903078677309008, 0.10205245153933866, 0.09977194982896237, 0.34150513112884834, 0.3295324971493729], \"type\": \"bar\", \"uid\": \"2e6b6d05-f1d5-4be3-89eb-1c43f287ce78\", \"xaxis\": \"x157\", \"yaxis\": \"y32\"}, {\"line\": {\"color\": \"gray\", \"shape\": \"spline\", \"width\": 3}, \"mode\": \"lines\", \"x\": [1, 2, 3, 4, 5, 6, 7], \"y\": [0.07185578359124661, 0.13864492108344612, 0.16100379332347023, 0.15654295710950153, 0.12406201137295872, 0.20754597914723844, 0.14034455437213836], \"type\": \"scatter\", \"uid\": \"f88a8809-4cdf-4c4b-a1c0-8b82aa480967\", \"xaxis\": \"x157\", \"yaxis\": \"y32\"}, {\"marker\": {\"color\": [\"rgb(33,102,172)\", \"rgb(33,102,172)\", \"rgb(33,102,172)\", \"rgb(33,102,172)\", \"rgb(33,102,172)\", \"rgb(33,102,172)\", \"rgb(33,102,172)\"]}, \"x\": [1, 2, 3, 4, 5, 6, 7], \"y\": [0.061375492387948476, 0.23107633343979558, 0.2566272756307889, 0.24598104971787502, 0.1271691685297562, 0.047908016608112426, 0.02986266368572341], \"type\": \"bar\", \"uid\": \"71f9e696-1cf1-4a41-8266-20c8ba4df45d\", \"xaxis\": \"x158\", \"yaxis\": \"y32\"}, {\"line\": {\"color\": \"gray\", \"shape\": \"spline\", \"width\": 3}, \"mode\": \"lines\", \"x\": [1, 2, 3, 4, 5, 6, 7], \"y\": [0.07185578359124661, 0.13864492108344612, 0.16100379332347023, 0.15654295710950153, 0.12406201137295872, 0.20754597914723844, 0.14034455437213836], \"type\": \"scatter\", \"uid\": \"0a3486cc-d87c-40ba-8708-5e6eb9ecc492\", \"xaxis\": \"x158\", \"yaxis\": \"y32\"}, {\"marker\": {\"color\": [\"rgb(244,165,130)\", \"rgb(244,165,130)\", \"rgb(244,165,130)\", \"rgb(244,165,130)\", \"rgb(244,165,130)\", \"rgb(244,165,130)\", \"rgb(244,165,130)\"]}, \"x\": [1, 2, 3, 4, 5, 6, 7], \"y\": [0.011944260119442602, 0.09754479097544791, 0.050431320504313204, 0.0902455209024552, 0.0809555408095554, 0.3477106834771068, 0.32116788321167883], \"type\": \"bar\", \"uid\": \"1cabf174-4187-4dd7-aa55-23bc2b0c3e09\", \"xaxis\": \"x159\", \"yaxis\": \"y32\"}, {\"line\": {\"color\": \"gray\", \"shape\": \"spline\", \"width\": 3}, \"mode\": \"lines\", \"x\": [1, 2, 3, 4, 5, 6, 7], \"y\": [0.07185578359124661, 0.13864492108344612, 0.16100379332347023, 0.15654295710950153, 0.12406201137295872, 0.20754597914723844, 0.14034455437213836], \"type\": \"scatter\", \"uid\": \"f4f0929a-dece-46b8-bf72-f75c892d0f71\", \"xaxis\": \"x159\", \"yaxis\": \"y32\"}, {\"marker\": {\"color\": [\"rgb(178,24,43)\", \"rgb(178,24,43)\", \"rgb(178,24,43)\", \"rgb(178,24,43)\", \"rgb(178,24,43)\", \"rgb(178,24,43)\", \"rgb(178,24,43)\"]}, \"x\": [1, 2, 3, 4, 5, 6, 7], \"y\": [0.04525645323499832, 0.1884009386523634, 0.3097552799195441, 0.22427086825343615, 0.13074086490110626, 0.09017767348307074, 0.011397921555481059], \"type\": \"bar\", \"uid\": \"3f04c9bf-713e-4d0e-bde1-a9bc125548c5\", \"xaxis\": \"x160\", \"yaxis\": \"y32\"}, {\"line\": {\"color\": \"gray\", \"shape\": \"spline\", \"width\": 3}, \"mode\": \"lines\", \"x\": [1, 2, 3, 4, 5, 6, 7], \"y\": [0.07185578359124661, 0.13864492108344612, 0.16100379332347023, 0.15654295710950153, 0.12406201137295872, 0.20754597914723844, 0.14034455437213836], \"type\": \"scatter\", \"uid\": \"c0598039-9121-4915-8a8c-d00f9dc36342\", \"xaxis\": \"x160\", \"yaxis\": \"y32\"}, {\"marker\": {\"color\": [\"rgb(214,96,77)\", \"rgb(214,96,77)\", \"rgb(214,96,77)\", \"rgb(214,96,77)\", \"rgb(214,96,77)\", \"rgb(214,96,77)\", \"rgb(214,96,77)\"]}, \"x\": [1, 2, 3, 4, 5, 6, 7], \"y\": [0.07476076555023924, 0.12260765550239235, 0.38995215311004783, 0.1901913875598086, 0.09988038277511961, 0.10586124401913875, 0.01674641148325359], \"type\": \"bar\", \"uid\": \"f41bf6cc-550e-4e4f-baf2-362e551f0ed7\", \"xaxis\": \"x161\", \"yaxis\": \"y33\"}, {\"line\": {\"color\": \"gray\", \"shape\": \"spline\", \"width\": 3}, \"mode\": \"lines\", \"x\": [1, 2, 3, 4, 5, 6, 7], \"y\": [0.07185578359124661, 0.13864492108344612, 0.16100379332347023, 0.15654295710950153, 0.12406201137295872, 0.20754597914723844, 0.14034455437213836], \"type\": \"scatter\", \"uid\": \"bfc1aba6-c343-472e-9e1a-9563fd6ee537\", \"xaxis\": \"x161\", \"yaxis\": \"y33\"}, {\"marker\": {\"color\": [\"rgb(5,48,97)\", \"rgb(5,48,97)\", \"rgb(5,48,97)\", \"rgb(5,48,97)\", \"rgb(5,48,97)\", \"rgb(5,48,97)\", \"rgb(5,48,97)\"]}, \"x\": [1, 2, 3, 4, 5, 6, 7], \"y\": [0.05813499804916114, 0.19196254389387438, 0.2481467030823254, 0.22122512680452594, 0.07101053452984783, 0.2095200936402653, 0.0], \"type\": \"bar\", \"uid\": \"79ff1d05-7010-479c-9fd0-5cfc4879de8f\", \"xaxis\": \"x162\", \"yaxis\": \"y33\"}, {\"line\": {\"color\": \"gray\", \"shape\": \"spline\", \"width\": 3}, \"mode\": \"lines\", \"x\": [1, 2, 3, 4, 5, 6, 7], \"y\": [0.07185578359124661, 0.13864492108344612, 0.16100379332347023, 0.15654295710950153, 0.12406201137295872, 0.20754597914723844, 0.14034455437213836], \"type\": \"scatter\", \"uid\": \"23d7e7f6-e056-4bdf-92f0-506c696cef07\", \"xaxis\": \"x162\", \"yaxis\": \"y33\"}, {\"marker\": {\"color\": [\"rgb(33,102,172)\", \"rgb(33,102,172)\", \"rgb(33,102,172)\", \"rgb(33,102,172)\", \"rgb(33,102,172)\", \"rgb(33,102,172)\", \"rgb(33,102,172)\"]}, \"x\": [1, 2, 3, 4, 5, 6, 7], \"y\": [0.19119496855345913, 0.22264150943396227, 0.21761006289308177, 0.15660377358490565, 0.1179245283018868, 0.03962264150943396, 0.05440251572327044], \"type\": \"bar\", \"uid\": \"45705d10-76d6-4a8f-9659-e03012a09276\", \"xaxis\": \"x163\", \"yaxis\": \"y33\"}, {\"line\": {\"color\": \"gray\", \"shape\": \"spline\", \"width\": 3}, \"mode\": \"lines\", \"x\": [1, 2, 3, 4, 5, 6, 7], \"y\": [0.07185578359124661, 0.13864492108344612, 0.16100379332347023, 0.15654295710950153, 0.12406201137295872, 0.20754597914723844, 0.14034455437213836], \"type\": \"scatter\", \"uid\": \"95da9d8a-f898-4f0e-babf-b8209320225d\", \"xaxis\": \"x163\", \"yaxis\": \"y33\"}, {\"marker\": {\"color\": [\"rgb(244,165,130)\", \"rgb(244,165,130)\", \"rgb(244,165,130)\", \"rgb(244,165,130)\", \"rgb(244,165,130)\", \"rgb(244,165,130)\", \"rgb(244,165,130)\"]}, \"x\": [1, 2, 3, 4, 5, 6, 7], \"y\": [0.04942339373970346, 0.11943986820428336, 0.18698517298187808, 0.2701812191103789, 0.2553542009884679, 0.10790774299835255, 0.01070840197693575], \"type\": \"bar\", \"uid\": \"00896f7c-b78a-4dd4-8bc4-907134db6e0e\", \"xaxis\": \"x164\", \"yaxis\": \"y33\"}, {\"line\": {\"color\": \"gray\", \"shape\": \"spline\", \"width\": 3}, \"mode\": \"lines\", \"x\": [1, 2, 3, 4, 5, 6, 7], \"y\": [0.07185578359124661, 0.13864492108344612, 0.16100379332347023, 0.15654295710950153, 0.12406201137295872, 0.20754597914723844, 0.14034455437213836], \"type\": \"scatter\", \"uid\": \"b10abca6-4441-4a49-b1c5-d4caedc42ff1\", \"xaxis\": \"x164\", \"yaxis\": \"y33\"}, {\"marker\": {\"color\": [\"rgb(178,24,43)\", \"rgb(178,24,43)\", \"rgb(178,24,43)\", \"rgb(178,24,43)\", \"rgb(178,24,43)\", \"rgb(178,24,43)\", \"rgb(178,24,43)\"]}, \"x\": [1, 2, 3, 4, 5, 6, 7], \"y\": [0.03676383105294467, 0.20035693039857227, 0.2478286734086853, 0.24069006543723973, 0.1783462224866151, 0.08328375966686496, 0.01273051754907793], \"type\": \"bar\", \"uid\": \"6976dae2-d6e0-4801-834c-c5c05c7985c3\", \"xaxis\": \"x165\", \"yaxis\": \"y33\"}, {\"line\": {\"color\": \"gray\", \"shape\": \"spline\", \"width\": 3}, \"mode\": \"lines\", \"x\": [1, 2, 3, 4, 5, 6, 7], \"y\": [0.07185578359124661, 0.13864492108344612, 0.16100379332347023, 0.15654295710950153, 0.12406201137295872, 0.20754597914723844, 0.14034455437213836], \"type\": \"scatter\", \"uid\": \"79aed20a-c982-4a2f-af67-cf511c6a687a\", \"xaxis\": \"x165\", \"yaxis\": \"y33\"}, {\"marker\": {\"color\": [\"rgb(214,96,77)\", \"rgb(214,96,77)\", \"rgb(214,96,77)\", \"rgb(214,96,77)\", \"rgb(214,96,77)\", \"rgb(214,96,77)\", \"rgb(214,96,77)\"]}, \"x\": [1, 2, 3, 4, 5, 6, 7], \"y\": [0.10972222222222222, 0.17291666666666666, 0.2388888888888889, 0.27847222222222223, 0.084375, 0.10833333333333334, 0.007291666666666667], \"type\": \"bar\", \"uid\": \"1aafa6c1-61c4-451d-822f-ba2a0bd1c38e\", \"xaxis\": \"x166\", \"yaxis\": \"y34\"}, {\"line\": {\"color\": \"gray\", \"shape\": \"spline\", \"width\": 3}, \"mode\": \"lines\", \"x\": [1, 2, 3, 4, 5, 6, 7], \"y\": [0.07185578359124661, 0.13864492108344612, 0.16100379332347023, 0.15654295710950153, 0.12406201137295872, 0.20754597914723844, 0.14034455437213836], \"type\": \"scatter\", \"uid\": \"a82a1224-9565-48a7-bf37-164f6992e55a\", \"xaxis\": \"x166\", \"yaxis\": \"y34\"}, {\"marker\": {\"color\": [\"rgb(5,48,97)\", \"rgb(5,48,97)\", \"rgb(5,48,97)\", \"rgb(5,48,97)\", \"rgb(5,48,97)\", \"rgb(5,48,97)\", \"rgb(5,48,97)\"]}, \"x\": [1, 2, 3, 4, 5, 6, 7], \"y\": [0.0379746835443038, 0.1881856540084388, 0.22362869198312235, 0.3029535864978903, 0.15864978902953586, 0.060759493670886074, 0.027848101265822784], \"type\": \"bar\", \"uid\": \"42c2bb16-2d6a-45d7-8477-8838b10e469b\", \"xaxis\": \"x167\", \"yaxis\": \"y34\"}, {\"line\": {\"color\": \"gray\", \"shape\": \"spline\", \"width\": 3}, \"mode\": \"lines\", \"x\": [1, 2, 3, 4, 5, 6, 7], \"y\": [0.07185578359124661, 0.13864492108344612, 0.16100379332347023, 0.15654295710950153, 0.12406201137295872, 0.20754597914723844, 0.14034455437213836], \"type\": \"scatter\", \"uid\": \"c0e643ea-5f6b-4c54-9ff9-d668299e7398\", \"xaxis\": \"x167\", \"yaxis\": \"y34\"}, {\"marker\": {\"color\": [\"rgb(33,102,172)\", \"rgb(33,102,172)\", \"rgb(33,102,172)\", \"rgb(33,102,172)\", \"rgb(33,102,172)\", \"rgb(33,102,172)\", \"rgb(33,102,172)\"]}, \"x\": [1, 2, 3, 4, 5, 6, 7], \"y\": [0.008695652173913044, 0.22869565217391305, 0.3382608695652174, 0.19130434782608696, 0.07130434782608695, 0.12434782608695652, 0.03739130434782609], \"type\": \"bar\", \"uid\": \"c93b761c-fcbe-4f13-b2ed-b8a441d3a55e\", \"xaxis\": \"x168\", \"yaxis\": \"y34\"}, {\"line\": {\"color\": \"gray\", \"shape\": \"spline\", \"width\": 3}, \"mode\": \"lines\", \"x\": [1, 2, 3, 4, 5, 6, 7], \"y\": [0.07185578359124661, 0.13864492108344612, 0.16100379332347023, 0.15654295710950153, 0.12406201137295872, 0.20754597914723844, 0.14034455437213836], \"type\": \"scatter\", \"uid\": \"35c645af-8231-4f68-a71b-275f96bd2fe1\", \"xaxis\": \"x168\", \"yaxis\": \"y34\"}, {\"marker\": {\"color\": [\"rgb(244,165,130)\", \"rgb(244,165,130)\", \"rgb(244,165,130)\", \"rgb(244,165,130)\", \"rgb(244,165,130)\", \"rgb(244,165,130)\", \"rgb(244,165,130)\"]}, \"x\": [1, 2, 3, 4, 5, 6, 7], \"y\": [0.06524466750313676, 0.14366373902132998, 0.21957340025094102, 0.37641154328732745, 0.07026348808030113, 0.09912170639899624, 0.025721455457967377], \"type\": \"bar\", \"uid\": \"b3785e82-4243-44be-aeb4-1878bfbd8ceb\", \"xaxis\": \"x169\", \"yaxis\": \"y34\"}, {\"line\": {\"color\": \"gray\", \"shape\": \"spline\", \"width\": 3}, \"mode\": \"lines\", \"x\": [1, 2, 3, 4, 5, 6, 7], \"y\": [0.07185578359124661, 0.13864492108344612, 0.16100379332347023, 0.15654295710950153, 0.12406201137295872, 0.20754597914723844, 0.14034455437213836], \"type\": \"scatter\", \"uid\": \"13536e0a-c049-4d9a-bfa3-144c685b07c4\", \"xaxis\": \"x169\", \"yaxis\": \"y34\"}, {\"marker\": {\"color\": [\"rgb(178,24,43)\", \"rgb(178,24,43)\", \"rgb(178,24,43)\", \"rgb(178,24,43)\", \"rgb(178,24,43)\", \"rgb(178,24,43)\", \"rgb(178,24,43)\"]}, \"x\": [1, 2, 3, 4, 5, 6, 7], \"y\": [0.033783783783783786, 0.04633204633204633, 0.04247104247104247, 0.17084942084942084, 0.06660231660231661, 0.38706563706563707, 0.2528957528957529], \"type\": \"bar\", \"uid\": \"04f7d013-a0f5-49cf-bc0b-217a985554a1\", \"xaxis\": \"x170\", \"yaxis\": \"y34\"}, {\"line\": {\"color\": \"gray\", \"shape\": \"spline\", \"width\": 3}, \"mode\": \"lines\", \"x\": [1, 2, 3, 4, 5, 6, 7], \"y\": [0.07185578359124661, 0.13864492108344612, 0.16100379332347023, 0.15654295710950153, 0.12406201137295872, 0.20754597914723844, 0.14034455437213836], \"type\": \"scatter\", \"uid\": \"9f5a1854-cb05-40af-acd7-af02f2d8fced\", \"xaxis\": \"x170\", \"yaxis\": \"y34\"}, {\"marker\": {\"color\": [\"rgb(214,96,77)\", \"rgb(214,96,77)\", \"rgb(214,96,77)\", \"rgb(214,96,77)\", \"rgb(214,96,77)\", \"rgb(214,96,77)\", \"rgb(214,96,77)\"]}, \"x\": [1, 2, 3, 4, 5, 6, 7], \"y\": [0.12667191188040913, 0.18332022029897718, 0.25098347757671124, 0.2675059008654603, 0.05979543666404406, 0.09126671911880409, 0.020456333595594022], \"type\": \"bar\", \"uid\": \"d04d2c59-9b01-4707-8322-42a95ee05c2f\", \"xaxis\": \"x171\", \"yaxis\": \"y35\"}, {\"line\": {\"color\": \"gray\", \"shape\": \"spline\", \"width\": 3}, \"mode\": \"lines\", \"x\": [1, 2, 3, 4, 5, 6, 7], \"y\": [0.07185578359124661, 0.13864492108344612, 0.16100379332347023, 0.15654295710950153, 0.12406201137295872, 0.20754597914723844, 0.14034455437213836], \"type\": \"scatter\", \"uid\": \"16c2cad1-d6bc-4dfd-b3f5-dd6a6b48a698\", \"xaxis\": \"x171\", \"yaxis\": \"y35\"}, {\"marker\": {\"color\": [\"rgb(5,48,97)\", \"rgb(5,48,97)\", \"rgb(5,48,97)\", \"rgb(5,48,97)\", \"rgb(5,48,97)\", \"rgb(5,48,97)\", \"rgb(5,48,97)\"]}, \"x\": [1, 2, 3, 4, 5, 6, 7], \"y\": [0.04880766659237798, 0.17361265879206597, 0.24626699353688433, 0.2647648763093381, 0.15689770447960777, 0.10207265433474481, 0.007577445954981056], \"type\": \"bar\", \"uid\": \"3391b5d5-ced7-4b4d-b5ca-2533aafdfef3\", \"xaxis\": \"x172\", \"yaxis\": \"y35\"}, {\"line\": {\"color\": \"gray\", \"shape\": \"spline\", \"width\": 3}, \"mode\": \"lines\", \"x\": [1, 2, 3, 4, 5, 6, 7], \"y\": [0.07185578359124661, 0.13864492108344612, 0.16100379332347023, 0.15654295710950153, 0.12406201137295872, 0.20754597914723844, 0.14034455437213836], \"type\": \"scatter\", \"uid\": \"97a75ee7-e87f-4d1e-8343-665d43f44881\", \"xaxis\": \"x172\", \"yaxis\": \"y35\"}, {\"marker\": {\"color\": [\"rgb(33,102,172)\", \"rgb(33,102,172)\", \"rgb(33,102,172)\", \"rgb(33,102,172)\", \"rgb(33,102,172)\", \"rgb(33,102,172)\", \"rgb(33,102,172)\"]}, \"x\": [1, 2, 3, 4, 5, 6, 7], \"y\": [0.06900328587075576, 0.20956553486673968, 0.22709017889740782, 0.28952172325666303, 0.10843373493975904, 0.08032128514056225, 0.01606425702811245], \"type\": \"bar\", \"uid\": \"03523541-4d00-471f-b8dc-c38c84aa9095\", \"xaxis\": \"x173\", \"yaxis\": \"y35\"}, {\"line\": {\"color\": \"gray\", \"shape\": \"spline\", \"width\": 3}, \"mode\": \"lines\", \"x\": [1, 2, 3, 4, 5, 6, 7], \"y\": [0.07185578359124661, 0.13864492108344612, 0.16100379332347023, 0.15654295710950153, 0.12406201137295872, 0.20754597914723844, 0.14034455437213836], \"type\": \"scatter\", \"uid\": \"bf1c8840-5587-44e2-9a68-17b50f483860\", \"xaxis\": \"x173\", \"yaxis\": \"y35\"}, {\"marker\": {\"color\": [\"rgb(244,165,130)\", \"rgb(244,165,130)\", \"rgb(244,165,130)\", \"rgb(244,165,130)\", \"rgb(244,165,130)\", \"rgb(244,165,130)\", \"rgb(244,165,130)\"]}, \"x\": [1, 2, 3, 4, 5, 6, 7], \"y\": [0.0427061310782241, 0.21437632135306553, 0.2215644820295983, 0.2317124735729387, 0.16913319238900634, 0.11501057082452432, 0.0054968287526427064], \"type\": \"bar\", \"uid\": \"efa29817-7d9e-41de-b80f-c59ece2ce5ae\", \"xaxis\": \"x174\", \"yaxis\": \"y35\"}, {\"line\": {\"color\": \"gray\", \"shape\": \"spline\", \"width\": 3}, \"mode\": \"lines\", \"x\": [1, 2, 3, 4, 5, 6, 7], \"y\": [0.07185578359124661, 0.13864492108344612, 0.16100379332347023, 0.15654295710950153, 0.12406201137295872, 0.20754597914723844, 0.14034455437213836], \"type\": \"scatter\", \"uid\": \"99dfe3ed-a4ce-4f41-bdaf-493f1a22ae46\", \"xaxis\": \"x174\", \"yaxis\": \"y35\"}, {\"marker\": {\"color\": [\"rgb(178,24,43)\", \"rgb(178,24,43)\", \"rgb(178,24,43)\", \"rgb(178,24,43)\", \"rgb(178,24,43)\", \"rgb(178,24,43)\", \"rgb(178,24,43)\"]}, \"x\": [1, 2, 3, 4, 5, 6, 7], \"y\": [0.008486562942008486, 0.25176803394625175, 0.2637906647807638, 0.22701555869872703, 0.0594059405940594, 0.15983026874115983, 0.0297029702970297], \"type\": \"bar\", \"uid\": \"15dcf3b5-d3ce-4842-8f03-d62a84da0503\", \"xaxis\": \"x175\", \"yaxis\": \"y35\"}, {\"line\": {\"color\": \"gray\", \"shape\": \"spline\", \"width\": 3}, \"mode\": \"lines\", \"x\": [1, 2, 3, 4, 5, 6, 7], \"y\": [0.07185578359124661, 0.13864492108344612, 0.16100379332347023, 0.15654295710950153, 0.12406201137295872, 0.20754597914723844, 0.14034455437213836], \"type\": \"scatter\", \"uid\": \"bab8e4b3-8f31-458d-8e6c-6ed06954a862\", \"xaxis\": \"x175\", \"yaxis\": \"y35\"}, {\"marker\": {\"color\": [\"rgb(214,96,77)\", \"rgb(214,96,77)\", \"rgb(214,96,77)\", \"rgb(214,96,77)\", \"rgb(214,96,77)\", \"rgb(214,96,77)\", \"rgb(214,96,77)\"]}, \"x\": [1, 2, 3, 4, 5, 6, 7], \"y\": [0.07659346545259775, 0.13711837171933583, 0.2849491162292448, 0.25763256561328335, 0.11783610069630424, 0.11890733797536154, 0.006963042313872523], \"type\": \"bar\", \"uid\": \"5fe4edc8-1a0d-40c4-89b5-c871a47f399b\", \"xaxis\": \"x176\", \"yaxis\": \"y36\"}, {\"line\": {\"color\": \"gray\", \"shape\": \"spline\", \"width\": 3}, \"mode\": \"lines\", \"x\": [1, 2, 3, 4, 5, 6, 7], \"y\": [0.07185578359124661, 0.13864492108344612, 0.16100379332347023, 0.15654295710950153, 0.12406201137295872, 0.20754597914723844, 0.14034455437213836], \"type\": \"scatter\", \"uid\": \"179dac20-7da9-4bd7-96f0-6d41aad2c90b\", \"xaxis\": \"x176\", \"yaxis\": \"y36\"}, {\"marker\": {\"color\": [\"rgb(5,48,97)\", \"rgb(5,48,97)\", \"rgb(5,48,97)\", \"rgb(5,48,97)\", \"rgb(5,48,97)\", \"rgb(5,48,97)\", \"rgb(5,48,97)\"]}, \"x\": [1, 2, 3, 4, 5, 6, 7], \"y\": [0.04248088360237893, 0.0475785896346644, 0.24808836023789294, 0.07051826677994902, 0.24299065420560748, 0.31180968564146133, 0.03653355989804588], \"type\": \"bar\", \"uid\": \"6c79686f-ed0e-4e8b-a971-4e8e9d18d419\", \"xaxis\": \"x177\", \"yaxis\": \"y36\"}, {\"line\": {\"color\": \"gray\", \"shape\": \"spline\", \"width\": 3}, \"mode\": \"lines\", \"x\": [1, 2, 3, 4, 5, 6, 7], \"y\": [0.07185578359124661, 0.13864492108344612, 0.16100379332347023, 0.15654295710950153, 0.12406201137295872, 0.20754597914723844, 0.14034455437213836], \"type\": \"scatter\", \"uid\": \"9450b54a-afd8-4f4a-afec-a9d5b3404128\", \"xaxis\": \"x177\", \"yaxis\": \"y36\"}, {\"marker\": {\"color\": [\"rgb(33,102,172)\", \"rgb(33,102,172)\", \"rgb(33,102,172)\", \"rgb(33,102,172)\", \"rgb(33,102,172)\", \"rgb(33,102,172)\", \"rgb(33,102,172)\"]}, \"x\": [1, 2, 3, 4, 5, 6, 7], \"y\": [0.08090075062552127, 0.19099249374478733, 0.31859883236030023, 0.20100083402835697, 0.11926605504587157, 0.057547956630525435, 0.0316930775646372], \"type\": \"bar\", \"uid\": \"33ee33d7-7e4c-40ca-8196-a65fcd215ef2\", \"xaxis\": \"x178\", \"yaxis\": \"y36\"}, {\"line\": {\"color\": \"gray\", \"shape\": \"spline\", \"width\": 3}, \"mode\": \"lines\", \"x\": [1, 2, 3, 4, 5, 6, 7], \"y\": [0.07185578359124661, 0.13864492108344612, 0.16100379332347023, 0.15654295710950153, 0.12406201137295872, 0.20754597914723844, 0.14034455437213836], \"type\": \"scatter\", \"uid\": \"5e224b7a-d5c5-4453-b57c-2dae37911ab9\", \"xaxis\": \"x178\", \"yaxis\": \"y36\"}, {\"marker\": {\"color\": [\"rgb(244,165,130)\", \"rgb(244,165,130)\", \"rgb(244,165,130)\", \"rgb(244,165,130)\", \"rgb(244,165,130)\", \"rgb(244,165,130)\", \"rgb(244,165,130)\"]}, \"x\": [1, 2, 3, 4, 5, 6, 7], \"y\": [0.033478893740902474, 0.03711790393013101, 0.14374090247452692, 0.040756914119359534, 0.21470160116448325, 0.3890101892285298, 0.14119359534206696], \"type\": \"bar\", \"uid\": \"f164aa47-2324-4e80-a4c9-ffe5d617bebe\", \"xaxis\": \"x179\", \"yaxis\": \"y36\"}, {\"line\": {\"color\": \"gray\", \"shape\": \"spline\", \"width\": 3}, \"mode\": \"lines\", \"x\": [1, 2, 3, 4, 5, 6, 7], \"y\": [0.07185578359124661, 0.13864492108344612, 0.16100379332347023, 0.15654295710950153, 0.12406201137295872, 0.20754597914723844, 0.14034455437213836], \"type\": \"scatter\", \"uid\": \"cca5fe95-aee3-4597-8c88-28b85f2f324e\", \"xaxis\": \"x179\", \"yaxis\": \"y36\"}, {\"marker\": {\"color\": [\"rgb(178,24,43)\", \"rgb(178,24,43)\", \"rgb(178,24,43)\", \"rgb(178,24,43)\", \"rgb(178,24,43)\", \"rgb(178,24,43)\", \"rgb(178,24,43)\"]}, \"x\": [1, 2, 3, 4, 5, 6, 7], \"y\": [0.023625843780135006, 0.04628736740597879, 0.08823529411764706, 0.05255544840887175, 0.19575699132111862, 0.35053037608486015, 0.24300867888138863], \"type\": \"bar\", \"uid\": \"d7ec2680-1743-435e-a2f4-b41d560788b8\", \"xaxis\": \"x180\", \"yaxis\": \"y36\"}, {\"line\": {\"color\": \"gray\", \"shape\": \"spline\", \"width\": 3}, \"mode\": \"lines\", \"x\": [1, 2, 3, 4, 5, 6, 7], \"y\": [0.07185578359124661, 0.13864492108344612, 0.16100379332347023, 0.15654295710950153, 0.12406201137295872, 0.20754597914723844, 0.14034455437213836], \"type\": \"scatter\", \"uid\": \"d78c17c9-63b1-4e5b-8d71-a5a35619c0f6\", \"xaxis\": \"x180\", \"yaxis\": \"y36\"}, {\"marker\": {\"color\": [\"rgb(214,96,77)\", \"rgb(214,96,77)\", \"rgb(214,96,77)\", \"rgb(214,96,77)\", \"rgb(214,96,77)\", \"rgb(214,96,77)\", \"rgb(214,96,77)\"]}, \"x\": [1, 2, 3, 4, 5, 6, 7], \"y\": [0.0896756082345602, 0.23331253898939489, 0.1915159076731129, 0.23611977542108548, 0.10480349344978165, 0.14145352464129757, 0.0031191515907673115], \"type\": \"bar\", \"uid\": \"e1c533dd-4660-491a-a33e-3fac88d3255e\", \"xaxis\": \"x181\", \"yaxis\": \"y37\"}, {\"line\": {\"color\": \"gray\", \"shape\": \"spline\", \"width\": 3}, \"mode\": \"lines\", \"x\": [1, 2, 3, 4, 5, 6, 7], \"y\": [0.07185578359124661, 0.13864492108344612, 0.16100379332347023, 0.15654295710950153, 0.12406201137295872, 0.20754597914723844, 0.14034455437213836], \"type\": \"scatter\", \"uid\": \"6c529767-ae35-4e23-8dd9-99f918a9df12\", \"xaxis\": \"x181\", \"yaxis\": \"y37\"}, {\"marker\": {\"color\": [\"rgb(5,48,97)\", \"rgb(5,48,97)\", \"rgb(5,48,97)\", \"rgb(5,48,97)\", \"rgb(5,48,97)\", \"rgb(5,48,97)\", \"rgb(5,48,97)\"]}, \"x\": [1, 2, 3, 4, 5, 6, 7], \"y\": [0.07476635514018691, 0.20160213618157544, 0.2105028927458834, 0.28126390743213175, 0.10102358700489542, 0.12416555407209613, 0.006675567423230975], \"type\": \"bar\", \"uid\": \"f53df06e-9a20-4316-ac6f-89f458f8e14c\", \"xaxis\": \"x182\", \"yaxis\": \"y37\"}, {\"line\": {\"color\": \"gray\", \"shape\": \"spline\", \"width\": 3}, \"mode\": \"lines\", \"x\": [1, 2, 3, 4, 5, 6, 7], \"y\": [0.07185578359124661, 0.13864492108344612, 0.16100379332347023, 0.15654295710950153, 0.12406201137295872, 0.20754597914723844, 0.14034455437213836], \"type\": \"scatter\", \"uid\": \"dce79956-276f-41f6-aa67-4e3e9851ec31\", \"xaxis\": \"x182\", \"yaxis\": \"y37\"}, {\"marker\": {\"color\": [\"rgb(33,102,172)\", \"rgb(33,102,172)\", \"rgb(33,102,172)\", \"rgb(33,102,172)\", \"rgb(33,102,172)\", \"rgb(33,102,172)\", \"rgb(33,102,172)\"]}, \"x\": [1, 2, 3, 4, 5, 6, 7], \"y\": [0.1014036092810083, 0.23231165855055858, 0.2784302492122601, 0.15267831566886278, 0.04268118017759954, 0.17903179604697794, 0.013463191062732742], \"type\": \"bar\", \"uid\": \"c564c918-0673-41af-a3aa-fdbfaae9d841\", \"xaxis\": \"x183\", \"yaxis\": \"y37\"}, {\"line\": {\"color\": \"gray\", \"shape\": \"spline\", \"width\": 3}, \"mode\": \"lines\", \"x\": [1, 2, 3, 4, 5, 6, 7], \"y\": [0.07185578359124661, 0.13864492108344612, 0.16100379332347023, 0.15654295710950153, 0.12406201137295872, 0.20754597914723844, 0.14034455437213836], \"type\": \"scatter\", \"uid\": \"d9db2bba-f845-482b-9d28-0ba4f40c7527\", \"xaxis\": \"x183\", \"yaxis\": \"y37\"}, {\"marker\": {\"color\": [\"rgb(244,165,130)\", \"rgb(244,165,130)\", \"rgb(244,165,130)\", \"rgb(244,165,130)\", \"rgb(244,165,130)\", \"rgb(244,165,130)\", \"rgb(244,165,130)\"]}, \"x\": [1, 2, 3, 4, 5, 6, 7], \"y\": [0.02175438596491228, 0.03929824561403509, 0.06385964912280702, 0.13543859649122808, 0.12070175438596491, 0.2912280701754386, 0.327719298245614], \"type\": \"bar\", \"uid\": \"f64f6e58-71a1-43a9-a523-00b40cf4c0fa\", \"xaxis\": \"x184\", \"yaxis\": \"y37\"}, {\"line\": {\"color\": \"gray\", \"shape\": \"spline\", \"width\": 3}, \"mode\": \"lines\", \"x\": [1, 2, 3, 4, 5, 6, 7], \"y\": [0.07185578359124661, 0.13864492108344612, 0.16100379332347023, 0.15654295710950153, 0.12406201137295872, 0.20754597914723844, 0.14034455437213836], \"type\": \"scatter\", \"uid\": \"2419b42b-cb36-41f2-a030-7605383ecdbb\", \"xaxis\": \"x184\", \"yaxis\": \"y37\"}, {\"marker\": {\"color\": [\"rgb(178,24,43)\", \"rgb(178,24,43)\", \"rgb(178,24,43)\", \"rgb(178,24,43)\", \"rgb(178,24,43)\", \"rgb(178,24,43)\", \"rgb(178,24,43)\"]}, \"x\": [1, 2, 3, 4, 5, 6, 7], \"y\": [0.11365142478462557, 0.16235917826375082, 0.2584493041749503, 0.279324055666004, 0.04042412193505633, 0.052021206096752814, 0.09377070907886018], \"type\": \"bar\", \"uid\": \"6b0735a4-150c-4661-9f9e-0e308ab55c5d\", \"xaxis\": \"x185\", \"yaxis\": \"y37\"}, {\"line\": {\"color\": \"gray\", \"shape\": \"spline\", \"width\": 3}, \"mode\": \"lines\", \"x\": [1, 2, 3, 4, 5, 6, 7], \"y\": [0.07185578359124661, 0.13864492108344612, 0.16100379332347023, 0.15654295710950153, 0.12406201137295872, 0.20754597914723844, 0.14034455437213836], \"type\": \"scatter\", \"uid\": \"d17ac29c-e5ff-4e72-8f2a-4b0dbcd8bf89\", \"xaxis\": \"x185\", \"yaxis\": \"y37\"}, {\"marker\": {\"color\": [\"rgb(214,96,77)\", \"rgb(214,96,77)\", \"rgb(214,96,77)\", \"rgb(214,96,77)\", \"rgb(214,96,77)\", \"rgb(214,96,77)\", \"rgb(214,96,77)\"]}, \"x\": [1, 2, 3, 4, 5, 6, 7], \"y\": [0.027896995708154508, 0.16237482117310442, 0.058655221745350504, 0.031473533619456366, 0.1380543633762518, 0.33476394849785407, 0.24678111587982832], \"type\": \"bar\", \"uid\": \"c53da011-4ced-4716-921e-89eef49cc295\", \"xaxis\": \"x186\", \"yaxis\": \"y38\"}, {\"line\": {\"color\": \"gray\", \"shape\": \"spline\", \"width\": 3}, \"mode\": \"lines\", \"x\": [1, 2, 3, 4, 5, 6, 7], \"y\": [0.07185578359124661, 0.13864492108344612, 0.16100379332347023, 0.15654295710950153, 0.12406201137295872, 0.20754597914723844, 0.14034455437213836], \"type\": \"scatter\", \"uid\": \"5379b2fe-a5c5-46a4-af1a-f91ab3b82099\", \"xaxis\": \"x186\", \"yaxis\": \"y38\"}, {\"marker\": {\"color\": [\"rgb(5,48,97)\", \"rgb(5,48,97)\", \"rgb(5,48,97)\", \"rgb(5,48,97)\", \"rgb(5,48,97)\", \"rgb(5,48,97)\", \"rgb(5,48,97)\"]}, \"x\": [1, 2, 3, 4, 5, 6, 7], \"y\": [0.07675597393193338, 0.18682114409847936, 0.2440260680666184, 0.25343953656770457, 0.12092686459087618, 0.11006517016654598, 0.007965242577842143], \"type\": \"bar\", \"uid\": \"587ce7d8-c6d9-450f-b330-4fcff5c21543\", \"xaxis\": \"x187\", \"yaxis\": \"y38\"}, {\"line\": {\"color\": \"gray\", \"shape\": \"spline\", \"width\": 3}, \"mode\": \"lines\", \"x\": [1, 2, 3, 4, 5, 6, 7], \"y\": [0.07185578359124661, 0.13864492108344612, 0.16100379332347023, 0.15654295710950153, 0.12406201137295872, 0.20754597914723844, 0.14034455437213836], \"type\": \"scatter\", \"uid\": \"9f582005-9f23-4cdf-84f9-fd03e14cc5d0\", \"xaxis\": \"x187\", \"yaxis\": \"y38\"}, {\"marker\": {\"color\": [\"rgb(33,102,172)\", \"rgb(33,102,172)\", \"rgb(33,102,172)\", \"rgb(33,102,172)\", \"rgb(33,102,172)\", \"rgb(33,102,172)\", \"rgb(33,102,172)\"]}, \"x\": [1, 2, 3, 4, 5, 6, 7], \"y\": [0.04829806807727691, 0.19595216191352346, 0.29484820607175716, 0.24471021159153633, 0.07359705611775529, 0.12695492180312787, 0.015639374425023], \"type\": \"bar\", \"uid\": \"327ce9f1-4620-4cbe-8080-3c984e276b75\", \"xaxis\": \"x188\", \"yaxis\": \"y38\"}, {\"line\": {\"color\": \"gray\", \"shape\": \"spline\", \"width\": 3}, \"mode\": \"lines\", \"x\": [1, 2, 3, 4, 5, 6, 7], \"y\": [0.07185578359124661, 0.13864492108344612, 0.16100379332347023, 0.15654295710950153, 0.12406201137295872, 0.20754597914723844, 0.14034455437213836], \"type\": \"scatter\", \"uid\": \"8c8e9638-a3cd-4667-9c5f-0602a8d20fc0\", \"xaxis\": \"x188\", \"yaxis\": \"y38\"}, {\"marker\": {\"color\": [\"rgb(244,165,130)\", \"rgb(244,165,130)\", \"rgb(244,165,130)\", \"rgb(244,165,130)\", \"rgb(244,165,130)\", \"rgb(244,165,130)\", \"rgb(244,165,130)\"]}, \"x\": [1, 2, 3, 4, 5, 6, 7], \"y\": [0.041638456330399455, 0.17941773865944483, 0.29180771834800273, 0.2958700067704807, 0.06025727826675694, 0.07786052809749493, 0.053148273527420443], \"type\": \"bar\", \"uid\": \"49733066-d2f6-4968-a3d5-4e8b2a76cd5b\", \"xaxis\": \"x189\", \"yaxis\": \"y38\"}, {\"line\": {\"color\": \"gray\", \"shape\": \"spline\", \"width\": 3}, \"mode\": \"lines\", \"x\": [1, 2, 3, 4, 5, 6, 7], \"y\": [0.07185578359124661, 0.13864492108344612, 0.16100379332347023, 0.15654295710950153, 0.12406201137295872, 0.20754597914723844, 0.14034455437213836], \"type\": \"scatter\", \"uid\": \"6309d0e0-1fe5-466c-a6a9-1a0e41163fba\", \"xaxis\": \"x189\", \"yaxis\": \"y38\"}, {\"marker\": {\"color\": [\"rgb(178,24,43)\", \"rgb(178,24,43)\", \"rgb(178,24,43)\", \"rgb(178,24,43)\", \"rgb(178,24,43)\", \"rgb(178,24,43)\", \"rgb(178,24,43)\"]}, \"x\": [1, 2, 3, 4, 5, 6, 7], \"y\": [0.0346309403437816, 0.18174924165824063, 0.26769464105156726, 0.23988877654196158, 0.15267947421638017, 0.10995955510616785, 0.01339737108190091], \"type\": \"bar\", \"uid\": \"bf2156f0-b7e3-4a4a-817c-081f4a484b55\", \"xaxis\": \"x190\", \"yaxis\": \"y38\"}, {\"line\": {\"color\": \"gray\", \"shape\": \"spline\", \"width\": 3}, \"mode\": \"lines\", \"x\": [1, 2, 3, 4, 5, 6, 7], \"y\": [0.07185578359124661, 0.13864492108344612, 0.16100379332347023, 0.15654295710950153, 0.12406201137295872, 0.20754597914723844, 0.14034455437213836], \"type\": \"scatter\", \"uid\": \"41081d1e-07a9-49cd-8e02-66b765f5d1f5\", \"xaxis\": \"x190\", \"yaxis\": \"y38\"}, {\"marker\": {\"color\": [\"rgb(214,96,77)\", \"rgb(214,96,77)\", \"rgb(214,96,77)\", \"rgb(214,96,77)\", \"rgb(214,96,77)\", \"rgb(214,96,77)\", \"rgb(214,96,77)\"]}, \"x\": [1, 2, 3, 4, 5, 6, 7], \"y\": [0.1184763789265397, 0.21988622310165717, 0.20554044026712837, 0.21221864951768488, 0.11748701459312391, 0.11996042542666337, 0.006430868167202572], \"type\": \"bar\", \"uid\": \"cacd90da-b5be-42d6-a467-8888e5a3d128\", \"xaxis\": \"x191\", \"yaxis\": \"y39\"}, {\"line\": {\"color\": \"gray\", \"shape\": \"spline\", \"width\": 3}, \"mode\": \"lines\", \"x\": [1, 2, 3, 4, 5, 6, 7], \"y\": [0.07185578359124661, 0.13864492108344612, 0.16100379332347023, 0.15654295710950153, 0.12406201137295872, 0.20754597914723844, 0.14034455437213836], \"type\": \"scatter\", \"uid\": \"023160cd-1db8-4bd2-966c-7873863591bb\", \"xaxis\": \"x191\", \"yaxis\": \"y39\"}, {\"marker\": {\"color\": [\"rgb(5,48,97)\", \"rgb(5,48,97)\", \"rgb(5,48,97)\", \"rgb(5,48,97)\", \"rgb(5,48,97)\", \"rgb(5,48,97)\", \"rgb(5,48,97)\"]}, \"x\": [1, 2, 3, 4, 5, 6, 7], \"y\": [0.09246487867177522, 0.21481481481481482, 0.28531289910600255, 0.20178799489144317, 0.11315453384418901, 0.05440613026819923, 0.03805874840357599], \"type\": \"bar\", \"uid\": \"83c8a6fd-8e78-4d32-8723-bc78a6eb8b71\", \"xaxis\": \"x192\", \"yaxis\": \"y39\"}, {\"line\": {\"color\": \"gray\", \"shape\": \"spline\", \"width\": 3}, \"mode\": \"lines\", \"x\": [1, 2, 3, 4, 5, 6, 7], \"y\": [0.07185578359124661, 0.13864492108344612, 0.16100379332347023, 0.15654295710950153, 0.12406201137295872, 0.20754597914723844, 0.14034455437213836], \"type\": \"scatter\", \"uid\": \"de843395-8fb6-400d-a6c5-f0a3f6fe4327\", \"xaxis\": \"x192\", \"yaxis\": \"y39\"}, {\"marker\": {\"color\": [\"rgb(33,102,172)\", \"rgb(33,102,172)\", \"rgb(33,102,172)\", \"rgb(33,102,172)\", \"rgb(33,102,172)\", \"rgb(33,102,172)\", \"rgb(33,102,172)\"]}, \"x\": [1, 2, 3, 4, 5, 6, 7], \"y\": [0.04823943661971831, 0.2579225352112676, 0.2595070422535211, 0.24683098591549296, 0.06602112676056338, 0.06496478873239436, 0.056514084507042255], \"type\": \"bar\", \"uid\": \"1a3c4531-c5a7-479c-b31f-b4628d6aece5\", \"xaxis\": \"x193\", \"yaxis\": \"y39\"}, {\"line\": {\"color\": \"gray\", \"shape\": \"spline\", \"width\": 3}, \"mode\": \"lines\", \"x\": [1, 2, 3, 4, 5, 6, 7], \"y\": [0.07185578359124661, 0.13864492108344612, 0.16100379332347023, 0.15654295710950153, 0.12406201137295872, 0.20754597914723844, 0.14034455437213836], \"type\": \"scatter\", \"uid\": \"d261ed40-ca08-45a1-9950-2263fa31d314\", \"xaxis\": \"x193\", \"yaxis\": \"y39\"}, {\"marker\": {\"color\": [\"rgb(244,165,130)\", \"rgb(244,165,130)\", \"rgb(244,165,130)\", \"rgb(244,165,130)\", \"rgb(244,165,130)\", \"rgb(244,165,130)\", \"rgb(244,165,130)\"]}, \"x\": [1, 2, 3, 4, 5, 6, 7], \"y\": [0.07647304638529043, 0.19139155871291266, 0.2565816966151275, 0.26744671959882993, 0.08984538236523193, 0.10321771834517342, 0.015043877977434183], \"type\": \"bar\", \"uid\": \"210a5b25-905a-462b-bee2-c79baba38f04\", \"xaxis\": \"x194\", \"yaxis\": \"y39\"}, {\"line\": {\"color\": \"gray\", \"shape\": \"spline\", \"width\": 3}, \"mode\": \"lines\", \"x\": [1, 2, 3, 4, 5, 6, 7], \"y\": [0.07185578359124661, 0.13864492108344612, 0.16100379332347023, 0.15654295710950153, 0.12406201137295872, 0.20754597914723844, 0.14034455437213836], \"type\": \"scatter\", \"uid\": \"80240976-6e62-43b9-a3fd-721a3ead5d5d\", \"xaxis\": \"x194\", \"yaxis\": \"y39\"}, {\"marker\": {\"color\": [\"rgb(178,24,43)\", \"rgb(178,24,43)\", \"rgb(178,24,43)\", \"rgb(178,24,43)\", \"rgb(178,24,43)\", \"rgb(178,24,43)\", \"rgb(178,24,43)\"]}, \"x\": [1, 2, 3, 4, 5, 6, 7], \"y\": [0.06587145433677652, 0.206263321856042, 0.26926545335300867, 0.2527873421872438, 0.09493359567142154, 0.09153139858993277, 0.019347434005574683], \"type\": \"bar\", \"uid\": \"50433d64-8704-4371-8526-93b82d7fc38c\", \"xaxis\": \"x195\", \"yaxis\": \"y39\"}, {\"line\": {\"color\": \"gray\", \"shape\": \"spline\", \"width\": 3}, \"mode\": \"lines\", \"x\": [1, 2, 3, 4, 5, 6, 7], \"y\": [0.07185578359124661, 0.13864492108344612, 0.16100379332347023, 0.15654295710950153, 0.12406201137295872, 0.20754597914723844, 0.14034455437213836], \"type\": \"scatter\", \"uid\": \"c030eec6-2c26-4b17-93e6-b549dd6c8e36\", \"xaxis\": \"x195\", \"yaxis\": \"y39\"}, {\"marker\": {\"color\": [\"rgb(214,96,77)\", \"rgb(214,96,77)\", \"rgb(214,96,77)\", \"rgb(214,96,77)\", \"rgb(214,96,77)\", \"rgb(214,96,77)\", \"rgb(214,96,77)\"]}, \"x\": [1, 2, 3, 4, 5, 6, 7], \"y\": [0.04604726976365118, 0.0488997555012225, 0.08353708231458842, 0.08883455582722087, 0.0647921760391198, 0.3732681336593317, 0.2946210268948655], \"type\": \"bar\", \"uid\": \"43c280a9-82f6-4580-adb5-d4ba7df97dfb\", \"xaxis\": \"x196\", \"yaxis\": \"y40\"}, {\"line\": {\"color\": \"gray\", \"shape\": \"spline\", \"width\": 3}, \"mode\": \"lines\", \"x\": [1, 2, 3, 4, 5, 6, 7], \"y\": [0.07185578359124661, 0.13864492108344612, 0.16100379332347023, 0.15654295710950153, 0.12406201137295872, 0.20754597914723844, 0.14034455437213836], \"type\": \"scatter\", \"uid\": \"c0f85123-b2be-4b8d-8889-4131c06bde72\", \"xaxis\": \"x196\", \"yaxis\": \"y40\"}, {\"marker\": {\"color\": [\"rgb(5,48,97)\", \"rgb(5,48,97)\", \"rgb(5,48,97)\", \"rgb(5,48,97)\", \"rgb(5,48,97)\", \"rgb(5,48,97)\", \"rgb(5,48,97)\"]}, \"x\": [1, 2, 3, 4, 5, 6, 7], \"y\": [0.04974031162604874, 0.23531761885737115, 0.2766679984019177, 0.19736316420295646, 0.1374350779065122, 0.08030363563723532, 0.02317219336795845], \"type\": \"bar\", \"uid\": \"742bcb27-ff60-47fa-a9a7-f8900bd5cb9c\", \"xaxis\": \"x197\", \"yaxis\": \"y40\"}, {\"line\": {\"color\": \"gray\", \"shape\": \"spline\", \"width\": 3}, \"mode\": \"lines\", \"x\": [1, 2, 3, 4, 5, 6, 7], \"y\": [0.07185578359124661, 0.13864492108344612, 0.16100379332347023, 0.15654295710950153, 0.12406201137295872, 0.20754597914723844, 0.14034455437213836], \"type\": \"scatter\", \"uid\": \"b4c6fe9d-b113-421e-84c5-3e46bc78d9be\", \"xaxis\": \"x197\", \"yaxis\": \"y40\"}, {\"marker\": {\"color\": [\"rgb(33,102,172)\", \"rgb(33,102,172)\", \"rgb(33,102,172)\", \"rgb(33,102,172)\", \"rgb(33,102,172)\", \"rgb(33,102,172)\", \"rgb(33,102,172)\"]}, \"x\": [1, 2, 3, 4, 5, 6, 7], \"y\": [0.03921877461017483, 0.175303197353914, 0.22034966136399434, 0.25153567490943457, 0.185226019845645, 0.11797133406835722, 0.010395337848480075], \"type\": \"bar\", \"uid\": \"a8e3db31-668a-4d85-b2b4-23c606292981\", \"xaxis\": \"x198\", \"yaxis\": \"y40\"}, {\"line\": {\"color\": \"gray\", \"shape\": \"spline\", \"width\": 3}, \"mode\": \"lines\", \"x\": [1, 2, 3, 4, 5, 6, 7], \"y\": [0.07185578359124661, 0.13864492108344612, 0.16100379332347023, 0.15654295710950153, 0.12406201137295872, 0.20754597914723844, 0.14034455437213836], \"type\": \"scatter\", \"uid\": \"ac3f54c5-64c6-4b16-b74f-780b9e254a85\", \"xaxis\": \"x198\", \"yaxis\": \"y40\"}, {\"marker\": {\"color\": [\"rgb(244,165,130)\", \"rgb(244,165,130)\", \"rgb(244,165,130)\", \"rgb(244,165,130)\", \"rgb(244,165,130)\", \"rgb(244,165,130)\", \"rgb(244,165,130)\"]}, \"x\": [1, 2, 3, 4, 5, 6, 7], \"y\": [0.036678809194824774, 0.1541263660344178, 0.2436879788971235, 0.2553699284009546, 0.18414772013566136, 0.11254867478959929, 0.013440522547418666], \"type\": \"bar\", \"uid\": \"dde8c879-9a12-4cd6-a621-478194eabdbd\", \"xaxis\": \"x199\", \"yaxis\": \"y40\"}, {\"line\": {\"color\": \"gray\", \"shape\": \"spline\", \"width\": 3}, \"mode\": \"lines\", \"x\": [1, 2, 3, 4, 5, 6, 7], \"y\": [0.07185578359124661, 0.13864492108344612, 0.16100379332347023, 0.15654295710950153, 0.12406201137295872, 0.20754597914723844, 0.14034455437213836], \"type\": \"scatter\", \"uid\": \"6295bfd2-c8e7-4143-bf3b-cec552d77145\", \"xaxis\": \"x199\", \"yaxis\": \"y40\"}, {\"marker\": {\"color\": [\"rgb(178,24,43)\", \"rgb(178,24,43)\", \"rgb(178,24,43)\", \"rgb(178,24,43)\", \"rgb(178,24,43)\", \"rgb(178,24,43)\", \"rgb(178,24,43)\"]}, \"x\": [1, 2, 3, 4, 5, 6, 7], \"y\": [0.08681785967399008, 0.22955350815024805, 0.23770375620127568, 0.25322466335931965, 0.07377746279234586, 0.09829907866761162, 0.02062367115520907], \"type\": \"bar\", \"uid\": \"112dccab-c631-4a8b-b531-4853caada657\", \"xaxis\": \"x200\", \"yaxis\": \"y40\"}, {\"line\": {\"color\": \"gray\", \"shape\": \"spline\", \"width\": 3}, \"mode\": \"lines\", \"x\": [1, 2, 3, 4, 5, 6, 7], \"y\": [0.07185578359124661, 0.13864492108344612, 0.16100379332347023, 0.15654295710950153, 0.12406201137295872, 0.20754597914723844, 0.14034455437213836], \"type\": \"scatter\", \"uid\": \"d613ed60-4049-40d6-81e5-770441cd2578\", \"xaxis\": \"x200\", \"yaxis\": \"y40\"}], {\"annotations\": [{\"font\": {\"size\": 16}, \"showarrow\": false, \"text\": \"<b>Collage</b><br>(JSD: 0.18)\", \"x\": 0.08399999999999999, \"xanchor\": \"center\", \"xref\": \"paper\", \"y\": 1.0, \"yanchor\": \"bottom\", \"yref\": \"paper\"}, {\"font\": {\"size\": 16}, \"showarrow\": false, \"text\": \"<b>APIs</b><br>(JSD: 0.17)\", \"x\": 0.292, \"xanchor\": \"center\", \"xref\": \"paper\", \"y\": 1.0, \"yanchor\": \"bottom\", \"yref\": \"paper\"}, {\"font\": {\"size\": 16}, \"showarrow\": false, \"text\": \"<b>Java Concurrency</b><br>(JSD: 0.16)\", \"x\": 0.5, \"xanchor\": \"center\", \"xref\": \"paper\", \"y\": 1.0, \"yanchor\": \"bottom\", \"yref\": \"paper\"}, {\"font\": {\"size\": 16}, \"showarrow\": false, \"text\": \"<b>Mobile Product Management</b><br>(JSD: 0.14)\", \"x\": 0.708, \"xanchor\": \"center\", \"xref\": \"paper\", \"y\": 1.0, \"yanchor\": \"bottom\", \"yref\": \"paper\"}, {\"font\": {\"size\": 16}, \"showarrow\": false, \"text\": \"<b>Load Testing and Performance</b><br>(JSD: 0.13)\", \"x\": 0.9159999999999999, \"xanchor\": \"center\", \"xref\": \"paper\", \"y\": 1.0, \"yanchor\": \"bottom\", \"yref\": \"paper\"}, {\"font\": {\"size\": 16}, \"showarrow\": false, \"text\": \"<b>ASP.NET Core</b><br>(JSD: 0.13)\", \"x\": 0.08399999999999999, \"xanchor\": \"center\", \"xref\": \"paper\", \"y\": 0.9746875000000002, \"yanchor\": \"bottom\", \"yref\": \"paper\"}, {\"font\": {\"size\": 16}, \"showarrow\": false, \"text\": \"<b>Software Craftsmanship</b><br>(JSD: 0.13)\", \"x\": 0.292, \"xanchor\": \"center\", \"xref\": \"paper\", \"y\": 0.9746875000000002, \"yanchor\": \"bottom\", \"yref\": \"paper\"}, {\"font\": {\"size\": 16}, \"showarrow\": false, \"text\": \"<b>Dog Playgroups</b><br>(JSD: 0.13)\", \"x\": 0.5, \"xanchor\": \"center\", \"xref\": \"paper\", \"y\": 0.9746875000000002, \"yanchor\": \"bottom\", \"yref\": \"paper\"}, {\"font\": {\"size\": 16}, \"showarrow\": false, \"text\": \"<b>.NET Core</b><br>(JSD: 0.13)\", \"x\": 0.708, \"xanchor\": \"center\", \"xref\": \"paper\", \"y\": 0.9746875000000002, \"yanchor\": \"bottom\", \"yref\": \"paper\"}, {\"font\": {\"size\": 16}, \"showarrow\": false, \"text\": \"<b>Product Marketing</b><br>(JSD: 0.13)\", \"x\": 0.9159999999999999, \"xanchor\": \"center\", \"xref\": \"paper\", \"y\": 0.9746875000000002, \"yanchor\": \"bottom\", \"yref\": \"paper\"}, {\"font\": {\"size\": 16}, \"showarrow\": false, \"text\": \"<b>Product Development</b><br>(JSD: 0.12)\", \"x\": 0.08399999999999999, \"xanchor\": \"center\", \"xref\": \"paper\", \"y\": 0.9493750000000002, \"yanchor\": \"bottom\", \"yref\": \"paper\"}, {\"font\": {\"size\": 16}, \"showarrow\": false, \"text\": \"<b>Referral Marketing</b><br>(JSD: 0.12)\", \"x\": 0.292, \"xanchor\": \"center\", \"xref\": \"paper\", \"y\": 0.9493750000000002, \"yanchor\": \"bottom\", \"yref\": \"paper\"}, {\"font\": {\"size\": 16}, \"showarrow\": false, \"text\": \"<b>Software Product Management</b><br>(JSD: 0.12)\", \"x\": 0.5, \"xanchor\": \"center\", \"xref\": \"paper\", \"y\": 0.9493750000000002, \"yanchor\": \"bottom\", \"yref\": \"paper\"}, {\"font\": {\"size\": 16}, \"showarrow\": false, \"text\": \"<b>Data Analysis and Modeling</b><br>(JSD: 0.12)\", \"x\": 0.708, \"xanchor\": \"center\", \"xref\": \"paper\", \"y\": 0.9493750000000002, \"yanchor\": \"bottom\", \"yref\": \"paper\"}, {\"font\": {\"size\": 16}, \"showarrow\": false, \"text\": \"<b>Continuous Integration</b><br>(JSD: 0.12)\", \"x\": 0.9159999999999999, \"xanchor\": \"center\", \"xref\": \"paper\", \"y\": 0.9493750000000002, \"yanchor\": \"bottom\", \"yref\": \"paper\"}, {\"font\": {\"size\": 16}, \"showarrow\": false, \"text\": \"<b>Distributed Systems</b><br>(JSD: 0.12)\", \"x\": 0.08399999999999999, \"xanchor\": \"center\", \"xref\": \"paper\", \"y\": 0.9240625000000001, \"yanchor\": \"bottom\", \"yref\": \"paper\"}, {\"font\": {\"size\": 16}, \"showarrow\": false, \"text\": \"<b>Java Virtual Machine</b><br>(JSD: 0.12)\", \"x\": 0.292, \"xanchor\": \"center\", \"xref\": \"paper\", \"y\": 0.9240625000000001, \"yanchor\": \"bottom\", \"yref\": \"paper\"}, {\"font\": {\"size\": 16}, \"showarrow\": false, \"text\": \"<b>New Product Development: Software & Tech</b><br>(JSD: 0.12)\", \"x\": 0.5, \"xanchor\": \"center\", \"xref\": \"paper\", \"y\": 0.9240625000000001, \"yanchor\": \"bottom\", \"yref\": \"paper\"}, {\"font\": {\"size\": 16}, \"showarrow\": false, \"text\": \"<b>Software QA and Testing</b><br>(JSD: 0.12)\", \"x\": 0.708, \"xanchor\": \"center\", \"xref\": \"paper\", \"y\": 0.9240625000000001, \"yanchor\": \"bottom\", \"yref\": \"paper\"}, {\"font\": {\"size\": 16}, \"showarrow\": false, \"text\": \"<b>Product Management</b><br>(JSD: 0.12)\", \"x\": 0.9159999999999999, \"xanchor\": \"center\", \"xref\": \"paper\", \"y\": 0.9240625000000001, \"yanchor\": \"bottom\", \"yref\": \"paper\"}, {\"font\": {\"size\": 16}, \"showarrow\": false, \"text\": \"<b>Concurrent Programming</b><br>(JSD: 0.12)\", \"x\": 0.08399999999999999, \"xanchor\": \"center\", \"xref\": \"paper\", \"y\": 0.89875, \"yanchor\": \"bottom\", \"yref\": \"paper\"}, {\"font\": {\"size\": 16}, \"showarrow\": false, \"text\": \"<b>JVM Languages</b><br>(JSD: 0.12)\", \"x\": 0.292, \"xanchor\": \"center\", \"xref\": \"paper\", \"y\": 0.89875, \"yanchor\": \"bottom\", \"yref\": \"paper\"}, {\"font\": {\"size\": 16}, \"showarrow\": false, \"text\": \"<b>Trekking</b><br>(JSD: 0.12)\", \"x\": 0.5, \"xanchor\": \"center\", \"xref\": \"paper\", \"y\": 0.89875, \"yanchor\": \"bottom\", \"yref\": \"paper\"}, {\"font\": {\"size\": 16}, \"showarrow\": false, \"text\": \"<b>Growth Hacking</b><br>(JSD: 0.11)\", \"x\": 0.708, \"xanchor\": \"center\", \"xref\": \"paper\", \"y\": 0.89875, \"yanchor\": \"bottom\", \"yref\": \"paper\"}, {\"font\": {\"size\": 16}, \"showarrow\": false, \"text\": \"<b>Rich Internet Applications</b><br>(JSD: 0.11)\", \"x\": 0.9159999999999999, \"xanchor\": \"center\", \"xref\": \"paper\", \"y\": 0.89875, \"yanchor\": \"bottom\", \"yref\": \"paper\"}, {\"font\": {\"size\": 16}, \"showarrow\": false, \"text\": \"<b>Go (Programming Language)</b><br>(JSD: 0.11)\", \"x\": 0.08399999999999999, \"xanchor\": \"center\", \"xref\": \"paper\", \"y\": 0.8734375000000002, \"yanchor\": \"bottom\", \"yref\": \"paper\"}, {\"font\": {\"size\": 16}, \"showarrow\": false, \"text\": \"<b>B2B Networking</b><br>(JSD: 0.11)\", \"x\": 0.292, \"xanchor\": \"center\", \"xref\": \"paper\", \"y\": 0.8734375000000002, \"yanchor\": \"bottom\", \"yref\": \"paper\"}, {\"font\": {\"size\": 16}, \"showarrow\": false, \"text\": \"<b>IBM</b><br>(JSD: 0.11)\", \"x\": 0.5, \"xanchor\": \"center\", \"xref\": \"paper\", \"y\": 0.8734375000000002, \"yanchor\": \"bottom\", \"yref\": \"paper\"}, {\"font\": {\"size\": 16}, \"showarrow\": false, \"text\": \"<b>Content Strategy</b><br>(JSD: 0.11)\", \"x\": 0.708, \"xanchor\": \"center\", \"xref\": \"paper\", \"y\": 0.8734375000000002, \"yanchor\": \"bottom\", \"yref\": \"paper\"}, {\"font\": {\"size\": 16}, \"showarrow\": false, \"text\": \"<b>Crypto Currency</b><br>(JSD: 0.11)\", \"x\": 0.9159999999999999, \"xanchor\": \"center\", \"xref\": \"paper\", \"y\": 0.8734375000000002, \"yanchor\": \"bottom\", \"yref\": \"paper\"}, {\"font\": {\"size\": 16}, \"showarrow\": false, \"text\": \"<b>UX/UI</b><br>(JSD: 0.11)\", \"x\": 0.08399999999999999, \"xanchor\": \"center\", \"xref\": \"paper\", \"y\": 0.8481250000000001, \"yanchor\": \"bottom\", \"yref\": \"paper\"}, {\"font\": {\"size\": 16}, \"showarrow\": false, \"text\": \"<b>OpenStack</b><br>(JSD: 0.11)\", \"x\": 0.292, \"xanchor\": \"center\", \"xref\": \"paper\", \"y\": 0.8481250000000001, \"yanchor\": \"bottom\", \"yref\": \"paper\"}, {\"font\": {\"size\": 16}, \"showarrow\": false, \"text\": \"<b>Kubernetes</b><br>(JSD: 0.11)\", \"x\": 0.5, \"xanchor\": \"center\", \"xref\": \"paper\", \"y\": 0.8481250000000001, \"yanchor\": \"bottom\", \"yref\": \"paper\"}, {\"font\": {\"size\": 16}, \"showarrow\": false, \"text\": \"<b>Microservices</b><br>(JSD: 0.11)\", \"x\": 0.708, \"xanchor\": \"center\", \"xref\": \"paper\", \"y\": 0.8481250000000001, \"yanchor\": \"bottom\", \"yref\": \"paper\"}, {\"font\": {\"size\": 16}, \"showarrow\": false, \"text\": \"<b>Quality Assurance</b><br>(JSD: 0.11)\", \"x\": 0.9159999999999999, \"xanchor\": \"center\", \"xref\": \"paper\", \"y\": 0.8481250000000001, \"yanchor\": \"bottom\", \"yref\": \"paper\"}, {\"font\": {\"size\": 16}, \"showarrow\": false, \"text\": \"<b>Open Government</b><br>(JSD: 0.11)\", \"x\": 0.08399999999999999, \"xanchor\": \"center\", \"xref\": \"paper\", \"y\": 0.8228125000000001, \"yanchor\": \"bottom\", \"yref\": \"paper\"}, {\"font\": {\"size\": 16}, \"showarrow\": false, \"text\": \"<b>Off-Leash Dog Recreation</b><br>(JSD: 0.11)\", \"x\": 0.292, \"xanchor\": \"center\", \"xref\": \"paper\", \"y\": 0.8228125000000001, \"yanchor\": \"bottom\", \"yref\": \"paper\"}, {\"font\": {\"size\": 16}, \"showarrow\": false, \"text\": \"<b>Artificial Intelligence Programming</b><br>(JSD: 0.10)\", \"x\": 0.5, \"xanchor\": \"center\", \"xref\": \"paper\", \"y\": 0.8228125000000001, \"yanchor\": \"bottom\", \"yref\": \"paper\"}, {\"font\": {\"size\": 16}, \"showarrow\": false, \"text\": \"<b>Business Analytics</b><br>(JSD: 0.10)\", \"x\": 0.708, \"xanchor\": \"center\", \"xref\": \"paper\", \"y\": 0.8228125000000001, \"yanchor\": \"bottom\", \"yref\": \"paper\"}, {\"font\": {\"size\": 16}, \"showarrow\": false, \"text\": \"<b>Test Automation</b><br>(JSD: 0.10)\", \"x\": 0.9159999999999999, \"xanchor\": \"center\", \"xref\": \"paper\", \"y\": 0.8228125000000001, \"yanchor\": \"bottom\", \"yref\": \"paper\"}, {\"font\": {\"size\": 16}, \"showarrow\": false, \"text\": \"<b>Continuous Delivery</b><br>(JSD: 0.10)\", \"x\": 0.08399999999999999, \"xanchor\": \"center\", \"xref\": \"paper\", \"y\": 0.7975000000000001, \"yanchor\": \"bottom\", \"yref\": \"paper\"}, {\"font\": {\"size\": 16}, \"showarrow\": false, \"text\": \"<b>Software Quality</b><br>(JSD: 0.10)\", \"x\": 0.292, \"xanchor\": \"center\", \"xref\": \"paper\", \"y\": 0.7975000000000001, \"yanchor\": \"bottom\", \"yref\": \"paper\"}, {\"font\": {\"size\": 16}, \"showarrow\": false, \"text\": \"<b>Agile Leadership</b><br>(JSD: 0.10)\", \"x\": 0.5, \"xanchor\": \"center\", \"xref\": \"paper\", \"y\": 0.7975000000000001, \"yanchor\": \"bottom\", \"yref\": \"paper\"}, {\"font\": {\"size\": 16}, \"showarrow\": false, \"text\": \"<b>User Research</b><br>(JSD: 0.10)\", \"x\": 0.708, \"xanchor\": \"center\", \"xref\": \"paper\", \"y\": 0.7975000000000001, \"yanchor\": \"bottom\", \"yref\": \"paper\"}, {\"font\": {\"size\": 16}, \"showarrow\": false, \"text\": \"<b>Healthcare Innovation</b><br>(JSD: 0.10)\", \"x\": 0.9159999999999999, \"xanchor\": \"center\", \"xref\": \"paper\", \"y\": 0.7975000000000001, \"yanchor\": \"bottom\", \"yref\": \"paper\"}, {\"font\": {\"size\": 16}, \"showarrow\": false, \"text\": \"<b>Database Professionals</b><br>(JSD: 0.10)\", \"x\": 0.08399999999999999, \"xanchor\": \"center\", \"xref\": \"paper\", \"y\": 0.7721875000000001, \"yanchor\": \"bottom\", \"yref\": \"paper\"}, {\"font\": {\"size\": 16}, \"showarrow\": false, \"text\": \"<b>Agile Transformation</b><br>(JSD: 0.10)\", \"x\": 0.292, \"xanchor\": \"center\", \"xref\": \"paper\", \"y\": 0.7721875000000001, \"yanchor\": \"bottom\", \"yref\": \"paper\"}, {\"font\": {\"size\": 16}, \"showarrow\": false, \"text\": \"<b>PHP Application Development</b><br>(JSD: 0.10)\", \"x\": 0.5, \"xanchor\": \"center\", \"xref\": \"paper\", \"y\": 0.7721875000000001, \"yanchor\": \"bottom\", \"yref\": \"paper\"}, {\"font\": {\"size\": 16}, \"showarrow\": false, \"text\": \"<b>Open Data</b><br>(JSD: 0.10)\", \"x\": 0.708, \"xanchor\": \"center\", \"xref\": \"paper\", \"y\": 0.7721875000000001, \"yanchor\": \"bottom\", \"yref\": \"paper\"}, {\"font\": {\"size\": 16}, \"showarrow\": false, \"text\": \"<b>Product Design</b><br>(JSD: 0.09)\", \"x\": 0.9159999999999999, \"xanchor\": \"center\", \"xref\": \"paper\", \"y\": 0.7721875000000001, \"yanchor\": \"bottom\", \"yref\": \"paper\"}, {\"font\": {\"size\": 16}, \"showarrow\": false, \"text\": \"<b>Kanban</b><br>(JSD: 0.09)\", \"x\": 0.08399999999999999, \"xanchor\": \"center\", \"xref\": \"paper\", \"y\": 0.7468750000000001, \"yanchor\": \"bottom\", \"yref\": \"paper\"}, {\"font\": {\"size\": 16}, \"showarrow\": false, \"text\": \"<b>Lean UX</b><br>(JSD: 0.09)\", \"x\": 0.292, \"xanchor\": \"center\", \"xref\": \"paper\", \"y\": 0.7468750000000001, \"yanchor\": \"bottom\", \"yref\": \"paper\"}, {\"font\": {\"size\": 16}, \"showarrow\": false, \"text\": \"<b>High Scalability Computing</b><br>(JSD: 0.09)\", \"x\": 0.5, \"xanchor\": \"center\", \"xref\": \"paper\", \"y\": 0.7468750000000001, \"yanchor\": \"bottom\", \"yref\": \"paper\"}, {\"font\": {\"size\": 16}, \"showarrow\": false, \"text\": \"<b>Software Design</b><br>(JSD: 0.09)\", \"x\": 0.708, \"xanchor\": \"center\", \"xref\": \"paper\", \"y\": 0.7468750000000001, \"yanchor\": \"bottom\", \"yref\": \"paper\"}, {\"font\": {\"size\": 16}, \"showarrow\": false, \"text\": \"<b>High Performance Computing</b><br>(JSD: 0.09)\", \"x\": 0.9159999999999999, \"xanchor\": \"center\", \"xref\": \"paper\", \"y\": 0.7468750000000001, \"yanchor\": \"bottom\", \"yref\": \"paper\"}, {\"font\": {\"size\": 16}, \"showarrow\": false, \"text\": \"<b>Configuration Management</b><br>(JSD: 0.09)\", \"x\": 0.08399999999999999, \"xanchor\": \"center\", \"xref\": \"paper\", \"y\": 0.7215625000000001, \"yanchor\": \"bottom\", \"yref\": \"paper\"}, {\"font\": {\"size\": 16}, \"showarrow\": false, \"text\": \"<b>Financial Technology</b><br>(JSD: 0.09)\", \"x\": 0.292, \"xanchor\": \"center\", \"xref\": \"paper\", \"y\": 0.7215625000000001, \"yanchor\": \"bottom\", \"yref\": \"paper\"}, {\"font\": {\"size\": 16}, \"showarrow\": false, \"text\": \"<b>African American Women</b><br>(JSD: 0.09)\", \"x\": 0.5, \"xanchor\": \"center\", \"xref\": \"paper\", \"y\": 0.7215625000000001, \"yanchor\": \"bottom\", \"yref\": \"paper\"}, {\"font\": {\"size\": 16}, \"showarrow\": false, \"text\": \"<b>Angular 2</b><br>(JSD: 0.09)\", \"x\": 0.708, \"xanchor\": \"center\", \"xref\": \"paper\", \"y\": 0.7215625000000001, \"yanchor\": \"bottom\", \"yref\": \"paper\"}, {\"font\": {\"size\": 16}, \"showarrow\": false, \"text\": \"<b>AWS Programming and Tools</b><br>(JSD: 0.09)\", \"x\": 0.9159999999999999, \"xanchor\": \"center\", \"xref\": \"paper\", \"y\": 0.7215625000000001, \"yanchor\": \"bottom\", \"yref\": \"paper\"}, {\"font\": {\"size\": 16}, \"showarrow\": false, \"text\": \"<b>Containers</b><br>(JSD: 0.09)\", \"x\": 0.08399999999999999, \"xanchor\": \"center\", \"xref\": \"paper\", \"y\": 0.6962500000000001, \"yanchor\": \"bottom\", \"yref\": \"paper\"}, {\"font\": {\"size\": 16}, \"showarrow\": false, \"text\": \"<b>Active Dogs</b><br>(JSD: 0.09)\", \"x\": 0.292, \"xanchor\": \"center\", \"xref\": \"paper\", \"y\": 0.6962500000000001, \"yanchor\": \"bottom\", \"yref\": \"paper\"}, {\"font\": {\"size\": 16}, \"showarrow\": false, \"text\": \"<b>Statistical Computing</b><br>(JSD: 0.09)\", \"x\": 0.5, \"xanchor\": \"center\", \"xref\": \"paper\", \"y\": 0.6962500000000001, \"yanchor\": \"bottom\", \"yref\": \"paper\"}, {\"font\": {\"size\": 16}, \"showarrow\": false, \"text\": \"<b>Scaling Agile</b><br>(JSD: 0.09)\", \"x\": 0.708, \"xanchor\": \"center\", \"xref\": \"paper\", \"y\": 0.6962500000000001, \"yanchor\": \"bottom\", \"yref\": \"paper\"}, {\"font\": {\"size\": 16}, \"showarrow\": false, \"text\": \"<b>Test Driven Development</b><br>(JSD: 0.09)\", \"x\": 0.9159999999999999, \"xanchor\": \"center\", \"xref\": \"paper\", \"y\": 0.6962500000000001, \"yanchor\": \"bottom\", \"yref\": \"paper\"}, {\"font\": {\"size\": 16}, \"showarrow\": false, \"text\": \"<b>Real Life uses of AWS and cloud servers</b><br>(JSD: 0.09)\", \"x\": 0.08399999999999999, \"xanchor\": \"center\", \"xref\": \"paper\", \"y\": 0.6709375000000001, \"yanchor\": \"bottom\", \"yref\": \"paper\"}, {\"font\": {\"size\": 16}, \"showarrow\": false, \"text\": \"<b>EC2</b><br>(JSD: 0.09)\", \"x\": 0.292, \"xanchor\": \"center\", \"xref\": \"paper\", \"y\": 0.6709375000000001, \"yanchor\": \"bottom\", \"yref\": \"paper\"}, {\"font\": {\"size\": 16}, \"showarrow\": false, \"text\": \"<b>Usability</b><br>(JSD: 0.09)\", \"x\": 0.5, \"xanchor\": \"center\", \"xref\": \"paper\", \"y\": 0.6709375000000001, \"yanchor\": \"bottom\", \"yref\": \"paper\"}, {\"font\": {\"size\": 16}, \"showarrow\": false, \"text\": \"<b>Agile and Scrum</b><br>(JSD: 0.09)\", \"x\": 0.708, \"xanchor\": \"center\", \"xref\": \"paper\", \"y\": 0.6709375000000001, \"yanchor\": \"bottom\", \"yref\": \"paper\"}, {\"font\": {\"size\": 16}, \"showarrow\": false, \"text\": \"<b>Software Testing</b><br>(JSD: 0.09)\", \"x\": 0.9159999999999999, \"xanchor\": \"center\", \"xref\": \"paper\", \"y\": 0.6709375000000001, \"yanchor\": \"bottom\", \"yref\": \"paper\"}, {\"font\": {\"size\": 16}, \"showarrow\": false, \"text\": \"<b>Software Architecture</b><br>(JSD: 0.09)\", \"x\": 0.08399999999999999, \"xanchor\": \"center\", \"xref\": \"paper\", \"y\": 0.645625, \"yanchor\": \"bottom\", \"yref\": \"paper\"}, {\"font\": {\"size\": 16}, \"showarrow\": false, \"text\": \"<b>PaaS (Platform as a Service)</b><br>(JSD: 0.09)\", \"x\": 0.292, \"xanchor\": \"center\", \"xref\": \"paper\", \"y\": 0.645625, \"yanchor\": \"bottom\", \"yref\": \"paper\"}, {\"font\": {\"size\": 16}, \"showarrow\": false, \"text\": \"<b>Dog Hikes</b><br>(JSD: 0.09)\", \"x\": 0.5, \"xanchor\": \"center\", \"xref\": \"paper\", \"y\": 0.645625, \"yanchor\": \"bottom\", \"yref\": \"paper\"}, {\"font\": {\"size\": 16}, \"showarrow\": false, \"text\": \"<b>Women Programmers</b><br>(JSD: 0.09)\", \"x\": 0.708, \"xanchor\": \"center\", \"xref\": \"paper\", \"y\": 0.645625, \"yanchor\": \"bottom\", \"yref\": \"paper\"}, {\"font\": {\"size\": 16}, \"showarrow\": false, \"text\": \"<b>Infrastructure as Code</b><br>(JSD: 0.09)\", \"x\": 0.9159999999999999, \"xanchor\": \"center\", \"xref\": \"paper\", \"y\": 0.645625, \"yanchor\": \"bottom\", \"yref\": \"paper\"}, {\"font\": {\"size\": 16}, \"showarrow\": false, \"text\": \"<b>SaaS (Software as a Service)</b><br>(JSD: 0.09)\", \"x\": 0.08399999999999999, \"xanchor\": \"center\", \"xref\": \"paper\", \"y\": 0.6203125000000002, \"yanchor\": \"bottom\", \"yref\": \"paper\"}, {\"font\": {\"size\": 16}, \"showarrow\": false, \"text\": \"<b>R Project for Statistical Computing</b><br>(JSD: 0.08)\", \"x\": 0.292, \"xanchor\": \"center\", \"xref\": \"paper\", \"y\": 0.6203125000000002, \"yanchor\": \"bottom\", \"yref\": \"paper\"}, {\"font\": {\"size\": 16}, \"showarrow\": false, \"text\": \"<b>IaaS (Infrastructure as a Service)</b><br>(JSD: 0.08)\", \"x\": 0.5, \"xanchor\": \"center\", \"xref\": \"paper\", \"y\": 0.6203125000000002, \"yanchor\": \"bottom\", \"yref\": \"paper\"}, {\"font\": {\"size\": 16}, \"showarrow\": false, \"text\": \"<b>Agile Testing</b><br>(JSD: 0.08)\", \"x\": 0.708, \"xanchor\": \"center\", \"xref\": \"paper\", \"y\": 0.6203125000000002, \"yanchor\": \"bottom\", \"yref\": \"paper\"}, {\"font\": {\"size\": 16}, \"showarrow\": false, \"text\": \"<b>AWS S3</b><br>(JSD: 0.08)\", \"x\": 0.9159999999999999, \"xanchor\": \"center\", \"xref\": \"paper\", \"y\": 0.6203125000000002, \"yanchor\": \"bottom\", \"yref\": \"paper\"}, {\"font\": {\"size\": 16}, \"showarrow\": false, \"text\": \"<b>Agile Coaching</b><br>(JSD: 0.08)\", \"x\": 0.08399999999999999, \"xanchor\": \"center\", \"xref\": \"paper\", \"y\": 0.5950000000000001, \"yanchor\": \"bottom\", \"yref\": \"paper\"}, {\"font\": {\"size\": 16}, \"showarrow\": false, \"text\": \"<b>Extreme Programming</b><br>(JSD: 0.08)\", \"x\": 0.292, \"xanchor\": \"center\", \"xref\": \"paper\", \"y\": 0.5950000000000001, \"yanchor\": \"bottom\", \"yref\": \"paper\"}, {\"font\": {\"size\": 16}, \"showarrow\": false, \"text\": \"<b>Creative Real Estate Investing</b><br>(JSD: 0.08)\", \"x\": 0.5, \"xanchor\": \"center\", \"xref\": \"paper\", \"y\": 0.5950000000000001, \"yanchor\": \"bottom\", \"yref\": \"paper\"}, {\"font\": {\"size\": 16}, \"showarrow\": false, \"text\": \"<b>Information Architecture</b><br>(JSD: 0.08)\", \"x\": 0.708, \"xanchor\": \"center\", \"xref\": \"paper\", \"y\": 0.5950000000000001, \"yanchor\": \"bottom\", \"yref\": \"paper\"}, {\"font\": {\"size\": 16}, \"showarrow\": false, \"text\": \"<b>Database Development</b><br>(JSD: 0.08)\", \"x\": 0.9159999999999999, \"xanchor\": \"center\", \"xref\": \"paper\", \"y\": 0.5950000000000001, \"yanchor\": \"bottom\", \"yref\": \"paper\"}, {\"font\": {\"size\": 16}, \"showarrow\": false, \"text\": \"<b>Small Business Networking</b><br>(JSD: 0.08)\", \"x\": 0.08399999999999999, \"xanchor\": \"center\", \"xref\": \"paper\", \"y\": 0.5696875, \"yanchor\": \"bottom\", \"yref\": \"paper\"}, {\"font\": {\"size\": 16}, \"showarrow\": false, \"text\": \"<b>Sport Bikes</b><br>(JSD: 0.08)\", \"x\": 0.292, \"xanchor\": \"center\", \"xref\": \"paper\", \"y\": 0.5696875, \"yanchor\": \"bottom\", \"yref\": \"paper\"}, {\"font\": {\"size\": 16}, \"showarrow\": false, \"text\": \"<b>Go</b><br>(JSD: 0.08)\", \"x\": 0.5, \"xanchor\": \"center\", \"xref\": \"paper\", \"y\": 0.5696875, \"yanchor\": \"bottom\", \"yref\": \"paper\"}, {\"font\": {\"size\": 16}, \"showarrow\": false, \"text\": \"<b>Swift Language</b><br>(JSD: 0.08)\", \"x\": 0.708, \"xanchor\": \"center\", \"xref\": \"paper\", \"y\": 0.5696875, \"yanchor\": \"bottom\", \"yref\": \"paper\"}, {\"font\": {\"size\": 16}, \"showarrow\": false, \"text\": \"<b>HTML</b><br>(JSD: 0.08)\", \"x\": 0.9159999999999999, \"xanchor\": \"center\", \"xref\": \"paper\", \"y\": 0.5696875, \"yanchor\": \"bottom\", \"yref\": \"paper\"}, {\"font\": {\"size\": 16}, \"showarrow\": false, \"text\": \"<b>Digital Marketing</b><br>(JSD: 0.08)\", \"x\": 0.08399999999999999, \"xanchor\": \"center\", \"xref\": \"paper\", \"y\": 0.544375, \"yanchor\": \"bottom\", \"yref\": \"paper\"}, {\"font\": {\"size\": 16}, \"showarrow\": false, \"text\": \"<b>Ruby</b><br>(JSD: 0.08)\", \"x\": 0.292, \"xanchor\": \"center\", \"xref\": \"paper\", \"y\": 0.544375, \"yanchor\": \"bottom\", \"yref\": \"paper\"}, {\"font\": {\"size\": 16}, \"showarrow\": false, \"text\": \"<b>Computer Vision</b><br>(JSD: 0.08)\", \"x\": 0.5, \"xanchor\": \"center\", \"xref\": \"paper\", \"y\": 0.544375, \"yanchor\": \"bottom\", \"yref\": \"paper\"}, {\"font\": {\"size\": 16}, \"showarrow\": false, \"text\": \"<b>Amazon Web Services</b><br>(JSD: 0.08)\", \"x\": 0.708, \"xanchor\": \"center\", \"xref\": \"paper\", \"y\": 0.544375, \"yanchor\": \"bottom\", \"yref\": \"paper\"}, {\"font\": {\"size\": 16}, \"showarrow\": false, \"text\": \"<b>Dogs</b><br>(JSD: 0.08)\", \"x\": 0.9159999999999999, \"xanchor\": \"center\", \"xref\": \"paper\", \"y\": 0.544375, \"yanchor\": \"bottom\", \"yref\": \"paper\"}, {\"font\": {\"size\": 16}, \"showarrow\": false, \"text\": \"<b>Scala</b><br>(JSD: 0.08)\", \"x\": 0.08399999999999999, \"xanchor\": \"center\", \"xref\": \"paper\", \"y\": 0.5190625000000001, \"yanchor\": \"bottom\", \"yref\": \"paper\"}, {\"font\": {\"size\": 16}, \"showarrow\": false, \"text\": \"<b>Commercial Real Estate</b><br>(JSD: 0.08)\", \"x\": 0.292, \"xanchor\": \"center\", \"xref\": \"paper\", \"y\": 0.5190625000000001, \"yanchor\": \"bottom\", \"yref\": \"paper\"}, {\"font\": {\"size\": 16}, \"showarrow\": false, \"text\": \"<b>ASP.NET MVC</b><br>(JSD: 0.08)\", \"x\": 0.5, \"xanchor\": \"center\", \"xref\": \"paper\", \"y\": 0.5190625000000001, \"yanchor\": \"bottom\", \"yref\": \"paper\"}, {\"font\": {\"size\": 16}, \"showarrow\": false, \"text\": \"<b>Data Management</b><br>(JSD: 0.08)\", \"x\": 0.708, \"xanchor\": \"center\", \"xref\": \"paper\", \"y\": 0.5190625000000001, \"yanchor\": \"bottom\", \"yref\": \"paper\"}, {\"font\": {\"size\": 16}, \"showarrow\": false, \"text\": \"<b>Apache Spark</b><br>(JSD: 0.08)\", \"x\": 0.9159999999999999, \"xanchor\": \"center\", \"xref\": \"paper\", \"y\": 0.5190625000000001, \"yanchor\": \"bottom\", \"yref\": \"paper\"}, {\"font\": {\"size\": 16}, \"showarrow\": false, \"text\": \"<b>Scrum</b><br>(JSD: 0.08)\", \"x\": 0.08399999999999999, \"xanchor\": \"center\", \"xref\": \"paper\", \"y\": 0.4937500000000001, \"yanchor\": \"bottom\", \"yref\": \"paper\"}, {\"font\": {\"size\": 16}, \"showarrow\": false, \"text\": \"<b>Agile Project Management</b><br>(JSD: 0.08)\", \"x\": 0.292, \"xanchor\": \"center\", \"xref\": \"paper\", \"y\": 0.4937500000000001, \"yanchor\": \"bottom\", \"yref\": \"paper\"}, {\"font\": {\"size\": 16}, \"showarrow\": false, \"text\": \"<b>New Career</b><br>(JSD: 0.08)\", \"x\": 0.5, \"xanchor\": \"center\", \"xref\": \"paper\", \"y\": 0.4937500000000001, \"yanchor\": \"bottom\", \"yref\": \"paper\"}, {\"font\": {\"size\": 16}, \"showarrow\": false, \"text\": \"<b>Web Standards</b><br>(JSD: 0.08)\", \"x\": 0.708, \"xanchor\": \"center\", \"xref\": \"paper\", \"y\": 0.4937500000000001, \"yanchor\": \"bottom\", \"yref\": \"paper\"}, {\"font\": {\"size\": 16}, \"showarrow\": false, \"text\": \"<b>Virtualization</b><br>(JSD: 0.08)\", \"x\": 0.9159999999999999, \"xanchor\": \"center\", \"xref\": \"paper\", \"y\": 0.4937500000000001, \"yanchor\": \"bottom\", \"yref\": \"paper\"}, {\"font\": {\"size\": 16}, \"showarrow\": false, \"text\": \"<b>Digital Media</b><br>(JSD: 0.08)\", \"x\": 0.08399999999999999, \"xanchor\": \"center\", \"xref\": \"paper\", \"y\": 0.46843750000000006, \"yanchor\": \"bottom\", \"yref\": \"paper\"}, {\"font\": {\"size\": 16}, \"showarrow\": false, \"text\": \"<b>Buy & Hold Real Estate Investing</b><br>(JSD: 0.08)\", \"x\": 0.292, \"xanchor\": \"center\", \"xref\": \"paper\", \"y\": 0.46843750000000006, \"yanchor\": \"bottom\", \"yref\": \"paper\"}, {\"font\": {\"size\": 16}, \"showarrow\": false, \"text\": \"<b>React</b><br>(JSD: 0.08)\", \"x\": 0.5, \"xanchor\": \"center\", \"xref\": \"paper\", \"y\": 0.46843750000000006, \"yanchor\": \"bottom\", \"yref\": \"paper\"}, {\"font\": {\"size\": 16}, \"showarrow\": false, \"text\": \"<b>Design Thinking</b><br>(JSD: 0.08)\", \"x\": 0.708, \"xanchor\": \"center\", \"xref\": \"paper\", \"y\": 0.46843750000000006, \"yanchor\": \"bottom\", \"yref\": \"paper\"}, {\"font\": {\"size\": 16}, \"showarrow\": false, \"text\": \"<b>Software Engineering</b><br>(JSD: 0.08)\", \"x\": 0.9159999999999999, \"xanchor\": \"center\", \"xref\": \"paper\", \"y\": 0.46843750000000006, \"yanchor\": \"bottom\", \"yref\": \"paper\"}, {\"font\": {\"size\": 16}, \"showarrow\": false, \"text\": \"<b>Functional Programming</b><br>(JSD: 0.08)\", \"x\": 0.08399999999999999, \"xanchor\": \"center\", \"xref\": \"paper\", \"y\": 0.4431250000000001, \"yanchor\": \"bottom\", \"yref\": \"paper\"}, {\"font\": {\"size\": 16}, \"showarrow\": false, \"text\": \"<b>Freelance</b><br>(JSD: 0.08)\", \"x\": 0.292, \"xanchor\": \"center\", \"xref\": \"paper\", \"y\": 0.4431250000000001, \"yanchor\": \"bottom\", \"yref\": \"paper\"}, {\"font\": {\"size\": 16}, \"showarrow\": false, \"text\": \"<b>Founders</b><br>(JSD: 0.08)\", \"x\": 0.5, \"xanchor\": \"center\", \"xref\": \"paper\", \"y\": 0.4431250000000001, \"yanchor\": \"bottom\", \"yref\": \"paper\"}, {\"font\": {\"size\": 16}, \"showarrow\": false, \"text\": \"<b>Data Center and Operations Automation</b><br>(JSD: 0.07)\", \"x\": 0.708, \"xanchor\": \"center\", \"xref\": \"paper\", \"y\": 0.4431250000000001, \"yanchor\": \"bottom\", \"yref\": \"paper\"}, {\"font\": {\"size\": 16}, \"showarrow\": false, \"text\": \"<b>Docker</b><br>(JSD: 0.07)\", \"x\": 0.9159999999999999, \"xanchor\": \"center\", \"xref\": \"paper\", \"y\": 0.4431250000000001, \"yanchor\": \"bottom\", \"yref\": \"paper\"}, {\"font\": {\"size\": 16}, \"showarrow\": false, \"text\": \"<b>TensorFlow</b><br>(JSD: 0.07)\", \"x\": 0.08399999999999999, \"xanchor\": \"center\", \"xref\": \"paper\", \"y\": 0.41781250000000003, \"yanchor\": \"bottom\", \"yref\": \"paper\"}, {\"font\": {\"size\": 16}, \"showarrow\": false, \"text\": \"<b>Objective C</b><br>(JSD: 0.07)\", \"x\": 0.292, \"xanchor\": \"center\", \"xref\": \"paper\", \"y\": 0.41781250000000003, \"yanchor\": \"bottom\", \"yref\": \"paper\"}, {\"font\": {\"size\": 16}, \"showarrow\": false, \"text\": \"<b>ASP.NET</b><br>(JSD: 0.07)\", \"x\": 0.5, \"xanchor\": \"center\", \"xref\": \"paper\", \"y\": 0.41781250000000003, \"yanchor\": \"bottom\", \"yref\": \"paper\"}, {\"font\": {\"size\": 16}, \"showarrow\": false, \"text\": \"<b>Lean Startup</b><br>(JSD: 0.07)\", \"x\": 0.708, \"xanchor\": \"center\", \"xref\": \"paper\", \"y\": 0.41781250000000003, \"yanchor\": \"bottom\", \"yref\": \"paper\"}, {\"font\": {\"size\": 16}, \"showarrow\": false, \"text\": \"<b>Golang</b><br>(JSD: 0.07)\", \"x\": 0.9159999999999999, \"xanchor\": \"center\", \"xref\": \"paper\", \"y\": 0.41781250000000003, \"yanchor\": \"bottom\", \"yref\": \"paper\"}, {\"font\": {\"size\": 16}, \"showarrow\": false, \"text\": \"<b>User Experience</b><br>(JSD: 0.07)\", \"x\": 0.08399999999999999, \"xanchor\": \"center\", \"xref\": \"paper\", \"y\": 0.39250000000000007, \"yanchor\": \"bottom\", \"yref\": \"paper\"}, {\"font\": {\"size\": 16}, \"showarrow\": false, \"text\": \"<b>SQL Server</b><br>(JSD: 0.07)\", \"x\": 0.292, \"xanchor\": \"center\", \"xref\": \"paper\", \"y\": 0.39250000000000007, \"yanchor\": \"bottom\", \"yref\": \"paper\"}, {\"font\": {\"size\": 16}, \"showarrow\": false, \"text\": \"<b>iOS</b><br>(JSD: 0.07)\", \"x\": 0.5, \"xanchor\": \"center\", \"xref\": \"paper\", \"y\": 0.39250000000000007, \"yanchor\": \"bottom\", \"yref\": \"paper\"}, {\"font\": {\"size\": 16}, \"showarrow\": false, \"text\": \"<b>Web Application Security</b><br>(JSD: 0.07)\", \"x\": 0.708, \"xanchor\": \"center\", \"xref\": \"paper\", \"y\": 0.39250000000000007, \"yanchor\": \"bottom\", \"yref\": \"paper\"}, {\"font\": {\"size\": 16}, \"showarrow\": false, \"text\": \"<b>Interaction Design</b><br>(JSD: 0.07)\", \"x\": 0.9159999999999999, \"xanchor\": \"center\", \"xref\": \"paper\", \"y\": 0.39250000000000007, \"yanchor\": \"bottom\", \"yref\": \"paper\"}, {\"font\": {\"size\": 16}, \"showarrow\": false, \"text\": \"<b>Cloud Security</b><br>(JSD: 0.07)\", \"x\": 0.08399999999999999, \"xanchor\": \"center\", \"xref\": \"paper\", \"y\": 0.36718750000000006, \"yanchor\": \"bottom\", \"yref\": \"paper\"}, {\"font\": {\"size\": 16}, \"showarrow\": false, \"text\": \"<b>Office 365</b><br>(JSD: 0.07)\", \"x\": 0.292, \"xanchor\": \"center\", \"xref\": \"paper\", \"y\": 0.36718750000000006, \"yanchor\": \"bottom\", \"yref\": \"paper\"}, {\"font\": {\"size\": 16}, \"showarrow\": false, \"text\": \"<b>Explore: Agile Scrum XP Lean Kanban</b><br>(JSD: 0.07)\", \"x\": 0.5, \"xanchor\": \"center\", \"xref\": \"paper\", \"y\": 0.36718750000000006, \"yanchor\": \"bottom\", \"yref\": \"paper\"}, {\"font\": {\"size\": 16}, \"showarrow\": false, \"text\": \"<b>Pets</b><br>(JSD: 0.07)\", \"x\": 0.708, \"xanchor\": \"center\", \"xref\": \"paper\", \"y\": 0.36718750000000006, \"yanchor\": \"bottom\", \"yref\": \"paper\"}, {\"font\": {\"size\": 16}, \"showarrow\": false, \"text\": \"<b>First Time Real Estate Investing</b><br>(JSD: 0.07)\", \"x\": 0.9159999999999999, \"xanchor\": \"center\", \"xref\": \"paper\", \"y\": 0.36718750000000006, \"yanchor\": \"bottom\", \"yref\": \"paper\"}, {\"font\": {\"size\": 16}, \"showarrow\": false, \"text\": \"<b>Small Business Online Marketing</b><br>(JSD: 0.07)\", \"x\": 0.08399999999999999, \"xanchor\": \"center\", \"xref\": \"paper\", \"y\": 0.34187500000000004, \"yanchor\": \"bottom\", \"yref\": \"paper\"}, {\"font\": {\"size\": 16}, \"showarrow\": false, \"text\": \"<b>Business Development</b><br>(JSD: 0.07)\", \"x\": 0.292, \"xanchor\": \"center\", \"xref\": \"paper\", \"y\": 0.34187500000000004, \"yanchor\": \"bottom\", \"yref\": \"paper\"}, {\"font\": {\"size\": 16}, \"showarrow\": false, \"text\": \"<b>Motorcycle Touring</b><br>(JSD: 0.07)\", \"x\": 0.5, \"xanchor\": \"center\", \"xref\": \"paper\", \"y\": 0.34187500000000004, \"yanchor\": \"bottom\", \"yref\": \"paper\"}, {\"font\": {\"size\": 16}, \"showarrow\": false, \"text\": \"<b>Vue.js</b><br>(JSD: 0.07)\", \"x\": 0.708, \"xanchor\": \"center\", \"xref\": \"paper\", \"y\": 0.34187500000000004, \"yanchor\": \"bottom\", \"yref\": \"paper\"}, {\"font\": {\"size\": 16}, \"showarrow\": false, \"text\": \"<b>Windows Azure Platform</b><br>(JSD: 0.07)\", \"x\": 0.9159999999999999, \"xanchor\": \"center\", \"xref\": \"paper\", \"y\": 0.34187500000000004, \"yanchor\": \"bottom\", \"yref\": \"paper\"}, {\"font\": {\"size\": 16}, \"showarrow\": false, \"text\": \"<b>Real Estate Investing Education</b><br>(JSD: 0.07)\", \"x\": 0.08399999999999999, \"xanchor\": \"center\", \"xref\": \"paper\", \"y\": 0.3165625000000001, \"yanchor\": \"bottom\", \"yref\": \"paper\"}, {\"font\": {\"size\": 16}, \"showarrow\": false, \"text\": \"<b>Microsoft Azure</b><br>(JSD: 0.07)\", \"x\": 0.292, \"xanchor\": \"center\", \"xref\": \"paper\", \"y\": 0.3165625000000001, \"yanchor\": \"bottom\", \"yref\": \"paper\"}, {\"font\": {\"size\": 16}, \"showarrow\": false, \"text\": \"<b>NoSQL</b><br>(JSD: 0.07)\", \"x\": 0.5, \"xanchor\": \"center\", \"xref\": \"paper\", \"y\": 0.3165625000000001, \"yanchor\": \"bottom\", \"yref\": \"paper\"}, {\"font\": {\"size\": 16}, \"showarrow\": false, \"text\": \"<b>DevOps</b><br>(JSD: 0.07)\", \"x\": 0.708, \"xanchor\": \"center\", \"xref\": \"paper\", \"y\": 0.3165625000000001, \"yanchor\": \"bottom\", \"yref\": \"paper\"}, {\"font\": {\"size\": 16}, \"showarrow\": false, \"text\": \"<b>JavaScript Libraries</b><br>(JSD: 0.07)\", \"x\": 0.9159999999999999, \"xanchor\": \"center\", \"xref\": \"paper\", \"y\": 0.3165625000000001, \"yanchor\": \"bottom\", \"yref\": \"paper\"}, {\"font\": {\"size\": 16}, \"showarrow\": false, \"text\": \"<b>Lean Project Management</b><br>(JSD: 0.07)\", \"x\": 0.08399999999999999, \"xanchor\": \"center\", \"xref\": \"paper\", \"y\": 0.29125, \"yanchor\": \"bottom\", \"yref\": \"paper\"}, {\"font\": {\"size\": 16}, \"showarrow\": false, \"text\": \"<b>Backpacking and Camping</b><br>(JSD: 0.07)\", \"x\": 0.292, \"xanchor\": \"center\", \"xref\": \"paper\", \"y\": 0.29125, \"yanchor\": \"bottom\", \"yref\": \"paper\"}, {\"font\": {\"size\": 16}, \"showarrow\": false, \"text\": \"<b>Photo Walks</b><br>(JSD: 0.07)\", \"x\": 0.5, \"xanchor\": \"center\", \"xref\": \"paper\", \"y\": 0.29125, \"yanchor\": \"bottom\", \"yref\": \"paper\"}, {\"font\": {\"size\": 16}, \"showarrow\": false, \"text\": \"<b>Angel Investors</b><br>(JSD: 0.07)\", \"x\": 0.708, \"xanchor\": \"center\", \"xref\": \"paper\", \"y\": 0.29125, \"yanchor\": \"bottom\", \"yref\": \"paper\"}, {\"font\": {\"size\": 16}, \"showarrow\": false, \"text\": \"<b>SEO (Search Engine Optimization)</b><br>(JSD: 0.07)\", \"x\": 0.9159999999999999, \"xanchor\": \"center\", \"xref\": \"paper\", \"y\": 0.29125, \"yanchor\": \"bottom\", \"yref\": \"paper\"}, {\"font\": {\"size\": 16}, \"showarrow\": false, \"text\": \"<b>30s and 40s</b><br>(JSD: 0.06)\", \"x\": 0.08399999999999999, \"xanchor\": \"center\", \"xref\": \"paper\", \"y\": 0.26593750000000005, \"yanchor\": \"bottom\", \"yref\": \"paper\"}, {\"font\": {\"size\": 16}, \"showarrow\": false, \"text\": \"<b>Microsoft</b><br>(JSD: 0.06)\", \"x\": 0.292, \"xanchor\": \"center\", \"xref\": \"paper\", \"y\": 0.26593750000000005, \"yanchor\": \"bottom\", \"yref\": \"paper\"}, {\"font\": {\"size\": 16}, \"showarrow\": false, \"text\": \"<b>PHP</b><br>(JSD: 0.06)\", \"x\": 0.5, \"xanchor\": \"center\", \"xref\": \"paper\", \"y\": 0.26593750000000005, \"yanchor\": \"bottom\", \"yref\": \"paper\"}, {\"font\": {\"size\": 16}, \"showarrow\": false, \"text\": \"<b>C#</b><br>(JSD: 0.06)\", \"x\": 0.708, \"xanchor\": \"center\", \"xref\": \"paper\", \"y\": 0.26593750000000005, \"yanchor\": \"bottom\", \"yref\": \"paper\"}, {\"font\": {\"size\": 16}, \"showarrow\": false, \"text\": \"<b>UX Design</b><br>(JSD: 0.06)\", \"x\": 0.9159999999999999, \"xanchor\": \"center\", \"xref\": \"paper\", \"y\": 0.26593750000000005, \"yanchor\": \"bottom\", \"yref\": \"paper\"}, {\"font\": {\"size\": 16}, \"showarrow\": false, \"text\": \"<b>Mobile User Experience</b><br>(JSD: 0.06)\", \"x\": 0.08399999999999999, \"xanchor\": \"center\", \"xref\": \"paper\", \"y\": 0.24062500000000003, \"yanchor\": \"bottom\", \"yref\": \"paper\"}, {\"font\": {\"size\": 16}, \"showarrow\": false, \"text\": \"<b>Java</b><br>(JSD: 0.06)\", \"x\": 0.292, \"xanchor\": \"center\", \"xref\": \"paper\", \"y\": 0.24062500000000003, \"yanchor\": \"bottom\", \"yref\": \"paper\"}, {\"font\": {\"size\": 16}, \"showarrow\": false, \"text\": \"<b>Women in Technology</b><br>(JSD: 0.06)\", \"x\": 0.5, \"xanchor\": \"center\", \"xref\": \"paper\", \"y\": 0.24062500000000003, \"yanchor\": \"bottom\", \"yref\": \"paper\"}, {\"font\": {\"size\": 16}, \"showarrow\": false, \"text\": \"<b>SQL</b><br>(JSD: 0.06)\", \"x\": 0.708, \"xanchor\": \"center\", \"xref\": \"paper\", \"y\": 0.24062500000000003, \"yanchor\": \"bottom\", \"yref\": \"paper\"}, {\"font\": {\"size\": 16}, \"showarrow\": false, \"text\": \"<b>Motorcycle Riding</b><br>(JSD: 0.06)\", \"x\": 0.9159999999999999, \"xanchor\": \"center\", \"xref\": \"paper\", \"y\": 0.24062500000000003, \"yanchor\": \"bottom\", \"yref\": \"paper\"}, {\"font\": {\"size\": 16}, \"showarrow\": false, \"text\": \"<b>Smart Property</b><br>(JSD: 0.06)\", \"x\": 0.08399999999999999, \"xanchor\": \"center\", \"xref\": \"paper\", \"y\": 0.21531250000000002, \"yanchor\": \"bottom\", \"yref\": \"paper\"}, {\"font\": {\"size\": 16}, \"showarrow\": false, \"text\": \"<b>Bikers that like to ride.</b><br>(JSD: 0.06)\", \"x\": 0.292, \"xanchor\": \"center\", \"xref\": \"paper\", \"y\": 0.21531250000000002, \"yanchor\": \"bottom\", \"yref\": \"paper\"}, {\"font\": {\"size\": 16}, \"showarrow\": false, \"text\": \"<b>Business Referral Networking</b><br>(JSD: 0.06)\", \"x\": 0.5, \"xanchor\": \"center\", \"xref\": \"paper\", \"y\": 0.21531250000000002, \"yanchor\": \"bottom\", \"yref\": \"paper\"}, {\"font\": {\"size\": 16}, \"showarrow\": false, \"text\": \"<b>Cruiser Bikes</b><br>(JSD: 0.06)\", \"x\": 0.708, \"xanchor\": \"center\", \"xref\": \"paper\", \"y\": 0.21531250000000002, \"yanchor\": \"bottom\", \"yref\": \"paper\"}, {\"font\": {\"size\": 16}, \"showarrow\": false, \"text\": \"<b>Real Estate Agent</b><br>(JSD: 0.06)\", \"x\": 0.9159999999999999, \"xanchor\": \"center\", \"xref\": \"paper\", \"y\": 0.21531250000000002, \"yanchor\": \"bottom\", \"yref\": \"paper\"}, {\"font\": {\"size\": 16}, \"showarrow\": false, \"text\": \"<b>Software Security</b><br>(JSD: 0.06)\", \"x\": 0.08399999999999999, \"xanchor\": \"center\", \"xref\": \"paper\", \"y\": 0.19, \"yanchor\": \"bottom\", \"yref\": \"paper\"}, {\"font\": {\"size\": 16}, \"showarrow\": false, \"text\": \"<b>Microsoft Technology</b><br>(JSD: 0.06)\", \"x\": 0.292, \"xanchor\": \"center\", \"xref\": \"paper\", \"y\": 0.19, \"yanchor\": \"bottom\", \"yref\": \"paper\"}, {\"font\": {\"size\": 16}, \"showarrow\": false, \"text\": \"<b>Women Small Business Owners</b><br>(JSD: 0.06)\", \"x\": 0.5, \"xanchor\": \"center\", \"xref\": \"paper\", \"y\": 0.19, \"yanchor\": \"bottom\", \"yref\": \"paper\"}, {\"font\": {\"size\": 16}, \"showarrow\": false, \"text\": \"<b>Real Estate Investing Meetings</b><br>(JSD: 0.06)\", \"x\": 0.708, \"xanchor\": \"center\", \"xref\": \"paper\", \"y\": 0.19, \"yanchor\": \"bottom\", \"yref\": \"paper\"}, {\"font\": {\"size\": 16}, \"showarrow\": false, \"text\": \"<b>Real Estate Networking</b><br>(JSD: 0.06)\", \"x\": 0.9159999999999999, \"xanchor\": \"center\", \"xref\": \"paper\", \"y\": 0.19, \"yanchor\": \"bottom\", \"yref\": \"paper\"}, {\"font\": {\"size\": 16}, \"showarrow\": false, \"text\": \"<b>Applied Statistics</b><br>(JSD: 0.06)\", \"x\": 0.08399999999999999, \"xanchor\": \"center\", \"xref\": \"paper\", \"y\": 0.16468750000000001, \"yanchor\": \"bottom\", \"yref\": \"paper\"}, {\"font\": {\"size\": 16}, \"showarrow\": false, \"text\": \"<b>Functional Programming in Python</b><br>(JSD: 0.06)\", \"x\": 0.292, \"xanchor\": \"center\", \"xref\": \"paper\", \"y\": 0.16468750000000001, \"yanchor\": \"bottom\", \"yref\": \"paper\"}, {\"font\": {\"size\": 16}, \"showarrow\": false, \"text\": \"<b>Learn Programming</b><br>(JSD: 0.06)\", \"x\": 0.5, \"xanchor\": \"center\", \"xref\": \"paper\", \"y\": 0.16468750000000001, \"yanchor\": \"bottom\", \"yref\": \"paper\"}, {\"font\": {\"size\": 16}, \"showarrow\": false, \"text\": \"<b>Open Source Python</b><br>(JSD: 0.06)\", \"x\": 0.708, \"xanchor\": \"center\", \"xref\": \"paper\", \"y\": 0.16468750000000001, \"yanchor\": \"bottom\", \"yref\": \"paper\"}, {\"font\": {\"size\": 16}, \"showarrow\": false, \"text\": \"<b>Black Entrepreneurs</b><br>(JSD: 0.06)\", \"x\": 0.9159999999999999, \"xanchor\": \"center\", \"xref\": \"paper\", \"y\": 0.16468750000000001, \"yanchor\": \"bottom\", \"yref\": \"paper\"}, {\"font\": {\"size\": 16}, \"showarrow\": false, \"text\": \"<b>Service Design</b><br>(JSD: 0.06)\", \"x\": 0.08399999999999999, \"xanchor\": \"center\", \"xref\": \"paper\", \"y\": 0.139375, \"yanchor\": \"bottom\", \"yref\": \"paper\"}, {\"font\": {\"size\": 16}, \"showarrow\": false, \"text\": \"<b>Real Estate Foreclosures</b><br>(JSD: 0.06)\", \"x\": 0.292, \"xanchor\": \"center\", \"xref\": \"paper\", \"y\": 0.139375, \"yanchor\": \"bottom\", \"yref\": \"paper\"}, {\"font\": {\"size\": 16}, \"showarrow\": false, \"text\": \"<b>Information Technology</b><br>(JSD: 0.06)\", \"x\": 0.5, \"xanchor\": \"center\", \"xref\": \"paper\", \"y\": 0.139375, \"yanchor\": \"bottom\", \"yref\": \"paper\"}, {\"font\": {\"size\": 16}, \"showarrow\": false, \"text\": \"<b>Wholesaling Real Estate</b><br>(JSD: 0.06)\", \"x\": 0.708, \"xanchor\": \"center\", \"xref\": \"paper\", \"y\": 0.139375, \"yanchor\": \"bottom\", \"yref\": \"paper\"}, {\"font\": {\"size\": 16}, \"showarrow\": false, \"text\": \"<b>Learning to Code</b><br>(JSD: 0.06)\", \"x\": 0.9159999999999999, \"xanchor\": \"center\", \"xref\": \"paper\", \"y\": 0.139375, \"yanchor\": \"bottom\", \"yref\": \"paper\"}, {\"font\": {\"size\": 16}, \"showarrow\": false, \"text\": \"<b>E-Commerce</b><br>(JSD: 0.06)\", \"x\": 0.08399999999999999, \"xanchor\": \"center\", \"xref\": \"paper\", \"y\": 0.11406250000000001, \"yanchor\": \"bottom\", \"yref\": \"paper\"}, {\"font\": {\"size\": 16}, \"showarrow\": false, \"text\": \"<b>Paris</b><br>(JSD: 0.06)\", \"x\": 0.292, \"xanchor\": \"center\", \"xref\": \"paper\", \"y\": 0.11406250000000001, \"yanchor\": \"bottom\", \"yref\": \"paper\"}, {\"font\": {\"size\": 16}, \"showarrow\": false, \"text\": \"<b>Building an Online Business</b><br>(JSD: 0.06)\", \"x\": 0.5, \"xanchor\": \"center\", \"xref\": \"paper\", \"y\": 0.11406250000000001, \"yanchor\": \"bottom\", \"yref\": \"paper\"}, {\"font\": {\"size\": 16}, \"showarrow\": false, \"text\": \"<b>Clubbing</b><br>(JSD: 0.06)\", \"x\": 0.708, \"xanchor\": \"center\", \"xref\": \"paper\", \"y\": 0.11406250000000001, \"yanchor\": \"bottom\", \"yref\": \"paper\"}, {\"font\": {\"size\": 16}, \"showarrow\": false, \"text\": \"<b>Adventure Hiking</b><br>(JSD: 0.06)\", \"x\": 0.9159999999999999, \"xanchor\": \"center\", \"xref\": \"paper\", \"y\": 0.11406250000000001, \"yanchor\": \"bottom\", \"yref\": \"paper\"}, {\"font\": {\"size\": 16}, \"showarrow\": false, \"text\": \"<b>.NET</b><br>(JSD: 0.06)\", \"x\": 0.08399999999999999, \"xanchor\": \"center\", \"xref\": \"paper\", \"y\": 0.08875000000000001, \"yanchor\": \"bottom\", \"yref\": \"paper\"}, {\"font\": {\"size\": 16}, \"showarrow\": false, \"text\": \"<b>Machine Learning & Artificial Intelligence</b><br>(JSD: 0.06)\", \"x\": 0.292, \"xanchor\": \"center\", \"xref\": \"paper\", \"y\": 0.08875000000000001, \"yanchor\": \"bottom\", \"yref\": \"paper\"}, {\"font\": {\"size\": 16}, \"showarrow\": false, \"text\": \"<b>Azure</b><br>(JSD: 0.06)\", \"x\": 0.5, \"xanchor\": \"center\", \"xref\": \"paper\", \"y\": 0.08875000000000001, \"yanchor\": \"bottom\", \"yref\": \"paper\"}, {\"font\": {\"size\": 16}, \"showarrow\": false, \"text\": \"<b>Animals</b><br>(JSD: 0.06)\", \"x\": 0.708, \"xanchor\": \"center\", \"xref\": \"paper\", \"y\": 0.08875000000000001, \"yanchor\": \"bottom\", \"yref\": \"paper\"}, {\"font\": {\"size\": 16}, \"showarrow\": false, \"text\": \"<b>User Interface Design</b><br>(JSD: 0.06)\", \"x\": 0.9159999999999999, \"xanchor\": \"center\", \"xref\": \"paper\", \"y\": 0.08875000000000001, \"yanchor\": \"bottom\", \"yref\": \"paper\"}, {\"font\": {\"size\": 16}, \"showarrow\": false, \"text\": \"<b>Singles 20's  & 30's</b><br>(JSD: 0.06)\", \"x\": 0.08399999999999999, \"xanchor\": \"center\", \"xref\": \"paper\", \"y\": 0.06343750000000001, \"yanchor\": \"bottom\", \"yref\": \"paper\"}, {\"font\": {\"size\": 16}, \"showarrow\": false, \"text\": \"<b>Networking for Job Seekers</b><br>(JSD: 0.06)\", \"x\": 0.292, \"xanchor\": \"center\", \"xref\": \"paper\", \"y\": 0.06343750000000001, \"yanchor\": \"bottom\", \"yref\": \"paper\"}, {\"font\": {\"size\": 16}, \"showarrow\": false, \"text\": \"<b>Cybersecurity</b><br>(JSD: 0.06)\", \"x\": 0.5, \"xanchor\": \"center\", \"xref\": \"paper\", \"y\": 0.06343750000000001, \"yanchor\": \"bottom\", \"yref\": \"paper\"}, {\"font\": {\"size\": 16}, \"showarrow\": false, \"text\": \"<b>JQuery</b><br>(JSD: 0.05)\", \"x\": 0.708, \"xanchor\": \"center\", \"xref\": \"paper\", \"y\": 0.06343750000000001, \"yanchor\": \"bottom\", \"yref\": \"paper\"}, {\"font\": {\"size\": 16}, \"showarrow\": false, \"text\": \"<b>Landlords</b><br>(JSD: 0.05)\", \"x\": 0.9159999999999999, \"xanchor\": \"center\", \"xref\": \"paper\", \"y\": 0.06343750000000001, \"yanchor\": \"bottom\", \"yref\": \"paper\"}, {\"font\": {\"size\": 16}, \"showarrow\": false, \"text\": \"<b>System Administration</b><br>(JSD: 0.05)\", \"x\": 0.08399999999999999, \"xanchor\": \"center\", \"xref\": \"paper\", \"y\": 0.038125, \"yanchor\": \"bottom\", \"yref\": \"paper\"}, {\"font\": {\"size\": 16}, \"showarrow\": false, \"text\": \"<b>Ruby On Rails</b><br>(JSD: 0.05)\", \"x\": 0.292, \"xanchor\": \"center\", \"xref\": \"paper\", \"y\": 0.038125, \"yanchor\": \"bottom\", \"yref\": \"paper\"}, {\"font\": {\"size\": 16}, \"showarrow\": false, \"text\": \"<b>UI Design</b><br>(JSD: 0.05)\", \"x\": 0.5, \"xanchor\": \"center\", \"xref\": \"paper\", \"y\": 0.038125, \"yanchor\": \"bottom\", \"yref\": \"paper\"}, {\"font\": {\"size\": 16}, \"showarrow\": false, \"text\": \"<b>Network Security</b><br>(JSD: 0.05)\", \"x\": 0.708, \"xanchor\": \"center\", \"xref\": \"paper\", \"y\": 0.038125, \"yanchor\": \"bottom\", \"yref\": \"paper\"}, {\"font\": {\"size\": 16}, \"showarrow\": false, \"text\": \"<b>JavaScript</b><br>(JSD: 0.05)\", \"x\": 0.9159999999999999, \"xanchor\": \"center\", \"xref\": \"paper\", \"y\": 0.038125, \"yanchor\": \"bottom\", \"yref\": \"paper\"}, {\"font\": {\"size\": 16}, \"showarrow\": false, \"text\": \"<b>Black Women</b><br>(JSD: 0.05)\", \"x\": 0.08399999999999999, \"xanchor\": \"center\", \"xref\": \"paper\", \"y\": 0.0128125, \"yanchor\": \"bottom\", \"yref\": \"paper\"}, {\"font\": {\"size\": 16}, \"showarrow\": false, \"text\": \"<b>Venture Capital</b><br>(JSD: 0.05)\", \"x\": 0.292, \"xanchor\": \"center\", \"xref\": \"paper\", \"y\": 0.0128125, \"yanchor\": \"bottom\", \"yref\": \"paper\"}, {\"font\": {\"size\": 16}, \"showarrow\": false, \"text\": \"<b>Beginner Real Estate Investing</b><br>(JSD: 0.05)\", \"x\": 0.5, \"xanchor\": \"center\", \"xref\": \"paper\", \"y\": 0.0128125, \"yanchor\": \"bottom\", \"yref\": \"paper\"}, {\"font\": {\"size\": 16}, \"showarrow\": false, \"text\": \"<b>Real Estate Investment Education</b><br>(JSD: 0.05)\", \"x\": 0.708, \"xanchor\": \"center\", \"xref\": \"paper\", \"y\": 0.0128125, \"yanchor\": \"bottom\", \"yref\": \"paper\"}, {\"font\": {\"size\": 16}, \"showarrow\": false, \"text\": \"<b>Programming Languages</b><br>(JSD: 0.05)\", \"x\": 0.9159999999999999, \"xanchor\": \"center\", \"xref\": \"paper\", \"y\": 0.0128125, \"yanchor\": \"bottom\", \"yref\": \"paper\"}], \"xaxis\": {\"anchor\": \"y\", \"domain\": [0.0, 0.16799999999999998]}, \"yaxis\": {\"anchor\": \"x\", \"domain\": [0.9871875000000001, 1.0]}, \"xaxis2\": {\"anchor\": \"free\", \"domain\": [0.208, 0.376], \"position\": 0.9871875000000001}, \"xaxis3\": {\"anchor\": \"free\", \"domain\": [0.416, 0.584], \"position\": 0.9871875000000001}, \"xaxis4\": {\"anchor\": \"free\", \"domain\": [0.624, 0.792], \"position\": 0.9871875000000001}, \"xaxis5\": {\"anchor\": \"free\", \"domain\": [0.832, 1.0], \"position\": 0.9871875000000001}, \"xaxis6\": {\"anchor\": \"y2\", \"domain\": [0.0, 0.16799999999999998]}, \"yaxis2\": {\"anchor\": \"x6\", \"domain\": [0.9618750000000001, 0.9746875000000002]}, \"xaxis7\": {\"anchor\": \"free\", \"domain\": [0.208, 0.376], \"position\": 0.9618750000000001}, \"xaxis8\": {\"anchor\": \"free\", \"domain\": [0.416, 0.584], \"position\": 0.9618750000000001}, \"xaxis9\": {\"anchor\": \"free\", \"domain\": [0.624, 0.792], \"position\": 0.9618750000000001}, \"xaxis10\": {\"anchor\": \"free\", \"domain\": [0.832, 1.0], \"position\": 0.9618750000000001}, \"xaxis11\": {\"anchor\": \"y3\", \"domain\": [0.0, 0.16799999999999998]}, \"yaxis3\": {\"anchor\": \"x11\", \"domain\": [0.9365625000000002, 0.9493750000000002]}, \"xaxis12\": {\"anchor\": \"free\", \"domain\": [0.208, 0.376], \"position\": 0.9365625000000002}, \"xaxis13\": {\"anchor\": \"free\", \"domain\": [0.416, 0.584], \"position\": 0.9365625000000002}, \"xaxis14\": {\"anchor\": \"free\", \"domain\": [0.624, 0.792], \"position\": 0.9365625000000002}, \"xaxis15\": {\"anchor\": \"free\", \"domain\": [0.832, 1.0], \"position\": 0.9365625000000002}, \"xaxis16\": {\"anchor\": \"y4\", \"domain\": [0.0, 0.16799999999999998]}, \"yaxis4\": {\"anchor\": \"x16\", \"domain\": [0.9112500000000001, 0.9240625000000001]}, \"xaxis17\": {\"anchor\": \"free\", \"domain\": [0.208, 0.376], \"position\": 0.9112500000000001}, \"xaxis18\": {\"anchor\": \"free\", \"domain\": [0.416, 0.584], \"position\": 0.9112500000000001}, \"xaxis19\": {\"anchor\": \"free\", \"domain\": [0.624, 0.792], \"position\": 0.9112500000000001}, \"xaxis20\": {\"anchor\": \"free\", \"domain\": [0.832, 1.0], \"position\": 0.9112500000000001}, \"xaxis21\": {\"anchor\": \"y5\", \"domain\": [0.0, 0.16799999999999998]}, \"yaxis5\": {\"anchor\": \"x21\", \"domain\": [0.8859375, 0.89875]}, \"xaxis22\": {\"anchor\": \"free\", \"domain\": [0.208, 0.376], \"position\": 0.8859375}, \"xaxis23\": {\"anchor\": \"free\", \"domain\": [0.416, 0.584], \"position\": 0.8859375}, \"xaxis24\": {\"anchor\": \"free\", \"domain\": [0.624, 0.792], \"position\": 0.8859375}, \"xaxis25\": {\"anchor\": \"free\", \"domain\": [0.832, 1.0], \"position\": 0.8859375}, \"xaxis26\": {\"anchor\": \"y6\", \"domain\": [0.0, 0.16799999999999998]}, \"yaxis6\": {\"anchor\": \"x26\", \"domain\": [0.8606250000000002, 0.8734375000000002]}, \"xaxis27\": {\"anchor\": \"free\", \"domain\": [0.208, 0.376], \"position\": 0.8606250000000002}, \"xaxis28\": {\"anchor\": \"free\", \"domain\": [0.416, 0.584], \"position\": 0.8606250000000002}, \"xaxis29\": {\"anchor\": \"free\", \"domain\": [0.624, 0.792], \"position\": 0.8606250000000002}, \"xaxis30\": {\"anchor\": \"free\", \"domain\": [0.832, 1.0], \"position\": 0.8606250000000002}, \"xaxis31\": {\"anchor\": \"y7\", \"domain\": [0.0, 0.16799999999999998]}, \"yaxis7\": {\"anchor\": \"x31\", \"domain\": [0.8353125000000001, 0.8481250000000001]}, \"xaxis32\": {\"anchor\": \"free\", \"domain\": [0.208, 0.376], \"position\": 0.8353125000000001}, \"xaxis33\": {\"anchor\": \"free\", \"domain\": [0.416, 0.584], \"position\": 0.8353125000000001}, \"xaxis34\": {\"anchor\": \"free\", \"domain\": [0.624, 0.792], \"position\": 0.8353125000000001}, \"xaxis35\": {\"anchor\": \"free\", \"domain\": [0.832, 1.0], \"position\": 0.8353125000000001}, \"xaxis36\": {\"anchor\": \"y8\", \"domain\": [0.0, 0.16799999999999998]}, \"yaxis8\": {\"anchor\": \"x36\", \"domain\": [0.81, 0.8228125000000001]}, \"xaxis37\": {\"anchor\": \"free\", \"domain\": [0.208, 0.376], \"position\": 0.81}, \"xaxis38\": {\"anchor\": \"free\", \"domain\": [0.416, 0.584], \"position\": 0.81}, \"xaxis39\": {\"anchor\": \"free\", \"domain\": [0.624, 0.792], \"position\": 0.81}, \"xaxis40\": {\"anchor\": \"free\", \"domain\": [0.832, 1.0], \"position\": 0.81}, \"xaxis41\": {\"anchor\": \"y9\", \"domain\": [0.0, 0.16799999999999998]}, \"yaxis9\": {\"anchor\": \"x41\", \"domain\": [0.7846875000000001, 0.7975000000000001]}, \"xaxis42\": {\"anchor\": \"free\", \"domain\": [0.208, 0.376], \"position\": 0.7846875000000001}, \"xaxis43\": {\"anchor\": \"free\", \"domain\": [0.416, 0.584], \"position\": 0.7846875000000001}, \"xaxis44\": {\"anchor\": \"free\", \"domain\": [0.624, 0.792], \"position\": 0.7846875000000001}, \"xaxis45\": {\"anchor\": \"free\", \"domain\": [0.832, 1.0], \"position\": 0.7846875000000001}, \"xaxis46\": {\"anchor\": \"y10\", \"domain\": [0.0, 0.16799999999999998]}, \"yaxis10\": {\"anchor\": \"x46\", \"domain\": [0.7593750000000001, 0.7721875000000001]}, \"xaxis47\": {\"anchor\": \"free\", \"domain\": [0.208, 0.376], \"position\": 0.7593750000000001}, \"xaxis48\": {\"anchor\": \"free\", \"domain\": [0.416, 0.584], \"position\": 0.7593750000000001}, \"xaxis49\": {\"anchor\": \"free\", \"domain\": [0.624, 0.792], \"position\": 0.7593750000000001}, \"xaxis50\": {\"anchor\": \"free\", \"domain\": [0.832, 1.0], \"position\": 0.7593750000000001}, \"xaxis51\": {\"anchor\": \"y11\", \"domain\": [0.0, 0.16799999999999998]}, \"yaxis11\": {\"anchor\": \"x51\", \"domain\": [0.7340625000000001, 0.7468750000000001]}, \"xaxis52\": {\"anchor\": \"free\", \"domain\": [0.208, 0.376], \"position\": 0.7340625000000001}, \"xaxis53\": {\"anchor\": \"free\", \"domain\": [0.416, 0.584], \"position\": 0.7340625000000001}, \"xaxis54\": {\"anchor\": \"free\", \"domain\": [0.624, 0.792], \"position\": 0.7340625000000001}, \"xaxis55\": {\"anchor\": \"free\", \"domain\": [0.832, 1.0], \"position\": 0.7340625000000001}, \"xaxis56\": {\"anchor\": \"y12\", \"domain\": [0.0, 0.16799999999999998]}, \"yaxis12\": {\"anchor\": \"x56\", \"domain\": [0.7087500000000001, 0.7215625000000001]}, \"xaxis57\": {\"anchor\": \"free\", \"domain\": [0.208, 0.376], \"position\": 0.7087500000000001}, \"xaxis58\": {\"anchor\": \"free\", \"domain\": [0.416, 0.584], \"position\": 0.7087500000000001}, \"xaxis59\": {\"anchor\": \"free\", \"domain\": [0.624, 0.792], \"position\": 0.7087500000000001}, \"xaxis60\": {\"anchor\": \"free\", \"domain\": [0.832, 1.0], \"position\": 0.7087500000000001}, \"xaxis61\": {\"anchor\": \"y13\", \"domain\": [0.0, 0.16799999999999998]}, \"yaxis13\": {\"anchor\": \"x61\", \"domain\": [0.6834375000000001, 0.6962500000000001]}, \"xaxis62\": {\"anchor\": \"free\", \"domain\": [0.208, 0.376], \"position\": 0.6834375000000001}, \"xaxis63\": {\"anchor\": \"free\", \"domain\": [0.416, 0.584], \"position\": 0.6834375000000001}, \"xaxis64\": {\"anchor\": \"free\", \"domain\": [0.624, 0.792], \"position\": 0.6834375000000001}, \"xaxis65\": {\"anchor\": \"free\", \"domain\": [0.832, 1.0], \"position\": 0.6834375000000001}, \"xaxis66\": {\"anchor\": \"y14\", \"domain\": [0.0, 0.16799999999999998]}, \"yaxis14\": {\"anchor\": \"x66\", \"domain\": [0.6581250000000001, 0.6709375000000001]}, \"xaxis67\": {\"anchor\": \"free\", \"domain\": [0.208, 0.376], \"position\": 0.6581250000000001}, \"xaxis68\": {\"anchor\": \"free\", \"domain\": [0.416, 0.584], \"position\": 0.6581250000000001}, \"xaxis69\": {\"anchor\": \"free\", \"domain\": [0.624, 0.792], \"position\": 0.6581250000000001}, \"xaxis70\": {\"anchor\": \"free\", \"domain\": [0.832, 1.0], \"position\": 0.6581250000000001}, \"xaxis71\": {\"anchor\": \"y15\", \"domain\": [0.0, 0.16799999999999998]}, \"yaxis15\": {\"anchor\": \"x71\", \"domain\": [0.6328125, 0.645625]}, \"xaxis72\": {\"anchor\": \"free\", \"domain\": [0.208, 0.376], \"position\": 0.6328125}, \"xaxis73\": {\"anchor\": \"free\", \"domain\": [0.416, 0.584], \"position\": 0.6328125}, \"xaxis74\": {\"anchor\": \"free\", \"domain\": [0.624, 0.792], \"position\": 0.6328125}, \"xaxis75\": {\"anchor\": \"free\", \"domain\": [0.832, 1.0], \"position\": 0.6328125}, \"xaxis76\": {\"anchor\": \"y16\", \"domain\": [0.0, 0.16799999999999998]}, \"yaxis16\": {\"anchor\": \"x76\", \"domain\": [0.6075000000000002, 0.6203125000000002]}, \"xaxis77\": {\"anchor\": \"free\", \"domain\": [0.208, 0.376], \"position\": 0.6075000000000002}, \"xaxis78\": {\"anchor\": \"free\", \"domain\": [0.416, 0.584], \"position\": 0.6075000000000002}, \"xaxis79\": {\"anchor\": \"free\", \"domain\": [0.624, 0.792], \"position\": 0.6075000000000002}, \"xaxis80\": {\"anchor\": \"free\", \"domain\": [0.832, 1.0], \"position\": 0.6075000000000002}, \"xaxis81\": {\"anchor\": \"y17\", \"domain\": [0.0, 0.16799999999999998]}, \"yaxis17\": {\"anchor\": \"x81\", \"domain\": [0.5821875000000001, 0.5950000000000001]}, \"xaxis82\": {\"anchor\": \"free\", \"domain\": [0.208, 0.376], \"position\": 0.5821875000000001}, \"xaxis83\": {\"anchor\": \"free\", \"domain\": [0.416, 0.584], \"position\": 0.5821875000000001}, \"xaxis84\": {\"anchor\": \"free\", \"domain\": [0.624, 0.792], \"position\": 0.5821875000000001}, \"xaxis85\": {\"anchor\": \"free\", \"domain\": [0.832, 1.0], \"position\": 0.5821875000000001}, \"xaxis86\": {\"anchor\": \"y18\", \"domain\": [0.0, 0.16799999999999998]}, \"yaxis18\": {\"anchor\": \"x86\", \"domain\": [0.556875, 0.5696875]}, \"xaxis87\": {\"anchor\": \"free\", \"domain\": [0.208, 0.376], \"position\": 0.556875}, \"xaxis88\": {\"anchor\": \"free\", \"domain\": [0.416, 0.584], \"position\": 0.556875}, \"xaxis89\": {\"anchor\": \"free\", \"domain\": [0.624, 0.792], \"position\": 0.556875}, \"xaxis90\": {\"anchor\": \"free\", \"domain\": [0.832, 1.0], \"position\": 0.556875}, \"xaxis91\": {\"anchor\": \"y19\", \"domain\": [0.0, 0.16799999999999998]}, \"yaxis19\": {\"anchor\": \"x91\", \"domain\": [0.5315625, 0.544375]}, \"xaxis92\": {\"anchor\": \"free\", \"domain\": [0.208, 0.376], \"position\": 0.5315625}, \"xaxis93\": {\"anchor\": \"free\", \"domain\": [0.416, 0.584], \"position\": 0.5315625}, \"xaxis94\": {\"anchor\": \"free\", \"domain\": [0.624, 0.792], \"position\": 0.5315625}, \"xaxis95\": {\"anchor\": \"free\", \"domain\": [0.832, 1.0], \"position\": 0.5315625}, \"xaxis96\": {\"anchor\": \"y20\", \"domain\": [0.0, 0.16799999999999998]}, \"yaxis20\": {\"anchor\": \"x96\", \"domain\": [0.5062500000000001, 0.5190625000000001]}, \"xaxis97\": {\"anchor\": \"free\", \"domain\": [0.208, 0.376], \"position\": 0.5062500000000001}, \"xaxis98\": {\"anchor\": \"free\", \"domain\": [0.416, 0.584], \"position\": 0.5062500000000001}, \"xaxis99\": {\"anchor\": \"free\", \"domain\": [0.624, 0.792], \"position\": 0.5062500000000001}, \"xaxis100\": {\"anchor\": \"free\", \"domain\": [0.832, 1.0], \"position\": 0.5062500000000001}, \"xaxis101\": {\"anchor\": \"y21\", \"domain\": [0.0, 0.16799999999999998]}, \"yaxis21\": {\"anchor\": \"x101\", \"domain\": [0.4809375000000001, 0.4937500000000001]}, \"xaxis102\": {\"anchor\": \"free\", \"domain\": [0.208, 0.376], \"position\": 0.4809375000000001}, \"xaxis103\": {\"anchor\": \"free\", \"domain\": [0.416, 0.584], \"position\": 0.4809375000000001}, \"xaxis104\": {\"anchor\": \"free\", \"domain\": [0.624, 0.792], \"position\": 0.4809375000000001}, \"xaxis105\": {\"anchor\": \"free\", \"domain\": [0.832, 1.0], \"position\": 0.4809375000000001}, \"xaxis106\": {\"anchor\": \"y22\", \"domain\": [0.0, 0.16799999999999998]}, \"yaxis22\": {\"anchor\": \"x106\", \"domain\": [0.45562500000000006, 0.46843750000000006]}, \"xaxis107\": {\"anchor\": \"free\", \"domain\": [0.208, 0.376], \"position\": 0.45562500000000006}, \"xaxis108\": {\"anchor\": \"free\", \"domain\": [0.416, 0.584], \"position\": 0.45562500000000006}, \"xaxis109\": {\"anchor\": \"free\", \"domain\": [0.624, 0.792], \"position\": 0.45562500000000006}, \"xaxis110\": {\"anchor\": \"free\", \"domain\": [0.832, 1.0], \"position\": 0.45562500000000006}, \"xaxis111\": {\"anchor\": \"y23\", \"domain\": [0.0, 0.16799999999999998]}, \"yaxis23\": {\"anchor\": \"x111\", \"domain\": [0.4303125000000001, 0.4431250000000001]}, \"xaxis112\": {\"anchor\": \"free\", \"domain\": [0.208, 0.376], \"position\": 0.4303125000000001}, \"xaxis113\": {\"anchor\": \"free\", \"domain\": [0.416, 0.584], \"position\": 0.4303125000000001}, \"xaxis114\": {\"anchor\": \"free\", \"domain\": [0.624, 0.792], \"position\": 0.4303125000000001}, \"xaxis115\": {\"anchor\": \"free\", \"domain\": [0.832, 1.0], \"position\": 0.4303125000000001}, \"xaxis116\": {\"anchor\": \"y24\", \"domain\": [0.0, 0.16799999999999998]}, \"yaxis24\": {\"anchor\": \"x116\", \"domain\": [0.405, 0.41781250000000003]}, \"xaxis117\": {\"anchor\": \"free\", \"domain\": [0.208, 0.376], \"position\": 0.405}, \"xaxis118\": {\"anchor\": \"free\", \"domain\": [0.416, 0.584], \"position\": 0.405}, \"xaxis119\": {\"anchor\": \"free\", \"domain\": [0.624, 0.792], \"position\": 0.405}, \"xaxis120\": {\"anchor\": \"free\", \"domain\": [0.832, 1.0], \"position\": 0.405}, \"xaxis121\": {\"anchor\": \"y25\", \"domain\": [0.0, 0.16799999999999998]}, \"yaxis25\": {\"anchor\": \"x121\", \"domain\": [0.37968750000000007, 0.39250000000000007]}, \"xaxis122\": {\"anchor\": \"free\", \"domain\": [0.208, 0.376], \"position\": 0.37968750000000007}, \"xaxis123\": {\"anchor\": \"free\", \"domain\": [0.416, 0.584], \"position\": 0.37968750000000007}, \"xaxis124\": {\"anchor\": \"free\", \"domain\": [0.624, 0.792], \"position\": 0.37968750000000007}, \"xaxis125\": {\"anchor\": \"free\", \"domain\": [0.832, 1.0], \"position\": 0.37968750000000007}, \"xaxis126\": {\"anchor\": \"y26\", \"domain\": [0.0, 0.16799999999999998]}, \"yaxis26\": {\"anchor\": \"x126\", \"domain\": [0.35437500000000005, 0.36718750000000006]}, \"xaxis127\": {\"anchor\": \"free\", \"domain\": [0.208, 0.376], \"position\": 0.35437500000000005}, \"xaxis128\": {\"anchor\": \"free\", \"domain\": [0.416, 0.584], \"position\": 0.35437500000000005}, \"xaxis129\": {\"anchor\": \"free\", \"domain\": [0.624, 0.792], \"position\": 0.35437500000000005}, \"xaxis130\": {\"anchor\": \"free\", \"domain\": [0.832, 1.0], \"position\": 0.35437500000000005}, \"xaxis131\": {\"anchor\": \"y27\", \"domain\": [0.0, 0.16799999999999998]}, \"yaxis27\": {\"anchor\": \"x131\", \"domain\": [0.32906250000000004, 0.34187500000000004]}, \"xaxis132\": {\"anchor\": \"free\", \"domain\": [0.208, 0.376], \"position\": 0.32906250000000004}, \"xaxis133\": {\"anchor\": \"free\", \"domain\": [0.416, 0.584], \"position\": 0.32906250000000004}, \"xaxis134\": {\"anchor\": \"free\", \"domain\": [0.624, 0.792], \"position\": 0.32906250000000004}, \"xaxis135\": {\"anchor\": \"free\", \"domain\": [0.832, 1.0], \"position\": 0.32906250000000004}, \"xaxis136\": {\"anchor\": \"y28\", \"domain\": [0.0, 0.16799999999999998]}, \"yaxis28\": {\"anchor\": \"x136\", \"domain\": [0.3037500000000001, 0.3165625000000001]}, \"xaxis137\": {\"anchor\": \"free\", \"domain\": [0.208, 0.376], \"position\": 0.3037500000000001}, \"xaxis138\": {\"anchor\": \"free\", \"domain\": [0.416, 0.584], \"position\": 0.3037500000000001}, \"xaxis139\": {\"anchor\": \"free\", \"domain\": [0.624, 0.792], \"position\": 0.3037500000000001}, \"xaxis140\": {\"anchor\": \"free\", \"domain\": [0.832, 1.0], \"position\": 0.3037500000000001}, \"xaxis141\": {\"anchor\": \"y29\", \"domain\": [0.0, 0.16799999999999998]}, \"yaxis29\": {\"anchor\": \"x141\", \"domain\": [0.2784375, 0.29125]}, \"xaxis142\": {\"anchor\": \"free\", \"domain\": [0.208, 0.376], \"position\": 0.2784375}, \"xaxis143\": {\"anchor\": \"free\", \"domain\": [0.416, 0.584], \"position\": 0.2784375}, \"xaxis144\": {\"anchor\": \"free\", \"domain\": [0.624, 0.792], \"position\": 0.2784375}, \"xaxis145\": {\"anchor\": \"free\", \"domain\": [0.832, 1.0], \"position\": 0.2784375}, \"xaxis146\": {\"anchor\": \"y30\", \"domain\": [0.0, 0.16799999999999998]}, \"yaxis30\": {\"anchor\": \"x146\", \"domain\": [0.25312500000000004, 0.26593750000000005]}, \"xaxis147\": {\"anchor\": \"free\", \"domain\": [0.208, 0.376], \"position\": 0.25312500000000004}, \"xaxis148\": {\"anchor\": \"free\", \"domain\": [0.416, 0.584], \"position\": 0.25312500000000004}, \"xaxis149\": {\"anchor\": \"free\", \"domain\": [0.624, 0.792], \"position\": 0.25312500000000004}, \"xaxis150\": {\"anchor\": \"free\", \"domain\": [0.832, 1.0], \"position\": 0.25312500000000004}, \"xaxis151\": {\"anchor\": \"y31\", \"domain\": [0.0, 0.16799999999999998]}, \"yaxis31\": {\"anchor\": \"x151\", \"domain\": [0.22781250000000003, 0.24062500000000003]}, \"xaxis152\": {\"anchor\": \"free\", \"domain\": [0.208, 0.376], \"position\": 0.22781250000000003}, \"xaxis153\": {\"anchor\": \"free\", \"domain\": [0.416, 0.584], \"position\": 0.22781250000000003}, \"xaxis154\": {\"anchor\": \"free\", \"domain\": [0.624, 0.792], \"position\": 0.22781250000000003}, \"xaxis155\": {\"anchor\": \"free\", \"domain\": [0.832, 1.0], \"position\": 0.22781250000000003}, \"xaxis156\": {\"anchor\": \"y32\", \"domain\": [0.0, 0.16799999999999998]}, \"yaxis32\": {\"anchor\": \"x156\", \"domain\": [0.2025, 0.21531250000000002]}, \"xaxis157\": {\"anchor\": \"free\", \"domain\": [0.208, 0.376], \"position\": 0.2025}, \"xaxis158\": {\"anchor\": \"free\", \"domain\": [0.416, 0.584], \"position\": 0.2025}, \"xaxis159\": {\"anchor\": \"free\", \"domain\": [0.624, 0.792], \"position\": 0.2025}, \"xaxis160\": {\"anchor\": \"free\", \"domain\": [0.832, 1.0], \"position\": 0.2025}, \"xaxis161\": {\"anchor\": \"y33\", \"domain\": [0.0, 0.16799999999999998]}, \"yaxis33\": {\"anchor\": \"x161\", \"domain\": [0.1771875, 0.19]}, \"xaxis162\": {\"anchor\": \"free\", \"domain\": [0.208, 0.376], \"position\": 0.1771875}, \"xaxis163\": {\"anchor\": \"free\", \"domain\": [0.416, 0.584], \"position\": 0.1771875}, \"xaxis164\": {\"anchor\": \"free\", \"domain\": [0.624, 0.792], \"position\": 0.1771875}, \"xaxis165\": {\"anchor\": \"free\", \"domain\": [0.832, 1.0], \"position\": 0.1771875}, \"xaxis166\": {\"anchor\": \"y34\", \"domain\": [0.0, 0.16799999999999998]}, \"yaxis34\": {\"anchor\": \"x166\", \"domain\": [0.151875, 0.16468750000000001]}, \"xaxis167\": {\"anchor\": \"free\", \"domain\": [0.208, 0.376], \"position\": 0.151875}, \"xaxis168\": {\"anchor\": \"free\", \"domain\": [0.416, 0.584], \"position\": 0.151875}, \"xaxis169\": {\"anchor\": \"free\", \"domain\": [0.624, 0.792], \"position\": 0.151875}, \"xaxis170\": {\"anchor\": \"free\", \"domain\": [0.832, 1.0], \"position\": 0.151875}, \"xaxis171\": {\"anchor\": \"y35\", \"domain\": [0.0, 0.16799999999999998]}, \"yaxis35\": {\"anchor\": \"x171\", \"domain\": [0.1265625, 0.139375]}, \"xaxis172\": {\"anchor\": \"free\", \"domain\": [0.208, 0.376], \"position\": 0.1265625}, \"xaxis173\": {\"anchor\": \"free\", \"domain\": [0.416, 0.584], \"position\": 0.1265625}, \"xaxis174\": {\"anchor\": \"free\", \"domain\": [0.624, 0.792], \"position\": 0.1265625}, \"xaxis175\": {\"anchor\": \"free\", \"domain\": [0.832, 1.0], \"position\": 0.1265625}, \"xaxis176\": {\"anchor\": \"y36\", \"domain\": [0.0, 0.16799999999999998]}, \"yaxis36\": {\"anchor\": \"x176\", \"domain\": [0.10125, 0.11406250000000001]}, \"xaxis177\": {\"anchor\": \"free\", \"domain\": [0.208, 0.376], \"position\": 0.10125}, \"xaxis178\": {\"anchor\": \"free\", \"domain\": [0.416, 0.584], \"position\": 0.10125}, \"xaxis179\": {\"anchor\": \"free\", \"domain\": [0.624, 0.792], \"position\": 0.10125}, \"xaxis180\": {\"anchor\": \"free\", \"domain\": [0.832, 1.0], \"position\": 0.10125}, \"xaxis181\": {\"anchor\": \"y37\", \"domain\": [0.0, 0.16799999999999998]}, \"yaxis37\": {\"anchor\": \"x181\", \"domain\": [0.0759375, 0.08875000000000001]}, \"xaxis182\": {\"anchor\": \"free\", \"domain\": [0.208, 0.376], \"position\": 0.0759375}, \"xaxis183\": {\"anchor\": \"free\", \"domain\": [0.416, 0.584], \"position\": 0.0759375}, \"xaxis184\": {\"anchor\": \"free\", \"domain\": [0.624, 0.792], \"position\": 0.0759375}, \"xaxis185\": {\"anchor\": \"free\", \"domain\": [0.832, 1.0], \"position\": 0.0759375}, \"xaxis186\": {\"anchor\": \"y38\", \"domain\": [0.0, 0.16799999999999998]}, \"yaxis38\": {\"anchor\": \"x186\", \"domain\": [0.050625, 0.06343750000000001]}, \"xaxis187\": {\"anchor\": \"free\", \"domain\": [0.208, 0.376], \"position\": 0.050625}, \"xaxis188\": {\"anchor\": \"free\", \"domain\": [0.416, 0.584], \"position\": 0.050625}, \"xaxis189\": {\"anchor\": \"free\", \"domain\": [0.624, 0.792], \"position\": 0.050625}, \"xaxis190\": {\"anchor\": \"free\", \"domain\": [0.832, 1.0], \"position\": 0.050625}, \"xaxis191\": {\"anchor\": \"y39\", \"domain\": [0.0, 0.16799999999999998]}, \"yaxis39\": {\"anchor\": \"x191\", \"domain\": [0.0253125, 0.038125]}, \"xaxis192\": {\"anchor\": \"free\", \"domain\": [0.208, 0.376], \"position\": 0.0253125}, \"xaxis193\": {\"anchor\": \"free\", \"domain\": [0.416, 0.584], \"position\": 0.0253125}, \"xaxis194\": {\"anchor\": \"free\", \"domain\": [0.624, 0.792], \"position\": 0.0253125}, \"xaxis195\": {\"anchor\": \"free\", \"domain\": [0.832, 1.0], \"position\": 0.0253125}, \"xaxis196\": {\"anchor\": \"y40\", \"domain\": [0.0, 0.16799999999999998]}, \"yaxis40\": {\"anchor\": \"x196\", \"domain\": [0.0, 0.0128125]}, \"xaxis197\": {\"anchor\": \"free\", \"domain\": [0.208, 0.376], \"position\": 0.0}, \"xaxis198\": {\"anchor\": \"free\", \"domain\": [0.416, 0.584], \"position\": 0.0}, \"xaxis199\": {\"anchor\": \"free\", \"domain\": [0.624, 0.792], \"position\": 0.0}, \"xaxis200\": {\"anchor\": \"free\", \"domain\": [0.832, 1.0], \"position\": 0.0}, \"height\": 12000, \"width\": 1500, \"title\": {\"text\": \"Most characteristic weekday dist\"}, \"showlegend\": false}, {\"showLink\": false, \"linkText\": \"Export to plot.ly\", \"plotlyServerURL\": \"https://plot.ly\"})});</script>"
      ],
      "text/vnd.plotly.v1+html": [
       "<div id=\"22b2beda-6a28-4a7f-9294-c657f2b7d59a\" style=\"height: 12000px; width: 1500px;\" class=\"plotly-graph-div\"></div><script type=\"text/javascript\">require([\"plotly\"], function(Plotly) { window.PLOTLYENV=window.PLOTLYENV || {};window.PLOTLYENV.BASE_URL=\"https://plot.ly\";Plotly.newPlot(\"22b2beda-6a28-4a7f-9294-c657f2b7d59a\", [{\"marker\": {\"color\": [\"rgb(214,96,77)\", \"rgb(214,96,77)\", \"rgb(214,96,77)\", \"rgb(214,96,77)\", \"rgb(214,96,77)\", \"rgb(214,96,77)\", \"rgb(214,96,77)\"]}, \"x\": [1, 2, 3, 4, 5, 6, 7], \"y\": [0.007537688442211055, 0.023450586264656615, 0.01423785594639866, 0.02847571189279732, 0.025963149078726967, 0.5226130653266332, 0.3777219430485762], \"type\": \"bar\", \"uid\": \"59b4fc52-3346-4893-9ad5-55d71575c39a\", \"xaxis\": \"x\", \"yaxis\": \"y\"}, {\"line\": {\"color\": \"gray\", \"shape\": \"spline\", \"width\": 3}, \"mode\": \"lines\", \"x\": [1, 2, 3, 4, 5, 6, 7], \"y\": [0.07185578359124661, 0.13864492108344612, 0.16100379332347023, 0.15654295710950153, 0.12406201137295872, 0.20754597914723844, 0.14034455437213836], \"type\": \"scatter\", \"uid\": \"3ff68d98-692d-48b7-9a3e-5cffa16715eb\", \"xaxis\": \"x\", \"yaxis\": \"y\"}, {\"marker\": {\"color\": [\"rgb(5,48,97)\", \"rgb(5,48,97)\", \"rgb(5,48,97)\", \"rgb(5,48,97)\", \"rgb(5,48,97)\", \"rgb(5,48,97)\", \"rgb(5,48,97)\"]}, \"x\": [1, 2, 3, 4, 5, 6, 7], \"y\": [0.19287833827893175, 0.380811078140455, 0.06429277942631058, 0.26409495548961426, 0.09000989119683482, 0.00791295746785361, 0.0], \"type\": \"bar\", \"uid\": \"5fb75393-4585-4643-969d-13e9affdb8f9\", \"xaxis\": \"x2\", \"yaxis\": \"y\"}, {\"line\": {\"color\": \"gray\", \"shape\": \"spline\", \"width\": 3}, \"mode\": \"lines\", \"x\": [1, 2, 3, 4, 5, 6, 7], \"y\": [0.07185578359124661, 0.13864492108344612, 0.16100379332347023, 0.15654295710950153, 0.12406201137295872, 0.20754597914723844, 0.14034455437213836], \"type\": \"scatter\", \"uid\": \"428b0163-1aec-4490-b346-126ff4a964a1\", \"xaxis\": \"x2\", \"yaxis\": \"y\"}, {\"marker\": {\"color\": [\"rgb(33,102,172)\", \"rgb(33,102,172)\", \"rgb(33,102,172)\", \"rgb(33,102,172)\", \"rgb(33,102,172)\", \"rgb(33,102,172)\", \"rgb(33,102,172)\"]}, \"x\": [1, 2, 3, 4, 5, 6, 7], \"y\": [0.02230843840931135, 0.4122211445198836, 0.34626576139670223, 0.1600387972841901, 0.027158098933074686, 0.03200775945683802, 0.0], \"type\": \"bar\", \"uid\": \"05002fd2-de08-46e0-8bf0-ac85cc7eff76\", \"xaxis\": \"x3\", \"yaxis\": \"y\"}, {\"line\": {\"color\": \"gray\", \"shape\": \"spline\", \"width\": 3}, \"mode\": \"lines\", \"x\": [1, 2, 3, 4, 5, 6, 7], \"y\": [0.07185578359124661, 0.13864492108344612, 0.16100379332347023, 0.15654295710950153, 0.12406201137295872, 0.20754597914723844, 0.14034455437213836], \"type\": \"scatter\", \"uid\": \"a547c314-6b3a-4b17-86b4-978f3b8fab4a\", \"xaxis\": \"x3\", \"yaxis\": \"y\"}, {\"marker\": {\"color\": [\"rgb(244,165,130)\", \"rgb(244,165,130)\", \"rgb(244,165,130)\", \"rgb(244,165,130)\", \"rgb(244,165,130)\", \"rgb(244,165,130)\", \"rgb(244,165,130)\"]}, \"x\": [1, 2, 3, 4, 5, 6, 7], \"y\": [0.03656998738965952, 0.1343001261034048, 0.30958385876418665, 0.4041614123581337, 0.10025220680958385, 0.015132408575031526, 0.0], \"type\": \"bar\", \"uid\": \"8d75b3d7-144b-4a7b-b413-db462cb9c4bd\", \"xaxis\": \"x4\", \"yaxis\": \"y\"}, {\"line\": {\"color\": \"gray\", \"shape\": \"spline\", \"width\": 3}, \"mode\": \"lines\", \"x\": [1, 2, 3, 4, 5, 6, 7], \"y\": [0.07185578359124661, 0.13864492108344612, 0.16100379332347023, 0.15654295710950153, 0.12406201137295872, 0.20754597914723844, 0.14034455437213836], \"type\": \"scatter\", \"uid\": \"970af6b4-bf1f-411a-865e-ad26c47cdf9c\", \"xaxis\": \"x4\", \"yaxis\": \"y\"}, {\"marker\": {\"color\": [\"rgb(178,24,43)\", \"rgb(178,24,43)\", \"rgb(178,24,43)\", \"rgb(178,24,43)\", \"rgb(178,24,43)\", \"rgb(178,24,43)\", \"rgb(178,24,43)\"]}, \"x\": [1, 2, 3, 4, 5, 6, 7], \"y\": [0.029779058597502402, 0.45821325648414984, 0.16042267050912584, 0.23823246878001922, 0.06147934678194044, 0.05187319884726225, 0.0], \"type\": \"bar\", \"uid\": \"cdd89440-8701-4b44-b7d6-ef5ef9eba493\", \"xaxis\": \"x5\", \"yaxis\": \"y\"}, {\"line\": {\"color\": \"gray\", \"shape\": \"spline\", \"width\": 3}, \"mode\": \"lines\", \"x\": [1, 2, 3, 4, 5, 6, 7], \"y\": [0.07185578359124661, 0.13864492108344612, 0.16100379332347023, 0.15654295710950153, 0.12406201137295872, 0.20754597914723844, 0.14034455437213836], \"type\": \"scatter\", \"uid\": \"0af90577-b192-4da9-a853-808877d73030\", \"xaxis\": \"x5\", \"yaxis\": \"y\"}, {\"marker\": {\"color\": [\"rgb(214,96,77)\", \"rgb(214,96,77)\", \"rgb(214,96,77)\", \"rgb(214,96,77)\", \"rgb(214,96,77)\", \"rgb(214,96,77)\", \"rgb(214,96,77)\"]}, \"x\": [1, 2, 3, 4, 5, 6, 7], \"y\": [0.21396993810786913, 0.376657824933687, 0.16445623342175067, 0.14677276746242263, 0.04597701149425287, 0.052166224580017684, 0.0], \"type\": \"bar\", \"uid\": \"0c853a28-9428-4cf5-92c6-f40a35956df8\", \"xaxis\": \"x6\", \"yaxis\": \"y2\"}, {\"line\": {\"color\": \"gray\", \"shape\": \"spline\", \"width\": 3}, \"mode\": \"lines\", \"x\": [1, 2, 3, 4, 5, 6, 7], \"y\": [0.07185578359124661, 0.13864492108344612, 0.16100379332347023, 0.15654295710950153, 0.12406201137295872, 0.20754597914723844, 0.14034455437213836], \"type\": \"scatter\", \"uid\": \"0276687c-a18f-4976-b9a3-1f270473033f\", \"xaxis\": \"x6\", \"yaxis\": \"y2\"}, {\"marker\": {\"color\": [\"rgb(5,48,97)\", \"rgb(5,48,97)\", \"rgb(5,48,97)\", \"rgb(5,48,97)\", \"rgb(5,48,97)\", \"rgb(5,48,97)\", \"rgb(5,48,97)\"]}, \"x\": [1, 2, 3, 4, 5, 6, 7], \"y\": [0.12795549374130738, 0.1404728789986092, 0.3894297635605007, 0.27399165507649514, 0.02086230876216968, 0.04450625869262865, 0.0027816411682892906], \"type\": \"bar\", \"uid\": \"c6fd6080-7d9b-4cfb-a434-ac0179b474c8\", \"xaxis\": \"x7\", \"yaxis\": \"y2\"}, {\"line\": {\"color\": \"gray\", \"shape\": \"spline\", \"width\": 3}, \"mode\": \"lines\", \"x\": [1, 2, 3, 4, 5, 6, 7], \"y\": [0.07185578359124661, 0.13864492108344612, 0.16100379332347023, 0.15654295710950153, 0.12406201137295872, 0.20754597914723844, 0.14034455437213836], \"type\": \"scatter\", \"uid\": \"0afb4fa4-a5db-499e-9860-1a0510187fe9\", \"xaxis\": \"x7\", \"yaxis\": \"y2\"}, {\"marker\": {\"color\": [\"rgb(33,102,172)\", \"rgb(33,102,172)\", \"rgb(33,102,172)\", \"rgb(33,102,172)\", \"rgb(33,102,172)\", \"rgb(33,102,172)\", \"rgb(33,102,172)\"]}, \"x\": [1, 2, 3, 4, 5, 6, 7], \"y\": [0.005829015544041451, 0.02461139896373057, 0.046632124352331605, 0.07966321243523317, 0.027849740932642485, 0.4430051813471503, 0.37240932642487046], \"type\": \"bar\", \"uid\": \"aa9735c8-e67c-4d8a-8195-2e0df5e59438\", \"xaxis\": \"x8\", \"yaxis\": \"y2\"}, {\"line\": {\"color\": \"gray\", \"shape\": \"spline\", \"width\": 3}, \"mode\": \"lines\", \"x\": [1, 2, 3, 4, 5, 6, 7], \"y\": [0.07185578359124661, 0.13864492108344612, 0.16100379332347023, 0.15654295710950153, 0.12406201137295872, 0.20754597914723844, 0.14034455437213836], \"type\": \"scatter\", \"uid\": \"6dee715a-e99c-4d96-9035-7da22624b023\", \"xaxis\": \"x8\", \"yaxis\": \"y2\"}, {\"marker\": {\"color\": [\"rgb(244,165,130)\", \"rgb(244,165,130)\", \"rgb(244,165,130)\", \"rgb(244,165,130)\", \"rgb(244,165,130)\", \"rgb(244,165,130)\", \"rgb(244,165,130)\"]}, \"x\": [1, 2, 3, 4, 5, 6, 7], \"y\": [0.1942645698427382, 0.3940795559666975, 0.16096207215541167, 0.14061054579093432, 0.05550416281221091, 0.0545790934320074, 0.0], \"type\": \"bar\", \"uid\": \"cec2f6a0-fd3e-4abf-ad5f-a1e8ac66f956\", \"xaxis\": \"x9\", \"yaxis\": \"y2\"}, {\"line\": {\"color\": \"gray\", \"shape\": \"spline\", \"width\": 3}, \"mode\": \"lines\", \"x\": [1, 2, 3, 4, 5, 6, 7], \"y\": [0.07185578359124661, 0.13864492108344612, 0.16100379332347023, 0.15654295710950153, 0.12406201137295872, 0.20754597914723844, 0.14034455437213836], \"type\": \"scatter\", \"uid\": \"1407ebca-fcb2-4997-8cf4-ef86b60d7081\", \"xaxis\": \"x9\", \"yaxis\": \"y2\"}, {\"marker\": {\"color\": [\"rgb(178,24,43)\", \"rgb(178,24,43)\", \"rgb(178,24,43)\", \"rgb(178,24,43)\", \"rgb(178,24,43)\", \"rgb(178,24,43)\", \"rgb(178,24,43)\"]}, \"x\": [1, 2, 3, 4, 5, 6, 7], \"y\": [0.0629024269440317, 0.19564140663694898, 0.24913323427439327, 0.33382862803368, 0.14611193660227836, 0.012382367508667657, 0.0], \"type\": \"bar\", \"uid\": \"c9f52cfc-1d42-43e2-ac7b-ef46e74e2a44\", \"xaxis\": \"x10\", \"yaxis\": \"y2\"}, {\"line\": {\"color\": \"gray\", \"shape\": \"spline\", \"width\": 3}, \"mode\": \"lines\", \"x\": [1, 2, 3, 4, 5, 6, 7], \"y\": [0.07185578359124661, 0.13864492108344612, 0.16100379332347023, 0.15654295710950153, 0.12406201137295872, 0.20754597914723844, 0.14034455437213836], \"type\": \"scatter\", \"uid\": \"ed36594b-0a3b-4bd8-95e5-1c188799ece9\", \"xaxis\": \"x10\", \"yaxis\": \"y2\"}, {\"marker\": {\"color\": [\"rgb(214,96,77)\", \"rgb(214,96,77)\", \"rgb(214,96,77)\", \"rgb(214,96,77)\", \"rgb(214,96,77)\", \"rgb(214,96,77)\", \"rgb(214,96,77)\"]}, \"x\": [1, 2, 3, 4, 5, 6, 7], \"y\": [0.06562703053931124, 0.21334199696772796, 0.30409356725146197, 0.2962962962962963, 0.10851202079272254, 0.008663634394628547, 0.0034654537578514186], \"type\": \"bar\", \"uid\": \"77cbc57d-9409-4049-b284-870aec5a596f\", \"xaxis\": \"x11\", \"yaxis\": \"y3\"}, {\"line\": {\"color\": \"gray\", \"shape\": \"spline\", \"width\": 3}, \"mode\": \"lines\", \"x\": [1, 2, 3, 4, 5, 6, 7], \"y\": [0.07185578359124661, 0.13864492108344612, 0.16100379332347023, 0.15654295710950153, 0.12406201137295872, 0.20754597914723844, 0.14034455437213836], \"type\": \"scatter\", \"uid\": \"af3d62a3-c76d-4325-a179-b31533772680\", \"xaxis\": \"x11\", \"yaxis\": \"y3\"}, {\"marker\": {\"color\": [\"rgb(5,48,97)\", \"rgb(5,48,97)\", \"rgb(5,48,97)\", \"rgb(5,48,97)\", \"rgb(5,48,97)\", \"rgb(5,48,97)\", \"rgb(5,48,97)\"]}, \"x\": [1, 2, 3, 4, 5, 6, 7], \"y\": [0.03272845106934543, 0.32177576150356446, 0.28224238496435516, 0.2517822423849643, 0.08781594296824369, 0.01814646791963707, 0.005508749189889825], \"type\": \"bar\", \"uid\": \"ba1356e8-cd6f-4d78-b8fe-bd717cf5a982\", \"xaxis\": \"x12\", \"yaxis\": \"y3\"}, {\"line\": {\"color\": \"gray\", \"shape\": \"spline\", \"width\": 3}, \"mode\": \"lines\", \"x\": [1, 2, 3, 4, 5, 6, 7], \"y\": [0.07185578359124661, 0.13864492108344612, 0.16100379332347023, 0.15654295710950153, 0.12406201137295872, 0.20754597914723844, 0.14034455437213836], \"type\": \"scatter\", \"uid\": \"9f7326c9-955b-4ccb-aeb5-fe3a083c831d\", \"xaxis\": \"x12\", \"yaxis\": \"y3\"}, {\"marker\": {\"color\": [\"rgb(33,102,172)\", \"rgb(33,102,172)\", \"rgb(33,102,172)\", \"rgb(33,102,172)\", \"rgb(33,102,172)\", \"rgb(33,102,172)\", \"rgb(33,102,172)\"]}, \"x\": [1, 2, 3, 4, 5, 6, 7], \"y\": [0.06866110838646396, 0.16748406081412456, 0.33055419323197643, 0.30652280529671405, 0.11083864639529181, 0.012506130456105935, 0.0034330554193231977], \"type\": \"bar\", \"uid\": \"6433880d-365b-407c-84c4-07f44d52ee08\", \"xaxis\": \"x13\", \"yaxis\": \"y3\"}, {\"line\": {\"color\": \"gray\", \"shape\": \"spline\", \"width\": 3}, \"mode\": \"lines\", \"x\": [1, 2, 3, 4, 5, 6, 7], \"y\": [0.07185578359124661, 0.13864492108344612, 0.16100379332347023, 0.15654295710950153, 0.12406201137295872, 0.20754597914723844, 0.14034455437213836], \"type\": \"scatter\", \"uid\": \"9898c09b-7eb9-418f-87c8-8ab7856d8914\", \"xaxis\": \"x13\", \"yaxis\": \"y3\"}, {\"marker\": {\"color\": [\"rgb(244,165,130)\", \"rgb(244,165,130)\", \"rgb(244,165,130)\", \"rgb(244,165,130)\", \"rgb(244,165,130)\", \"rgb(244,165,130)\", \"rgb(244,165,130)\"]}, \"x\": [1, 2, 3, 4, 5, 6, 7], \"y\": [0.00946643717728055, 0.3270223752151463, 0.28313253012048195, 0.193631669535284, 0.0034423407917383822, 0.17986230636833048, 0.0034423407917383822], \"type\": \"bar\", \"uid\": \"290fc930-e460-420e-b2fa-ac7c2e72ec0c\", \"xaxis\": \"x14\", \"yaxis\": \"y3\"}, {\"line\": {\"color\": \"gray\", \"shape\": \"spline\", \"width\": 3}, \"mode\": \"lines\", \"x\": [1, 2, 3, 4, 5, 6, 7], \"y\": [0.07185578359124661, 0.13864492108344612, 0.16100379332347023, 0.15654295710950153, 0.12406201137295872, 0.20754597914723844, 0.14034455437213836], \"type\": \"scatter\", \"uid\": \"84b39ac5-e548-41c9-bc95-939e68a6e8a3\", \"xaxis\": \"x14\", \"yaxis\": \"y3\"}, {\"marker\": {\"color\": [\"rgb(178,24,43)\", \"rgb(178,24,43)\", \"rgb(178,24,43)\", \"rgb(178,24,43)\", \"rgb(178,24,43)\", \"rgb(178,24,43)\", \"rgb(178,24,43)\"]}, \"x\": [1, 2, 3, 4, 5, 6, 7], \"y\": [0.11495327102803739, 0.24766355140186916, 0.2738317757009346, 0.20654205607476636, 0.14392523364485982, 0.013084112149532711, 0.0], \"type\": \"bar\", \"uid\": \"c12c0f14-508a-4051-96b6-311a93c420b7\", \"xaxis\": \"x15\", \"yaxis\": \"y3\"}, {\"line\": {\"color\": \"gray\", \"shape\": \"spline\", \"width\": 3}, \"mode\": \"lines\", \"x\": [1, 2, 3, 4, 5, 6, 7], \"y\": [0.07185578359124661, 0.13864492108344612, 0.16100379332347023, 0.15654295710950153, 0.12406201137295872, 0.20754597914723844, 0.14034455437213836], \"type\": \"scatter\", \"uid\": \"8085b525-0b25-4fe5-9647-a438611fcf02\", \"xaxis\": \"x15\", \"yaxis\": \"y3\"}, {\"marker\": {\"color\": [\"rgb(214,96,77)\", \"rgb(214,96,77)\", \"rgb(214,96,77)\", \"rgb(214,96,77)\", \"rgb(214,96,77)\", \"rgb(214,96,77)\", \"rgb(214,96,77)\"]}, \"x\": [1, 2, 3, 4, 5, 6, 7], \"y\": [0.12246117084826762, 0.1009557945041816, 0.5244922341696535, 0.0967741935483871, 0.0908004778972521, 0.056152927120669056, 0.008363201911589008], \"type\": \"bar\", \"uid\": \"49b1fa6b-6825-4404-bba1-f15f8ecc1f04\", \"xaxis\": \"x16\", \"yaxis\": \"y4\"}, {\"line\": {\"color\": \"gray\", \"shape\": \"spline\", \"width\": 3}, \"mode\": \"lines\", \"x\": [1, 2, 3, 4, 5, 6, 7], \"y\": [0.07185578359124661, 0.13864492108344612, 0.16100379332347023, 0.15654295710950153, 0.12406201137295872, 0.20754597914723844, 0.14034455437213836], \"type\": \"scatter\", \"uid\": \"36114b44-c58a-48b4-85df-21108ebc2189\", \"xaxis\": \"x16\", \"yaxis\": \"y4\"}, {\"marker\": {\"color\": [\"rgb(5,48,97)\", \"rgb(5,48,97)\", \"rgb(5,48,97)\", \"rgb(5,48,97)\", \"rgb(5,48,97)\", \"rgb(5,48,97)\", \"rgb(5,48,97)\"]}, \"x\": [1, 2, 3, 4, 5, 6, 7], \"y\": [0.10371408549404344, 0.23756131744919412, 0.3181499649614576, 0.2543798177995795, 0.05956552207428171, 0.025227750525578137, 0.001401541695865452], \"type\": \"bar\", \"uid\": \"c9f89c51-3ec0-4153-b724-0ded17fc12de\", \"xaxis\": \"x17\", \"yaxis\": \"y4\"}, {\"line\": {\"color\": \"gray\", \"shape\": \"spline\", \"width\": 3}, \"mode\": \"lines\", \"x\": [1, 2, 3, 4, 5, 6, 7], \"y\": [0.07185578359124661, 0.13864492108344612, 0.16100379332347023, 0.15654295710950153, 0.12406201137295872, 0.20754597914723844, 0.14034455437213836], \"type\": \"scatter\", \"uid\": \"b8f4ebf7-ad8d-4c7d-921a-e9f3826ca043\", \"xaxis\": \"x17\", \"yaxis\": \"y4\"}, {\"marker\": {\"color\": [\"rgb(33,102,172)\", \"rgb(33,102,172)\", \"rgb(33,102,172)\", \"rgb(33,102,172)\", \"rgb(33,102,172)\", \"rgb(33,102,172)\", \"rgb(33,102,172)\"]}, \"x\": [1, 2, 3, 4, 5, 6, 7], \"y\": [0.06666666666666667, 0.14212218649517686, 0.3256162915326902, 0.3168274383708467, 0.12775991425509112, 0.0180064308681672, 0.0030010718113612006], \"type\": \"bar\", \"uid\": \"0bd309a8-8a58-4db0-bf37-12c014ff4b74\", \"xaxis\": \"x18\", \"yaxis\": \"y4\"}, {\"line\": {\"color\": \"gray\", \"shape\": \"spline\", \"width\": 3}, \"mode\": \"lines\", \"x\": [1, 2, 3, 4, 5, 6, 7], \"y\": [0.07185578359124661, 0.13864492108344612, 0.16100379332347023, 0.15654295710950153, 0.12406201137295872, 0.20754597914723844, 0.14034455437213836], \"type\": \"scatter\", \"uid\": \"872d8e58-18a0-40db-bd6c-e59c8d764e3d\", \"xaxis\": \"x18\", \"yaxis\": \"y4\"}, {\"marker\": {\"color\": [\"rgb(244,165,130)\", \"rgb(244,165,130)\", \"rgb(244,165,130)\", \"rgb(244,165,130)\", \"rgb(244,165,130)\", \"rgb(244,165,130)\", \"rgb(244,165,130)\"]}, \"x\": [1, 2, 3, 4, 5, 6, 7], \"y\": [0.045923460898502494, 0.2938435940099834, 0.270216306156406, 0.2788685524126456, 0.07554076539101498, 0.035607321131447586, 0.0], \"type\": \"bar\", \"uid\": \"a6c3f19a-a6ae-4e87-a7f7-5161cc1544e3\", \"xaxis\": \"x19\", \"yaxis\": \"y4\"}, {\"line\": {\"color\": \"gray\", \"shape\": \"spline\", \"width\": 3}, \"mode\": \"lines\", \"x\": [1, 2, 3, 4, 5, 6, 7], \"y\": [0.07185578359124661, 0.13864492108344612, 0.16100379332347023, 0.15654295710950153, 0.12406201137295872, 0.20754597914723844, 0.14034455437213836], \"type\": \"scatter\", \"uid\": \"0e5e2787-5067-41d6-8620-db4045b2048b\", \"xaxis\": \"x19\", \"yaxis\": \"y4\"}, {\"marker\": {\"color\": [\"rgb(178,24,43)\", \"rgb(178,24,43)\", \"rgb(178,24,43)\", \"rgb(178,24,43)\", \"rgb(178,24,43)\", \"rgb(178,24,43)\", \"rgb(178,24,43)\"]}, \"x\": [1, 2, 3, 4, 5, 6, 7], \"y\": [0.050761421319796954, 0.21157360406091372, 0.31614213197969543, 0.2913705583756345, 0.10781725888324874, 0.01949238578680203, 0.0028426395939086294], \"type\": \"bar\", \"uid\": \"0953b1ee-e6c9-405c-b80f-1a0f46c49aa7\", \"xaxis\": \"x20\", \"yaxis\": \"y4\"}, {\"line\": {\"color\": \"gray\", \"shape\": \"spline\", \"width\": 3}, \"mode\": \"lines\", \"x\": [1, 2, 3, 4, 5, 6, 7], \"y\": [0.07185578359124661, 0.13864492108344612, 0.16100379332347023, 0.15654295710950153, 0.12406201137295872, 0.20754597914723844, 0.14034455437213836], \"type\": \"scatter\", \"uid\": \"b0d4f4a4-ea05-4359-a647-ab42d546fe4e\", \"xaxis\": \"x20\", \"yaxis\": \"y4\"}, {\"marker\": {\"color\": [\"rgb(214,96,77)\", \"rgb(214,96,77)\", \"rgb(214,96,77)\", \"rgb(214,96,77)\", \"rgb(214,96,77)\", \"rgb(214,96,77)\", \"rgb(214,96,77)\"]}, \"x\": [1, 2, 3, 4, 5, 6, 7], \"y\": [0.09021406727828746, 0.3256880733944954, 0.382262996941896, 0.06345565749235474, 0.046636085626911315, 0.08792048929663608, 0.00382262996941896], \"type\": \"bar\", \"uid\": \"b385a7d2-6a0a-4e65-b7c4-54753afe2f91\", \"xaxis\": \"x21\", \"yaxis\": \"y5\"}, {\"line\": {\"color\": \"gray\", \"shape\": \"spline\", \"width\": 3}, \"mode\": \"lines\", \"x\": [1, 2, 3, 4, 5, 6, 7], \"y\": [0.07185578359124661, 0.13864492108344612, 0.16100379332347023, 0.15654295710950153, 0.12406201137295872, 0.20754597914723844, 0.14034455437213836], \"type\": \"scatter\", \"uid\": \"998cd913-6fdb-4314-9eed-4c0f41bb3e97\", \"xaxis\": \"x21\", \"yaxis\": \"y5\"}, {\"marker\": {\"color\": [\"rgb(5,48,97)\", \"rgb(5,48,97)\", \"rgb(5,48,97)\", \"rgb(5,48,97)\", \"rgb(5,48,97)\", \"rgb(5,48,97)\", \"rgb(5,48,97)\"]}, \"x\": [1, 2, 3, 4, 5, 6, 7], \"y\": [0.04731525784157363, 0.24508240297713982, 0.29771398192450826, 0.31632110579479, 0.052099946836788945, 0.03934077618288145, 0.002126528442317916], \"type\": \"bar\", \"uid\": \"1144621c-78e1-42db-9b41-ce40011938bd\", \"xaxis\": \"x22\", \"yaxis\": \"y5\"}, {\"line\": {\"color\": \"gray\", \"shape\": \"spline\", \"width\": 3}, \"mode\": \"lines\", \"x\": [1, 2, 3, 4, 5, 6, 7], \"y\": [0.07185578359124661, 0.13864492108344612, 0.16100379332347023, 0.15654295710950153, 0.12406201137295872, 0.20754597914723844, 0.14034455437213836], \"type\": \"scatter\", \"uid\": \"ab618322-80e0-44db-b727-ad574def618e\", \"xaxis\": \"x22\", \"yaxis\": \"y5\"}, {\"marker\": {\"color\": [\"rgb(33,102,172)\", \"rgb(33,102,172)\", \"rgb(33,102,172)\", \"rgb(33,102,172)\", \"rgb(33,102,172)\", \"rgb(33,102,172)\", \"rgb(33,102,172)\"]}, \"x\": [1, 2, 3, 4, 5, 6, 7], \"y\": [0.030291835980790542, 0.016623568526043592, 0.043960103435537495, 0.0365718507572959, 0.4004432951606945, 0.33173254525304763, 0.14037680088659032], \"type\": \"bar\", \"uid\": \"8ac52d2d-766f-445e-b899-776bacb95335\", \"xaxis\": \"x23\", \"yaxis\": \"y5\"}, {\"line\": {\"color\": \"gray\", \"shape\": \"spline\", \"width\": 3}, \"mode\": \"lines\", \"x\": [1, 2, 3, 4, 5, 6, 7], \"y\": [0.07185578359124661, 0.13864492108344612, 0.16100379332347023, 0.15654295710950153, 0.12406201137295872, 0.20754597914723844, 0.14034455437213836], \"type\": \"scatter\", \"uid\": \"8bf62707-dbcf-4c23-a60b-23ffbfaef207\", \"xaxis\": \"x23\", \"yaxis\": \"y5\"}, {\"marker\": {\"color\": [\"rgb(244,165,130)\", \"rgb(244,165,130)\", \"rgb(244,165,130)\", \"rgb(244,165,130)\", \"rgb(244,165,130)\", \"rgb(244,165,130)\", \"rgb(244,165,130)\"]}, \"x\": [1, 2, 3, 4, 5, 6, 7], \"y\": [0.0735009671179884, 0.3452611218568665, 0.18762088974854932, 0.24758220502901354, 0.11605415860735009, 0.029980657640232108, 0.0], \"type\": \"bar\", \"uid\": \"d5218587-e548-41cd-989c-9003869ec53b\", \"xaxis\": \"x24\", \"yaxis\": \"y5\"}, {\"line\": {\"color\": \"gray\", \"shape\": \"spline\", \"width\": 3}, \"mode\": \"lines\", \"x\": [1, 2, 3, 4, 5, 6, 7], \"y\": [0.07185578359124661, 0.13864492108344612, 0.16100379332347023, 0.15654295710950153, 0.12406201137295872, 0.20754597914723844, 0.14034455437213836], \"type\": \"scatter\", \"uid\": \"277869ee-6361-46b8-b9fa-fa2da804790c\", \"xaxis\": \"x24\", \"yaxis\": \"y5\"}, {\"marker\": {\"color\": [\"rgb(178,24,43)\", \"rgb(178,24,43)\", \"rgb(178,24,43)\", \"rgb(178,24,43)\", \"rgb(178,24,43)\", \"rgb(178,24,43)\", \"rgb(178,24,43)\"]}, \"x\": [1, 2, 3, 4, 5, 6, 7], \"y\": [0.10512367491166077, 0.12014134275618374, 0.411660777385159, 0.14929328621908128, 0.18197879858657243, 0.029151943462897525, 0.00265017667844523], \"type\": \"bar\", \"uid\": \"2e1eb5d8-30ba-4cf8-bf45-8a3eda58d404\", \"xaxis\": \"x25\", \"yaxis\": \"y5\"}, {\"line\": {\"color\": \"gray\", \"shape\": \"spline\", \"width\": 3}, \"mode\": \"lines\", \"x\": [1, 2, 3, 4, 5, 6, 7], \"y\": [0.07185578359124661, 0.13864492108344612, 0.16100379332347023, 0.15654295710950153, 0.12406201137295872, 0.20754597914723844, 0.14034455437213836], \"type\": \"scatter\", \"uid\": \"99a76149-aa0b-4d09-bac2-b97d721f0be5\", \"xaxis\": \"x25\", \"yaxis\": \"y5\"}, {\"marker\": {\"color\": [\"rgb(214,96,77)\", \"rgb(214,96,77)\", \"rgb(214,96,77)\", \"rgb(214,96,77)\", \"rgb(214,96,77)\", \"rgb(214,96,77)\", \"rgb(214,96,77)\"]}, \"x\": [1, 2, 3, 4, 5, 6, 7], \"y\": [0.03646185010128292, 0.26333558406482105, 0.44091829844699526, 0.09925725860904794, 0.05671843349088454, 0.10330857528696827, 0.0], \"type\": \"bar\", \"uid\": \"394f2634-526b-4e43-96a1-598220b91b6c\", \"xaxis\": \"x26\", \"yaxis\": \"y6\"}, {\"line\": {\"color\": \"gray\", \"shape\": \"spline\", \"width\": 3}, \"mode\": \"lines\", \"x\": [1, 2, 3, 4, 5, 6, 7], \"y\": [0.07185578359124661, 0.13864492108344612, 0.16100379332347023, 0.15654295710950153, 0.12406201137295872, 0.20754597914723844, 0.14034455437213836], \"type\": \"scatter\", \"uid\": \"fbef5493-04e9-4004-be20-6869c4246e9e\", \"xaxis\": \"x26\", \"yaxis\": \"y6\"}, {\"marker\": {\"color\": [\"rgb(5,48,97)\", \"rgb(5,48,97)\", \"rgb(5,48,97)\", \"rgb(5,48,97)\", \"rgb(5,48,97)\", \"rgb(5,48,97)\", \"rgb(5,48,97)\"]}, \"x\": [1, 2, 3, 4, 5, 6, 7], \"y\": [0.049637266132111495, 0.2699503627338679, 0.2745322642229859, 0.293241695303551, 0.08476517754868271, 0.022145857197403588, 0.0057273768613974796], \"type\": \"bar\", \"uid\": \"9b70edd0-e7c0-4e0d-9776-cde96e4f1ca6\", \"xaxis\": \"x27\", \"yaxis\": \"y6\"}, {\"line\": {\"color\": \"gray\", \"shape\": \"spline\", \"width\": 3}, \"mode\": \"lines\", \"x\": [1, 2, 3, 4, 5, 6, 7], \"y\": [0.07185578359124661, 0.13864492108344612, 0.16100379332347023, 0.15654295710950153, 0.12406201137295872, 0.20754597914723844, 0.14034455437213836], \"type\": \"scatter\", \"uid\": \"a28a1d02-375c-413e-b631-10dcd58a567c\", \"xaxis\": \"x27\", \"yaxis\": \"y6\"}, {\"marker\": {\"color\": [\"rgb(33,102,172)\", \"rgb(33,102,172)\", \"rgb(33,102,172)\", \"rgb(33,102,172)\", \"rgb(33,102,172)\", \"rgb(33,102,172)\", \"rgb(33,102,172)\"]}, \"x\": [1, 2, 3, 4, 5, 6, 7], \"y\": [0.1620016963528414, 0.4257845631891433, 0.12044105173876166, 0.1594571670907549, 0.07463952502120441, 0.043256997455470736, 0.01441899915182358], \"type\": \"bar\", \"uid\": \"35903cf7-369a-43e1-80c1-3f76720adbc1\", \"xaxis\": \"x28\", \"yaxis\": \"y6\"}, {\"line\": {\"color\": \"gray\", \"shape\": \"spline\", \"width\": 3}, \"mode\": \"lines\", \"x\": [1, 2, 3, 4, 5, 6, 7], \"y\": [0.07185578359124661, 0.13864492108344612, 0.16100379332347023, 0.15654295710950153, 0.12406201137295872, 0.20754597914723844, 0.14034455437213836], \"type\": \"scatter\", \"uid\": \"de2db184-669e-429e-b0ba-a501da33f066\", \"xaxis\": \"x28\", \"yaxis\": \"y6\"}, {\"marker\": {\"color\": [\"rgb(244,165,130)\", \"rgb(244,165,130)\", \"rgb(244,165,130)\", \"rgb(244,165,130)\", \"rgb(244,165,130)\", \"rgb(244,165,130)\", \"rgb(244,165,130)\"]}, \"x\": [1, 2, 3, 4, 5, 6, 7], \"y\": [0.039634146341463415, 0.18445121951219512, 0.3003048780487805, 0.35365853658536583, 0.08231707317073171, 0.0350609756097561, 0.004573170731707317], \"type\": \"bar\", \"uid\": \"2e43378f-7363-41fd-a7f9-0515afbac60f\", \"xaxis\": \"x29\", \"yaxis\": \"y6\"}, {\"line\": {\"color\": \"gray\", \"shape\": \"spline\", \"width\": 3}, \"mode\": \"lines\", \"x\": [1, 2, 3, 4, 5, 6, 7], \"y\": [0.07185578359124661, 0.13864492108344612, 0.16100379332347023, 0.15654295710950153, 0.12406201137295872, 0.20754597914723844, 0.14034455437213836], \"type\": \"scatter\", \"uid\": \"e84a2f2d-586d-4282-81c0-26ec5adc6fcf\", \"xaxis\": \"x29\", \"yaxis\": \"y6\"}, {\"marker\": {\"color\": [\"rgb(178,24,43)\", \"rgb(178,24,43)\", \"rgb(178,24,43)\", \"rgb(178,24,43)\", \"rgb(178,24,43)\", \"rgb(178,24,43)\", \"rgb(178,24,43)\"]}, \"x\": [1, 2, 3, 4, 5, 6, 7], \"y\": [0.19385140905209222, 0.2852263023057216, 0.07771135781383433, 0.13236549957301452, 0.2553373185311699, 0.04782237403928266, 0.007685738684884714], \"type\": \"bar\", \"uid\": \"38a01fdf-5833-4e86-bdec-e7fc9a62489c\", \"xaxis\": \"x30\", \"yaxis\": \"y6\"}, {\"line\": {\"color\": \"gray\", \"shape\": \"spline\", \"width\": 3}, \"mode\": \"lines\", \"x\": [1, 2, 3, 4, 5, 6, 7], \"y\": [0.07185578359124661, 0.13864492108344612, 0.16100379332347023, 0.15654295710950153, 0.12406201137295872, 0.20754597914723844, 0.14034455437213836], \"type\": \"scatter\", \"uid\": \"55088e91-5bb9-4127-aa57-9359105df00e\", \"xaxis\": \"x30\", \"yaxis\": \"y6\"}, {\"marker\": {\"color\": [\"rgb(214,96,77)\", \"rgb(214,96,77)\", \"rgb(214,96,77)\", \"rgb(214,96,77)\", \"rgb(214,96,77)\", \"rgb(214,96,77)\", \"rgb(214,96,77)\"]}, \"x\": [1, 2, 3, 4, 5, 6, 7], \"y\": [0.04093567251461988, 0.15789473684210525, 0.4619883040935672, 0.20857699805068225, 0.04873294346978557, 0.011695906432748537, 0.07017543859649122], \"type\": \"bar\", \"uid\": \"e37cb29f-3525-4c0f-a053-9295cf3aebef\", \"xaxis\": \"x31\", \"yaxis\": \"y7\"}, {\"line\": {\"color\": \"gray\", \"shape\": \"spline\", \"width\": 3}, \"mode\": \"lines\", \"x\": [1, 2, 3, 4, 5, 6, 7], \"y\": [0.07185578359124661, 0.13864492108344612, 0.16100379332347023, 0.15654295710950153, 0.12406201137295872, 0.20754597914723844, 0.14034455437213836], \"type\": \"scatter\", \"uid\": \"1a1a62cb-4bd2-474a-87cc-c567e9619b04\", \"xaxis\": \"x31\", \"yaxis\": \"y7\"}, {\"marker\": {\"color\": [\"rgb(5,48,97)\", \"rgb(5,48,97)\", \"rgb(5,48,97)\", \"rgb(5,48,97)\", \"rgb(5,48,97)\", \"rgb(5,48,97)\", \"rgb(5,48,97)\"]}, \"x\": [1, 2, 3, 4, 5, 6, 7], \"y\": [0.19383259911894274, 0.1196769456681351, 0.3832599118942731, 0.16666666666666666, 0.08957415565345081, 0.041116005873715125, 0.005873715124816446], \"type\": \"bar\", \"uid\": \"38b2c5db-9028-4956-a44d-474db0983d39\", \"xaxis\": \"x32\", \"yaxis\": \"y7\"}, {\"line\": {\"color\": \"gray\", \"shape\": \"spline\", \"width\": 3}, \"mode\": \"lines\", \"x\": [1, 2, 3, 4, 5, 6, 7], \"y\": [0.07185578359124661, 0.13864492108344612, 0.16100379332347023, 0.15654295710950153, 0.12406201137295872, 0.20754597914723844, 0.14034455437213836], \"type\": \"scatter\", \"uid\": \"96921b24-6a31-4337-bbf7-68b4cb30d4c4\", \"xaxis\": \"x32\", \"yaxis\": \"y7\"}, {\"marker\": {\"color\": [\"rgb(33,102,172)\", \"rgb(33,102,172)\", \"rgb(33,102,172)\", \"rgb(33,102,172)\", \"rgb(33,102,172)\", \"rgb(33,102,172)\", \"rgb(33,102,172)\"]}, \"x\": [1, 2, 3, 4, 5, 6, 7], \"y\": [0.13368983957219252, 0.303475935828877, 0.268048128342246, 0.14872994652406418, 0.05949197860962567, 0.0, 0.08656417112299465], \"type\": \"bar\", \"uid\": \"a2edd7fa-9b07-406e-8b61-f048325db961\", \"xaxis\": \"x33\", \"yaxis\": \"y7\"}, {\"line\": {\"color\": \"gray\", \"shape\": \"spline\", \"width\": 3}, \"mode\": \"lines\", \"x\": [1, 2, 3, 4, 5, 6, 7], \"y\": [0.07185578359124661, 0.13864492108344612, 0.16100379332347023, 0.15654295710950153, 0.12406201137295872, 0.20754597914723844, 0.14034455437213836], \"type\": \"scatter\", \"uid\": \"bf3da9fd-f482-4b0e-9aee-eaeccd58e077\", \"xaxis\": \"x33\", \"yaxis\": \"y7\"}, {\"marker\": {\"color\": [\"rgb(244,165,130)\", \"rgb(244,165,130)\", \"rgb(244,165,130)\", \"rgb(244,165,130)\", \"rgb(244,165,130)\", \"rgb(244,165,130)\", \"rgb(244,165,130)\"]}, \"x\": [1, 2, 3, 4, 5, 6, 7], \"y\": [0.16801553900938815, 0.18646811265781807, 0.18646811265781807, 0.1349951440595662, 0.2829394626092587, 0.041113629006150856, 0.0], \"type\": \"bar\", \"uid\": \"0e686552-589c-4907-873b-a81ed73ef64b\", \"xaxis\": \"x34\", \"yaxis\": \"y7\"}, {\"line\": {\"color\": \"gray\", \"shape\": \"spline\", \"width\": 3}, \"mode\": \"lines\", \"x\": [1, 2, 3, 4, 5, 6, 7], \"y\": [0.07185578359124661, 0.13864492108344612, 0.16100379332347023, 0.15654295710950153, 0.12406201137295872, 0.20754597914723844, 0.14034455437213836], \"type\": \"scatter\", \"uid\": \"8ec6aaed-b0ea-4281-8098-6d589114bdbf\", \"xaxis\": \"x34\", \"yaxis\": \"y7\"}, {\"marker\": {\"color\": [\"rgb(178,24,43)\", \"rgb(178,24,43)\", \"rgb(178,24,43)\", \"rgb(178,24,43)\", \"rgb(178,24,43)\", \"rgb(178,24,43)\", \"rgb(178,24,43)\"]}, \"x\": [1, 2, 3, 4, 5, 6, 7], \"y\": [0.048748353096179184, 0.3820816864295125, 0.17654808959156784, 0.2437417654808959, 0.08827404479578392, 0.06060606060606061, 0.0], \"type\": \"bar\", \"uid\": \"58a872f4-56ef-4a1f-bd30-7b95267c0635\", \"xaxis\": \"x35\", \"yaxis\": \"y7\"}, {\"line\": {\"color\": \"gray\", \"shape\": \"spline\", \"width\": 3}, \"mode\": \"lines\", \"x\": [1, 2, 3, 4, 5, 6, 7], \"y\": [0.07185578359124661, 0.13864492108344612, 0.16100379332347023, 0.15654295710950153, 0.12406201137295872, 0.20754597914723844, 0.14034455437213836], \"type\": \"scatter\", \"uid\": \"07e38a6b-602b-44b4-a602-455f8ee54a98\", \"xaxis\": \"x35\", \"yaxis\": \"y7\"}, {\"marker\": {\"color\": [\"rgb(214,96,77)\", \"rgb(214,96,77)\", \"rgb(214,96,77)\", \"rgb(214,96,77)\", \"rgb(214,96,77)\", \"rgb(214,96,77)\", \"rgb(214,96,77)\"]}, \"x\": [1, 2, 3, 4, 5, 6, 7], \"y\": [0.14420358152686144, 0.3110273327049953, 0.2582469368520264, 0.18661639962299717, 0.05655042412818096, 0.03581526861451461, 0.007540056550424128], \"type\": \"bar\", \"uid\": \"dec835e7-ea02-42cd-9fe0-91b255543bce\", \"xaxis\": \"x36\", \"yaxis\": \"y8\"}, {\"line\": {\"color\": \"gray\", \"shape\": \"spline\", \"width\": 3}, \"mode\": \"lines\", \"x\": [1, 2, 3, 4, 5, 6, 7], \"y\": [0.07185578359124661, 0.13864492108344612, 0.16100379332347023, 0.15654295710950153, 0.12406201137295872, 0.20754597914723844, 0.14034455437213836], \"type\": \"scatter\", \"uid\": \"1bc75df9-7d82-4e14-b106-febf35eb1c28\", \"xaxis\": \"x36\", \"yaxis\": \"y8\"}, {\"marker\": {\"color\": [\"rgb(5,48,97)\", \"rgb(5,48,97)\", \"rgb(5,48,97)\", \"rgb(5,48,97)\", \"rgb(5,48,97)\", \"rgb(5,48,97)\", \"rgb(5,48,97)\"]}, \"x\": [1, 2, 3, 4, 5, 6, 7], \"y\": [0.00792393026941363, 0.021394611727416798, 0.04754358161648178, 0.08240887480190175, 0.07210776545166403, 0.4635499207606973, 0.3050713153724247], \"type\": \"bar\", \"uid\": \"4ffa7f7b-c715-423e-9399-4127dbaaef75\", \"xaxis\": \"x37\", \"yaxis\": \"y8\"}, {\"line\": {\"color\": \"gray\", \"shape\": \"spline\", \"width\": 3}, \"mode\": \"lines\", \"x\": [1, 2, 3, 4, 5, 6, 7], \"y\": [0.07185578359124661, 0.13864492108344612, 0.16100379332347023, 0.15654295710950153, 0.12406201137295872, 0.20754597914723844, 0.14034455437213836], \"type\": \"scatter\", \"uid\": \"2e172cf0-4347-44ed-9ddb-1da23586a15e\", \"xaxis\": \"x37\", \"yaxis\": \"y8\"}, {\"marker\": {\"color\": [\"rgb(33,102,172)\", \"rgb(33,102,172)\", \"rgb(33,102,172)\", \"rgb(33,102,172)\", \"rgb(33,102,172)\", \"rgb(33,102,172)\", \"rgb(33,102,172)\"]}, \"x\": [1, 2, 3, 4, 5, 6, 7], \"y\": [0.17459343356857931, 0.3249463025467935, 0.21264191469776006, 0.04326480515495551, 0.16078551702976374, 0.016876342436330162, 0.06689168456581773], \"type\": \"bar\", \"uid\": \"a4a8718c-f7ef-4373-a3e8-11386c94d273\", \"xaxis\": \"x38\", \"yaxis\": \"y8\"}, {\"line\": {\"color\": \"gray\", \"shape\": \"spline\", \"width\": 3}, \"mode\": \"lines\", \"x\": [1, 2, 3, 4, 5, 6, 7], \"y\": [0.07185578359124661, 0.13864492108344612, 0.16100379332347023, 0.15654295710950153, 0.12406201137295872, 0.20754597914723844, 0.14034455437213836], \"type\": \"scatter\", \"uid\": \"4f79d406-ec99-410e-be2e-1d11fd8a36ab\", \"xaxis\": \"x38\", \"yaxis\": \"y8\"}, {\"marker\": {\"color\": [\"rgb(244,165,130)\", \"rgb(244,165,130)\", \"rgb(244,165,130)\", \"rgb(244,165,130)\", \"rgb(244,165,130)\", \"rgb(244,165,130)\", \"rgb(244,165,130)\"]}, \"x\": [1, 2, 3, 4, 5, 6, 7], \"y\": [0.14636449480642116, 0.13471828769279195, 0.22505508341202393, 0.37740006295247086, 0.027384324834749764, 0.08593012275731822, 0.0031476235442241107], \"type\": \"bar\", \"uid\": \"92fa5991-94f7-4be4-a694-0c5295aa5f5a\", \"xaxis\": \"x39\", \"yaxis\": \"y8\"}, {\"line\": {\"color\": \"gray\", \"shape\": \"spline\", \"width\": 3}, \"mode\": \"lines\", \"x\": [1, 2, 3, 4, 5, 6, 7], \"y\": [0.07185578359124661, 0.13864492108344612, 0.16100379332347023, 0.15654295710950153, 0.12406201137295872, 0.20754597914723844, 0.14034455437213836], \"type\": \"scatter\", \"uid\": \"67feaab7-40a3-402f-9b01-23adf984b8bd\", \"xaxis\": \"x39\", \"yaxis\": \"y8\"}, {\"marker\": {\"color\": [\"rgb(178,24,43)\", \"rgb(178,24,43)\", \"rgb(178,24,43)\", \"rgb(178,24,43)\", \"rgb(178,24,43)\", \"rgb(178,24,43)\", \"rgb(178,24,43)\"]}, \"x\": [1, 2, 3, 4, 5, 6, 7], \"y\": [0.05547976352887676, 0.37016825829922695, 0.21418826739427013, 0.22419281491587084, 0.07821737153251478, 0.05593451568894952, 0.0018190086402910413], \"type\": \"bar\", \"uid\": \"b3f0291d-40e6-42d8-9b4f-52dbc6837f59\", \"xaxis\": \"x40\", \"yaxis\": \"y8\"}, {\"line\": {\"color\": \"gray\", \"shape\": \"spline\", \"width\": 3}, \"mode\": \"lines\", \"x\": [1, 2, 3, 4, 5, 6, 7], \"y\": [0.07185578359124661, 0.13864492108344612, 0.16100379332347023, 0.15654295710950153, 0.12406201137295872, 0.20754597914723844, 0.14034455437213836], \"type\": \"scatter\", \"uid\": \"5cf4c0bd-4072-45b2-8518-28900d97d5c1\", \"xaxis\": \"x40\", \"yaxis\": \"y8\"}, {\"marker\": {\"color\": [\"rgb(214,96,77)\", \"rgb(214,96,77)\", \"rgb(214,96,77)\", \"rgb(214,96,77)\", \"rgb(214,96,77)\", \"rgb(214,96,77)\", \"rgb(214,96,77)\"]}, \"x\": [1, 2, 3, 4, 5, 6, 7], \"y\": [0.0910981697171381, 0.189891846921797, 0.3257071547420965, 0.26955074875207985, 0.07612312811980033, 0.047628951747088186, 0.0], \"type\": \"bar\", \"uid\": \"a625e273-4a20-40ff-8aa0-4a1bebfac3a5\", \"xaxis\": \"x41\", \"yaxis\": \"y9\"}, {\"line\": {\"color\": \"gray\", \"shape\": \"spline\", \"width\": 3}, \"mode\": \"lines\", \"x\": [1, 2, 3, 4, 5, 6, 7], \"y\": [0.07185578359124661, 0.13864492108344612, 0.16100379332347023, 0.15654295710950153, 0.12406201137295872, 0.20754597914723844, 0.14034455437213836], \"type\": \"scatter\", \"uid\": \"4e524db5-4a4f-4a5e-83d4-1c8b2a8583cf\", \"xaxis\": \"x41\", \"yaxis\": \"y9\"}, {\"marker\": {\"color\": [\"rgb(5,48,97)\", \"rgb(5,48,97)\", \"rgb(5,48,97)\", \"rgb(5,48,97)\", \"rgb(5,48,97)\", \"rgb(5,48,97)\", \"rgb(5,48,97)\"]}, \"x\": [1, 2, 3, 4, 5, 6, 7], \"y\": [0.06526228831061545, 0.29574555968608013, 0.2610491532424618, 0.23833126807104502, 0.09417596034696406, 0.04543577034283354, 0.0], \"type\": \"bar\", \"uid\": \"f778a7e0-5b1b-45f5-baa2-01eb6fa16522\", \"xaxis\": \"x42\", \"yaxis\": \"y9\"}, {\"line\": {\"color\": \"gray\", \"shape\": \"spline\", \"width\": 3}, \"mode\": \"lines\", \"x\": [1, 2, 3, 4, 5, 6, 7], \"y\": [0.07185578359124661, 0.13864492108344612, 0.16100379332347023, 0.15654295710950153, 0.12406201137295872, 0.20754597914723844, 0.14034455437213836], \"type\": \"scatter\", \"uid\": \"d3cbd17e-5adc-4c36-b57b-b0a1477ad774\", \"xaxis\": \"x42\", \"yaxis\": \"y9\"}, {\"marker\": {\"color\": [\"rgb(33,102,172)\", \"rgb(33,102,172)\", \"rgb(33,102,172)\", \"rgb(33,102,172)\", \"rgb(33,102,172)\", \"rgb(33,102,172)\", \"rgb(33,102,172)\"]}, \"x\": [1, 2, 3, 4, 5, 6, 7], \"y\": [0.17111077251257048, 0.20006094773731525, 0.2259637360962974, 0.28614962669510896, 0.07054700594240439, 0.04342526283711717, 0.0027426481791863475], \"type\": \"bar\", \"uid\": \"556c8071-2c36-42f8-a0e9-1698a1b4bbdf\", \"xaxis\": \"x43\", \"yaxis\": \"y9\"}, {\"line\": {\"color\": \"gray\", \"shape\": \"spline\", \"width\": 3}, \"mode\": \"lines\", \"x\": [1, 2, 3, 4, 5, 6, 7], \"y\": [0.07185578359124661, 0.13864492108344612, 0.16100379332347023, 0.15654295710950153, 0.12406201137295872, 0.20754597914723844, 0.14034455437213836], \"type\": \"scatter\", \"uid\": \"c1f3bacb-acb0-4e84-81d7-89d1f16d7884\", \"xaxis\": \"x43\", \"yaxis\": \"y9\"}, {\"marker\": {\"color\": [\"rgb(244,165,130)\", \"rgb(244,165,130)\", \"rgb(244,165,130)\", \"rgb(244,165,130)\", \"rgb(244,165,130)\", \"rgb(244,165,130)\", \"rgb(244,165,130)\"]}, \"x\": [1, 2, 3, 4, 5, 6, 7], \"y\": [0.07678286625655047, 0.16336295283663704, 0.24743677375256323, 0.3595352016404648, 0.1114149008885851, 0.038049669628617, 0.003417634996582365], \"type\": \"bar\", \"uid\": \"27293ce0-a84c-45e8-a432-94e74bf768b1\", \"xaxis\": \"x44\", \"yaxis\": \"y9\"}, {\"line\": {\"color\": \"gray\", \"shape\": \"spline\", \"width\": 3}, \"mode\": \"lines\", \"x\": [1, 2, 3, 4, 5, 6, 7], \"y\": [0.07185578359124661, 0.13864492108344612, 0.16100379332347023, 0.15654295710950153, 0.12406201137295872, 0.20754597914723844, 0.14034455437213836], \"type\": \"scatter\", \"uid\": \"c827803a-ff3e-4118-baca-248a21b941d1\", \"xaxis\": \"x44\", \"yaxis\": \"y9\"}, {\"marker\": {\"color\": [\"rgb(178,24,43)\", \"rgb(178,24,43)\", \"rgb(178,24,43)\", \"rgb(178,24,43)\", \"rgb(178,24,43)\", \"rgb(178,24,43)\", \"rgb(178,24,43)\"]}, \"x\": [1, 2, 3, 4, 5, 6, 7], \"y\": [0.024369747899159664, 0.18403361344537816, 0.3899159663865546, 0.22268907563025211, 0.12941176470588237, 0.02100840336134454, 0.02857142857142857], \"type\": \"bar\", \"uid\": \"26500973-9f36-4255-89c8-32d237a81142\", \"xaxis\": \"x45\", \"yaxis\": \"y9\"}, {\"line\": {\"color\": \"gray\", \"shape\": \"spline\", \"width\": 3}, \"mode\": \"lines\", \"x\": [1, 2, 3, 4, 5, 6, 7], \"y\": [0.07185578359124661, 0.13864492108344612, 0.16100379332347023, 0.15654295710950153, 0.12406201137295872, 0.20754597914723844, 0.14034455437213836], \"type\": \"scatter\", \"uid\": \"8d6b920c-abb2-4abd-bed2-7cc2c52a0cc2\", \"xaxis\": \"x45\", \"yaxis\": \"y9\"}, {\"marker\": {\"color\": [\"rgb(214,96,77)\", \"rgb(214,96,77)\", \"rgb(214,96,77)\", \"rgb(214,96,77)\", \"rgb(214,96,77)\", \"rgb(214,96,77)\", \"rgb(214,96,77)\"]}, \"x\": [1, 2, 3, 4, 5, 6, 7], \"y\": [0.1342957130358705, 0.25065616797900264, 0.21303587051618547, 0.2755905511811024, 0.07961504811898512, 0.04505686789151356, 0.0017497812773403325], \"type\": \"bar\", \"uid\": \"b14ae2c0-176f-4ef1-8e6e-c18556676d2a\", \"xaxis\": \"x46\", \"yaxis\": \"y10\"}, {\"line\": {\"color\": \"gray\", \"shape\": \"spline\", \"width\": 3}, \"mode\": \"lines\", \"x\": [1, 2, 3, 4, 5, 6, 7], \"y\": [0.07185578359124661, 0.13864492108344612, 0.16100379332347023, 0.15654295710950153, 0.12406201137295872, 0.20754597914723844, 0.14034455437213836], \"type\": \"scatter\", \"uid\": \"21d29ac6-54ec-4fa2-89aa-5bcc40652e15\", \"xaxis\": \"x46\", \"yaxis\": \"y10\"}, {\"marker\": {\"color\": [\"rgb(5,48,97)\", \"rgb(5,48,97)\", \"rgb(5,48,97)\", \"rgb(5,48,97)\", \"rgb(5,48,97)\", \"rgb(5,48,97)\", \"rgb(5,48,97)\"]}, \"x\": [1, 2, 3, 4, 5, 6, 7], \"y\": [0.1985136251032205, 0.23649876135425268, 0.212056151940545, 0.2184971098265896, 0.08257638315441784, 0.04888521882741536, 0.002972749793559042], \"type\": \"bar\", \"uid\": \"f3fd9cff-0cff-4952-b4ce-366c888a860b\", \"xaxis\": \"x47\", \"yaxis\": \"y10\"}, {\"line\": {\"color\": \"gray\", \"shape\": \"spline\", \"width\": 3}, \"mode\": \"lines\", \"x\": [1, 2, 3, 4, 5, 6, 7], \"y\": [0.07185578359124661, 0.13864492108344612, 0.16100379332347023, 0.15654295710950153, 0.12406201137295872, 0.20754597914723844, 0.14034455437213836], \"type\": \"scatter\", \"uid\": \"83ef7087-3c5f-4d9d-a57b-e48a5436df4e\", \"xaxis\": \"x47\", \"yaxis\": \"y10\"}, {\"marker\": {\"color\": [\"rgb(33,102,172)\", \"rgb(33,102,172)\", \"rgb(33,102,172)\", \"rgb(33,102,172)\", \"rgb(33,102,172)\", \"rgb(33,102,172)\", \"rgb(33,102,172)\"]}, \"x\": [1, 2, 3, 4, 5, 6, 7], \"y\": [0.04226475279106858, 0.2751196172248804, 0.2535885167464115, 0.2631578947368421, 0.11004784688995216, 0.05502392344497608, 0.0007974481658692185], \"type\": \"bar\", \"uid\": \"9cc66478-0872-462d-9890-191d12d67c3d\", \"xaxis\": \"x48\", \"yaxis\": \"y10\"}, {\"line\": {\"color\": \"gray\", \"shape\": \"spline\", \"width\": 3}, \"mode\": \"lines\", \"x\": [1, 2, 3, 4, 5, 6, 7], \"y\": [0.07185578359124661, 0.13864492108344612, 0.16100379332347023, 0.15654295710950153, 0.12406201137295872, 0.20754597914723844, 0.14034455437213836], \"type\": \"scatter\", \"uid\": \"a04d7867-c2e6-4248-8d73-b28b0d845572\", \"xaxis\": \"x48\", \"yaxis\": \"y10\"}, {\"marker\": {\"color\": [\"rgb(244,165,130)\", \"rgb(244,165,130)\", \"rgb(244,165,130)\", \"rgb(244,165,130)\", \"rgb(244,165,130)\", \"rgb(244,165,130)\", \"rgb(244,165,130)\"]}, \"x\": [1, 2, 3, 4, 5, 6, 7], \"y\": [0.1493680582152432, 0.22826503255457678, 0.3086939869781693, 0.20834929145921102, 0.04825737265415549, 0.045576407506702415, 0.011489850631941785], \"type\": \"bar\", \"uid\": \"69e0f067-dbb9-4084-ba3d-367f64408ac0\", \"xaxis\": \"x49\", \"yaxis\": \"y10\"}, {\"line\": {\"color\": \"gray\", \"shape\": \"spline\", \"width\": 3}, \"mode\": \"lines\", \"x\": [1, 2, 3, 4, 5, 6, 7], \"y\": [0.07185578359124661, 0.13864492108344612, 0.16100379332347023, 0.15654295710950153, 0.12406201137295872, 0.20754597914723844, 0.14034455437213836], \"type\": \"scatter\", \"uid\": \"cda019b9-1e90-4461-a05f-489177e6a1bc\", \"xaxis\": \"x49\", \"yaxis\": \"y10\"}, {\"marker\": {\"color\": [\"rgb(178,24,43)\", \"rgb(178,24,43)\", \"rgb(178,24,43)\", \"rgb(178,24,43)\", \"rgb(178,24,43)\", \"rgb(178,24,43)\", \"rgb(178,24,43)\"]}, \"x\": [1, 2, 3, 4, 5, 6, 7], \"y\": [0.07318992654774396, 0.1558237145855194, 0.2867261280167891, 0.3273871983210913, 0.11267051416579224, 0.037644281217208815, 0.006558237145855194], \"type\": \"bar\", \"uid\": \"d702436e-d8d9-4cd0-a63c-7318f0c423af\", \"xaxis\": \"x50\", \"yaxis\": \"y10\"}, {\"line\": {\"color\": \"gray\", \"shape\": \"spline\", \"width\": 3}, \"mode\": \"lines\", \"x\": [1, 2, 3, 4, 5, 6, 7], \"y\": [0.07185578359124661, 0.13864492108344612, 0.16100379332347023, 0.15654295710950153, 0.12406201137295872, 0.20754597914723844, 0.14034455437213836], \"type\": \"scatter\", \"uid\": \"f63dd859-fb25-4b48-817e-393ec4e6ca96\", \"xaxis\": \"x50\", \"yaxis\": \"y10\"}, {\"marker\": {\"color\": [\"rgb(214,96,77)\", \"rgb(214,96,77)\", \"rgb(214,96,77)\", \"rgb(214,96,77)\", \"rgb(214,96,77)\", \"rgb(214,96,77)\", \"rgb(214,96,77)\"]}, \"x\": [1, 2, 3, 4, 5, 6, 7], \"y\": [0.17731015553522414, 0.210064043915828, 0.21884720951509606, 0.2585544373284538, 0.08142726440988106, 0.05141811527904849, 0.0023787740164684353], \"type\": \"bar\", \"uid\": \"07a6ce6e-716e-4592-9309-9830395344bb\", \"xaxis\": \"x51\", \"yaxis\": \"y11\"}, {\"line\": {\"color\": \"gray\", \"shape\": \"spline\", \"width\": 3}, \"mode\": \"lines\", \"x\": [1, 2, 3, 4, 5, 6, 7], \"y\": [0.07185578359124661, 0.13864492108344612, 0.16100379332347023, 0.15654295710950153, 0.12406201137295872, 0.20754597914723844, 0.14034455437213836], \"type\": \"scatter\", \"uid\": \"f3d4331c-d214-4cc4-9e2d-c1cd2a55930c\", \"xaxis\": \"x51\", \"yaxis\": \"y11\"}, {\"marker\": {\"color\": [\"rgb(5,48,97)\", \"rgb(5,48,97)\", \"rgb(5,48,97)\", \"rgb(5,48,97)\", \"rgb(5,48,97)\", \"rgb(5,48,97)\", \"rgb(5,48,97)\"]}, \"x\": [1, 2, 3, 4, 5, 6, 7], \"y\": [0.0818686401480111, 0.20074005550416282, 0.2664199814986124, 0.28538390379278444, 0.11748381128584644, 0.04810360777058279, 0.0], \"type\": \"bar\", \"uid\": \"50cbc938-fc8c-450a-b72b-e9310ee30e7c\", \"xaxis\": \"x52\", \"yaxis\": \"y11\"}, {\"line\": {\"color\": \"gray\", \"shape\": \"spline\", \"width\": 3}, \"mode\": \"lines\", \"x\": [1, 2, 3, 4, 5, 6, 7], \"y\": [0.07185578359124661, 0.13864492108344612, 0.16100379332347023, 0.15654295710950153, 0.12406201137295872, 0.20754597914723844, 0.14034455437213836], \"type\": \"scatter\", \"uid\": \"d06e898b-29c6-4bd4-abdb-567a051a018b\", \"xaxis\": \"x52\", \"yaxis\": \"y11\"}, {\"marker\": {\"color\": [\"rgb(33,102,172)\", \"rgb(33,102,172)\", \"rgb(33,102,172)\", \"rgb(33,102,172)\", \"rgb(33,102,172)\", \"rgb(33,102,172)\", \"rgb(33,102,172)\"]}, \"x\": [1, 2, 3, 4, 5, 6, 7], \"y\": [0.07104557640750671, 0.32497127537342013, 0.2525852163921869, 0.22788203753351208, 0.05132133282267331, 0.06798161623898889, 0.004212945231711987], \"type\": \"bar\", \"uid\": \"10ce4846-d87c-4032-a938-a57f061a3643\", \"xaxis\": \"x53\", \"yaxis\": \"y11\"}, {\"line\": {\"color\": \"gray\", \"shape\": \"spline\", \"width\": 3}, \"mode\": \"lines\", \"x\": [1, 2, 3, 4, 5, 6, 7], \"y\": [0.07185578359124661, 0.13864492108344612, 0.16100379332347023, 0.15654295710950153, 0.12406201137295872, 0.20754597914723844, 0.14034455437213836], \"type\": \"scatter\", \"uid\": \"34487296-630f-4413-91c3-287be2f9dbbf\", \"xaxis\": \"x53\", \"yaxis\": \"y11\"}, {\"marker\": {\"color\": [\"rgb(244,165,130)\", \"rgb(244,165,130)\", \"rgb(244,165,130)\", \"rgb(244,165,130)\", \"rgb(244,165,130)\", \"rgb(244,165,130)\", \"rgb(244,165,130)\"]}, \"x\": [1, 2, 3, 4, 5, 6, 7], \"y\": [0.20703125, 0.3314732142857143, 0.15736607142857142, 0.12555803571428573, 0.07477678571428571, 0.1015625, 0.002232142857142857], \"type\": \"bar\", \"uid\": \"b95546ce-1e7d-4944-bfc3-6f0c6a8aaea1\", \"xaxis\": \"x54\", \"yaxis\": \"y11\"}, {\"line\": {\"color\": \"gray\", \"shape\": \"spline\", \"width\": 3}, \"mode\": \"lines\", \"x\": [1, 2, 3, 4, 5, 6, 7], \"y\": [0.07185578359124661, 0.13864492108344612, 0.16100379332347023, 0.15654295710950153, 0.12406201137295872, 0.20754597914723844, 0.14034455437213836], \"type\": \"scatter\", \"uid\": \"8ea87721-9d42-452d-9549-1b4b82e59a49\", \"xaxis\": \"x54\", \"yaxis\": \"y11\"}, {\"marker\": {\"color\": [\"rgb(178,24,43)\", \"rgb(178,24,43)\", \"rgb(178,24,43)\", \"rgb(178,24,43)\", \"rgb(178,24,43)\", \"rgb(178,24,43)\", \"rgb(178,24,43)\"]}, \"x\": [1, 2, 3, 4, 5, 6, 7], \"y\": [0.06627680311890838, 0.24171539961013644, 0.4191033138401559, 0.1267056530214425, 0.030214424951267055, 0.10331384015594541, 0.012670565302144249], \"type\": \"bar\", \"uid\": \"6f919177-9fd1-4086-be58-93c48c5a7ec0\", \"xaxis\": \"x55\", \"yaxis\": \"y11\"}, {\"line\": {\"color\": \"gray\", \"shape\": \"spline\", \"width\": 3}, \"mode\": \"lines\", \"x\": [1, 2, 3, 4, 5, 6, 7], \"y\": [0.07185578359124661, 0.13864492108344612, 0.16100379332347023, 0.15654295710950153, 0.12406201137295872, 0.20754597914723844, 0.14034455437213836], \"type\": \"scatter\", \"uid\": \"28a92759-bae2-4146-8ec5-248a728b67ec\", \"xaxis\": \"x55\", \"yaxis\": \"y11\"}, {\"marker\": {\"color\": [\"rgb(214,96,77)\", \"rgb(214,96,77)\", \"rgb(214,96,77)\", \"rgb(214,96,77)\", \"rgb(214,96,77)\", \"rgb(214,96,77)\", \"rgb(214,96,77)\"]}, \"x\": [1, 2, 3, 4, 5, 6, 7], \"y\": [0.08892238131122833, 0.2848530519969857, 0.28372268274302936, 0.17520723436322533, 0.11077618688771665, 0.05614167294649586, 0.00037678975131876413], \"type\": \"bar\", \"uid\": \"afa7a34a-e508-48f2-8f56-5c4a554d12ef\", \"xaxis\": \"x56\", \"yaxis\": \"y12\"}, {\"line\": {\"color\": \"gray\", \"shape\": \"spline\", \"width\": 3}, \"mode\": \"lines\", \"x\": [1, 2, 3, 4, 5, 6, 7], \"y\": [0.07185578359124661, 0.13864492108344612, 0.16100379332347023, 0.15654295710950153, 0.12406201137295872, 0.20754597914723844, 0.14034455437213836], \"type\": \"scatter\", \"uid\": \"a999ff38-5cc7-4c82-8ccc-0caffc8c78df\", \"xaxis\": \"x56\", \"yaxis\": \"y12\"}, {\"marker\": {\"color\": [\"rgb(5,48,97)\", \"rgb(5,48,97)\", \"rgb(5,48,97)\", \"rgb(5,48,97)\", \"rgb(5,48,97)\", \"rgb(5,48,97)\", \"rgb(5,48,97)\"]}, \"x\": [1, 2, 3, 4, 5, 6, 7], \"y\": [0.1645083932853717, 0.2225419664268585, 0.2081534772182254, 0.20047961630695443, 0.16354916067146283, 0.036930455635491605, 0.0038369304556354917], \"type\": \"bar\", \"uid\": \"454e1e86-cb55-4625-a40c-038ae2f40f0d\", \"xaxis\": \"x57\", \"yaxis\": \"y12\"}, {\"line\": {\"color\": \"gray\", \"shape\": \"spline\", \"width\": 3}, \"mode\": \"lines\", \"x\": [1, 2, 3, 4, 5, 6, 7], \"y\": [0.07185578359124661, 0.13864492108344612, 0.16100379332347023, 0.15654295710950153, 0.12406201137295872, 0.20754597914723844, 0.14034455437213836], \"type\": \"scatter\", \"uid\": \"68fad65f-3b0b-478d-b271-7f964b107cd4\", \"xaxis\": \"x57\", \"yaxis\": \"y12\"}, {\"marker\": {\"color\": [\"rgb(33,102,172)\", \"rgb(33,102,172)\", \"rgb(33,102,172)\", \"rgb(33,102,172)\", \"rgb(33,102,172)\", \"rgb(33,102,172)\", \"rgb(33,102,172)\"]}, \"x\": [1, 2, 3, 4, 5, 6, 7], \"y\": [0.02066115702479339, 0.03581267217630854, 0.040633608815427, 0.07644628099173553, 0.07782369146005509, 0.39118457300275483, 0.3574380165289256], \"type\": \"bar\", \"uid\": \"1caa9cc8-3118-44a0-a758-b2c1548aad0c\", \"xaxis\": \"x58\", \"yaxis\": \"y12\"}, {\"line\": {\"color\": \"gray\", \"shape\": \"spline\", \"width\": 3}, \"mode\": \"lines\", \"x\": [1, 2, 3, 4, 5, 6, 7], \"y\": [0.07185578359124661, 0.13864492108344612, 0.16100379332347023, 0.15654295710950153, 0.12406201137295872, 0.20754597914723844, 0.14034455437213836], \"type\": \"scatter\", \"uid\": \"fa7b6a2c-8181-4973-a560-8899d52e8c69\", \"xaxis\": \"x58\", \"yaxis\": \"y12\"}, {\"marker\": {\"color\": [\"rgb(244,165,130)\", \"rgb(244,165,130)\", \"rgb(244,165,130)\", \"rgb(244,165,130)\", \"rgb(244,165,130)\", \"rgb(244,165,130)\", \"rgb(244,165,130)\"]}, \"x\": [1, 2, 3, 4, 5, 6, 7], \"y\": [0.19886363636363635, 0.1903409090909091, 0.16856060606060605, 0.32670454545454547, 0.032196969696969696, 0.043560606060606064, 0.03977272727272727], \"type\": \"bar\", \"uid\": \"7c2af914-138d-470c-98c7-75e26187b506\", \"xaxis\": \"x59\", \"yaxis\": \"y12\"}, {\"line\": {\"color\": \"gray\", \"shape\": \"spline\", \"width\": 3}, \"mode\": \"lines\", \"x\": [1, 2, 3, 4, 5, 6, 7], \"y\": [0.07185578359124661, 0.13864492108344612, 0.16100379332347023, 0.15654295710950153, 0.12406201137295872, 0.20754597914723844, 0.14034455437213836], \"type\": \"scatter\", \"uid\": \"e5ee7a83-66af-434f-b54e-c68bf9cbebc5\", \"xaxis\": \"x59\", \"yaxis\": \"y12\"}, {\"marker\": {\"color\": [\"rgb(178,24,43)\", \"rgb(178,24,43)\", \"rgb(178,24,43)\", \"rgb(178,24,43)\", \"rgb(178,24,43)\", \"rgb(178,24,43)\", \"rgb(178,24,43)\"]}, \"x\": [1, 2, 3, 4, 5, 6, 7], \"y\": [0.08758837391987431, 0.26826394344069127, 0.2969363707776905, 0.2211311861743912, 0.028672427336999214, 0.09269442262372349, 0.004713275726630008], \"type\": \"bar\", \"uid\": \"746f3b3b-99c6-4322-8c37-f24f31ec3a83\", \"xaxis\": \"x60\", \"yaxis\": \"y12\"}, {\"line\": {\"color\": \"gray\", \"shape\": \"spline\", \"width\": 3}, \"mode\": \"lines\", \"x\": [1, 2, 3, 4, 5, 6, 7], \"y\": [0.07185578359124661, 0.13864492108344612, 0.16100379332347023, 0.15654295710950153, 0.12406201137295872, 0.20754597914723844, 0.14034455437213836], \"type\": \"scatter\", \"uid\": \"95224da4-3880-4749-b8fe-8a23d9cd2cd2\", \"xaxis\": \"x60\", \"yaxis\": \"y12\"}, {\"marker\": {\"color\": [\"rgb(214,96,77)\", \"rgb(214,96,77)\", \"rgb(214,96,77)\", \"rgb(214,96,77)\", \"rgb(214,96,77)\", \"rgb(214,96,77)\", \"rgb(214,96,77)\"]}, \"x\": [1, 2, 3, 4, 5, 6, 7], \"y\": [0.10866039571845605, 0.1222834901070386, 0.3172234836198508, 0.239701589361012, 0.157314304249108, 0.053843658773921506, 0.0009730781706130393], \"type\": \"bar\", \"uid\": \"99f20c30-0b3a-454c-bd24-8bc391cff472\", \"xaxis\": \"x61\", \"yaxis\": \"y13\"}, {\"line\": {\"color\": \"gray\", \"shape\": \"spline\", \"width\": 3}, \"mode\": \"lines\", \"x\": [1, 2, 3, 4, 5, 6, 7], \"y\": [0.07185578359124661, 0.13864492108344612, 0.16100379332347023, 0.15654295710950153, 0.12406201137295872, 0.20754597914723844, 0.14034455437213836], \"type\": \"scatter\", \"uid\": \"2fdda0f7-928d-45fc-addc-a1c66f87a105\", \"xaxis\": \"x61\", \"yaxis\": \"y13\"}, {\"marker\": {\"color\": [\"rgb(5,48,97)\", \"rgb(5,48,97)\", \"rgb(5,48,97)\", \"rgb(5,48,97)\", \"rgb(5,48,97)\", \"rgb(5,48,97)\", \"rgb(5,48,97)\"]}, \"x\": [1, 2, 3, 4, 5, 6, 7], \"y\": [0.01647058823529412, 0.03294117647058824, 0.05411764705882353, 0.07823529411764706, 0.06411764705882353, 0.4429411764705882, 0.3111764705882353], \"type\": \"bar\", \"uid\": \"3e13156e-a73a-44fd-9ca1-725e060adbe4\", \"xaxis\": \"x62\", \"yaxis\": \"y13\"}, {\"line\": {\"color\": \"gray\", \"shape\": \"spline\", \"width\": 3}, \"mode\": \"lines\", \"x\": [1, 2, 3, 4, 5, 6, 7], \"y\": [0.07185578359124661, 0.13864492108344612, 0.16100379332347023, 0.15654295710950153, 0.12406201137295872, 0.20754597914723844, 0.14034455437213836], \"type\": \"scatter\", \"uid\": \"c5cd8b1b-a40d-4f6c-a033-27e60e6bde41\", \"xaxis\": \"x62\", \"yaxis\": \"y13\"}, {\"marker\": {\"color\": [\"rgb(33,102,172)\", \"rgb(33,102,172)\", \"rgb(33,102,172)\", \"rgb(33,102,172)\", \"rgb(33,102,172)\", \"rgb(33,102,172)\", \"rgb(33,102,172)\"]}, \"x\": [1, 2, 3, 4, 5, 6, 7], \"y\": [0.10386819484240688, 0.15401146131805157, 0.332378223495702, 0.2628939828080229, 0.032234957020057305, 0.11318051575931232, 0.0014326647564469914], \"type\": \"bar\", \"uid\": \"e10b0142-b31c-4b67-ac81-ae6e889d4de6\", \"xaxis\": \"x63\", \"yaxis\": \"y13\"}, {\"line\": {\"color\": \"gray\", \"shape\": \"spline\", \"width\": 3}, \"mode\": \"lines\", \"x\": [1, 2, 3, 4, 5, 6, 7], \"y\": [0.07185578359124661, 0.13864492108344612, 0.16100379332347023, 0.15654295710950153, 0.12406201137295872, 0.20754597914723844, 0.14034455437213836], \"type\": \"scatter\", \"uid\": \"562f2f38-66e4-4cd9-af6c-f5161d7541af\", \"xaxis\": \"x63\", \"yaxis\": \"y13\"}, {\"marker\": {\"color\": [\"rgb(244,165,130)\", \"rgb(244,165,130)\", \"rgb(244,165,130)\", \"rgb(244,165,130)\", \"rgb(244,165,130)\", \"rgb(244,165,130)\", \"rgb(244,165,130)\"]}, \"x\": [1, 2, 3, 4, 5, 6, 7], \"y\": [0.19562955254942768, 0.23829344432882413, 0.1914672216441207, 0.24401664932362122, 0.06191467221644121, 0.061394380853277836, 0.007284079084287201], \"type\": \"bar\", \"uid\": \"956e00b1-50e5-4a1b-9c39-2de14236cd95\", \"xaxis\": \"x64\", \"yaxis\": \"y13\"}, {\"line\": {\"color\": \"gray\", \"shape\": \"spline\", \"width\": 3}, \"mode\": \"lines\", \"x\": [1, 2, 3, 4, 5, 6, 7], \"y\": [0.07185578359124661, 0.13864492108344612, 0.16100379332347023, 0.15654295710950153, 0.12406201137295872, 0.20754597914723844, 0.14034455437213836], \"type\": \"scatter\", \"uid\": \"c0441728-6269-4f00-8f80-a001caa27751\", \"xaxis\": \"x64\", \"yaxis\": \"y13\"}, {\"marker\": {\"color\": [\"rgb(178,24,43)\", \"rgb(178,24,43)\", \"rgb(178,24,43)\", \"rgb(178,24,43)\", \"rgb(178,24,43)\", \"rgb(178,24,43)\", \"rgb(178,24,43)\"]}, \"x\": [1, 2, 3, 4, 5, 6, 7], \"y\": [0.11017644645055397, 0.25379565038982355, 0.2603610997127616, 0.2470250307755437, 0.06093557652851867, 0.06524415264669675, 0.0024620434961017644], \"type\": \"bar\", \"uid\": \"ba51a55d-cea9-4ac2-845c-175ae3559ecd\", \"xaxis\": \"x65\", \"yaxis\": \"y13\"}, {\"line\": {\"color\": \"gray\", \"shape\": \"spline\", \"width\": 3}, \"mode\": \"lines\", \"x\": [1, 2, 3, 4, 5, 6, 7], \"y\": [0.07185578359124661, 0.13864492108344612, 0.16100379332347023, 0.15654295710950153, 0.12406201137295872, 0.20754597914723844, 0.14034455437213836], \"type\": \"scatter\", \"uid\": \"c62806f1-6fb4-4208-a56d-7559d90fea3c\", \"xaxis\": \"x65\", \"yaxis\": \"y13\"}, {\"marker\": {\"color\": [\"rgb(214,96,77)\", \"rgb(214,96,77)\", \"rgb(214,96,77)\", \"rgb(214,96,77)\", \"rgb(214,96,77)\", \"rgb(214,96,77)\", \"rgb(214,96,77)\"]}, \"x\": [1, 2, 3, 4, 5, 6, 7], \"y\": [0.1055694098088113, 0.41313383208645055, 0.1546134663341646, 0.17290108063175394, 0.0399002493765586, 0.09808811305070657, 0.015793848711554447], \"type\": \"bar\", \"uid\": \"2c9131d9-a8f4-41f5-a966-0bbc31ca6905\", \"xaxis\": \"x66\", \"yaxis\": \"y14\"}, {\"line\": {\"color\": \"gray\", \"shape\": \"spline\", \"width\": 3}, \"mode\": \"lines\", \"x\": [1, 2, 3, 4, 5, 6, 7], \"y\": [0.07185578359124661, 0.13864492108344612, 0.16100379332347023, 0.15654295710950153, 0.12406201137295872, 0.20754597914723844, 0.14034455437213836], \"type\": \"scatter\", \"uid\": \"3cca5167-1584-4c9c-b87c-5c6b4c13c44d\", \"xaxis\": \"x66\", \"yaxis\": \"y14\"}, {\"marker\": {\"color\": [\"rgb(5,48,97)\", \"rgb(5,48,97)\", \"rgb(5,48,97)\", \"rgb(5,48,97)\", \"rgb(5,48,97)\", \"rgb(5,48,97)\", \"rgb(5,48,97)\"]}, \"x\": [1, 2, 3, 4, 5, 6, 7], \"y\": [0.09838527975966954, 0.31318062335711605, 0.29140067592940294, 0.14457378895981976, 0.0514457378895982, 0.09688321441982727, 0.004130679684566279], \"type\": \"bar\", \"uid\": \"daf844c5-9523-4e2c-b4ca-80e2ccd449b6\", \"xaxis\": \"x67\", \"yaxis\": \"y14\"}, {\"line\": {\"color\": \"gray\", \"shape\": \"spline\", \"width\": 3}, \"mode\": \"lines\", \"x\": [1, 2, 3, 4, 5, 6, 7], \"y\": [0.07185578359124661, 0.13864492108344612, 0.16100379332347023, 0.15654295710950153, 0.12406201137295872, 0.20754597914723844, 0.14034455437213836], \"type\": \"scatter\", \"uid\": \"d96b9276-d0e7-4298-bd9b-6f373c5ca589\", \"xaxis\": \"x67\", \"yaxis\": \"y14\"}, {\"marker\": {\"color\": [\"rgb(33,102,172)\", \"rgb(33,102,172)\", \"rgb(33,102,172)\", \"rgb(33,102,172)\", \"rgb(33,102,172)\", \"rgb(33,102,172)\", \"rgb(33,102,172)\"]}, \"x\": [1, 2, 3, 4, 5, 6, 7], \"y\": [0.06572379367720466, 0.22063227953410983, 0.2575707154742097, 0.28569051580698834, 0.11647254575707154, 0.049750415973377704, 0.004159733777038269], \"type\": \"bar\", \"uid\": \"4ef3a7f0-0c2f-4559-a8f8-28c48e3ff949\", \"xaxis\": \"x68\", \"yaxis\": \"y14\"}, {\"line\": {\"color\": \"gray\", \"shape\": \"spline\", \"width\": 3}, \"mode\": \"lines\", \"x\": [1, 2, 3, 4, 5, 6, 7], \"y\": [0.07185578359124661, 0.13864492108344612, 0.16100379332347023, 0.15654295710950153, 0.12406201137295872, 0.20754597914723844, 0.14034455437213836], \"type\": \"scatter\", \"uid\": \"37bc9eb8-933c-46bf-bca2-1423ef63360f\", \"xaxis\": \"x68\", \"yaxis\": \"y14\"}, {\"marker\": {\"color\": [\"rgb(244,165,130)\", \"rgb(244,165,130)\", \"rgb(244,165,130)\", \"rgb(244,165,130)\", \"rgb(244,165,130)\", \"rgb(244,165,130)\", \"rgb(244,165,130)\"]}, \"x\": [1, 2, 3, 4, 5, 6, 7], \"y\": [0.205, 0.154375, 0.176875, 0.286875, 0.093125, 0.081875, 0.001875], \"type\": \"bar\", \"uid\": \"c7509bb7-7f85-4218-899f-051721f95c4e\", \"xaxis\": \"x69\", \"yaxis\": \"y14\"}, {\"line\": {\"color\": \"gray\", \"shape\": \"spline\", \"width\": 3}, \"mode\": \"lines\", \"x\": [1, 2, 3, 4, 5, 6, 7], \"y\": [0.07185578359124661, 0.13864492108344612, 0.16100379332347023, 0.15654295710950153, 0.12406201137295872, 0.20754597914723844, 0.14034455437213836], \"type\": \"scatter\", \"uid\": \"072d9227-f7aa-4cae-ba97-08f9fbae7145\", \"xaxis\": \"x69\", \"yaxis\": \"y14\"}, {\"marker\": {\"color\": [\"rgb(178,24,43)\", \"rgb(178,24,43)\", \"rgb(178,24,43)\", \"rgb(178,24,43)\", \"rgb(178,24,43)\", \"rgb(178,24,43)\", \"rgb(178,24,43)\"]}, \"x\": [1, 2, 3, 4, 5, 6, 7], \"y\": [0.07290589451913133, 0.3231644260599793, 0.1907962771458118, 0.2419855222337125, 0.07135470527404343, 0.09979317476732161, 0.0], \"type\": \"bar\", \"uid\": \"71cdc713-ea8c-4770-8520-ae25b7f112f4\", \"xaxis\": \"x70\", \"yaxis\": \"y14\"}, {\"line\": {\"color\": \"gray\", \"shape\": \"spline\", \"width\": 3}, \"mode\": \"lines\", \"x\": [1, 2, 3, 4, 5, 6, 7], \"y\": [0.07185578359124661, 0.13864492108344612, 0.16100379332347023, 0.15654295710950153, 0.12406201137295872, 0.20754597914723844, 0.14034455437213836], \"type\": \"scatter\", \"uid\": \"12cdf818-6071-4b08-9c1e-6c655518049e\", \"xaxis\": \"x70\", \"yaxis\": \"y14\"}, {\"marker\": {\"color\": [\"rgb(214,96,77)\", \"rgb(214,96,77)\", \"rgb(214,96,77)\", \"rgb(214,96,77)\", \"rgb(214,96,77)\", \"rgb(214,96,77)\", \"rgb(214,96,77)\"]}, \"x\": [1, 2, 3, 4, 5, 6, 7], \"y\": [0.10071320510049708, 0.2630213961530149, 0.2826885671061163, 0.22368705424681218, 0.04646639291117355, 0.07823643829695266, 0.005186946185433326], \"type\": \"bar\", \"uid\": \"f76dadc4-c86e-4e83-ad95-672adb0b5ddf\", \"xaxis\": \"x71\", \"yaxis\": \"y15\"}, {\"line\": {\"color\": \"gray\", \"shape\": \"spline\", \"width\": 3}, \"mode\": \"lines\", \"x\": [1, 2, 3, 4, 5, 6, 7], \"y\": [0.07185578359124661, 0.13864492108344612, 0.16100379332347023, 0.15654295710950153, 0.12406201137295872, 0.20754597914723844, 0.14034455437213836], \"type\": \"scatter\", \"uid\": \"3ad68f10-bb6f-4b35-8d67-09b4a3b3090a\", \"xaxis\": \"x71\", \"yaxis\": \"y15\"}, {\"marker\": {\"color\": [\"rgb(5,48,97)\", \"rgb(5,48,97)\", \"rgb(5,48,97)\", \"rgb(5,48,97)\", \"rgb(5,48,97)\", \"rgb(5,48,97)\", \"rgb(5,48,97)\"]}, \"x\": [1, 2, 3, 4, 5, 6, 7], \"y\": [0.1039098274040155, 0.2220852412821416, 0.29957731595632264, 0.23952095808383234, 0.06322648820007044, 0.06762944698837618, 0.0040507220852412824], \"type\": \"bar\", \"uid\": \"4d934358-dad0-4a43-9096-1a352fa3090f\", \"xaxis\": \"x72\", \"yaxis\": \"y15\"}, {\"line\": {\"color\": \"gray\", \"shape\": \"spline\", \"width\": 3}, \"mode\": \"lines\", \"x\": [1, 2, 3, 4, 5, 6, 7], \"y\": [0.07185578359124661, 0.13864492108344612, 0.16100379332347023, 0.15654295710950153, 0.12406201137295872, 0.20754597914723844, 0.14034455437213836], \"type\": \"scatter\", \"uid\": \"0270ee5d-3202-4239-b8ce-583a2b61e46e\", \"xaxis\": \"x72\", \"yaxis\": \"y15\"}, {\"marker\": {\"color\": [\"rgb(33,102,172)\", \"rgb(33,102,172)\", \"rgb(33,102,172)\", \"rgb(33,102,172)\", \"rgb(33,102,172)\", \"rgb(33,102,172)\", \"rgb(33,102,172)\"]}, \"x\": [1, 2, 3, 4, 5, 6, 7], \"y\": [0.125, 0.03884180790960452, 0.043785310734463276, 0.03742937853107345, 0.07838983050847458, 0.4279661016949153, 0.24858757062146894], \"type\": \"bar\", \"uid\": \"d094f778-4f4b-4041-8c0d-988d070e7958\", \"xaxis\": \"x73\", \"yaxis\": \"y15\"}, {\"line\": {\"color\": \"gray\", \"shape\": \"spline\", \"width\": 3}, \"mode\": \"lines\", \"x\": [1, 2, 3, 4, 5, 6, 7], \"y\": [0.07185578359124661, 0.13864492108344612, 0.16100379332347023, 0.15654295710950153, 0.12406201137295872, 0.20754597914723844, 0.14034455437213836], \"type\": \"scatter\", \"uid\": \"2594af3a-689d-4a02-801d-59b02c19010f\", \"xaxis\": \"x73\", \"yaxis\": \"y15\"}, {\"marker\": {\"color\": [\"rgb(244,165,130)\", \"rgb(244,165,130)\", \"rgb(244,165,130)\", \"rgb(244,165,130)\", \"rgb(244,165,130)\", \"rgb(244,165,130)\", \"rgb(244,165,130)\"]}, \"x\": [1, 2, 3, 4, 5, 6, 7], \"y\": [0.0836627140974967, 0.2503293807641634, 0.26877470355731226, 0.24835309617918314, 0.09881422924901186, 0.039525691699604744, 0.010540184453227932], \"type\": \"bar\", \"uid\": \"d48bcccf-254d-4748-85ec-bd2e70ef9db1\", \"xaxis\": \"x74\", \"yaxis\": \"y15\"}, {\"line\": {\"color\": \"gray\", \"shape\": \"spline\", \"width\": 3}, \"mode\": \"lines\", \"x\": [1, 2, 3, 4, 5, 6, 7], \"y\": [0.07185578359124661, 0.13864492108344612, 0.16100379332347023, 0.15654295710950153, 0.12406201137295872, 0.20754597914723844, 0.14034455437213836], \"type\": \"scatter\", \"uid\": \"00c8fca7-ee93-4a8a-8b01-409dcf8d00dd\", \"xaxis\": \"x74\", \"yaxis\": \"y15\"}, {\"marker\": {\"color\": [\"rgb(178,24,43)\", \"rgb(178,24,43)\", \"rgb(178,24,43)\", \"rgb(178,24,43)\", \"rgb(178,24,43)\", \"rgb(178,24,43)\", \"rgb(178,24,43)\"]}, \"x\": [1, 2, 3, 4, 5, 6, 7], \"y\": [0.10010881392818281, 0.2105549510337323, 0.27720348204570183, 0.25489662676822633, 0.09956474428726877, 0.0544069640914037, 0.003264417845484222], \"type\": \"bar\", \"uid\": \"4c8caa23-befc-4953-8f55-33cfef510407\", \"xaxis\": \"x75\", \"yaxis\": \"y15\"}, {\"line\": {\"color\": \"gray\", \"shape\": \"spline\", \"width\": 3}, \"mode\": \"lines\", \"x\": [1, 2, 3, 4, 5, 6, 7], \"y\": [0.07185578359124661, 0.13864492108344612, 0.16100379332347023, 0.15654295710950153, 0.12406201137295872, 0.20754597914723844, 0.14034455437213836], \"type\": \"scatter\", \"uid\": \"fec6f302-8699-4e5a-b9e2-c8adf182f47d\", \"xaxis\": \"x75\", \"yaxis\": \"y15\"}, {\"marker\": {\"color\": [\"rgb(214,96,77)\", \"rgb(214,96,77)\", \"rgb(214,96,77)\", \"rgb(214,96,77)\", \"rgb(214,96,77)\", \"rgb(214,96,77)\", \"rgb(214,96,77)\"]}, \"x\": [1, 2, 3, 4, 5, 6, 7], \"y\": [0.05347255181142224, 0.29299161525075146, 0.2494858408479671, 0.251858883088119, 0.05537098560354374, 0.09365606707799398, 0.0031640563202024997], \"type\": \"bar\", \"uid\": \"1a39b86b-380d-4cc6-a572-7277a80fad4d\", \"xaxis\": \"x76\", \"yaxis\": \"y16\"}, {\"line\": {\"color\": \"gray\", \"shape\": \"spline\", \"width\": 3}, \"mode\": \"lines\", \"x\": [1, 2, 3, 4, 5, 6, 7], \"y\": [0.07185578359124661, 0.13864492108344612, 0.16100379332347023, 0.15654295710950153, 0.12406201137295872, 0.20754597914723844, 0.14034455437213836], \"type\": \"scatter\", \"uid\": \"68c08377-4a5c-4f79-b7e4-ca041bf91d05\", \"xaxis\": \"x76\", \"yaxis\": \"y16\"}, {\"marker\": {\"color\": [\"rgb(5,48,97)\", \"rgb(5,48,97)\", \"rgb(5,48,97)\", \"rgb(5,48,97)\", \"rgb(5,48,97)\", \"rgb(5,48,97)\", \"rgb(5,48,97)\"]}, \"x\": [1, 2, 3, 4, 5, 6, 7], \"y\": [0.11224489795918367, 0.1934850863422292, 0.3410518053375196, 0.21153846153846154, 0.07103610675039246, 0.06475667189952904, 0.005886970172684459], \"type\": \"bar\", \"uid\": \"999fa7e8-205f-420f-aef6-c9ebf270de11\", \"xaxis\": \"x77\", \"yaxis\": \"y16\"}, {\"line\": {\"color\": \"gray\", \"shape\": \"spline\", \"width\": 3}, \"mode\": \"lines\", \"x\": [1, 2, 3, 4, 5, 6, 7], \"y\": [0.07185578359124661, 0.13864492108344612, 0.16100379332347023, 0.15654295710950153, 0.12406201137295872, 0.20754597914723844, 0.14034455437213836], \"type\": \"scatter\", \"uid\": \"f3a235c2-0d89-4006-9e26-86de8c2602cb\", \"xaxis\": \"x77\", \"yaxis\": \"y16\"}, {\"marker\": {\"color\": [\"rgb(33,102,172)\", \"rgb(33,102,172)\", \"rgb(33,102,172)\", \"rgb(33,102,172)\", \"rgb(33,102,172)\", \"rgb(33,102,172)\", \"rgb(33,102,172)\"]}, \"x\": [1, 2, 3, 4, 5, 6, 7], \"y\": [0.07932502759817063, 0.26415391894023027, 0.3051569153130421, 0.2001261630657625, 0.06607790569310834, 0.08295221573884246, 0.0022078536508437154], \"type\": \"bar\", \"uid\": \"9faea9c0-aaec-4aa1-b8b3-28cd14a36f80\", \"xaxis\": \"x78\", \"yaxis\": \"y16\"}, {\"line\": {\"color\": \"gray\", \"shape\": \"spline\", \"width\": 3}, \"mode\": \"lines\", \"x\": [1, 2, 3, 4, 5, 6, 7], \"y\": [0.07185578359124661, 0.13864492108344612, 0.16100379332347023, 0.15654295710950153, 0.12406201137295872, 0.20754597914723844, 0.14034455437213836], \"type\": \"scatter\", \"uid\": \"99fb0990-4f70-47e3-b445-03abcd764f9e\", \"xaxis\": \"x78\", \"yaxis\": \"y16\"}, {\"marker\": {\"color\": [\"rgb(244,165,130)\", \"rgb(244,165,130)\", \"rgb(244,165,130)\", \"rgb(244,165,130)\", \"rgb(244,165,130)\", \"rgb(244,165,130)\", \"rgb(244,165,130)\"]}, \"x\": [1, 2, 3, 4, 5, 6, 7], \"y\": [0.10486486486486486, 0.28405405405405404, 0.23837837837837839, 0.24864864864864866, 0.06027027027027027, 0.04891891891891892, 0.014864864864864866], \"type\": \"bar\", \"uid\": \"9d68ffab-8394-43cd-aa0b-f376856e5865\", \"xaxis\": \"x79\", \"yaxis\": \"y16\"}, {\"line\": {\"color\": \"gray\", \"shape\": \"spline\", \"width\": 3}, \"mode\": \"lines\", \"x\": [1, 2, 3, 4, 5, 6, 7], \"y\": [0.07185578359124661, 0.13864492108344612, 0.16100379332347023, 0.15654295710950153, 0.12406201137295872, 0.20754597914723844, 0.14034455437213836], \"type\": \"scatter\", \"uid\": \"0cd4d102-6acc-4788-9318-24d7c8c20f5f\", \"xaxis\": \"x79\", \"yaxis\": \"y16\"}, {\"marker\": {\"color\": [\"rgb(178,24,43)\", \"rgb(178,24,43)\", \"rgb(178,24,43)\", \"rgb(178,24,43)\", \"rgb(178,24,43)\", \"rgb(178,24,43)\", \"rgb(178,24,43)\"]}, \"x\": [1, 2, 3, 4, 5, 6, 7], \"y\": [0.09077705156136529, 0.3747276688453159, 0.1721132897603486, 0.1626724763979666, 0.023965141612200435, 0.16775599128540306, 0.007988380537400145], \"type\": \"bar\", \"uid\": \"04d2ec31-d3e2-4ed4-bbee-c05aff88fa73\", \"xaxis\": \"x80\", \"yaxis\": \"y16\"}, {\"line\": {\"color\": \"gray\", \"shape\": \"spline\", \"width\": 3}, \"mode\": \"lines\", \"x\": [1, 2, 3, 4, 5, 6, 7], \"y\": [0.07185578359124661, 0.13864492108344612, 0.16100379332347023, 0.15654295710950153, 0.12406201137295872, 0.20754597914723844, 0.14034455437213836], \"type\": \"scatter\", \"uid\": \"e56f3483-8e09-4bc8-b1c0-70dcf3535507\", \"xaxis\": \"x80\", \"yaxis\": \"y16\"}, {\"marker\": {\"color\": [\"rgb(214,96,77)\", \"rgb(214,96,77)\", \"rgb(214,96,77)\", \"rgb(214,96,77)\", \"rgb(214,96,77)\", \"rgb(214,96,77)\", \"rgb(214,96,77)\"]}, \"x\": [1, 2, 3, 4, 5, 6, 7], \"y\": [0.13392210800637036, 0.22991168379904445, 0.2451136528159838, 0.2385985232372955, 0.08976400752859418, 0.05892572752280295, 0.003764297089908788], \"type\": \"bar\", \"uid\": \"047a5e97-13ab-4866-a4fe-350660e1f1ab\", \"xaxis\": \"x81\", \"yaxis\": \"y17\"}, {\"line\": {\"color\": \"gray\", \"shape\": \"spline\", \"width\": 3}, \"mode\": \"lines\", \"x\": [1, 2, 3, 4, 5, 6, 7], \"y\": [0.07185578359124661, 0.13864492108344612, 0.16100379332347023, 0.15654295710950153, 0.12406201137295872, 0.20754597914723844, 0.14034455437213836], \"type\": \"scatter\", \"uid\": \"1e908fc3-0737-4eac-b96f-c37bea87d464\", \"xaxis\": \"x81\", \"yaxis\": \"y17\"}, {\"marker\": {\"color\": [\"rgb(5,48,97)\", \"rgb(5,48,97)\", \"rgb(5,48,97)\", \"rgb(5,48,97)\", \"rgb(5,48,97)\", \"rgb(5,48,97)\", \"rgb(5,48,97)\"]}, \"x\": [1, 2, 3, 4, 5, 6, 7], \"y\": [0.1339145987033311, 0.24010731052984574, 0.24055443773753632, 0.24055443773753632, 0.08763693270735524, 0.04806617482673821, 0.009166107757657053], \"type\": \"bar\", \"uid\": \"3dcf5726-e9e6-4c4c-bd0e-0ffba07760b9\", \"xaxis\": \"x82\", \"yaxis\": \"y17\"}, {\"line\": {\"color\": \"gray\", \"shape\": \"spline\", \"width\": 3}, \"mode\": \"lines\", \"x\": [1, 2, 3, 4, 5, 6, 7], \"y\": [0.07185578359124661, 0.13864492108344612, 0.16100379332347023, 0.15654295710950153, 0.12406201137295872, 0.20754597914723844, 0.14034455437213836], \"type\": \"scatter\", \"uid\": \"be1fef90-d739-4a87-a93d-94adce92d104\", \"xaxis\": \"x82\", \"yaxis\": \"y17\"}, {\"marker\": {\"color\": [\"rgb(33,102,172)\", \"rgb(33,102,172)\", \"rgb(33,102,172)\", \"rgb(33,102,172)\", \"rgb(33,102,172)\", \"rgb(33,102,172)\", \"rgb(33,102,172)\"]}, \"x\": [1, 2, 3, 4, 5, 6, 7], \"y\": [0.03188405797101449, 0.12077294685990338, 0.16908212560386474, 0.3516908212560386, 0.242512077294686, 0.07246376811594203, 0.011594202898550725], \"type\": \"bar\", \"uid\": \"64b347c5-95df-46f6-8e82-75d97edec183\", \"xaxis\": \"x83\", \"yaxis\": \"y17\"}, {\"line\": {\"color\": \"gray\", \"shape\": \"spline\", \"width\": 3}, \"mode\": \"lines\", \"x\": [1, 2, 3, 4, 5, 6, 7], \"y\": [0.07185578359124661, 0.13864492108344612, 0.16100379332347023, 0.15654295710950153, 0.12406201137295872, 0.20754597914723844, 0.14034455437213836], \"type\": \"scatter\", \"uid\": \"24e7ec07-d1f5-43ad-89e9-020f010744e6\", \"xaxis\": \"x83\", \"yaxis\": \"y17\"}, {\"marker\": {\"color\": [\"rgb(244,165,130)\", \"rgb(244,165,130)\", \"rgb(244,165,130)\", \"rgb(244,165,130)\", \"rgb(244,165,130)\", \"rgb(244,165,130)\", \"rgb(244,165,130)\"]}, \"x\": [1, 2, 3, 4, 5, 6, 7], \"y\": [0.10687912942090945, 0.192382432957637, 0.27788573649436454, 0.26039642440730665, 0.0765643218033424, 0.08550330353672755, 0.000388651379712398], \"type\": \"bar\", \"uid\": \"f98a5668-afa1-4492-abfe-798d19b93f2b\", \"xaxis\": \"x84\", \"yaxis\": \"y17\"}, {\"line\": {\"color\": \"gray\", \"shape\": \"spline\", \"width\": 3}, \"mode\": \"lines\", \"x\": [1, 2, 3, 4, 5, 6, 7], \"y\": [0.07185578359124661, 0.13864492108344612, 0.16100379332347023, 0.15654295710950153, 0.12406201137295872, 0.20754597914723844, 0.14034455437213836], \"type\": \"scatter\", \"uid\": \"39e54297-ef1f-48db-9134-3f5ab53b0490\", \"xaxis\": \"x84\", \"yaxis\": \"y17\"}, {\"marker\": {\"color\": [\"rgb(178,24,43)\", \"rgb(178,24,43)\", \"rgb(178,24,43)\", \"rgb(178,24,43)\", \"rgb(178,24,43)\", \"rgb(178,24,43)\", \"rgb(178,24,43)\"]}, \"x\": [1, 2, 3, 4, 5, 6, 7], \"y\": [0.09590849098108227, 0.20721513418389792, 0.21821381434227893, 0.31456225252969644, 0.097228332600088, 0.06247250329960405, 0.004399472063352398], \"type\": \"bar\", \"uid\": \"159a996d-fa05-40f5-b4ee-aa9a6b828211\", \"xaxis\": \"x85\", \"yaxis\": \"y17\"}, {\"line\": {\"color\": \"gray\", \"shape\": \"spline\", \"width\": 3}, \"mode\": \"lines\", \"x\": [1, 2, 3, 4, 5, 6, 7], \"y\": [0.07185578359124661, 0.13864492108344612, 0.16100379332347023, 0.15654295710950153, 0.12406201137295872, 0.20754597914723844, 0.14034455437213836], \"type\": \"scatter\", \"uid\": \"e5e52fa1-81fa-475b-8ae3-ed473b6d32e5\", \"xaxis\": \"x85\", \"yaxis\": \"y17\"}, {\"marker\": {\"color\": [\"rgb(214,96,77)\", \"rgb(214,96,77)\", \"rgb(214,96,77)\", \"rgb(214,96,77)\", \"rgb(214,96,77)\", \"rgb(214,96,77)\", \"rgb(214,96,77)\"]}, \"x\": [1, 2, 3, 4, 5, 6, 7], \"y\": [0.05219623502567028, 0.2752424415288078, 0.27067883628066175, 0.2410154021677125, 0.10125499144324016, 0.04107244723331432, 0.018539646320593267], \"type\": \"bar\", \"uid\": \"5dfad383-febc-48e9-a425-6c9cb7a39eda\", \"xaxis\": \"x86\", \"yaxis\": \"y18\"}, {\"line\": {\"color\": \"gray\", \"shape\": \"spline\", \"width\": 3}, \"mode\": \"lines\", \"x\": [1, 2, 3, 4, 5, 6, 7], \"y\": [0.07185578359124661, 0.13864492108344612, 0.16100379332347023, 0.15654295710950153, 0.12406201137295872, 0.20754597914723844, 0.14034455437213836], \"type\": \"scatter\", \"uid\": \"e4bf5cea-dc5a-42de-a8e6-3173bf5e273f\", \"xaxis\": \"x86\", \"yaxis\": \"y18\"}, {\"marker\": {\"color\": [\"rgb(5,48,97)\", \"rgb(5,48,97)\", \"rgb(5,48,97)\", \"rgb(5,48,97)\", \"rgb(5,48,97)\", \"rgb(5,48,97)\", \"rgb(5,48,97)\"]}, \"x\": [1, 2, 3, 4, 5, 6, 7], \"y\": [0.029053420805998126, 0.06466729147141519, 0.05060918462980318, 0.046860356138706656, 0.07497656982193064, 0.4114339268978444, 0.32239925023430177], \"type\": \"bar\", \"uid\": \"6f0bacf8-31bd-4e2f-8162-1749d0a1f058\", \"xaxis\": \"x87\", \"yaxis\": \"y18\"}, {\"line\": {\"color\": \"gray\", \"shape\": \"spline\", \"width\": 3}, \"mode\": \"lines\", \"x\": [1, 2, 3, 4, 5, 6, 7], \"y\": [0.07185578359124661, 0.13864492108344612, 0.16100379332347023, 0.15654295710950153, 0.12406201137295872, 0.20754597914723844, 0.14034455437213836], \"type\": \"scatter\", \"uid\": \"3cc70af3-0962-4b9c-9b2d-7ef148fb5368\", \"xaxis\": \"x87\", \"yaxis\": \"y18\"}, {\"marker\": {\"color\": [\"rgb(33,102,172)\", \"rgb(33,102,172)\", \"rgb(33,102,172)\", \"rgb(33,102,172)\", \"rgb(33,102,172)\", \"rgb(33,102,172)\", \"rgb(33,102,172)\"]}, \"x\": [1, 2, 3, 4, 5, 6, 7], \"y\": [0.06221198156682028, 0.23425499231950844, 0.41321044546851, 0.07987711213517665, 0.07142857142857142, 0.1259600614439324, 0.013056835637480798], \"type\": \"bar\", \"uid\": \"fe4763c8-e40a-446b-9e3c-b37cd6ce57c4\", \"xaxis\": \"x88\", \"yaxis\": \"y18\"}, {\"line\": {\"color\": \"gray\", \"shape\": \"spline\", \"width\": 3}, \"mode\": \"lines\", \"x\": [1, 2, 3, 4, 5, 6, 7], \"y\": [0.07185578359124661, 0.13864492108344612, 0.16100379332347023, 0.15654295710950153, 0.12406201137295872, 0.20754597914723844, 0.14034455437213836], \"type\": \"scatter\", \"uid\": \"e6aa76d8-c50c-40c8-93d5-0c580244f42a\", \"xaxis\": \"x88\", \"yaxis\": \"y18\"}, {\"marker\": {\"color\": [\"rgb(244,165,130)\", \"rgb(244,165,130)\", \"rgb(244,165,130)\", \"rgb(244,165,130)\", \"rgb(244,165,130)\", \"rgb(244,165,130)\", \"rgb(244,165,130)\"]}, \"x\": [1, 2, 3, 4, 5, 6, 7], \"y\": [0.1396797153024911, 0.14501779359430605, 0.1494661921708185, 0.3638790035587189, 0.042704626334519574, 0.15569395017793594, 0.0035587188612099642], \"type\": \"bar\", \"uid\": \"b91e752b-2e53-48de-a434-a5e354394872\", \"xaxis\": \"x89\", \"yaxis\": \"y18\"}, {\"line\": {\"color\": \"gray\", \"shape\": \"spline\", \"width\": 3}, \"mode\": \"lines\", \"x\": [1, 2, 3, 4, 5, 6, 7], \"y\": [0.07185578359124661, 0.13864492108344612, 0.16100379332347023, 0.15654295710950153, 0.12406201137295872, 0.20754597914723844, 0.14034455437213836], \"type\": \"scatter\", \"uid\": \"b90a462d-dc0f-4c84-9be8-94cc14ec7252\", \"xaxis\": \"x89\", \"yaxis\": \"y18\"}, {\"marker\": {\"color\": [\"rgb(178,24,43)\", \"rgb(178,24,43)\", \"rgb(178,24,43)\", \"rgb(178,24,43)\", \"rgb(178,24,43)\", \"rgb(178,24,43)\", \"rgb(178,24,43)\"]}, \"x\": [1, 2, 3, 4, 5, 6, 7], \"y\": [0.03865877712031558, 0.21696252465483234, 0.2682445759368836, 0.32938856015779094, 0.07100591715976332, 0.05009861932938856, 0.02564102564102564], \"type\": \"bar\", \"uid\": \"e942fb16-7b19-4fb8-bc1f-57dd537a2a1c\", \"xaxis\": \"x90\", \"yaxis\": \"y18\"}, {\"line\": {\"color\": \"gray\", \"shape\": \"spline\", \"width\": 3}, \"mode\": \"lines\", \"x\": [1, 2, 3, 4, 5, 6, 7], \"y\": [0.07185578359124661, 0.13864492108344612, 0.16100379332347023, 0.15654295710950153, 0.12406201137295872, 0.20754597914723844, 0.14034455437213836], \"type\": \"scatter\", \"uid\": \"d99d9aac-449c-448f-a905-02bd93a24792\", \"xaxis\": \"x90\", \"yaxis\": \"y18\"}, {\"marker\": {\"color\": [\"rgb(214,96,77)\", \"rgb(214,96,77)\", \"rgb(214,96,77)\", \"rgb(214,96,77)\", \"rgb(214,96,77)\", \"rgb(214,96,77)\", \"rgb(214,96,77)\"]}, \"x\": [1, 2, 3, 4, 5, 6, 7], \"y\": [0.07811993517017828, 0.3014586709886548, 0.24343598055105348, 0.23435980551053484, 0.07779578606158834, 0.04538087520259319, 0.019448946515397084], \"type\": \"bar\", \"uid\": \"421a3833-9a8f-4557-a0b8-ebecc95822dd\", \"xaxis\": \"x91\", \"yaxis\": \"y19\"}, {\"line\": {\"color\": \"gray\", \"shape\": \"spline\", \"width\": 3}, \"mode\": \"lines\", \"x\": [1, 2, 3, 4, 5, 6, 7], \"y\": [0.07185578359124661, 0.13864492108344612, 0.16100379332347023, 0.15654295710950153, 0.12406201137295872, 0.20754597914723844, 0.14034455437213836], \"type\": \"scatter\", \"uid\": \"8487e35c-5b63-4fca-a1a5-7e6836041d1b\", \"xaxis\": \"x91\", \"yaxis\": \"y19\"}, {\"marker\": {\"color\": [\"rgb(5,48,97)\", \"rgb(5,48,97)\", \"rgb(5,48,97)\", \"rgb(5,48,97)\", \"rgb(5,48,97)\", \"rgb(5,48,97)\", \"rgb(5,48,97)\"]}, \"x\": [1, 2, 3, 4, 5, 6, 7], \"y\": [0.05589492974954185, 0.23671350030543678, 0.31062919975565056, 0.22846670739156993, 0.10751374465485644, 0.046426389737324374, 0.014355528405620037], \"type\": \"bar\", \"uid\": \"85bb907b-32ad-4ee3-b0bd-eb8b1dc28784\", \"xaxis\": \"x92\", \"yaxis\": \"y19\"}, {\"line\": {\"color\": \"gray\", \"shape\": \"spline\", \"width\": 3}, \"mode\": \"lines\", \"x\": [1, 2, 3, 4, 5, 6, 7], \"y\": [0.07185578359124661, 0.13864492108344612, 0.16100379332347023, 0.15654295710950153, 0.12406201137295872, 0.20754597914723844, 0.14034455437213836], \"type\": \"scatter\", \"uid\": \"96071d8a-a892-43fb-ae1d-03071c35bd5a\", \"xaxis\": \"x92\", \"yaxis\": \"y19\"}, {\"marker\": {\"color\": [\"rgb(33,102,172)\", \"rgb(33,102,172)\", \"rgb(33,102,172)\", \"rgb(33,102,172)\", \"rgb(33,102,172)\", \"rgb(33,102,172)\", \"rgb(33,102,172)\"]}, \"x\": [1, 2, 3, 4, 5, 6, 7], \"y\": [0.22708208508088676, 0.1390053924505692, 0.2025164769322948, 0.12822049131216298, 0.22588376273217495, 0.06111443978430198, 0.016177351707609346], \"type\": \"bar\", \"uid\": \"699f9908-bcbb-48f4-8459-f2361e2c3e50\", \"xaxis\": \"x93\", \"yaxis\": \"y19\"}, {\"line\": {\"color\": \"gray\", \"shape\": \"spline\", \"width\": 3}, \"mode\": \"lines\", \"x\": [1, 2, 3, 4, 5, 6, 7], \"y\": [0.07185578359124661, 0.13864492108344612, 0.16100379332347023, 0.15654295710950153, 0.12406201137295872, 0.20754597914723844, 0.14034455437213836], \"type\": \"scatter\", \"uid\": \"1c342879-4c55-4706-a76c-a912eb890e59\", \"xaxis\": \"x93\", \"yaxis\": \"y19\"}, {\"marker\": {\"color\": [\"rgb(244,165,130)\", \"rgb(244,165,130)\", \"rgb(244,165,130)\", \"rgb(244,165,130)\", \"rgb(244,165,130)\", \"rgb(244,165,130)\", \"rgb(244,165,130)\"]}, \"x\": [1, 2, 3, 4, 5, 6, 7], \"y\": [0.07475113122171946, 0.23040723981900452, 0.3035294117647059, 0.23239819004524886, 0.08307692307692308, 0.07076923076923076, 0.0050678733031674205], \"type\": \"bar\", \"uid\": \"c3d3f69d-329c-4edf-a5c9-6fc2c1ca4943\", \"xaxis\": \"x94\", \"yaxis\": \"y19\"}, {\"line\": {\"color\": \"gray\", \"shape\": \"spline\", \"width\": 3}, \"mode\": \"lines\", \"x\": [1, 2, 3, 4, 5, 6, 7], \"y\": [0.07185578359124661, 0.13864492108344612, 0.16100379332347023, 0.15654295710950153, 0.12406201137295872, 0.20754597914723844, 0.14034455437213836], \"type\": \"scatter\", \"uid\": \"d5c2514f-3c97-4315-a05a-01bc10f1bcf8\", \"xaxis\": \"x94\", \"yaxis\": \"y19\"}, {\"marker\": {\"color\": [\"rgb(178,24,43)\", \"rgb(178,24,43)\", \"rgb(178,24,43)\", \"rgb(178,24,43)\", \"rgb(178,24,43)\", \"rgb(178,24,43)\", \"rgb(178,24,43)\"]}, \"x\": [1, 2, 3, 4, 5, 6, 7], \"y\": [0.01120206807410599, 0.03188280913399397, 0.06118052563550194, 0.10728134424816889, 0.07496768634209393, 0.4200775527789746, 0.2934080137871607], \"type\": \"bar\", \"uid\": \"03faf827-c0af-4174-b88c-f85e6d82d646\", \"xaxis\": \"x95\", \"yaxis\": \"y19\"}, {\"line\": {\"color\": \"gray\", \"shape\": \"spline\", \"width\": 3}, \"mode\": \"lines\", \"x\": [1, 2, 3, 4, 5, 6, 7], \"y\": [0.07185578359124661, 0.13864492108344612, 0.16100379332347023, 0.15654295710950153, 0.12406201137295872, 0.20754597914723844, 0.14034455437213836], \"type\": \"scatter\", \"uid\": \"2a265c2d-52ff-4c9b-b118-aff6429d3c79\", \"xaxis\": \"x95\", \"yaxis\": \"y19\"}, {\"marker\": {\"color\": [\"rgb(214,96,77)\", \"rgb(214,96,77)\", \"rgb(214,96,77)\", \"rgb(214,96,77)\", \"rgb(214,96,77)\", \"rgb(214,96,77)\", \"rgb(214,96,77)\"]}, \"x\": [1, 2, 3, 4, 5, 6, 7], \"y\": [0.06886354034643008, 0.35361216730038025, 0.21335023236163922, 0.21081537811575835, 0.06759611322348964, 0.07139839459231094, 0.01436417405999155], \"type\": \"bar\", \"uid\": \"10e6e2f7-e765-4a77-8d5c-63846a2080b2\", \"xaxis\": \"x96\", \"yaxis\": \"y20\"}, {\"line\": {\"color\": \"gray\", \"shape\": \"spline\", \"width\": 3}, \"mode\": \"lines\", \"x\": [1, 2, 3, 4, 5, 6, 7], \"y\": [0.07185578359124661, 0.13864492108344612, 0.16100379332347023, 0.15654295710950153, 0.12406201137295872, 0.20754597914723844, 0.14034455437213836], \"type\": \"scatter\", \"uid\": \"0c689e45-48f3-465e-b1d9-9b13c74ed364\", \"xaxis\": \"x96\", \"yaxis\": \"y20\"}, {\"marker\": {\"color\": [\"rgb(5,48,97)\", \"rgb(5,48,97)\", \"rgb(5,48,97)\", \"rgb(5,48,97)\", \"rgb(5,48,97)\", \"rgb(5,48,97)\", \"rgb(5,48,97)\"]}, \"x\": [1, 2, 3, 4, 5, 6, 7], \"y\": [0.024412296564195298, 0.2070524412296564, 0.32007233273056057, 0.2504520795660036, 0.1256781193490054, 0.05515370705244123, 0.017179023508137433], \"type\": \"bar\", \"uid\": \"48f2b806-4829-4a2e-a403-e25bcf842956\", \"xaxis\": \"x97\", \"yaxis\": \"y20\"}, {\"line\": {\"color\": \"gray\", \"shape\": \"spline\", \"width\": 3}, \"mode\": \"lines\", \"x\": [1, 2, 3, 4, 5, 6, 7], \"y\": [0.07185578359124661, 0.13864492108344612, 0.16100379332347023, 0.15654295710950153, 0.12406201137295872, 0.20754597914723844, 0.14034455437213836], \"type\": \"scatter\", \"uid\": \"b8195a8f-f43f-4094-b327-90666649f329\", \"xaxis\": \"x97\", \"yaxis\": \"y20\"}, {\"marker\": {\"color\": [\"rgb(33,102,172)\", \"rgb(33,102,172)\", \"rgb(33,102,172)\", \"rgb(33,102,172)\", \"rgb(33,102,172)\", \"rgb(33,102,172)\", \"rgb(33,102,172)\"]}, \"x\": [1, 2, 3, 4, 5, 6, 7], \"y\": [0.030115830115830116, 0.2416988416988417, 0.27335907335907333, 0.2254826254826255, 0.122007722007722, 0.10733590733590734, 0.0], \"type\": \"bar\", \"uid\": \"0c392a00-06de-4c97-917d-7ede233eac80\", \"xaxis\": \"x98\", \"yaxis\": \"y20\"}, {\"line\": {\"color\": \"gray\", \"shape\": \"spline\", \"width\": 3}, \"mode\": \"lines\", \"x\": [1, 2, 3, 4, 5, 6, 7], \"y\": [0.07185578359124661, 0.13864492108344612, 0.16100379332347023, 0.15654295710950153, 0.12406201137295872, 0.20754597914723844, 0.14034455437213836], \"type\": \"scatter\", \"uid\": \"7587dcc3-4da7-42c5-a93b-b9bb017ca53a\", \"xaxis\": \"x98\", \"yaxis\": \"y20\"}, {\"marker\": {\"color\": [\"rgb(244,165,130)\", \"rgb(244,165,130)\", \"rgb(244,165,130)\", \"rgb(244,165,130)\", \"rgb(244,165,130)\", \"rgb(244,165,130)\", \"rgb(244,165,130)\"]}, \"x\": [1, 2, 3, 4, 5, 6, 7], \"y\": [0.14247251514471618, 0.2317702490464438, 0.17881983396903747, 0.2802333408122055, 0.08166928427193179, 0.08099618577518511, 0.004038590980480144], \"type\": \"bar\", \"uid\": \"a024efc2-9eb7-4708-b3fb-d51611e69e05\", \"xaxis\": \"x99\", \"yaxis\": \"y20\"}, {\"line\": {\"color\": \"gray\", \"shape\": \"spline\", \"width\": 3}, \"mode\": \"lines\", \"x\": [1, 2, 3, 4, 5, 6, 7], \"y\": [0.07185578359124661, 0.13864492108344612, 0.16100379332347023, 0.15654295710950153, 0.12406201137295872, 0.20754597914723844, 0.14034455437213836], \"type\": \"scatter\", \"uid\": \"76c0b252-1fad-4715-80d8-d67218d5c153\", \"xaxis\": \"x99\", \"yaxis\": \"y20\"}, {\"marker\": {\"color\": [\"rgb(178,24,43)\", \"rgb(178,24,43)\", \"rgb(178,24,43)\", \"rgb(178,24,43)\", \"rgb(178,24,43)\", \"rgb(178,24,43)\", \"rgb(178,24,43)\"]}, \"x\": [1, 2, 3, 4, 5, 6, 7], \"y\": [0.0740578439964943, 0.16170026292725678, 0.1722173531989483, 0.3093777388255916, 0.2037686240140228, 0.07712532865907099, 0.0017528483786152498], \"type\": \"bar\", \"uid\": \"321fe5c7-3709-4c8a-ad6a-4e94566b30a7\", \"xaxis\": \"x100\", \"yaxis\": \"y20\"}, {\"line\": {\"color\": \"gray\", \"shape\": \"spline\", \"width\": 3}, \"mode\": \"lines\", \"x\": [1, 2, 3, 4, 5, 6, 7], \"y\": [0.07185578359124661, 0.13864492108344612, 0.16100379332347023, 0.15654295710950153, 0.12406201137295872, 0.20754597914723844, 0.14034455437213836], \"type\": \"scatter\", \"uid\": \"3a868627-e78b-4197-aa98-1a0decba15a0\", \"xaxis\": \"x100\", \"yaxis\": \"y20\"}, {\"marker\": {\"color\": [\"rgb(214,96,77)\", \"rgb(214,96,77)\", \"rgb(214,96,77)\", \"rgb(214,96,77)\", \"rgb(214,96,77)\", \"rgb(214,96,77)\", \"rgb(214,96,77)\"]}, \"x\": [1, 2, 3, 4, 5, 6, 7], \"y\": [0.14174490496908632, 0.2212044882070071, 0.2226929242042592, 0.252690634302725, 0.08094801923517289, 0.07716968170368674, 0.0035493473780627434], \"type\": \"bar\", \"uid\": \"f4672114-d27e-450f-8746-776f86fc3b26\", \"xaxis\": \"x101\", \"yaxis\": \"y21\"}, {\"line\": {\"color\": \"gray\", \"shape\": \"spline\", \"width\": 3}, \"mode\": \"lines\", \"x\": [1, 2, 3, 4, 5, 6, 7], \"y\": [0.07185578359124661, 0.13864492108344612, 0.16100379332347023, 0.15654295710950153, 0.12406201137295872, 0.20754597914723844, 0.14034455437213836], \"type\": \"scatter\", \"uid\": \"4829fe5a-bec3-4dd6-af18-1c4b5bc07562\", \"xaxis\": \"x101\", \"yaxis\": \"y21\"}, {\"marker\": {\"color\": [\"rgb(5,48,97)\", \"rgb(5,48,97)\", \"rgb(5,48,97)\", \"rgb(5,48,97)\", \"rgb(5,48,97)\", \"rgb(5,48,97)\", \"rgb(5,48,97)\"]}, \"x\": [1, 2, 3, 4, 5, 6, 7], \"y\": [0.10566735404963379, 0.21403683424589348, 0.2567019839294603, 0.2743369124653346, 0.08895683709023679, 0.04430064708810354, 0.015999431131337553], \"type\": \"bar\", \"uid\": \"39fd591f-bd0b-4e14-9af8-3c65799b8ab4\", \"xaxis\": \"x102\", \"yaxis\": \"y21\"}, {\"line\": {\"color\": \"gray\", \"shape\": \"spline\", \"width\": 3}, \"mode\": \"lines\", \"x\": [1, 2, 3, 4, 5, 6, 7], \"y\": [0.07185578359124661, 0.13864492108344612, 0.16100379332347023, 0.15654295710950153, 0.12406201137295872, 0.20754597914723844, 0.14034455437213836], \"type\": \"scatter\", \"uid\": \"a8b28af5-40c4-4e9d-9d4f-222e61e06f22\", \"xaxis\": \"x102\", \"yaxis\": \"y21\"}, {\"marker\": {\"color\": [\"rgb(33,102,172)\", \"rgb(33,102,172)\", \"rgb(33,102,172)\", \"rgb(33,102,172)\", \"rgb(33,102,172)\", \"rgb(33,102,172)\", \"rgb(33,102,172)\"]}, \"x\": [1, 2, 3, 4, 5, 6, 7], \"y\": [0.07648953301127215, 0.14009661835748793, 0.3115942028985507, 0.22946859903381642, 0.18276972624798712, 0.04830917874396135, 0.011272141706924315], \"type\": \"bar\", \"uid\": \"3bfcb7ea-037c-4b1d-85f9-143ac64731fd\", \"xaxis\": \"x103\", \"yaxis\": \"y21\"}, {\"line\": {\"color\": \"gray\", \"shape\": \"spline\", \"width\": 3}, \"mode\": \"lines\", \"x\": [1, 2, 3, 4, 5, 6, 7], \"y\": [0.07185578359124661, 0.13864492108344612, 0.16100379332347023, 0.15654295710950153, 0.12406201137295872, 0.20754597914723844, 0.14034455437213836], \"type\": \"scatter\", \"uid\": \"82476205-1ba2-4187-ad9e-594813be1f77\", \"xaxis\": \"x103\", \"yaxis\": \"y21\"}, {\"marker\": {\"color\": [\"rgb(244,165,130)\", \"rgb(244,165,130)\", \"rgb(244,165,130)\", \"rgb(244,165,130)\", \"rgb(244,165,130)\", \"rgb(244,165,130)\", \"rgb(244,165,130)\"]}, \"x\": [1, 2, 3, 4, 5, 6, 7], \"y\": [0.09492140266021766, 0.18137847642079807, 0.3391777509068924, 0.17472793228536881, 0.11185006045949214, 0.09794437726723096, 0.0], \"type\": \"bar\", \"uid\": \"52009a61-7926-4ab6-b05e-e58ace5be04e\", \"xaxis\": \"x104\", \"yaxis\": \"y21\"}, {\"line\": {\"color\": \"gray\", \"shape\": \"spline\", \"width\": 3}, \"mode\": \"lines\", \"x\": [1, 2, 3, 4, 5, 6, 7], \"y\": [0.07185578359124661, 0.13864492108344612, 0.16100379332347023, 0.15654295710950153, 0.12406201137295872, 0.20754597914723844, 0.14034455437213836], \"type\": \"scatter\", \"uid\": \"4d972670-47fe-4c04-94d7-2e5ced3a92e1\", \"xaxis\": \"x104\", \"yaxis\": \"y21\"}, {\"marker\": {\"color\": [\"rgb(178,24,43)\", \"rgb(178,24,43)\", \"rgb(178,24,43)\", \"rgb(178,24,43)\", \"rgb(178,24,43)\", \"rgb(178,24,43)\", \"rgb(178,24,43)\"]}, \"x\": [1, 2, 3, 4, 5, 6, 7], \"y\": [0.08248264597795019, 0.2750102082482646, 0.2605144957125357, 0.21600653327888933, 0.08738260514495713, 0.07349938750510412, 0.005104124132298897], \"type\": \"bar\", \"uid\": \"a1592a18-10c6-41de-b5d7-04a5933f9c51\", \"xaxis\": \"x105\", \"yaxis\": \"y21\"}, {\"line\": {\"color\": \"gray\", \"shape\": \"spline\", \"width\": 3}, \"mode\": \"lines\", \"x\": [1, 2, 3, 4, 5, 6, 7], \"y\": [0.07185578359124661, 0.13864492108344612, 0.16100379332347023, 0.15654295710950153, 0.12406201137295872, 0.20754597914723844, 0.14034455437213836], \"type\": \"scatter\", \"uid\": \"dbf440cb-2ad0-4404-987e-7ee131e174a8\", \"xaxis\": \"x105\", \"yaxis\": \"y21\"}, {\"marker\": {\"color\": [\"rgb(214,96,77)\", \"rgb(214,96,77)\", \"rgb(214,96,77)\", \"rgb(214,96,77)\", \"rgb(214,96,77)\", \"rgb(214,96,77)\", \"rgb(214,96,77)\"]}, \"x\": [1, 2, 3, 4, 5, 6, 7], \"y\": [0.08317757009345794, 0.26635514018691586, 0.2411214953271028, 0.2514018691588785, 0.07476635514018691, 0.07757009345794393, 0.005607476635514018], \"type\": \"bar\", \"uid\": \"03346eb4-03f7-4cce-bc2d-e2a0029ef823\", \"xaxis\": \"x106\", \"yaxis\": \"y22\"}, {\"line\": {\"color\": \"gray\", \"shape\": \"spline\", \"width\": 3}, \"mode\": \"lines\", \"x\": [1, 2, 3, 4, 5, 6, 7], \"y\": [0.07185578359124661, 0.13864492108344612, 0.16100379332347023, 0.15654295710950153, 0.12406201137295872, 0.20754597914723844, 0.14034455437213836], \"type\": \"scatter\", \"uid\": \"fa20ba9b-e023-43ec-b2fc-3393b236725f\", \"xaxis\": \"x106\", \"yaxis\": \"y22\"}, {\"marker\": {\"color\": [\"rgb(5,48,97)\", \"rgb(5,48,97)\", \"rgb(5,48,97)\", \"rgb(5,48,97)\", \"rgb(5,48,97)\", \"rgb(5,48,97)\", \"rgb(5,48,97)\"]}, \"x\": [1, 2, 3, 4, 5, 6, 7], \"y\": [0.028547439126784216, 0.17716204869857263, 0.24181360201511334, 0.2586062132661629, 0.20235096557514692, 0.08900083963056256, 0.0025188916876574307], \"type\": \"bar\", \"uid\": \"2c62e9d0-8bd9-414c-9984-65bdee883b55\", \"xaxis\": \"x107\", \"yaxis\": \"y22\"}, {\"line\": {\"color\": \"gray\", \"shape\": \"spline\", \"width\": 3}, \"mode\": \"lines\", \"x\": [1, 2, 3, 4, 5, 6, 7], \"y\": [0.07185578359124661, 0.13864492108344612, 0.16100379332347023, 0.15654295710950153, 0.12406201137295872, 0.20754597914723844, 0.14034455437213836], \"type\": \"scatter\", \"uid\": \"c162ab70-e195-4cea-91f0-85236f35b0e4\", \"xaxis\": \"x107\", \"yaxis\": \"y22\"}, {\"marker\": {\"color\": [\"rgb(33,102,172)\", \"rgb(33,102,172)\", \"rgb(33,102,172)\", \"rgb(33,102,172)\", \"rgb(33,102,172)\", \"rgb(33,102,172)\", \"rgb(33,102,172)\"]}, \"x\": [1, 2, 3, 4, 5, 6, 7], \"y\": [0.05716302046577276, 0.24064925899788286, 0.360621030345801, 0.09809456598447425, 0.15031757233592097, 0.07974594213126324, 0.013408609738884969], \"type\": \"bar\", \"uid\": \"bb24c3ac-6207-4ec2-9ac4-504dbffe467d\", \"xaxis\": \"x108\", \"yaxis\": \"y22\"}, {\"line\": {\"color\": \"gray\", \"shape\": \"spline\", \"width\": 3}, \"mode\": \"lines\", \"x\": [1, 2, 3, 4, 5, 6, 7], \"y\": [0.07185578359124661, 0.13864492108344612, 0.16100379332347023, 0.15654295710950153, 0.12406201137295872, 0.20754597914723844, 0.14034455437213836], \"type\": \"scatter\", \"uid\": \"6cff948d-5c07-4f4f-bf7f-35491aaedf0b\", \"xaxis\": \"x108\", \"yaxis\": \"y22\"}, {\"marker\": {\"color\": [\"rgb(244,165,130)\", \"rgb(244,165,130)\", \"rgb(244,165,130)\", \"rgb(244,165,130)\", \"rgb(244,165,130)\", \"rgb(244,165,130)\", \"rgb(244,165,130)\"]}, \"x\": [1, 2, 3, 4, 5, 6, 7], \"y\": [0.11746522411128284, 0.1635239567233385, 0.3038639876352396, 0.2550231839258114, 0.0893353941267388, 0.05965996908809892, 0.011128284389489953], \"type\": \"bar\", \"uid\": \"9dbe312d-6cf9-49fc-b88d-f7b1e2a68b7f\", \"xaxis\": \"x109\", \"yaxis\": \"y22\"}, {\"line\": {\"color\": \"gray\", \"shape\": \"spline\", \"width\": 3}, \"mode\": \"lines\", \"x\": [1, 2, 3, 4, 5, 6, 7], \"y\": [0.07185578359124661, 0.13864492108344612, 0.16100379332347023, 0.15654295710950153, 0.12406201137295872, 0.20754597914723844, 0.14034455437213836], \"type\": \"scatter\", \"uid\": \"53729be4-2463-4f3e-979d-933d7c8c5a7a\", \"xaxis\": \"x109\", \"yaxis\": \"y22\"}, {\"marker\": {\"color\": [\"rgb(178,24,43)\", \"rgb(178,24,43)\", \"rgb(178,24,43)\", \"rgb(178,24,43)\", \"rgb(178,24,43)\", \"rgb(178,24,43)\", \"rgb(178,24,43)\"]}, \"x\": [1, 2, 3, 4, 5, 6, 7], \"y\": [0.0831638418079096, 0.19502824858757062, 0.2917514124293785, 0.256271186440678, 0.09988700564971752, 0.06824858757062147, 0.005649717514124294], \"type\": \"bar\", \"uid\": \"48d006e9-197b-44b6-b588-a9aa1e729e02\", \"xaxis\": \"x110\", \"yaxis\": \"y22\"}, {\"line\": {\"color\": \"gray\", \"shape\": \"spline\", \"width\": 3}, \"mode\": \"lines\", \"x\": [1, 2, 3, 4, 5, 6, 7], \"y\": [0.07185578359124661, 0.13864492108344612, 0.16100379332347023, 0.15654295710950153, 0.12406201137295872, 0.20754597914723844, 0.14034455437213836], \"type\": \"scatter\", \"uid\": \"85e7d0ad-52ec-4047-8565-d99d783e8674\", \"xaxis\": \"x110\", \"yaxis\": \"y22\"}, {\"marker\": {\"color\": [\"rgb(214,96,77)\", \"rgb(214,96,77)\", \"rgb(214,96,77)\", \"rgb(214,96,77)\", \"rgb(214,96,77)\", \"rgb(214,96,77)\", \"rgb(214,96,77)\"]}, \"x\": [1, 2, 3, 4, 5, 6, 7], \"y\": [0.09541904158750264, 0.23664766729997888, 0.25438040954190416, 0.27971289845894026, 0.05636478784040532, 0.05742030821194849, 0.020054887059320244], \"type\": \"bar\", \"uid\": \"62c94289-55ae-4725-ac32-3fbe549d19a6\", \"xaxis\": \"x111\", \"yaxis\": \"y23\"}, {\"line\": {\"color\": \"gray\", \"shape\": \"spline\", \"width\": 3}, \"mode\": \"lines\", \"x\": [1, 2, 3, 4, 5, 6, 7], \"y\": [0.07185578359124661, 0.13864492108344612, 0.16100379332347023, 0.15654295710950153, 0.12406201137295872, 0.20754597914723844, 0.14034455437213836], \"type\": \"scatter\", \"uid\": \"d8c1cac4-b026-40a0-bf34-3a329c6d659f\", \"xaxis\": \"x111\", \"yaxis\": \"y23\"}, {\"marker\": {\"color\": [\"rgb(5,48,97)\", \"rgb(5,48,97)\", \"rgb(5,48,97)\", \"rgb(5,48,97)\", \"rgb(5,48,97)\", \"rgb(5,48,97)\", \"rgb(5,48,97)\"]}, \"x\": [1, 2, 3, 4, 5, 6, 7], \"y\": [0.05334890965732087, 0.2908878504672897, 0.24221183800623053, 0.23169781931464176, 0.11604361370716511, 0.045171339563862926, 0.020638629283489095], \"type\": \"bar\", \"uid\": \"df23acab-14e2-42e6-b6ba-279860abff64\", \"xaxis\": \"x112\", \"yaxis\": \"y23\"}, {\"line\": {\"color\": \"gray\", \"shape\": \"spline\", \"width\": 3}, \"mode\": \"lines\", \"x\": [1, 2, 3, 4, 5, 6, 7], \"y\": [0.07185578359124661, 0.13864492108344612, 0.16100379332347023, 0.15654295710950153, 0.12406201137295872, 0.20754597914723844, 0.14034455437213836], \"type\": \"scatter\", \"uid\": \"cf800e15-4342-458e-a023-1e43a22dd1b9\", \"xaxis\": \"x112\", \"yaxis\": \"y23\"}, {\"marker\": {\"color\": [\"rgb(33,102,172)\", \"rgb(33,102,172)\", \"rgb(33,102,172)\", \"rgb(33,102,172)\", \"rgb(33,102,172)\", \"rgb(33,102,172)\", \"rgb(33,102,172)\"]}, \"x\": [1, 2, 3, 4, 5, 6, 7], \"y\": [0.14652711703139867, 0.15509039010466222, 0.24262607040913417, 0.2844909609895338, 0.10180780209324453, 0.05708848715509039, 0.012369172216936251], \"type\": \"bar\", \"uid\": \"8462e28a-5219-47ee-a0e4-e183a88898fd\", \"xaxis\": \"x113\", \"yaxis\": \"y23\"}, {\"line\": {\"color\": \"gray\", \"shape\": \"spline\", \"width\": 3}, \"mode\": \"lines\", \"x\": [1, 2, 3, 4, 5, 6, 7], \"y\": [0.07185578359124661, 0.13864492108344612, 0.16100379332347023, 0.15654295710950153, 0.12406201137295872, 0.20754597914723844, 0.14034455437213836], \"type\": \"scatter\", \"uid\": \"385a95c3-bdf7-452e-aeb7-47df91cbdd36\", \"xaxis\": \"x113\", \"yaxis\": \"y23\"}, {\"marker\": {\"color\": [\"rgb(244,165,130)\", \"rgb(244,165,130)\", \"rgb(244,165,130)\", \"rgb(244,165,130)\", \"rgb(244,165,130)\", \"rgb(244,165,130)\", \"rgb(244,165,130)\"]}, \"x\": [1, 2, 3, 4, 5, 6, 7], \"y\": [0.09694454922670691, 0.23915503583553377, 0.23613730667672575, 0.23500565824217276, 0.12033195020746888, 0.06865333836288193, 0.003772161448509996], \"type\": \"bar\", \"uid\": \"50bbab5d-c8af-46bf-aa0c-78c0d98c0e4a\", \"xaxis\": \"x114\", \"yaxis\": \"y23\"}, {\"line\": {\"color\": \"gray\", \"shape\": \"spline\", \"width\": 3}, \"mode\": \"lines\", \"x\": [1, 2, 3, 4, 5, 6, 7], \"y\": [0.07185578359124661, 0.13864492108344612, 0.16100379332347023, 0.15654295710950153, 0.12406201137295872, 0.20754597914723844, 0.14034455437213836], \"type\": \"scatter\", \"uid\": \"21e91009-e777-4e6a-a721-bce0c42e3abb\", \"xaxis\": \"x114\", \"yaxis\": \"y23\"}, {\"marker\": {\"color\": [\"rgb(178,24,43)\", \"rgb(178,24,43)\", \"rgb(178,24,43)\", \"rgb(178,24,43)\", \"rgb(178,24,43)\", \"rgb(178,24,43)\", \"rgb(178,24,43)\"]}, \"x\": [1, 2, 3, 4, 5, 6, 7], \"y\": [0.08599827139152982, 0.20872947277441659, 0.27009507346586, 0.2677182368193604, 0.0898876404494382, 0.07108902333621435, 0.00648228176318064], \"type\": \"bar\", \"uid\": \"94200387-b276-4349-8f4f-d4c17662f704\", \"xaxis\": \"x115\", \"yaxis\": \"y23\"}, {\"line\": {\"color\": \"gray\", \"shape\": \"spline\", \"width\": 3}, \"mode\": \"lines\", \"x\": [1, 2, 3, 4, 5, 6, 7], \"y\": [0.07185578359124661, 0.13864492108344612, 0.16100379332347023, 0.15654295710950153, 0.12406201137295872, 0.20754597914723844, 0.14034455437213836], \"type\": \"scatter\", \"uid\": \"a120ae0e-1f99-4529-a41d-3ad4ee019ef4\", \"xaxis\": \"x115\", \"yaxis\": \"y23\"}, {\"marker\": {\"color\": [\"rgb(214,96,77)\", \"rgb(214,96,77)\", \"rgb(214,96,77)\", \"rgb(214,96,77)\", \"rgb(214,96,77)\", \"rgb(214,96,77)\", \"rgb(214,96,77)\"]}, \"x\": [1, 2, 3, 4, 5, 6, 7], \"y\": [0.10413793103448275, 0.3303448275862069, 0.07103448275862069, 0.20482758620689656, 0.05931034482758621, 0.22275862068965518, 0.007586206896551724], \"type\": \"bar\", \"uid\": \"513a3e94-070b-444f-a67e-215eb5504600\", \"xaxis\": \"x116\", \"yaxis\": \"y24\"}, {\"line\": {\"color\": \"gray\", \"shape\": \"spline\", \"width\": 3}, \"mode\": \"lines\", \"x\": [1, 2, 3, 4, 5, 6, 7], \"y\": [0.07185578359124661, 0.13864492108344612, 0.16100379332347023, 0.15654295710950153, 0.12406201137295872, 0.20754597914723844, 0.14034455437213836], \"type\": \"scatter\", \"uid\": \"684d2066-928e-4c7f-99d7-ff8b7249c665\", \"xaxis\": \"x116\", \"yaxis\": \"y24\"}, {\"marker\": {\"color\": [\"rgb(5,48,97)\", \"rgb(5,48,97)\", \"rgb(5,48,97)\", \"rgb(5,48,97)\", \"rgb(5,48,97)\", \"rgb(5,48,97)\", \"rgb(5,48,97)\"]}, \"x\": [1, 2, 3, 4, 5, 6, 7], \"y\": [0.16472545757071547, 0.19633943427620631, 0.1788685524126456, 0.2529118136439268, 0.08818635607321132, 0.11896838602329451, 0.0], \"type\": \"bar\", \"uid\": \"0836540f-277c-49de-aba8-8fed981f138d\", \"xaxis\": \"x117\", \"yaxis\": \"y24\"}, {\"line\": {\"color\": \"gray\", \"shape\": \"spline\", \"width\": 3}, \"mode\": \"lines\", \"x\": [1, 2, 3, 4, 5, 6, 7], \"y\": [0.07185578359124661, 0.13864492108344612, 0.16100379332347023, 0.15654295710950153, 0.12406201137295872, 0.20754597914723844, 0.14034455437213836], \"type\": \"scatter\", \"uid\": \"83429d39-f17a-46a1-bbe8-cc0f16d41c29\", \"xaxis\": \"x117\", \"yaxis\": \"y24\"}, {\"marker\": {\"color\": [\"rgb(33,102,172)\", \"rgb(33,102,172)\", \"rgb(33,102,172)\", \"rgb(33,102,172)\", \"rgb(33,102,172)\", \"rgb(33,102,172)\", \"rgb(33,102,172)\"]}, \"x\": [1, 2, 3, 4, 5, 6, 7], \"y\": [0.09916559691912709, 0.2647625160462131, 0.20507060333761232, 0.2345956354300385, 0.08151476251604621, 0.11489088575096278, 0.0], \"type\": \"bar\", \"uid\": \"52ae066c-0934-4c7e-86d3-2b38c98f5a88\", \"xaxis\": \"x118\", \"yaxis\": \"y24\"}, {\"line\": {\"color\": \"gray\", \"shape\": \"spline\", \"width\": 3}, \"mode\": \"lines\", \"x\": [1, 2, 3, 4, 5, 6, 7], \"y\": [0.07185578359124661, 0.13864492108344612, 0.16100379332347023, 0.15654295710950153, 0.12406201137295872, 0.20754597914723844, 0.14034455437213836], \"type\": \"scatter\", \"uid\": \"2b1d76e4-dd4c-4b93-86fc-dcc640b2a0db\", \"xaxis\": \"x118\", \"yaxis\": \"y24\"}, {\"marker\": {\"color\": [\"rgb(244,165,130)\", \"rgb(244,165,130)\", \"rgb(244,165,130)\", \"rgb(244,165,130)\", \"rgb(244,165,130)\", \"rgb(244,165,130)\", \"rgb(244,165,130)\"]}, \"x\": [1, 2, 3, 4, 5, 6, 7], \"y\": [0.1071177335806101, 0.20336381658885977, 0.2722389205090491, 0.2517106861930038, 0.10142610475155081, 0.049434034661380064, 0.01470870371554646], \"type\": \"bar\", \"uid\": \"e935e027-3170-4afd-8398-932750e945b6\", \"xaxis\": \"x119\", \"yaxis\": \"y24\"}, {\"line\": {\"color\": \"gray\", \"shape\": \"spline\", \"width\": 3}, \"mode\": \"lines\", \"x\": [1, 2, 3, 4, 5, 6, 7], \"y\": [0.07185578359124661, 0.13864492108344612, 0.16100379332347023, 0.15654295710950153, 0.12406201137295872, 0.20754597914723844, 0.14034455437213836], \"type\": \"scatter\", \"uid\": \"5bbed361-94b3-4fb3-a1ac-3780b911692f\", \"xaxis\": \"x119\", \"yaxis\": \"y24\"}, {\"marker\": {\"color\": [\"rgb(178,24,43)\", \"rgb(178,24,43)\", \"rgb(178,24,43)\", \"rgb(178,24,43)\", \"rgb(178,24,43)\", \"rgb(178,24,43)\", \"rgb(178,24,43)\"]}, \"x\": [1, 2, 3, 4, 5, 6, 7], \"y\": [0.041179744017807454, 0.24485253199777407, 0.37506956037840844, 0.1285475792988314, 0.08013355592654424, 0.11797440178074568, 0.012242626599888704], \"type\": \"bar\", \"uid\": \"fae7b138-985c-47da-9c03-4d8e0af5da65\", \"xaxis\": \"x120\", \"yaxis\": \"y24\"}, {\"line\": {\"color\": \"gray\", \"shape\": \"spline\", \"width\": 3}, \"mode\": \"lines\", \"x\": [1, 2, 3, 4, 5, 6, 7], \"y\": [0.07185578359124661, 0.13864492108344612, 0.16100379332347023, 0.15654295710950153, 0.12406201137295872, 0.20754597914723844, 0.14034455437213836], \"type\": \"scatter\", \"uid\": \"1ad8776f-6dbc-4fe3-9a18-a84a23a63322\", \"xaxis\": \"x120\", \"yaxis\": \"y24\"}, {\"marker\": {\"color\": [\"rgb(214,96,77)\", \"rgb(214,96,77)\", \"rgb(214,96,77)\", \"rgb(214,96,77)\", \"rgb(214,96,77)\", \"rgb(214,96,77)\", \"rgb(214,96,77)\"]}, \"x\": [1, 2, 3, 4, 5, 6, 7], \"y\": [0.0678075038161806, 0.2198120028922632, 0.2462440748774805, 0.2939664176106692, 0.10524624407487748, 0.037760102836024746, 0.029163653892504218], \"type\": \"bar\", \"uid\": \"dd564c5e-07e5-489f-aa35-ade69c586fab\", \"xaxis\": \"x121\", \"yaxis\": \"y25\"}, {\"line\": {\"color\": \"gray\", \"shape\": \"spline\", \"width\": 3}, \"mode\": \"lines\", \"x\": [1, 2, 3, 4, 5, 6, 7], \"y\": [0.07185578359124661, 0.13864492108344612, 0.16100379332347023, 0.15654295710950153, 0.12406201137295872, 0.20754597914723844, 0.14034455437213836], \"type\": \"scatter\", \"uid\": \"f9a2ad34-9917-4395-9c90-0595aebc78e2\", \"xaxis\": \"x121\", \"yaxis\": \"y25\"}, {\"marker\": {\"color\": [\"rgb(5,48,97)\", \"rgb(5,48,97)\", \"rgb(5,48,97)\", \"rgb(5,48,97)\", \"rgb(5,48,97)\", \"rgb(5,48,97)\", \"rgb(5,48,97)\"]}, \"x\": [1, 2, 3, 4, 5, 6, 7], \"y\": [0.10925230454079891, 0.28747012632297714, 0.1707067258449983, 0.24581768521679753, 0.05769887333560942, 0.12427449641515875, 0.004779788323659952], \"type\": \"bar\", \"uid\": \"de36105c-bcb5-4beb-961f-1c0ed608c2ec\", \"xaxis\": \"x122\", \"yaxis\": \"y25\"}, {\"line\": {\"color\": \"gray\", \"shape\": \"spline\", \"width\": 3}, \"mode\": \"lines\", \"x\": [1, 2, 3, 4, 5, 6, 7], \"y\": [0.07185578359124661, 0.13864492108344612, 0.16100379332347023, 0.15654295710950153, 0.12406201137295872, 0.20754597914723844, 0.14034455437213836], \"type\": \"scatter\", \"uid\": \"127b74f0-c272-4f3e-91be-10d905756c60\", \"xaxis\": \"x122\", \"yaxis\": \"y25\"}, {\"marker\": {\"color\": [\"rgb(33,102,172)\", \"rgb(33,102,172)\", \"rgb(33,102,172)\", \"rgb(33,102,172)\", \"rgb(33,102,172)\", \"rgb(33,102,172)\", \"rgb(33,102,172)\"]}, \"x\": [1, 2, 3, 4, 5, 6, 7], \"y\": [0.09485589201021526, 0.15541773075519882, 0.2557460780736957, 0.31594308646479385, 0.056548704852243704, 0.11455673112002919, 0.006931776723823422], \"type\": \"bar\", \"uid\": \"93714f34-727c-4f1c-95a3-d3faca5c216f\", \"xaxis\": \"x123\", \"yaxis\": \"y25\"}, {\"line\": {\"color\": \"gray\", \"shape\": \"spline\", \"width\": 3}, \"mode\": \"lines\", \"x\": [1, 2, 3, 4, 5, 6, 7], \"y\": [0.07185578359124661, 0.13864492108344612, 0.16100379332347023, 0.15654295710950153, 0.12406201137295872, 0.20754597914723844, 0.14034455437213836], \"type\": \"scatter\", \"uid\": \"52b80dd2-8d9a-4323-ac32-e6065748e274\", \"xaxis\": \"x123\", \"yaxis\": \"y25\"}, {\"marker\": {\"color\": [\"rgb(244,165,130)\", \"rgb(244,165,130)\", \"rgb(244,165,130)\", \"rgb(244,165,130)\", \"rgb(244,165,130)\", \"rgb(244,165,130)\", \"rgb(244,165,130)\"]}, \"x\": [1, 2, 3, 4, 5, 6, 7], \"y\": [0.01879927228623408, 0.1873862947240752, 0.3007883565797453, 0.2619769557307459, 0.12249848392965433, 0.0976349302607641, 0.010915706488781079], \"type\": \"bar\", \"uid\": \"6a828600-a357-4326-9720-6fa95751d16d\", \"xaxis\": \"x124\", \"yaxis\": \"y25\"}, {\"line\": {\"color\": \"gray\", \"shape\": \"spline\", \"width\": 3}, \"mode\": \"lines\", \"x\": [1, 2, 3, 4, 5, 6, 7], \"y\": [0.07185578359124661, 0.13864492108344612, 0.16100379332347023, 0.15654295710950153, 0.12406201137295872, 0.20754597914723844, 0.14034455437213836], \"type\": \"scatter\", \"uid\": \"ed31ce97-ccf5-4a8a-82fb-bc6059d78e32\", \"xaxis\": \"x124\", \"yaxis\": \"y25\"}, {\"marker\": {\"color\": [\"rgb(178,24,43)\", \"rgb(178,24,43)\", \"rgb(178,24,43)\", \"rgb(178,24,43)\", \"rgb(178,24,43)\", \"rgb(178,24,43)\", \"rgb(178,24,43)\"]}, \"x\": [1, 2, 3, 4, 5, 6, 7], \"y\": [0.056591122435295696, 0.20946761432211344, 0.27799383129945016, 0.2946225023467883, 0.08086361807697466, 0.042376290733538956, 0.03808502078583881], \"type\": \"bar\", \"uid\": \"ecd5d45f-3739-460c-8898-6e43d2cc31dd\", \"xaxis\": \"x125\", \"yaxis\": \"y25\"}, {\"line\": {\"color\": \"gray\", \"shape\": \"spline\", \"width\": 3}, \"mode\": \"lines\", \"x\": [1, 2, 3, 4, 5, 6, 7], \"y\": [0.07185578359124661, 0.13864492108344612, 0.16100379332347023, 0.15654295710950153, 0.12406201137295872, 0.20754597914723844, 0.14034455437213836], \"type\": \"scatter\", \"uid\": \"2b02f10f-a188-457c-baa9-fae30eafce4c\", \"xaxis\": \"x125\", \"yaxis\": \"y25\"}, {\"marker\": {\"color\": [\"rgb(214,96,77)\", \"rgb(214,96,77)\", \"rgb(214,96,77)\", \"rgb(214,96,77)\", \"rgb(214,96,77)\", \"rgb(214,96,77)\", \"rgb(214,96,77)\"]}, \"x\": [1, 2, 3, 4, 5, 6, 7], \"y\": [0.08508541392904073, 0.17936925098554535, 0.26773981603153746, 0.2828515111695138, 0.08278580814717477, 0.09789750328515112, 0.0042706964520367935], \"type\": \"bar\", \"uid\": \"0e40c69e-fbfc-45b6-b7b5-f6bf01d1d46f\", \"xaxis\": \"x126\", \"yaxis\": \"y26\"}, {\"line\": {\"color\": \"gray\", \"shape\": \"spline\", \"width\": 3}, \"mode\": \"lines\", \"x\": [1, 2, 3, 4, 5, 6, 7], \"y\": [0.07185578359124661, 0.13864492108344612, 0.16100379332347023, 0.15654295710950153, 0.12406201137295872, 0.20754597914723844, 0.14034455437213836], \"type\": \"scatter\", \"uid\": \"76a50a77-be52-4a08-a86f-9df9e0a800f2\", \"xaxis\": \"x126\", \"yaxis\": \"y26\"}, {\"marker\": {\"color\": [\"rgb(5,48,97)\", \"rgb(5,48,97)\", \"rgb(5,48,97)\", \"rgb(5,48,97)\", \"rgb(5,48,97)\", \"rgb(5,48,97)\", \"rgb(5,48,97)\"]}, \"x\": [1, 2, 3, 4, 5, 6, 7], \"y\": [0.05065666041275797, 0.11632270168855535, 0.1303939962476548, 0.22045028142589118, 0.08911819887429644, 0.39305816135084426, 0.0], \"type\": \"bar\", \"uid\": \"fa2de753-a745-4fab-8ed2-01fe970c81af\", \"xaxis\": \"x127\", \"yaxis\": \"y26\"}, {\"line\": {\"color\": \"gray\", \"shape\": \"spline\", \"width\": 3}, \"mode\": \"lines\", \"x\": [1, 2, 3, 4, 5, 6, 7], \"y\": [0.07185578359124661, 0.13864492108344612, 0.16100379332347023, 0.15654295710950153, 0.12406201137295872, 0.20754597914723844, 0.14034455437213836], \"type\": \"scatter\", \"uid\": \"6891f668-dc9f-4424-aa9e-a7ecbe7f1665\", \"xaxis\": \"x127\", \"yaxis\": \"y26\"}, {\"marker\": {\"color\": [\"rgb(33,102,172)\", \"rgb(33,102,172)\", \"rgb(33,102,172)\", \"rgb(33,102,172)\", \"rgb(33,102,172)\", \"rgb(33,102,172)\", \"rgb(33,102,172)\"]}, \"x\": [1, 2, 3, 4, 5, 6, 7], \"y\": [0.05442176870748299, 0.2199546485260771, 0.2600151171579743, 0.17611489040060468, 0.17687074829931973, 0.1126228269085412, 0.0], \"type\": \"bar\", \"uid\": \"3d0fccf0-ed4c-444e-8adf-1561613e5fcb\", \"xaxis\": \"x128\", \"yaxis\": \"y26\"}, {\"line\": {\"color\": \"gray\", \"shape\": \"spline\", \"width\": 3}, \"mode\": \"lines\", \"x\": [1, 2, 3, 4, 5, 6, 7], \"y\": [0.07185578359124661, 0.13864492108344612, 0.16100379332347023, 0.15654295710950153, 0.12406201137295872, 0.20754597914723844, 0.14034455437213836], \"type\": \"scatter\", \"uid\": \"df25cdab-d7d4-471c-a37e-50ac30f2010e\", \"xaxis\": \"x128\", \"yaxis\": \"y26\"}, {\"marker\": {\"color\": [\"rgb(244,165,130)\", \"rgb(244,165,130)\", \"rgb(244,165,130)\", \"rgb(244,165,130)\", \"rgb(244,165,130)\", \"rgb(244,165,130)\", \"rgb(244,165,130)\"]}, \"x\": [1, 2, 3, 4, 5, 6, 7], \"y\": [0.023423423423423424, 0.03873873873873874, 0.07207207207207207, 0.0981981981981982, 0.06396396396396396, 0.3918918918918919, 0.3117117117117117], \"type\": \"bar\", \"uid\": \"3dd273cd-a2cd-44c3-8d2e-edc26a96caad\", \"xaxis\": \"x129\", \"yaxis\": \"y26\"}, {\"line\": {\"color\": \"gray\", \"shape\": \"spline\", \"width\": 3}, \"mode\": \"lines\", \"x\": [1, 2, 3, 4, 5, 6, 7], \"y\": [0.07185578359124661, 0.13864492108344612, 0.16100379332347023, 0.15654295710950153, 0.12406201137295872, 0.20754597914723844, 0.14034455437213836], \"type\": \"scatter\", \"uid\": \"c170be8e-2bd5-4045-8865-38826a7232b1\", \"xaxis\": \"x129\", \"yaxis\": \"y26\"}, {\"marker\": {\"color\": [\"rgb(178,24,43)\", \"rgb(178,24,43)\", \"rgb(178,24,43)\", \"rgb(178,24,43)\", \"rgb(178,24,43)\", \"rgb(178,24,43)\", \"rgb(178,24,43)\"]}, \"x\": [1, 2, 3, 4, 5, 6, 7], \"y\": [0.05239742956005932, 0.11220958971824024, 0.2184873949579832, 0.28126544735541276, 0.24715768660405338, 0.07414730598121602, 0.014335145823035097], \"type\": \"bar\", \"uid\": \"c548772c-a107-4c64-9ec4-3eeed1aaf784\", \"xaxis\": \"x130\", \"yaxis\": \"y26\"}, {\"line\": {\"color\": \"gray\", \"shape\": \"spline\", \"width\": 3}, \"mode\": \"lines\", \"x\": [1, 2, 3, 4, 5, 6, 7], \"y\": [0.07185578359124661, 0.13864492108344612, 0.16100379332347023, 0.15654295710950153, 0.12406201137295872, 0.20754597914723844, 0.14034455437213836], \"type\": \"scatter\", \"uid\": \"6cb31cdf-e17f-4e0c-a7b1-1b233272770f\", \"xaxis\": \"x130\", \"yaxis\": \"y26\"}, {\"marker\": {\"color\": [\"rgb(214,96,77)\", \"rgb(214,96,77)\", \"rgb(214,96,77)\", \"rgb(214,96,77)\", \"rgb(214,96,77)\", \"rgb(214,96,77)\", \"rgb(214,96,77)\"]}, \"x\": [1, 2, 3, 4, 5, 6, 7], \"y\": [0.06733393994540492, 0.2484076433121019, 0.353958143767061, 0.15286624203821655, 0.08826205641492266, 0.0545950864422202, 0.034576888080072796], \"type\": \"bar\", \"uid\": \"148e56de-6f54-408a-8341-6e74aef634a9\", \"xaxis\": \"x131\", \"yaxis\": \"y27\"}, {\"line\": {\"color\": \"gray\", \"shape\": \"spline\", \"width\": 3}, \"mode\": \"lines\", \"x\": [1, 2, 3, 4, 5, 6, 7], \"y\": [0.07185578359124661, 0.13864492108344612, 0.16100379332347023, 0.15654295710950153, 0.12406201137295872, 0.20754597914723844, 0.14034455437213836], \"type\": \"scatter\", \"uid\": \"d9d05563-c17e-4bfd-960d-7e219740e9fd\", \"xaxis\": \"x131\", \"yaxis\": \"y27\"}, {\"marker\": {\"color\": [\"rgb(5,48,97)\", \"rgb(5,48,97)\", \"rgb(5,48,97)\", \"rgb(5,48,97)\", \"rgb(5,48,97)\", \"rgb(5,48,97)\", \"rgb(5,48,97)\"]}, \"x\": [1, 2, 3, 4, 5, 6, 7], \"y\": [0.06658184902459711, 0.26632739609838846, 0.272264631043257, 0.21162001696352842, 0.10093299406276506, 0.06870229007633588, 0.013570822731128074], \"type\": \"bar\", \"uid\": \"88eefba5-08bc-4545-9eb4-4ca1c50cdbf1\", \"xaxis\": \"x132\", \"yaxis\": \"y27\"}, {\"line\": {\"color\": \"gray\", \"shape\": \"spline\", \"width\": 3}, \"mode\": \"lines\", \"x\": [1, 2, 3, 4, 5, 6, 7], \"y\": [0.07185578359124661, 0.13864492108344612, 0.16100379332347023, 0.15654295710950153, 0.12406201137295872, 0.20754597914723844, 0.14034455437213836], \"type\": \"scatter\", \"uid\": \"e91d3cde-b75a-4181-a0b2-736000b8643b\", \"xaxis\": \"x132\", \"yaxis\": \"y27\"}, {\"marker\": {\"color\": [\"rgb(33,102,172)\", \"rgb(33,102,172)\", \"rgb(33,102,172)\", \"rgb(33,102,172)\", \"rgb(33,102,172)\", \"rgb(33,102,172)\", \"rgb(33,102,172)\"]}, \"x\": [1, 2, 3, 4, 5, 6, 7], \"y\": [0.011383039271485486, 0.056346044393853156, 0.055776892430278883, 0.08195788275469551, 0.12293682413204325, 0.33636881047239614, 0.3352305065452476], \"type\": \"bar\", \"uid\": \"55aee6ef-3eb4-4059-9f84-fbb6b9759e24\", \"xaxis\": \"x133\", \"yaxis\": \"y27\"}, {\"line\": {\"color\": \"gray\", \"shape\": \"spline\", \"width\": 3}, \"mode\": \"lines\", \"x\": [1, 2, 3, 4, 5, 6, 7], \"y\": [0.07185578359124661, 0.13864492108344612, 0.16100379332347023, 0.15654295710950153, 0.12406201137295872, 0.20754597914723844, 0.14034455437213836], \"type\": \"scatter\", \"uid\": \"7c4e9223-ca65-4060-9ee5-d4bc891e2673\", \"xaxis\": \"x133\", \"yaxis\": \"y27\"}, {\"marker\": {\"color\": [\"rgb(244,165,130)\", \"rgb(244,165,130)\", \"rgb(244,165,130)\", \"rgb(244,165,130)\", \"rgb(244,165,130)\", \"rgb(244,165,130)\", \"rgb(244,165,130)\"]}, \"x\": [1, 2, 3, 4, 5, 6, 7], \"y\": [0.11027332704995288, 0.3411875589066918, 0.2469368520263902, 0.11592836946277098, 0.07163053722902922, 0.09048067860508954, 0.0235626767200754], \"type\": \"bar\", \"uid\": \"d4a22dbd-847f-4eea-a2f1-b087e7ea0a56\", \"xaxis\": \"x134\", \"yaxis\": \"y27\"}, {\"line\": {\"color\": \"gray\", \"shape\": \"spline\", \"width\": 3}, \"mode\": \"lines\", \"x\": [1, 2, 3, 4, 5, 6, 7], \"y\": [0.07185578359124661, 0.13864492108344612, 0.16100379332347023, 0.15654295710950153, 0.12406201137295872, 0.20754597914723844, 0.14034455437213836], \"type\": \"scatter\", \"uid\": \"054195bc-5ea0-4486-ab64-154e39399d45\", \"xaxis\": \"x134\", \"yaxis\": \"y27\"}, {\"marker\": {\"color\": [\"rgb(178,24,43)\", \"rgb(178,24,43)\", \"rgb(178,24,43)\", \"rgb(178,24,43)\", \"rgb(178,24,43)\", \"rgb(178,24,43)\", \"rgb(178,24,43)\"]}, \"x\": [1, 2, 3, 4, 5, 6, 7], \"y\": [0.06518518518518518, 0.2123456790123457, 0.1817283950617284, 0.26271604938271603, 0.04839506172839506, 0.22962962962962963, 0.0], \"type\": \"bar\", \"uid\": \"be32a80e-2ac3-4b11-811e-e7e26e573db6\", \"xaxis\": \"x135\", \"yaxis\": \"y27\"}, {\"line\": {\"color\": \"gray\", \"shape\": \"spline\", \"width\": 3}, \"mode\": \"lines\", \"x\": [1, 2, 3, 4, 5, 6, 7], \"y\": [0.07185578359124661, 0.13864492108344612, 0.16100379332347023, 0.15654295710950153, 0.12406201137295872, 0.20754597914723844, 0.14034455437213836], \"type\": \"scatter\", \"uid\": \"4d88be59-439b-4c42-aa18-7b40383852f4\", \"xaxis\": \"x135\", \"yaxis\": \"y27\"}, {\"marker\": {\"color\": [\"rgb(214,96,77)\", \"rgb(214,96,77)\", \"rgb(214,96,77)\", \"rgb(214,96,77)\", \"rgb(214,96,77)\", \"rgb(214,96,77)\", \"rgb(214,96,77)\"]}, \"x\": [1, 2, 3, 4, 5, 6, 7], \"y\": [0.024368231046931407, 0.12454873646209386, 0.2536101083032491, 0.2870036101083033, 0.19855595667870035, 0.10198555956678701, 0.009927797833935019], \"type\": \"bar\", \"uid\": \"e33bf2c1-d2f0-4c04-85ce-de614b9864d4\", \"xaxis\": \"x136\", \"yaxis\": \"y28\"}, {\"line\": {\"color\": \"gray\", \"shape\": \"spline\", \"width\": 3}, \"mode\": \"lines\", \"x\": [1, 2, 3, 4, 5, 6, 7], \"y\": [0.07185578359124661, 0.13864492108344612, 0.16100379332347023, 0.15654295710950153, 0.12406201137295872, 0.20754597914723844, 0.14034455437213836], \"type\": \"scatter\", \"uid\": \"14aaa8a7-6cb0-4290-a08c-c51bb1df9688\", \"xaxis\": \"x136\", \"yaxis\": \"y28\"}, {\"marker\": {\"color\": [\"rgb(5,48,97)\", \"rgb(5,48,97)\", \"rgb(5,48,97)\", \"rgb(5,48,97)\", \"rgb(5,48,97)\", \"rgb(5,48,97)\", \"rgb(5,48,97)\"]}, \"x\": [1, 2, 3, 4, 5, 6, 7], \"y\": [0.10221316249271986, 0.2623762376237624, 0.1916132789749563, 0.16919044845661035, 0.05096097845078625, 0.22364589400116483, 0.0], \"type\": \"bar\", \"uid\": \"365ea672-1ad9-411f-8123-5fcec10473a6\", \"xaxis\": \"x137\", \"yaxis\": \"y28\"}, {\"line\": {\"color\": \"gray\", \"shape\": \"spline\", \"width\": 3}, \"mode\": \"lines\", \"x\": [1, 2, 3, 4, 5, 6, 7], \"y\": [0.07185578359124661, 0.13864492108344612, 0.16100379332347023, 0.15654295710950153, 0.12406201137295872, 0.20754597914723844, 0.14034455437213836], \"type\": \"scatter\", \"uid\": \"e03ccbde-ea1c-4d19-ac0e-0d9d477c7fb7\", \"xaxis\": \"x137\", \"yaxis\": \"y28\"}, {\"marker\": {\"color\": [\"rgb(33,102,172)\", \"rgb(33,102,172)\", \"rgb(33,102,172)\", \"rgb(33,102,172)\", \"rgb(33,102,172)\", \"rgb(33,102,172)\", \"rgb(33,102,172)\"]}, \"x\": [1, 2, 3, 4, 5, 6, 7], \"y\": [0.1100729261622607, 0.20738377392889698, 0.23701002734731086, 0.25546946216955335, 0.07839562443026436, 0.1089334548769371, 0.0027347310847766638], \"type\": \"bar\", \"uid\": \"a8f7b4dd-8e0d-44fd-97cf-38dd235c8226\", \"xaxis\": \"x138\", \"yaxis\": \"y28\"}, {\"line\": {\"color\": \"gray\", \"shape\": \"spline\", \"width\": 3}, \"mode\": \"lines\", \"x\": [1, 2, 3, 4, 5, 6, 7], \"y\": [0.07185578359124661, 0.13864492108344612, 0.16100379332347023, 0.15654295710950153, 0.12406201137295872, 0.20754597914723844, 0.14034455437213836], \"type\": \"scatter\", \"uid\": \"d99f0198-f51d-4444-9a6e-bb16bf76fd9c\", \"xaxis\": \"x138\", \"yaxis\": \"y28\"}, {\"marker\": {\"color\": [\"rgb(244,165,130)\", \"rgb(244,165,130)\", \"rgb(244,165,130)\", \"rgb(244,165,130)\", \"rgb(244,165,130)\", \"rgb(244,165,130)\", \"rgb(244,165,130)\"]}, \"x\": [1, 2, 3, 4, 5, 6, 7], \"y\": [0.10789473684210527, 0.2414651493598862, 0.25170697012802273, 0.21877667140825036, 0.08541963015647226, 0.08691322901849217, 0.007823613086770981], \"type\": \"bar\", \"uid\": \"dc1a53f5-9722-4fdd-b34b-21317a225174\", \"xaxis\": \"x139\", \"yaxis\": \"y28\"}, {\"line\": {\"color\": \"gray\", \"shape\": \"spline\", \"width\": 3}, \"mode\": \"lines\", \"x\": [1, 2, 3, 4, 5, 6, 7], \"y\": [0.07185578359124661, 0.13864492108344612, 0.16100379332347023, 0.15654295710950153, 0.12406201137295872, 0.20754597914723844, 0.14034455437213836], \"type\": \"scatter\", \"uid\": \"c7fd8a21-93ca-4d69-99d6-a02cc35f7715\", \"xaxis\": \"x139\", \"yaxis\": \"y28\"}, {\"marker\": {\"color\": [\"rgb(178,24,43)\", \"rgb(178,24,43)\", \"rgb(178,24,43)\", \"rgb(178,24,43)\", \"rgb(178,24,43)\", \"rgb(178,24,43)\", \"rgb(178,24,43)\"]}, \"x\": [1, 2, 3, 4, 5, 6, 7], \"y\": [0.07138150669887985, 0.19569514605754448, 0.3239622227103009, 0.2347902481880079, 0.0678673402152427, 0.0931254118163848, 0.013178124313639359], \"type\": \"bar\", \"uid\": \"5a3108c1-4785-4216-bbc7-374fe7d2b5b2\", \"xaxis\": \"x140\", \"yaxis\": \"y28\"}, {\"line\": {\"color\": \"gray\", \"shape\": \"spline\", \"width\": 3}, \"mode\": \"lines\", \"x\": [1, 2, 3, 4, 5, 6, 7], \"y\": [0.07185578359124661, 0.13864492108344612, 0.16100379332347023, 0.15654295710950153, 0.12406201137295872, 0.20754597914723844, 0.14034455437213836], \"type\": \"scatter\", \"uid\": \"93a4eb7c-4bfa-4a32-96a9-bed90e4db460\", \"xaxis\": \"x140\", \"yaxis\": \"y28\"}, {\"marker\": {\"color\": [\"rgb(214,96,77)\", \"rgb(214,96,77)\", \"rgb(214,96,77)\", \"rgb(214,96,77)\", \"rgb(214,96,77)\", \"rgb(214,96,77)\", \"rgb(214,96,77)\"]}, \"x\": [1, 2, 3, 4, 5, 6, 7], \"y\": [0.09615384615384616, 0.2573131094257855, 0.24864572047670638, 0.24079089924160346, 0.07340195016251354, 0.04658721560130011, 0.037107258938244854], \"type\": \"bar\", \"uid\": \"0a841bc6-68e7-48e3-b50f-8207693b38ed\", \"xaxis\": \"x141\", \"yaxis\": \"y29\"}, {\"line\": {\"color\": \"gray\", \"shape\": \"spline\", \"width\": 3}, \"mode\": \"lines\", \"x\": [1, 2, 3, 4, 5, 6, 7], \"y\": [0.07185578359124661, 0.13864492108344612, 0.16100379332347023, 0.15654295710950153, 0.12406201137295872, 0.20754597914723844, 0.14034455437213836], \"type\": \"scatter\", \"uid\": \"10e48d0a-6725-4f81-887b-0606acc2b223\", \"xaxis\": \"x141\", \"yaxis\": \"y29\"}, {\"marker\": {\"color\": [\"rgb(5,48,97)\", \"rgb(5,48,97)\", \"rgb(5,48,97)\", \"rgb(5,48,97)\", \"rgb(5,48,97)\", \"rgb(5,48,97)\", \"rgb(5,48,97)\"]}, \"x\": [1, 2, 3, 4, 5, 6, 7], \"y\": [0.014018691588785047, 0.05081775700934579, 0.07359813084112149, 0.05782710280373832, 0.2821261682242991, 0.3142523364485981, 0.20735981308411214], \"type\": \"bar\", \"uid\": \"ae99ec8e-93ab-4b73-b9e4-93a7eb37d6d4\", \"xaxis\": \"x142\", \"yaxis\": \"y29\"}, {\"line\": {\"color\": \"gray\", \"shape\": \"spline\", \"width\": 3}, \"mode\": \"lines\", \"x\": [1, 2, 3, 4, 5, 6, 7], \"y\": [0.07185578359124661, 0.13864492108344612, 0.16100379332347023, 0.15654295710950153, 0.12406201137295872, 0.20754597914723844, 0.14034455437213836], \"type\": \"scatter\", \"uid\": \"5d67309c-f908-4c6d-b1d9-7cc33458a4b9\", \"xaxis\": \"x142\", \"yaxis\": \"y29\"}, {\"marker\": {\"color\": [\"rgb(33,102,172)\", \"rgb(33,102,172)\", \"rgb(33,102,172)\", \"rgb(33,102,172)\", \"rgb(33,102,172)\", \"rgb(33,102,172)\", \"rgb(33,102,172)\"]}, \"x\": [1, 2, 3, 4, 5, 6, 7], \"y\": [0.027828467153284672, 0.04333941605839416, 0.07892335766423357, 0.055656934306569344, 0.11085766423357664, 0.3918795620437956, 0.291514598540146], \"type\": \"bar\", \"uid\": \"bf1b2c80-378e-4a8c-a298-0e625acfcda4\", \"xaxis\": \"x143\", \"yaxis\": \"y29\"}, {\"line\": {\"color\": \"gray\", \"shape\": \"spline\", \"width\": 3}, \"mode\": \"lines\", \"x\": [1, 2, 3, 4, 5, 6, 7], \"y\": [0.07185578359124661, 0.13864492108344612, 0.16100379332347023, 0.15654295710950153, 0.12406201137295872, 0.20754597914723844, 0.14034455437213836], \"type\": \"scatter\", \"uid\": \"313af90f-03bb-46fa-8dd1-f55c3feec898\", \"xaxis\": \"x143\", \"yaxis\": \"y29\"}, {\"marker\": {\"color\": [\"rgb(244,165,130)\", \"rgb(244,165,130)\", \"rgb(244,165,130)\", \"rgb(244,165,130)\", \"rgb(244,165,130)\", \"rgb(244,165,130)\", \"rgb(244,165,130)\"]}, \"x\": [1, 2, 3, 4, 5, 6, 7], \"y\": [0.05701943844492441, 0.1913606911447084, 0.35550755939524836, 0.16025917926565875, 0.1490280777537797, 0.06479481641468683, 0.022030237580993522], \"type\": \"bar\", \"uid\": \"5c0a171a-5052-439d-9137-aef76ff0e709\", \"xaxis\": \"x144\", \"yaxis\": \"y29\"}, {\"line\": {\"color\": \"gray\", \"shape\": \"spline\", \"width\": 3}, \"mode\": \"lines\", \"x\": [1, 2, 3, 4, 5, 6, 7], \"y\": [0.07185578359124661, 0.13864492108344612, 0.16100379332347023, 0.15654295710950153, 0.12406201137295872, 0.20754597914723844, 0.14034455437213836], \"type\": \"scatter\", \"uid\": \"c3850f05-797d-4e3e-9105-91f9a7cbc0da\", \"xaxis\": \"x144\", \"yaxis\": \"y29\"}, {\"marker\": {\"color\": [\"rgb(178,24,43)\", \"rgb(178,24,43)\", \"rgb(178,24,43)\", \"rgb(178,24,43)\", \"rgb(178,24,43)\", \"rgb(178,24,43)\", \"rgb(178,24,43)\"]}, \"x\": [1, 2, 3, 4, 5, 6, 7], \"y\": [0.053496712492528395, 0.21010161386730425, 0.24686192468619247, 0.3111177525403467, 0.08756724447101016, 0.06664674237895996, 0.0242080095636581], \"type\": \"bar\", \"uid\": \"cbdedac4-0146-4a36-83e8-fef01ac9bf36\", \"xaxis\": \"x145\", \"yaxis\": \"y29\"}, {\"line\": {\"color\": \"gray\", \"shape\": \"spline\", \"width\": 3}, \"mode\": \"lines\", \"x\": [1, 2, 3, 4, 5, 6, 7], \"y\": [0.07185578359124661, 0.13864492108344612, 0.16100379332347023, 0.15654295710950153, 0.12406201137295872, 0.20754597914723844, 0.14034455437213836], \"type\": \"scatter\", \"uid\": \"16c74d29-144c-483f-978f-a456ebccebde\", \"xaxis\": \"x145\", \"yaxis\": \"y29\"}, {\"marker\": {\"color\": [\"rgb(214,96,77)\", \"rgb(214,96,77)\", \"rgb(214,96,77)\", \"rgb(214,96,77)\", \"rgb(214,96,77)\", \"rgb(214,96,77)\", \"rgb(214,96,77)\"]}, \"x\": [1, 2, 3, 4, 5, 6, 7], \"y\": [0.04602510460251046, 0.0694560669456067, 0.04100418410041841, 0.049372384937238493, 0.14225941422594143, 0.3941422594142259, 0.25774058577405856], \"type\": \"bar\", \"uid\": \"7713d87a-f24c-4965-a859-f37974d2dcc3\", \"xaxis\": \"x146\", \"yaxis\": \"y30\"}, {\"line\": {\"color\": \"gray\", \"shape\": \"spline\", \"width\": 3}, \"mode\": \"lines\", \"x\": [1, 2, 3, 4, 5, 6, 7], \"y\": [0.07185578359124661, 0.13864492108344612, 0.16100379332347023, 0.15654295710950153, 0.12406201137295872, 0.20754597914723844, 0.14034455437213836], \"type\": \"scatter\", \"uid\": \"b03b98aa-3c27-43b7-9424-b6757c72f9a7\", \"xaxis\": \"x146\", \"yaxis\": \"y30\"}, {\"marker\": {\"color\": [\"rgb(5,48,97)\", \"rgb(5,48,97)\", \"rgb(5,48,97)\", \"rgb(5,48,97)\", \"rgb(5,48,97)\", \"rgb(5,48,97)\", \"rgb(5,48,97)\"]}, \"x\": [1, 2, 3, 4, 5, 6, 7], \"y\": [0.10889021479713604, 0.264618138424821, 0.2168854415274463, 0.17810262529832935, 0.07189737470167064, 0.1581145584725537, 0.0014916467780429594], \"type\": \"bar\", \"uid\": \"e8322e72-f03d-4552-84ce-03800134f263\", \"xaxis\": \"x147\", \"yaxis\": \"y30\"}, {\"line\": {\"color\": \"gray\", \"shape\": \"spline\", \"width\": 3}, \"mode\": \"lines\", \"x\": [1, 2, 3, 4, 5, 6, 7], \"y\": [0.07185578359124661, 0.13864492108344612, 0.16100379332347023, 0.15654295710950153, 0.12406201137295872, 0.20754597914723844, 0.14034455437213836], \"type\": \"scatter\", \"uid\": \"d1337034-035b-4465-b298-c14c63ba2abc\", \"xaxis\": \"x147\", \"yaxis\": \"y30\"}, {\"marker\": {\"color\": [\"rgb(33,102,172)\", \"rgb(33,102,172)\", \"rgb(33,102,172)\", \"rgb(33,102,172)\", \"rgb(33,102,172)\", \"rgb(33,102,172)\", \"rgb(33,102,172)\"]}, \"x\": [1, 2, 3, 4, 5, 6, 7], \"y\": [0.03012176885280923, 0.2454603717154454, 0.2576372569963683, 0.2337107455671865, 0.1228370006408887, 0.09955137791070284, 0.010681478316599017], \"type\": \"bar\", \"uid\": \"1838b8ab-8e58-4bae-a96b-1c98fdc9e0cf\", \"xaxis\": \"x148\", \"yaxis\": \"y30\"}, {\"line\": {\"color\": \"gray\", \"shape\": \"spline\", \"width\": 3}, \"mode\": \"lines\", \"x\": [1, 2, 3, 4, 5, 6, 7], \"y\": [0.07185578359124661, 0.13864492108344612, 0.16100379332347023, 0.15654295710950153, 0.12406201137295872, 0.20754597914723844, 0.14034455437213836], \"type\": \"scatter\", \"uid\": \"1595392b-bb75-4259-b799-54bf761f57ed\", \"xaxis\": \"x148\", \"yaxis\": \"y30\"}, {\"marker\": {\"color\": [\"rgb(244,165,130)\", \"rgb(244,165,130)\", \"rgb(244,165,130)\", \"rgb(244,165,130)\", \"rgb(244,165,130)\", \"rgb(244,165,130)\", \"rgb(244,165,130)\"]}, \"x\": [1, 2, 3, 4, 5, 6, 7], \"y\": [0.10227272727272728, 0.2618801652892562, 0.18853305785123967, 0.19266528925619836, 0.08135330578512397, 0.17329545454545456, 0.0], \"type\": \"bar\", \"uid\": \"10c9b5fb-e975-42f7-8512-5a6fb1bfc451\", \"xaxis\": \"x149\", \"yaxis\": \"y30\"}, {\"line\": {\"color\": \"gray\", \"shape\": \"spline\", \"width\": 3}, \"mode\": \"lines\", \"x\": [1, 2, 3, 4, 5, 6, 7], \"y\": [0.07185578359124661, 0.13864492108344612, 0.16100379332347023, 0.15654295710950153, 0.12406201137295872, 0.20754597914723844, 0.14034455437213836], \"type\": \"scatter\", \"uid\": \"6df5e6e8-8038-4664-bb50-f9a1afad314c\", \"xaxis\": \"x149\", \"yaxis\": \"y30\"}, {\"marker\": {\"color\": [\"rgb(178,24,43)\", \"rgb(178,24,43)\", \"rgb(178,24,43)\", \"rgb(178,24,43)\", \"rgb(178,24,43)\", \"rgb(178,24,43)\", \"rgb(178,24,43)\"]}, \"x\": [1, 2, 3, 4, 5, 6, 7], \"y\": [0.061388352474845004, 0.23040959447098283, 0.26333977030185995, 0.2656774062404716, 0.09624961886370566, 0.05203780872039841, 0.03089744892773656], \"type\": \"bar\", \"uid\": \"3a9951da-1faf-45a8-9c46-eabac5a90159\", \"xaxis\": \"x150\", \"yaxis\": \"y30\"}, {\"line\": {\"color\": \"gray\", \"shape\": \"spline\", \"width\": 3}, \"mode\": \"lines\", \"x\": [1, 2, 3, 4, 5, 6, 7], \"y\": [0.07185578359124661, 0.13864492108344612, 0.16100379332347023, 0.15654295710950153, 0.12406201137295872, 0.20754597914723844, 0.14034455437213836], \"type\": \"scatter\", \"uid\": \"b08fa5eb-c945-43ac-9f36-e0d81290e15f\", \"xaxis\": \"x150\", \"yaxis\": \"y30\"}, {\"marker\": {\"color\": [\"rgb(214,96,77)\", \"rgb(214,96,77)\", \"rgb(214,96,77)\", \"rgb(214,96,77)\", \"rgb(214,96,77)\", \"rgb(214,96,77)\", \"rgb(214,96,77)\"]}, \"x\": [1, 2, 3, 4, 5, 6, 7], \"y\": [0.025193370165745858, 0.25524861878453037, 0.2771270718232044, 0.25370165745856355, 0.07580110497237569, 0.052817679558011046, 0.06011049723756906], \"type\": \"bar\", \"uid\": \"e5c5c285-e9d5-4939-b67f-7fc1b59dad11\", \"xaxis\": \"x151\", \"yaxis\": \"y31\"}, {\"line\": {\"color\": \"gray\", \"shape\": \"spline\", \"width\": 3}, \"mode\": \"lines\", \"x\": [1, 2, 3, 4, 5, 6, 7], \"y\": [0.07185578359124661, 0.13864492108344612, 0.16100379332347023, 0.15654295710950153, 0.12406201137295872, 0.20754597914723844, 0.14034455437213836], \"type\": \"scatter\", \"uid\": \"b2e57f81-a674-4050-8a6c-f9d787c02026\", \"xaxis\": \"x151\", \"yaxis\": \"y31\"}, {\"marker\": {\"color\": [\"rgb(5,48,97)\", \"rgb(5,48,97)\", \"rgb(5,48,97)\", \"rgb(5,48,97)\", \"rgb(5,48,97)\", \"rgb(5,48,97)\", \"rgb(5,48,97)\"]}, \"x\": [1, 2, 3, 4, 5, 6, 7], \"y\": [0.08539270858820651, 0.23684854416442377, 0.23366772693907512, 0.2666992904330805, 0.0771959872767311, 0.08698311720088084, 0.013212625397602153], \"type\": \"bar\", \"uid\": \"cade2334-d524-4433-93a1-bc3baea11339\", \"xaxis\": \"x152\", \"yaxis\": \"y31\"}, {\"line\": {\"color\": \"gray\", \"shape\": \"spline\", \"width\": 3}, \"mode\": \"lines\", \"x\": [1, 2, 3, 4, 5, 6, 7], \"y\": [0.07185578359124661, 0.13864492108344612, 0.16100379332347023, 0.15654295710950153, 0.12406201137295872, 0.20754597914723844, 0.14034455437213836], \"type\": \"scatter\", \"uid\": \"2739405e-61bb-4398-898a-36aaef456511\", \"xaxis\": \"x152\", \"yaxis\": \"y31\"}, {\"marker\": {\"color\": [\"rgb(33,102,172)\", \"rgb(33,102,172)\", \"rgb(33,102,172)\", \"rgb(33,102,172)\", \"rgb(33,102,172)\", \"rgb(33,102,172)\", \"rgb(33,102,172)\"]}, \"x\": [1, 2, 3, 4, 5, 6, 7], \"y\": [0.056338028169014086, 0.23943661971830985, 0.2755868544600939, 0.22605633802816902, 0.12018779342723004, 0.06056338028169014, 0.021830985915492956], \"type\": \"bar\", \"uid\": \"bbea98a2-a3fe-4201-8a51-37cc7f22c91b\", \"xaxis\": \"x153\", \"yaxis\": \"y31\"}, {\"line\": {\"color\": \"gray\", \"shape\": \"spline\", \"width\": 3}, \"mode\": \"lines\", \"x\": [1, 2, 3, 4, 5, 6, 7], \"y\": [0.07185578359124661, 0.13864492108344612, 0.16100379332347023, 0.15654295710950153, 0.12406201137295872, 0.20754597914723844, 0.14034455437213836], \"type\": \"scatter\", \"uid\": \"3f294296-f568-4006-b071-a8dc57c06d24\", \"xaxis\": \"x153\", \"yaxis\": \"y31\"}, {\"marker\": {\"color\": [\"rgb(244,165,130)\", \"rgb(244,165,130)\", \"rgb(244,165,130)\", \"rgb(244,165,130)\", \"rgb(244,165,130)\", \"rgb(244,165,130)\", \"rgb(244,165,130)\"]}, \"x\": [1, 2, 3, 4, 5, 6, 7], \"y\": [0.07894736842105263, 0.18486842105263157, 0.23092105263157894, 0.2888157894736842, 0.07105263157894737, 0.14210526315789473, 0.003289473684210526], \"type\": \"bar\", \"uid\": \"20e30fc4-0324-4d5b-8913-de13e3939b30\", \"xaxis\": \"x154\", \"yaxis\": \"y31\"}, {\"line\": {\"color\": \"gray\", \"shape\": \"spline\", \"width\": 3}, \"mode\": \"lines\", \"x\": [1, 2, 3, 4, 5, 6, 7], \"y\": [0.07185578359124661, 0.13864492108344612, 0.16100379332347023, 0.15654295710950153, 0.12406201137295872, 0.20754597914723844, 0.14034455437213836], \"type\": \"scatter\", \"uid\": \"b421ddd8-fdb9-4752-ab20-de4a1606759c\", \"xaxis\": \"x154\", \"yaxis\": \"y31\"}, {\"marker\": {\"color\": [\"rgb(178,24,43)\", \"rgb(178,24,43)\", \"rgb(178,24,43)\", \"rgb(178,24,43)\", \"rgb(178,24,43)\", \"rgb(178,24,43)\", \"rgb(178,24,43)\"]}, \"x\": [1, 2, 3, 4, 5, 6, 7], \"y\": [0.01474010861132661, 0.0643910007757952, 0.047711404189294024, 0.082622187742436, 0.1439100077579519, 0.3440651667959659, 0.30256012412723043], \"type\": \"bar\", \"uid\": \"a93795bd-915a-4e74-b9cb-f4239e396f25\", \"xaxis\": \"x155\", \"yaxis\": \"y31\"}, {\"line\": {\"color\": \"gray\", \"shape\": \"spline\", \"width\": 3}, \"mode\": \"lines\", \"x\": [1, 2, 3, 4, 5, 6, 7], \"y\": [0.07185578359124661, 0.13864492108344612, 0.16100379332347023, 0.15654295710950153, 0.12406201137295872, 0.20754597914723844, 0.14034455437213836], \"type\": \"scatter\", \"uid\": \"41a6b01f-228c-40f1-b02a-bd24baef684d\", \"xaxis\": \"x155\", \"yaxis\": \"y31\"}, {\"marker\": {\"color\": [\"rgb(214,96,77)\", \"rgb(214,96,77)\", \"rgb(214,96,77)\", \"rgb(214,96,77)\", \"rgb(214,96,77)\", \"rgb(214,96,77)\", \"rgb(214,96,77)\"]}, \"x\": [1, 2, 3, 4, 5, 6, 7], \"y\": [0.17551622418879056, 0.22271386430678466, 0.17059980334316618, 0.10914454277286136, 0.22418879056047197, 0.051622418879056046, 0.046214355948869225], \"type\": \"bar\", \"uid\": \"3b944c33-9cab-4a7d-a84d-edc178c5460c\", \"xaxis\": \"x156\", \"yaxis\": \"y32\"}, {\"line\": {\"color\": \"gray\", \"shape\": \"spline\", \"width\": 3}, \"mode\": \"lines\", \"x\": [1, 2, 3, 4, 5, 6, 7], \"y\": [0.07185578359124661, 0.13864492108344612, 0.16100379332347023, 0.15654295710950153, 0.12406201137295872, 0.20754597914723844, 0.14034455437213836], \"type\": \"scatter\", \"uid\": \"61c99de7-6ea4-4aaa-ac2c-7c0ba4c86901\", \"xaxis\": \"x156\", \"yaxis\": \"y32\"}, {\"marker\": {\"color\": [\"rgb(5,48,97)\", \"rgb(5,48,97)\", \"rgb(5,48,97)\", \"rgb(5,48,97)\", \"rgb(5,48,97)\", \"rgb(5,48,97)\", \"rgb(5,48,97)\"]}, \"x\": [1, 2, 3, 4, 5, 6, 7], \"y\": [0.02451539338654504, 0.053591790193842644, 0.04903078677309008, 0.10205245153933866, 0.09977194982896237, 0.34150513112884834, 0.3295324971493729], \"type\": \"bar\", \"uid\": \"2e6b6d05-f1d5-4be3-89eb-1c43f287ce78\", \"xaxis\": \"x157\", \"yaxis\": \"y32\"}, {\"line\": {\"color\": \"gray\", \"shape\": \"spline\", \"width\": 3}, \"mode\": \"lines\", \"x\": [1, 2, 3, 4, 5, 6, 7], \"y\": [0.07185578359124661, 0.13864492108344612, 0.16100379332347023, 0.15654295710950153, 0.12406201137295872, 0.20754597914723844, 0.14034455437213836], \"type\": \"scatter\", \"uid\": \"f88a8809-4cdf-4c4b-a1c0-8b82aa480967\", \"xaxis\": \"x157\", \"yaxis\": \"y32\"}, {\"marker\": {\"color\": [\"rgb(33,102,172)\", \"rgb(33,102,172)\", \"rgb(33,102,172)\", \"rgb(33,102,172)\", \"rgb(33,102,172)\", \"rgb(33,102,172)\", \"rgb(33,102,172)\"]}, \"x\": [1, 2, 3, 4, 5, 6, 7], \"y\": [0.061375492387948476, 0.23107633343979558, 0.2566272756307889, 0.24598104971787502, 0.1271691685297562, 0.047908016608112426, 0.02986266368572341], \"type\": \"bar\", \"uid\": \"71f9e696-1cf1-4a41-8266-20c8ba4df45d\", \"xaxis\": \"x158\", \"yaxis\": \"y32\"}, {\"line\": {\"color\": \"gray\", \"shape\": \"spline\", \"width\": 3}, \"mode\": \"lines\", \"x\": [1, 2, 3, 4, 5, 6, 7], \"y\": [0.07185578359124661, 0.13864492108344612, 0.16100379332347023, 0.15654295710950153, 0.12406201137295872, 0.20754597914723844, 0.14034455437213836], \"type\": \"scatter\", \"uid\": \"0a3486cc-d87c-40ba-8708-5e6eb9ecc492\", \"xaxis\": \"x158\", \"yaxis\": \"y32\"}, {\"marker\": {\"color\": [\"rgb(244,165,130)\", \"rgb(244,165,130)\", \"rgb(244,165,130)\", \"rgb(244,165,130)\", \"rgb(244,165,130)\", \"rgb(244,165,130)\", \"rgb(244,165,130)\"]}, \"x\": [1, 2, 3, 4, 5, 6, 7], \"y\": [0.011944260119442602, 0.09754479097544791, 0.050431320504313204, 0.0902455209024552, 0.0809555408095554, 0.3477106834771068, 0.32116788321167883], \"type\": \"bar\", \"uid\": \"1cabf174-4187-4dd7-aa55-23bc2b0c3e09\", \"xaxis\": \"x159\", \"yaxis\": \"y32\"}, {\"line\": {\"color\": \"gray\", \"shape\": \"spline\", \"width\": 3}, \"mode\": \"lines\", \"x\": [1, 2, 3, 4, 5, 6, 7], \"y\": [0.07185578359124661, 0.13864492108344612, 0.16100379332347023, 0.15654295710950153, 0.12406201137295872, 0.20754597914723844, 0.14034455437213836], \"type\": \"scatter\", \"uid\": \"f4f0929a-dece-46b8-bf72-f75c892d0f71\", \"xaxis\": \"x159\", \"yaxis\": \"y32\"}, {\"marker\": {\"color\": [\"rgb(178,24,43)\", \"rgb(178,24,43)\", \"rgb(178,24,43)\", \"rgb(178,24,43)\", \"rgb(178,24,43)\", \"rgb(178,24,43)\", \"rgb(178,24,43)\"]}, \"x\": [1, 2, 3, 4, 5, 6, 7], \"y\": [0.04525645323499832, 0.1884009386523634, 0.3097552799195441, 0.22427086825343615, 0.13074086490110626, 0.09017767348307074, 0.011397921555481059], \"type\": \"bar\", \"uid\": \"3f04c9bf-713e-4d0e-bde1-a9bc125548c5\", \"xaxis\": \"x160\", \"yaxis\": \"y32\"}, {\"line\": {\"color\": \"gray\", \"shape\": \"spline\", \"width\": 3}, \"mode\": \"lines\", \"x\": [1, 2, 3, 4, 5, 6, 7], \"y\": [0.07185578359124661, 0.13864492108344612, 0.16100379332347023, 0.15654295710950153, 0.12406201137295872, 0.20754597914723844, 0.14034455437213836], \"type\": \"scatter\", \"uid\": \"c0598039-9121-4915-8a8c-d00f9dc36342\", \"xaxis\": \"x160\", \"yaxis\": \"y32\"}, {\"marker\": {\"color\": [\"rgb(214,96,77)\", \"rgb(214,96,77)\", \"rgb(214,96,77)\", \"rgb(214,96,77)\", \"rgb(214,96,77)\", \"rgb(214,96,77)\", \"rgb(214,96,77)\"]}, \"x\": [1, 2, 3, 4, 5, 6, 7], \"y\": [0.07476076555023924, 0.12260765550239235, 0.38995215311004783, 0.1901913875598086, 0.09988038277511961, 0.10586124401913875, 0.01674641148325359], \"type\": \"bar\", \"uid\": \"f41bf6cc-550e-4e4f-baf2-362e551f0ed7\", \"xaxis\": \"x161\", \"yaxis\": \"y33\"}, {\"line\": {\"color\": \"gray\", \"shape\": \"spline\", \"width\": 3}, \"mode\": \"lines\", \"x\": [1, 2, 3, 4, 5, 6, 7], \"y\": [0.07185578359124661, 0.13864492108344612, 0.16100379332347023, 0.15654295710950153, 0.12406201137295872, 0.20754597914723844, 0.14034455437213836], \"type\": \"scatter\", \"uid\": \"bfc1aba6-c343-472e-9e1a-9563fd6ee537\", \"xaxis\": \"x161\", \"yaxis\": \"y33\"}, {\"marker\": {\"color\": [\"rgb(5,48,97)\", \"rgb(5,48,97)\", \"rgb(5,48,97)\", \"rgb(5,48,97)\", \"rgb(5,48,97)\", \"rgb(5,48,97)\", \"rgb(5,48,97)\"]}, \"x\": [1, 2, 3, 4, 5, 6, 7], \"y\": [0.05813499804916114, 0.19196254389387438, 0.2481467030823254, 0.22122512680452594, 0.07101053452984783, 0.2095200936402653, 0.0], \"type\": \"bar\", \"uid\": \"79ff1d05-7010-479c-9fd0-5cfc4879de8f\", \"xaxis\": \"x162\", \"yaxis\": \"y33\"}, {\"line\": {\"color\": \"gray\", \"shape\": \"spline\", \"width\": 3}, \"mode\": \"lines\", \"x\": [1, 2, 3, 4, 5, 6, 7], \"y\": [0.07185578359124661, 0.13864492108344612, 0.16100379332347023, 0.15654295710950153, 0.12406201137295872, 0.20754597914723844, 0.14034455437213836], \"type\": \"scatter\", \"uid\": \"23d7e7f6-e056-4bdf-92f0-506c696cef07\", \"xaxis\": \"x162\", \"yaxis\": \"y33\"}, {\"marker\": {\"color\": [\"rgb(33,102,172)\", \"rgb(33,102,172)\", \"rgb(33,102,172)\", \"rgb(33,102,172)\", \"rgb(33,102,172)\", \"rgb(33,102,172)\", \"rgb(33,102,172)\"]}, \"x\": [1, 2, 3, 4, 5, 6, 7], \"y\": [0.19119496855345913, 0.22264150943396227, 0.21761006289308177, 0.15660377358490565, 0.1179245283018868, 0.03962264150943396, 0.05440251572327044], \"type\": \"bar\", \"uid\": \"45705d10-76d6-4a8f-9659-e03012a09276\", \"xaxis\": \"x163\", \"yaxis\": \"y33\"}, {\"line\": {\"color\": \"gray\", \"shape\": \"spline\", \"width\": 3}, \"mode\": \"lines\", \"x\": [1, 2, 3, 4, 5, 6, 7], \"y\": [0.07185578359124661, 0.13864492108344612, 0.16100379332347023, 0.15654295710950153, 0.12406201137295872, 0.20754597914723844, 0.14034455437213836], \"type\": \"scatter\", \"uid\": \"95da9d8a-f898-4f0e-babf-b8209320225d\", \"xaxis\": \"x163\", \"yaxis\": \"y33\"}, {\"marker\": {\"color\": [\"rgb(244,165,130)\", \"rgb(244,165,130)\", \"rgb(244,165,130)\", \"rgb(244,165,130)\", \"rgb(244,165,130)\", \"rgb(244,165,130)\", \"rgb(244,165,130)\"]}, \"x\": [1, 2, 3, 4, 5, 6, 7], \"y\": [0.04942339373970346, 0.11943986820428336, 0.18698517298187808, 0.2701812191103789, 0.2553542009884679, 0.10790774299835255, 0.01070840197693575], \"type\": \"bar\", \"uid\": \"00896f7c-b78a-4dd4-8bc4-907134db6e0e\", \"xaxis\": \"x164\", \"yaxis\": \"y33\"}, {\"line\": {\"color\": \"gray\", \"shape\": \"spline\", \"width\": 3}, \"mode\": \"lines\", \"x\": [1, 2, 3, 4, 5, 6, 7], \"y\": [0.07185578359124661, 0.13864492108344612, 0.16100379332347023, 0.15654295710950153, 0.12406201137295872, 0.20754597914723844, 0.14034455437213836], \"type\": \"scatter\", \"uid\": \"b10abca6-4441-4a49-b1c5-d4caedc42ff1\", \"xaxis\": \"x164\", \"yaxis\": \"y33\"}, {\"marker\": {\"color\": [\"rgb(178,24,43)\", \"rgb(178,24,43)\", \"rgb(178,24,43)\", \"rgb(178,24,43)\", \"rgb(178,24,43)\", \"rgb(178,24,43)\", \"rgb(178,24,43)\"]}, \"x\": [1, 2, 3, 4, 5, 6, 7], \"y\": [0.03676383105294467, 0.20035693039857227, 0.2478286734086853, 0.24069006543723973, 0.1783462224866151, 0.08328375966686496, 0.01273051754907793], \"type\": \"bar\", \"uid\": \"6976dae2-d6e0-4801-834c-c5c05c7985c3\", \"xaxis\": \"x165\", \"yaxis\": \"y33\"}, {\"line\": {\"color\": \"gray\", \"shape\": \"spline\", \"width\": 3}, \"mode\": \"lines\", \"x\": [1, 2, 3, 4, 5, 6, 7], \"y\": [0.07185578359124661, 0.13864492108344612, 0.16100379332347023, 0.15654295710950153, 0.12406201137295872, 0.20754597914723844, 0.14034455437213836], \"type\": \"scatter\", \"uid\": \"79aed20a-c982-4a2f-af67-cf511c6a687a\", \"xaxis\": \"x165\", \"yaxis\": \"y33\"}, {\"marker\": {\"color\": [\"rgb(214,96,77)\", \"rgb(214,96,77)\", \"rgb(214,96,77)\", \"rgb(214,96,77)\", \"rgb(214,96,77)\", \"rgb(214,96,77)\", \"rgb(214,96,77)\"]}, \"x\": [1, 2, 3, 4, 5, 6, 7], \"y\": [0.10972222222222222, 0.17291666666666666, 0.2388888888888889, 0.27847222222222223, 0.084375, 0.10833333333333334, 0.007291666666666667], \"type\": \"bar\", \"uid\": \"1aafa6c1-61c4-451d-822f-ba2a0bd1c38e\", \"xaxis\": \"x166\", \"yaxis\": \"y34\"}, {\"line\": {\"color\": \"gray\", \"shape\": \"spline\", \"width\": 3}, \"mode\": \"lines\", \"x\": [1, 2, 3, 4, 5, 6, 7], \"y\": [0.07185578359124661, 0.13864492108344612, 0.16100379332347023, 0.15654295710950153, 0.12406201137295872, 0.20754597914723844, 0.14034455437213836], \"type\": \"scatter\", \"uid\": \"a82a1224-9565-48a7-bf37-164f6992e55a\", \"xaxis\": \"x166\", \"yaxis\": \"y34\"}, {\"marker\": {\"color\": [\"rgb(5,48,97)\", \"rgb(5,48,97)\", \"rgb(5,48,97)\", \"rgb(5,48,97)\", \"rgb(5,48,97)\", \"rgb(5,48,97)\", \"rgb(5,48,97)\"]}, \"x\": [1, 2, 3, 4, 5, 6, 7], \"y\": [0.0379746835443038, 0.1881856540084388, 0.22362869198312235, 0.3029535864978903, 0.15864978902953586, 0.060759493670886074, 0.027848101265822784], \"type\": \"bar\", \"uid\": \"42c2bb16-2d6a-45d7-8477-8838b10e469b\", \"xaxis\": \"x167\", \"yaxis\": \"y34\"}, {\"line\": {\"color\": \"gray\", \"shape\": \"spline\", \"width\": 3}, \"mode\": \"lines\", \"x\": [1, 2, 3, 4, 5, 6, 7], \"y\": [0.07185578359124661, 0.13864492108344612, 0.16100379332347023, 0.15654295710950153, 0.12406201137295872, 0.20754597914723844, 0.14034455437213836], \"type\": \"scatter\", \"uid\": \"c0e643ea-5f6b-4c54-9ff9-d668299e7398\", \"xaxis\": \"x167\", \"yaxis\": \"y34\"}, {\"marker\": {\"color\": [\"rgb(33,102,172)\", \"rgb(33,102,172)\", \"rgb(33,102,172)\", \"rgb(33,102,172)\", \"rgb(33,102,172)\", \"rgb(33,102,172)\", \"rgb(33,102,172)\"]}, \"x\": [1, 2, 3, 4, 5, 6, 7], \"y\": [0.008695652173913044, 0.22869565217391305, 0.3382608695652174, 0.19130434782608696, 0.07130434782608695, 0.12434782608695652, 0.03739130434782609], \"type\": \"bar\", \"uid\": \"c93b761c-fcbe-4f13-b2ed-b8a441d3a55e\", \"xaxis\": \"x168\", \"yaxis\": \"y34\"}, {\"line\": {\"color\": \"gray\", \"shape\": \"spline\", \"width\": 3}, \"mode\": \"lines\", \"x\": [1, 2, 3, 4, 5, 6, 7], \"y\": [0.07185578359124661, 0.13864492108344612, 0.16100379332347023, 0.15654295710950153, 0.12406201137295872, 0.20754597914723844, 0.14034455437213836], \"type\": \"scatter\", \"uid\": \"35c645af-8231-4f68-a71b-275f96bd2fe1\", \"xaxis\": \"x168\", \"yaxis\": \"y34\"}, {\"marker\": {\"color\": [\"rgb(244,165,130)\", \"rgb(244,165,130)\", \"rgb(244,165,130)\", \"rgb(244,165,130)\", \"rgb(244,165,130)\", \"rgb(244,165,130)\", \"rgb(244,165,130)\"]}, \"x\": [1, 2, 3, 4, 5, 6, 7], \"y\": [0.06524466750313676, 0.14366373902132998, 0.21957340025094102, 0.37641154328732745, 0.07026348808030113, 0.09912170639899624, 0.025721455457967377], \"type\": \"bar\", \"uid\": \"b3785e82-4243-44be-aeb4-1878bfbd8ceb\", \"xaxis\": \"x169\", \"yaxis\": \"y34\"}, {\"line\": {\"color\": \"gray\", \"shape\": \"spline\", \"width\": 3}, \"mode\": \"lines\", \"x\": [1, 2, 3, 4, 5, 6, 7], \"y\": [0.07185578359124661, 0.13864492108344612, 0.16100379332347023, 0.15654295710950153, 0.12406201137295872, 0.20754597914723844, 0.14034455437213836], \"type\": \"scatter\", \"uid\": \"13536e0a-c049-4d9a-bfa3-144c685b07c4\", \"xaxis\": \"x169\", \"yaxis\": \"y34\"}, {\"marker\": {\"color\": [\"rgb(178,24,43)\", \"rgb(178,24,43)\", \"rgb(178,24,43)\", \"rgb(178,24,43)\", \"rgb(178,24,43)\", \"rgb(178,24,43)\", \"rgb(178,24,43)\"]}, \"x\": [1, 2, 3, 4, 5, 6, 7], \"y\": [0.033783783783783786, 0.04633204633204633, 0.04247104247104247, 0.17084942084942084, 0.06660231660231661, 0.38706563706563707, 0.2528957528957529], \"type\": \"bar\", \"uid\": \"04f7d013-a0f5-49cf-bc0b-217a985554a1\", \"xaxis\": \"x170\", \"yaxis\": \"y34\"}, {\"line\": {\"color\": \"gray\", \"shape\": \"spline\", \"width\": 3}, \"mode\": \"lines\", \"x\": [1, 2, 3, 4, 5, 6, 7], \"y\": [0.07185578359124661, 0.13864492108344612, 0.16100379332347023, 0.15654295710950153, 0.12406201137295872, 0.20754597914723844, 0.14034455437213836], \"type\": \"scatter\", \"uid\": \"9f5a1854-cb05-40af-acd7-af02f2d8fced\", \"xaxis\": \"x170\", \"yaxis\": \"y34\"}, {\"marker\": {\"color\": [\"rgb(214,96,77)\", \"rgb(214,96,77)\", \"rgb(214,96,77)\", \"rgb(214,96,77)\", \"rgb(214,96,77)\", \"rgb(214,96,77)\", \"rgb(214,96,77)\"]}, \"x\": [1, 2, 3, 4, 5, 6, 7], \"y\": [0.12667191188040913, 0.18332022029897718, 0.25098347757671124, 0.2675059008654603, 0.05979543666404406, 0.09126671911880409, 0.020456333595594022], \"type\": \"bar\", \"uid\": \"d04d2c59-9b01-4707-8322-42a95ee05c2f\", \"xaxis\": \"x171\", \"yaxis\": \"y35\"}, {\"line\": {\"color\": \"gray\", \"shape\": \"spline\", \"width\": 3}, \"mode\": \"lines\", \"x\": [1, 2, 3, 4, 5, 6, 7], \"y\": [0.07185578359124661, 0.13864492108344612, 0.16100379332347023, 0.15654295710950153, 0.12406201137295872, 0.20754597914723844, 0.14034455437213836], \"type\": \"scatter\", \"uid\": \"16c2cad1-d6bc-4dfd-b3f5-dd6a6b48a698\", \"xaxis\": \"x171\", \"yaxis\": \"y35\"}, {\"marker\": {\"color\": [\"rgb(5,48,97)\", \"rgb(5,48,97)\", \"rgb(5,48,97)\", \"rgb(5,48,97)\", \"rgb(5,48,97)\", \"rgb(5,48,97)\", \"rgb(5,48,97)\"]}, \"x\": [1, 2, 3, 4, 5, 6, 7], \"y\": [0.04880766659237798, 0.17361265879206597, 0.24626699353688433, 0.2647648763093381, 0.15689770447960777, 0.10207265433474481, 0.007577445954981056], \"type\": \"bar\", \"uid\": \"3391b5d5-ced7-4b4d-b5ca-2533aafdfef3\", \"xaxis\": \"x172\", \"yaxis\": \"y35\"}, {\"line\": {\"color\": \"gray\", \"shape\": \"spline\", \"width\": 3}, \"mode\": \"lines\", \"x\": [1, 2, 3, 4, 5, 6, 7], \"y\": [0.07185578359124661, 0.13864492108344612, 0.16100379332347023, 0.15654295710950153, 0.12406201137295872, 0.20754597914723844, 0.14034455437213836], \"type\": \"scatter\", \"uid\": \"97a75ee7-e87f-4d1e-8343-665d43f44881\", \"xaxis\": \"x172\", \"yaxis\": \"y35\"}, {\"marker\": {\"color\": [\"rgb(33,102,172)\", \"rgb(33,102,172)\", \"rgb(33,102,172)\", \"rgb(33,102,172)\", \"rgb(33,102,172)\", \"rgb(33,102,172)\", \"rgb(33,102,172)\"]}, \"x\": [1, 2, 3, 4, 5, 6, 7], \"y\": [0.06900328587075576, 0.20956553486673968, 0.22709017889740782, 0.28952172325666303, 0.10843373493975904, 0.08032128514056225, 0.01606425702811245], \"type\": \"bar\", \"uid\": \"03523541-4d00-471f-b8dc-c38c84aa9095\", \"xaxis\": \"x173\", \"yaxis\": \"y35\"}, {\"line\": {\"color\": \"gray\", \"shape\": \"spline\", \"width\": 3}, \"mode\": \"lines\", \"x\": [1, 2, 3, 4, 5, 6, 7], \"y\": [0.07185578359124661, 0.13864492108344612, 0.16100379332347023, 0.15654295710950153, 0.12406201137295872, 0.20754597914723844, 0.14034455437213836], \"type\": \"scatter\", \"uid\": \"bf1c8840-5587-44e2-9a68-17b50f483860\", \"xaxis\": \"x173\", \"yaxis\": \"y35\"}, {\"marker\": {\"color\": [\"rgb(244,165,130)\", \"rgb(244,165,130)\", \"rgb(244,165,130)\", \"rgb(244,165,130)\", \"rgb(244,165,130)\", \"rgb(244,165,130)\", \"rgb(244,165,130)\"]}, \"x\": [1, 2, 3, 4, 5, 6, 7], \"y\": [0.0427061310782241, 0.21437632135306553, 0.2215644820295983, 0.2317124735729387, 0.16913319238900634, 0.11501057082452432, 0.0054968287526427064], \"type\": \"bar\", \"uid\": \"efa29817-7d9e-41de-b80f-c59ece2ce5ae\", \"xaxis\": \"x174\", \"yaxis\": \"y35\"}, {\"line\": {\"color\": \"gray\", \"shape\": \"spline\", \"width\": 3}, \"mode\": \"lines\", \"x\": [1, 2, 3, 4, 5, 6, 7], \"y\": [0.07185578359124661, 0.13864492108344612, 0.16100379332347023, 0.15654295710950153, 0.12406201137295872, 0.20754597914723844, 0.14034455437213836], \"type\": \"scatter\", \"uid\": \"99dfe3ed-a4ce-4f41-bdaf-493f1a22ae46\", \"xaxis\": \"x174\", \"yaxis\": \"y35\"}, {\"marker\": {\"color\": [\"rgb(178,24,43)\", \"rgb(178,24,43)\", \"rgb(178,24,43)\", \"rgb(178,24,43)\", \"rgb(178,24,43)\", \"rgb(178,24,43)\", \"rgb(178,24,43)\"]}, \"x\": [1, 2, 3, 4, 5, 6, 7], \"y\": [0.008486562942008486, 0.25176803394625175, 0.2637906647807638, 0.22701555869872703, 0.0594059405940594, 0.15983026874115983, 0.0297029702970297], \"type\": \"bar\", \"uid\": \"15dcf3b5-d3ce-4842-8f03-d62a84da0503\", \"xaxis\": \"x175\", \"yaxis\": \"y35\"}, {\"line\": {\"color\": \"gray\", \"shape\": \"spline\", \"width\": 3}, \"mode\": \"lines\", \"x\": [1, 2, 3, 4, 5, 6, 7], \"y\": [0.07185578359124661, 0.13864492108344612, 0.16100379332347023, 0.15654295710950153, 0.12406201137295872, 0.20754597914723844, 0.14034455437213836], \"type\": \"scatter\", \"uid\": \"bab8e4b3-8f31-458d-8e6c-6ed06954a862\", \"xaxis\": \"x175\", \"yaxis\": \"y35\"}, {\"marker\": {\"color\": [\"rgb(214,96,77)\", \"rgb(214,96,77)\", \"rgb(214,96,77)\", \"rgb(214,96,77)\", \"rgb(214,96,77)\", \"rgb(214,96,77)\", \"rgb(214,96,77)\"]}, \"x\": [1, 2, 3, 4, 5, 6, 7], \"y\": [0.07659346545259775, 0.13711837171933583, 0.2849491162292448, 0.25763256561328335, 0.11783610069630424, 0.11890733797536154, 0.006963042313872523], \"type\": \"bar\", \"uid\": \"5fe4edc8-1a0d-40c4-89b5-c871a47f399b\", \"xaxis\": \"x176\", \"yaxis\": \"y36\"}, {\"line\": {\"color\": \"gray\", \"shape\": \"spline\", \"width\": 3}, \"mode\": \"lines\", \"x\": [1, 2, 3, 4, 5, 6, 7], \"y\": [0.07185578359124661, 0.13864492108344612, 0.16100379332347023, 0.15654295710950153, 0.12406201137295872, 0.20754597914723844, 0.14034455437213836], \"type\": \"scatter\", \"uid\": \"179dac20-7da9-4bd7-96f0-6d41aad2c90b\", \"xaxis\": \"x176\", \"yaxis\": \"y36\"}, {\"marker\": {\"color\": [\"rgb(5,48,97)\", \"rgb(5,48,97)\", \"rgb(5,48,97)\", \"rgb(5,48,97)\", \"rgb(5,48,97)\", \"rgb(5,48,97)\", \"rgb(5,48,97)\"]}, \"x\": [1, 2, 3, 4, 5, 6, 7], \"y\": [0.04248088360237893, 0.0475785896346644, 0.24808836023789294, 0.07051826677994902, 0.24299065420560748, 0.31180968564146133, 0.03653355989804588], \"type\": \"bar\", \"uid\": \"6c79686f-ed0e-4e8b-a971-4e8e9d18d419\", \"xaxis\": \"x177\", \"yaxis\": \"y36\"}, {\"line\": {\"color\": \"gray\", \"shape\": \"spline\", \"width\": 3}, \"mode\": \"lines\", \"x\": [1, 2, 3, 4, 5, 6, 7], \"y\": [0.07185578359124661, 0.13864492108344612, 0.16100379332347023, 0.15654295710950153, 0.12406201137295872, 0.20754597914723844, 0.14034455437213836], \"type\": \"scatter\", \"uid\": \"9450b54a-afd8-4f4a-afec-a9d5b3404128\", \"xaxis\": \"x177\", \"yaxis\": \"y36\"}, {\"marker\": {\"color\": [\"rgb(33,102,172)\", \"rgb(33,102,172)\", \"rgb(33,102,172)\", \"rgb(33,102,172)\", \"rgb(33,102,172)\", \"rgb(33,102,172)\", \"rgb(33,102,172)\"]}, \"x\": [1, 2, 3, 4, 5, 6, 7], \"y\": [0.08090075062552127, 0.19099249374478733, 0.31859883236030023, 0.20100083402835697, 0.11926605504587157, 0.057547956630525435, 0.0316930775646372], \"type\": \"bar\", \"uid\": \"33ee33d7-7e4c-40ca-8196-a65fcd215ef2\", \"xaxis\": \"x178\", \"yaxis\": \"y36\"}, {\"line\": {\"color\": \"gray\", \"shape\": \"spline\", \"width\": 3}, \"mode\": \"lines\", \"x\": [1, 2, 3, 4, 5, 6, 7], \"y\": [0.07185578359124661, 0.13864492108344612, 0.16100379332347023, 0.15654295710950153, 0.12406201137295872, 0.20754597914723844, 0.14034455437213836], \"type\": \"scatter\", \"uid\": \"5e224b7a-d5c5-4453-b57c-2dae37911ab9\", \"xaxis\": \"x178\", \"yaxis\": \"y36\"}, {\"marker\": {\"color\": [\"rgb(244,165,130)\", \"rgb(244,165,130)\", \"rgb(244,165,130)\", \"rgb(244,165,130)\", \"rgb(244,165,130)\", \"rgb(244,165,130)\", \"rgb(244,165,130)\"]}, \"x\": [1, 2, 3, 4, 5, 6, 7], \"y\": [0.033478893740902474, 0.03711790393013101, 0.14374090247452692, 0.040756914119359534, 0.21470160116448325, 0.3890101892285298, 0.14119359534206696], \"type\": \"bar\", \"uid\": \"f164aa47-2324-4e80-a4c9-ffe5d617bebe\", \"xaxis\": \"x179\", \"yaxis\": \"y36\"}, {\"line\": {\"color\": \"gray\", \"shape\": \"spline\", \"width\": 3}, \"mode\": \"lines\", \"x\": [1, 2, 3, 4, 5, 6, 7], \"y\": [0.07185578359124661, 0.13864492108344612, 0.16100379332347023, 0.15654295710950153, 0.12406201137295872, 0.20754597914723844, 0.14034455437213836], \"type\": \"scatter\", \"uid\": \"cca5fe95-aee3-4597-8c88-28b85f2f324e\", \"xaxis\": \"x179\", \"yaxis\": \"y36\"}, {\"marker\": {\"color\": [\"rgb(178,24,43)\", \"rgb(178,24,43)\", \"rgb(178,24,43)\", \"rgb(178,24,43)\", \"rgb(178,24,43)\", \"rgb(178,24,43)\", \"rgb(178,24,43)\"]}, \"x\": [1, 2, 3, 4, 5, 6, 7], \"y\": [0.023625843780135006, 0.04628736740597879, 0.08823529411764706, 0.05255544840887175, 0.19575699132111862, 0.35053037608486015, 0.24300867888138863], \"type\": \"bar\", \"uid\": \"d7ec2680-1743-435e-a2f4-b41d560788b8\", \"xaxis\": \"x180\", \"yaxis\": \"y36\"}, {\"line\": {\"color\": \"gray\", \"shape\": \"spline\", \"width\": 3}, \"mode\": \"lines\", \"x\": [1, 2, 3, 4, 5, 6, 7], \"y\": [0.07185578359124661, 0.13864492108344612, 0.16100379332347023, 0.15654295710950153, 0.12406201137295872, 0.20754597914723844, 0.14034455437213836], \"type\": \"scatter\", \"uid\": \"d78c17c9-63b1-4e5b-8d71-a5a35619c0f6\", \"xaxis\": \"x180\", \"yaxis\": \"y36\"}, {\"marker\": {\"color\": [\"rgb(214,96,77)\", \"rgb(214,96,77)\", \"rgb(214,96,77)\", \"rgb(214,96,77)\", \"rgb(214,96,77)\", \"rgb(214,96,77)\", \"rgb(214,96,77)\"]}, \"x\": [1, 2, 3, 4, 5, 6, 7], \"y\": [0.0896756082345602, 0.23331253898939489, 0.1915159076731129, 0.23611977542108548, 0.10480349344978165, 0.14145352464129757, 0.0031191515907673115], \"type\": \"bar\", \"uid\": \"e1c533dd-4660-491a-a33e-3fac88d3255e\", \"xaxis\": \"x181\", \"yaxis\": \"y37\"}, {\"line\": {\"color\": \"gray\", \"shape\": \"spline\", \"width\": 3}, \"mode\": \"lines\", \"x\": [1, 2, 3, 4, 5, 6, 7], \"y\": [0.07185578359124661, 0.13864492108344612, 0.16100379332347023, 0.15654295710950153, 0.12406201137295872, 0.20754597914723844, 0.14034455437213836], \"type\": \"scatter\", \"uid\": \"6c529767-ae35-4e23-8dd9-99f918a9df12\", \"xaxis\": \"x181\", \"yaxis\": \"y37\"}, {\"marker\": {\"color\": [\"rgb(5,48,97)\", \"rgb(5,48,97)\", \"rgb(5,48,97)\", \"rgb(5,48,97)\", \"rgb(5,48,97)\", \"rgb(5,48,97)\", \"rgb(5,48,97)\"]}, \"x\": [1, 2, 3, 4, 5, 6, 7], \"y\": [0.07476635514018691, 0.20160213618157544, 0.2105028927458834, 0.28126390743213175, 0.10102358700489542, 0.12416555407209613, 0.006675567423230975], \"type\": \"bar\", \"uid\": \"f53df06e-9a20-4316-ac6f-89f458f8e14c\", \"xaxis\": \"x182\", \"yaxis\": \"y37\"}, {\"line\": {\"color\": \"gray\", \"shape\": \"spline\", \"width\": 3}, \"mode\": \"lines\", \"x\": [1, 2, 3, 4, 5, 6, 7], \"y\": [0.07185578359124661, 0.13864492108344612, 0.16100379332347023, 0.15654295710950153, 0.12406201137295872, 0.20754597914723844, 0.14034455437213836], \"type\": \"scatter\", \"uid\": \"dce79956-276f-41f6-aa67-4e3e9851ec31\", \"xaxis\": \"x182\", \"yaxis\": \"y37\"}, {\"marker\": {\"color\": [\"rgb(33,102,172)\", \"rgb(33,102,172)\", \"rgb(33,102,172)\", \"rgb(33,102,172)\", \"rgb(33,102,172)\", \"rgb(33,102,172)\", \"rgb(33,102,172)\"]}, \"x\": [1, 2, 3, 4, 5, 6, 7], \"y\": [0.1014036092810083, 0.23231165855055858, 0.2784302492122601, 0.15267831566886278, 0.04268118017759954, 0.17903179604697794, 0.013463191062732742], \"type\": \"bar\", \"uid\": \"c564c918-0673-41af-a3aa-fdbfaae9d841\", \"xaxis\": \"x183\", \"yaxis\": \"y37\"}, {\"line\": {\"color\": \"gray\", \"shape\": \"spline\", \"width\": 3}, \"mode\": \"lines\", \"x\": [1, 2, 3, 4, 5, 6, 7], \"y\": [0.07185578359124661, 0.13864492108344612, 0.16100379332347023, 0.15654295710950153, 0.12406201137295872, 0.20754597914723844, 0.14034455437213836], \"type\": \"scatter\", \"uid\": \"d9db2bba-f845-482b-9d28-0ba4f40c7527\", \"xaxis\": \"x183\", \"yaxis\": \"y37\"}, {\"marker\": {\"color\": [\"rgb(244,165,130)\", \"rgb(244,165,130)\", \"rgb(244,165,130)\", \"rgb(244,165,130)\", \"rgb(244,165,130)\", \"rgb(244,165,130)\", \"rgb(244,165,130)\"]}, \"x\": [1, 2, 3, 4, 5, 6, 7], \"y\": [0.02175438596491228, 0.03929824561403509, 0.06385964912280702, 0.13543859649122808, 0.12070175438596491, 0.2912280701754386, 0.327719298245614], \"type\": \"bar\", \"uid\": \"f64f6e58-71a1-43a9-a523-00b40cf4c0fa\", \"xaxis\": \"x184\", \"yaxis\": \"y37\"}, {\"line\": {\"color\": \"gray\", \"shape\": \"spline\", \"width\": 3}, \"mode\": \"lines\", \"x\": [1, 2, 3, 4, 5, 6, 7], \"y\": [0.07185578359124661, 0.13864492108344612, 0.16100379332347023, 0.15654295710950153, 0.12406201137295872, 0.20754597914723844, 0.14034455437213836], \"type\": \"scatter\", \"uid\": \"2419b42b-cb36-41f2-a030-7605383ecdbb\", \"xaxis\": \"x184\", \"yaxis\": \"y37\"}, {\"marker\": {\"color\": [\"rgb(178,24,43)\", \"rgb(178,24,43)\", \"rgb(178,24,43)\", \"rgb(178,24,43)\", \"rgb(178,24,43)\", \"rgb(178,24,43)\", \"rgb(178,24,43)\"]}, \"x\": [1, 2, 3, 4, 5, 6, 7], \"y\": [0.11365142478462557, 0.16235917826375082, 0.2584493041749503, 0.279324055666004, 0.04042412193505633, 0.052021206096752814, 0.09377070907886018], \"type\": \"bar\", \"uid\": \"6b0735a4-150c-4661-9f9e-0e308ab55c5d\", \"xaxis\": \"x185\", \"yaxis\": \"y37\"}, {\"line\": {\"color\": \"gray\", \"shape\": \"spline\", \"width\": 3}, \"mode\": \"lines\", \"x\": [1, 2, 3, 4, 5, 6, 7], \"y\": [0.07185578359124661, 0.13864492108344612, 0.16100379332347023, 0.15654295710950153, 0.12406201137295872, 0.20754597914723844, 0.14034455437213836], \"type\": \"scatter\", \"uid\": \"d17ac29c-e5ff-4e72-8f2a-4b0dbcd8bf89\", \"xaxis\": \"x185\", \"yaxis\": \"y37\"}, {\"marker\": {\"color\": [\"rgb(214,96,77)\", \"rgb(214,96,77)\", \"rgb(214,96,77)\", \"rgb(214,96,77)\", \"rgb(214,96,77)\", \"rgb(214,96,77)\", \"rgb(214,96,77)\"]}, \"x\": [1, 2, 3, 4, 5, 6, 7], \"y\": [0.027896995708154508, 0.16237482117310442, 0.058655221745350504, 0.031473533619456366, 0.1380543633762518, 0.33476394849785407, 0.24678111587982832], \"type\": \"bar\", \"uid\": \"c53da011-4ced-4716-921e-89eef49cc295\", \"xaxis\": \"x186\", \"yaxis\": \"y38\"}, {\"line\": {\"color\": \"gray\", \"shape\": \"spline\", \"width\": 3}, \"mode\": \"lines\", \"x\": [1, 2, 3, 4, 5, 6, 7], \"y\": [0.07185578359124661, 0.13864492108344612, 0.16100379332347023, 0.15654295710950153, 0.12406201137295872, 0.20754597914723844, 0.14034455437213836], \"type\": \"scatter\", \"uid\": \"5379b2fe-a5c5-46a4-af1a-f91ab3b82099\", \"xaxis\": \"x186\", \"yaxis\": \"y38\"}, {\"marker\": {\"color\": [\"rgb(5,48,97)\", \"rgb(5,48,97)\", \"rgb(5,48,97)\", \"rgb(5,48,97)\", \"rgb(5,48,97)\", \"rgb(5,48,97)\", \"rgb(5,48,97)\"]}, \"x\": [1, 2, 3, 4, 5, 6, 7], \"y\": [0.07675597393193338, 0.18682114409847936, 0.2440260680666184, 0.25343953656770457, 0.12092686459087618, 0.11006517016654598, 0.007965242577842143], \"type\": \"bar\", \"uid\": \"587ce7d8-c6d9-450f-b330-4fcff5c21543\", \"xaxis\": \"x187\", \"yaxis\": \"y38\"}, {\"line\": {\"color\": \"gray\", \"shape\": \"spline\", \"width\": 3}, \"mode\": \"lines\", \"x\": [1, 2, 3, 4, 5, 6, 7], \"y\": [0.07185578359124661, 0.13864492108344612, 0.16100379332347023, 0.15654295710950153, 0.12406201137295872, 0.20754597914723844, 0.14034455437213836], \"type\": \"scatter\", \"uid\": \"9f582005-9f23-4cdf-84f9-fd03e14cc5d0\", \"xaxis\": \"x187\", \"yaxis\": \"y38\"}, {\"marker\": {\"color\": [\"rgb(33,102,172)\", \"rgb(33,102,172)\", \"rgb(33,102,172)\", \"rgb(33,102,172)\", \"rgb(33,102,172)\", \"rgb(33,102,172)\", \"rgb(33,102,172)\"]}, \"x\": [1, 2, 3, 4, 5, 6, 7], \"y\": [0.04829806807727691, 0.19595216191352346, 0.29484820607175716, 0.24471021159153633, 0.07359705611775529, 0.12695492180312787, 0.015639374425023], \"type\": \"bar\", \"uid\": \"327ce9f1-4620-4cbe-8080-3c984e276b75\", \"xaxis\": \"x188\", \"yaxis\": \"y38\"}, {\"line\": {\"color\": \"gray\", \"shape\": \"spline\", \"width\": 3}, \"mode\": \"lines\", \"x\": [1, 2, 3, 4, 5, 6, 7], \"y\": [0.07185578359124661, 0.13864492108344612, 0.16100379332347023, 0.15654295710950153, 0.12406201137295872, 0.20754597914723844, 0.14034455437213836], \"type\": \"scatter\", \"uid\": \"8c8e9638-a3cd-4667-9c5f-0602a8d20fc0\", \"xaxis\": \"x188\", \"yaxis\": \"y38\"}, {\"marker\": {\"color\": [\"rgb(244,165,130)\", \"rgb(244,165,130)\", \"rgb(244,165,130)\", \"rgb(244,165,130)\", \"rgb(244,165,130)\", \"rgb(244,165,130)\", \"rgb(244,165,130)\"]}, \"x\": [1, 2, 3, 4, 5, 6, 7], \"y\": [0.041638456330399455, 0.17941773865944483, 0.29180771834800273, 0.2958700067704807, 0.06025727826675694, 0.07786052809749493, 0.053148273527420443], \"type\": \"bar\", \"uid\": \"49733066-d2f6-4968-a3d5-4e8b2a76cd5b\", \"xaxis\": \"x189\", \"yaxis\": \"y38\"}, {\"line\": {\"color\": \"gray\", \"shape\": \"spline\", \"width\": 3}, \"mode\": \"lines\", \"x\": [1, 2, 3, 4, 5, 6, 7], \"y\": [0.07185578359124661, 0.13864492108344612, 0.16100379332347023, 0.15654295710950153, 0.12406201137295872, 0.20754597914723844, 0.14034455437213836], \"type\": \"scatter\", \"uid\": \"6309d0e0-1fe5-466c-a6a9-1a0e41163fba\", \"xaxis\": \"x189\", \"yaxis\": \"y38\"}, {\"marker\": {\"color\": [\"rgb(178,24,43)\", \"rgb(178,24,43)\", \"rgb(178,24,43)\", \"rgb(178,24,43)\", \"rgb(178,24,43)\", \"rgb(178,24,43)\", \"rgb(178,24,43)\"]}, \"x\": [1, 2, 3, 4, 5, 6, 7], \"y\": [0.0346309403437816, 0.18174924165824063, 0.26769464105156726, 0.23988877654196158, 0.15267947421638017, 0.10995955510616785, 0.01339737108190091], \"type\": \"bar\", \"uid\": \"bf2156f0-b7e3-4a4a-817c-081f4a484b55\", \"xaxis\": \"x190\", \"yaxis\": \"y38\"}, {\"line\": {\"color\": \"gray\", \"shape\": \"spline\", \"width\": 3}, \"mode\": \"lines\", \"x\": [1, 2, 3, 4, 5, 6, 7], \"y\": [0.07185578359124661, 0.13864492108344612, 0.16100379332347023, 0.15654295710950153, 0.12406201137295872, 0.20754597914723844, 0.14034455437213836], \"type\": \"scatter\", \"uid\": \"41081d1e-07a9-49cd-8e02-66b765f5d1f5\", \"xaxis\": \"x190\", \"yaxis\": \"y38\"}, {\"marker\": {\"color\": [\"rgb(214,96,77)\", \"rgb(214,96,77)\", \"rgb(214,96,77)\", \"rgb(214,96,77)\", \"rgb(214,96,77)\", \"rgb(214,96,77)\", \"rgb(214,96,77)\"]}, \"x\": [1, 2, 3, 4, 5, 6, 7], \"y\": [0.1184763789265397, 0.21988622310165717, 0.20554044026712837, 0.21221864951768488, 0.11748701459312391, 0.11996042542666337, 0.006430868167202572], \"type\": \"bar\", \"uid\": \"cacd90da-b5be-42d6-a467-8888e5a3d128\", \"xaxis\": \"x191\", \"yaxis\": \"y39\"}, {\"line\": {\"color\": \"gray\", \"shape\": \"spline\", \"width\": 3}, \"mode\": \"lines\", \"x\": [1, 2, 3, 4, 5, 6, 7], \"y\": [0.07185578359124661, 0.13864492108344612, 0.16100379332347023, 0.15654295710950153, 0.12406201137295872, 0.20754597914723844, 0.14034455437213836], \"type\": \"scatter\", \"uid\": \"023160cd-1db8-4bd2-966c-7873863591bb\", \"xaxis\": \"x191\", \"yaxis\": \"y39\"}, {\"marker\": {\"color\": [\"rgb(5,48,97)\", \"rgb(5,48,97)\", \"rgb(5,48,97)\", \"rgb(5,48,97)\", \"rgb(5,48,97)\", \"rgb(5,48,97)\", \"rgb(5,48,97)\"]}, \"x\": [1, 2, 3, 4, 5, 6, 7], \"y\": [0.09246487867177522, 0.21481481481481482, 0.28531289910600255, 0.20178799489144317, 0.11315453384418901, 0.05440613026819923, 0.03805874840357599], \"type\": \"bar\", \"uid\": \"83c8a6fd-8e78-4d32-8723-bc78a6eb8b71\", \"xaxis\": \"x192\", \"yaxis\": \"y39\"}, {\"line\": {\"color\": \"gray\", \"shape\": \"spline\", \"width\": 3}, \"mode\": \"lines\", \"x\": [1, 2, 3, 4, 5, 6, 7], \"y\": [0.07185578359124661, 0.13864492108344612, 0.16100379332347023, 0.15654295710950153, 0.12406201137295872, 0.20754597914723844, 0.14034455437213836], \"type\": \"scatter\", \"uid\": \"de843395-8fb6-400d-a6c5-f0a3f6fe4327\", \"xaxis\": \"x192\", \"yaxis\": \"y39\"}, {\"marker\": {\"color\": [\"rgb(33,102,172)\", \"rgb(33,102,172)\", \"rgb(33,102,172)\", \"rgb(33,102,172)\", \"rgb(33,102,172)\", \"rgb(33,102,172)\", \"rgb(33,102,172)\"]}, \"x\": [1, 2, 3, 4, 5, 6, 7], \"y\": [0.04823943661971831, 0.2579225352112676, 0.2595070422535211, 0.24683098591549296, 0.06602112676056338, 0.06496478873239436, 0.056514084507042255], \"type\": \"bar\", \"uid\": \"1a3c4531-c5a7-479c-b31f-b4628d6aece5\", \"xaxis\": \"x193\", \"yaxis\": \"y39\"}, {\"line\": {\"color\": \"gray\", \"shape\": \"spline\", \"width\": 3}, \"mode\": \"lines\", \"x\": [1, 2, 3, 4, 5, 6, 7], \"y\": [0.07185578359124661, 0.13864492108344612, 0.16100379332347023, 0.15654295710950153, 0.12406201137295872, 0.20754597914723844, 0.14034455437213836], \"type\": \"scatter\", \"uid\": \"d261ed40-ca08-45a1-9950-2263fa31d314\", \"xaxis\": \"x193\", \"yaxis\": \"y39\"}, {\"marker\": {\"color\": [\"rgb(244,165,130)\", \"rgb(244,165,130)\", \"rgb(244,165,130)\", \"rgb(244,165,130)\", \"rgb(244,165,130)\", \"rgb(244,165,130)\", \"rgb(244,165,130)\"]}, \"x\": [1, 2, 3, 4, 5, 6, 7], \"y\": [0.07647304638529043, 0.19139155871291266, 0.2565816966151275, 0.26744671959882993, 0.08984538236523193, 0.10321771834517342, 0.015043877977434183], \"type\": \"bar\", \"uid\": \"210a5b25-905a-462b-bee2-c79baba38f04\", \"xaxis\": \"x194\", \"yaxis\": \"y39\"}, {\"line\": {\"color\": \"gray\", \"shape\": \"spline\", \"width\": 3}, \"mode\": \"lines\", \"x\": [1, 2, 3, 4, 5, 6, 7], \"y\": [0.07185578359124661, 0.13864492108344612, 0.16100379332347023, 0.15654295710950153, 0.12406201137295872, 0.20754597914723844, 0.14034455437213836], \"type\": \"scatter\", \"uid\": \"80240976-6e62-43b9-a3fd-721a3ead5d5d\", \"xaxis\": \"x194\", \"yaxis\": \"y39\"}, {\"marker\": {\"color\": [\"rgb(178,24,43)\", \"rgb(178,24,43)\", \"rgb(178,24,43)\", \"rgb(178,24,43)\", \"rgb(178,24,43)\", \"rgb(178,24,43)\", \"rgb(178,24,43)\"]}, \"x\": [1, 2, 3, 4, 5, 6, 7], \"y\": [0.06587145433677652, 0.206263321856042, 0.26926545335300867, 0.2527873421872438, 0.09493359567142154, 0.09153139858993277, 0.019347434005574683], \"type\": \"bar\", \"uid\": \"50433d64-8704-4371-8526-93b82d7fc38c\", \"xaxis\": \"x195\", \"yaxis\": \"y39\"}, {\"line\": {\"color\": \"gray\", \"shape\": \"spline\", \"width\": 3}, \"mode\": \"lines\", \"x\": [1, 2, 3, 4, 5, 6, 7], \"y\": [0.07185578359124661, 0.13864492108344612, 0.16100379332347023, 0.15654295710950153, 0.12406201137295872, 0.20754597914723844, 0.14034455437213836], \"type\": \"scatter\", \"uid\": \"c030eec6-2c26-4b17-93e6-b549dd6c8e36\", \"xaxis\": \"x195\", \"yaxis\": \"y39\"}, {\"marker\": {\"color\": [\"rgb(214,96,77)\", \"rgb(214,96,77)\", \"rgb(214,96,77)\", \"rgb(214,96,77)\", \"rgb(214,96,77)\", \"rgb(214,96,77)\", \"rgb(214,96,77)\"]}, \"x\": [1, 2, 3, 4, 5, 6, 7], \"y\": [0.04604726976365118, 0.0488997555012225, 0.08353708231458842, 0.08883455582722087, 0.0647921760391198, 0.3732681336593317, 0.2946210268948655], \"type\": \"bar\", \"uid\": \"43c280a9-82f6-4580-adb5-d4ba7df97dfb\", \"xaxis\": \"x196\", \"yaxis\": \"y40\"}, {\"line\": {\"color\": \"gray\", \"shape\": \"spline\", \"width\": 3}, \"mode\": \"lines\", \"x\": [1, 2, 3, 4, 5, 6, 7], \"y\": [0.07185578359124661, 0.13864492108344612, 0.16100379332347023, 0.15654295710950153, 0.12406201137295872, 0.20754597914723844, 0.14034455437213836], \"type\": \"scatter\", \"uid\": \"c0f85123-b2be-4b8d-8889-4131c06bde72\", \"xaxis\": \"x196\", \"yaxis\": \"y40\"}, {\"marker\": {\"color\": [\"rgb(5,48,97)\", \"rgb(5,48,97)\", \"rgb(5,48,97)\", \"rgb(5,48,97)\", \"rgb(5,48,97)\", \"rgb(5,48,97)\", \"rgb(5,48,97)\"]}, \"x\": [1, 2, 3, 4, 5, 6, 7], \"y\": [0.04974031162604874, 0.23531761885737115, 0.2766679984019177, 0.19736316420295646, 0.1374350779065122, 0.08030363563723532, 0.02317219336795845], \"type\": \"bar\", \"uid\": \"742bcb27-ff60-47fa-a9a7-f8900bd5cb9c\", \"xaxis\": \"x197\", \"yaxis\": \"y40\"}, {\"line\": {\"color\": \"gray\", \"shape\": \"spline\", \"width\": 3}, \"mode\": \"lines\", \"x\": [1, 2, 3, 4, 5, 6, 7], \"y\": [0.07185578359124661, 0.13864492108344612, 0.16100379332347023, 0.15654295710950153, 0.12406201137295872, 0.20754597914723844, 0.14034455437213836], \"type\": \"scatter\", \"uid\": \"b4c6fe9d-b113-421e-84c5-3e46bc78d9be\", \"xaxis\": \"x197\", \"yaxis\": \"y40\"}, {\"marker\": {\"color\": [\"rgb(33,102,172)\", \"rgb(33,102,172)\", \"rgb(33,102,172)\", \"rgb(33,102,172)\", \"rgb(33,102,172)\", \"rgb(33,102,172)\", \"rgb(33,102,172)\"]}, \"x\": [1, 2, 3, 4, 5, 6, 7], \"y\": [0.03921877461017483, 0.175303197353914, 0.22034966136399434, 0.25153567490943457, 0.185226019845645, 0.11797133406835722, 0.010395337848480075], \"type\": \"bar\", \"uid\": \"a8e3db31-668a-4d85-b2b4-23c606292981\", \"xaxis\": \"x198\", \"yaxis\": \"y40\"}, {\"line\": {\"color\": \"gray\", \"shape\": \"spline\", \"width\": 3}, \"mode\": \"lines\", \"x\": [1, 2, 3, 4, 5, 6, 7], \"y\": [0.07185578359124661, 0.13864492108344612, 0.16100379332347023, 0.15654295710950153, 0.12406201137295872, 0.20754597914723844, 0.14034455437213836], \"type\": \"scatter\", \"uid\": \"ac3f54c5-64c6-4b16-b74f-780b9e254a85\", \"xaxis\": \"x198\", \"yaxis\": \"y40\"}, {\"marker\": {\"color\": [\"rgb(244,165,130)\", \"rgb(244,165,130)\", \"rgb(244,165,130)\", \"rgb(244,165,130)\", \"rgb(244,165,130)\", \"rgb(244,165,130)\", \"rgb(244,165,130)\"]}, \"x\": [1, 2, 3, 4, 5, 6, 7], \"y\": [0.036678809194824774, 0.1541263660344178, 0.2436879788971235, 0.2553699284009546, 0.18414772013566136, 0.11254867478959929, 0.013440522547418666], \"type\": \"bar\", \"uid\": \"dde8c879-9a12-4cd6-a621-478194eabdbd\", \"xaxis\": \"x199\", \"yaxis\": \"y40\"}, {\"line\": {\"color\": \"gray\", \"shape\": \"spline\", \"width\": 3}, \"mode\": \"lines\", \"x\": [1, 2, 3, 4, 5, 6, 7], \"y\": [0.07185578359124661, 0.13864492108344612, 0.16100379332347023, 0.15654295710950153, 0.12406201137295872, 0.20754597914723844, 0.14034455437213836], \"type\": \"scatter\", \"uid\": \"6295bfd2-c8e7-4143-bf3b-cec552d77145\", \"xaxis\": \"x199\", \"yaxis\": \"y40\"}, {\"marker\": {\"color\": [\"rgb(178,24,43)\", \"rgb(178,24,43)\", \"rgb(178,24,43)\", \"rgb(178,24,43)\", \"rgb(178,24,43)\", \"rgb(178,24,43)\", \"rgb(178,24,43)\"]}, \"x\": [1, 2, 3, 4, 5, 6, 7], \"y\": [0.08681785967399008, 0.22955350815024805, 0.23770375620127568, 0.25322466335931965, 0.07377746279234586, 0.09829907866761162, 0.02062367115520907], \"type\": \"bar\", \"uid\": \"112dccab-c631-4a8b-b531-4853caada657\", \"xaxis\": \"x200\", \"yaxis\": \"y40\"}, {\"line\": {\"color\": \"gray\", \"shape\": \"spline\", \"width\": 3}, \"mode\": \"lines\", \"x\": [1, 2, 3, 4, 5, 6, 7], \"y\": [0.07185578359124661, 0.13864492108344612, 0.16100379332347023, 0.15654295710950153, 0.12406201137295872, 0.20754597914723844, 0.14034455437213836], \"type\": \"scatter\", \"uid\": \"d613ed60-4049-40d6-81e5-770441cd2578\", \"xaxis\": \"x200\", \"yaxis\": \"y40\"}], {\"annotations\": [{\"font\": {\"size\": 16}, \"showarrow\": false, \"text\": \"<b>Collage</b><br>(JSD: 0.18)\", \"x\": 0.08399999999999999, \"xanchor\": \"center\", \"xref\": \"paper\", \"y\": 1.0, \"yanchor\": \"bottom\", \"yref\": \"paper\"}, {\"font\": {\"size\": 16}, \"showarrow\": false, \"text\": \"<b>APIs</b><br>(JSD: 0.17)\", \"x\": 0.292, \"xanchor\": \"center\", \"xref\": \"paper\", \"y\": 1.0, \"yanchor\": \"bottom\", \"yref\": \"paper\"}, {\"font\": {\"size\": 16}, \"showarrow\": false, \"text\": \"<b>Java Concurrency</b><br>(JSD: 0.16)\", \"x\": 0.5, \"xanchor\": \"center\", \"xref\": \"paper\", \"y\": 1.0, \"yanchor\": \"bottom\", \"yref\": \"paper\"}, {\"font\": {\"size\": 16}, \"showarrow\": false, \"text\": \"<b>Mobile Product Management</b><br>(JSD: 0.14)\", \"x\": 0.708, \"xanchor\": \"center\", \"xref\": \"paper\", \"y\": 1.0, \"yanchor\": \"bottom\", \"yref\": \"paper\"}, {\"font\": {\"size\": 16}, \"showarrow\": false, \"text\": \"<b>Load Testing and Performance</b><br>(JSD: 0.13)\", \"x\": 0.9159999999999999, \"xanchor\": \"center\", \"xref\": \"paper\", \"y\": 1.0, \"yanchor\": \"bottom\", \"yref\": \"paper\"}, {\"font\": {\"size\": 16}, \"showarrow\": false, \"text\": \"<b>ASP.NET Core</b><br>(JSD: 0.13)\", \"x\": 0.08399999999999999, \"xanchor\": \"center\", \"xref\": \"paper\", \"y\": 0.9746875000000002, \"yanchor\": \"bottom\", \"yref\": \"paper\"}, {\"font\": {\"size\": 16}, \"showarrow\": false, \"text\": \"<b>Software Craftsmanship</b><br>(JSD: 0.13)\", \"x\": 0.292, \"xanchor\": \"center\", \"xref\": \"paper\", \"y\": 0.9746875000000002, \"yanchor\": \"bottom\", \"yref\": \"paper\"}, {\"font\": {\"size\": 16}, \"showarrow\": false, \"text\": \"<b>Dog Playgroups</b><br>(JSD: 0.13)\", \"x\": 0.5, \"xanchor\": \"center\", \"xref\": \"paper\", \"y\": 0.9746875000000002, \"yanchor\": \"bottom\", \"yref\": \"paper\"}, {\"font\": {\"size\": 16}, \"showarrow\": false, \"text\": \"<b>.NET Core</b><br>(JSD: 0.13)\", \"x\": 0.708, \"xanchor\": \"center\", \"xref\": \"paper\", \"y\": 0.9746875000000002, \"yanchor\": \"bottom\", \"yref\": \"paper\"}, {\"font\": {\"size\": 16}, \"showarrow\": false, \"text\": \"<b>Product Marketing</b><br>(JSD: 0.13)\", \"x\": 0.9159999999999999, \"xanchor\": \"center\", \"xref\": \"paper\", \"y\": 0.9746875000000002, \"yanchor\": \"bottom\", \"yref\": \"paper\"}, {\"font\": {\"size\": 16}, \"showarrow\": false, \"text\": \"<b>Product Development</b><br>(JSD: 0.12)\", \"x\": 0.08399999999999999, \"xanchor\": \"center\", \"xref\": \"paper\", \"y\": 0.9493750000000002, \"yanchor\": \"bottom\", \"yref\": \"paper\"}, {\"font\": {\"size\": 16}, \"showarrow\": false, \"text\": \"<b>Referral Marketing</b><br>(JSD: 0.12)\", \"x\": 0.292, \"xanchor\": \"center\", \"xref\": \"paper\", \"y\": 0.9493750000000002, \"yanchor\": \"bottom\", \"yref\": \"paper\"}, {\"font\": {\"size\": 16}, \"showarrow\": false, \"text\": \"<b>Software Product Management</b><br>(JSD: 0.12)\", \"x\": 0.5, \"xanchor\": \"center\", \"xref\": \"paper\", \"y\": 0.9493750000000002, \"yanchor\": \"bottom\", \"yref\": \"paper\"}, {\"font\": {\"size\": 16}, \"showarrow\": false, \"text\": \"<b>Data Analysis and Modeling</b><br>(JSD: 0.12)\", \"x\": 0.708, \"xanchor\": \"center\", \"xref\": \"paper\", \"y\": 0.9493750000000002, \"yanchor\": \"bottom\", \"yref\": \"paper\"}, {\"font\": {\"size\": 16}, \"showarrow\": false, \"text\": \"<b>Continuous Integration</b><br>(JSD: 0.12)\", \"x\": 0.9159999999999999, \"xanchor\": \"center\", \"xref\": \"paper\", \"y\": 0.9493750000000002, \"yanchor\": \"bottom\", \"yref\": \"paper\"}, {\"font\": {\"size\": 16}, \"showarrow\": false, \"text\": \"<b>Distributed Systems</b><br>(JSD: 0.12)\", \"x\": 0.08399999999999999, \"xanchor\": \"center\", \"xref\": \"paper\", \"y\": 0.9240625000000001, \"yanchor\": \"bottom\", \"yref\": \"paper\"}, {\"font\": {\"size\": 16}, \"showarrow\": false, \"text\": \"<b>Java Virtual Machine</b><br>(JSD: 0.12)\", \"x\": 0.292, \"xanchor\": \"center\", \"xref\": \"paper\", \"y\": 0.9240625000000001, \"yanchor\": \"bottom\", \"yref\": \"paper\"}, {\"font\": {\"size\": 16}, \"showarrow\": false, \"text\": \"<b>New Product Development: Software & Tech</b><br>(JSD: 0.12)\", \"x\": 0.5, \"xanchor\": \"center\", \"xref\": \"paper\", \"y\": 0.9240625000000001, \"yanchor\": \"bottom\", \"yref\": \"paper\"}, {\"font\": {\"size\": 16}, \"showarrow\": false, \"text\": \"<b>Software QA and Testing</b><br>(JSD: 0.12)\", \"x\": 0.708, \"xanchor\": \"center\", \"xref\": \"paper\", \"y\": 0.9240625000000001, \"yanchor\": \"bottom\", \"yref\": \"paper\"}, {\"font\": {\"size\": 16}, \"showarrow\": false, \"text\": \"<b>Product Management</b><br>(JSD: 0.12)\", \"x\": 0.9159999999999999, \"xanchor\": \"center\", \"xref\": \"paper\", \"y\": 0.9240625000000001, \"yanchor\": \"bottom\", \"yref\": \"paper\"}, {\"font\": {\"size\": 16}, \"showarrow\": false, \"text\": \"<b>Concurrent Programming</b><br>(JSD: 0.12)\", \"x\": 0.08399999999999999, \"xanchor\": \"center\", \"xref\": \"paper\", \"y\": 0.89875, \"yanchor\": \"bottom\", \"yref\": \"paper\"}, {\"font\": {\"size\": 16}, \"showarrow\": false, \"text\": \"<b>JVM Languages</b><br>(JSD: 0.12)\", \"x\": 0.292, \"xanchor\": \"center\", \"xref\": \"paper\", \"y\": 0.89875, \"yanchor\": \"bottom\", \"yref\": \"paper\"}, {\"font\": {\"size\": 16}, \"showarrow\": false, \"text\": \"<b>Trekking</b><br>(JSD: 0.12)\", \"x\": 0.5, \"xanchor\": \"center\", \"xref\": \"paper\", \"y\": 0.89875, \"yanchor\": \"bottom\", \"yref\": \"paper\"}, {\"font\": {\"size\": 16}, \"showarrow\": false, \"text\": \"<b>Growth Hacking</b><br>(JSD: 0.11)\", \"x\": 0.708, \"xanchor\": \"center\", \"xref\": \"paper\", \"y\": 0.89875, \"yanchor\": \"bottom\", \"yref\": \"paper\"}, {\"font\": {\"size\": 16}, \"showarrow\": false, \"text\": \"<b>Rich Internet Applications</b><br>(JSD: 0.11)\", \"x\": 0.9159999999999999, \"xanchor\": \"center\", \"xref\": \"paper\", \"y\": 0.89875, \"yanchor\": \"bottom\", \"yref\": \"paper\"}, {\"font\": {\"size\": 16}, \"showarrow\": false, \"text\": \"<b>Go (Programming Language)</b><br>(JSD: 0.11)\", \"x\": 0.08399999999999999, \"xanchor\": \"center\", \"xref\": \"paper\", \"y\": 0.8734375000000002, \"yanchor\": \"bottom\", \"yref\": \"paper\"}, {\"font\": {\"size\": 16}, \"showarrow\": false, \"text\": \"<b>B2B Networking</b><br>(JSD: 0.11)\", \"x\": 0.292, \"xanchor\": \"center\", \"xref\": \"paper\", \"y\": 0.8734375000000002, \"yanchor\": \"bottom\", \"yref\": \"paper\"}, {\"font\": {\"size\": 16}, \"showarrow\": false, \"text\": \"<b>IBM</b><br>(JSD: 0.11)\", \"x\": 0.5, \"xanchor\": \"center\", \"xref\": \"paper\", \"y\": 0.8734375000000002, \"yanchor\": \"bottom\", \"yref\": \"paper\"}, {\"font\": {\"size\": 16}, \"showarrow\": false, \"text\": \"<b>Content Strategy</b><br>(JSD: 0.11)\", \"x\": 0.708, \"xanchor\": \"center\", \"xref\": \"paper\", \"y\": 0.8734375000000002, \"yanchor\": \"bottom\", \"yref\": \"paper\"}, {\"font\": {\"size\": 16}, \"showarrow\": false, \"text\": \"<b>Crypto Currency</b><br>(JSD: 0.11)\", \"x\": 0.9159999999999999, \"xanchor\": \"center\", \"xref\": \"paper\", \"y\": 0.8734375000000002, \"yanchor\": \"bottom\", \"yref\": \"paper\"}, {\"font\": {\"size\": 16}, \"showarrow\": false, \"text\": \"<b>UX/UI</b><br>(JSD: 0.11)\", \"x\": 0.08399999999999999, \"xanchor\": \"center\", \"xref\": \"paper\", \"y\": 0.8481250000000001, \"yanchor\": \"bottom\", \"yref\": \"paper\"}, {\"font\": {\"size\": 16}, \"showarrow\": false, \"text\": \"<b>OpenStack</b><br>(JSD: 0.11)\", \"x\": 0.292, \"xanchor\": \"center\", \"xref\": \"paper\", \"y\": 0.8481250000000001, \"yanchor\": \"bottom\", \"yref\": \"paper\"}, {\"font\": {\"size\": 16}, \"showarrow\": false, \"text\": \"<b>Kubernetes</b><br>(JSD: 0.11)\", \"x\": 0.5, \"xanchor\": \"center\", \"xref\": \"paper\", \"y\": 0.8481250000000001, \"yanchor\": \"bottom\", \"yref\": \"paper\"}, {\"font\": {\"size\": 16}, \"showarrow\": false, \"text\": \"<b>Microservices</b><br>(JSD: 0.11)\", \"x\": 0.708, \"xanchor\": \"center\", \"xref\": \"paper\", \"y\": 0.8481250000000001, \"yanchor\": \"bottom\", \"yref\": \"paper\"}, {\"font\": {\"size\": 16}, \"showarrow\": false, \"text\": \"<b>Quality Assurance</b><br>(JSD: 0.11)\", \"x\": 0.9159999999999999, \"xanchor\": \"center\", \"xref\": \"paper\", \"y\": 0.8481250000000001, \"yanchor\": \"bottom\", \"yref\": \"paper\"}, {\"font\": {\"size\": 16}, \"showarrow\": false, \"text\": \"<b>Open Government</b><br>(JSD: 0.11)\", \"x\": 0.08399999999999999, \"xanchor\": \"center\", \"xref\": \"paper\", \"y\": 0.8228125000000001, \"yanchor\": \"bottom\", \"yref\": \"paper\"}, {\"font\": {\"size\": 16}, \"showarrow\": false, \"text\": \"<b>Off-Leash Dog Recreation</b><br>(JSD: 0.11)\", \"x\": 0.292, \"xanchor\": \"center\", \"xref\": \"paper\", \"y\": 0.8228125000000001, \"yanchor\": \"bottom\", \"yref\": \"paper\"}, {\"font\": {\"size\": 16}, \"showarrow\": false, \"text\": \"<b>Artificial Intelligence Programming</b><br>(JSD: 0.10)\", \"x\": 0.5, \"xanchor\": \"center\", \"xref\": \"paper\", \"y\": 0.8228125000000001, \"yanchor\": \"bottom\", \"yref\": \"paper\"}, {\"font\": {\"size\": 16}, \"showarrow\": false, \"text\": \"<b>Business Analytics</b><br>(JSD: 0.10)\", \"x\": 0.708, \"xanchor\": \"center\", \"xref\": \"paper\", \"y\": 0.8228125000000001, \"yanchor\": \"bottom\", \"yref\": \"paper\"}, {\"font\": {\"size\": 16}, \"showarrow\": false, \"text\": \"<b>Test Automation</b><br>(JSD: 0.10)\", \"x\": 0.9159999999999999, \"xanchor\": \"center\", \"xref\": \"paper\", \"y\": 0.8228125000000001, \"yanchor\": \"bottom\", \"yref\": \"paper\"}, {\"font\": {\"size\": 16}, \"showarrow\": false, \"text\": \"<b>Continuous Delivery</b><br>(JSD: 0.10)\", \"x\": 0.08399999999999999, \"xanchor\": \"center\", \"xref\": \"paper\", \"y\": 0.7975000000000001, \"yanchor\": \"bottom\", \"yref\": \"paper\"}, {\"font\": {\"size\": 16}, \"showarrow\": false, \"text\": \"<b>Software Quality</b><br>(JSD: 0.10)\", \"x\": 0.292, \"xanchor\": \"center\", \"xref\": \"paper\", \"y\": 0.7975000000000001, \"yanchor\": \"bottom\", \"yref\": \"paper\"}, {\"font\": {\"size\": 16}, \"showarrow\": false, \"text\": \"<b>Agile Leadership</b><br>(JSD: 0.10)\", \"x\": 0.5, \"xanchor\": \"center\", \"xref\": \"paper\", \"y\": 0.7975000000000001, \"yanchor\": \"bottom\", \"yref\": \"paper\"}, {\"font\": {\"size\": 16}, \"showarrow\": false, \"text\": \"<b>User Research</b><br>(JSD: 0.10)\", \"x\": 0.708, \"xanchor\": \"center\", \"xref\": \"paper\", \"y\": 0.7975000000000001, \"yanchor\": \"bottom\", \"yref\": \"paper\"}, {\"font\": {\"size\": 16}, \"showarrow\": false, \"text\": \"<b>Healthcare Innovation</b><br>(JSD: 0.10)\", \"x\": 0.9159999999999999, \"xanchor\": \"center\", \"xref\": \"paper\", \"y\": 0.7975000000000001, \"yanchor\": \"bottom\", \"yref\": \"paper\"}, {\"font\": {\"size\": 16}, \"showarrow\": false, \"text\": \"<b>Database Professionals</b><br>(JSD: 0.10)\", \"x\": 0.08399999999999999, \"xanchor\": \"center\", \"xref\": \"paper\", \"y\": 0.7721875000000001, \"yanchor\": \"bottom\", \"yref\": \"paper\"}, {\"font\": {\"size\": 16}, \"showarrow\": false, \"text\": \"<b>Agile Transformation</b><br>(JSD: 0.10)\", \"x\": 0.292, \"xanchor\": \"center\", \"xref\": \"paper\", \"y\": 0.7721875000000001, \"yanchor\": \"bottom\", \"yref\": \"paper\"}, {\"font\": {\"size\": 16}, \"showarrow\": false, \"text\": \"<b>PHP Application Development</b><br>(JSD: 0.10)\", \"x\": 0.5, \"xanchor\": \"center\", \"xref\": \"paper\", \"y\": 0.7721875000000001, \"yanchor\": \"bottom\", \"yref\": \"paper\"}, {\"font\": {\"size\": 16}, \"showarrow\": false, \"text\": \"<b>Open Data</b><br>(JSD: 0.10)\", \"x\": 0.708, \"xanchor\": \"center\", \"xref\": \"paper\", \"y\": 0.7721875000000001, \"yanchor\": \"bottom\", \"yref\": \"paper\"}, {\"font\": {\"size\": 16}, \"showarrow\": false, \"text\": \"<b>Product Design</b><br>(JSD: 0.09)\", \"x\": 0.9159999999999999, \"xanchor\": \"center\", \"xref\": \"paper\", \"y\": 0.7721875000000001, \"yanchor\": \"bottom\", \"yref\": \"paper\"}, {\"font\": {\"size\": 16}, \"showarrow\": false, \"text\": \"<b>Kanban</b><br>(JSD: 0.09)\", \"x\": 0.08399999999999999, \"xanchor\": \"center\", \"xref\": \"paper\", \"y\": 0.7468750000000001, \"yanchor\": \"bottom\", \"yref\": \"paper\"}, {\"font\": {\"size\": 16}, \"showarrow\": false, \"text\": \"<b>Lean UX</b><br>(JSD: 0.09)\", \"x\": 0.292, \"xanchor\": \"center\", \"xref\": \"paper\", \"y\": 0.7468750000000001, \"yanchor\": \"bottom\", \"yref\": \"paper\"}, {\"font\": {\"size\": 16}, \"showarrow\": false, \"text\": \"<b>High Scalability Computing</b><br>(JSD: 0.09)\", \"x\": 0.5, \"xanchor\": \"center\", \"xref\": \"paper\", \"y\": 0.7468750000000001, \"yanchor\": \"bottom\", \"yref\": \"paper\"}, {\"font\": {\"size\": 16}, \"showarrow\": false, \"text\": \"<b>Software Design</b><br>(JSD: 0.09)\", \"x\": 0.708, \"xanchor\": \"center\", \"xref\": \"paper\", \"y\": 0.7468750000000001, \"yanchor\": \"bottom\", \"yref\": \"paper\"}, {\"font\": {\"size\": 16}, \"showarrow\": false, \"text\": \"<b>High Performance Computing</b><br>(JSD: 0.09)\", \"x\": 0.9159999999999999, \"xanchor\": \"center\", \"xref\": \"paper\", \"y\": 0.7468750000000001, \"yanchor\": \"bottom\", \"yref\": \"paper\"}, {\"font\": {\"size\": 16}, \"showarrow\": false, \"text\": \"<b>Configuration Management</b><br>(JSD: 0.09)\", \"x\": 0.08399999999999999, \"xanchor\": \"center\", \"xref\": \"paper\", \"y\": 0.7215625000000001, \"yanchor\": \"bottom\", \"yref\": \"paper\"}, {\"font\": {\"size\": 16}, \"showarrow\": false, \"text\": \"<b>Financial Technology</b><br>(JSD: 0.09)\", \"x\": 0.292, \"xanchor\": \"center\", \"xref\": \"paper\", \"y\": 0.7215625000000001, \"yanchor\": \"bottom\", \"yref\": \"paper\"}, {\"font\": {\"size\": 16}, \"showarrow\": false, \"text\": \"<b>African American Women</b><br>(JSD: 0.09)\", \"x\": 0.5, \"xanchor\": \"center\", \"xref\": \"paper\", \"y\": 0.7215625000000001, \"yanchor\": \"bottom\", \"yref\": \"paper\"}, {\"font\": {\"size\": 16}, \"showarrow\": false, \"text\": \"<b>Angular 2</b><br>(JSD: 0.09)\", \"x\": 0.708, \"xanchor\": \"center\", \"xref\": \"paper\", \"y\": 0.7215625000000001, \"yanchor\": \"bottom\", \"yref\": \"paper\"}, {\"font\": {\"size\": 16}, \"showarrow\": false, \"text\": \"<b>AWS Programming and Tools</b><br>(JSD: 0.09)\", \"x\": 0.9159999999999999, \"xanchor\": \"center\", \"xref\": \"paper\", \"y\": 0.7215625000000001, \"yanchor\": \"bottom\", \"yref\": \"paper\"}, {\"font\": {\"size\": 16}, \"showarrow\": false, \"text\": \"<b>Containers</b><br>(JSD: 0.09)\", \"x\": 0.08399999999999999, \"xanchor\": \"center\", \"xref\": \"paper\", \"y\": 0.6962500000000001, \"yanchor\": \"bottom\", \"yref\": \"paper\"}, {\"font\": {\"size\": 16}, \"showarrow\": false, \"text\": \"<b>Active Dogs</b><br>(JSD: 0.09)\", \"x\": 0.292, \"xanchor\": \"center\", \"xref\": \"paper\", \"y\": 0.6962500000000001, \"yanchor\": \"bottom\", \"yref\": \"paper\"}, {\"font\": {\"size\": 16}, \"showarrow\": false, \"text\": \"<b>Statistical Computing</b><br>(JSD: 0.09)\", \"x\": 0.5, \"xanchor\": \"center\", \"xref\": \"paper\", \"y\": 0.6962500000000001, \"yanchor\": \"bottom\", \"yref\": \"paper\"}, {\"font\": {\"size\": 16}, \"showarrow\": false, \"text\": \"<b>Scaling Agile</b><br>(JSD: 0.09)\", \"x\": 0.708, \"xanchor\": \"center\", \"xref\": \"paper\", \"y\": 0.6962500000000001, \"yanchor\": \"bottom\", \"yref\": \"paper\"}, {\"font\": {\"size\": 16}, \"showarrow\": false, \"text\": \"<b>Test Driven Development</b><br>(JSD: 0.09)\", \"x\": 0.9159999999999999, \"xanchor\": \"center\", \"xref\": \"paper\", \"y\": 0.6962500000000001, \"yanchor\": \"bottom\", \"yref\": \"paper\"}, {\"font\": {\"size\": 16}, \"showarrow\": false, \"text\": \"<b>Real Life uses of AWS and cloud servers</b><br>(JSD: 0.09)\", \"x\": 0.08399999999999999, \"xanchor\": \"center\", \"xref\": \"paper\", \"y\": 0.6709375000000001, \"yanchor\": \"bottom\", \"yref\": \"paper\"}, {\"font\": {\"size\": 16}, \"showarrow\": false, \"text\": \"<b>EC2</b><br>(JSD: 0.09)\", \"x\": 0.292, \"xanchor\": \"center\", \"xref\": \"paper\", \"y\": 0.6709375000000001, \"yanchor\": \"bottom\", \"yref\": \"paper\"}, {\"font\": {\"size\": 16}, \"showarrow\": false, \"text\": \"<b>Usability</b><br>(JSD: 0.09)\", \"x\": 0.5, \"xanchor\": \"center\", \"xref\": \"paper\", \"y\": 0.6709375000000001, \"yanchor\": \"bottom\", \"yref\": \"paper\"}, {\"font\": {\"size\": 16}, \"showarrow\": false, \"text\": \"<b>Agile and Scrum</b><br>(JSD: 0.09)\", \"x\": 0.708, \"xanchor\": \"center\", \"xref\": \"paper\", \"y\": 0.6709375000000001, \"yanchor\": \"bottom\", \"yref\": \"paper\"}, {\"font\": {\"size\": 16}, \"showarrow\": false, \"text\": \"<b>Software Testing</b><br>(JSD: 0.09)\", \"x\": 0.9159999999999999, \"xanchor\": \"center\", \"xref\": \"paper\", \"y\": 0.6709375000000001, \"yanchor\": \"bottom\", \"yref\": \"paper\"}, {\"font\": {\"size\": 16}, \"showarrow\": false, \"text\": \"<b>Software Architecture</b><br>(JSD: 0.09)\", \"x\": 0.08399999999999999, \"xanchor\": \"center\", \"xref\": \"paper\", \"y\": 0.645625, \"yanchor\": \"bottom\", \"yref\": \"paper\"}, {\"font\": {\"size\": 16}, \"showarrow\": false, \"text\": \"<b>PaaS (Platform as a Service)</b><br>(JSD: 0.09)\", \"x\": 0.292, \"xanchor\": \"center\", \"xref\": \"paper\", \"y\": 0.645625, \"yanchor\": \"bottom\", \"yref\": \"paper\"}, {\"font\": {\"size\": 16}, \"showarrow\": false, \"text\": \"<b>Dog Hikes</b><br>(JSD: 0.09)\", \"x\": 0.5, \"xanchor\": \"center\", \"xref\": \"paper\", \"y\": 0.645625, \"yanchor\": \"bottom\", \"yref\": \"paper\"}, {\"font\": {\"size\": 16}, \"showarrow\": false, \"text\": \"<b>Women Programmers</b><br>(JSD: 0.09)\", \"x\": 0.708, \"xanchor\": \"center\", \"xref\": \"paper\", \"y\": 0.645625, \"yanchor\": \"bottom\", \"yref\": \"paper\"}, {\"font\": {\"size\": 16}, \"showarrow\": false, \"text\": \"<b>Infrastructure as Code</b><br>(JSD: 0.09)\", \"x\": 0.9159999999999999, \"xanchor\": \"center\", \"xref\": \"paper\", \"y\": 0.645625, \"yanchor\": \"bottom\", \"yref\": \"paper\"}, {\"font\": {\"size\": 16}, \"showarrow\": false, \"text\": \"<b>SaaS (Software as a Service)</b><br>(JSD: 0.09)\", \"x\": 0.08399999999999999, \"xanchor\": \"center\", \"xref\": \"paper\", \"y\": 0.6203125000000002, \"yanchor\": \"bottom\", \"yref\": \"paper\"}, {\"font\": {\"size\": 16}, \"showarrow\": false, \"text\": \"<b>R Project for Statistical Computing</b><br>(JSD: 0.08)\", \"x\": 0.292, \"xanchor\": \"center\", \"xref\": \"paper\", \"y\": 0.6203125000000002, \"yanchor\": \"bottom\", \"yref\": \"paper\"}, {\"font\": {\"size\": 16}, \"showarrow\": false, \"text\": \"<b>IaaS (Infrastructure as a Service)</b><br>(JSD: 0.08)\", \"x\": 0.5, \"xanchor\": \"center\", \"xref\": \"paper\", \"y\": 0.6203125000000002, \"yanchor\": \"bottom\", \"yref\": \"paper\"}, {\"font\": {\"size\": 16}, \"showarrow\": false, \"text\": \"<b>Agile Testing</b><br>(JSD: 0.08)\", \"x\": 0.708, \"xanchor\": \"center\", \"xref\": \"paper\", \"y\": 0.6203125000000002, \"yanchor\": \"bottom\", \"yref\": \"paper\"}, {\"font\": {\"size\": 16}, \"showarrow\": false, \"text\": \"<b>AWS S3</b><br>(JSD: 0.08)\", \"x\": 0.9159999999999999, \"xanchor\": \"center\", \"xref\": \"paper\", \"y\": 0.6203125000000002, \"yanchor\": \"bottom\", \"yref\": \"paper\"}, {\"font\": {\"size\": 16}, \"showarrow\": false, \"text\": \"<b>Agile Coaching</b><br>(JSD: 0.08)\", \"x\": 0.08399999999999999, \"xanchor\": \"center\", \"xref\": \"paper\", \"y\": 0.5950000000000001, \"yanchor\": \"bottom\", \"yref\": \"paper\"}, {\"font\": {\"size\": 16}, \"showarrow\": false, \"text\": \"<b>Extreme Programming</b><br>(JSD: 0.08)\", \"x\": 0.292, \"xanchor\": \"center\", \"xref\": \"paper\", \"y\": 0.5950000000000001, \"yanchor\": \"bottom\", \"yref\": \"paper\"}, {\"font\": {\"size\": 16}, \"showarrow\": false, \"text\": \"<b>Creative Real Estate Investing</b><br>(JSD: 0.08)\", \"x\": 0.5, \"xanchor\": \"center\", \"xref\": \"paper\", \"y\": 0.5950000000000001, \"yanchor\": \"bottom\", \"yref\": \"paper\"}, {\"font\": {\"size\": 16}, \"showarrow\": false, \"text\": \"<b>Information Architecture</b><br>(JSD: 0.08)\", \"x\": 0.708, \"xanchor\": \"center\", \"xref\": \"paper\", \"y\": 0.5950000000000001, \"yanchor\": \"bottom\", \"yref\": \"paper\"}, {\"font\": {\"size\": 16}, \"showarrow\": false, \"text\": \"<b>Database Development</b><br>(JSD: 0.08)\", \"x\": 0.9159999999999999, \"xanchor\": \"center\", \"xref\": \"paper\", \"y\": 0.5950000000000001, \"yanchor\": \"bottom\", \"yref\": \"paper\"}, {\"font\": {\"size\": 16}, \"showarrow\": false, \"text\": \"<b>Small Business Networking</b><br>(JSD: 0.08)\", \"x\": 0.08399999999999999, \"xanchor\": \"center\", \"xref\": \"paper\", \"y\": 0.5696875, \"yanchor\": \"bottom\", \"yref\": \"paper\"}, {\"font\": {\"size\": 16}, \"showarrow\": false, \"text\": \"<b>Sport Bikes</b><br>(JSD: 0.08)\", \"x\": 0.292, \"xanchor\": \"center\", \"xref\": \"paper\", \"y\": 0.5696875, \"yanchor\": \"bottom\", \"yref\": \"paper\"}, {\"font\": {\"size\": 16}, \"showarrow\": false, \"text\": \"<b>Go</b><br>(JSD: 0.08)\", \"x\": 0.5, \"xanchor\": \"center\", \"xref\": \"paper\", \"y\": 0.5696875, \"yanchor\": \"bottom\", \"yref\": \"paper\"}, {\"font\": {\"size\": 16}, \"showarrow\": false, \"text\": \"<b>Swift Language</b><br>(JSD: 0.08)\", \"x\": 0.708, \"xanchor\": \"center\", \"xref\": \"paper\", \"y\": 0.5696875, \"yanchor\": \"bottom\", \"yref\": \"paper\"}, {\"font\": {\"size\": 16}, \"showarrow\": false, \"text\": \"<b>HTML</b><br>(JSD: 0.08)\", \"x\": 0.9159999999999999, \"xanchor\": \"center\", \"xref\": \"paper\", \"y\": 0.5696875, \"yanchor\": \"bottom\", \"yref\": \"paper\"}, {\"font\": {\"size\": 16}, \"showarrow\": false, \"text\": \"<b>Digital Marketing</b><br>(JSD: 0.08)\", \"x\": 0.08399999999999999, \"xanchor\": \"center\", \"xref\": \"paper\", \"y\": 0.544375, \"yanchor\": \"bottom\", \"yref\": \"paper\"}, {\"font\": {\"size\": 16}, \"showarrow\": false, \"text\": \"<b>Ruby</b><br>(JSD: 0.08)\", \"x\": 0.292, \"xanchor\": \"center\", \"xref\": \"paper\", \"y\": 0.544375, \"yanchor\": \"bottom\", \"yref\": \"paper\"}, {\"font\": {\"size\": 16}, \"showarrow\": false, \"text\": \"<b>Computer Vision</b><br>(JSD: 0.08)\", \"x\": 0.5, \"xanchor\": \"center\", \"xref\": \"paper\", \"y\": 0.544375, \"yanchor\": \"bottom\", \"yref\": \"paper\"}, {\"font\": {\"size\": 16}, \"showarrow\": false, \"text\": \"<b>Amazon Web Services</b><br>(JSD: 0.08)\", \"x\": 0.708, \"xanchor\": \"center\", \"xref\": \"paper\", \"y\": 0.544375, \"yanchor\": \"bottom\", \"yref\": \"paper\"}, {\"font\": {\"size\": 16}, \"showarrow\": false, \"text\": \"<b>Dogs</b><br>(JSD: 0.08)\", \"x\": 0.9159999999999999, \"xanchor\": \"center\", \"xref\": \"paper\", \"y\": 0.544375, \"yanchor\": \"bottom\", \"yref\": \"paper\"}, {\"font\": {\"size\": 16}, \"showarrow\": false, \"text\": \"<b>Scala</b><br>(JSD: 0.08)\", \"x\": 0.08399999999999999, \"xanchor\": \"center\", \"xref\": \"paper\", \"y\": 0.5190625000000001, \"yanchor\": \"bottom\", \"yref\": \"paper\"}, {\"font\": {\"size\": 16}, \"showarrow\": false, \"text\": \"<b>Commercial Real Estate</b><br>(JSD: 0.08)\", \"x\": 0.292, \"xanchor\": \"center\", \"xref\": \"paper\", \"y\": 0.5190625000000001, \"yanchor\": \"bottom\", \"yref\": \"paper\"}, {\"font\": {\"size\": 16}, \"showarrow\": false, \"text\": \"<b>ASP.NET MVC</b><br>(JSD: 0.08)\", \"x\": 0.5, \"xanchor\": \"center\", \"xref\": \"paper\", \"y\": 0.5190625000000001, \"yanchor\": \"bottom\", \"yref\": \"paper\"}, {\"font\": {\"size\": 16}, \"showarrow\": false, \"text\": \"<b>Data Management</b><br>(JSD: 0.08)\", \"x\": 0.708, \"xanchor\": \"center\", \"xref\": \"paper\", \"y\": 0.5190625000000001, \"yanchor\": \"bottom\", \"yref\": \"paper\"}, {\"font\": {\"size\": 16}, \"showarrow\": false, \"text\": \"<b>Apache Spark</b><br>(JSD: 0.08)\", \"x\": 0.9159999999999999, \"xanchor\": \"center\", \"xref\": \"paper\", \"y\": 0.5190625000000001, \"yanchor\": \"bottom\", \"yref\": \"paper\"}, {\"font\": {\"size\": 16}, \"showarrow\": false, \"text\": \"<b>Scrum</b><br>(JSD: 0.08)\", \"x\": 0.08399999999999999, \"xanchor\": \"center\", \"xref\": \"paper\", \"y\": 0.4937500000000001, \"yanchor\": \"bottom\", \"yref\": \"paper\"}, {\"font\": {\"size\": 16}, \"showarrow\": false, \"text\": \"<b>Agile Project Management</b><br>(JSD: 0.08)\", \"x\": 0.292, \"xanchor\": \"center\", \"xref\": \"paper\", \"y\": 0.4937500000000001, \"yanchor\": \"bottom\", \"yref\": \"paper\"}, {\"font\": {\"size\": 16}, \"showarrow\": false, \"text\": \"<b>New Career</b><br>(JSD: 0.08)\", \"x\": 0.5, \"xanchor\": \"center\", \"xref\": \"paper\", \"y\": 0.4937500000000001, \"yanchor\": \"bottom\", \"yref\": \"paper\"}, {\"font\": {\"size\": 16}, \"showarrow\": false, \"text\": \"<b>Web Standards</b><br>(JSD: 0.08)\", \"x\": 0.708, \"xanchor\": \"center\", \"xref\": \"paper\", \"y\": 0.4937500000000001, \"yanchor\": \"bottom\", \"yref\": \"paper\"}, {\"font\": {\"size\": 16}, \"showarrow\": false, \"text\": \"<b>Virtualization</b><br>(JSD: 0.08)\", \"x\": 0.9159999999999999, \"xanchor\": \"center\", \"xref\": \"paper\", \"y\": 0.4937500000000001, \"yanchor\": \"bottom\", \"yref\": \"paper\"}, {\"font\": {\"size\": 16}, \"showarrow\": false, \"text\": \"<b>Digital Media</b><br>(JSD: 0.08)\", \"x\": 0.08399999999999999, \"xanchor\": \"center\", \"xref\": \"paper\", \"y\": 0.46843750000000006, \"yanchor\": \"bottom\", \"yref\": \"paper\"}, {\"font\": {\"size\": 16}, \"showarrow\": false, \"text\": \"<b>Buy & Hold Real Estate Investing</b><br>(JSD: 0.08)\", \"x\": 0.292, \"xanchor\": \"center\", \"xref\": \"paper\", \"y\": 0.46843750000000006, \"yanchor\": \"bottom\", \"yref\": \"paper\"}, {\"font\": {\"size\": 16}, \"showarrow\": false, \"text\": \"<b>React</b><br>(JSD: 0.08)\", \"x\": 0.5, \"xanchor\": \"center\", \"xref\": \"paper\", \"y\": 0.46843750000000006, \"yanchor\": \"bottom\", \"yref\": \"paper\"}, {\"font\": {\"size\": 16}, \"showarrow\": false, \"text\": \"<b>Design Thinking</b><br>(JSD: 0.08)\", \"x\": 0.708, \"xanchor\": \"center\", \"xref\": \"paper\", \"y\": 0.46843750000000006, \"yanchor\": \"bottom\", \"yref\": \"paper\"}, {\"font\": {\"size\": 16}, \"showarrow\": false, \"text\": \"<b>Software Engineering</b><br>(JSD: 0.08)\", \"x\": 0.9159999999999999, \"xanchor\": \"center\", \"xref\": \"paper\", \"y\": 0.46843750000000006, \"yanchor\": \"bottom\", \"yref\": \"paper\"}, {\"font\": {\"size\": 16}, \"showarrow\": false, \"text\": \"<b>Functional Programming</b><br>(JSD: 0.08)\", \"x\": 0.08399999999999999, \"xanchor\": \"center\", \"xref\": \"paper\", \"y\": 0.4431250000000001, \"yanchor\": \"bottom\", \"yref\": \"paper\"}, {\"font\": {\"size\": 16}, \"showarrow\": false, \"text\": \"<b>Freelance</b><br>(JSD: 0.08)\", \"x\": 0.292, \"xanchor\": \"center\", \"xref\": \"paper\", \"y\": 0.4431250000000001, \"yanchor\": \"bottom\", \"yref\": \"paper\"}, {\"font\": {\"size\": 16}, \"showarrow\": false, \"text\": \"<b>Founders</b><br>(JSD: 0.08)\", \"x\": 0.5, \"xanchor\": \"center\", \"xref\": \"paper\", \"y\": 0.4431250000000001, \"yanchor\": \"bottom\", \"yref\": \"paper\"}, {\"font\": {\"size\": 16}, \"showarrow\": false, \"text\": \"<b>Data Center and Operations Automation</b><br>(JSD: 0.07)\", \"x\": 0.708, \"xanchor\": \"center\", \"xref\": \"paper\", \"y\": 0.4431250000000001, \"yanchor\": \"bottom\", \"yref\": \"paper\"}, {\"font\": {\"size\": 16}, \"showarrow\": false, \"text\": \"<b>Docker</b><br>(JSD: 0.07)\", \"x\": 0.9159999999999999, \"xanchor\": \"center\", \"xref\": \"paper\", \"y\": 0.4431250000000001, \"yanchor\": \"bottom\", \"yref\": \"paper\"}, {\"font\": {\"size\": 16}, \"showarrow\": false, \"text\": \"<b>TensorFlow</b><br>(JSD: 0.07)\", \"x\": 0.08399999999999999, \"xanchor\": \"center\", \"xref\": \"paper\", \"y\": 0.41781250000000003, \"yanchor\": \"bottom\", \"yref\": \"paper\"}, {\"font\": {\"size\": 16}, \"showarrow\": false, \"text\": \"<b>Objective C</b><br>(JSD: 0.07)\", \"x\": 0.292, \"xanchor\": \"center\", \"xref\": \"paper\", \"y\": 0.41781250000000003, \"yanchor\": \"bottom\", \"yref\": \"paper\"}, {\"font\": {\"size\": 16}, \"showarrow\": false, \"text\": \"<b>ASP.NET</b><br>(JSD: 0.07)\", \"x\": 0.5, \"xanchor\": \"center\", \"xref\": \"paper\", \"y\": 0.41781250000000003, \"yanchor\": \"bottom\", \"yref\": \"paper\"}, {\"font\": {\"size\": 16}, \"showarrow\": false, \"text\": \"<b>Lean Startup</b><br>(JSD: 0.07)\", \"x\": 0.708, \"xanchor\": \"center\", \"xref\": \"paper\", \"y\": 0.41781250000000003, \"yanchor\": \"bottom\", \"yref\": \"paper\"}, {\"font\": {\"size\": 16}, \"showarrow\": false, \"text\": \"<b>Golang</b><br>(JSD: 0.07)\", \"x\": 0.9159999999999999, \"xanchor\": \"center\", \"xref\": \"paper\", \"y\": 0.41781250000000003, \"yanchor\": \"bottom\", \"yref\": \"paper\"}, {\"font\": {\"size\": 16}, \"showarrow\": false, \"text\": \"<b>User Experience</b><br>(JSD: 0.07)\", \"x\": 0.08399999999999999, \"xanchor\": \"center\", \"xref\": \"paper\", \"y\": 0.39250000000000007, \"yanchor\": \"bottom\", \"yref\": \"paper\"}, {\"font\": {\"size\": 16}, \"showarrow\": false, \"text\": \"<b>SQL Server</b><br>(JSD: 0.07)\", \"x\": 0.292, \"xanchor\": \"center\", \"xref\": \"paper\", \"y\": 0.39250000000000007, \"yanchor\": \"bottom\", \"yref\": \"paper\"}, {\"font\": {\"size\": 16}, \"showarrow\": false, \"text\": \"<b>iOS</b><br>(JSD: 0.07)\", \"x\": 0.5, \"xanchor\": \"center\", \"xref\": \"paper\", \"y\": 0.39250000000000007, \"yanchor\": \"bottom\", \"yref\": \"paper\"}, {\"font\": {\"size\": 16}, \"showarrow\": false, \"text\": \"<b>Web Application Security</b><br>(JSD: 0.07)\", \"x\": 0.708, \"xanchor\": \"center\", \"xref\": \"paper\", \"y\": 0.39250000000000007, \"yanchor\": \"bottom\", \"yref\": \"paper\"}, {\"font\": {\"size\": 16}, \"showarrow\": false, \"text\": \"<b>Interaction Design</b><br>(JSD: 0.07)\", \"x\": 0.9159999999999999, \"xanchor\": \"center\", \"xref\": \"paper\", \"y\": 0.39250000000000007, \"yanchor\": \"bottom\", \"yref\": \"paper\"}, {\"font\": {\"size\": 16}, \"showarrow\": false, \"text\": \"<b>Cloud Security</b><br>(JSD: 0.07)\", \"x\": 0.08399999999999999, \"xanchor\": \"center\", \"xref\": \"paper\", \"y\": 0.36718750000000006, \"yanchor\": \"bottom\", \"yref\": \"paper\"}, {\"font\": {\"size\": 16}, \"showarrow\": false, \"text\": \"<b>Office 365</b><br>(JSD: 0.07)\", \"x\": 0.292, \"xanchor\": \"center\", \"xref\": \"paper\", \"y\": 0.36718750000000006, \"yanchor\": \"bottom\", \"yref\": \"paper\"}, {\"font\": {\"size\": 16}, \"showarrow\": false, \"text\": \"<b>Explore: Agile Scrum XP Lean Kanban</b><br>(JSD: 0.07)\", \"x\": 0.5, \"xanchor\": \"center\", \"xref\": \"paper\", \"y\": 0.36718750000000006, \"yanchor\": \"bottom\", \"yref\": \"paper\"}, {\"font\": {\"size\": 16}, \"showarrow\": false, \"text\": \"<b>Pets</b><br>(JSD: 0.07)\", \"x\": 0.708, \"xanchor\": \"center\", \"xref\": \"paper\", \"y\": 0.36718750000000006, \"yanchor\": \"bottom\", \"yref\": \"paper\"}, {\"font\": {\"size\": 16}, \"showarrow\": false, \"text\": \"<b>First Time Real Estate Investing</b><br>(JSD: 0.07)\", \"x\": 0.9159999999999999, \"xanchor\": \"center\", \"xref\": \"paper\", \"y\": 0.36718750000000006, \"yanchor\": \"bottom\", \"yref\": \"paper\"}, {\"font\": {\"size\": 16}, \"showarrow\": false, \"text\": \"<b>Small Business Online Marketing</b><br>(JSD: 0.07)\", \"x\": 0.08399999999999999, \"xanchor\": \"center\", \"xref\": \"paper\", \"y\": 0.34187500000000004, \"yanchor\": \"bottom\", \"yref\": \"paper\"}, {\"font\": {\"size\": 16}, \"showarrow\": false, \"text\": \"<b>Business Development</b><br>(JSD: 0.07)\", \"x\": 0.292, \"xanchor\": \"center\", \"xref\": \"paper\", \"y\": 0.34187500000000004, \"yanchor\": \"bottom\", \"yref\": \"paper\"}, {\"font\": {\"size\": 16}, \"showarrow\": false, \"text\": \"<b>Motorcycle Touring</b><br>(JSD: 0.07)\", \"x\": 0.5, \"xanchor\": \"center\", \"xref\": \"paper\", \"y\": 0.34187500000000004, \"yanchor\": \"bottom\", \"yref\": \"paper\"}, {\"font\": {\"size\": 16}, \"showarrow\": false, \"text\": \"<b>Vue.js</b><br>(JSD: 0.07)\", \"x\": 0.708, \"xanchor\": \"center\", \"xref\": \"paper\", \"y\": 0.34187500000000004, \"yanchor\": \"bottom\", \"yref\": \"paper\"}, {\"font\": {\"size\": 16}, \"showarrow\": false, \"text\": \"<b>Windows Azure Platform</b><br>(JSD: 0.07)\", \"x\": 0.9159999999999999, \"xanchor\": \"center\", \"xref\": \"paper\", \"y\": 0.34187500000000004, \"yanchor\": \"bottom\", \"yref\": \"paper\"}, {\"font\": {\"size\": 16}, \"showarrow\": false, \"text\": \"<b>Real Estate Investing Education</b><br>(JSD: 0.07)\", \"x\": 0.08399999999999999, \"xanchor\": \"center\", \"xref\": \"paper\", \"y\": 0.3165625000000001, \"yanchor\": \"bottom\", \"yref\": \"paper\"}, {\"font\": {\"size\": 16}, \"showarrow\": false, \"text\": \"<b>Microsoft Azure</b><br>(JSD: 0.07)\", \"x\": 0.292, \"xanchor\": \"center\", \"xref\": \"paper\", \"y\": 0.3165625000000001, \"yanchor\": \"bottom\", \"yref\": \"paper\"}, {\"font\": {\"size\": 16}, \"showarrow\": false, \"text\": \"<b>NoSQL</b><br>(JSD: 0.07)\", \"x\": 0.5, \"xanchor\": \"center\", \"xref\": \"paper\", \"y\": 0.3165625000000001, \"yanchor\": \"bottom\", \"yref\": \"paper\"}, {\"font\": {\"size\": 16}, \"showarrow\": false, \"text\": \"<b>DevOps</b><br>(JSD: 0.07)\", \"x\": 0.708, \"xanchor\": \"center\", \"xref\": \"paper\", \"y\": 0.3165625000000001, \"yanchor\": \"bottom\", \"yref\": \"paper\"}, {\"font\": {\"size\": 16}, \"showarrow\": false, \"text\": \"<b>JavaScript Libraries</b><br>(JSD: 0.07)\", \"x\": 0.9159999999999999, \"xanchor\": \"center\", \"xref\": \"paper\", \"y\": 0.3165625000000001, \"yanchor\": \"bottom\", \"yref\": \"paper\"}, {\"font\": {\"size\": 16}, \"showarrow\": false, \"text\": \"<b>Lean Project Management</b><br>(JSD: 0.07)\", \"x\": 0.08399999999999999, \"xanchor\": \"center\", \"xref\": \"paper\", \"y\": 0.29125, \"yanchor\": \"bottom\", \"yref\": \"paper\"}, {\"font\": {\"size\": 16}, \"showarrow\": false, \"text\": \"<b>Backpacking and Camping</b><br>(JSD: 0.07)\", \"x\": 0.292, \"xanchor\": \"center\", \"xref\": \"paper\", \"y\": 0.29125, \"yanchor\": \"bottom\", \"yref\": \"paper\"}, {\"font\": {\"size\": 16}, \"showarrow\": false, \"text\": \"<b>Photo Walks</b><br>(JSD: 0.07)\", \"x\": 0.5, \"xanchor\": \"center\", \"xref\": \"paper\", \"y\": 0.29125, \"yanchor\": \"bottom\", \"yref\": \"paper\"}, {\"font\": {\"size\": 16}, \"showarrow\": false, \"text\": \"<b>Angel Investors</b><br>(JSD: 0.07)\", \"x\": 0.708, \"xanchor\": \"center\", \"xref\": \"paper\", \"y\": 0.29125, \"yanchor\": \"bottom\", \"yref\": \"paper\"}, {\"font\": {\"size\": 16}, \"showarrow\": false, \"text\": \"<b>SEO (Search Engine Optimization)</b><br>(JSD: 0.07)\", \"x\": 0.9159999999999999, \"xanchor\": \"center\", \"xref\": \"paper\", \"y\": 0.29125, \"yanchor\": \"bottom\", \"yref\": \"paper\"}, {\"font\": {\"size\": 16}, \"showarrow\": false, \"text\": \"<b>30s and 40s</b><br>(JSD: 0.06)\", \"x\": 0.08399999999999999, \"xanchor\": \"center\", \"xref\": \"paper\", \"y\": 0.26593750000000005, \"yanchor\": \"bottom\", \"yref\": \"paper\"}, {\"font\": {\"size\": 16}, \"showarrow\": false, \"text\": \"<b>Microsoft</b><br>(JSD: 0.06)\", \"x\": 0.292, \"xanchor\": \"center\", \"xref\": \"paper\", \"y\": 0.26593750000000005, \"yanchor\": \"bottom\", \"yref\": \"paper\"}, {\"font\": {\"size\": 16}, \"showarrow\": false, \"text\": \"<b>PHP</b><br>(JSD: 0.06)\", \"x\": 0.5, \"xanchor\": \"center\", \"xref\": \"paper\", \"y\": 0.26593750000000005, \"yanchor\": \"bottom\", \"yref\": \"paper\"}, {\"font\": {\"size\": 16}, \"showarrow\": false, \"text\": \"<b>C#</b><br>(JSD: 0.06)\", \"x\": 0.708, \"xanchor\": \"center\", \"xref\": \"paper\", \"y\": 0.26593750000000005, \"yanchor\": \"bottom\", \"yref\": \"paper\"}, {\"font\": {\"size\": 16}, \"showarrow\": false, \"text\": \"<b>UX Design</b><br>(JSD: 0.06)\", \"x\": 0.9159999999999999, \"xanchor\": \"center\", \"xref\": \"paper\", \"y\": 0.26593750000000005, \"yanchor\": \"bottom\", \"yref\": \"paper\"}, {\"font\": {\"size\": 16}, \"showarrow\": false, \"text\": \"<b>Mobile User Experience</b><br>(JSD: 0.06)\", \"x\": 0.08399999999999999, \"xanchor\": \"center\", \"xref\": \"paper\", \"y\": 0.24062500000000003, \"yanchor\": \"bottom\", \"yref\": \"paper\"}, {\"font\": {\"size\": 16}, \"showarrow\": false, \"text\": \"<b>Java</b><br>(JSD: 0.06)\", \"x\": 0.292, \"xanchor\": \"center\", \"xref\": \"paper\", \"y\": 0.24062500000000003, \"yanchor\": \"bottom\", \"yref\": \"paper\"}, {\"font\": {\"size\": 16}, \"showarrow\": false, \"text\": \"<b>Women in Technology</b><br>(JSD: 0.06)\", \"x\": 0.5, \"xanchor\": \"center\", \"xref\": \"paper\", \"y\": 0.24062500000000003, \"yanchor\": \"bottom\", \"yref\": \"paper\"}, {\"font\": {\"size\": 16}, \"showarrow\": false, \"text\": \"<b>SQL</b><br>(JSD: 0.06)\", \"x\": 0.708, \"xanchor\": \"center\", \"xref\": \"paper\", \"y\": 0.24062500000000003, \"yanchor\": \"bottom\", \"yref\": \"paper\"}, {\"font\": {\"size\": 16}, \"showarrow\": false, \"text\": \"<b>Motorcycle Riding</b><br>(JSD: 0.06)\", \"x\": 0.9159999999999999, \"xanchor\": \"center\", \"xref\": \"paper\", \"y\": 0.24062500000000003, \"yanchor\": \"bottom\", \"yref\": \"paper\"}, {\"font\": {\"size\": 16}, \"showarrow\": false, \"text\": \"<b>Smart Property</b><br>(JSD: 0.06)\", \"x\": 0.08399999999999999, \"xanchor\": \"center\", \"xref\": \"paper\", \"y\": 0.21531250000000002, \"yanchor\": \"bottom\", \"yref\": \"paper\"}, {\"font\": {\"size\": 16}, \"showarrow\": false, \"text\": \"<b>Bikers that like to ride.</b><br>(JSD: 0.06)\", \"x\": 0.292, \"xanchor\": \"center\", \"xref\": \"paper\", \"y\": 0.21531250000000002, \"yanchor\": \"bottom\", \"yref\": \"paper\"}, {\"font\": {\"size\": 16}, \"showarrow\": false, \"text\": \"<b>Business Referral Networking</b><br>(JSD: 0.06)\", \"x\": 0.5, \"xanchor\": \"center\", \"xref\": \"paper\", \"y\": 0.21531250000000002, \"yanchor\": \"bottom\", \"yref\": \"paper\"}, {\"font\": {\"size\": 16}, \"showarrow\": false, \"text\": \"<b>Cruiser Bikes</b><br>(JSD: 0.06)\", \"x\": 0.708, \"xanchor\": \"center\", \"xref\": \"paper\", \"y\": 0.21531250000000002, \"yanchor\": \"bottom\", \"yref\": \"paper\"}, {\"font\": {\"size\": 16}, \"showarrow\": false, \"text\": \"<b>Real Estate Agent</b><br>(JSD: 0.06)\", \"x\": 0.9159999999999999, \"xanchor\": \"center\", \"xref\": \"paper\", \"y\": 0.21531250000000002, \"yanchor\": \"bottom\", \"yref\": \"paper\"}, {\"font\": {\"size\": 16}, \"showarrow\": false, \"text\": \"<b>Software Security</b><br>(JSD: 0.06)\", \"x\": 0.08399999999999999, \"xanchor\": \"center\", \"xref\": \"paper\", \"y\": 0.19, \"yanchor\": \"bottom\", \"yref\": \"paper\"}, {\"font\": {\"size\": 16}, \"showarrow\": false, \"text\": \"<b>Microsoft Technology</b><br>(JSD: 0.06)\", \"x\": 0.292, \"xanchor\": \"center\", \"xref\": \"paper\", \"y\": 0.19, \"yanchor\": \"bottom\", \"yref\": \"paper\"}, {\"font\": {\"size\": 16}, \"showarrow\": false, \"text\": \"<b>Women Small Business Owners</b><br>(JSD: 0.06)\", \"x\": 0.5, \"xanchor\": \"center\", \"xref\": \"paper\", \"y\": 0.19, \"yanchor\": \"bottom\", \"yref\": \"paper\"}, {\"font\": {\"size\": 16}, \"showarrow\": false, \"text\": \"<b>Real Estate Investing Meetings</b><br>(JSD: 0.06)\", \"x\": 0.708, \"xanchor\": \"center\", \"xref\": \"paper\", \"y\": 0.19, \"yanchor\": \"bottom\", \"yref\": \"paper\"}, {\"font\": {\"size\": 16}, \"showarrow\": false, \"text\": \"<b>Real Estate Networking</b><br>(JSD: 0.06)\", \"x\": 0.9159999999999999, \"xanchor\": \"center\", \"xref\": \"paper\", \"y\": 0.19, \"yanchor\": \"bottom\", \"yref\": \"paper\"}, {\"font\": {\"size\": 16}, \"showarrow\": false, \"text\": \"<b>Applied Statistics</b><br>(JSD: 0.06)\", \"x\": 0.08399999999999999, \"xanchor\": \"center\", \"xref\": \"paper\", \"y\": 0.16468750000000001, \"yanchor\": \"bottom\", \"yref\": \"paper\"}, {\"font\": {\"size\": 16}, \"showarrow\": false, \"text\": \"<b>Functional Programming in Python</b><br>(JSD: 0.06)\", \"x\": 0.292, \"xanchor\": \"center\", \"xref\": \"paper\", \"y\": 0.16468750000000001, \"yanchor\": \"bottom\", \"yref\": \"paper\"}, {\"font\": {\"size\": 16}, \"showarrow\": false, \"text\": \"<b>Learn Programming</b><br>(JSD: 0.06)\", \"x\": 0.5, \"xanchor\": \"center\", \"xref\": \"paper\", \"y\": 0.16468750000000001, \"yanchor\": \"bottom\", \"yref\": \"paper\"}, {\"font\": {\"size\": 16}, \"showarrow\": false, \"text\": \"<b>Open Source Python</b><br>(JSD: 0.06)\", \"x\": 0.708, \"xanchor\": \"center\", \"xref\": \"paper\", \"y\": 0.16468750000000001, \"yanchor\": \"bottom\", \"yref\": \"paper\"}, {\"font\": {\"size\": 16}, \"showarrow\": false, \"text\": \"<b>Black Entrepreneurs</b><br>(JSD: 0.06)\", \"x\": 0.9159999999999999, \"xanchor\": \"center\", \"xref\": \"paper\", \"y\": 0.16468750000000001, \"yanchor\": \"bottom\", \"yref\": \"paper\"}, {\"font\": {\"size\": 16}, \"showarrow\": false, \"text\": \"<b>Service Design</b><br>(JSD: 0.06)\", \"x\": 0.08399999999999999, \"xanchor\": \"center\", \"xref\": \"paper\", \"y\": 0.139375, \"yanchor\": \"bottom\", \"yref\": \"paper\"}, {\"font\": {\"size\": 16}, \"showarrow\": false, \"text\": \"<b>Real Estate Foreclosures</b><br>(JSD: 0.06)\", \"x\": 0.292, \"xanchor\": \"center\", \"xref\": \"paper\", \"y\": 0.139375, \"yanchor\": \"bottom\", \"yref\": \"paper\"}, {\"font\": {\"size\": 16}, \"showarrow\": false, \"text\": \"<b>Information Technology</b><br>(JSD: 0.06)\", \"x\": 0.5, \"xanchor\": \"center\", \"xref\": \"paper\", \"y\": 0.139375, \"yanchor\": \"bottom\", \"yref\": \"paper\"}, {\"font\": {\"size\": 16}, \"showarrow\": false, \"text\": \"<b>Wholesaling Real Estate</b><br>(JSD: 0.06)\", \"x\": 0.708, \"xanchor\": \"center\", \"xref\": \"paper\", \"y\": 0.139375, \"yanchor\": \"bottom\", \"yref\": \"paper\"}, {\"font\": {\"size\": 16}, \"showarrow\": false, \"text\": \"<b>Learning to Code</b><br>(JSD: 0.06)\", \"x\": 0.9159999999999999, \"xanchor\": \"center\", \"xref\": \"paper\", \"y\": 0.139375, \"yanchor\": \"bottom\", \"yref\": \"paper\"}, {\"font\": {\"size\": 16}, \"showarrow\": false, \"text\": \"<b>E-Commerce</b><br>(JSD: 0.06)\", \"x\": 0.08399999999999999, \"xanchor\": \"center\", \"xref\": \"paper\", \"y\": 0.11406250000000001, \"yanchor\": \"bottom\", \"yref\": \"paper\"}, {\"font\": {\"size\": 16}, \"showarrow\": false, \"text\": \"<b>Paris</b><br>(JSD: 0.06)\", \"x\": 0.292, \"xanchor\": \"center\", \"xref\": \"paper\", \"y\": 0.11406250000000001, \"yanchor\": \"bottom\", \"yref\": \"paper\"}, {\"font\": {\"size\": 16}, \"showarrow\": false, \"text\": \"<b>Building an Online Business</b><br>(JSD: 0.06)\", \"x\": 0.5, \"xanchor\": \"center\", \"xref\": \"paper\", \"y\": 0.11406250000000001, \"yanchor\": \"bottom\", \"yref\": \"paper\"}, {\"font\": {\"size\": 16}, \"showarrow\": false, \"text\": \"<b>Clubbing</b><br>(JSD: 0.06)\", \"x\": 0.708, \"xanchor\": \"center\", \"xref\": \"paper\", \"y\": 0.11406250000000001, \"yanchor\": \"bottom\", \"yref\": \"paper\"}, {\"font\": {\"size\": 16}, \"showarrow\": false, \"text\": \"<b>Adventure Hiking</b><br>(JSD: 0.06)\", \"x\": 0.9159999999999999, \"xanchor\": \"center\", \"xref\": \"paper\", \"y\": 0.11406250000000001, \"yanchor\": \"bottom\", \"yref\": \"paper\"}, {\"font\": {\"size\": 16}, \"showarrow\": false, \"text\": \"<b>.NET</b><br>(JSD: 0.06)\", \"x\": 0.08399999999999999, \"xanchor\": \"center\", \"xref\": \"paper\", \"y\": 0.08875000000000001, \"yanchor\": \"bottom\", \"yref\": \"paper\"}, {\"font\": {\"size\": 16}, \"showarrow\": false, \"text\": \"<b>Machine Learning & Artificial Intelligence</b><br>(JSD: 0.06)\", \"x\": 0.292, \"xanchor\": \"center\", \"xref\": \"paper\", \"y\": 0.08875000000000001, \"yanchor\": \"bottom\", \"yref\": \"paper\"}, {\"font\": {\"size\": 16}, \"showarrow\": false, \"text\": \"<b>Azure</b><br>(JSD: 0.06)\", \"x\": 0.5, \"xanchor\": \"center\", \"xref\": \"paper\", \"y\": 0.08875000000000001, \"yanchor\": \"bottom\", \"yref\": \"paper\"}, {\"font\": {\"size\": 16}, \"showarrow\": false, \"text\": \"<b>Animals</b><br>(JSD: 0.06)\", \"x\": 0.708, \"xanchor\": \"center\", \"xref\": \"paper\", \"y\": 0.08875000000000001, \"yanchor\": \"bottom\", \"yref\": \"paper\"}, {\"font\": {\"size\": 16}, \"showarrow\": false, \"text\": \"<b>User Interface Design</b><br>(JSD: 0.06)\", \"x\": 0.9159999999999999, \"xanchor\": \"center\", \"xref\": \"paper\", \"y\": 0.08875000000000001, \"yanchor\": \"bottom\", \"yref\": \"paper\"}, {\"font\": {\"size\": 16}, \"showarrow\": false, \"text\": \"<b>Singles 20's  & 30's</b><br>(JSD: 0.06)\", \"x\": 0.08399999999999999, \"xanchor\": \"center\", \"xref\": \"paper\", \"y\": 0.06343750000000001, \"yanchor\": \"bottom\", \"yref\": \"paper\"}, {\"font\": {\"size\": 16}, \"showarrow\": false, \"text\": \"<b>Networking for Job Seekers</b><br>(JSD: 0.06)\", \"x\": 0.292, \"xanchor\": \"center\", \"xref\": \"paper\", \"y\": 0.06343750000000001, \"yanchor\": \"bottom\", \"yref\": \"paper\"}, {\"font\": {\"size\": 16}, \"showarrow\": false, \"text\": \"<b>Cybersecurity</b><br>(JSD: 0.06)\", \"x\": 0.5, \"xanchor\": \"center\", \"xref\": \"paper\", \"y\": 0.06343750000000001, \"yanchor\": \"bottom\", \"yref\": \"paper\"}, {\"font\": {\"size\": 16}, \"showarrow\": false, \"text\": \"<b>JQuery</b><br>(JSD: 0.05)\", \"x\": 0.708, \"xanchor\": \"center\", \"xref\": \"paper\", \"y\": 0.06343750000000001, \"yanchor\": \"bottom\", \"yref\": \"paper\"}, {\"font\": {\"size\": 16}, \"showarrow\": false, \"text\": \"<b>Landlords</b><br>(JSD: 0.05)\", \"x\": 0.9159999999999999, \"xanchor\": \"center\", \"xref\": \"paper\", \"y\": 0.06343750000000001, \"yanchor\": \"bottom\", \"yref\": \"paper\"}, {\"font\": {\"size\": 16}, \"showarrow\": false, \"text\": \"<b>System Administration</b><br>(JSD: 0.05)\", \"x\": 0.08399999999999999, \"xanchor\": \"center\", \"xref\": \"paper\", \"y\": 0.038125, \"yanchor\": \"bottom\", \"yref\": \"paper\"}, {\"font\": {\"size\": 16}, \"showarrow\": false, \"text\": \"<b>Ruby On Rails</b><br>(JSD: 0.05)\", \"x\": 0.292, \"xanchor\": \"center\", \"xref\": \"paper\", \"y\": 0.038125, \"yanchor\": \"bottom\", \"yref\": \"paper\"}, {\"font\": {\"size\": 16}, \"showarrow\": false, \"text\": \"<b>UI Design</b><br>(JSD: 0.05)\", \"x\": 0.5, \"xanchor\": \"center\", \"xref\": \"paper\", \"y\": 0.038125, \"yanchor\": \"bottom\", \"yref\": \"paper\"}, {\"font\": {\"size\": 16}, \"showarrow\": false, \"text\": \"<b>Network Security</b><br>(JSD: 0.05)\", \"x\": 0.708, \"xanchor\": \"center\", \"xref\": \"paper\", \"y\": 0.038125, \"yanchor\": \"bottom\", \"yref\": \"paper\"}, {\"font\": {\"size\": 16}, \"showarrow\": false, \"text\": \"<b>JavaScript</b><br>(JSD: 0.05)\", \"x\": 0.9159999999999999, \"xanchor\": \"center\", \"xref\": \"paper\", \"y\": 0.038125, \"yanchor\": \"bottom\", \"yref\": \"paper\"}, {\"font\": {\"size\": 16}, \"showarrow\": false, \"text\": \"<b>Black Women</b><br>(JSD: 0.05)\", \"x\": 0.08399999999999999, \"xanchor\": \"center\", \"xref\": \"paper\", \"y\": 0.0128125, \"yanchor\": \"bottom\", \"yref\": \"paper\"}, {\"font\": {\"size\": 16}, \"showarrow\": false, \"text\": \"<b>Venture Capital</b><br>(JSD: 0.05)\", \"x\": 0.292, \"xanchor\": \"center\", \"xref\": \"paper\", \"y\": 0.0128125, \"yanchor\": \"bottom\", \"yref\": \"paper\"}, {\"font\": {\"size\": 16}, \"showarrow\": false, \"text\": \"<b>Beginner Real Estate Investing</b><br>(JSD: 0.05)\", \"x\": 0.5, \"xanchor\": \"center\", \"xref\": \"paper\", \"y\": 0.0128125, \"yanchor\": \"bottom\", \"yref\": \"paper\"}, {\"font\": {\"size\": 16}, \"showarrow\": false, \"text\": \"<b>Real Estate Investment Education</b><br>(JSD: 0.05)\", \"x\": 0.708, \"xanchor\": \"center\", \"xref\": \"paper\", \"y\": 0.0128125, \"yanchor\": \"bottom\", \"yref\": \"paper\"}, {\"font\": {\"size\": 16}, \"showarrow\": false, \"text\": \"<b>Programming Languages</b><br>(JSD: 0.05)\", \"x\": 0.9159999999999999, \"xanchor\": \"center\", \"xref\": \"paper\", \"y\": 0.0128125, \"yanchor\": \"bottom\", \"yref\": \"paper\"}], \"xaxis\": {\"anchor\": \"y\", \"domain\": [0.0, 0.16799999999999998]}, \"yaxis\": {\"anchor\": \"x\", \"domain\": [0.9871875000000001, 1.0]}, \"xaxis2\": {\"anchor\": \"free\", \"domain\": [0.208, 0.376], \"position\": 0.9871875000000001}, \"xaxis3\": {\"anchor\": \"free\", \"domain\": [0.416, 0.584], \"position\": 0.9871875000000001}, \"xaxis4\": {\"anchor\": \"free\", \"domain\": [0.624, 0.792], \"position\": 0.9871875000000001}, \"xaxis5\": {\"anchor\": \"free\", \"domain\": [0.832, 1.0], \"position\": 0.9871875000000001}, \"xaxis6\": {\"anchor\": \"y2\", \"domain\": [0.0, 0.16799999999999998]}, \"yaxis2\": {\"anchor\": \"x6\", \"domain\": [0.9618750000000001, 0.9746875000000002]}, \"xaxis7\": {\"anchor\": \"free\", \"domain\": [0.208, 0.376], \"position\": 0.9618750000000001}, \"xaxis8\": {\"anchor\": \"free\", \"domain\": [0.416, 0.584], \"position\": 0.9618750000000001}, \"xaxis9\": {\"anchor\": \"free\", \"domain\": [0.624, 0.792], \"position\": 0.9618750000000001}, \"xaxis10\": {\"anchor\": \"free\", \"domain\": [0.832, 1.0], \"position\": 0.9618750000000001}, \"xaxis11\": {\"anchor\": \"y3\", \"domain\": [0.0, 0.16799999999999998]}, \"yaxis3\": {\"anchor\": \"x11\", \"domain\": [0.9365625000000002, 0.9493750000000002]}, \"xaxis12\": {\"anchor\": \"free\", \"domain\": [0.208, 0.376], \"position\": 0.9365625000000002}, \"xaxis13\": {\"anchor\": \"free\", \"domain\": [0.416, 0.584], \"position\": 0.9365625000000002}, \"xaxis14\": {\"anchor\": \"free\", \"domain\": [0.624, 0.792], \"position\": 0.9365625000000002}, \"xaxis15\": {\"anchor\": \"free\", \"domain\": [0.832, 1.0], \"position\": 0.9365625000000002}, \"xaxis16\": {\"anchor\": \"y4\", \"domain\": [0.0, 0.16799999999999998]}, \"yaxis4\": {\"anchor\": \"x16\", \"domain\": [0.9112500000000001, 0.9240625000000001]}, \"xaxis17\": {\"anchor\": \"free\", \"domain\": [0.208, 0.376], \"position\": 0.9112500000000001}, \"xaxis18\": {\"anchor\": \"free\", \"domain\": [0.416, 0.584], \"position\": 0.9112500000000001}, \"xaxis19\": {\"anchor\": \"free\", \"domain\": [0.624, 0.792], \"position\": 0.9112500000000001}, \"xaxis20\": {\"anchor\": \"free\", \"domain\": [0.832, 1.0], \"position\": 0.9112500000000001}, \"xaxis21\": {\"anchor\": \"y5\", \"domain\": [0.0, 0.16799999999999998]}, \"yaxis5\": {\"anchor\": \"x21\", \"domain\": [0.8859375, 0.89875]}, \"xaxis22\": {\"anchor\": \"free\", \"domain\": [0.208, 0.376], \"position\": 0.8859375}, \"xaxis23\": {\"anchor\": \"free\", \"domain\": [0.416, 0.584], \"position\": 0.8859375}, \"xaxis24\": {\"anchor\": \"free\", \"domain\": [0.624, 0.792], \"position\": 0.8859375}, \"xaxis25\": {\"anchor\": \"free\", \"domain\": [0.832, 1.0], \"position\": 0.8859375}, \"xaxis26\": {\"anchor\": \"y6\", \"domain\": [0.0, 0.16799999999999998]}, \"yaxis6\": {\"anchor\": \"x26\", \"domain\": [0.8606250000000002, 0.8734375000000002]}, \"xaxis27\": {\"anchor\": \"free\", \"domain\": [0.208, 0.376], \"position\": 0.8606250000000002}, \"xaxis28\": {\"anchor\": \"free\", \"domain\": [0.416, 0.584], \"position\": 0.8606250000000002}, \"xaxis29\": {\"anchor\": \"free\", \"domain\": [0.624, 0.792], \"position\": 0.8606250000000002}, \"xaxis30\": {\"anchor\": \"free\", \"domain\": [0.832, 1.0], \"position\": 0.8606250000000002}, \"xaxis31\": {\"anchor\": \"y7\", \"domain\": [0.0, 0.16799999999999998]}, \"yaxis7\": {\"anchor\": \"x31\", \"domain\": [0.8353125000000001, 0.8481250000000001]}, \"xaxis32\": {\"anchor\": \"free\", \"domain\": [0.208, 0.376], \"position\": 0.8353125000000001}, \"xaxis33\": {\"anchor\": \"free\", \"domain\": [0.416, 0.584], \"position\": 0.8353125000000001}, \"xaxis34\": {\"anchor\": \"free\", \"domain\": [0.624, 0.792], \"position\": 0.8353125000000001}, \"xaxis35\": {\"anchor\": \"free\", \"domain\": [0.832, 1.0], \"position\": 0.8353125000000001}, \"xaxis36\": {\"anchor\": \"y8\", \"domain\": [0.0, 0.16799999999999998]}, \"yaxis8\": {\"anchor\": \"x36\", \"domain\": [0.81, 0.8228125000000001]}, \"xaxis37\": {\"anchor\": \"free\", \"domain\": [0.208, 0.376], \"position\": 0.81}, \"xaxis38\": {\"anchor\": \"free\", \"domain\": [0.416, 0.584], \"position\": 0.81}, \"xaxis39\": {\"anchor\": \"free\", \"domain\": [0.624, 0.792], \"position\": 0.81}, \"xaxis40\": {\"anchor\": \"free\", \"domain\": [0.832, 1.0], \"position\": 0.81}, \"xaxis41\": {\"anchor\": \"y9\", \"domain\": [0.0, 0.16799999999999998]}, \"yaxis9\": {\"anchor\": \"x41\", \"domain\": [0.7846875000000001, 0.7975000000000001]}, \"xaxis42\": {\"anchor\": \"free\", \"domain\": [0.208, 0.376], \"position\": 0.7846875000000001}, \"xaxis43\": {\"anchor\": \"free\", \"domain\": [0.416, 0.584], \"position\": 0.7846875000000001}, \"xaxis44\": {\"anchor\": \"free\", \"domain\": [0.624, 0.792], \"position\": 0.7846875000000001}, \"xaxis45\": {\"anchor\": \"free\", \"domain\": [0.832, 1.0], \"position\": 0.7846875000000001}, \"xaxis46\": {\"anchor\": \"y10\", \"domain\": [0.0, 0.16799999999999998]}, \"yaxis10\": {\"anchor\": \"x46\", \"domain\": [0.7593750000000001, 0.7721875000000001]}, \"xaxis47\": {\"anchor\": \"free\", \"domain\": [0.208, 0.376], \"position\": 0.7593750000000001}, \"xaxis48\": {\"anchor\": \"free\", \"domain\": [0.416, 0.584], \"position\": 0.7593750000000001}, \"xaxis49\": {\"anchor\": \"free\", \"domain\": [0.624, 0.792], \"position\": 0.7593750000000001}, \"xaxis50\": {\"anchor\": \"free\", \"domain\": [0.832, 1.0], \"position\": 0.7593750000000001}, \"xaxis51\": {\"anchor\": \"y11\", \"domain\": [0.0, 0.16799999999999998]}, \"yaxis11\": {\"anchor\": \"x51\", \"domain\": [0.7340625000000001, 0.7468750000000001]}, \"xaxis52\": {\"anchor\": \"free\", \"domain\": [0.208, 0.376], \"position\": 0.7340625000000001}, \"xaxis53\": {\"anchor\": \"free\", \"domain\": [0.416, 0.584], \"position\": 0.7340625000000001}, \"xaxis54\": {\"anchor\": \"free\", \"domain\": [0.624, 0.792], \"position\": 0.7340625000000001}, \"xaxis55\": {\"anchor\": \"free\", \"domain\": [0.832, 1.0], \"position\": 0.7340625000000001}, \"xaxis56\": {\"anchor\": \"y12\", \"domain\": [0.0, 0.16799999999999998]}, \"yaxis12\": {\"anchor\": \"x56\", \"domain\": [0.7087500000000001, 0.7215625000000001]}, \"xaxis57\": {\"anchor\": \"free\", \"domain\": [0.208, 0.376], \"position\": 0.7087500000000001}, \"xaxis58\": {\"anchor\": \"free\", \"domain\": [0.416, 0.584], \"position\": 0.7087500000000001}, \"xaxis59\": {\"anchor\": \"free\", \"domain\": [0.624, 0.792], \"position\": 0.7087500000000001}, \"xaxis60\": {\"anchor\": \"free\", \"domain\": [0.832, 1.0], \"position\": 0.7087500000000001}, \"xaxis61\": {\"anchor\": \"y13\", \"domain\": [0.0, 0.16799999999999998]}, \"yaxis13\": {\"anchor\": \"x61\", \"domain\": [0.6834375000000001, 0.6962500000000001]}, \"xaxis62\": {\"anchor\": \"free\", \"domain\": [0.208, 0.376], \"position\": 0.6834375000000001}, \"xaxis63\": {\"anchor\": \"free\", \"domain\": [0.416, 0.584], \"position\": 0.6834375000000001}, \"xaxis64\": {\"anchor\": \"free\", \"domain\": [0.624, 0.792], \"position\": 0.6834375000000001}, \"xaxis65\": {\"anchor\": \"free\", \"domain\": [0.832, 1.0], \"position\": 0.6834375000000001}, \"xaxis66\": {\"anchor\": \"y14\", \"domain\": [0.0, 0.16799999999999998]}, \"yaxis14\": {\"anchor\": \"x66\", \"domain\": [0.6581250000000001, 0.6709375000000001]}, \"xaxis67\": {\"anchor\": \"free\", \"domain\": [0.208, 0.376], \"position\": 0.6581250000000001}, \"xaxis68\": {\"anchor\": \"free\", \"domain\": [0.416, 0.584], \"position\": 0.6581250000000001}, \"xaxis69\": {\"anchor\": \"free\", \"domain\": [0.624, 0.792], \"position\": 0.6581250000000001}, \"xaxis70\": {\"anchor\": \"free\", \"domain\": [0.832, 1.0], \"position\": 0.6581250000000001}, \"xaxis71\": {\"anchor\": \"y15\", \"domain\": [0.0, 0.16799999999999998]}, \"yaxis15\": {\"anchor\": \"x71\", \"domain\": [0.6328125, 0.645625]}, \"xaxis72\": {\"anchor\": \"free\", \"domain\": [0.208, 0.376], \"position\": 0.6328125}, \"xaxis73\": {\"anchor\": \"free\", \"domain\": [0.416, 0.584], \"position\": 0.6328125}, \"xaxis74\": {\"anchor\": \"free\", \"domain\": [0.624, 0.792], \"position\": 0.6328125}, \"xaxis75\": {\"anchor\": \"free\", \"domain\": [0.832, 1.0], \"position\": 0.6328125}, \"xaxis76\": {\"anchor\": \"y16\", \"domain\": [0.0, 0.16799999999999998]}, \"yaxis16\": {\"anchor\": \"x76\", \"domain\": [0.6075000000000002, 0.6203125000000002]}, \"xaxis77\": {\"anchor\": \"free\", \"domain\": [0.208, 0.376], \"position\": 0.6075000000000002}, \"xaxis78\": {\"anchor\": \"free\", \"domain\": [0.416, 0.584], \"position\": 0.6075000000000002}, \"xaxis79\": {\"anchor\": \"free\", \"domain\": [0.624, 0.792], \"position\": 0.6075000000000002}, \"xaxis80\": {\"anchor\": \"free\", \"domain\": [0.832, 1.0], \"position\": 0.6075000000000002}, \"xaxis81\": {\"anchor\": \"y17\", \"domain\": [0.0, 0.16799999999999998]}, \"yaxis17\": {\"anchor\": \"x81\", \"domain\": [0.5821875000000001, 0.5950000000000001]}, \"xaxis82\": {\"anchor\": \"free\", \"domain\": [0.208, 0.376], \"position\": 0.5821875000000001}, \"xaxis83\": {\"anchor\": \"free\", \"domain\": [0.416, 0.584], \"position\": 0.5821875000000001}, \"xaxis84\": {\"anchor\": \"free\", \"domain\": [0.624, 0.792], \"position\": 0.5821875000000001}, \"xaxis85\": {\"anchor\": \"free\", \"domain\": [0.832, 1.0], \"position\": 0.5821875000000001}, \"xaxis86\": {\"anchor\": \"y18\", \"domain\": [0.0, 0.16799999999999998]}, \"yaxis18\": {\"anchor\": \"x86\", \"domain\": [0.556875, 0.5696875]}, \"xaxis87\": {\"anchor\": \"free\", \"domain\": [0.208, 0.376], \"position\": 0.556875}, \"xaxis88\": {\"anchor\": \"free\", \"domain\": [0.416, 0.584], \"position\": 0.556875}, \"xaxis89\": {\"anchor\": \"free\", \"domain\": [0.624, 0.792], \"position\": 0.556875}, \"xaxis90\": {\"anchor\": \"free\", \"domain\": [0.832, 1.0], \"position\": 0.556875}, \"xaxis91\": {\"anchor\": \"y19\", \"domain\": [0.0, 0.16799999999999998]}, \"yaxis19\": {\"anchor\": \"x91\", \"domain\": [0.5315625, 0.544375]}, \"xaxis92\": {\"anchor\": \"free\", \"domain\": [0.208, 0.376], \"position\": 0.5315625}, \"xaxis93\": {\"anchor\": \"free\", \"domain\": [0.416, 0.584], \"position\": 0.5315625}, \"xaxis94\": {\"anchor\": \"free\", \"domain\": [0.624, 0.792], \"position\": 0.5315625}, \"xaxis95\": {\"anchor\": \"free\", \"domain\": [0.832, 1.0], \"position\": 0.5315625}, \"xaxis96\": {\"anchor\": \"y20\", \"domain\": [0.0, 0.16799999999999998]}, \"yaxis20\": {\"anchor\": \"x96\", \"domain\": [0.5062500000000001, 0.5190625000000001]}, \"xaxis97\": {\"anchor\": \"free\", \"domain\": [0.208, 0.376], \"position\": 0.5062500000000001}, \"xaxis98\": {\"anchor\": \"free\", \"domain\": [0.416, 0.584], \"position\": 0.5062500000000001}, \"xaxis99\": {\"anchor\": \"free\", \"domain\": [0.624, 0.792], \"position\": 0.5062500000000001}, \"xaxis100\": {\"anchor\": \"free\", \"domain\": [0.832, 1.0], \"position\": 0.5062500000000001}, \"xaxis101\": {\"anchor\": \"y21\", \"domain\": [0.0, 0.16799999999999998]}, \"yaxis21\": {\"anchor\": \"x101\", \"domain\": [0.4809375000000001, 0.4937500000000001]}, \"xaxis102\": {\"anchor\": \"free\", \"domain\": [0.208, 0.376], \"position\": 0.4809375000000001}, \"xaxis103\": {\"anchor\": \"free\", \"domain\": [0.416, 0.584], \"position\": 0.4809375000000001}, \"xaxis104\": {\"anchor\": \"free\", \"domain\": [0.624, 0.792], \"position\": 0.4809375000000001}, \"xaxis105\": {\"anchor\": \"free\", \"domain\": [0.832, 1.0], \"position\": 0.4809375000000001}, \"xaxis106\": {\"anchor\": \"y22\", \"domain\": [0.0, 0.16799999999999998]}, \"yaxis22\": {\"anchor\": \"x106\", \"domain\": [0.45562500000000006, 0.46843750000000006]}, \"xaxis107\": {\"anchor\": \"free\", \"domain\": [0.208, 0.376], \"position\": 0.45562500000000006}, \"xaxis108\": {\"anchor\": \"free\", \"domain\": [0.416, 0.584], \"position\": 0.45562500000000006}, \"xaxis109\": {\"anchor\": \"free\", \"domain\": [0.624, 0.792], \"position\": 0.45562500000000006}, \"xaxis110\": {\"anchor\": \"free\", \"domain\": [0.832, 1.0], \"position\": 0.45562500000000006}, \"xaxis111\": {\"anchor\": \"y23\", \"domain\": [0.0, 0.16799999999999998]}, \"yaxis23\": {\"anchor\": \"x111\", \"domain\": [0.4303125000000001, 0.4431250000000001]}, \"xaxis112\": {\"anchor\": \"free\", \"domain\": [0.208, 0.376], \"position\": 0.4303125000000001}, \"xaxis113\": {\"anchor\": \"free\", \"domain\": [0.416, 0.584], \"position\": 0.4303125000000001}, \"xaxis114\": {\"anchor\": \"free\", \"domain\": [0.624, 0.792], \"position\": 0.4303125000000001}, \"xaxis115\": {\"anchor\": \"free\", \"domain\": [0.832, 1.0], \"position\": 0.4303125000000001}, \"xaxis116\": {\"anchor\": \"y24\", \"domain\": [0.0, 0.16799999999999998]}, \"yaxis24\": {\"anchor\": \"x116\", \"domain\": [0.405, 0.41781250000000003]}, \"xaxis117\": {\"anchor\": \"free\", \"domain\": [0.208, 0.376], \"position\": 0.405}, \"xaxis118\": {\"anchor\": \"free\", \"domain\": [0.416, 0.584], \"position\": 0.405}, \"xaxis119\": {\"anchor\": \"free\", \"domain\": [0.624, 0.792], \"position\": 0.405}, \"xaxis120\": {\"anchor\": \"free\", \"domain\": [0.832, 1.0], \"position\": 0.405}, \"xaxis121\": {\"anchor\": \"y25\", \"domain\": [0.0, 0.16799999999999998]}, \"yaxis25\": {\"anchor\": \"x121\", \"domain\": [0.37968750000000007, 0.39250000000000007]}, \"xaxis122\": {\"anchor\": \"free\", \"domain\": [0.208, 0.376], \"position\": 0.37968750000000007}, \"xaxis123\": {\"anchor\": \"free\", \"domain\": [0.416, 0.584], \"position\": 0.37968750000000007}, \"xaxis124\": {\"anchor\": \"free\", \"domain\": [0.624, 0.792], \"position\": 0.37968750000000007}, \"xaxis125\": {\"anchor\": \"free\", \"domain\": [0.832, 1.0], \"position\": 0.37968750000000007}, \"xaxis126\": {\"anchor\": \"y26\", \"domain\": [0.0, 0.16799999999999998]}, \"yaxis26\": {\"anchor\": \"x126\", \"domain\": [0.35437500000000005, 0.36718750000000006]}, \"xaxis127\": {\"anchor\": \"free\", \"domain\": [0.208, 0.376], \"position\": 0.35437500000000005}, \"xaxis128\": {\"anchor\": \"free\", \"domain\": [0.416, 0.584], \"position\": 0.35437500000000005}, \"xaxis129\": {\"anchor\": \"free\", \"domain\": [0.624, 0.792], \"position\": 0.35437500000000005}, \"xaxis130\": {\"anchor\": \"free\", \"domain\": [0.832, 1.0], \"position\": 0.35437500000000005}, \"xaxis131\": {\"anchor\": \"y27\", \"domain\": [0.0, 0.16799999999999998]}, \"yaxis27\": {\"anchor\": \"x131\", \"domain\": [0.32906250000000004, 0.34187500000000004]}, \"xaxis132\": {\"anchor\": \"free\", \"domain\": [0.208, 0.376], \"position\": 0.32906250000000004}, \"xaxis133\": {\"anchor\": \"free\", \"domain\": [0.416, 0.584], \"position\": 0.32906250000000004}, \"xaxis134\": {\"anchor\": \"free\", \"domain\": [0.624, 0.792], \"position\": 0.32906250000000004}, \"xaxis135\": {\"anchor\": \"free\", \"domain\": [0.832, 1.0], \"position\": 0.32906250000000004}, \"xaxis136\": {\"anchor\": \"y28\", \"domain\": [0.0, 0.16799999999999998]}, \"yaxis28\": {\"anchor\": \"x136\", \"domain\": [0.3037500000000001, 0.3165625000000001]}, \"xaxis137\": {\"anchor\": \"free\", \"domain\": [0.208, 0.376], \"position\": 0.3037500000000001}, \"xaxis138\": {\"anchor\": \"free\", \"domain\": [0.416, 0.584], \"position\": 0.3037500000000001}, \"xaxis139\": {\"anchor\": \"free\", \"domain\": [0.624, 0.792], \"position\": 0.3037500000000001}, \"xaxis140\": {\"anchor\": \"free\", \"domain\": [0.832, 1.0], \"position\": 0.3037500000000001}, \"xaxis141\": {\"anchor\": \"y29\", \"domain\": [0.0, 0.16799999999999998]}, \"yaxis29\": {\"anchor\": \"x141\", \"domain\": [0.2784375, 0.29125]}, \"xaxis142\": {\"anchor\": \"free\", \"domain\": [0.208, 0.376], \"position\": 0.2784375}, \"xaxis143\": {\"anchor\": \"free\", \"domain\": [0.416, 0.584], \"position\": 0.2784375}, \"xaxis144\": {\"anchor\": \"free\", \"domain\": [0.624, 0.792], \"position\": 0.2784375}, \"xaxis145\": {\"anchor\": \"free\", \"domain\": [0.832, 1.0], \"position\": 0.2784375}, \"xaxis146\": {\"anchor\": \"y30\", \"domain\": [0.0, 0.16799999999999998]}, \"yaxis30\": {\"anchor\": \"x146\", \"domain\": [0.25312500000000004, 0.26593750000000005]}, \"xaxis147\": {\"anchor\": \"free\", \"domain\": [0.208, 0.376], \"position\": 0.25312500000000004}, \"xaxis148\": {\"anchor\": \"free\", \"domain\": [0.416, 0.584], \"position\": 0.25312500000000004}, \"xaxis149\": {\"anchor\": \"free\", \"domain\": [0.624, 0.792], \"position\": 0.25312500000000004}, \"xaxis150\": {\"anchor\": \"free\", \"domain\": [0.832, 1.0], \"position\": 0.25312500000000004}, \"xaxis151\": {\"anchor\": \"y31\", \"domain\": [0.0, 0.16799999999999998]}, \"yaxis31\": {\"anchor\": \"x151\", \"domain\": [0.22781250000000003, 0.24062500000000003]}, \"xaxis152\": {\"anchor\": \"free\", \"domain\": [0.208, 0.376], \"position\": 0.22781250000000003}, \"xaxis153\": {\"anchor\": \"free\", \"domain\": [0.416, 0.584], \"position\": 0.22781250000000003}, \"xaxis154\": {\"anchor\": \"free\", \"domain\": [0.624, 0.792], \"position\": 0.22781250000000003}, \"xaxis155\": {\"anchor\": \"free\", \"domain\": [0.832, 1.0], \"position\": 0.22781250000000003}, \"xaxis156\": {\"anchor\": \"y32\", \"domain\": [0.0, 0.16799999999999998]}, \"yaxis32\": {\"anchor\": \"x156\", \"domain\": [0.2025, 0.21531250000000002]}, \"xaxis157\": {\"anchor\": \"free\", \"domain\": [0.208, 0.376], \"position\": 0.2025}, \"xaxis158\": {\"anchor\": \"free\", \"domain\": [0.416, 0.584], \"position\": 0.2025}, \"xaxis159\": {\"anchor\": \"free\", \"domain\": [0.624, 0.792], \"position\": 0.2025}, \"xaxis160\": {\"anchor\": \"free\", \"domain\": [0.832, 1.0], \"position\": 0.2025}, \"xaxis161\": {\"anchor\": \"y33\", \"domain\": [0.0, 0.16799999999999998]}, \"yaxis33\": {\"anchor\": \"x161\", \"domain\": [0.1771875, 0.19]}, \"xaxis162\": {\"anchor\": \"free\", \"domain\": [0.208, 0.376], \"position\": 0.1771875}, \"xaxis163\": {\"anchor\": \"free\", \"domain\": [0.416, 0.584], \"position\": 0.1771875}, \"xaxis164\": {\"anchor\": \"free\", \"domain\": [0.624, 0.792], \"position\": 0.1771875}, \"xaxis165\": {\"anchor\": \"free\", \"domain\": [0.832, 1.0], \"position\": 0.1771875}, \"xaxis166\": {\"anchor\": \"y34\", \"domain\": [0.0, 0.16799999999999998]}, \"yaxis34\": {\"anchor\": \"x166\", \"domain\": [0.151875, 0.16468750000000001]}, \"xaxis167\": {\"anchor\": \"free\", \"domain\": [0.208, 0.376], \"position\": 0.151875}, \"xaxis168\": {\"anchor\": \"free\", \"domain\": [0.416, 0.584], \"position\": 0.151875}, \"xaxis169\": {\"anchor\": \"free\", \"domain\": [0.624, 0.792], \"position\": 0.151875}, \"xaxis170\": {\"anchor\": \"free\", \"domain\": [0.832, 1.0], \"position\": 0.151875}, \"xaxis171\": {\"anchor\": \"y35\", \"domain\": [0.0, 0.16799999999999998]}, \"yaxis35\": {\"anchor\": \"x171\", \"domain\": [0.1265625, 0.139375]}, \"xaxis172\": {\"anchor\": \"free\", \"domain\": [0.208, 0.376], \"position\": 0.1265625}, \"xaxis173\": {\"anchor\": \"free\", \"domain\": [0.416, 0.584], \"position\": 0.1265625}, \"xaxis174\": {\"anchor\": \"free\", \"domain\": [0.624, 0.792], \"position\": 0.1265625}, \"xaxis175\": {\"anchor\": \"free\", \"domain\": [0.832, 1.0], \"position\": 0.1265625}, \"xaxis176\": {\"anchor\": \"y36\", \"domain\": [0.0, 0.16799999999999998]}, \"yaxis36\": {\"anchor\": \"x176\", \"domain\": [0.10125, 0.11406250000000001]}, \"xaxis177\": {\"anchor\": \"free\", \"domain\": [0.208, 0.376], \"position\": 0.10125}, \"xaxis178\": {\"anchor\": \"free\", \"domain\": [0.416, 0.584], \"position\": 0.10125}, \"xaxis179\": {\"anchor\": \"free\", \"domain\": [0.624, 0.792], \"position\": 0.10125}, \"xaxis180\": {\"anchor\": \"free\", \"domain\": [0.832, 1.0], \"position\": 0.10125}, \"xaxis181\": {\"anchor\": \"y37\", \"domain\": [0.0, 0.16799999999999998]}, \"yaxis37\": {\"anchor\": \"x181\", \"domain\": [0.0759375, 0.08875000000000001]}, \"xaxis182\": {\"anchor\": \"free\", \"domain\": [0.208, 0.376], \"position\": 0.0759375}, \"xaxis183\": {\"anchor\": \"free\", \"domain\": [0.416, 0.584], \"position\": 0.0759375}, \"xaxis184\": {\"anchor\": \"free\", \"domain\": [0.624, 0.792], \"position\": 0.0759375}, \"xaxis185\": {\"anchor\": \"free\", \"domain\": [0.832, 1.0], \"position\": 0.0759375}, \"xaxis186\": {\"anchor\": \"y38\", \"domain\": [0.0, 0.16799999999999998]}, \"yaxis38\": {\"anchor\": \"x186\", \"domain\": [0.050625, 0.06343750000000001]}, \"xaxis187\": {\"anchor\": \"free\", \"domain\": [0.208, 0.376], \"position\": 0.050625}, \"xaxis188\": {\"anchor\": \"free\", \"domain\": [0.416, 0.584], \"position\": 0.050625}, \"xaxis189\": {\"anchor\": \"free\", \"domain\": [0.624, 0.792], \"position\": 0.050625}, \"xaxis190\": {\"anchor\": \"free\", \"domain\": [0.832, 1.0], \"position\": 0.050625}, \"xaxis191\": {\"anchor\": \"y39\", \"domain\": [0.0, 0.16799999999999998]}, \"yaxis39\": {\"anchor\": \"x191\", \"domain\": [0.0253125, 0.038125]}, \"xaxis192\": {\"anchor\": \"free\", \"domain\": [0.208, 0.376], \"position\": 0.0253125}, \"xaxis193\": {\"anchor\": \"free\", \"domain\": [0.416, 0.584], \"position\": 0.0253125}, \"xaxis194\": {\"anchor\": \"free\", \"domain\": [0.624, 0.792], \"position\": 0.0253125}, \"xaxis195\": {\"anchor\": \"free\", \"domain\": [0.832, 1.0], \"position\": 0.0253125}, \"xaxis196\": {\"anchor\": \"y40\", \"domain\": [0.0, 0.16799999999999998]}, \"yaxis40\": {\"anchor\": \"x196\", \"domain\": [0.0, 0.0128125]}, \"xaxis197\": {\"anchor\": \"free\", \"domain\": [0.208, 0.376], \"position\": 0.0}, \"xaxis198\": {\"anchor\": \"free\", \"domain\": [0.416, 0.584], \"position\": 0.0}, \"xaxis199\": {\"anchor\": \"free\", \"domain\": [0.624, 0.792], \"position\": 0.0}, \"xaxis200\": {\"anchor\": \"free\", \"domain\": [0.832, 1.0], \"position\": 0.0}, \"height\": 12000, \"width\": 1500, \"title\": {\"text\": \"Most characteristic weekday dist\"}, \"showlegend\": false}, {\"showLink\": false, \"linkText\": \"Export to plot.ly\", \"plotlyServerURL\": \"https://plot.ly\"})});</script>"
      ]
     },
     "metadata": {},
     "output_type": "display_data"
    }
   ],
   "source": [
    "def plot_hist(data_list):\n",
    "    import plotly.graph_objs as go\n",
    "    from plotly.offline import init_notebook_mode, iplot\n",
    "    from math import ceil\n",
    "    from plotly import tools\n",
    "    \n",
    "    init_notebook_mode(connected=True)\n",
    "    \n",
    "    from json import loads\n",
    "    import colorlover as cl\n",
    "\n",
    "    no = len(data_list)\n",
    "    \n",
    "    colsNo = 5\n",
    "    rowsNo = ceil(no/colsNo)\n",
    "    \n",
    "    color = cl.scales['11']['div']['RdBu']\n",
    "    \n",
    "    select = [1,2,-1,-2,3]\n",
    "    color = [color[i] for i in select]\n",
    "    \n",
    "    fig = tools.make_subplots(rows=rowsNo, \n",
    "                              cols=colsNo, \n",
    "                              subplot_titles=['<b>{}</b><br>(JSD: {:.2f})'.format(loads(x).get('group_topic', ''),\n",
    "                                                                    loads(x).get('jsd', '')) for x in data_list],\n",
    "                              \n",
    "                              shared_yaxes=True\n",
    "                             )\n",
    "\n",
    "    fig['layout'].update(height=rowsNo*300, width=colsNo*300, title='Most characteristic weekday dist', showlegend=False)\n",
    "\n",
    "    i = 0\n",
    "    \n",
    "    rows = [x+1 for x in range(rowsNo)]\n",
    "    cols = [x+1 for x in range(colsNo)]\n",
    "    \n",
    "    combos = [(i,j) for i in rows for j in cols]\n",
    "    \n",
    "    ci = 0\n",
    "    \n",
    "    for data in data_list:\n",
    "        ci += 1\n",
    "\n",
    "        c = color[(ci % colsNo)]\n",
    "        combo = combos[i]\n",
    "        \n",
    "        cur_row = combo[0]\n",
    "        cur_col = combo[1]\n",
    "        \n",
    "        data = loads(data)\n",
    "\n",
    "        x = [x+1 for x in range(7)]\n",
    "        y1 = data.get('weekday_topic_dist', [0 for x in range(6)])\n",
    "        y2 = data.get('weekday_total_dist', [0 for x in range(6)])\n",
    "\n",
    "        title = data.get('group_topic', 'na')\n",
    "\n",
    "        fig.append_trace(go.Bar(x=x,y=y1,marker=dict(color=[c for i in range(7)])), cur_row, cur_col)\n",
    "        fig.append_trace(go.Scatter(x=x,y=y2,mode='lines',line=dict(color='gray',width=3,shape='spline')), cur_row, cur_col)\n",
    "        \n",
    "        i += 1\n",
    "        \n",
    "    iplot(fig, filename='make-subplots-multiple-with-titles')\n",
    "    \n",
    "entries = jsDivergence.toJSON().take(200)\n",
    "\n",
    "plot_hist(entries)"
   ]
  },
  {
   "cell_type": "markdown",
   "metadata": {},
   "source": [
    "#### Calculate 'New Years Resolutions Effect' to establish which tags gained most interest inbetween december/january"
   ]
  },
  {
   "cell_type": "code",
   "execution_count": 18,
   "metadata": {},
   "outputs": [
    {
     "ename": "AnalysisException",
     "evalue": "\"Can't extract value from topic#6387: need struct type but got string;\"",
     "output_type": "error",
     "traceback": [
      "\u001b[0;31m---------------------------------------------------------------------------\u001b[0m",
      "\u001b[0;31mPy4JJavaError\u001b[0m                             Traceback (most recent call last)",
      "\u001b[0;32m/usr/local/spark/python/pyspark/sql/utils.py\u001b[0m in \u001b[0;36mdeco\u001b[0;34m(*a, **kw)\u001b[0m\n\u001b[1;32m     62\u001b[0m         \u001b[0;32mtry\u001b[0m\u001b[0;34m:\u001b[0m\u001b[0;34m\u001b[0m\u001b[0m\n\u001b[0;32m---> 63\u001b[0;31m             \u001b[0;32mreturn\u001b[0m \u001b[0mf\u001b[0m\u001b[0;34m(\u001b[0m\u001b[0;34m*\u001b[0m\u001b[0ma\u001b[0m\u001b[0;34m,\u001b[0m \u001b[0;34m**\u001b[0m\u001b[0mkw\u001b[0m\u001b[0;34m)\u001b[0m\u001b[0;34m\u001b[0m\u001b[0m\n\u001b[0m\u001b[1;32m     64\u001b[0m         \u001b[0;32mexcept\u001b[0m \u001b[0mpy4j\u001b[0m\u001b[0;34m.\u001b[0m\u001b[0mprotocol\u001b[0m\u001b[0;34m.\u001b[0m\u001b[0mPy4JJavaError\u001b[0m \u001b[0;32mas\u001b[0m \u001b[0me\u001b[0m\u001b[0;34m:\u001b[0m\u001b[0;34m\u001b[0m\u001b[0m\n",
      "\u001b[0;32m/usr/local/spark/python/lib/py4j-0.10.7-src.zip/py4j/protocol.py\u001b[0m in \u001b[0;36mget_return_value\u001b[0;34m(answer, gateway_client, target_id, name)\u001b[0m\n\u001b[1;32m    327\u001b[0m                     \u001b[0;34m\"An error occurred while calling {0}{1}{2}.\\n\"\u001b[0m\u001b[0;34m.\u001b[0m\u001b[0;34m\u001b[0m\u001b[0m\n\u001b[0;32m--> 328\u001b[0;31m                     format(target_id, \".\", name), value)\n\u001b[0m\u001b[1;32m    329\u001b[0m             \u001b[0;32melse\u001b[0m\u001b[0;34m:\u001b[0m\u001b[0;34m\u001b[0m\u001b[0m\n",
      "\u001b[0;31mPy4JJavaError\u001b[0m: An error occurred while calling o377.select.\n: org.apache.spark.sql.AnalysisException: Can't extract value from topic#6387: need struct type but got string;\n\tat org.apache.spark.sql.catalyst.expressions.ExtractValue$.apply(complexTypeExtractors.scala:73)\n\tat org.apache.spark.sql.catalyst.analysis.Analyzer$ResolveReferences$.org$apache$spark$sql$catalyst$analysis$Analyzer$ResolveReferences$$resolve(Analyzer.scala:896)\n\tat org.apache.spark.sql.catalyst.analysis.Analyzer$ResolveReferences$$anonfun$org$apache$spark$sql$catalyst$analysis$Analyzer$ResolveReferences$$resolve$2.apply(Analyzer.scala:897)\n\tat org.apache.spark.sql.catalyst.analysis.Analyzer$ResolveReferences$$anonfun$org$apache$spark$sql$catalyst$analysis$Analyzer$ResolveReferences$$resolve$2.apply(Analyzer.scala:897)\n\tat org.apache.spark.sql.catalyst.trees.TreeNode$$anonfun$4.apply(TreeNode.scala:326)\n\tat org.apache.spark.sql.catalyst.trees.TreeNode.mapProductIterator(TreeNode.scala:187)\n\tat org.apache.spark.sql.catalyst.trees.TreeNode.mapChildren(TreeNode.scala:324)\n\tat org.apache.spark.sql.catalyst.analysis.Analyzer$ResolveReferences$.org$apache$spark$sql$catalyst$analysis$Analyzer$ResolveReferences$$resolve(Analyzer.scala:897)\n\tat org.apache.spark.sql.catalyst.analysis.Analyzer$ResolveReferences$$anonfun$apply$9$$anonfun$applyOrElse$35.apply(Analyzer.scala:957)\n\tat org.apache.spark.sql.catalyst.analysis.Analyzer$ResolveReferences$$anonfun$apply$9$$anonfun$applyOrElse$35.apply(Analyzer.scala:957)\n\tat org.apache.spark.sql.catalyst.plans.QueryPlan$$anonfun$1.apply(QueryPlan.scala:105)\n\tat org.apache.spark.sql.catalyst.plans.QueryPlan$$anonfun$1.apply(QueryPlan.scala:105)\n\tat org.apache.spark.sql.catalyst.trees.CurrentOrigin$.withOrigin(TreeNode.scala:70)\n\tat org.apache.spark.sql.catalyst.plans.QueryPlan.transformExpression$1(QueryPlan.scala:104)\n\tat org.apache.spark.sql.catalyst.plans.QueryPlan.org$apache$spark$sql$catalyst$plans$QueryPlan$$recursiveTransform$1(QueryPlan.scala:116)\n\tat org.apache.spark.sql.catalyst.plans.QueryPlan$$anonfun$org$apache$spark$sql$catalyst$plans$QueryPlan$$recursiveTransform$1$2.apply(QueryPlan.scala:121)\n\tat scala.collection.TraversableLike$$anonfun$map$1.apply(TraversableLike.scala:234)\n\tat scala.collection.TraversableLike$$anonfun$map$1.apply(TraversableLike.scala:234)\n\tat scala.collection.mutable.ResizableArray$class.foreach(ResizableArray.scala:59)\n\tat scala.collection.mutable.ArrayBuffer.foreach(ArrayBuffer.scala:48)\n\tat scala.collection.TraversableLike$class.map(TraversableLike.scala:234)\n\tat scala.collection.AbstractTraversable.map(Traversable.scala:104)\n\tat org.apache.spark.sql.catalyst.plans.QueryPlan.org$apache$spark$sql$catalyst$plans$QueryPlan$$recursiveTransform$1(QueryPlan.scala:121)\n\tat org.apache.spark.sql.catalyst.plans.QueryPlan$$anonfun$2.apply(QueryPlan.scala:126)\n\tat org.apache.spark.sql.catalyst.trees.TreeNode.mapProductIterator(TreeNode.scala:187)\n\tat org.apache.spark.sql.catalyst.plans.QueryPlan.mapExpressions(QueryPlan.scala:126)\n\tat org.apache.spark.sql.catalyst.analysis.Analyzer$ResolveReferences$$anonfun$apply$9.applyOrElse(Analyzer.scala:957)\n\tat org.apache.spark.sql.catalyst.analysis.Analyzer$ResolveReferences$$anonfun$apply$9.applyOrElse(Analyzer.scala:900)\n\tat org.apache.spark.sql.catalyst.plans.logical.AnalysisHelper$$anonfun$resolveOperatorsUp$1$$anonfun$apply$1.apply(AnalysisHelper.scala:90)\n\tat org.apache.spark.sql.catalyst.plans.logical.AnalysisHelper$$anonfun$resolveOperatorsUp$1$$anonfun$apply$1.apply(AnalysisHelper.scala:90)\n\tat org.apache.spark.sql.catalyst.trees.CurrentOrigin$.withOrigin(TreeNode.scala:70)\n\tat org.apache.spark.sql.catalyst.plans.logical.AnalysisHelper$$anonfun$resolveOperatorsUp$1.apply(AnalysisHelper.scala:89)\n\tat org.apache.spark.sql.catalyst.plans.logical.AnalysisHelper$$anonfun$resolveOperatorsUp$1.apply(AnalysisHelper.scala:86)\n\tat org.apache.spark.sql.catalyst.plans.logical.AnalysisHelper$.allowInvokingTransformsInAnalyzer(AnalysisHelper.scala:194)\n\tat org.apache.spark.sql.catalyst.plans.logical.AnalysisHelper$class.resolveOperatorsUp(AnalysisHelper.scala:86)\n\tat org.apache.spark.sql.catalyst.plans.logical.LogicalPlan.resolveOperatorsUp(LogicalPlan.scala:29)\n\tat org.apache.spark.sql.catalyst.analysis.Analyzer$ResolveReferences$.apply(Analyzer.scala:900)\n\tat org.apache.spark.sql.catalyst.analysis.Analyzer$ResolveReferences$.apply(Analyzer.scala:758)\n\tat org.apache.spark.sql.catalyst.rules.RuleExecutor$$anonfun$execute$1$$anonfun$apply$1.apply(RuleExecutor.scala:87)\n\tat org.apache.spark.sql.catalyst.rules.RuleExecutor$$anonfun$execute$1$$anonfun$apply$1.apply(RuleExecutor.scala:84)\n\tat scala.collection.LinearSeqOptimized$class.foldLeft(LinearSeqOptimized.scala:124)\n\tat scala.collection.immutable.List.foldLeft(List.scala:84)\n\tat org.apache.spark.sql.catalyst.rules.RuleExecutor$$anonfun$execute$1.apply(RuleExecutor.scala:84)\n\tat org.apache.spark.sql.catalyst.rules.RuleExecutor$$anonfun$execute$1.apply(RuleExecutor.scala:76)\n\tat scala.collection.immutable.List.foreach(List.scala:392)\n\tat org.apache.spark.sql.catalyst.rules.RuleExecutor.execute(RuleExecutor.scala:76)\n\tat org.apache.spark.sql.catalyst.analysis.Analyzer.org$apache$spark$sql$catalyst$analysis$Analyzer$$executeSameContext(Analyzer.scala:127)\n\tat org.apache.spark.sql.catalyst.analysis.Analyzer.execute(Analyzer.scala:121)\n\tat org.apache.spark.sql.catalyst.analysis.Analyzer$$anonfun$executeAndCheck$1.apply(Analyzer.scala:106)\n\tat org.apache.spark.sql.catalyst.analysis.Analyzer$$anonfun$executeAndCheck$1.apply(Analyzer.scala:105)\n\tat org.apache.spark.sql.catalyst.plans.logical.AnalysisHelper$.markInAnalyzer(AnalysisHelper.scala:201)\n\tat org.apache.spark.sql.catalyst.analysis.Analyzer.executeAndCheck(Analyzer.scala:105)\n\tat org.apache.spark.sql.execution.QueryExecution.analyzed$lzycompute(QueryExecution.scala:57)\n\tat org.apache.spark.sql.execution.QueryExecution.analyzed(QueryExecution.scala:55)\n\tat org.apache.spark.sql.execution.QueryExecution.assertAnalyzed(QueryExecution.scala:47)\n\tat org.apache.spark.sql.Dataset$.ofRows(Dataset.scala:79)\n\tat org.apache.spark.sql.Dataset.org$apache$spark$sql$Dataset$$withPlan(Dataset.scala:3407)\n\tat org.apache.spark.sql.Dataset.select(Dataset.scala:1335)\n\tat sun.reflect.NativeMethodAccessorImpl.invoke0(Native Method)\n\tat sun.reflect.NativeMethodAccessorImpl.invoke(NativeMethodAccessorImpl.java:62)\n\tat sun.reflect.DelegatingMethodAccessorImpl.invoke(DelegatingMethodAccessorImpl.java:43)\n\tat java.lang.reflect.Method.invoke(Method.java:498)\n\tat py4j.reflection.MethodInvoker.invoke(MethodInvoker.java:244)\n\tat py4j.reflection.ReflectionEngine.invoke(ReflectionEngine.java:357)\n\tat py4j.Gateway.invoke(Gateway.java:282)\n\tat py4j.commands.AbstractCommand.invokeMethod(AbstractCommand.java:132)\n\tat py4j.commands.CallCommand.execute(CallCommand.java:79)\n\tat py4j.GatewayConnection.run(GatewayConnection.java:238)\n\tat java.lang.Thread.run(Thread.java:748)\n",
      "\nDuring handling of the above exception, another exception occurred:\n",
      "\u001b[0;31mAnalysisException\u001b[0m                         Traceback (most recent call last)",
      "\u001b[0;32m<ipython-input-18-9c07d5730516>\u001b[0m in \u001b[0;36m<module>\u001b[0;34m\u001b[0m\n\u001b[1;32m      2\u001b[0m \u001b[0mt\u001b[0m \u001b[0;34m=\u001b[0m \u001b[0mdf\u001b[0m\u001b[0;31m \u001b[0m\u001b[0;31m\\\u001b[0m\u001b[0;34m\u001b[0m\u001b[0m\n\u001b[1;32m      3\u001b[0m     \u001b[0;34m.\u001b[0m\u001b[0mselect\u001b[0m\u001b[0;34m(\u001b[0m\u001b[0mexplode\u001b[0m\u001b[0;34m(\u001b[0m\u001b[0mcol\u001b[0m\u001b[0;34m(\u001b[0m\u001b[0;34m\"group.group_topics\"\u001b[0m\u001b[0;34m)\u001b[0m\u001b[0;34m)\u001b[0m\u001b[0;34m.\u001b[0m\u001b[0malias\u001b[0m\u001b[0;34m(\u001b[0m\u001b[0;34m\"topic\"\u001b[0m\u001b[0;34m)\u001b[0m\u001b[0;34m)\u001b[0m\u001b[0;31m \u001b[0m\u001b[0;31m\\\u001b[0m\u001b[0;34m\u001b[0m\u001b[0m\n\u001b[0;32m----> 4\u001b[0;31m     \u001b[0;34m.\u001b[0m\u001b[0mselect\u001b[0m\u001b[0;34m(\u001b[0m\u001b[0mcol\u001b[0m\u001b[0;34m(\u001b[0m\u001b[0;34m\"topic\"\u001b[0m\u001b[0;34m)\u001b[0m\u001b[0;34m.\u001b[0m\u001b[0mgetItem\u001b[0m\u001b[0;34m(\u001b[0m\u001b[0;34m\"urlkey\"\u001b[0m\u001b[0;34m)\u001b[0m\u001b[0;34m.\u001b[0m\u001b[0malias\u001b[0m\u001b[0;34m(\u001b[0m\u001b[0;34m\"topic\"\u001b[0m\u001b[0;34m)\u001b[0m\u001b[0;34m)\u001b[0m\u001b[0;31m \u001b[0m\u001b[0;31m\\\u001b[0m\u001b[0;34m\u001b[0m\u001b[0m\n\u001b[0m\u001b[1;32m      5\u001b[0m     \u001b[0;34m.\u001b[0m\u001b[0mdistinct\u001b[0m\u001b[0;34m(\u001b[0m\u001b[0;34m)\u001b[0m\u001b[0;34m\u001b[0m\u001b[0m\n\u001b[1;32m      6\u001b[0m \u001b[0;34m\u001b[0m\u001b[0m\n",
      "\u001b[0;32m/usr/local/spark/python/pyspark/sql/dataframe.py\u001b[0m in \u001b[0;36mselect\u001b[0;34m(self, *cols)\u001b[0m\n\u001b[1;32m   1318\u001b[0m         \u001b[0;34m[\u001b[0m\u001b[0mRow\u001b[0m\u001b[0;34m(\u001b[0m\u001b[0mname\u001b[0m\u001b[0;34m=\u001b[0m\u001b[0;34mu'Alice'\u001b[0m\u001b[0;34m,\u001b[0m \u001b[0mage\u001b[0m\u001b[0;34m=\u001b[0m\u001b[0;36m12\u001b[0m\u001b[0;34m)\u001b[0m\u001b[0;34m,\u001b[0m \u001b[0mRow\u001b[0m\u001b[0;34m(\u001b[0m\u001b[0mname\u001b[0m\u001b[0;34m=\u001b[0m\u001b[0;34mu'Bob'\u001b[0m\u001b[0;34m,\u001b[0m \u001b[0mage\u001b[0m\u001b[0;34m=\u001b[0m\u001b[0;36m15\u001b[0m\u001b[0;34m)\u001b[0m\u001b[0;34m]\u001b[0m\u001b[0;34m\u001b[0m\u001b[0m\n\u001b[1;32m   1319\u001b[0m         \"\"\"\n\u001b[0;32m-> 1320\u001b[0;31m         \u001b[0mjdf\u001b[0m \u001b[0;34m=\u001b[0m \u001b[0mself\u001b[0m\u001b[0;34m.\u001b[0m\u001b[0m_jdf\u001b[0m\u001b[0;34m.\u001b[0m\u001b[0mselect\u001b[0m\u001b[0;34m(\u001b[0m\u001b[0mself\u001b[0m\u001b[0;34m.\u001b[0m\u001b[0m_jcols\u001b[0m\u001b[0;34m(\u001b[0m\u001b[0;34m*\u001b[0m\u001b[0mcols\u001b[0m\u001b[0;34m)\u001b[0m\u001b[0;34m)\u001b[0m\u001b[0;34m\u001b[0m\u001b[0m\n\u001b[0m\u001b[1;32m   1321\u001b[0m         \u001b[0;32mreturn\u001b[0m \u001b[0mDataFrame\u001b[0m\u001b[0;34m(\u001b[0m\u001b[0mjdf\u001b[0m\u001b[0;34m,\u001b[0m \u001b[0mself\u001b[0m\u001b[0;34m.\u001b[0m\u001b[0msql_ctx\u001b[0m\u001b[0;34m)\u001b[0m\u001b[0;34m\u001b[0m\u001b[0m\n\u001b[1;32m   1322\u001b[0m \u001b[0;34m\u001b[0m\u001b[0m\n",
      "\u001b[0;32m/usr/local/spark/python/lib/py4j-0.10.7-src.zip/py4j/java_gateway.py\u001b[0m in \u001b[0;36m__call__\u001b[0;34m(self, *args)\u001b[0m\n\u001b[1;32m   1255\u001b[0m         \u001b[0manswer\u001b[0m \u001b[0;34m=\u001b[0m \u001b[0mself\u001b[0m\u001b[0;34m.\u001b[0m\u001b[0mgateway_client\u001b[0m\u001b[0;34m.\u001b[0m\u001b[0msend_command\u001b[0m\u001b[0;34m(\u001b[0m\u001b[0mcommand\u001b[0m\u001b[0;34m)\u001b[0m\u001b[0;34m\u001b[0m\u001b[0m\n\u001b[1;32m   1256\u001b[0m         return_value = get_return_value(\n\u001b[0;32m-> 1257\u001b[0;31m             answer, self.gateway_client, self.target_id, self.name)\n\u001b[0m\u001b[1;32m   1258\u001b[0m \u001b[0;34m\u001b[0m\u001b[0m\n\u001b[1;32m   1259\u001b[0m         \u001b[0;32mfor\u001b[0m \u001b[0mtemp_arg\u001b[0m \u001b[0;32min\u001b[0m \u001b[0mtemp_args\u001b[0m\u001b[0;34m:\u001b[0m\u001b[0;34m\u001b[0m\u001b[0m\n",
      "\u001b[0;32m/usr/local/spark/python/pyspark/sql/utils.py\u001b[0m in \u001b[0;36mdeco\u001b[0;34m(*a, **kw)\u001b[0m\n\u001b[1;32m     67\u001b[0m                                              e.java_exception.getStackTrace()))\n\u001b[1;32m     68\u001b[0m             \u001b[0;32mif\u001b[0m \u001b[0ms\u001b[0m\u001b[0;34m.\u001b[0m\u001b[0mstartswith\u001b[0m\u001b[0;34m(\u001b[0m\u001b[0;34m'org.apache.spark.sql.AnalysisException: '\u001b[0m\u001b[0;34m)\u001b[0m\u001b[0;34m:\u001b[0m\u001b[0;34m\u001b[0m\u001b[0m\n\u001b[0;32m---> 69\u001b[0;31m                 \u001b[0;32mraise\u001b[0m \u001b[0mAnalysisException\u001b[0m\u001b[0;34m(\u001b[0m\u001b[0ms\u001b[0m\u001b[0;34m.\u001b[0m\u001b[0msplit\u001b[0m\u001b[0;34m(\u001b[0m\u001b[0;34m': '\u001b[0m\u001b[0;34m,\u001b[0m \u001b[0;36m1\u001b[0m\u001b[0;34m)\u001b[0m\u001b[0;34m[\u001b[0m\u001b[0;36m1\u001b[0m\u001b[0;34m]\u001b[0m\u001b[0;34m,\u001b[0m \u001b[0mstackTrace\u001b[0m\u001b[0;34m)\u001b[0m\u001b[0;34m\u001b[0m\u001b[0m\n\u001b[0m\u001b[1;32m     70\u001b[0m             \u001b[0;32mif\u001b[0m \u001b[0ms\u001b[0m\u001b[0;34m.\u001b[0m\u001b[0mstartswith\u001b[0m\u001b[0;34m(\u001b[0m\u001b[0;34m'org.apache.spark.sql.catalyst.analysis'\u001b[0m\u001b[0;34m)\u001b[0m\u001b[0;34m:\u001b[0m\u001b[0;34m\u001b[0m\u001b[0m\n\u001b[1;32m     71\u001b[0m                 \u001b[0;32mraise\u001b[0m \u001b[0mAnalysisException\u001b[0m\u001b[0;34m(\u001b[0m\u001b[0ms\u001b[0m\u001b[0;34m.\u001b[0m\u001b[0msplit\u001b[0m\u001b[0;34m(\u001b[0m\u001b[0;34m': '\u001b[0m\u001b[0;34m,\u001b[0m \u001b[0;36m1\u001b[0m\u001b[0;34m)\u001b[0m\u001b[0;34m[\u001b[0m\u001b[0;36m1\u001b[0m\u001b[0;34m]\u001b[0m\u001b[0;34m,\u001b[0m \u001b[0mstackTrace\u001b[0m\u001b[0;34m)\u001b[0m\u001b[0;34m\u001b[0m\u001b[0m\n",
      "\u001b[0;31mAnalysisException\u001b[0m: \"Can't extract value from topic#6387: need struct type but got string;\""
     ]
    }
   ],
   "source": [
    "# all available topics (if occured in one month and not other)\n",
    "t = df \\\n",
    "    .select(explode(col(\"group.group_topics\")).alias(\"topic\")) \\\n",
    "    .select(col(\"topic\").getItem(\"urlkey\").alias(\"topic\")) \\\n",
    "    .distinct()\n",
    "\n",
    "# select topics from january, 2019\n",
    "m1 = dfWithEventTimeParts \\\n",
    "    .where((col(\"event_time_parts\")[0] == '2018') & (col(\"event_time_parts\")[2] == '5')) \\\n",
    "    .select(explode(\"group.group_topics\").alias(\"topic\")) \\\n",
    "    .withColumn(\"topic_m1\", col(\"topic\").getItem(\"urlkey\")) \\\n",
    "    .groupBy(\"topic_m1\") \\\n",
    "    .count() \\\n",
    "    .alias(\"m1\")\n",
    "\n",
    "# select topics from december, 2018\n",
    "m2 = dfWithEventTimeParts \\\n",
    "    .where((col(\"event_time_parts\")[0] == '2018') & (col(\"event_time_parts\")[2] == '4')) \\\n",
    "    .select(explode(\"group.group_topics\").alias(\"topic\")) \\\n",
    "    .withColumn(\"topic_m2\", col(\"topic\").getItem(\"urlkey\")) \\\n",
    "    .groupBy(\"topic_m2\") \\\n",
    "    .count() \\\n",
    "    .alias(\"m2\")\n",
    "\n",
    "# calculate increase in interest per topic & select 10 highest\n",
    "increase = t \\\n",
    "    .join(m2, t.topic == m2.topic_m2, how='full') \\\n",
    "    .join(m1, t.topic == m1.topic_m1, how='full') \\\n",
    "    .withColumn(\"m1\", coalesce(col(\"m1.count\"), lit(\"0\"))) \\\n",
    "    .withColumn(\"m2\", coalesce(col(\"m2.count\"), lit(\"0\"))) \\\n",
    "    .select(col(\"topic\"), col(\"m1\"), col(\"m2\")) \\\n",
    "    .withColumn(\"change\", ((col(\"m1\")+col(\"m2\"))/2)*(col(\"m1\")/col(\"m2\"))) \\\n",
    "    .sort(col(\"change\").desc())\n",
    "\n",
    "increase.cache()\n",
    "\n",
    "increase.limit(20).show()\n",
    "\n",
    "# show topics that were absent in december, 2018 but appeared in january, 2019\n",
    "new_topics = increase \\\n",
    "    .where((col(\"m1\") > 0) & (col(\"m2\") == 0))\n",
    "\n",
    "new_topics.show()"
   ]
  }
 ],
 "metadata": {
  "kernelspec": {
   "display_name": "Python 3",
   "language": "python",
   "name": "python3"
  },
  "language_info": {
   "codemirror_mode": {
    "name": "ipython",
    "version": 3
   },
   "file_extension": ".py",
   "mimetype": "text/x-python",
   "name": "python",
   "nbconvert_exporter": "python",
   "pygments_lexer": "ipython3",
   "version": "3.6.6"
  }
 },
 "nbformat": 4,
 "nbformat_minor": 2
}
